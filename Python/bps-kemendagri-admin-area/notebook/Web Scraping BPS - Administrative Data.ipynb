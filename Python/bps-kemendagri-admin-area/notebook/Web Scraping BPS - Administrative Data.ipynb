{
 "cells": [
  {
   "cell_type": "markdown",
   "metadata": {},
   "source": [
    "# Web Scraping BPS - Administrative Data"
   ]
  },
  {
   "cell_type": "markdown",
   "metadata": {},
   "source": [
    "---"
   ]
  },
  {
   "cell_type": "markdown",
   "metadata": {},
   "source": [
    "For introduction of Selenium, please be kind to open [**this site**](https://www.scrapingbee.com/blog/selenium-python/)"
   ]
  },
  {
   "cell_type": "markdown",
   "metadata": {},
   "source": [
    "## Import modules"
   ]
  },
  {
   "cell_type": "code",
   "execution_count": 305,
   "metadata": {
    "scrolled": true
   },
   "outputs": [
    {
     "name": "stdout",
     "output_type": "stream",
     "text": [
      "Note: you may need to restart the kernel to use updated packages.\n"
     ]
    }
   ],
   "source": [
    "%pip freeze > requirements.txt"
   ]
  },
  {
   "cell_type": "code",
   "execution_count": 491,
   "metadata": {
    "ExecuteTime": {
     "end_time": "2020-06-19T23:39:06.502572Z",
     "start_time": "2020-06-19T23:39:06.497076Z"
    }
   },
   "outputs": [],
   "source": [
    "# Module for web scraping\n",
    "from selenium import webdriver\n",
    "# Module for data manipulation\n",
    "import pandas as pd\n",
    "from bs4 import BeautifulSoup\n",
    "# Module for dropdown selector\n",
    "from selenium.webdriver.support.ui import Select"
   ]
  },
  {
   "cell_type": "markdown",
   "metadata": {},
   "source": [
    "## Load the Chromedriver"
   ]
  },
  {
   "cell_type": "markdown",
   "metadata": {},
   "source": [
    "Read how to download webdriver for Chrome [**here**]('https://chromedriver.chromium.org/downloads')"
   ]
  },
  {
   "cell_type": "code",
   "execution_count": 492,
   "metadata": {
    "ExecuteTime": {
     "end_time": "2020-06-19T23:29:33.659375Z",
     "start_time": "2020-06-19T23:29:18.312261Z"
    }
   },
   "outputs": [],
   "source": [
    "DRIVER_PATH = '../bin/chromedriver'\n",
    "driver = webdriver.Chrome(executable_path = DRIVER_PATH)\n",
    "driver.get('https://sig-dev.bps.go.id/webgis/pencariankodenama')"
   ]
  },
  {
   "cell_type": "markdown",
   "metadata": {},
   "source": [
    "## Core Procedure"
   ]
  },
  {
   "cell_type": "markdown",
   "metadata": {},
   "source": [
    "### Select the panel"
   ]
  },
  {
   "cell_type": "code",
   "execution_count": 493,
   "metadata": {
    "scrolled": true
   },
   "outputs": [],
   "source": [
    "dropdownPanel = driver.find_element_by_class_name('panel-title')"
   ]
  },
  {
   "cell_type": "code",
   "execution_count": 494,
   "metadata": {},
   "outputs": [],
   "source": [
    "# Click the main panel\n",
    "dropdownPanel.click()"
   ]
  },
  {
   "cell_type": "code",
   "execution_count": 495,
   "metadata": {},
   "outputs": [],
   "source": [
    "mainPanel = driver.find_element_by_id('collapse1')\n",
    "bpsMendagriPanel = mainPanel.find_elements_by_tag_name('li')[0]"
   ]
  },
  {
   "cell_type": "code",
   "execution_count": 496,
   "metadata": {},
   "outputs": [],
   "source": [
    "# Click the BPS-Kemendagri page\n",
    "bpsMendagriPanel.click()"
   ]
  },
  {
   "cell_type": "markdown",
   "metadata": {},
   "source": [
    "### Select the historical records - dropdown"
   ]
  },
  {
   "cell_type": "code",
   "execution_count": 497,
   "metadata": {},
   "outputs": [],
   "source": [
    "dropdownRecords = driver.find_element_by_id('periode1-bridg')\n",
    "selectorRecords = Select(dropdownRecords)"
   ]
  },
  {
   "cell_type": "code",
   "execution_count": 498,
   "metadata": {},
   "outputs": [],
   "source": [
    "# List of dropdown list\n",
    "listDropdownRecords = []\n",
    "options = selectorRecords.options\n",
    "for index in range(len(options)):\n",
    "    listDropdownRecords.append(options[index].text)"
   ]
  },
  {
   "cell_type": "code",
   "execution_count": 499,
   "metadata": {},
   "outputs": [],
   "source": [
    "# Select by visible text\n",
    "selectorRecords.select_by_visible_text(listDropdownRecords[len(listDropdownRecords) - 1])"
   ]
  },
  {
   "cell_type": "markdown",
   "metadata": {},
   "source": [
    "### Get the provinces data"
   ]
  },
  {
   "cell_type": "code",
   "execution_count": 500,
   "metadata": {},
   "outputs": [],
   "source": [
    "tableProvince = driver.find_element_by_id('data-table')"
   ]
  },
  {
   "cell_type": "markdown",
   "metadata": {},
   "source": [
    "**Get column header**"
   ]
  },
  {
   "cell_type": "code",
   "execution_count": 501,
   "metadata": {
    "ExecuteTime": {
     "end_time": "2020-06-20T00:08:40.023923Z",
     "start_time": "2020-06-20T00:08:39.760767Z"
    }
   },
   "outputs": [],
   "source": [
    "fileDataProvince = []\n",
    "fileHeaderProvince = []\n",
    "headLineProvince = tableProvince.find_elements_by_tag_name('tr')\n",
    "headers = headLineProvince[1].find_elements_by_tag_name('th')\n",
    "\n",
    "for header in headers:\n",
    "    header_text_raw = header.text\n",
    "    fileHeaderProvince.append(header_text_raw)\n",
    "fileDataProvince.append(';'.join(fileHeaderProvince))"
   ]
  },
  {
   "cell_type": "code",
   "execution_count": 502,
   "metadata": {},
   "outputs": [
    {
     "data": {
      "text/plain": [
       "['-;Nama Provinsi;Kode Provinsi;Nama Provinsi;Kode Provinsi']"
      ]
     },
     "execution_count": 502,
     "metadata": {},
     "output_type": "execute_result"
    }
   ],
   "source": [
    "fileDataProvince"
   ]
  },
  {
   "cell_type": "markdown",
   "metadata": {},
   "source": [
    "**Get the rows**"
   ]
  },
  {
   "cell_type": "code",
   "execution_count": 503,
   "metadata": {},
   "outputs": [],
   "source": [
    "bodyRowsProvince = tableProvince.find_elements_by_tag_name('tr')\n",
    "for row in bodyRowsProvince:\n",
    "    data = row.find_elements_by_tag_name('td')    \n",
    "    file_row = []\n",
    "    for datum in data:\n",
    "        datum_text_byte = datum.text.encode('utf8')\n",
    "        datum_text_raw = datum_text_byte.decode('utf-8')\n",
    "        file_row.append(datum_text_raw)\n",
    "    fileDataProvince.append(';'.join(file_row))"
   ]
  },
  {
   "cell_type": "code",
   "execution_count": 504,
   "metadata": {},
   "outputs": [
    {
     "data": {
      "text/plain": [
       "['-;Nama Provinsi;Kode Provinsi;Nama Provinsi;Kode Provinsi',\n",
       " '',\n",
       " '',\n",
       " '1;Aceh;11;Aceh;11',\n",
       " '2;Sumatera Utara;12;Sumatera Utara;12',\n",
       " '3;Sumatera Barat;13;Sumatera Barat;13',\n",
       " '4;Riau;14;Riau;14',\n",
       " '5;Jambi;15;Jambi;15',\n",
       " '6;Sumatera Selatan;16;Sumatera Selatan;16',\n",
       " '7;Bengkulu;17;Bengkulu;17',\n",
       " '8;Lampung;18;Lampung;18',\n",
       " '9;Kep. Bangka Belitung;19;Kep. Bangka Belitung;19',\n",
       " '10;Kep. Riau;21;Kep. Riau;21',\n",
       " '11;Dki Jakarta;31;Dki Jakarta;31',\n",
       " '12;Jawa Barat;32;Jawa Barat;32',\n",
       " '13;Jawa Tengah;33;Jawa Tengah;33',\n",
       " '14;Di Yogyakarta;34;Di Yogyakarta;34',\n",
       " '15;Jawa Timur;35;Jawa Timur;35',\n",
       " '16;Banten;36;Banten;36',\n",
       " '17;Bali;51;Bali;51',\n",
       " '18;Nusa Tenggara Barat;52;Nusa Tenggara Barat;52',\n",
       " '19;Nusa Tenggara Timur;53;Nusa Tenggara Timur;53',\n",
       " '20;Kalimantan Barat;61;Kalimantan Barat;61',\n",
       " '21;Kalimantan Tengah;62;Kalimantan Tengah;62',\n",
       " '22;Kalimantan Selatan;63;Kalimantan Selatan;63',\n",
       " '23;Kalimantan Timur;64;Kalimantan Timur;64',\n",
       " '24;Kalimantan Utara;65;Kalimantan Utara;65',\n",
       " '25;Sulawesi Utara;71;Sulawesi Utara;71',\n",
       " '26;Sulawesi Tengah;72;Sulawesi Tengah;72',\n",
       " '27;Sulawesi Selatan;73;Sulawesi Selatan;73',\n",
       " '28;Sulawesi Tenggara;74;Sulawesi Tenggara;74',\n",
       " '29;Gorontalo;75;Gorontalo;75',\n",
       " '30;Sulawesi Barat;76;Sulawesi Barat;76',\n",
       " '31;Maluku;81;Maluku;81',\n",
       " '32;Maluku Utara;82;Maluku Utara;82',\n",
       " '33;Papua Barat;91;Papua Barat;92',\n",
       " '34;Papua;94;Papua;91']"
      ]
     },
     "execution_count": 504,
     "metadata": {},
     "output_type": "execute_result"
    }
   ],
   "source": [
    "fileDataProvince"
   ]
  },
  {
   "cell_type": "code",
   "execution_count": 507,
   "metadata": {},
   "outputs": [],
   "source": [
    "# Remove indexes which are header\n",
    "del(fileDataProvince[1:3])"
   ]
  },
  {
   "cell_type": "code",
   "execution_count": 508,
   "metadata": {},
   "outputs": [
    {
     "data": {
      "text/plain": [
       "['-;Nama Provinsi;Kode Provinsi;Nama Provinsi;Kode Provinsi',\n",
       " '1;Aceh;11;Aceh;11',\n",
       " '2;Sumatera Utara;12;Sumatera Utara;12',\n",
       " '3;Sumatera Barat;13;Sumatera Barat;13',\n",
       " '4;Riau;14;Riau;14',\n",
       " '5;Jambi;15;Jambi;15',\n",
       " '6;Sumatera Selatan;16;Sumatera Selatan;16',\n",
       " '7;Bengkulu;17;Bengkulu;17',\n",
       " '8;Lampung;18;Lampung;18',\n",
       " '9;Kep. Bangka Belitung;19;Kep. Bangka Belitung;19',\n",
       " '10;Kep. Riau;21;Kep. Riau;21',\n",
       " '11;Dki Jakarta;31;Dki Jakarta;31',\n",
       " '12;Jawa Barat;32;Jawa Barat;32',\n",
       " '13;Jawa Tengah;33;Jawa Tengah;33',\n",
       " '14;Di Yogyakarta;34;Di Yogyakarta;34',\n",
       " '15;Jawa Timur;35;Jawa Timur;35',\n",
       " '16;Banten;36;Banten;36',\n",
       " '17;Bali;51;Bali;51',\n",
       " '18;Nusa Tenggara Barat;52;Nusa Tenggara Barat;52',\n",
       " '19;Nusa Tenggara Timur;53;Nusa Tenggara Timur;53',\n",
       " '20;Kalimantan Barat;61;Kalimantan Barat;61',\n",
       " '21;Kalimantan Tengah;62;Kalimantan Tengah;62',\n",
       " '22;Kalimantan Selatan;63;Kalimantan Selatan;63',\n",
       " '23;Kalimantan Timur;64;Kalimantan Timur;64',\n",
       " '24;Kalimantan Utara;65;Kalimantan Utara;65',\n",
       " '25;Sulawesi Utara;71;Sulawesi Utara;71',\n",
       " '26;Sulawesi Tengah;72;Sulawesi Tengah;72',\n",
       " '27;Sulawesi Selatan;73;Sulawesi Selatan;73',\n",
       " '28;Sulawesi Tenggara;74;Sulawesi Tenggara;74',\n",
       " '29;Gorontalo;75;Gorontalo;75',\n",
       " '30;Sulawesi Barat;76;Sulawesi Barat;76',\n",
       " '31;Maluku;81;Maluku;81',\n",
       " '32;Maluku Utara;82;Maluku Utara;82',\n",
       " '33;Papua Barat;91;Papua Barat;92',\n",
       " '34;Papua;94;Papua;91']"
      ]
     },
     "execution_count": 508,
     "metadata": {},
     "output_type": "execute_result"
    }
   ],
   "source": [
    "fileDataProvince"
   ]
  },
  {
   "cell_type": "code",
   "execution_count": 509,
   "metadata": {},
   "outputs": [],
   "source": [
    "# Convert to dataframe\n",
    "dataProvinces = pd.DataFrame(columns = fileDataProvince[0].split(';'), data=[row.split(';') for row in fileDataProvince[1:]])\n",
    "dataProvinces.rename(columns = {'-':'No'}, inplace = True)"
   ]
  },
  {
   "cell_type": "code",
   "execution_count": 510,
   "metadata": {},
   "outputs": [
    {
     "data": {
      "text/html": [
       "<div>\n",
       "<style scoped>\n",
       "    .dataframe tbody tr th:only-of-type {\n",
       "        vertical-align: middle;\n",
       "    }\n",
       "\n",
       "    .dataframe tbody tr th {\n",
       "        vertical-align: top;\n",
       "    }\n",
       "\n",
       "    .dataframe thead th {\n",
       "        text-align: right;\n",
       "    }\n",
       "</style>\n",
       "<table border=\"1\" class=\"dataframe\">\n",
       "  <thead>\n",
       "    <tr style=\"text-align: right;\">\n",
       "      <th></th>\n",
       "      <th>No</th>\n",
       "      <th>Nama Provinsi</th>\n",
       "      <th>Kode Provinsi</th>\n",
       "      <th>Nama Provinsi</th>\n",
       "      <th>Kode Provinsi</th>\n",
       "    </tr>\n",
       "  </thead>\n",
       "  <tbody>\n",
       "    <tr>\n",
       "      <th>0</th>\n",
       "      <td>1</td>\n",
       "      <td>Aceh</td>\n",
       "      <td>11</td>\n",
       "      <td>Aceh</td>\n",
       "      <td>11</td>\n",
       "    </tr>\n",
       "    <tr>\n",
       "      <th>1</th>\n",
       "      <td>2</td>\n",
       "      <td>Sumatera Utara</td>\n",
       "      <td>12</td>\n",
       "      <td>Sumatera Utara</td>\n",
       "      <td>12</td>\n",
       "    </tr>\n",
       "    <tr>\n",
       "      <th>2</th>\n",
       "      <td>3</td>\n",
       "      <td>Sumatera Barat</td>\n",
       "      <td>13</td>\n",
       "      <td>Sumatera Barat</td>\n",
       "      <td>13</td>\n",
       "    </tr>\n",
       "    <tr>\n",
       "      <th>3</th>\n",
       "      <td>4</td>\n",
       "      <td>Riau</td>\n",
       "      <td>14</td>\n",
       "      <td>Riau</td>\n",
       "      <td>14</td>\n",
       "    </tr>\n",
       "    <tr>\n",
       "      <th>4</th>\n",
       "      <td>5</td>\n",
       "      <td>Jambi</td>\n",
       "      <td>15</td>\n",
       "      <td>Jambi</td>\n",
       "      <td>15</td>\n",
       "    </tr>\n",
       "  </tbody>\n",
       "</table>\n",
       "</div>"
      ],
      "text/plain": [
       "  No   Nama Provinsi Kode Provinsi   Nama Provinsi Kode Provinsi\n",
       "0  1            Aceh            11            Aceh            11\n",
       "1  2  Sumatera Utara            12  Sumatera Utara            12\n",
       "2  3  Sumatera Barat            13  Sumatera Barat            13\n",
       "3  4            Riau            14            Riau            14\n",
       "4  5           Jambi            15           Jambi            15"
      ]
     },
     "execution_count": 510,
     "metadata": {},
     "output_type": "execute_result"
    }
   ],
   "source": [
    "dataProvinces.head()"
   ]
  },
  {
   "cell_type": "markdown",
   "metadata": {},
   "source": [
    "### Get the district data"
   ]
  },
  {
   "cell_type": "code",
   "execution_count": 511,
   "metadata": {},
   "outputs": [],
   "source": [
    "dropdownProvinces = driver.find_element_by_id('provinsi-dropdown-bridg')\n",
    "selectorProvinces = Select(dropdownProvinces)"
   ]
  },
  {
   "cell_type": "code",
   "execution_count": 512,
   "metadata": {},
   "outputs": [],
   "source": [
    "listDropdownProvince = []\n",
    "options = selectorProvinces.options\n",
    "for index in range(len(options)):\n",
    "    listDropdownProvince.append(options[index].text)"
   ]
  },
  {
   "cell_type": "code",
   "execution_count": 513,
   "metadata": {
    "scrolled": true
   },
   "outputs": [
    {
     "name": "stdout",
     "output_type": "stream",
     "text": [
      "Length of list: 35\n"
     ]
    },
    {
     "data": {
      "text/plain": [
       "['----', 'ACEH', 'SUMATERA UTARA', 'SUMATERA BARAT', 'RIAU']"
      ]
     },
     "execution_count": 513,
     "metadata": {},
     "output_type": "execute_result"
    }
   ],
   "source": [
    "print('Length of list: {}'.format(len(listDropdownProvince)))\n",
    "listDropdownProvince[:5]"
   ]
  },
  {
   "cell_type": "code",
   "execution_count": 514,
   "metadata": {},
   "outputs": [],
   "source": [
    "# Remove the first element of list\n",
    "del listDropdownProvince[0]"
   ]
  },
  {
   "cell_type": "code",
   "execution_count": 515,
   "metadata": {},
   "outputs": [
    {
     "name": "stdout",
     "output_type": "stream",
     "text": [
      "Length of list: 34 \n",
      "\n",
      "['ACEH', 'SUMATERA UTARA', 'SUMATERA BARAT', 'RIAU', 'JAMBI', 'SUMATERA SELATAN', 'BENGKULU', 'LAMPUNG', 'KEP. BANGKA BELITUNG', 'KEP. RIAU', 'DKI JAKARTA', 'JAWA BARAT', 'JAWA TENGAH', 'DI YOGYAKARTA', 'JAWA TIMUR', 'BANTEN', 'BALI', 'NUSA TENGGARA BARAT', 'NUSA TENGGARA TIMUR', 'KALIMANTAN BARAT', 'KALIMANTAN TENGAH', 'KALIMANTAN SELATAN', 'KALIMANTAN TIMUR', 'KALIMANTAN UTARA', 'SULAWESI UTARA', 'SULAWESI TENGAH', 'SULAWESI SELATAN', 'SULAWESI TENGGARA', 'GORONTALO', 'SULAWESI BARAT', 'MALUKU', 'MALUKU UTARA', 'PAPUA BARAT', 'PAPUA']\n"
     ]
    }
   ],
   "source": [
    "print('Length of list: {} \\n'.format(len(listDropdownProvince)))\n",
    "print(listDropdownProvince)"
   ]
  },
  {
   "cell_type": "code",
   "execution_count": 518,
   "metadata": {},
   "outputs": [
    {
     "data": {
      "text/plain": [
       "['KALIMANTAN BARAT',\n",
       " 'KALIMANTAN TENGAH',\n",
       " 'KALIMANTAN SELATAN',\n",
       " 'KALIMANTAN TIMUR',\n",
       " 'KALIMANTAN UTARA',\n",
       " 'SULAWESI UTARA',\n",
       " 'SULAWESI TENGAH',\n",
       " 'SULAWESI SELATAN',\n",
       " 'SULAWESI TENGGARA',\n",
       " 'GORONTALO',\n",
       " 'SULAWESI BARAT',\n",
       " 'MALUKU',\n",
       " 'MALUKU UTARA',\n",
       " 'PAPUA BARAT',\n",
       " 'PAPUA']"
      ]
     },
     "execution_count": 518,
     "metadata": {},
     "output_type": "execute_result"
    }
   ],
   "source": [
    "listDropdownProvince[19:]"
   ]
  },
  {
   "cell_type": "code",
   "execution_count": 367,
   "metadata": {},
   "outputs": [],
   "source": [
    "# Select by visible text\n",
    "selectorProvinces.select_by_visible_text(listDropdownProvince[0])"
   ]
  },
  {
   "cell_type": "code",
   "execution_count": 368,
   "metadata": {
    "ExecuteTime": {
     "end_time": "2020-06-19T23:29:49.656861Z",
     "start_time": "2020-06-19T23:29:49.602154Z"
    }
   },
   "outputs": [],
   "source": [
    "tableDistrict = driver.find_element_by_id('data-table')"
   ]
  },
  {
   "cell_type": "markdown",
   "metadata": {},
   "source": [
    "**Get column header**"
   ]
  },
  {
   "cell_type": "code",
   "execution_count": 369,
   "metadata": {
    "ExecuteTime": {
     "end_time": "2020-06-20T00:08:40.023923Z",
     "start_time": "2020-06-20T00:08:39.760767Z"
    }
   },
   "outputs": [],
   "source": [
    "fileDataDistrict = []\n",
    "fileHeaderDistrict = []\n",
    "headLineDistrict = tableDistrict.find_elements_by_tag_name('tr')\n",
    "headers = headLineDistrict[1].find_elements_by_tag_name('th')\n",
    "\n",
    "for header in headers:\n",
    "    header_text_raw = header.text\n",
    "    fileHeaderDistrict.append(header_text_raw)\n",
    "fileDataDistrict.append(';'.join(fileHeaderDistrict))"
   ]
  },
  {
   "cell_type": "code",
   "execution_count": 370,
   "metadata": {},
   "outputs": [
    {
     "data": {
      "text/plain": [
       "['-;Nama Kabupaten / Kota;Kode Kabupaten / Kota;Nama Kabupaten / Kota;Kode Kabupaten / Kota']"
      ]
     },
     "execution_count": 370,
     "metadata": {},
     "output_type": "execute_result"
    }
   ],
   "source": [
    "fileDataDistrict"
   ]
  },
  {
   "cell_type": "markdown",
   "metadata": {},
   "source": [
    "**Get the rows**"
   ]
  },
  {
   "cell_type": "code",
   "execution_count": 371,
   "metadata": {},
   "outputs": [],
   "source": [
    "bodyRowsDistrict = tableDistrict.find_elements_by_tag_name('tr')\n",
    "for row in bodyRowsDistrict:\n",
    "    data = row.find_elements_by_tag_name('td')    \n",
    "    file_row = []\n",
    "    for datum in data:\n",
    "        datum_text_byte = datum.text.encode('utf8')\n",
    "        datum_text_raw = datum_text_byte.decode('utf-8')\n",
    "        file_row.append(datum_text_raw)\n",
    "    fileDataDistrict.append(';'.join(file_row))"
   ]
  },
  {
   "cell_type": "code",
   "execution_count": 372,
   "metadata": {},
   "outputs": [
    {
     "data": {
      "text/plain": [
       "['-;Nama Kabupaten / Kota;Kode Kabupaten / Kota;Nama Kabupaten / Kota;Kode Kabupaten / Kota',\n",
       " '',\n",
       " '',\n",
       " '1;Simeulue;1101;Kab. Simeulue;11.09',\n",
       " '2;Aceh Singkil;1102;Kab. Aceh Singkil;11.10',\n",
       " '3;Aceh Selatan;1103;Kab. Aceh Selatan;11.01',\n",
       " '4;Aceh Tenggara;1104;Kab. Aceh Tenggara;11.02',\n",
       " '5;Aceh Timur;1105;Kab. Aceh Timur;11.03',\n",
       " '6;Aceh Tengah;1106;Kab. Aceh Tengah;11.04',\n",
       " '7;Aceh Barat;1107;Kab. Aceh Barat;11.05',\n",
       " '8;Aceh Besar;1108;Kab. Aceh Besar;11.06',\n",
       " '9;Pidie;1109;Kab. Pidie;11.07',\n",
       " '10;Bireuen;1110;Kab. Bireuen;11.11',\n",
       " '11;Aceh Utara;1111;Kab. Aceh Utara;11.08',\n",
       " '12;Aceh Barat Daya;1112;Kab. Aceh Barat Daya;11.12',\n",
       " '13;Gayo Lues;1113;Kab. Gayo Lues;11.13',\n",
       " '14;Aceh Tamiang;1114;Kab. Aceh Tamiang;11.16',\n",
       " '15;Nagan Raya;1115;Kab. Nagan Raya;11.15',\n",
       " '16;Aceh Jaya;1116;Kab. Aceh Jaya;11.14',\n",
       " '17;Bener Meriah;1117;Kab. Bener Meriah;11.17',\n",
       " '18;Pidie Jaya;1118;Kab. Pidie Jaya;11.18',\n",
       " '19;Banda Aceh;1171;Kota Banda Aceh;11.71',\n",
       " '20;Sabang;1172;Kota Sabang;11.72',\n",
       " '21;Langsa;1173;Kota Langsa;11.74',\n",
       " '22;Lhokseumawe;1174;Kota Lhokseumawe;11.73',\n",
       " '23;Subulussalam;1175;Kota Subulussalam;11.75']"
      ]
     },
     "execution_count": 372,
     "metadata": {},
     "output_type": "execute_result"
    }
   ],
   "source": [
    "fileDataDistrict"
   ]
  },
  {
   "cell_type": "code",
   "execution_count": 373,
   "metadata": {},
   "outputs": [],
   "source": [
    "# Remove indexes which are header\n",
    "del(fileDataDistrict[1:3])"
   ]
  },
  {
   "cell_type": "code",
   "execution_count": 374,
   "metadata": {},
   "outputs": [
    {
     "data": {
      "text/plain": [
       "['-;Nama Kabupaten / Kota;Kode Kabupaten / Kota;Nama Kabupaten / Kota;Kode Kabupaten / Kota',\n",
       " '1;Simeulue;1101;Kab. Simeulue;11.09',\n",
       " '2;Aceh Singkil;1102;Kab. Aceh Singkil;11.10',\n",
       " '3;Aceh Selatan;1103;Kab. Aceh Selatan;11.01',\n",
       " '4;Aceh Tenggara;1104;Kab. Aceh Tenggara;11.02',\n",
       " '5;Aceh Timur;1105;Kab. Aceh Timur;11.03',\n",
       " '6;Aceh Tengah;1106;Kab. Aceh Tengah;11.04',\n",
       " '7;Aceh Barat;1107;Kab. Aceh Barat;11.05',\n",
       " '8;Aceh Besar;1108;Kab. Aceh Besar;11.06',\n",
       " '9;Pidie;1109;Kab. Pidie;11.07',\n",
       " '10;Bireuen;1110;Kab. Bireuen;11.11',\n",
       " '11;Aceh Utara;1111;Kab. Aceh Utara;11.08',\n",
       " '12;Aceh Barat Daya;1112;Kab. Aceh Barat Daya;11.12',\n",
       " '13;Gayo Lues;1113;Kab. Gayo Lues;11.13',\n",
       " '14;Aceh Tamiang;1114;Kab. Aceh Tamiang;11.16',\n",
       " '15;Nagan Raya;1115;Kab. Nagan Raya;11.15',\n",
       " '16;Aceh Jaya;1116;Kab. Aceh Jaya;11.14',\n",
       " '17;Bener Meriah;1117;Kab. Bener Meriah;11.17',\n",
       " '18;Pidie Jaya;1118;Kab. Pidie Jaya;11.18',\n",
       " '19;Banda Aceh;1171;Kota Banda Aceh;11.71',\n",
       " '20;Sabang;1172;Kota Sabang;11.72',\n",
       " '21;Langsa;1173;Kota Langsa;11.74',\n",
       " '22;Lhokseumawe;1174;Kota Lhokseumawe;11.73',\n",
       " '23;Subulussalam;1175;Kota Subulussalam;11.75']"
      ]
     },
     "execution_count": 374,
     "metadata": {},
     "output_type": "execute_result"
    }
   ],
   "source": [
    "fileDataDistrict"
   ]
  },
  {
   "cell_type": "code",
   "execution_count": 375,
   "metadata": {},
   "outputs": [],
   "source": [
    "# Convert to dataframe\n",
    "dataDistrict = pd.DataFrame(columns = fileDataDistrict[0].split(';'), data = [row.split(';') for row in fileDataDistrict[1:]])\n",
    "dataDistrict.rename(columns = {'-':'No'}, inplace = True)"
   ]
  },
  {
   "cell_type": "code",
   "execution_count": 243,
   "metadata": {},
   "outputs": [
    {
     "data": {
      "text/html": [
       "<div>\n",
       "<style scoped>\n",
       "    .dataframe tbody tr th:only-of-type {\n",
       "        vertical-align: middle;\n",
       "    }\n",
       "\n",
       "    .dataframe tbody tr th {\n",
       "        vertical-align: top;\n",
       "    }\n",
       "\n",
       "    .dataframe thead th {\n",
       "        text-align: right;\n",
       "    }\n",
       "</style>\n",
       "<table border=\"1\" class=\"dataframe\">\n",
       "  <thead>\n",
       "    <tr style=\"text-align: right;\">\n",
       "      <th></th>\n",
       "      <th>No</th>\n",
       "      <th>Nama Kabupaten / Kota</th>\n",
       "      <th>Kode Kabupaten / Kota</th>\n",
       "      <th>Nama Kabupaten / Kota</th>\n",
       "      <th>Kode Kabupaten / Kota</th>\n",
       "    </tr>\n",
       "  </thead>\n",
       "  <tbody>\n",
       "    <tr>\n",
       "      <th>0</th>\n",
       "      <td>1</td>\n",
       "      <td>Simeulue</td>\n",
       "      <td>1101</td>\n",
       "      <td>Kab. Simeulue</td>\n",
       "      <td>11.09</td>\n",
       "    </tr>\n",
       "    <tr>\n",
       "      <th>1</th>\n",
       "      <td>2</td>\n",
       "      <td>Aceh Singkil</td>\n",
       "      <td>1102</td>\n",
       "      <td>Kab. Aceh Singkil</td>\n",
       "      <td>11.10</td>\n",
       "    </tr>\n",
       "    <tr>\n",
       "      <th>2</th>\n",
       "      <td>3</td>\n",
       "      <td>Aceh Selatan</td>\n",
       "      <td>1103</td>\n",
       "      <td>Kab. Aceh Selatan</td>\n",
       "      <td>11.01</td>\n",
       "    </tr>\n",
       "    <tr>\n",
       "      <th>3</th>\n",
       "      <td>4</td>\n",
       "      <td>Aceh Tenggara</td>\n",
       "      <td>1104</td>\n",
       "      <td>Kab. Aceh Tenggara</td>\n",
       "      <td>11.02</td>\n",
       "    </tr>\n",
       "    <tr>\n",
       "      <th>4</th>\n",
       "      <td>5</td>\n",
       "      <td>Aceh Timur</td>\n",
       "      <td>1105</td>\n",
       "      <td>Kab. Aceh Timur</td>\n",
       "      <td>11.03</td>\n",
       "    </tr>\n",
       "  </tbody>\n",
       "</table>\n",
       "</div>"
      ],
      "text/plain": [
       "  No Nama Kabupaten / Kota Kode Kabupaten / Kota Nama Kabupaten / Kota  \\\n",
       "0  1              Simeulue                  1101         Kab. Simeulue   \n",
       "1  2          Aceh Singkil                  1102     Kab. Aceh Singkil   \n",
       "2  3          Aceh Selatan                  1103     Kab. Aceh Selatan   \n",
       "3  4         Aceh Tenggara                  1104    Kab. Aceh Tenggara   \n",
       "4  5            Aceh Timur                  1105       Kab. Aceh Timur   \n",
       "\n",
       "  Kode Kabupaten / Kota  \n",
       "0                 11.09  \n",
       "1                 11.10  \n",
       "2                 11.01  \n",
       "3                 11.02  \n",
       "4                 11.03  "
      ]
     },
     "execution_count": 243,
     "metadata": {},
     "output_type": "execute_result"
    }
   ],
   "source": [
    "dataDistrict.head()"
   ]
  },
  {
   "cell_type": "markdown",
   "metadata": {},
   "source": [
    "### Get the subdistrict data"
   ]
  },
  {
   "cell_type": "code",
   "execution_count": 376,
   "metadata": {},
   "outputs": [],
   "source": [
    "dropdownDistricts = driver.find_element_by_id('kabupaten-dropdown-bridg')\n",
    "selectorDistricts = Select(dropdownDistricts)"
   ]
  },
  {
   "cell_type": "code",
   "execution_count": 377,
   "metadata": {},
   "outputs": [],
   "source": [
    "listDropdownDistrict = []\n",
    "options = selectorDistricts.options\n",
    "for index in range(len(options)):\n",
    "    listDropdownDistrict.append(options[index].text)"
   ]
  },
  {
   "cell_type": "code",
   "execution_count": 378,
   "metadata": {},
   "outputs": [
    {
     "name": "stdout",
     "output_type": "stream",
     "text": [
      "Length of list: 24\n"
     ]
    },
    {
     "data": {
      "text/plain": [
       "['----', 'SIMEULUE', 'ACEH SINGKIL', 'ACEH SELATAN', 'ACEH TENGGARA']"
      ]
     },
     "execution_count": 378,
     "metadata": {},
     "output_type": "execute_result"
    }
   ],
   "source": [
    "print('Length of list: {}'.format(len(listDropdownDistrict)))\n",
    "listDropdownDistrict[:5]"
   ]
  },
  {
   "cell_type": "code",
   "execution_count": 379,
   "metadata": {},
   "outputs": [],
   "source": [
    "# Remove the first element of list\n",
    "del listDropdownDistrict[0]"
   ]
  },
  {
   "cell_type": "code",
   "execution_count": 380,
   "metadata": {},
   "outputs": [
    {
     "name": "stdout",
     "output_type": "stream",
     "text": [
      "Length of list: 23 \n",
      "\n",
      "['SIMEULUE', 'ACEH SINGKIL', 'ACEH SELATAN', 'ACEH TENGGARA', 'ACEH TIMUR', 'ACEH TENGAH', 'ACEH BARAT', 'ACEH BESAR', 'PIDIE', 'BIREUEN', 'ACEH UTARA', 'ACEH BARAT DAYA', 'GAYO LUES', 'ACEH TAMIANG', 'NAGAN RAYA', 'ACEH JAYA', 'BENER MERIAH', 'PIDIE JAYA', 'BANDA ACEH', 'SABANG', 'LANGSA', 'LHOKSEUMAWE', 'SUBULUSSALAM']\n"
     ]
    }
   ],
   "source": [
    "print('Length of list: {} \\n'.format(len(listDropdownDistrict)))\n",
    "print(listDropdownDistrict)"
   ]
  },
  {
   "cell_type": "code",
   "execution_count": 381,
   "metadata": {},
   "outputs": [],
   "source": [
    "# Select by visible text\n",
    "selectorDistricts.select_by_visible_text(listDropdownDistrict[0])"
   ]
  },
  {
   "cell_type": "code",
   "execution_count": 382,
   "metadata": {
    "ExecuteTime": {
     "end_time": "2020-06-19T23:29:49.656861Z",
     "start_time": "2020-06-19T23:29:49.602154Z"
    }
   },
   "outputs": [],
   "source": [
    "tableSubdistrict = driver.find_element_by_id('data-table')"
   ]
  },
  {
   "cell_type": "markdown",
   "metadata": {},
   "source": [
    "**Get column header**"
   ]
  },
  {
   "cell_type": "code",
   "execution_count": 383,
   "metadata": {
    "ExecuteTime": {
     "end_time": "2020-06-20T00:08:40.023923Z",
     "start_time": "2020-06-20T00:08:39.760767Z"
    }
   },
   "outputs": [],
   "source": [
    "fileDataSubdistrict = []\n",
    "fileHeaderSubdistrict = []\n",
    "headLineSubdistrict = tableSubdistrict.find_elements_by_tag_name('tr')\n",
    "headers = headLineSubdistrict[1].find_elements_by_tag_name('th')\n",
    "\n",
    "for header in headers:\n",
    "    header_text_raw = header.text\n",
    "    fileHeaderSubdistrict.append(header_text_raw)\n",
    "fileDataSubdistrict.append(';'.join(fileHeaderSubdistrict))"
   ]
  },
  {
   "cell_type": "code",
   "execution_count": 384,
   "metadata": {},
   "outputs": [
    {
     "data": {
      "text/plain": [
       "['-;Nama Kecamatan;Kode Kecamatan;Nama Kecamatan;Kode Kecamatan']"
      ]
     },
     "execution_count": 384,
     "metadata": {},
     "output_type": "execute_result"
    }
   ],
   "source": [
    "fileDataSubdistrict"
   ]
  },
  {
   "cell_type": "markdown",
   "metadata": {},
   "source": [
    "**Get the rows**"
   ]
  },
  {
   "cell_type": "code",
   "execution_count": 385,
   "metadata": {},
   "outputs": [],
   "source": [
    "bodyRowsSubdistrict = tableSubdistrict.find_elements_by_tag_name('tr')\n",
    "for row in bodyRowsSubdistrict:\n",
    "    data = row.find_elements_by_tag_name('td')    \n",
    "    file_row = []\n",
    "    for datum in data:\n",
    "        datum_text_byte = datum.text.encode('utf8')\n",
    "        datum_text_raw = datum_text_byte.decode('utf-8')\n",
    "        file_row.append(datum_text_raw)\n",
    "    fileDataSubdistrict.append(';'.join(file_row))"
   ]
  },
  {
   "cell_type": "code",
   "execution_count": 386,
   "metadata": {},
   "outputs": [
    {
     "data": {
      "text/plain": [
       "['-;Nama Kecamatan;Kode Kecamatan;Nama Kecamatan;Kode Kecamatan',\n",
       " '',\n",
       " '',\n",
       " '1;Manggeng;1112010;Manggeng;11.12.03',\n",
       " '2;Lembah Sabil;1112011;Lembah Sabil;11.12.09',\n",
       " '3;Tangan-tangan;1112020;Tangan-tangan;11.12.02',\n",
       " '4;Setia;1112021;Setia;11.12.07',\n",
       " '5;Blang Pidie;1112030;Blang Pidie;11.12.01',\n",
       " '6;Jeumpa;1112031;Jeumpa;11.12.08',\n",
       " '7;Susoh;1112040;Susoh;11.12.04',\n",
       " '8;Kuala Batee;1112050;Kuala Batee;11.12.05',\n",
       " '9;Babah Rot;1112060;Babah Rot;11.12.06']"
      ]
     },
     "execution_count": 386,
     "metadata": {},
     "output_type": "execute_result"
    }
   ],
   "source": [
    "fileDataSubdistrict"
   ]
  },
  {
   "cell_type": "code",
   "execution_count": 387,
   "metadata": {},
   "outputs": [],
   "source": [
    "# Remove indexes which are header\n",
    "del(fileDataSubdistrict[1:3])"
   ]
  },
  {
   "cell_type": "code",
   "execution_count": 388,
   "metadata": {},
   "outputs": [
    {
     "data": {
      "text/plain": [
       "['-;Nama Kecamatan;Kode Kecamatan;Nama Kecamatan;Kode Kecamatan',\n",
       " '1;Manggeng;1112010;Manggeng;11.12.03',\n",
       " '2;Lembah Sabil;1112011;Lembah Sabil;11.12.09',\n",
       " '3;Tangan-tangan;1112020;Tangan-tangan;11.12.02',\n",
       " '4;Setia;1112021;Setia;11.12.07',\n",
       " '5;Blang Pidie;1112030;Blang Pidie;11.12.01',\n",
       " '6;Jeumpa;1112031;Jeumpa;11.12.08',\n",
       " '7;Susoh;1112040;Susoh;11.12.04',\n",
       " '8;Kuala Batee;1112050;Kuala Batee;11.12.05',\n",
       " '9;Babah Rot;1112060;Babah Rot;11.12.06']"
      ]
     },
     "execution_count": 388,
     "metadata": {},
     "output_type": "execute_result"
    }
   ],
   "source": [
    "fileDataSubdistrict"
   ]
  },
  {
   "cell_type": "code",
   "execution_count": 389,
   "metadata": {},
   "outputs": [],
   "source": [
    "# Convert to dataframe\n",
    "dataSubdistrict = pd.DataFrame(columns = fileDataSubdistrict[0].split(';'), data = [row.split(';') for row in fileDataSubdistrict[1:]])\n",
    "dataSubdistrict.rename(columns = {'-':'No'}, inplace = True)"
   ]
  },
  {
   "cell_type": "code",
   "execution_count": 390,
   "metadata": {},
   "outputs": [
    {
     "data": {
      "text/html": [
       "<div>\n",
       "<style scoped>\n",
       "    .dataframe tbody tr th:only-of-type {\n",
       "        vertical-align: middle;\n",
       "    }\n",
       "\n",
       "    .dataframe tbody tr th {\n",
       "        vertical-align: top;\n",
       "    }\n",
       "\n",
       "    .dataframe thead th {\n",
       "        text-align: right;\n",
       "    }\n",
       "</style>\n",
       "<table border=\"1\" class=\"dataframe\">\n",
       "  <thead>\n",
       "    <tr style=\"text-align: right;\">\n",
       "      <th></th>\n",
       "      <th>No</th>\n",
       "      <th>Nama Kecamatan</th>\n",
       "      <th>Kode Kecamatan</th>\n",
       "      <th>Nama Kecamatan</th>\n",
       "      <th>Kode Kecamatan</th>\n",
       "    </tr>\n",
       "  </thead>\n",
       "  <tbody>\n",
       "    <tr>\n",
       "      <th>0</th>\n",
       "      <td>1</td>\n",
       "      <td>Manggeng</td>\n",
       "      <td>1112010</td>\n",
       "      <td>Manggeng</td>\n",
       "      <td>11.12.03</td>\n",
       "    </tr>\n",
       "    <tr>\n",
       "      <th>1</th>\n",
       "      <td>2</td>\n",
       "      <td>Lembah Sabil</td>\n",
       "      <td>1112011</td>\n",
       "      <td>Lembah Sabil</td>\n",
       "      <td>11.12.09</td>\n",
       "    </tr>\n",
       "    <tr>\n",
       "      <th>2</th>\n",
       "      <td>3</td>\n",
       "      <td>Tangan-tangan</td>\n",
       "      <td>1112020</td>\n",
       "      <td>Tangan-tangan</td>\n",
       "      <td>11.12.02</td>\n",
       "    </tr>\n",
       "    <tr>\n",
       "      <th>3</th>\n",
       "      <td>4</td>\n",
       "      <td>Setia</td>\n",
       "      <td>1112021</td>\n",
       "      <td>Setia</td>\n",
       "      <td>11.12.07</td>\n",
       "    </tr>\n",
       "    <tr>\n",
       "      <th>4</th>\n",
       "      <td>5</td>\n",
       "      <td>Blang Pidie</td>\n",
       "      <td>1112030</td>\n",
       "      <td>Blang Pidie</td>\n",
       "      <td>11.12.01</td>\n",
       "    </tr>\n",
       "  </tbody>\n",
       "</table>\n",
       "</div>"
      ],
      "text/plain": [
       "  No Nama Kecamatan Kode Kecamatan Nama Kecamatan Kode Kecamatan\n",
       "0  1       Manggeng        1112010       Manggeng       11.12.03\n",
       "1  2   Lembah Sabil        1112011   Lembah Sabil       11.12.09\n",
       "2  3  Tangan-tangan        1112020  Tangan-tangan       11.12.02\n",
       "3  4          Setia        1112021          Setia       11.12.07\n",
       "4  5    Blang Pidie        1112030    Blang Pidie       11.12.01"
      ]
     },
     "execution_count": 390,
     "metadata": {},
     "output_type": "execute_result"
    }
   ],
   "source": [
    "dataSubdistrict.head()"
   ]
  },
  {
   "cell_type": "markdown",
   "metadata": {},
   "source": [
    "### Get the village data"
   ]
  },
  {
   "cell_type": "code",
   "execution_count": 391,
   "metadata": {},
   "outputs": [],
   "source": [
    "dropdownSubdistricts = driver.find_element_by_id('kecamatan-dropdown-bridg')\n",
    "selectorSubdistricts = Select(dropdownSubdistricts)"
   ]
  },
  {
   "cell_type": "code",
   "execution_count": 392,
   "metadata": {},
   "outputs": [],
   "source": [
    "listDropdownSubdistrict = []\n",
    "options = selectorSubdistricts.options\n",
    "for index in range(len(options)):\n",
    "    listDropdownSubdistrict.append(options[index].text)"
   ]
  },
  {
   "cell_type": "code",
   "execution_count": 393,
   "metadata": {},
   "outputs": [
    {
     "name": "stdout",
     "output_type": "stream",
     "text": [
      "Length of list: 10\n"
     ]
    },
    {
     "data": {
      "text/plain": [
       "['----', 'MANGGENG', 'LEMBAH SABIL', 'TANGAN-TANGAN', 'SETIA']"
      ]
     },
     "execution_count": 393,
     "metadata": {},
     "output_type": "execute_result"
    }
   ],
   "source": [
    "print('Length of list: {}'.format(len(listDropdownSubdistrict)))\n",
    "listDropdownSubdistrict[:5]"
   ]
  },
  {
   "cell_type": "code",
   "execution_count": 394,
   "metadata": {},
   "outputs": [],
   "source": [
    "# Remove the first element of list\n",
    "del listDropdownSubdistrict[0]"
   ]
  },
  {
   "cell_type": "code",
   "execution_count": 395,
   "metadata": {},
   "outputs": [
    {
     "name": "stdout",
     "output_type": "stream",
     "text": [
      "Length of list: 9 \n",
      "\n",
      "['MANGGENG', 'LEMBAH SABIL', 'TANGAN-TANGAN', 'SETIA', 'BLANG PIDIE', 'JEUMPA', 'SUSOH', 'KUALA BATEE', 'BABAH ROT']\n"
     ]
    }
   ],
   "source": [
    "print('Length of list: {} \\n'.format(len(listDropdownSubdistrict)))\n",
    "print(listDropdownSubdistrict)"
   ]
  },
  {
   "cell_type": "code",
   "execution_count": 396,
   "metadata": {},
   "outputs": [],
   "source": [
    "# Select by visible text\n",
    "selectorSubdistricts.select_by_visible_text(listDropdownSubdistrict[0])"
   ]
  },
  {
   "cell_type": "code",
   "execution_count": 397,
   "metadata": {
    "ExecuteTime": {
     "end_time": "2020-06-19T23:29:49.656861Z",
     "start_time": "2020-06-19T23:29:49.602154Z"
    }
   },
   "outputs": [],
   "source": [
    "tableVillage = driver.find_element_by_id('data-table')"
   ]
  },
  {
   "cell_type": "markdown",
   "metadata": {},
   "source": [
    "**Get column header**"
   ]
  },
  {
   "cell_type": "code",
   "execution_count": 398,
   "metadata": {
    "ExecuteTime": {
     "end_time": "2020-06-20T00:08:40.023923Z",
     "start_time": "2020-06-20T00:08:39.760767Z"
    }
   },
   "outputs": [],
   "source": [
    "fileDataVillage = []\n",
    "fileHeaderVillage = []\n",
    "headLineVillage = tableVillage.find_elements_by_tag_name('tr')\n",
    "headers = headLineVillage[1].find_elements_by_tag_name('th')\n",
    "\n",
    "for header in headers:\n",
    "    header_text_raw = header.text\n",
    "    fileHeaderVillage.append(header_text_raw)\n",
    "fileDataVillage.append(';'.join(fileHeaderVillage))"
   ]
  },
  {
   "cell_type": "code",
   "execution_count": 399,
   "metadata": {},
   "outputs": [
    {
     "data": {
      "text/plain": [
       "['-;Nama Desa / Kelurahan;Kode Desa / Kelurahan;Nama Desa / Kelurahan;Kode Desa / Kelurahan']"
      ]
     },
     "execution_count": 399,
     "metadata": {},
     "output_type": "execute_result"
    }
   ],
   "source": [
    "fileDataVillage"
   ]
  },
  {
   "cell_type": "markdown",
   "metadata": {},
   "source": [
    "**Get the rows**"
   ]
  },
  {
   "cell_type": "code",
   "execution_count": 400,
   "metadata": {},
   "outputs": [],
   "source": [
    "bodyRowsVillage = tableVillage.find_elements_by_tag_name('tr')\n",
    "for row in bodyRowsVillage:\n",
    "    data = row.find_elements_by_tag_name('td')    \n",
    "    file_row = []\n",
    "    for datum in data:\n",
    "        datum_text_byte = datum.text.encode('utf8')\n",
    "        datum_text_raw = datum_text_byte.decode('utf-8')\n",
    "        file_row.append(datum_text_raw)\n",
    "    fileDataVillage.append(';'.join(file_row))"
   ]
  },
  {
   "cell_type": "code",
   "execution_count": 401,
   "metadata": {},
   "outputs": [
    {
     "data": {
      "text/plain": [
       "['-;Nama Desa / Kelurahan;Kode Desa / Kelurahan;Nama Desa / Kelurahan;Kode Desa / Kelurahan',\n",
       " '',\n",
       " '',\n",
       " '1;Ujung Tanah;1112011001;Ujung Tanah;11.12.09.2008',\n",
       " '2;Kuta Paya;1112011002;Kuta Paya;11.12.09.2007',\n",
       " '3;Geulanggang Batee;1112011003;Geulanggang Batee;11.12.09.2006',\n",
       " '4;Meunasah Tengah;1112011004;Meunasah Tengah;11.12.09.2005',\n",
       " '5;Meunasah Sukon;1112011005;Meunasah Sukon;11.12.09.2004',\n",
       " '6;Cot Bak-u;1112011006;Cot Bak-u;11.12.09.2003',\n",
       " '7;Meurandeh;1112011007;Meurandeh;11.12.09.2001',\n",
       " '8;Padang Kelele;1112011008;Padang Keulele;11.12.09.2009',\n",
       " '9;Ladang Tuha I;1112011009;Ladang Tuha I;11.12.09.2011',\n",
       " '10;Ladang Tuha Ii;1112011010;Ladang Tuha Ii;11.12.09.2012',\n",
       " '11;Alue Rambot;1112011011;Alue Rambot;11.12.09.2010',\n",
       " '12;Suka Damai;1112011016;Sukadamai;11.12.09.2002',\n",
       " '13;Tokoh Ii;1112011017;Tokoh Ii;11.12.09.2013',\n",
       " '14;Kaye Aceh;1112011018;Kayee Aceh;11.12.09.2014']"
      ]
     },
     "execution_count": 401,
     "metadata": {},
     "output_type": "execute_result"
    }
   ],
   "source": [
    "fileDataVillage"
   ]
  },
  {
   "cell_type": "code",
   "execution_count": 402,
   "metadata": {},
   "outputs": [],
   "source": [
    "# Remove indexes which are header\n",
    "del(fileDataVillage[1:3])"
   ]
  },
  {
   "cell_type": "code",
   "execution_count": 403,
   "metadata": {
    "scrolled": true
   },
   "outputs": [
    {
     "data": {
      "text/plain": [
       "['-;Nama Desa / Kelurahan;Kode Desa / Kelurahan;Nama Desa / Kelurahan;Kode Desa / Kelurahan',\n",
       " '1;Ujung Tanah;1112011001;Ujung Tanah;11.12.09.2008',\n",
       " '2;Kuta Paya;1112011002;Kuta Paya;11.12.09.2007',\n",
       " '3;Geulanggang Batee;1112011003;Geulanggang Batee;11.12.09.2006',\n",
       " '4;Meunasah Tengah;1112011004;Meunasah Tengah;11.12.09.2005',\n",
       " '5;Meunasah Sukon;1112011005;Meunasah Sukon;11.12.09.2004',\n",
       " '6;Cot Bak-u;1112011006;Cot Bak-u;11.12.09.2003',\n",
       " '7;Meurandeh;1112011007;Meurandeh;11.12.09.2001',\n",
       " '8;Padang Kelele;1112011008;Padang Keulele;11.12.09.2009',\n",
       " '9;Ladang Tuha I;1112011009;Ladang Tuha I;11.12.09.2011',\n",
       " '10;Ladang Tuha Ii;1112011010;Ladang Tuha Ii;11.12.09.2012',\n",
       " '11;Alue Rambot;1112011011;Alue Rambot;11.12.09.2010',\n",
       " '12;Suka Damai;1112011016;Sukadamai;11.12.09.2002',\n",
       " '13;Tokoh Ii;1112011017;Tokoh Ii;11.12.09.2013',\n",
       " '14;Kaye Aceh;1112011018;Kayee Aceh;11.12.09.2014']"
      ]
     },
     "execution_count": 403,
     "metadata": {},
     "output_type": "execute_result"
    }
   ],
   "source": [
    "fileDataVillage"
   ]
  },
  {
   "cell_type": "code",
   "execution_count": 404,
   "metadata": {},
   "outputs": [],
   "source": [
    "# Convert to dataframe\n",
    "dataVillage = pd.DataFrame(columns = fileDataVillage[0].split(';'), data = [row.split(';') for row in fileDataVillage[1:]])\n",
    "dataVillage.rename(columns = {'-':'No'}, inplace = True)"
   ]
  },
  {
   "cell_type": "code",
   "execution_count": 405,
   "metadata": {},
   "outputs": [
    {
     "data": {
      "text/html": [
       "<div>\n",
       "<style scoped>\n",
       "    .dataframe tbody tr th:only-of-type {\n",
       "        vertical-align: middle;\n",
       "    }\n",
       "\n",
       "    .dataframe tbody tr th {\n",
       "        vertical-align: top;\n",
       "    }\n",
       "\n",
       "    .dataframe thead th {\n",
       "        text-align: right;\n",
       "    }\n",
       "</style>\n",
       "<table border=\"1\" class=\"dataframe\">\n",
       "  <thead>\n",
       "    <tr style=\"text-align: right;\">\n",
       "      <th></th>\n",
       "      <th>No</th>\n",
       "      <th>Nama Desa / Kelurahan</th>\n",
       "      <th>Kode Desa / Kelurahan</th>\n",
       "      <th>Nama Desa / Kelurahan</th>\n",
       "      <th>Kode Desa / Kelurahan</th>\n",
       "    </tr>\n",
       "  </thead>\n",
       "  <tbody>\n",
       "    <tr>\n",
       "      <th>0</th>\n",
       "      <td>1</td>\n",
       "      <td>Ujung Tanah</td>\n",
       "      <td>1112011001</td>\n",
       "      <td>Ujung Tanah</td>\n",
       "      <td>11.12.09.2008</td>\n",
       "    </tr>\n",
       "    <tr>\n",
       "      <th>1</th>\n",
       "      <td>2</td>\n",
       "      <td>Kuta Paya</td>\n",
       "      <td>1112011002</td>\n",
       "      <td>Kuta Paya</td>\n",
       "      <td>11.12.09.2007</td>\n",
       "    </tr>\n",
       "    <tr>\n",
       "      <th>2</th>\n",
       "      <td>3</td>\n",
       "      <td>Geulanggang Batee</td>\n",
       "      <td>1112011003</td>\n",
       "      <td>Geulanggang Batee</td>\n",
       "      <td>11.12.09.2006</td>\n",
       "    </tr>\n",
       "    <tr>\n",
       "      <th>3</th>\n",
       "      <td>4</td>\n",
       "      <td>Meunasah Tengah</td>\n",
       "      <td>1112011004</td>\n",
       "      <td>Meunasah Tengah</td>\n",
       "      <td>11.12.09.2005</td>\n",
       "    </tr>\n",
       "    <tr>\n",
       "      <th>4</th>\n",
       "      <td>5</td>\n",
       "      <td>Meunasah Sukon</td>\n",
       "      <td>1112011005</td>\n",
       "      <td>Meunasah Sukon</td>\n",
       "      <td>11.12.09.2004</td>\n",
       "    </tr>\n",
       "  </tbody>\n",
       "</table>\n",
       "</div>"
      ],
      "text/plain": [
       "  No Nama Desa / Kelurahan Kode Desa / Kelurahan Nama Desa / Kelurahan  \\\n",
       "0  1           Ujung Tanah            1112011001           Ujung Tanah   \n",
       "1  2             Kuta Paya            1112011002             Kuta Paya   \n",
       "2  3     Geulanggang Batee            1112011003     Geulanggang Batee   \n",
       "3  4       Meunasah Tengah            1112011004       Meunasah Tengah   \n",
       "4  5        Meunasah Sukon            1112011005        Meunasah Sukon   \n",
       "\n",
       "  Kode Desa / Kelurahan  \n",
       "0         11.12.09.2008  \n",
       "1         11.12.09.2007  \n",
       "2         11.12.09.2006  \n",
       "3         11.12.09.2005  \n",
       "4         11.12.09.2004  "
      ]
     },
     "execution_count": 405,
     "metadata": {},
     "output_type": "execute_result"
    }
   ],
   "source": [
    "dataVillage.head()"
   ]
  },
  {
   "cell_type": "markdown",
   "metadata": {},
   "source": [
    "---"
   ]
  }
 ],
 "metadata": {
  "kernelspec": {
   "display_name": "Python 3",
   "language": "python",
   "name": "python3"
  },
  "language_info": {
   "codemirror_mode": {
    "name": "ipython",
    "version": 3
   },
   "file_extension": ".py",
   "mimetype": "text/x-python",
   "name": "python",
   "nbconvert_exporter": "python",
   "pygments_lexer": "ipython3",
   "version": "3.8.3"
  }
 },
 "nbformat": 4,
 "nbformat_minor": 4
}
