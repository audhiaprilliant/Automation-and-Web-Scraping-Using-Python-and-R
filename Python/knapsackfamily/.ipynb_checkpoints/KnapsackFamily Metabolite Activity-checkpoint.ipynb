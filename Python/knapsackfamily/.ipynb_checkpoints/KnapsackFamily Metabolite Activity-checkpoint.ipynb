{
 "cells": [
  {
   "cell_type": "markdown",
   "metadata": {},
   "source": [
    "# Import Modules"
   ]
  },
  {
   "cell_type": "markdown",
   "metadata": {},
   "source": [
    "For introduction of Selenium, please be kind to open [**this site**](https://www.scrapingbee.com/blog/selenium-python/)"
   ]
  },
  {
   "cell_type": "code",
   "execution_count": 110,
   "metadata": {
    "ExecuteTime": {
     "end_time": "2020-06-19T23:39:06.502572Z",
     "start_time": "2020-06-19T23:39:06.497076Z"
    }
   },
   "outputs": [],
   "source": [
    "from selenium import webdriver\n",
    "import pandas as pd"
   ]
  },
  {
   "cell_type": "markdown",
   "metadata": {},
   "source": [
    "# Web Scraping"
   ]
  },
  {
   "cell_type": "markdown",
   "metadata": {},
   "source": [
    "Read how to download webdriver for Chrome [**here**]('https://chromedriver.chromium.org/downloads')"
   ]
  },
  {
   "cell_type": "code",
   "execution_count": 78,
   "metadata": {
    "ExecuteTime": {
     "end_time": "2020-06-19T23:29:33.659375Z",
     "start_time": "2020-06-19T23:29:18.312261Z"
    }
   },
   "outputs": [],
   "source": [
    "DRIVER_PATH = '/home/audhi/github/Web-Scraping-Using-Python-and-R/Python/knapsackfamily/chromedriver'\n",
    "driver = webdriver.Chrome(executable_path = DRIVER_PATH)\n",
    "driver.get('http://www.knapsackfamily.com/MetaboliteActivity/top.php')"
   ]
  },
  {
   "cell_type": "markdown",
   "metadata": {},
   "source": [
    "**Input targeted species name**"
   ]
  },
  {
   "cell_type": "code",
   "execution_count": 79,
   "metadata": {
    "ExecuteTime": {
     "end_time": "2020-06-19T23:29:36.031516Z",
     "start_time": "2020-06-19T23:29:35.815176Z"
    }
   },
   "outputs": [],
   "source": [
    "# Get the web elemnt corresponding to the targeted species (Text field)\n",
    "element_species = driver.find_elements_by_name('targetsp')[0]"
   ]
  },
  {
   "cell_type": "code",
   "execution_count": 80,
   "metadata": {
    "ExecuteTime": {
     "end_time": "2020-06-19T23:29:37.243755Z",
     "start_time": "2020-06-19T23:29:36.923649Z"
    }
   },
   "outputs": [],
   "source": [
    "# Send value to the text input of species name\n",
    "element_species.send_keys('allium cepa')"
   ]
  },
  {
   "cell_type": "markdown",
   "metadata": {},
   "source": [
    "**Click on target species checkbox**"
   ]
  },
  {
   "cell_type": "code",
   "execution_count": 81,
   "metadata": {
    "ExecuteTime": {
     "end_time": "2020-06-19T23:29:38.508682Z",
     "start_time": "2020-06-19T23:29:38.475853Z"
    }
   },
   "outputs": [],
   "source": [
    "species_checkbox = driver.find_element_by_name('sname4')"
   ]
  },
  {
   "cell_type": "code",
   "execution_count": 82,
   "metadata": {
    "ExecuteTime": {
     "end_time": "2020-06-19T23:29:39.252544Z",
     "start_time": "2020-06-19T23:29:39.142027Z"
    }
   },
   "outputs": [],
   "source": [
    "species_checkbox.click()"
   ]
  },
  {
   "cell_type": "markdown",
   "metadata": {},
   "source": [
    "**Clik on list button**"
   ]
  },
  {
   "cell_type": "code",
   "execution_count": 83,
   "metadata": {
    "ExecuteTime": {
     "end_time": "2020-06-19T23:29:41.811982Z",
     "start_time": "2020-06-19T23:29:41.779030Z"
    }
   },
   "outputs": [],
   "source": [
    "list_button = driver.find_element_by_name('search')"
   ]
  },
  {
   "cell_type": "code",
   "execution_count": 84,
   "metadata": {
    "ExecuteTime": {
     "end_time": "2020-06-19T23:29:42.770640Z",
     "start_time": "2020-06-19T23:29:42.608197Z"
    }
   },
   "outputs": [],
   "source": [
    "list_button.click()"
   ]
  },
  {
   "cell_type": "markdown",
   "metadata": {},
   "source": [
    "**Switch to active tab - RESULT**"
   ]
  },
  {
   "cell_type": "code",
   "execution_count": 85,
   "metadata": {
    "ExecuteTime": {
     "end_time": "2020-06-19T23:29:46.979510Z",
     "start_time": "2020-06-19T23:29:46.955120Z"
    }
   },
   "outputs": [],
   "source": [
    "driver.switch_to.window(driver.window_handles[1])"
   ]
  },
  {
   "cell_type": "markdown",
   "metadata": {},
   "source": [
    "# Scraping the Data"
   ]
  },
  {
   "cell_type": "code",
   "execution_count": 86,
   "metadata": {
    "ExecuteTime": {
     "end_time": "2020-06-19T23:29:49.656861Z",
     "start_time": "2020-06-19T23:29:49.602154Z"
    }
   },
   "outputs": [],
   "source": [
    "table = driver.find_element_by_xpath('/html/body/table[2]/tbody')"
   ]
  },
  {
   "cell_type": "markdown",
   "metadata": {},
   "source": [
    "**Get column header**"
   ]
  },
  {
   "cell_type": "code",
   "execution_count": 159,
   "metadata": {
    "ExecuteTime": {
     "end_time": "2020-06-20T00:08:40.023923Z",
     "start_time": "2020-06-20T00:08:39.760767Z"
    }
   },
   "outputs": [],
   "source": [
    "file_data = []\n",
    "file_header = []\n",
    "head_line = table.find_element_by_tag_name('tr')\n",
    "headers = head_line.find_elements_by_tag_name('th')\n",
    "\n",
    "for header in headers:\n",
    "    header_text_byte = header.text.encode('utf-8')\n",
    "    header_text_raw = header_text_byte.decode('utf-8')\n",
    "    file_header.append(header_text_raw)\n",
    "file_data.append(';'.join(file_header))"
   ]
  },
  {
   "cell_type": "code",
   "execution_count": 160,
   "metadata": {
    "ExecuteTime": {
     "end_time": "2020-06-20T00:08:41.776273Z",
     "start_time": "2020-06-20T00:08:41.764979Z"
    }
   },
   "outputs": [
    {
     "data": {
      "text/plain": [
       "['C_ID',\n",
       " 'Metabolite Name',\n",
       " 'Activity Category',\n",
       " 'Biological Activity (Function)',\n",
       " 'Target Species',\n",
       " 'Reference']"
      ]
     },
     "execution_count": 160,
     "metadata": {},
     "output_type": "execute_result"
    }
   ],
   "source": [
    "file_header"
   ]
  },
  {
   "cell_type": "markdown",
   "metadata": {},
   "source": [
    "**Get rows content**"
   ]
  },
  {
   "cell_type": "code",
   "execution_count": 161,
   "metadata": {
    "ExecuteTime": {
     "end_time": "2020-06-20T00:09:20.105972Z",
     "start_time": "2020-06-20T00:09:18.937384Z"
    }
   },
   "outputs": [],
   "source": [
    "body_rows = table.find_elements_by_tag_name('tr')\n",
    "for row in body_rows:\n",
    "    data = row.find_elements_by_tag_name('td')    \n",
    "    file_row = []\n",
    "    for datum in data:\n",
    "        datum_text_byte = datum.text.encode('utf8')\n",
    "        datum_text_raw = datum_text_byte.decode('utf-8')\n",
    "        file_row.append(datum_text_raw)\n",
    "    file_data.append(';'.join(file_row))"
   ]
  },
  {
   "cell_type": "code",
   "execution_count": 162,
   "metadata": {
    "ExecuteTime": {
     "end_time": "2020-06-20T00:09:27.210397Z",
     "start_time": "2020-06-20T00:09:27.200746Z"
    }
   },
   "outputs": [
    {
     "data": {
      "text/plain": [
       "['C_ID;Metabolite Name;Activity Category;Biological Activity (Function);Target Species;Reference',\n",
       " '',\n",
       " '',\n",
       " 'C00000092;N6-Benzyladenine;Enhance stem growth;exhibit tuberization process;Allium cepa;Thomas,Hortc.Res.,12,(1972),77-79',\n",
       " 'C00000100;Indole-3-acetic acid\\nIAA;Enhance root growth;promote root elongation;Allium cepa;Diez,Planta,97,(1971),364-366',\n",
       " 'C00000100;Indole-3-acetic acid\\nIAA;Enhance root growth;inhibit root elongation;Allium cepa;Diez,Planta,97,(1971),364-366',\n",
       " 'C00001389;S-[(E)-Prop-1-enyl]-L-cysteine S-oxide;Irritant;the main lachrymatory principle, which is produced by the action of alliinase when cut or bruised;Allium cepa;Harborne,Phytochemical Dictionary Second Edition,Taylor and Francis,(1999),Chapter10',\n",
       " 'C00002359;Porritoxin;Phytotoxic;phytotoxin, a fungus causing black spot disease;Allium cepa;Harborne,Phytochemical Dictionary Second Edition,Taylor and Francis,(1999),Chapter31']"
      ]
     },
     "execution_count": 162,
     "metadata": {},
     "output_type": "execute_result"
    }
   ],
   "source": [
    "file_data"
   ]
  },
  {
   "cell_type": "code",
   "execution_count": 163,
   "metadata": {
    "ExecuteTime": {
     "end_time": "2020-06-20T00:09:48.251103Z",
     "start_time": "2020-06-20T00:09:48.239317Z"
    }
   },
   "outputs": [],
   "source": [
    "# Remove indexes which are header\n",
    "del(file_data[1:3])"
   ]
  },
  {
   "cell_type": "code",
   "execution_count": 164,
   "metadata": {
    "ExecuteTime": {
     "end_time": "2020-06-20T00:10:18.619182Z",
     "start_time": "2020-06-20T00:10:18.248082Z"
    }
   },
   "outputs": [],
   "source": [
    "# Convert to dataframe\n",
    "data_knapsck = pd.DataFrame(columns = file_data[0].split(';'),data = [row.split(';') for row in file_data[1:]])"
   ]
  },
  {
   "cell_type": "code",
   "execution_count": 165,
   "metadata": {
    "ExecuteTime": {
     "end_time": "2020-06-20T00:10:26.341292Z",
     "start_time": "2020-06-20T00:10:25.996324Z"
    }
   },
   "outputs": [
    {
     "data": {
      "text/html": [
       "<div>\n",
       "<style scoped>\n",
       "    .dataframe tbody tr th:only-of-type {\n",
       "        vertical-align: middle;\n",
       "    }\n",
       "\n",
       "    .dataframe tbody tr th {\n",
       "        vertical-align: top;\n",
       "    }\n",
       "\n",
       "    .dataframe thead th {\n",
       "        text-align: right;\n",
       "    }\n",
       "</style>\n",
       "<table border=\"1\" class=\"dataframe\">\n",
       "  <thead>\n",
       "    <tr style=\"text-align: right;\">\n",
       "      <th></th>\n",
       "      <th>C_ID</th>\n",
       "      <th>Metabolite Name</th>\n",
       "      <th>Activity Category</th>\n",
       "      <th>Biological Activity (Function)</th>\n",
       "      <th>Target Species</th>\n",
       "      <th>Reference</th>\n",
       "    </tr>\n",
       "  </thead>\n",
       "  <tbody>\n",
       "    <tr>\n",
       "      <th>0</th>\n",
       "      <td>C00000092</td>\n",
       "      <td>N6-Benzyladenine</td>\n",
       "      <td>Enhance stem growth</td>\n",
       "      <td>exhibit tuberization process</td>\n",
       "      <td>Allium cepa</td>\n",
       "      <td>Thomas,Hortc.Res.,12,(1972),77-79</td>\n",
       "    </tr>\n",
       "    <tr>\n",
       "      <th>1</th>\n",
       "      <td>C00000100</td>\n",
       "      <td>Indole-3-acetic acid\\nIAA</td>\n",
       "      <td>Enhance root growth</td>\n",
       "      <td>promote root elongation</td>\n",
       "      <td>Allium cepa</td>\n",
       "      <td>Diez,Planta,97,(1971),364-366</td>\n",
       "    </tr>\n",
       "    <tr>\n",
       "      <th>2</th>\n",
       "      <td>C00000100</td>\n",
       "      <td>Indole-3-acetic acid\\nIAA</td>\n",
       "      <td>Enhance root growth</td>\n",
       "      <td>inhibit root elongation</td>\n",
       "      <td>Allium cepa</td>\n",
       "      <td>Diez,Planta,97,(1971),364-366</td>\n",
       "    </tr>\n",
       "    <tr>\n",
       "      <th>3</th>\n",
       "      <td>C00001389</td>\n",
       "      <td>S-[(E)-Prop-1-enyl]-L-cysteine S-oxide</td>\n",
       "      <td>Irritant</td>\n",
       "      <td>the main lachrymatory principle, which is prod...</td>\n",
       "      <td>Allium cepa</td>\n",
       "      <td>Harborne,Phytochemical Dictionary Second Editi...</td>\n",
       "    </tr>\n",
       "    <tr>\n",
       "      <th>4</th>\n",
       "      <td>C00002359</td>\n",
       "      <td>Porritoxin</td>\n",
       "      <td>Phytotoxic</td>\n",
       "      <td>phytotoxin, a fungus causing black spot disease</td>\n",
       "      <td>Allium cepa</td>\n",
       "      <td>Harborne,Phytochemical Dictionary Second Editi...</td>\n",
       "    </tr>\n",
       "  </tbody>\n",
       "</table>\n",
       "</div>"
      ],
      "text/plain": [
       "        C_ID                         Metabolite Name    Activity Category  \\\n",
       "0  C00000092                        N6-Benzyladenine  Enhance stem growth   \n",
       "1  C00000100               Indole-3-acetic acid\\nIAA  Enhance root growth   \n",
       "2  C00000100               Indole-3-acetic acid\\nIAA  Enhance root growth   \n",
       "3  C00001389  S-[(E)-Prop-1-enyl]-L-cysteine S-oxide             Irritant   \n",
       "4  C00002359                              Porritoxin           Phytotoxic   \n",
       "\n",
       "                      Biological Activity (Function) Target Species  \\\n",
       "0                       exhibit tuberization process    Allium cepa   \n",
       "1                            promote root elongation    Allium cepa   \n",
       "2                            inhibit root elongation    Allium cepa   \n",
       "3  the main lachrymatory principle, which is prod...    Allium cepa   \n",
       "4    phytotoxin, a fungus causing black spot disease    Allium cepa   \n",
       "\n",
       "                                           Reference  \n",
       "0                  Thomas,Hortc.Res.,12,(1972),77-79  \n",
       "1                      Diez,Planta,97,(1971),364-366  \n",
       "2                      Diez,Planta,97,(1971),364-366  \n",
       "3  Harborne,Phytochemical Dictionary Second Editi...  \n",
       "4  Harborne,Phytochemical Dictionary Second Editi...  "
      ]
     },
     "execution_count": 165,
     "metadata": {},
     "output_type": "execute_result"
    }
   ],
   "source": [
    "data_knapsck"
   ]
  },
  {
   "cell_type": "markdown",
   "metadata": {},
   "source": [
    "**Get link to inspect**"
   ]
  },
  {
   "cell_type": "code",
   "execution_count": 166,
   "metadata": {
    "ExecuteTime": {
     "end_time": "2020-06-20T00:10:53.051919Z",
     "start_time": "2020-06-20T00:10:52.963927Z"
    }
   },
   "outputs": [
    {
     "name": "stdout",
     "output_type": "stream",
     "text": [
      "http://www.knapsackfamily.com/knapsack_core/information.php?sname=C_ID&word=C00000092\n",
      "http://www.knapsackfamily.com/knapsack_core/information.php?sname=C_ID&word=C00000100\n",
      "http://www.knapsackfamily.com/knapsack_core/information.php?sname=C_ID&word=C00000100\n",
      "http://www.knapsackfamily.com/knapsack_core/information.php?sname=C_ID&word=C00001389\n",
      "http://www.knapsackfamily.com/knapsack_core/information.php?sname=C_ID&word=C00002359\n"
     ]
    }
   ],
   "source": [
    "elems = table.find_elements_by_tag_name('a')\n",
    "link_data = []\n",
    "for elem in elems:\n",
    "    link = elem.get_attribute('href')\n",
    "    print(link)\n",
    "    link_data.append(link)"
   ]
  },
  {
   "cell_type": "code",
   "execution_count": 167,
   "metadata": {
    "ExecuteTime": {
     "end_time": "2020-06-20T00:10:55.965045Z",
     "start_time": "2020-06-20T00:10:55.956185Z"
    }
   },
   "outputs": [
    {
     "data": {
      "text/plain": [
       "['http://www.knapsackfamily.com/knapsack_core/information.php?sname=C_ID&word=C00000092',\n",
       " 'http://www.knapsackfamily.com/knapsack_core/information.php?sname=C_ID&word=C00000100',\n",
       " 'http://www.knapsackfamily.com/knapsack_core/information.php?sname=C_ID&word=C00000100',\n",
       " 'http://www.knapsackfamily.com/knapsack_core/information.php?sname=C_ID&word=C00001389',\n",
       " 'http://www.knapsackfamily.com/knapsack_core/information.php?sname=C_ID&word=C00002359']"
      ]
     },
     "execution_count": 167,
     "metadata": {},
     "output_type": "execute_result"
    }
   ],
   "source": [
    "link_data"
   ]
  },
  {
   "cell_type": "markdown",
   "metadata": {},
   "source": [
    "**Get the whole data**"
   ]
  },
  {
   "cell_type": "code",
   "execution_count": 169,
   "metadata": {
    "ExecuteTime": {
     "end_time": "2020-06-20T00:16:06.358414Z",
     "start_time": "2020-06-20T00:16:06.348222Z"
    }
   },
   "outputs": [],
   "source": [
    "data_knapsck_url = pd.concat([data_knapsck,pd.Series(data = link_data,name = 'Link')],axis=1)"
   ]
  },
  {
   "cell_type": "code",
   "execution_count": 170,
   "metadata": {
    "ExecuteTime": {
     "end_time": "2020-06-20T00:16:12.395513Z",
     "start_time": "2020-06-20T00:16:12.361591Z"
    }
   },
   "outputs": [
    {
     "data": {
      "text/html": [
       "<div>\n",
       "<style scoped>\n",
       "    .dataframe tbody tr th:only-of-type {\n",
       "        vertical-align: middle;\n",
       "    }\n",
       "\n",
       "    .dataframe tbody tr th {\n",
       "        vertical-align: top;\n",
       "    }\n",
       "\n",
       "    .dataframe thead th {\n",
       "        text-align: right;\n",
       "    }\n",
       "</style>\n",
       "<table border=\"1\" class=\"dataframe\">\n",
       "  <thead>\n",
       "    <tr style=\"text-align: right;\">\n",
       "      <th></th>\n",
       "      <th>C_ID</th>\n",
       "      <th>Metabolite Name</th>\n",
       "      <th>Activity Category</th>\n",
       "      <th>Biological Activity (Function)</th>\n",
       "      <th>Target Species</th>\n",
       "      <th>Reference</th>\n",
       "      <th>Link</th>\n",
       "    </tr>\n",
       "  </thead>\n",
       "  <tbody>\n",
       "    <tr>\n",
       "      <th>0</th>\n",
       "      <td>C00000092</td>\n",
       "      <td>N6-Benzyladenine</td>\n",
       "      <td>Enhance stem growth</td>\n",
       "      <td>exhibit tuberization process</td>\n",
       "      <td>Allium cepa</td>\n",
       "      <td>Thomas,Hortc.Res.,12,(1972),77-79</td>\n",
       "      <td>http://www.knapsackfamily.com/knapsack_core/in...</td>\n",
       "    </tr>\n",
       "    <tr>\n",
       "      <th>1</th>\n",
       "      <td>C00000100</td>\n",
       "      <td>Indole-3-acetic acid\\nIAA</td>\n",
       "      <td>Enhance root growth</td>\n",
       "      <td>promote root elongation</td>\n",
       "      <td>Allium cepa</td>\n",
       "      <td>Diez,Planta,97,(1971),364-366</td>\n",
       "      <td>http://www.knapsackfamily.com/knapsack_core/in...</td>\n",
       "    </tr>\n",
       "    <tr>\n",
       "      <th>2</th>\n",
       "      <td>C00000100</td>\n",
       "      <td>Indole-3-acetic acid\\nIAA</td>\n",
       "      <td>Enhance root growth</td>\n",
       "      <td>inhibit root elongation</td>\n",
       "      <td>Allium cepa</td>\n",
       "      <td>Diez,Planta,97,(1971),364-366</td>\n",
       "      <td>http://www.knapsackfamily.com/knapsack_core/in...</td>\n",
       "    </tr>\n",
       "    <tr>\n",
       "      <th>3</th>\n",
       "      <td>C00001389</td>\n",
       "      <td>S-[(E)-Prop-1-enyl]-L-cysteine S-oxide</td>\n",
       "      <td>Irritant</td>\n",
       "      <td>the main lachrymatory principle, which is prod...</td>\n",
       "      <td>Allium cepa</td>\n",
       "      <td>Harborne,Phytochemical Dictionary Second Editi...</td>\n",
       "      <td>http://www.knapsackfamily.com/knapsack_core/in...</td>\n",
       "    </tr>\n",
       "    <tr>\n",
       "      <th>4</th>\n",
       "      <td>C00002359</td>\n",
       "      <td>Porritoxin</td>\n",
       "      <td>Phytotoxic</td>\n",
       "      <td>phytotoxin, a fungus causing black spot disease</td>\n",
       "      <td>Allium cepa</td>\n",
       "      <td>Harborne,Phytochemical Dictionary Second Editi...</td>\n",
       "      <td>http://www.knapsackfamily.com/knapsack_core/in...</td>\n",
       "    </tr>\n",
       "  </tbody>\n",
       "</table>\n",
       "</div>"
      ],
      "text/plain": [
       "        C_ID                         Metabolite Name    Activity Category  \\\n",
       "0  C00000092                        N6-Benzyladenine  Enhance stem growth   \n",
       "1  C00000100               Indole-3-acetic acid\\nIAA  Enhance root growth   \n",
       "2  C00000100               Indole-3-acetic acid\\nIAA  Enhance root growth   \n",
       "3  C00001389  S-[(E)-Prop-1-enyl]-L-cysteine S-oxide             Irritant   \n",
       "4  C00002359                              Porritoxin           Phytotoxic   \n",
       "\n",
       "                      Biological Activity (Function) Target Species  \\\n",
       "0                       exhibit tuberization process    Allium cepa   \n",
       "1                            promote root elongation    Allium cepa   \n",
       "2                            inhibit root elongation    Allium cepa   \n",
       "3  the main lachrymatory principle, which is prod...    Allium cepa   \n",
       "4    phytotoxin, a fungus causing black spot disease    Allium cepa   \n",
       "\n",
       "                                           Reference  \\\n",
       "0                  Thomas,Hortc.Res.,12,(1972),77-79   \n",
       "1                      Diez,Planta,97,(1971),364-366   \n",
       "2                      Diez,Planta,97,(1971),364-366   \n",
       "3  Harborne,Phytochemical Dictionary Second Editi...   \n",
       "4  Harborne,Phytochemical Dictionary Second Editi...   \n",
       "\n",
       "                                                Link  \n",
       "0  http://www.knapsackfamily.com/knapsack_core/in...  \n",
       "1  http://www.knapsackfamily.com/knapsack_core/in...  \n",
       "2  http://www.knapsackfamily.com/knapsack_core/in...  \n",
       "3  http://www.knapsackfamily.com/knapsack_core/in...  \n",
       "4  http://www.knapsackfamily.com/knapsack_core/in...  "
      ]
     },
     "execution_count": 170,
     "metadata": {},
     "output_type": "execute_result"
    }
   ],
   "source": [
    "data_knapsck_url"
   ]
  }
 ],
 "metadata": {
  "kernelspec": {
   "display_name": "Python 3",
   "language": "python",
   "name": "python3"
  },
  "language_info": {
   "codemirror_mode": {
    "name": "ipython",
    "version": 3
   },
   "file_extension": ".py",
   "mimetype": "text/x-python",
   "name": "python",
   "nbconvert_exporter": "python",
   "pygments_lexer": "ipython3",
   "version": "3.6.9"
  }
 },
 "nbformat": 4,
 "nbformat_minor": 2
}
