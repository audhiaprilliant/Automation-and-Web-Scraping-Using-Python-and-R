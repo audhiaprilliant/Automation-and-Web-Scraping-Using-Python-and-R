{
 "cells": [
  {
   "cell_type": "markdown",
   "id": "optional-elder",
   "metadata": {},
   "source": [
    "# Web Scraping LPSE - Vendor (Announcement) Data"
   ]
  },
  {
   "cell_type": "markdown",
   "id": "equal-tattoo",
   "metadata": {},
   "source": [
    "---"
   ]
  },
  {
   "cell_type": "markdown",
   "id": "dynamic-feeding",
   "metadata": {},
   "source": [
    "For introduction of Selenium, please be kind to open [**this site**](https://www.scrapingbee.com/blog/selenium-python/)"
   ]
  },
  {
   "cell_type": "markdown",
   "id": "indirect-islam",
   "metadata": {},
   "source": [
    "## Import modules"
   ]
  },
  {
   "cell_type": "markdown",
   "id": "functioning-voluntary",
   "metadata": {
    "scrolled": true
   },
   "source": [
    "`%pip freeze > requirements.txt`"
   ]
  },
  {
   "cell_type": "code",
   "execution_count": 1,
   "id": "acceptable-denial",
   "metadata": {
    "ExecuteTime": {
     "end_time": "2020-06-19T23:39:06.502572Z",
     "start_time": "2020-06-19T23:39:06.497076Z"
    }
   },
   "outputs": [],
   "source": [
    "# Module for web scraping\n",
    "from selenium import webdriver\n",
    "# Module for data manipulation\n",
    "import pandas as pd\n",
    "from bs4 import BeautifulSoup\n",
    "# Module for dictionary setting\n",
    "from collections import defaultdict"
   ]
  },
  {
   "cell_type": "markdown",
   "id": "congressional-textbook",
   "metadata": {},
   "source": [
    "## Load the Chromedriver"
   ]
  },
  {
   "cell_type": "markdown",
   "id": "supposed-progressive",
   "metadata": {},
   "source": [
    "Read how to download webdriver for Chrome [**here**]('https://chromedriver.chromium.org/downloads')"
   ]
  },
  {
   "cell_type": "code",
   "execution_count": 2,
   "id": "useful-aquarium",
   "metadata": {},
   "outputs": [],
   "source": [
    "# Main link\n",
    "main_link = 'https://lpse.lkpp.go.id/eproc4/lelang/128119/pengumumanlelang'"
   ]
  },
  {
   "cell_type": "code",
   "execution_count": 3,
   "id": "universal-knight",
   "metadata": {
    "ExecuteTime": {
     "end_time": "2020-06-19T23:29:33.659375Z",
     "start_time": "2020-06-19T23:29:18.312261Z"
    }
   },
   "outputs": [],
   "source": [
    "# Access to main link\n",
    "DRIVER_PATH = '../bin/chromedriver'\n",
    "driver = webdriver.Chrome(executable_path = DRIVER_PATH)\n",
    "driver.get(main_link)"
   ]
  },
  {
   "cell_type": "markdown",
   "id": "psychological-reply",
   "metadata": {},
   "source": [
    "## Core Procedure"
   ]
  },
  {
   "cell_type": "markdown",
   "id": "optical-merchandise",
   "metadata": {},
   "source": [
    "### 1 Get links"
   ]
  },
  {
   "cell_type": "code",
   "execution_count": 51,
   "id": "aggressive-agency",
   "metadata": {},
   "outputs": [],
   "source": [
    "# Get links\n",
    "links = driver.find_elements_by_class_name('nav-link')\n",
    "listLink = [link.get_attribute('href') for link in links]"
   ]
  },
  {
   "cell_type": "code",
   "execution_count": 52,
   "id": "meaningful-liver",
   "metadata": {},
   "outputs": [
    {
     "data": {
      "text/plain": [
       "{'Pengumuman': 'https://lpse.lkpp.go.id/eproc4/lelang/128119/pengumumanlelang',\n",
       " 'Peserta': 'https://lpse.lkpp.go.id/eproc4/lelang/128119/peserta',\n",
       " 'Hasil Evaluasi': 'https://lpse.lkpp.go.id/eproc4/evaluasi/128119/hasil',\n",
       " 'Pemenang': 'https://lpse.lkpp.go.id/eproc4/evaluasi/128119/pemenang',\n",
       " 'Pemenang Berkontrak': 'https://lpse.lkpp.go.id/eproc4/evaluasi/128119/pemenangberkontrak'}"
      ]
     },
     "execution_count": 52,
     "metadata": {},
     "output_type": "execute_result"
    }
   ],
   "source": [
    "# List of link\n",
    "navName = ['Pengumuman', 'Peserta', 'Hasil Evaluasi', 'Pemenang', 'Pemenang Berkontrak']\n",
    "dictLink = dict(zip(navName, listLink))\n",
    "dictLink"
   ]
  },
  {
   "cell_type": "markdown",
   "id": "advanced-intellectual",
   "metadata": {},
   "source": [
    "### 2 Get information of announcement"
   ]
  },
  {
   "cell_type": "markdown",
   "id": "mighty-hybrid",
   "metadata": {},
   "source": [
    "#### Get link"
   ]
  },
  {
   "cell_type": "code",
   "execution_count": 53,
   "id": "republican-columbus",
   "metadata": {},
   "outputs": [
    {
     "data": {
      "text/plain": [
       "'https://lpse.lkpp.go.id/eproc4/lelang/128119/pengumumanlelang'"
      ]
     },
     "execution_count": 53,
     "metadata": {},
     "output_type": "execute_result"
    }
   ],
   "source": [
    "# Link of announcement\n",
    "linkAnnounce = dictLink['Pengumuman']\n",
    "linkAnnounce"
   ]
  },
  {
   "cell_type": "code",
   "execution_count": 54,
   "id": "noted-bridge",
   "metadata": {},
   "outputs": [],
   "source": [
    "# Access to evaluation's link\n",
    "driver.get(linkAnnounce)"
   ]
  },
  {
   "cell_type": "markdown",
   "id": "structural-gathering",
   "metadata": {},
   "source": [
    "#### Get column names"
   ]
  },
  {
   "cell_type": "code",
   "execution_count": 55,
   "id": "controlled-culture",
   "metadata": {},
   "outputs": [],
   "source": [
    "# Get the column elements\n",
    "announceSummaryData = driver.find_element_by_class_name('content')"
   ]
  },
  {
   "cell_type": "code",
   "execution_count": 56,
   "id": "prompt-wales",
   "metadata": {},
   "outputs": [],
   "source": [
    "dataCollection = announceSummaryData.find_element_by_tag_name('tbody').find_elements_by_tag_name('tr')"
   ]
  },
  {
   "cell_type": "code",
   "execution_count": 57,
   "id": "traditional-lawsuit",
   "metadata": {},
   "outputs": [
    {
     "name": "stdout",
     "output_type": "stream",
     "text": [
      "Length of data in one page: 23 rows\n"
     ]
    }
   ],
   "source": [
    "# Data collections\n",
    "dataCollection = announceSummaryData.find_element_by_tag_name('tbody').find_elements_by_tag_name('tr')\n",
    "print('Length of data in one page: {} rows'.format(len(dataCollection)))"
   ]
  },
  {
   "cell_type": "markdown",
   "id": "early-making",
   "metadata": {},
   "source": [
    "#### Get data from table"
   ]
  },
  {
   "cell_type": "code",
   "execution_count": 58,
   "id": "invisible-canvas",
   "metadata": {
    "scrolled": false
   },
   "outputs": [
    {
     "data": {
      "text/plain": [
       "{'0': 'Kode Tender',\n",
       " '1': 'Nama Tender',\n",
       " '2': 'Alasan di ulang',\n",
       " '3': 'Rencana Umum Pengadaan',\n",
       " '4': 'Tanggal Pembuatan',\n",
       " '5': 'Tahap Tender Saat Ini',\n",
       " '6': 'K/L/PD',\n",
       " '7': 'Satuan Kerja',\n",
       " '8': 'Jenis Pengadaan',\n",
       " '9': 'Metode Pengadaan',\n",
       " '10': '',\n",
       " '11': 'Tahun Anggaran',\n",
       " '12': 'Nilai Pagu Paket',\n",
       " '13': 'Jenis Kontrak',\n",
       " '14': 'Lokasi Pekerjaan',\n",
       " '15': 'Kualifikasi Usaha',\n",
       " '16': 'Syarat Kualifikasi',\n",
       " '17': 'Izin Usaha',\n",
       " '18': 'Izin Usaha',\n",
       " '22': 'Peserta Tender'}"
      ]
     },
     "execution_count": 58,
     "metadata": {},
     "output_type": "execute_result"
    }
   ],
   "source": [
    "# Get column names\n",
    "dictColNamesFirst = {}\n",
    "for idx in range(len(dataCollection)):\n",
    "    try:\n",
    "        colNames = dataCollection[idx].find_elements_by_tag_name('th')[0].text\n",
    "    except:\n",
    "        continue\n",
    "    dictColNamesFirst.update({str(idx): colNames})\n",
    "# Result\n",
    "dictColNamesFirst"
   ]
  },
  {
   "cell_type": "code",
   "execution_count": 59,
   "id": "worst-transfer",
   "metadata": {
    "scrolled": false
   },
   "outputs": [
    {
     "data": {
      "text/plain": [
       "{'0': '128119',\n",
       " '1': 'Pengadaan Alat Pengolah Data Tender Ulang',\n",
       " '2': '- Yang memasukan dokumen penawaran dan isian kualifikasi hanya satu perusahaan.',\n",
       " '3': '',\n",
       " '4': '26 Januari 2012',\n",
       " '5': 'Tender Sudah Selesai',\n",
       " '6': 'Kementerian Koordinator Bidang Perekonomian',\n",
       " '7': 'Sekretariat Dewan Nasional Kawasan Ekonomi Khusus',\n",
       " '8': 'Pengadaan Barang',\n",
       " '9': 'Lelang Umum - Pascakualifikasi Satu File - Harga Terendah Sistem Gugur',\n",
       " '10': '',\n",
       " '11': 'APBN 2012   ',\n",
       " '12': 'Rp. 206.000.000,00',\n",
       " '13': 'Lumsum',\n",
       " '14': 'DKI Jakarta -',\n",
       " '15': 'Kecil',\n",
       " '16': '* Ijin Usaha\\nIzin Usaha Klasifikasi\\nSIUP Bidang pemasokan barang, sub bidang alat/suku cadang/peralatan : komputer\\n* Telah Melunasi Kewajiban Pajak Tahun Terakhir\\nTelah melunasi kewajiban pajak tahun terakhir (SPT/PPh) serta memiliki laporan bulanan PPh Pasal 25 atau Pasal 21/Pasal 23 atau PPN sekurangkurangnya 3 (tiga) bulan yang lalu; bukti pelunasan pajak bulanan 3 (tiga) bulan terakhir : September, Oktober, dan Nopember 2011 bukti pelunasan pajak tahunan 2010 atau SKF 2010 NPWP\\n* Pengalaman Pekerjaan\\nmemiliki pengalaman pekerjaan sejenis minimal 1 paket, dalam kurun waktu 4 (empat) tahun terakhir, kecuali perusahan yang baru berdiri kurang dari 3 (tiga) tahun',\n",
       " '17': '*',\n",
       " '19': 'SIUP',\n",
       " '20': '*',\n",
       " '21': '*',\n",
       " '22': '69 peserta'}"
      ]
     },
     "execution_count": 59,
     "metadata": {},
     "output_type": "execute_result"
    }
   ],
   "source": [
    "# Get values\n",
    "dictValuesFirst = {}\n",
    "for idx in range(len(dataCollection)):\n",
    "    try:\n",
    "        value = dataCollection[idx].find_elements_by_tag_name('td')[0].text\n",
    "    except:\n",
    "        continue\n",
    "    dictValuesFirst.update({str(idx): value})\n",
    "# Result\n",
    "dictValuesFirst"
   ]
  },
  {
   "cell_type": "markdown",
   "id": "genetic-acting",
   "metadata": {},
   "source": [
    "## Convert into JSON"
   ]
  },
  {
   "cell_type": "code",
   "execution_count": 60,
   "id": "respiratory-question",
   "metadata": {},
   "outputs": [],
   "source": [
    "# Concate two dictionaries\n",
    "dictColVal = defaultdict(list)\n",
    "for d in (dictColNamesFirst, dictValuesFirst):\n",
    "    for key, value in d.items():\n",
    "        dictColVal[key].append(value)"
   ]
  },
  {
   "cell_type": "code",
   "execution_count": 61,
   "id": "fitting-measurement",
   "metadata": {},
   "outputs": [
    {
     "data": {
      "text/plain": [
       "defaultdict(list,\n",
       "            {'0': ['Kode Tender', '128119'],\n",
       "             '1': ['Nama Tender', 'Pengadaan Alat Pengolah Data Tender Ulang'],\n",
       "             '2': ['Alasan di ulang',\n",
       "              '- Yang memasukan dokumen penawaran dan isian kualifikasi hanya satu perusahaan.'],\n",
       "             '3': ['Rencana Umum Pengadaan', ''],\n",
       "             '4': ['Tanggal Pembuatan', '26 Januari 2012'],\n",
       "             '5': ['Tahap Tender Saat Ini', 'Tender Sudah Selesai'],\n",
       "             '6': ['K/L/PD', 'Kementerian Koordinator Bidang Perekonomian'],\n",
       "             '7': ['Satuan Kerja',\n",
       "              'Sekretariat Dewan Nasional Kawasan Ekonomi Khusus'],\n",
       "             '8': ['Jenis Pengadaan', 'Pengadaan Barang'],\n",
       "             '9': ['Metode Pengadaan',\n",
       "              'Lelang Umum - Pascakualifikasi Satu File - Harga Terendah Sistem Gugur'],\n",
       "             '10': ['', ''],\n",
       "             '11': ['Tahun Anggaran', 'APBN 2012   '],\n",
       "             '12': ['Nilai Pagu Paket', 'Rp. 206.000.000,00'],\n",
       "             '13': ['Jenis Kontrak', 'Lumsum'],\n",
       "             '14': ['Lokasi Pekerjaan', 'DKI Jakarta -'],\n",
       "             '15': ['Kualifikasi Usaha', 'Kecil'],\n",
       "             '16': ['Syarat Kualifikasi',\n",
       "              '* Ijin Usaha\\nIzin Usaha Klasifikasi\\nSIUP Bidang pemasokan barang, sub bidang alat/suku cadang/peralatan : komputer\\n* Telah Melunasi Kewajiban Pajak Tahun Terakhir\\nTelah melunasi kewajiban pajak tahun terakhir (SPT/PPh) serta memiliki laporan bulanan PPh Pasal 25 atau Pasal 21/Pasal 23 atau PPN sekurangkurangnya 3 (tiga) bulan yang lalu; bukti pelunasan pajak bulanan 3 (tiga) bulan terakhir : September, Oktober, dan Nopember 2011 bukti pelunasan pajak tahunan 2010 atau SKF 2010 NPWP\\n* Pengalaman Pekerjaan\\nmemiliki pengalaman pekerjaan sejenis minimal 1 paket, dalam kurun waktu 4 (empat) tahun terakhir, kecuali perusahan yang baru berdiri kurang dari 3 (tiga) tahun'],\n",
       "             '17': ['Izin Usaha', '*'],\n",
       "             '18': ['Izin Usaha'],\n",
       "             '22': ['Peserta Tender', '69 peserta'],\n",
       "             '19': ['SIUP'],\n",
       "             '20': ['*'],\n",
       "             '21': ['*']})"
      ]
     },
     "execution_count": 61,
     "metadata": {},
     "output_type": "execute_result"
    }
   ],
   "source": [
    "dictColVal"
   ]
  },
  {
   "cell_type": "code",
   "execution_count": 62,
   "id": "current-contributor",
   "metadata": {},
   "outputs": [],
   "source": [
    "# Final dictionary\n",
    "dict_full = {}\n",
    "for key in dictColVal.keys():\n",
    "    if len(dictColVal[key]) == 2 and dictColVal[key][0] != '' and dictColVal[key][0] != '':\n",
    "        dict_full.update({dictColVal[key][0]: dictColVal[key][1]})"
   ]
  },
  {
   "cell_type": "code",
   "execution_count": 63,
   "id": "sharing-dutch",
   "metadata": {},
   "outputs": [
    {
     "data": {
      "text/plain": [
       "{'Kode Tender': '128119',\n",
       " 'Nama Tender': 'Pengadaan Alat Pengolah Data Tender Ulang',\n",
       " 'Alasan di ulang': '- Yang memasukan dokumen penawaran dan isian kualifikasi hanya satu perusahaan.',\n",
       " 'Rencana Umum Pengadaan': '',\n",
       " 'Tanggal Pembuatan': '26 Januari 2012',\n",
       " 'Tahap Tender Saat Ini': 'Tender Sudah Selesai',\n",
       " 'K/L/PD': 'Kementerian Koordinator Bidang Perekonomian',\n",
       " 'Satuan Kerja': 'Sekretariat Dewan Nasional Kawasan Ekonomi Khusus',\n",
       " 'Jenis Pengadaan': 'Pengadaan Barang',\n",
       " 'Metode Pengadaan': 'Lelang Umum - Pascakualifikasi Satu File - Harga Terendah Sistem Gugur',\n",
       " 'Tahun Anggaran': 'APBN 2012   ',\n",
       " 'Nilai Pagu Paket': 'Rp. 206.000.000,00',\n",
       " 'Jenis Kontrak': 'Lumsum',\n",
       " 'Lokasi Pekerjaan': 'DKI Jakarta -',\n",
       " 'Kualifikasi Usaha': 'Kecil',\n",
       " 'Syarat Kualifikasi': '* Ijin Usaha\\nIzin Usaha Klasifikasi\\nSIUP Bidang pemasokan barang, sub bidang alat/suku cadang/peralatan : komputer\\n* Telah Melunasi Kewajiban Pajak Tahun Terakhir\\nTelah melunasi kewajiban pajak tahun terakhir (SPT/PPh) serta memiliki laporan bulanan PPh Pasal 25 atau Pasal 21/Pasal 23 atau PPN sekurangkurangnya 3 (tiga) bulan yang lalu; bukti pelunasan pajak bulanan 3 (tiga) bulan terakhir : September, Oktober, dan Nopember 2011 bukti pelunasan pajak tahunan 2010 atau SKF 2010 NPWP\\n* Pengalaman Pekerjaan\\nmemiliki pengalaman pekerjaan sejenis minimal 1 paket, dalam kurun waktu 4 (empat) tahun terakhir, kecuali perusahan yang baru berdiri kurang dari 3 (tiga) tahun',\n",
       " 'Izin Usaha': '*',\n",
       " 'Peserta Tender': '69 peserta'}"
      ]
     },
     "execution_count": 63,
     "metadata": {},
     "output_type": "execute_result"
    }
   ],
   "source": [
    "# Data\n",
    "dict_full"
   ]
  }
 ],
 "metadata": {
  "kernelspec": {
   "display_name": "Python 3",
   "language": "python",
   "name": "python3"
  },
  "language_info": {
   "codemirror_mode": {
    "name": "ipython",
    "version": 3
   },
   "file_extension": ".py",
   "mimetype": "text/x-python",
   "name": "python",
   "nbconvert_exporter": "python",
   "pygments_lexer": "ipython3",
   "version": "3.8.3"
  }
 },
 "nbformat": 4,
 "nbformat_minor": 5
}
