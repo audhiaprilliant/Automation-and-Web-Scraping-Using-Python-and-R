{
 "cells": [
  {
   "cell_type": "markdown",
   "id": "optional-elder",
   "metadata": {},
   "source": [
    "# Web Scraping LPSE - Vendor (Announcement) Data"
   ]
  },
  {
   "cell_type": "markdown",
   "id": "equal-tattoo",
   "metadata": {},
   "source": [
    "---"
   ]
  },
  {
   "cell_type": "markdown",
   "id": "dynamic-feeding",
   "metadata": {},
   "source": [
    "For introduction of Selenium, please be kind to open [**this site**](https://www.scrapingbee.com/blog/selenium-python/)"
   ]
  },
  {
   "cell_type": "markdown",
   "id": "indirect-islam",
   "metadata": {},
   "source": [
    "## Import modules"
   ]
  },
  {
   "cell_type": "markdown",
   "id": "functioning-voluntary",
   "metadata": {
    "scrolled": true
   },
   "source": [
    "`%pip freeze > requirements.txt`"
   ]
  },
  {
   "cell_type": "code",
   "execution_count": 1,
   "id": "acceptable-denial",
   "metadata": {
    "ExecuteTime": {
     "end_time": "2020-06-19T23:39:06.502572Z",
     "start_time": "2020-06-19T23:39:06.497076Z"
    }
   },
   "outputs": [],
   "source": [
    "# Module for web scraping\n",
    "from selenium import webdriver\n",
    "# Module for data manipulation\n",
    "import pandas as pd\n",
    "from bs4 import BeautifulSoup"
   ]
  },
  {
   "cell_type": "markdown",
   "id": "congressional-textbook",
   "metadata": {},
   "source": [
    "## Load the Chromedriver"
   ]
  },
  {
   "cell_type": "markdown",
   "id": "supposed-progressive",
   "metadata": {},
   "source": [
    "Read how to download webdriver for Chrome [**here**]('https://chromedriver.chromium.org/downloads')"
   ]
  },
  {
   "cell_type": "code",
   "execution_count": 2,
   "id": "useful-aquarium",
   "metadata": {},
   "outputs": [],
   "source": [
    "# Main link\n",
    "main_link = 'https://lpse.lkpp.go.id/eproc4/lelang/139119/pengumumanlelang'"
   ]
  },
  {
   "cell_type": "code",
   "execution_count": 3,
   "id": "universal-knight",
   "metadata": {
    "ExecuteTime": {
     "end_time": "2020-06-19T23:29:33.659375Z",
     "start_time": "2020-06-19T23:29:18.312261Z"
    }
   },
   "outputs": [],
   "source": [
    "# Access to main link\n",
    "DRIVER_PATH = '../bin/chromedriver'\n",
    "driver = webdriver.Chrome(executable_path = DRIVER_PATH)\n",
    "driver.get(main_link)"
   ]
  },
  {
   "cell_type": "markdown",
   "id": "psychological-reply",
   "metadata": {},
   "source": [
    "## Core Procedure"
   ]
  },
  {
   "cell_type": "markdown",
   "id": "optical-merchandise",
   "metadata": {},
   "source": [
    "### 1 Get links"
   ]
  },
  {
   "cell_type": "code",
   "execution_count": 4,
   "id": "aggressive-agency",
   "metadata": {},
   "outputs": [],
   "source": [
    "# Get links\n",
    "links = driver.find_elements_by_class_name('nav-link')\n",
    "listLink = [link.get_attribute('href') for link in links]"
   ]
  },
  {
   "cell_type": "code",
   "execution_count": 5,
   "id": "meaningful-liver",
   "metadata": {},
   "outputs": [
    {
     "data": {
      "text/plain": [
       "{'Pengumuman': 'https://lpse.lkpp.go.id/eproc4/lelang/139119/pengumumanlelang',\n",
       " 'Peserta': 'https://lpse.lkpp.go.id/eproc4/lelang/139119/peserta',\n",
       " 'Hasil Evaluasi': 'https://lpse.lkpp.go.id/eproc4/evaluasi/139119/hasil',\n",
       " 'Pemenang': 'https://lpse.lkpp.go.id/eproc4/evaluasi/139119/pemenang',\n",
       " 'Pemenang Berkontrak': 'https://lpse.lkpp.go.id/eproc4/evaluasi/139119/pemenangberkontrak'}"
      ]
     },
     "execution_count": 5,
     "metadata": {},
     "output_type": "execute_result"
    }
   ],
   "source": [
    "# List of link\n",
    "navName = ['Pengumuman', 'Peserta', 'Hasil Evaluasi', 'Pemenang', 'Pemenang Berkontrak']\n",
    "dictLink = dict(zip(navName, listLink))\n",
    "dictLink"
   ]
  },
  {
   "cell_type": "markdown",
   "id": "advanced-intellectual",
   "metadata": {},
   "source": [
    "### 2 Get information of evaluation"
   ]
  },
  {
   "cell_type": "markdown",
   "id": "mighty-hybrid",
   "metadata": {},
   "source": [
    "#### Get link"
   ]
  },
  {
   "cell_type": "code",
   "execution_count": 7,
   "id": "republican-columbus",
   "metadata": {},
   "outputs": [
    {
     "data": {
      "text/plain": [
       "'https://lpse.lkpp.go.id/eproc4/lelang/139119/pengumumanlelang'"
      ]
     },
     "execution_count": 7,
     "metadata": {},
     "output_type": "execute_result"
    }
   ],
   "source": [
    "# Link of announcement\n",
    "linkAnnounce = dictLink['Pengumuman']\n",
    "linkAnnounce"
   ]
  },
  {
   "cell_type": "code",
   "execution_count": 9,
   "id": "noted-bridge",
   "metadata": {},
   "outputs": [],
   "source": [
    "# Access to evaluation's link\n",
    "driver.get(linkAnnounce)"
   ]
  },
  {
   "cell_type": "markdown",
   "id": "structural-gathering",
   "metadata": {},
   "source": [
    "#### Get column names"
   ]
  },
  {
   "cell_type": "code",
   "execution_count": 14,
   "id": "controlled-culture",
   "metadata": {},
   "outputs": [],
   "source": [
    "# Get the column elements\n",
    "announceSummaryData = driver.find_element_by_class_name('content')"
   ]
  },
  {
   "cell_type": "code",
   "execution_count": 15,
   "id": "prompt-wales",
   "metadata": {},
   "outputs": [],
   "source": [
    "dataCollection = announceSummaryData.find_element_by_tag_name('tbody').find_elements_by_tag_name('tr')"
   ]
  },
  {
   "cell_type": "code",
   "execution_count": 18,
   "id": "traditional-lawsuit",
   "metadata": {},
   "outputs": [
    {
     "name": "stdout",
     "output_type": "stream",
     "text": [
      "Length of data in one page: 25 rows\n"
     ]
    }
   ],
   "source": [
    "# Data collections\n",
    "dataCollection = announceSummaryData.find_element_by_tag_name('tbody').find_elements_by_tag_name('tr')\n",
    "print('Length of data in one page: {} rows'.format(len(dataCollection)))"
   ]
  },
  {
   "cell_type": "markdown",
   "id": "caring-identification",
   "metadata": {},
   "source": [
    "# ========="
   ]
  },
  {
   "cell_type": "code",
   "execution_count": 97,
   "id": "invisible-canvas",
   "metadata": {
    "scrolled": false
   },
   "outputs": [
    {
     "name": "stdout",
     "output_type": "stream",
     "text": [
      "0 Kode Tender\n",
      "1 Nama Tender\n",
      "2 Rencana Umum Pengadaan\n",
      "3 Tanggal Pembuatan\n",
      "4 Tahap Tender Saat Ini\n",
      "5 K/L/PD\n",
      "6 Satuan Kerja\n",
      "7 Jenis Pengadaan\n",
      "8 Metode Pengadaan\n",
      "9 \n",
      "10 Tahun Anggaran\n",
      "11 Nilai Pagu Paket\n",
      "12 Jenis Kontrak\n",
      "13 Lokasi Pekerjaan\n",
      "14 Kualifikasi Usaha\n",
      "15 Syarat Kualifikasi\n",
      "16 Izin Usaha\n",
      "17 Izin Usaha\n",
      "18 SIUP Komputer Dan Telekomunikasi\n",
      "19 TDP\n",
      "20 NPWP\n",
      "21 * Memiliki Surat Keterangan Dukungan Keuangan dari Bank Pemerintah atau Swasta untuk Mengikuti Pengadaan Barang/Jasa\n",
      "22 * Telah Melunasi Kewajiban Pajak Tahun Terakhir\n",
      "23 * Pengalaman Pekerjaan\n",
      "peserta berbentuk badan usaha harus memperoleh paling sedikit 1 (satu) pekerjaan sejenis sebagai penyedia dalam kurun waktu 3 (tiga) tahun terakhir, baik di lingkungan pemerintah maupun swasta termasuk pengalaman subkontrak, kecuali bagi penyedia yang baru berdiri kurang dari 3 (tiga) tahun;\n",
      "24 Peserta Tender\n"
     ]
    },
    {
     "data": {
      "text/plain": [
       "['Kode Tender',\n",
       " 'Nama Tender',\n",
       " 'Rencana Umum Pengadaan',\n",
       " 'Tanggal Pembuatan',\n",
       " 'Tahap Tender Saat Ini',\n",
       " 'K/L/PD',\n",
       " 'Satuan Kerja',\n",
       " 'Jenis Pengadaan',\n",
       " 'Metode Pengadaan',\n",
       " '',\n",
       " 'Tahun Anggaran',\n",
       " 'Nilai Pagu Paket',\n",
       " 'Jenis Kontrak',\n",
       " 'Lokasi Pekerjaan',\n",
       " 'Kualifikasi Usaha',\n",
       " 'Syarat Kualifikasi',\n",
       " 'Izin Usaha',\n",
       " 'Izin Usaha',\n",
       " 'SIUP Komputer Dan Telekomunikasi',\n",
       " 'TDP',\n",
       " 'NPWP',\n",
       " '* Memiliki Surat Keterangan Dukungan Keuangan dari Bank Pemerintah atau Swasta untuk Mengikuti Pengadaan Barang/Jasa',\n",
       " '* Telah Melunasi Kewajiban Pajak Tahun Terakhir',\n",
       " '* Pengalaman Pekerjaan\\npeserta berbentuk badan usaha harus memperoleh paling sedikit 1 (satu) pekerjaan sejenis sebagai penyedia dalam kurun waktu 3 (tiga) tahun terakhir, baik di lingkungan pemerintah maupun swasta termasuk pengalaman subkontrak, kecuali bagi penyedia yang baru berdiri kurang dari 3 (tiga) tahun;',\n",
       " 'Peserta Tender']"
      ]
     },
     "execution_count": 97,
     "metadata": {},
     "output_type": "execute_result"
    }
   ],
   "source": [
    "# Get column names\n",
    "listColNamesFirst = []\n",
    "for idx in range(len(dataCollection)):\n",
    "    try:\n",
    "        colNames = dataCollection[idx].find_elements_by_tag_name('th')[0].text\n",
    "    except:\n",
    "        colNames = dataCollection[idx].text\n",
    "    listColNamesFirst.append(colNames)\n",
    "    print(idx, colNames)\n",
    "# Result\n",
    "listColNamesFirst"
   ]
  },
  {
   "cell_type": "code",
   "execution_count": 70,
   "id": "nearby-updating",
   "metadata": {},
   "outputs": [
    {
     "data": {
      "text/plain": [
       "'Peserta Tender'"
      ]
     },
     "execution_count": 70,
     "metadata": {},
     "output_type": "execute_result"
    }
   ],
   "source": [
    "dataCollection[idx].find_elements_by_tag_name('th')[0].text"
   ]
  },
  {
   "cell_type": "code",
   "execution_count": 98,
   "id": "worst-transfer",
   "metadata": {
    "scrolled": false
   },
   "outputs": [
    {
     "name": "stdout",
     "output_type": "stream",
     "text": [
      "0 Kode Tender\n",
      "1 Nama Tender\n",
      "2 Rencana Umum Pengadaan\n",
      "3 Tanggal Pembuatan\n",
      "4 Tahap Tender Saat Ini\n",
      "5 K/L/PD\n",
      "6 Satuan Kerja\n",
      "7 Jenis Pengadaan\n",
      "8 Metode Pengadaan\n",
      "9 \n",
      "10 Tahun Anggaran\n",
      "11 Nilai Pagu Paket\n",
      "11 Nilai HPS Paket\n",
      "12 Jenis Kontrak\n",
      "12 Cara Pembayaran\n",
      "13 Lokasi Pekerjaan\n",
      "14 Kualifikasi Usaha\n",
      "15 Syarat Kualifikasi\n",
      "15 Izin Usaha\n",
      "15 Klasifikasi\n",
      "16 Izin Usaha\n",
      "16 Klasifikasi\n",
      "17 Izin Usaha\n",
      "17 Klasifikasi\n",
      "24 Peserta Tender\n"
     ]
    }
   ],
   "source": [
    "# Get column names\n",
    "listColNamesFirst = []\n",
    "for idx in range(len(dataCollection)):\n",
    "    try:\n",
    "        colval = dataCollection[idx].find_elements_by_tag_name('th')\n",
    "        for i in range(len(colval)):\n",
    "            colNames = colval[i].text\n",
    "            listColNamesFirst.append(colNames)\n",
    "            print(idx, colNames)\n",
    "    except:\n",
    "        continue\n",
    "# Result\n",
    "# listColNamesFirst"
   ]
  },
  {
   "cell_type": "code",
   "execution_count": 77,
   "id": "coated-lexington",
   "metadata": {},
   "outputs": [
    {
     "data": {
      "text/plain": [
       "['Kode Tender',\n",
       " 'Nama Tender',\n",
       " 'Rencana Umum Pengadaan',\n",
       " 'Tanggal Pembuatan',\n",
       " 'Tahap Tender Saat Ini',\n",
       " 'K/L/PD',\n",
       " 'Satuan Kerja',\n",
       " 'Jenis Pengadaan',\n",
       " 'Metode Pengadaan',\n",
       " '',\n",
       " 'Tahun Anggaran',\n",
       " 'Nilai Pagu Paket',\n",
       " 'Nilai HPS Paket',\n",
       " 'Jenis Kontrak',\n",
       " 'Cara Pembayaran',\n",
       " 'Lokasi Pekerjaan',\n",
       " 'Kualifikasi Usaha',\n",
       " 'Syarat Kualifikasi',\n",
       " 'Izin Usaha',\n",
       " 'Klasifikasi',\n",
       " 'Izin Usaha',\n",
       " 'Klasifikasi',\n",
       " 'Izin Usaha',\n",
       " 'Klasifikasi',\n",
       " 'Peserta Tender']"
      ]
     },
     "execution_count": 77,
     "metadata": {},
     "output_type": "execute_result"
    }
   ],
   "source": [
    "listColNamesFirst"
   ]
  },
  {
   "cell_type": "code",
   "execution_count": 129,
   "id": "thousand-expression",
   "metadata": {
    "scrolled": true
   },
   "outputs": [
    {
     "name": "stdout",
     "output_type": "stream",
     "text": [
      "0 Kode Tender\n",
      "1 Nama Tender\n",
      "2 Rencana Umum Pengadaan\n",
      "3 Tanggal Pembuatan\n",
      "4 Tahap Tender Saat Ini\n",
      "5 K/L/PD\n",
      "6 Satuan Kerja\n",
      "7 Jenis Pengadaan\n",
      "8 Metode Pengadaan\n",
      "9 \n",
      "10 Tahun Anggaran\n",
      "11 Nilai Pagu Paket\n",
      "12 Jenis Kontrak\n",
      "13 Lokasi Pekerjaan\n",
      "14 Kualifikasi Usaha\n",
      "15 Syarat Kualifikasi\n",
      "16 Izin Usaha\n",
      "17 Izin Usaha\n",
      "24 Peserta Tender\n"
     ]
    }
   ],
   "source": [
    "# Get column names\n",
    "listColNamesFirst = {}\n",
    "for idx in range(len(dataCollection)):\n",
    "    try:\n",
    "        colNames = dataCollection[idx].find_elements_by_tag_name('th')[0].text\n",
    "    except:\n",
    "        continue\n",
    "    listColNamesFirst.update({str(idx): colNames})\n",
    "    print(idx, colNames)\n",
    "# Result\n",
    "# listColNamesFirst"
   ]
  },
  {
   "cell_type": "code",
   "execution_count": 130,
   "id": "exact-layer",
   "metadata": {},
   "outputs": [
    {
     "data": {
      "text/plain": [
       "{'0': 'Kode Tender',\n",
       " '1': 'Nama Tender',\n",
       " '2': 'Rencana Umum Pengadaan',\n",
       " '3': 'Tanggal Pembuatan',\n",
       " '4': 'Tahap Tender Saat Ini',\n",
       " '5': 'K/L/PD',\n",
       " '6': 'Satuan Kerja',\n",
       " '7': 'Jenis Pengadaan',\n",
       " '8': 'Metode Pengadaan',\n",
       " '9': '',\n",
       " '10': 'Tahun Anggaran',\n",
       " '11': 'Nilai Pagu Paket',\n",
       " '12': 'Jenis Kontrak',\n",
       " '13': 'Lokasi Pekerjaan',\n",
       " '14': 'Kualifikasi Usaha',\n",
       " '15': 'Syarat Kualifikasi',\n",
       " '16': 'Izin Usaha',\n",
       " '17': 'Izin Usaha',\n",
       " '24': 'Peserta Tender'}"
      ]
     },
     "execution_count": 130,
     "metadata": {},
     "output_type": "execute_result"
    }
   ],
   "source": [
    "listColNamesFirst"
   ]
  },
  {
   "cell_type": "code",
   "execution_count": 102,
   "id": "judicial-software",
   "metadata": {
    "scrolled": false
   },
   "outputs": [
    {
     "data": {
      "text/plain": [
       "24"
      ]
     },
     "execution_count": 102,
     "metadata": {},
     "output_type": "execute_result"
    }
   ],
   "source": [
    "len(listValuesFirst)"
   ]
  },
  {
   "cell_type": "code",
   "execution_count": 131,
   "id": "changing-compression",
   "metadata": {
    "scrolled": false
   },
   "outputs": [
    {
     "name": "stdout",
     "output_type": "stream",
     "text": [
      "0 139119\n",
      "1 1 (satu) Paket Peralatan Observasi Geimagnet Landas Bumi\n",
      "2 \n",
      "3 2 Februari 2012\n",
      "4 Tender Sudah Selesai\n",
      "5 Lembaga Penerbangan Dan Antariksa Nasional (LAPAN)\n",
      "6 Pusat Sains Antariksa\n",
      "7 Pengadaan Barang\n",
      "8 Lelang Umum - Pascakualifikasi Satu File - Harga Terendah Sistem Gugur\n",
      "9 \n",
      "10 APBN 2012   \n",
      "11 Rp. 1.556.954.000,00\n",
      "12 Lumsum\n",
      "13 Bandung -\n",
      "14 Kecil\n",
      "15 * Ijin Usaha\n",
      "Izin Usaha Klasifikasi\n",
      "SIUP Komputer Dan Telekomunikasi\n",
      "TDP\n",
      "NPWP\n",
      "* Memiliki Surat Keterangan Dukungan Keuangan dari Bank Pemerintah atau Swasta untuk Mengikuti Pengadaan Barang/Jasa\n",
      "* Telah Melunasi Kewajiban Pajak Tahun Terakhir\n",
      "* Pengalaman Pekerjaan\n",
      "peserta berbentuk badan usaha harus memperoleh paling sedikit 1 (satu) pekerjaan sejenis sebagai penyedia dalam kurun waktu 3 (tiga) tahun terakhir, baik di lingkungan pemerintah maupun swasta termasuk pengalaman subkontrak, kecuali bagi penyedia yang baru berdiri kurang dari 3 (tiga) tahun;\n",
      "16 *\n",
      "18 SIUP\n",
      "19 TDP\n",
      "20 NPWP\n",
      "21 *\n",
      "22 *\n",
      "23 *\n",
      "24 23 peserta\n"
     ]
    }
   ],
   "source": [
    "# Get values\n",
    "listValuesFirst = {}\n",
    "for idx in range(len(dataCollection)):\n",
    "    try:\n",
    "        value = dataCollection[idx].find_elements_by_tag_name('td')[0].text\n",
    "    except:\n",
    "        continue\n",
    "    listValuesFirst.update({str(idx): value})\n",
    "    print(idx, value)\n",
    "# Result\n",
    "# listValuesFirst"
   ]
  },
  {
   "cell_type": "code",
   "execution_count": 132,
   "id": "angry-functionality",
   "metadata": {},
   "outputs": [
    {
     "data": {
      "text/plain": [
       "{'0': '139119',\n",
       " '1': '1 (satu) Paket Peralatan Observasi Geimagnet Landas Bumi',\n",
       " '2': '',\n",
       " '3': '2 Februari 2012',\n",
       " '4': 'Tender Sudah Selesai',\n",
       " '5': 'Lembaga Penerbangan Dan Antariksa Nasional (LAPAN)',\n",
       " '6': 'Pusat Sains Antariksa',\n",
       " '7': 'Pengadaan Barang',\n",
       " '8': 'Lelang Umum - Pascakualifikasi Satu File - Harga Terendah Sistem Gugur',\n",
       " '9': '',\n",
       " '10': 'APBN 2012   ',\n",
       " '11': 'Rp. 1.556.954.000,00',\n",
       " '12': 'Lumsum',\n",
       " '13': 'Bandung -',\n",
       " '14': 'Kecil',\n",
       " '15': '* Ijin Usaha\\nIzin Usaha Klasifikasi\\nSIUP Komputer Dan Telekomunikasi\\nTDP\\nNPWP\\n* Memiliki Surat Keterangan Dukungan Keuangan dari Bank Pemerintah atau Swasta untuk Mengikuti Pengadaan Barang/Jasa\\n* Telah Melunasi Kewajiban Pajak Tahun Terakhir\\n* Pengalaman Pekerjaan\\npeserta berbentuk badan usaha harus memperoleh paling sedikit 1 (satu) pekerjaan sejenis sebagai penyedia dalam kurun waktu 3 (tiga) tahun terakhir, baik di lingkungan pemerintah maupun swasta termasuk pengalaman subkontrak, kecuali bagi penyedia yang baru berdiri kurang dari 3 (tiga) tahun;',\n",
       " '16': '*',\n",
       " '18': 'SIUP',\n",
       " '19': 'TDP',\n",
       " '20': 'NPWP',\n",
       " '21': '*',\n",
       " '22': '*',\n",
       " '23': '*',\n",
       " '24': '23 peserta'}"
      ]
     },
     "execution_count": 132,
     "metadata": {},
     "output_type": "execute_result"
    }
   ],
   "source": [
    "listValuesFirst"
   ]
  },
  {
   "cell_type": "code",
   "execution_count": 173,
   "id": "respiratory-question",
   "metadata": {},
   "outputs": [],
   "source": [
    "dd = defaultdict(list)\n",
    "\n",
    "for d in (listColNamesFirst, listValuesFirst):\n",
    "    for key, value in d.items():\n",
    "        dd[key].append(value)"
   ]
  },
  {
   "cell_type": "code",
   "execution_count": 193,
   "id": "fitting-measurement",
   "metadata": {},
   "outputs": [
    {
     "data": {
      "text/plain": [
       "defaultdict(list,\n",
       "            {'0': ['Kode Tender', '139119'],\n",
       "             '1': ['Nama Tender',\n",
       "              '1 (satu) Paket Peralatan Observasi Geimagnet Landas Bumi'],\n",
       "             '2': ['Rencana Umum Pengadaan', ''],\n",
       "             '3': ['Tanggal Pembuatan', '2 Februari 2012'],\n",
       "             '4': ['Tahap Tender Saat Ini', 'Tender Sudah Selesai'],\n",
       "             '5': ['K/L/PD',\n",
       "              'Lembaga Penerbangan Dan Antariksa Nasional (LAPAN)'],\n",
       "             '6': ['Satuan Kerja', 'Pusat Sains Antariksa'],\n",
       "             '7': ['Jenis Pengadaan', 'Pengadaan Barang'],\n",
       "             '8': ['Metode Pengadaan',\n",
       "              'Lelang Umum - Pascakualifikasi Satu File - Harga Terendah Sistem Gugur'],\n",
       "             '9': ['', ''],\n",
       "             '10': ['Tahun Anggaran', 'APBN 2012   '],\n",
       "             '11': ['Nilai Pagu Paket', 'Rp. 1.556.954.000,00'],\n",
       "             '12': ['Jenis Kontrak', 'Lumsum'],\n",
       "             '13': ['Lokasi Pekerjaan', 'Bandung -'],\n",
       "             '14': ['Kualifikasi Usaha', 'Kecil'],\n",
       "             '15': ['Syarat Kualifikasi',\n",
       "              '* Ijin Usaha\\nIzin Usaha Klasifikasi\\nSIUP Komputer Dan Telekomunikasi\\nTDP\\nNPWP\\n* Memiliki Surat Keterangan Dukungan Keuangan dari Bank Pemerintah atau Swasta untuk Mengikuti Pengadaan Barang/Jasa\\n* Telah Melunasi Kewajiban Pajak Tahun Terakhir\\n* Pengalaman Pekerjaan\\npeserta berbentuk badan usaha harus memperoleh paling sedikit 1 (satu) pekerjaan sejenis sebagai penyedia dalam kurun waktu 3 (tiga) tahun terakhir, baik di lingkungan pemerintah maupun swasta termasuk pengalaman subkontrak, kecuali bagi penyedia yang baru berdiri kurang dari 3 (tiga) tahun;'],\n",
       "             '16': ['Izin Usaha', '*'],\n",
       "             '17': ['Izin Usaha'],\n",
       "             '24': ['Peserta Tender', '23 peserta'],\n",
       "             '18': ['SIUP'],\n",
       "             '19': ['TDP'],\n",
       "             '20': ['NPWP'],\n",
       "             '21': ['*'],\n",
       "             '22': ['*'],\n",
       "             '23': ['*']})"
      ]
     },
     "execution_count": 193,
     "metadata": {},
     "output_type": "execute_result"
    }
   ],
   "source": [
    "dd"
   ]
  },
  {
   "cell_type": "code",
   "execution_count": 208,
   "id": "current-contributor",
   "metadata": {},
   "outputs": [],
   "source": [
    "d = {}\n",
    "for key in dd.keys():\n",
    "    if len(dd[key]) == 2 and dd[key][0] != '' and dd[key][0] != '':\n",
    "        d.update({dd[key][0]: dd[key][1]})"
   ]
  },
  {
   "cell_type": "code",
   "execution_count": 209,
   "id": "sharing-dutch",
   "metadata": {},
   "outputs": [
    {
     "data": {
      "text/plain": [
       "{'Kode Tender': '139119',\n",
       " 'Nama Tender': '1 (satu) Paket Peralatan Observasi Geimagnet Landas Bumi',\n",
       " 'Rencana Umum Pengadaan': '',\n",
       " 'Tanggal Pembuatan': '2 Februari 2012',\n",
       " 'Tahap Tender Saat Ini': 'Tender Sudah Selesai',\n",
       " 'K/L/PD': 'Lembaga Penerbangan Dan Antariksa Nasional (LAPAN)',\n",
       " 'Satuan Kerja': 'Pusat Sains Antariksa',\n",
       " 'Jenis Pengadaan': 'Pengadaan Barang',\n",
       " 'Metode Pengadaan': 'Lelang Umum - Pascakualifikasi Satu File - Harga Terendah Sistem Gugur',\n",
       " 'Tahun Anggaran': 'APBN 2012   ',\n",
       " 'Nilai Pagu Paket': 'Rp. 1.556.954.000,00',\n",
       " 'Jenis Kontrak': 'Lumsum',\n",
       " 'Lokasi Pekerjaan': 'Bandung -',\n",
       " 'Kualifikasi Usaha': 'Kecil',\n",
       " 'Syarat Kualifikasi': '* Ijin Usaha\\nIzin Usaha Klasifikasi\\nSIUP Komputer Dan Telekomunikasi\\nTDP\\nNPWP\\n* Memiliki Surat Keterangan Dukungan Keuangan dari Bank Pemerintah atau Swasta untuk Mengikuti Pengadaan Barang/Jasa\\n* Telah Melunasi Kewajiban Pajak Tahun Terakhir\\n* Pengalaman Pekerjaan\\npeserta berbentuk badan usaha harus memperoleh paling sedikit 1 (satu) pekerjaan sejenis sebagai penyedia dalam kurun waktu 3 (tiga) tahun terakhir, baik di lingkungan pemerintah maupun swasta termasuk pengalaman subkontrak, kecuali bagi penyedia yang baru berdiri kurang dari 3 (tiga) tahun;',\n",
       " 'Izin Usaha': '*',\n",
       " 'Peserta Tender': '23 peserta'}"
      ]
     },
     "execution_count": 209,
     "metadata": {},
     "output_type": "execute_result"
    }
   ],
   "source": [
    "d"
   ]
  },
  {
   "cell_type": "code",
   "execution_count": 195,
   "id": "outdoor-combining",
   "metadata": {},
   "outputs": [
    {
     "data": {
      "text/plain": [
       "{'Kode Tender': '139119',\n",
       " 'Nama Tender': '1 (satu) Paket Peralatan Observasi Geimagnet Landas Bumi',\n",
       " 'Rencana Umum Pengadaan': '',\n",
       " 'Tanggal Pembuatan': '2 Februari 2012',\n",
       " 'Tahap Tender Saat Ini': 'Tender Sudah Selesai',\n",
       " 'K/L/PD': 'Lembaga Penerbangan Dan Antariksa Nasional (LAPAN)',\n",
       " 'Satuan Kerja': 'Pusat Sains Antariksa',\n",
       " 'Jenis Pengadaan': 'Pengadaan Barang',\n",
       " 'Metode Pengadaan': 'Lelang Umum - Pascakualifikasi Satu File - Harga Terendah Sistem Gugur',\n",
       " '': '',\n",
       " 'Tahun Anggaran': 'APBN 2012   ',\n",
       " 'Nilai Pagu Paket': 'Rp. 1.556.954.000,00',\n",
       " 'Jenis Kontrak': 'Lumsum',\n",
       " 'Lokasi Pekerjaan': 'Bandung -',\n",
       " 'Kualifikasi Usaha': 'Kecil',\n",
       " 'Syarat Kualifikasi': '* Ijin Usaha\\nIzin Usaha Klasifikasi\\nSIUP Komputer Dan Telekomunikasi\\nTDP\\nNPWP\\n* Memiliki Surat Keterangan Dukungan Keuangan dari Bank Pemerintah atau Swasta untuk Mengikuti Pengadaan Barang/Jasa\\n* Telah Melunasi Kewajiban Pajak Tahun Terakhir\\n* Pengalaman Pekerjaan\\npeserta berbentuk badan usaha harus memperoleh paling sedikit 1 (satu) pekerjaan sejenis sebagai penyedia dalam kurun waktu 3 (tiga) tahun terakhir, baik di lingkungan pemerintah maupun swasta termasuk pengalaman subkontrak, kecuali bagi penyedia yang baru berdiri kurang dari 3 (tiga) tahun;',\n",
       " 'Izin Usaha': '*',\n",
       " '17': None,\n",
       " 'Peserta Tender': '23 peserta',\n",
       " '18': None,\n",
       " '19': None,\n",
       " '20': None,\n",
       " '21': None,\n",
       " '22': None,\n",
       " '23': None}"
      ]
     },
     "execution_count": 195,
     "metadata": {},
     "output_type": "execute_result"
    }
   ],
   "source": [
    "dict([(dd[key][0], dd[key][1]) if len(dd[key]) == 2 else (key, None) for key in dd.keys()])"
   ]
  },
  {
   "cell_type": "markdown",
   "id": "failing-pencil",
   "metadata": {},
   "source": [
    "# ========="
   ]
  },
  {
   "cell_type": "code",
   "execution_count": 133,
   "id": "charitable-auction",
   "metadata": {
    "scrolled": false
   },
   "outputs": [
    {
     "data": {
      "text/plain": [
       "{'0': 'Kode Tender',\n",
       " '1': 'Nama Tender',\n",
       " '2': 'Rencana Umum Pengadaan',\n",
       " '3': 'Tanggal Pembuatan',\n",
       " '4': 'Tahap Tender Saat Ini',\n",
       " '5': 'K/L/PD',\n",
       " '6': 'Satuan Kerja',\n",
       " '7': 'Jenis Pengadaan',\n",
       " '8': 'Metode Pengadaan',\n",
       " '9': '',\n",
       " '10': 'Tahun Anggaran',\n",
       " '11': 'Nilai Pagu Paket',\n",
       " '12': 'Jenis Kontrak',\n",
       " '13': 'Lokasi Pekerjaan',\n",
       " '14': 'Kualifikasi Usaha',\n",
       " '15': 'Syarat Kualifikasi',\n",
       " '16': 'Izin Usaha',\n",
       " '17': 'Izin Usaha',\n",
       " '24': 'Peserta Tender'}"
      ]
     },
     "execution_count": 133,
     "metadata": {},
     "output_type": "execute_result"
    }
   ],
   "source": [
    "listColNamesFirst"
   ]
  },
  {
   "cell_type": "code",
   "execution_count": 134,
   "id": "confirmed-penguin",
   "metadata": {},
   "outputs": [
    {
     "data": {
      "text/plain": [
       "{'0': '139119',\n",
       " '1': '1 (satu) Paket Peralatan Observasi Geimagnet Landas Bumi',\n",
       " '2': '',\n",
       " '3': '2 Februari 2012',\n",
       " '4': 'Tender Sudah Selesai',\n",
       " '5': 'Lembaga Penerbangan Dan Antariksa Nasional (LAPAN)',\n",
       " '6': 'Pusat Sains Antariksa',\n",
       " '7': 'Pengadaan Barang',\n",
       " '8': 'Lelang Umum - Pascakualifikasi Satu File - Harga Terendah Sistem Gugur',\n",
       " '9': '',\n",
       " '10': 'APBN 2012   ',\n",
       " '11': 'Rp. 1.556.954.000,00',\n",
       " '12': 'Lumsum',\n",
       " '13': 'Bandung -',\n",
       " '14': 'Kecil',\n",
       " '15': '* Ijin Usaha\\nIzin Usaha Klasifikasi\\nSIUP Komputer Dan Telekomunikasi\\nTDP\\nNPWP\\n* Memiliki Surat Keterangan Dukungan Keuangan dari Bank Pemerintah atau Swasta untuk Mengikuti Pengadaan Barang/Jasa\\n* Telah Melunasi Kewajiban Pajak Tahun Terakhir\\n* Pengalaman Pekerjaan\\npeserta berbentuk badan usaha harus memperoleh paling sedikit 1 (satu) pekerjaan sejenis sebagai penyedia dalam kurun waktu 3 (tiga) tahun terakhir, baik di lingkungan pemerintah maupun swasta termasuk pengalaman subkontrak, kecuali bagi penyedia yang baru berdiri kurang dari 3 (tiga) tahun;',\n",
       " '16': '*',\n",
       " '18': 'SIUP',\n",
       " '19': 'TDP',\n",
       " '20': 'NPWP',\n",
       " '21': '*',\n",
       " '22': '*',\n",
       " '23': '*',\n",
       " '24': '23 peserta'}"
      ]
     },
     "execution_count": 134,
     "metadata": {},
     "output_type": "execute_result"
    }
   ],
   "source": [
    "listValuesFirst"
   ]
  },
  {
   "cell_type": "code",
   "execution_count": 136,
   "id": "organizational-mission",
   "metadata": {
    "scrolled": true
   },
   "outputs": [
    {
     "data": {
      "text/plain": [
       "['0',\n",
       " '1',\n",
       " '2',\n",
       " '3',\n",
       " '4',\n",
       " '5',\n",
       " '6',\n",
       " '7',\n",
       " '8',\n",
       " '9',\n",
       " '10',\n",
       " '11',\n",
       " '12',\n",
       " '13',\n",
       " '14',\n",
       " '15',\n",
       " '16',\n",
       " '17',\n",
       " '24']"
      ]
     },
     "execution_count": 136,
     "metadata": {},
     "output_type": "execute_result"
    }
   ],
   "source": [
    "[k for k in listColNamesFirst]"
   ]
  },
  {
   "cell_type": "code",
   "execution_count": 164,
   "id": "objective-promise",
   "metadata": {
    "scrolled": true
   },
   "outputs": [
    {
     "ename": "KeyError",
     "evalue": "'17'",
     "output_type": "error",
     "traceback": [
      "\u001b[1;31m---------------------------------------------------------------------------\u001b[0m",
      "\u001b[1;31mKeyError\u001b[0m                                  Traceback (most recent call last)",
      "\u001b[1;32m<ipython-input-164-c1a20af67d1c>\u001b[0m in \u001b[0;36m<module>\u001b[1;34m\u001b[0m\n\u001b[1;32m----> 1\u001b[1;33m \u001b[0mdict\u001b[0m\u001b[1;33m(\u001b[0m\u001b[1;33m[\u001b[0m\u001b[1;33m(\u001b[0m\u001b[0mk\u001b[0m\u001b[1;33m,\u001b[0m \u001b[1;33m[\u001b[0m\u001b[0mlistColNamesFirst\u001b[0m\u001b[1;33m[\u001b[0m\u001b[0mk\u001b[0m\u001b[1;33m]\u001b[0m\u001b[1;33m,\u001b[0m \u001b[0mlistValuesFirst\u001b[0m\u001b[1;33m[\u001b[0m\u001b[0mk\u001b[0m\u001b[1;33m]\u001b[0m\u001b[1;33m]\u001b[0m\u001b[1;33m)\u001b[0m \u001b[1;32mfor\u001b[0m \u001b[0mk\u001b[0m \u001b[1;32min\u001b[0m \u001b[0mlistColNamesFirst\u001b[0m\u001b[1;33m]\u001b[0m\u001b[1;33m)\u001b[0m\u001b[1;33m\u001b[0m\u001b[1;33m\u001b[0m\u001b[0m\n\u001b[0m",
      "\u001b[1;32m<ipython-input-164-c1a20af67d1c>\u001b[0m in \u001b[0;36m<listcomp>\u001b[1;34m(.0)\u001b[0m\n\u001b[1;32m----> 1\u001b[1;33m \u001b[0mdict\u001b[0m\u001b[1;33m(\u001b[0m\u001b[1;33m[\u001b[0m\u001b[1;33m(\u001b[0m\u001b[0mk\u001b[0m\u001b[1;33m,\u001b[0m \u001b[1;33m[\u001b[0m\u001b[0mlistColNamesFirst\u001b[0m\u001b[1;33m[\u001b[0m\u001b[0mk\u001b[0m\u001b[1;33m]\u001b[0m\u001b[1;33m,\u001b[0m \u001b[0mlistValuesFirst\u001b[0m\u001b[1;33m[\u001b[0m\u001b[0mk\u001b[0m\u001b[1;33m]\u001b[0m\u001b[1;33m]\u001b[0m\u001b[1;33m)\u001b[0m \u001b[1;32mfor\u001b[0m \u001b[0mk\u001b[0m \u001b[1;32min\u001b[0m \u001b[0mlistColNamesFirst\u001b[0m\u001b[1;33m]\u001b[0m\u001b[1;33m)\u001b[0m\u001b[1;33m\u001b[0m\u001b[1;33m\u001b[0m\u001b[0m\n\u001b[0m",
      "\u001b[1;31mKeyError\u001b[0m: '17'"
     ]
    }
   ],
   "source": [
    "dict([(k, [listColNamesFirst[k], listValuesFirst[k]]) for k in listColNamesFirst])"
   ]
  },
  {
   "cell_type": "code",
   "execution_count": 111,
   "id": "anonymous-freeware",
   "metadata": {},
   "outputs": [
    {
     "data": {
      "text/plain": [
       "{'name': 'Jaime',\n",
       " 'last_name': 'Rivera',\n",
       " 'phone_number': '111111',\n",
       " 'email': 'test@gmail.com'}"
      ]
     },
     "execution_count": 111,
     "metadata": {},
     "output_type": "execute_result"
    }
   ],
   "source": [
    "dict2"
   ]
  },
  {
   "cell_type": "code",
   "execution_count": 83,
   "id": "seeing-james",
   "metadata": {},
   "outputs": [
    {
     "name": "stdout",
     "output_type": "stream",
     "text": [
      "0 Kode Tender\n",
      "1 Nama Tender\n",
      "2 Rencana Umum Pengadaan\n",
      "3 Tanggal Pembuatan\n",
      "4 Tahap Tender Saat Ini\n",
      "5 K/L/PD\n",
      "6 Satuan Kerja\n",
      "7 Jenis Pengadaan\n",
      "8 Metode Pengadaan\n",
      "9 \n",
      "10 Tahun Anggaran\n",
      "11 Nilai Pagu Paket\n",
      "12 Jenis Kontrak\n",
      "13 Lokasi Pekerjaan\n",
      "14 Kualifikasi Usaha\n",
      "15 Syarat Kualifikasi\n",
      "16 Izin Usaha\n",
      "17 Izin Usaha\n",
      "24 Peserta Tender\n"
     ]
    },
    {
     "data": {
      "text/plain": [
       "['Kode Tender',\n",
       " 'Nama Tender',\n",
       " 'Rencana Umum Pengadaan',\n",
       " 'Tanggal Pembuatan',\n",
       " 'Tahap Tender Saat Ini',\n",
       " 'K/L/PD',\n",
       " 'Satuan Kerja',\n",
       " 'Jenis Pengadaan',\n",
       " 'Metode Pengadaan',\n",
       " '',\n",
       " 'Tahun Anggaran',\n",
       " 'Nilai Pagu Paket',\n",
       " 'Jenis Kontrak',\n",
       " 'Lokasi Pekerjaan',\n",
       " 'Kualifikasi Usaha',\n",
       " 'Syarat Kualifikasi',\n",
       " 'Izin Usaha',\n",
       " 'Izin Usaha',\n",
       " 'Peserta Tender']"
      ]
     },
     "execution_count": 83,
     "metadata": {},
     "output_type": "execute_result"
    }
   ],
   "source": [
    "# Get values\n",
    "listValuesFirst = []\n",
    "for idx in range(len(dataCollection)):\n",
    "    try:\n",
    "        value = dataCollection[idx].find_elements_by_tag_name('th')[0].text\n",
    "    except:\n",
    "        continue\n",
    "    listValuesFirst.append(value)\n",
    "    print(idx, value)\n",
    "# Result\n",
    "listValuesFirst"
   ]
  },
  {
   "cell_type": "code",
   "execution_count": null,
   "id": "coastal-audio",
   "metadata": {},
   "outputs": [],
   "source": [
    "# Get column names\n",
    "listColNamesFirst = []\n",
    "for idx in range(len(dataCollection)):\n",
    "    try:\n",
    "        colval = dataCollection[idx].find_elements_by_tag_name('th')\n",
    "        for i in range(len(colval)):\n",
    "            colNames = colval[i].text\n",
    "            listColNamesFirst.append(colNames)\n",
    "            print(idx, colNames)\n",
    "    except:\n",
    "        continue\n",
    "# Result\n",
    "# listColNamesFirst"
   ]
  },
  {
   "cell_type": "code",
   "execution_count": 82,
   "id": "identified-teacher",
   "metadata": {},
   "outputs": [
    {
     "data": {
      "text/plain": [
       "52"
      ]
     },
     "execution_count": 82,
     "metadata": {},
     "output_type": "execute_result"
    }
   ],
   "source": [
    "len(listValuesFirst)"
   ]
  },
  {
   "cell_type": "code",
   "execution_count": 81,
   "id": "copyrighted-ordinary",
   "metadata": {},
   "outputs": [
    {
     "name": "stdout",
     "output_type": "stream",
     "text": [
      "0 139119\n",
      "1 1 (satu) Paket Peralatan Observasi Geimagnet Landas Bumi\n",
      "2 \n",
      "3 2 Februari 2012\n",
      "4 Tender Sudah Selesai\n",
      "5 Lembaga Penerbangan Dan Antariksa Nasional (LAPAN)\n",
      "6 Pusat Sains Antariksa\n",
      "7 Pengadaan Barang\n",
      "8 Lelang Umum - Pascakualifikasi Satu File - Harga Terendah Sistem Gugur\n",
      "9 \n",
      "10 APBN 2012   \n",
      "11 Rp. 1.556.954.000,00\n",
      "11 Rp. 1.556.849.700,00\n",
      "12 Lumsum\n",
      "13 Bandung -\n",
      "14 Kecil\n",
      "15 * Ijin Usaha\n",
      "Izin Usaha Klasifikasi\n",
      "SIUP Komputer Dan Telekomunikasi\n",
      "TDP\n",
      "NPWP\n",
      "* Memiliki Surat Keterangan Dukungan Keuangan dari Bank Pemerintah atau Swasta untuk Mengikuti Pengadaan Barang/Jasa\n",
      "* Telah Melunasi Kewajiban Pajak Tahun Terakhir\n",
      "* Pengalaman Pekerjaan\n",
      "peserta berbentuk badan usaha harus memperoleh paling sedikit 1 (satu) pekerjaan sejenis sebagai penyedia dalam kurun waktu 3 (tiga) tahun terakhir, baik di lingkungan pemerintah maupun swasta termasuk pengalaman subkontrak, kecuali bagi penyedia yang baru berdiri kurang dari 3 (tiga) tahun;\n",
      "15 *\n",
      "15 Ijin Usaha\n",
      "Izin Usaha Klasifikasi\n",
      "SIUP Komputer Dan Telekomunikasi\n",
      "TDP\n",
      "NPWP\n",
      "15 SIUP\n",
      "15 Komputer Dan Telekomunikasi\n",
      "15 TDP\n",
      "15 \n",
      "15 NPWP\n",
      "15 \n",
      "15 *\n",
      "15 Memiliki Surat Keterangan Dukungan Keuangan dari Bank Pemerintah atau Swasta untuk Mengikuti Pengadaan Barang/Jasa\n",
      "15 *\n",
      "15 Telah Melunasi Kewajiban Pajak Tahun Terakhir\n",
      "15 *\n",
      "15 Pengalaman Pekerjaan\n",
      "peserta berbentuk badan usaha harus memperoleh paling sedikit 1 (satu) pekerjaan sejenis sebagai penyedia dalam kurun waktu 3 (tiga) tahun terakhir, baik di lingkungan pemerintah maupun swasta termasuk pengalaman subkontrak, kecuali bagi penyedia yang baru berdiri kurang dari 3 (tiga) tahun;\n",
      "16 *\n",
      "16 Ijin Usaha\n",
      "Izin Usaha Klasifikasi\n",
      "SIUP Komputer Dan Telekomunikasi\n",
      "TDP\n",
      "NPWP\n",
      "16 SIUP\n",
      "16 Komputer Dan Telekomunikasi\n",
      "16 TDP\n",
      "16 \n",
      "16 NPWP\n",
      "16 \n",
      "18 SIUP\n",
      "18 Komputer Dan Telekomunikasi\n",
      "19 TDP\n",
      "19 \n",
      "20 NPWP\n",
      "20 \n",
      "21 *\n",
      "21 Memiliki Surat Keterangan Dukungan Keuangan dari Bank Pemerintah atau Swasta untuk Mengikuti Pengadaan Barang/Jasa\n",
      "22 *\n",
      "22 Telah Melunasi Kewajiban Pajak Tahun Terakhir\n",
      "23 *\n",
      "23 Pengalaman Pekerjaan\n",
      "peserta berbentuk badan usaha harus memperoleh paling sedikit 1 (satu) pekerjaan sejenis sebagai penyedia dalam kurun waktu 3 (tiga) tahun terakhir, baik di lingkungan pemerintah maupun swasta termasuk pengalaman subkontrak, kecuali bagi penyedia yang baru berdiri kurang dari 3 (tiga) tahun;\n",
      "24 23 peserta\n"
     ]
    }
   ],
   "source": [
    "# Get values\n",
    "listValuesFirst = []\n",
    "for idx in range(len(dataCollection)):\n",
    "    try:\n",
    "        valcol = dataCollection[idx].find_elements_by_tag_name('td')\n",
    "        for i in range(len(valcol)):\n",
    "            value = valcol[i].text\n",
    "            listValuesFirst.append(value)\n",
    "            print(idx, value)\n",
    "    except:\n",
    "        continue\n",
    "# Result\n",
    "# listValuesFirst"
   ]
  }
 ],
 "metadata": {
  "kernelspec": {
   "display_name": "Python 3",
   "language": "python",
   "name": "python3"
  },
  "language_info": {
   "codemirror_mode": {
    "name": "ipython",
    "version": 3
   },
   "file_extension": ".py",
   "mimetype": "text/x-python",
   "name": "python",
   "nbconvert_exporter": "python",
   "pygments_lexer": "ipython3",
   "version": "3.8.3"
  }
 },
 "nbformat": 4,
 "nbformat_minor": 5
}
