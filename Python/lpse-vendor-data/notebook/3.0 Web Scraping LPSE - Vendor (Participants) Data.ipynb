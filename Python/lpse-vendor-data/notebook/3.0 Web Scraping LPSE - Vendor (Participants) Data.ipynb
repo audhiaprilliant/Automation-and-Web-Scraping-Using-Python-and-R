{
 "cells": [
  {
   "cell_type": "markdown",
   "id": "invalid-difference",
   "metadata": {},
   "source": [
    "# Web Scraping LPSE - Vendor (Participants) Data"
   ]
  },
  {
   "cell_type": "markdown",
   "id": "soviet-couple",
   "metadata": {},
   "source": [
    "---"
   ]
  },
  {
   "cell_type": "markdown",
   "id": "graphic-penny",
   "metadata": {},
   "source": [
    "For introduction of Selenium, please be kind to open [**this site**](https://www.scrapingbee.com/blog/selenium-python/)"
   ]
  },
  {
   "cell_type": "markdown",
   "id": "continuous-oxford",
   "metadata": {},
   "source": [
    "## Import modules"
   ]
  },
  {
   "cell_type": "markdown",
   "id": "bacterial-merit",
   "metadata": {
    "scrolled": true
   },
   "source": [
    "`%pip freeze > requirements.txt`"
   ]
  },
  {
   "cell_type": "code",
   "execution_count": 8,
   "id": "bizarre-pennsylvania",
   "metadata": {
    "ExecuteTime": {
     "end_time": "2020-06-19T23:39:06.502572Z",
     "start_time": "2020-06-19T23:39:06.497076Z"
    }
   },
   "outputs": [],
   "source": [
    "# Module for web scraping\n",
    "from selenium import webdriver\n",
    "# Module for data manipulation\n",
    "import pandas as pd\n",
    "from bs4 import BeautifulSoup"
   ]
  },
  {
   "cell_type": "markdown",
   "id": "accessible-scheme",
   "metadata": {},
   "source": [
    "## Load the Chromedriver"
   ]
  },
  {
   "cell_type": "markdown",
   "id": "express-specific",
   "metadata": {},
   "source": [
    "Read how to download webdriver for Chrome [**here**]('https://chromedriver.chromium.org/downloads')"
   ]
  },
  {
   "cell_type": "code",
   "execution_count": 9,
   "id": "raising-horizon",
   "metadata": {},
   "outputs": [],
   "source": [
    "# Main link\n",
    "main_link = 'https://lpse.lkpp.go.id/eproc4/lelang/7345119/pengumumanlelang'"
   ]
  },
  {
   "cell_type": "code",
   "execution_count": 10,
   "id": "small-operations",
   "metadata": {
    "ExecuteTime": {
     "end_time": "2020-06-19T23:29:33.659375Z",
     "start_time": "2020-06-19T23:29:18.312261Z"
    }
   },
   "outputs": [],
   "source": [
    "# Access to main link\n",
    "DRIVER_PATH = '../bin/chromedriver'\n",
    "driver = webdriver.Chrome(executable_path = DRIVER_PATH)\n",
    "driver.get(main_link)"
   ]
  },
  {
   "cell_type": "markdown",
   "id": "adapted-planning",
   "metadata": {},
   "source": [
    "## Core Procedure"
   ]
  },
  {
   "cell_type": "markdown",
   "id": "coupled-killing",
   "metadata": {},
   "source": [
    "### 1 Get links"
   ]
  },
  {
   "cell_type": "code",
   "execution_count": 11,
   "id": "macro-manual",
   "metadata": {},
   "outputs": [],
   "source": [
    "# Get links\n",
    "links = driver.find_elements_by_class_name('nav-link')\n",
    "listLink = [link.get_attribute('href') for link in links]"
   ]
  },
  {
   "cell_type": "code",
   "execution_count": 12,
   "id": "understanding-turkish",
   "metadata": {},
   "outputs": [
    {
     "data": {
      "text/plain": [
       "{'Pengumuman': 'https://lpse.lkpp.go.id/eproc4/lelang/7345119/pengumumanlelang',\n",
       " 'Peserta': 'https://lpse.lkpp.go.id/eproc4/lelang/7345119/peserta',\n",
       " 'Hasil Evaluasi': 'https://lpse.lkpp.go.id/eproc4/evaluasi/7345119/hasil',\n",
       " 'Pemenang': 'https://lpse.lkpp.go.id/eproc4/evaluasi/7345119/pemenang',\n",
       " 'Pemenang Berkontrak': 'https://lpse.lkpp.go.id/eproc4/evaluasi/7345119/pemenangberkontrak'}"
      ]
     },
     "execution_count": 12,
     "metadata": {},
     "output_type": "execute_result"
    }
   ],
   "source": [
    "# List of link\n",
    "navName = ['Pengumuman', 'Peserta', 'Hasil Evaluasi', 'Pemenang', 'Pemenang Berkontrak']\n",
    "dictLink = dict(zip(navName, listLink))\n",
    "dictLink"
   ]
  },
  {
   "cell_type": "markdown",
   "id": "collect-rolling",
   "metadata": {},
   "source": [
    "### 2 Get information of participants"
   ]
  },
  {
   "cell_type": "markdown",
   "id": "military-number",
   "metadata": {},
   "source": [
    "#### Get link"
   ]
  },
  {
   "cell_type": "code",
   "execution_count": 13,
   "id": "amateur-metallic",
   "metadata": {},
   "outputs": [
    {
     "data": {
      "text/plain": [
       "'https://lpse.lkpp.go.id/eproc4/lelang/7345119/peserta'"
      ]
     },
     "execution_count": 13,
     "metadata": {},
     "output_type": "execute_result"
    }
   ],
   "source": [
    "# Link of participants\n",
    "linkParticipant = dictLink['Peserta']\n",
    "linkParticipant"
   ]
  },
  {
   "cell_type": "code",
   "execution_count": 14,
   "id": "sufficient-music",
   "metadata": {},
   "outputs": [],
   "source": [
    "# Access to participant's link\n",
    "driver.get(linkParticipant)"
   ]
  },
  {
   "cell_type": "markdown",
   "id": "structural-gathering",
   "metadata": {},
   "source": [
    "#### Get column names"
   ]
  },
  {
   "cell_type": "code",
   "execution_count": 15,
   "id": "controlled-culture",
   "metadata": {},
   "outputs": [],
   "source": [
    "# Get the column elements\n",
    "participantSummaryData = driver.find_element_by_class_name('content')"
   ]
  },
  {
   "cell_type": "code",
   "execution_count": 16,
   "id": "imported-botswana",
   "metadata": {},
   "outputs": [],
   "source": [
    "# element for column names\n",
    "colNames = participantSummaryData.find_element_by_tag_name('thead').find_elements_by_tag_name('th')"
   ]
  },
  {
   "cell_type": "code",
   "execution_count": 17,
   "id": "verified-miniature",
   "metadata": {},
   "outputs": [
    {
     "data": {
      "text/plain": [
       "['No', 'Nama Peserta', 'NPWP', 'Harga Penawaran', 'Harga Terkoreksi']"
      ]
     },
     "execution_count": 17,
     "metadata": {},
     "output_type": "execute_result"
    }
   ],
   "source": [
    "# Column names\n",
    "listCols = []\n",
    "for elem in colNames:\n",
    "    col_raw = elem.text\n",
    "    listCols.append(col_raw)\n",
    "# Result\n",
    "listCols = [i.replace('\\n', ' ') for i in listCols]\n",
    "listCols"
   ]
  },
  {
   "cell_type": "markdown",
   "id": "early-making",
   "metadata": {},
   "source": [
    "#### Get data from table"
   ]
  },
  {
   "cell_type": "code",
   "execution_count": 20,
   "id": "polar-limit",
   "metadata": {},
   "outputs": [
    {
     "name": "stdout",
     "output_type": "stream",
     "text": [
      "Length of data in one page: 42 rows\n"
     ]
    }
   ],
   "source": [
    "# Data collections\n",
    "dataCollection = participantSummaryData.find_element_by_tag_name('tbody').find_elements_by_tag_name('tr')\n",
    "print('Length of data in one page: {} rows'.format(len(dataCollection)))"
   ]
  },
  {
   "cell_type": "code",
   "execution_count": 21,
   "id": "unique-struggle",
   "metadata": {},
   "outputs": [
    {
     "data": {
      "text/plain": [
       "{'No': [],\n",
       " 'Nama Peserta': [],\n",
       " 'NPWP': [],\n",
       " 'Harga Penawaran': [],\n",
       " 'Harga Terkoreksi': []}"
      ]
     },
     "execution_count": 21,
     "metadata": {},
     "output_type": "execute_result"
    }
   ],
   "source": [
    "# Dictionary with blank list\n",
    "dict_init = {key: [] for key in listCols}\n",
    "dict_init"
   ]
  },
  {
   "cell_type": "code",
   "execution_count": 22,
   "id": "upper-saturday",
   "metadata": {},
   "outputs": [],
   "source": [
    "# Get data\n",
    "for row in dataCollection:\n",
    "    elemValues = row.find_elements_by_tag_name('td')\n",
    "    for col in range(len(elemValues)):\n",
    "        value = elemValues[col].text\n",
    "        # Append values\n",
    "        dict_init[list(dict_init.keys())[col]].append(value)"
   ]
  },
  {
   "cell_type": "code",
   "execution_count": 23,
   "id": "colored-spiritual",
   "metadata": {},
   "outputs": [
    {
     "data": {
      "text/plain": [
       "{'No': ['1',\n",
       "  '2',\n",
       "  '3',\n",
       "  '4',\n",
       "  '5',\n",
       "  '6',\n",
       "  '7',\n",
       "  '8',\n",
       "  '9',\n",
       "  '10',\n",
       "  '11',\n",
       "  '12',\n",
       "  '13',\n",
       "  '14',\n",
       "  '15',\n",
       "  '16',\n",
       "  '17',\n",
       "  '18',\n",
       "  '19',\n",
       "  '20',\n",
       "  '21',\n",
       "  '22',\n",
       "  '23',\n",
       "  '24',\n",
       "  '25',\n",
       "  '26',\n",
       "  '27',\n",
       "  '28',\n",
       "  '29',\n",
       "  '30',\n",
       "  '31',\n",
       "  '32',\n",
       "  '33',\n",
       "  '34',\n",
       "  '35',\n",
       "  '36',\n",
       "  '37',\n",
       "  '38',\n",
       "  '39',\n",
       "  '40',\n",
       "  '41',\n",
       "  '42'],\n",
       " 'Nama Peserta': ['PT. PILAR CIPTA SOLUSI INTEGRATIKA',\n",
       "  'PT. Transtellar Inti Mitra',\n",
       "  'PT. IP NETWORK SOLUSINDO',\n",
       "  'PT. GEOJAYA TEHNIK',\n",
       "  'PT. Royston Advisory Indonesia',\n",
       "  'PT.PUTRA BENTAR ENDAH',\n",
       "  'PT.SEMESTA MUDA BERKARYA',\n",
       "  'PT. Rangkai Data Solusi',\n",
       "  'PT. TRIMITRA DATA TEKNOLOGI',\n",
       "  'PT SINAR SURYA TEKNOLOGI',\n",
       "  'PT. Daya Makara UI',\n",
       "  'PT.WIDYA SOLUSI UTAMA',\n",
       "  'PT. BARN CITA LAKSANA',\n",
       "  'PT. NUSA TIARA',\n",
       "  'PI AREA',\n",
       "  'PT. CAKRABUANA CONSULTANTS',\n",
       "  'PT. PricewaterhouseCoopers Consulting Indonesia',\n",
       "  'CV FINDELAU YAHEAI',\n",
       "  'PT. Miskat Alam Pro',\n",
       "  'PT. Binadaya Inti Dinamika',\n",
       "  'CV ROBOTSOFT',\n",
       "  'CV. LANTAR CIPTA MEDIA',\n",
       "  'PT. PRIMA SYSTEM INTEGRATED',\n",
       "  'vertical indonesia perkasa',\n",
       "  'PT PCI Business Solution',\n",
       "  'PT. ANDITAMA INFOCON',\n",
       "  'AMYZA BUMI SEJAHTERA',\n",
       "  'PT. Hady Pradana Wijaya Konsultan',\n",
       "  'PT. PIRAMIDA TEKNOLOGI INFORMASI',\n",
       "  'PT. GRAHA ADI CIPTA',\n",
       "  'PT INDEKSTAT KONSULTAN INDONESIA',\n",
       "  'PT. CONCEPT DESIGN ARCHITECT',\n",
       "  'CV. TORCHE INDONESIA',\n",
       "  'PT. Wahana Data Utama',\n",
       "  'PT Veda Praxis',\n",
       "  'PT. Batara Guru Teknologi',\n",
       "  'PT. TARAM',\n",
       "  'PT. Bryan Rekayasa Teknologi',\n",
       "  'PT. Prades Indo Darren',\n",
       "  'PT. Wawai Karya',\n",
       "  'PT. Waditra Reka Cipta Bandung',\n",
       "  'PT. Equine Global'],\n",
       " 'NPWP': ['75.056.654.9-542.000',\n",
       "  '72.334.802.5-061.000',\n",
       "  '21.009.448.8-028.000',\n",
       "  '01.313.175.0-014.000',\n",
       "  '02.742.014.0-072.000',\n",
       "  '01.339.061.2-031.000',\n",
       "  '95.026.345.9-411.000',\n",
       "  '96.411.455.7-043.000',\n",
       "  '03.215.086.4-063.000',\n",
       "  '02.901.606.0-063.000',\n",
       "  '02.109.525.2-412.000',\n",
       "  '72.053.985.7-517.000',\n",
       "  '01.542.905.3-063.000',\n",
       "  '02.141.149.1-322.000',\n",
       "  '70.004.728.5-404.000',\n",
       "  '01.572.180.6-016.000',\n",
       "  '03.344.308.6-011.000',\n",
       "  '02.994.522.7-953.000',\n",
       "  '90.522.298.0-017.000',\n",
       "  '01.328.101.9-015.000',\n",
       "  '84.606.975.5-402.000',\n",
       "  '75.576.951.0-526.000',\n",
       "  '03.037.181.9-012.000',\n",
       "  '03.141.076.4-325.000',\n",
       "  '72.227.745.6-512.000',\n",
       "  '01.638.419.0-005.000',\n",
       "  '96.797.189.6-124.000',\n",
       "  '83.330.096.5-401.000',\n",
       "  '31.680.609.0-643.000',\n",
       "  '86.745.332.6-002.000',\n",
       "  '85.879.912.5-018.000',\n",
       "  '86.862.142.6-627.000',\n",
       "  '02.333.132.5-424.000',\n",
       "  '02.595.178.1-404.000',\n",
       "  '02.433.816.2-063.000',\n",
       "  '92.977.787.8-063.000',\n",
       "  '01.118.035.3-322.000',\n",
       "  '31.669.825.7-002.000',\n",
       "  '84.306.188.8-429.000',\n",
       "  '03.318.437.5-002.000',\n",
       "  '02.244.448.3-421.000',\n",
       "  '02.930.327.8-022.000'],\n",
       " 'Harga Penawaran': ['Rp. 530.992.000,00',\n",
       "  'Rp. 537.900.000,00',\n",
       "  '',\n",
       "  '',\n",
       "  '',\n",
       "  '',\n",
       "  '',\n",
       "  '',\n",
       "  '',\n",
       "  '',\n",
       "  '',\n",
       "  '',\n",
       "  '',\n",
       "  '',\n",
       "  '',\n",
       "  '',\n",
       "  '',\n",
       "  '',\n",
       "  '',\n",
       "  '',\n",
       "  '',\n",
       "  '',\n",
       "  '',\n",
       "  '',\n",
       "  '',\n",
       "  '',\n",
       "  '',\n",
       "  '',\n",
       "  '',\n",
       "  '',\n",
       "  '',\n",
       "  '',\n",
       "  '',\n",
       "  '',\n",
       "  '',\n",
       "  '',\n",
       "  '',\n",
       "  '',\n",
       "  '',\n",
       "  '',\n",
       "  '',\n",
       "  ''],\n",
       " 'Harga Terkoreksi': ['Rp. 530.992.000,00',\n",
       "  'Rp. 537.900.000,00',\n",
       "  '',\n",
       "  '',\n",
       "  '',\n",
       "  '',\n",
       "  '',\n",
       "  '',\n",
       "  '',\n",
       "  '',\n",
       "  '',\n",
       "  '',\n",
       "  '',\n",
       "  '',\n",
       "  '',\n",
       "  '',\n",
       "  '',\n",
       "  '',\n",
       "  '',\n",
       "  '',\n",
       "  '',\n",
       "  '',\n",
       "  '',\n",
       "  '',\n",
       "  '',\n",
       "  '',\n",
       "  '',\n",
       "  '',\n",
       "  '',\n",
       "  '',\n",
       "  '',\n",
       "  '',\n",
       "  '',\n",
       "  '',\n",
       "  '',\n",
       "  '',\n",
       "  '',\n",
       "  '',\n",
       "  '',\n",
       "  '',\n",
       "  '',\n",
       "  '']}"
      ]
     },
     "execution_count": 23,
     "metadata": {},
     "output_type": "execute_result"
    }
   ],
   "source": [
    "# Data\n",
    "dict_init"
   ]
  },
  {
   "cell_type": "markdown",
   "id": "genetic-acting",
   "metadata": {},
   "source": [
    "## Convert into JSON"
   ]
  },
  {
   "cell_type": "code",
   "execution_count": 38,
   "id": "announced-peoples",
   "metadata": {},
   "outputs": [],
   "source": [
    "# Add tender's code as identifier\n",
    "dict_full = {\n",
    "    '139119': dict_init\n",
    "}"
   ]
  },
  {
   "cell_type": "code",
   "execution_count": 39,
   "id": "restricted-custom",
   "metadata": {},
   "outputs": [
    {
     "data": {
      "text/plain": [
       "{'139119': {'No': ['1',\n",
       "   '2',\n",
       "   '3',\n",
       "   '4',\n",
       "   '5',\n",
       "   '6',\n",
       "   '7',\n",
       "   '8',\n",
       "   '9',\n",
       "   '10',\n",
       "   '11',\n",
       "   '12',\n",
       "   '13',\n",
       "   '14',\n",
       "   '15',\n",
       "   '16',\n",
       "   '17',\n",
       "   '18',\n",
       "   '19',\n",
       "   '20',\n",
       "   '21',\n",
       "   '22',\n",
       "   '23',\n",
       "   '24',\n",
       "   '25',\n",
       "   '26',\n",
       "   '27',\n",
       "   '28',\n",
       "   '29',\n",
       "   '30',\n",
       "   '31',\n",
       "   '32',\n",
       "   '33',\n",
       "   '34',\n",
       "   '35',\n",
       "   '36',\n",
       "   '37',\n",
       "   '38',\n",
       "   '39',\n",
       "   '40',\n",
       "   '41',\n",
       "   '42'],\n",
       "  'Nama Peserta': ['PT. PILAR CIPTA SOLUSI INTEGRATIKA',\n",
       "   'PT. Transtellar Inti Mitra',\n",
       "   'PT. IP NETWORK SOLUSINDO',\n",
       "   'PT. GEOJAYA TEHNIK',\n",
       "   'PT. Royston Advisory Indonesia',\n",
       "   'PT.PUTRA BENTAR ENDAH',\n",
       "   'PT.SEMESTA MUDA BERKARYA',\n",
       "   'PT. Rangkai Data Solusi',\n",
       "   'PT. TRIMITRA DATA TEKNOLOGI',\n",
       "   'PT SINAR SURYA TEKNOLOGI',\n",
       "   'PT. Daya Makara UI',\n",
       "   'PT.WIDYA SOLUSI UTAMA',\n",
       "   'PT. BARN CITA LAKSANA',\n",
       "   'PT. NUSA TIARA',\n",
       "   'PI AREA',\n",
       "   'PT. CAKRABUANA CONSULTANTS',\n",
       "   'PT. PricewaterhouseCoopers Consulting Indonesia',\n",
       "   'CV FINDELAU YAHEAI',\n",
       "   'PT. Miskat Alam Pro',\n",
       "   'PT. Binadaya Inti Dinamika',\n",
       "   'CV ROBOTSOFT',\n",
       "   'CV. LANTAR CIPTA MEDIA',\n",
       "   'PT. PRIMA SYSTEM INTEGRATED',\n",
       "   'vertical indonesia perkasa',\n",
       "   'PT PCI Business Solution',\n",
       "   'PT. ANDITAMA INFOCON',\n",
       "   'AMYZA BUMI SEJAHTERA',\n",
       "   'PT. Hady Pradana Wijaya Konsultan',\n",
       "   'PT. PIRAMIDA TEKNOLOGI INFORMASI',\n",
       "   'PT. GRAHA ADI CIPTA',\n",
       "   'PT INDEKSTAT KONSULTAN INDONESIA',\n",
       "   'PT. CONCEPT DESIGN ARCHITECT',\n",
       "   'CV. TORCHE INDONESIA',\n",
       "   'PT. Wahana Data Utama',\n",
       "   'PT Veda Praxis',\n",
       "   'PT. Batara Guru Teknologi',\n",
       "   'PT. TARAM',\n",
       "   'PT. Bryan Rekayasa Teknologi',\n",
       "   'PT. Prades Indo Darren',\n",
       "   'PT. Wawai Karya',\n",
       "   'PT. Waditra Reka Cipta Bandung',\n",
       "   'PT. Equine Global'],\n",
       "  'NPWP': ['75.056.654.9-542.000',\n",
       "   '72.334.802.5-061.000',\n",
       "   '21.009.448.8-028.000',\n",
       "   '01.313.175.0-014.000',\n",
       "   '02.742.014.0-072.000',\n",
       "   '01.339.061.2-031.000',\n",
       "   '95.026.345.9-411.000',\n",
       "   '96.411.455.7-043.000',\n",
       "   '03.215.086.4-063.000',\n",
       "   '02.901.606.0-063.000',\n",
       "   '02.109.525.2-412.000',\n",
       "   '72.053.985.7-517.000',\n",
       "   '01.542.905.3-063.000',\n",
       "   '02.141.149.1-322.000',\n",
       "   '70.004.728.5-404.000',\n",
       "   '01.572.180.6-016.000',\n",
       "   '03.344.308.6-011.000',\n",
       "   '02.994.522.7-953.000',\n",
       "   '90.522.298.0-017.000',\n",
       "   '01.328.101.9-015.000',\n",
       "   '84.606.975.5-402.000',\n",
       "   '75.576.951.0-526.000',\n",
       "   '03.037.181.9-012.000',\n",
       "   '03.141.076.4-325.000',\n",
       "   '72.227.745.6-512.000',\n",
       "   '01.638.419.0-005.000',\n",
       "   '96.797.189.6-124.000',\n",
       "   '83.330.096.5-401.000',\n",
       "   '31.680.609.0-643.000',\n",
       "   '86.745.332.6-002.000',\n",
       "   '85.879.912.5-018.000',\n",
       "   '86.862.142.6-627.000',\n",
       "   '02.333.132.5-424.000',\n",
       "   '02.595.178.1-404.000',\n",
       "   '02.433.816.2-063.000',\n",
       "   '92.977.787.8-063.000',\n",
       "   '01.118.035.3-322.000',\n",
       "   '31.669.825.7-002.000',\n",
       "   '84.306.188.8-429.000',\n",
       "   '03.318.437.5-002.000',\n",
       "   '02.244.448.3-421.000',\n",
       "   '02.930.327.8-022.000'],\n",
       "  'Harga Penawaran': ['Rp. 530.992.000,00',\n",
       "   'Rp. 537.900.000,00',\n",
       "   '',\n",
       "   '',\n",
       "   '',\n",
       "   '',\n",
       "   '',\n",
       "   '',\n",
       "   '',\n",
       "   '',\n",
       "   '',\n",
       "   '',\n",
       "   '',\n",
       "   '',\n",
       "   '',\n",
       "   '',\n",
       "   '',\n",
       "   '',\n",
       "   '',\n",
       "   '',\n",
       "   '',\n",
       "   '',\n",
       "   '',\n",
       "   '',\n",
       "   '',\n",
       "   '',\n",
       "   '',\n",
       "   '',\n",
       "   '',\n",
       "   '',\n",
       "   '',\n",
       "   '',\n",
       "   '',\n",
       "   '',\n",
       "   '',\n",
       "   '',\n",
       "   '',\n",
       "   '',\n",
       "   '',\n",
       "   '',\n",
       "   '',\n",
       "   ''],\n",
       "  'Harga Terkoreksi': ['Rp. 530.992.000,00',\n",
       "   'Rp. 537.900.000,00',\n",
       "   '',\n",
       "   '',\n",
       "   '',\n",
       "   '',\n",
       "   '',\n",
       "   '',\n",
       "   '',\n",
       "   '',\n",
       "   '',\n",
       "   '',\n",
       "   '',\n",
       "   '',\n",
       "   '',\n",
       "   '',\n",
       "   '',\n",
       "   '',\n",
       "   '',\n",
       "   '',\n",
       "   '',\n",
       "   '',\n",
       "   '',\n",
       "   '',\n",
       "   '',\n",
       "   '',\n",
       "   '',\n",
       "   '',\n",
       "   '',\n",
       "   '',\n",
       "   '',\n",
       "   '',\n",
       "   '',\n",
       "   '',\n",
       "   '',\n",
       "   '',\n",
       "   '',\n",
       "   '',\n",
       "   '',\n",
       "   '',\n",
       "   '',\n",
       "   ''],\n",
       "  'Kode Tender': ['7345119',\n",
       "   '7345119',\n",
       "   '7345119',\n",
       "   '7345119',\n",
       "   '7345119',\n",
       "   '7345119',\n",
       "   '7345119',\n",
       "   '7345119',\n",
       "   '7345119',\n",
       "   '7345119',\n",
       "   '7345119',\n",
       "   '7345119',\n",
       "   '7345119',\n",
       "   '7345119',\n",
       "   '7345119',\n",
       "   '7345119',\n",
       "   '7345119',\n",
       "   '7345119',\n",
       "   '7345119',\n",
       "   '7345119',\n",
       "   '7345119',\n",
       "   '7345119',\n",
       "   '7345119',\n",
       "   '7345119',\n",
       "   '7345119',\n",
       "   '7345119',\n",
       "   '7345119',\n",
       "   '7345119',\n",
       "   '7345119',\n",
       "   '7345119',\n",
       "   '7345119',\n",
       "   '7345119',\n",
       "   '7345119',\n",
       "   '7345119',\n",
       "   '7345119',\n",
       "   '7345119',\n",
       "   '7345119',\n",
       "   '7345119',\n",
       "   '7345119',\n",
       "   '7345119',\n",
       "   '7345119',\n",
       "   '7345119']}}"
      ]
     },
     "execution_count": 39,
     "metadata": {},
     "output_type": "execute_result"
    }
   ],
   "source": [
    "# Data\n",
    "dict_full"
   ]
  },
  {
   "cell_type": "markdown",
   "id": "forty-sterling",
   "metadata": {},
   "source": [
    "## Convert into data frame"
   ]
  },
  {
   "cell_type": "code",
   "execution_count": 40,
   "id": "rational-trick",
   "metadata": {},
   "outputs": [],
   "source": [
    "# Dictionary of data\n",
    "dict_data = dict_full['139119']\n",
    "# Add tender code\n",
    "dict_data['Kode Tender'] = ['139119'] * len(dict_full['139119']['No'])"
   ]
  },
  {
   "cell_type": "code",
   "execution_count": 46,
   "id": "weird-china",
   "metadata": {
    "scrolled": true
   },
   "outputs": [],
   "source": [
    "# Create a data frame\n",
    "df = pd.DataFrame(\n",
    "        data = dict_data\n",
    ")"
   ]
  },
  {
   "cell_type": "code",
   "execution_count": 47,
   "id": "competitive-florida",
   "metadata": {
    "scrolled": false
   },
   "outputs": [
    {
     "name": "stdout",
     "output_type": "stream",
     "text": [
      "Dimension: 42 rows and 6 columns\n"
     ]
    },
    {
     "data": {
      "text/html": [
       "<div>\n",
       "<style scoped>\n",
       "    .dataframe tbody tr th:only-of-type {\n",
       "        vertical-align: middle;\n",
       "    }\n",
       "\n",
       "    .dataframe tbody tr th {\n",
       "        vertical-align: top;\n",
       "    }\n",
       "\n",
       "    .dataframe thead th {\n",
       "        text-align: right;\n",
       "    }\n",
       "</style>\n",
       "<table border=\"1\" class=\"dataframe\">\n",
       "  <thead>\n",
       "    <tr style=\"text-align: right;\">\n",
       "      <th></th>\n",
       "      <th>No</th>\n",
       "      <th>Nama Peserta</th>\n",
       "      <th>NPWP</th>\n",
       "      <th>Harga Penawaran</th>\n",
       "      <th>Harga Terkoreksi</th>\n",
       "      <th>Kode Tender</th>\n",
       "    </tr>\n",
       "  </thead>\n",
       "  <tbody>\n",
       "    <tr>\n",
       "      <th>0</th>\n",
       "      <td>1</td>\n",
       "      <td>PT. PILAR CIPTA SOLUSI INTEGRATIKA</td>\n",
       "      <td>75.056.654.9-542.000</td>\n",
       "      <td>Rp. 530.992.000,00</td>\n",
       "      <td>Rp. 530.992.000,00</td>\n",
       "      <td>7345119</td>\n",
       "    </tr>\n",
       "    <tr>\n",
       "      <th>1</th>\n",
       "      <td>2</td>\n",
       "      <td>PT. Transtellar Inti Mitra</td>\n",
       "      <td>72.334.802.5-061.000</td>\n",
       "      <td>Rp. 537.900.000,00</td>\n",
       "      <td>Rp. 537.900.000,00</td>\n",
       "      <td>7345119</td>\n",
       "    </tr>\n",
       "    <tr>\n",
       "      <th>2</th>\n",
       "      <td>3</td>\n",
       "      <td>PT. IP NETWORK SOLUSINDO</td>\n",
       "      <td>21.009.448.8-028.000</td>\n",
       "      <td></td>\n",
       "      <td></td>\n",
       "      <td>7345119</td>\n",
       "    </tr>\n",
       "    <tr>\n",
       "      <th>3</th>\n",
       "      <td>4</td>\n",
       "      <td>PT. GEOJAYA TEHNIK</td>\n",
       "      <td>01.313.175.0-014.000</td>\n",
       "      <td></td>\n",
       "      <td></td>\n",
       "      <td>7345119</td>\n",
       "    </tr>\n",
       "    <tr>\n",
       "      <th>4</th>\n",
       "      <td>5</td>\n",
       "      <td>PT. Royston Advisory Indonesia</td>\n",
       "      <td>02.742.014.0-072.000</td>\n",
       "      <td></td>\n",
       "      <td></td>\n",
       "      <td>7345119</td>\n",
       "    </tr>\n",
       "  </tbody>\n",
       "</table>\n",
       "</div>"
      ],
      "text/plain": [
       "  No                        Nama Peserta                  NPWP  \\\n",
       "0  1  PT. PILAR CIPTA SOLUSI INTEGRATIKA  75.056.654.9-542.000   \n",
       "1  2          PT. Transtellar Inti Mitra  72.334.802.5-061.000   \n",
       "2  3            PT. IP NETWORK SOLUSINDO  21.009.448.8-028.000   \n",
       "3  4                  PT. GEOJAYA TEHNIK  01.313.175.0-014.000   \n",
       "4  5      PT. Royston Advisory Indonesia  02.742.014.0-072.000   \n",
       "\n",
       "      Harga Penawaran    Harga Terkoreksi Kode Tender  \n",
       "0  Rp. 530.992.000,00  Rp. 530.992.000,00     7345119  \n",
       "1  Rp. 537.900.000,00  Rp. 537.900.000,00     7345119  \n",
       "2                                             7345119  \n",
       "3                                             7345119  \n",
       "4                                             7345119  "
      ]
     },
     "execution_count": 47,
     "metadata": {},
     "output_type": "execute_result"
    }
   ],
   "source": [
    "print('Dimension: {} rows and {} columns'.format(len(df), len(df.columns)))\n",
    "df.head()"
   ]
  }
 ],
 "metadata": {
  "kernelspec": {
   "display_name": "Python 3",
   "language": "python",
   "name": "python3"
  },
  "language_info": {
   "codemirror_mode": {
    "name": "ipython",
    "version": 3
   },
   "file_extension": ".py",
   "mimetype": "text/x-python",
   "name": "python",
   "nbconvert_exporter": "python",
   "pygments_lexer": "ipython3",
   "version": "3.8.3"
  }
 },
 "nbformat": 4,
 "nbformat_minor": 5
}
