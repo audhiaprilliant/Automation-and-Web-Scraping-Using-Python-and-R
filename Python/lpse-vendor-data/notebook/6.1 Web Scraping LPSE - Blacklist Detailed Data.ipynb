{
 "cells": [
  {
   "cell_type": "markdown",
   "id": "requested-velvet",
   "metadata": {},
   "source": [
    "# Web Scraping LPSE - Blacklist Detailed Data"
   ]
  },
  {
   "cell_type": "markdown",
   "id": "victorian-findings",
   "metadata": {},
   "source": [
    "---"
   ]
  },
  {
   "cell_type": "markdown",
   "id": "moral-details",
   "metadata": {},
   "source": [
    "For introduction of Selenium, please be kind to open [**this site**](https://www.scrapingbee.com/blog/selenium-python/)"
   ]
  },
  {
   "cell_type": "markdown",
   "id": "institutional-channel",
   "metadata": {},
   "source": [
    "## Import modules"
   ]
  },
  {
   "cell_type": "markdown",
   "id": "trying-transsexual",
   "metadata": {
    "scrolled": true
   },
   "source": [
    "`%pip freeze > requirements.txt`"
   ]
  },
  {
   "cell_type": "code",
   "execution_count": 1,
   "id": "dense-sense",
   "metadata": {
    "ExecuteTime": {
     "end_time": "2020-06-19T23:39:06.502572Z",
     "start_time": "2020-06-19T23:39:06.497076Z"
    }
   },
   "outputs": [],
   "source": [
    "# Module for web scraping\n",
    "from selenium import webdriver\n",
    "# Module for data manipulation\n",
    "import pandas as pd\n",
    "from bs4 import BeautifulSoup\n",
    "# Module for regular expression\n",
    "import re"
   ]
  },
  {
   "cell_type": "markdown",
   "id": "defensive-broadway",
   "metadata": {},
   "source": [
    "## Load the Chromedriver"
   ]
  },
  {
   "cell_type": "markdown",
   "id": "confidential-boulder",
   "metadata": {},
   "source": [
    "Read how to download webdriver for Chrome [**here**]('https://chromedriver.chromium.org/downloads')"
   ]
  },
  {
   "cell_type": "code",
   "execution_count": 2,
   "id": "fourth-character",
   "metadata": {},
   "outputs": [],
   "source": [
    "# Detailed link\n",
    "detailed_link = 'https://inaproc.id/daftar-hitam#4537'"
   ]
  },
  {
   "cell_type": "code",
   "execution_count": 3,
   "id": "coordinate-reading",
   "metadata": {
    "ExecuteTime": {
     "end_time": "2020-06-19T23:29:33.659375Z",
     "start_time": "2020-06-19T23:29:18.312261Z"
    }
   },
   "outputs": [],
   "source": [
    "# Access to detailed link\n",
    "DRIVER_PATH = '../bin/chromedriver'\n",
    "driver = webdriver.Chrome(executable_path = DRIVER_PATH)\n",
    "driver.get(detailed_link)"
   ]
  },
  {
   "cell_type": "markdown",
   "id": "congressional-prague",
   "metadata": {},
   "source": [
    "## Core Procedure"
   ]
  },
  {
   "cell_type": "markdown",
   "id": "arabic-fabric",
   "metadata": {},
   "source": [
    "### 1 Prepare the column names"
   ]
  },
  {
   "cell_type": "code",
   "execution_count": 4,
   "id": "ceramic-workplace",
   "metadata": {},
   "outputs": [],
   "source": [
    "# Data collection\n",
    "dataCollection = driver.find_element_by_id('injunctions').find_element_by_tag_name('tbody')"
   ]
  },
  {
   "cell_type": "code",
   "execution_count": 5,
   "id": "progressive-professional",
   "metadata": {
    "scrolled": true
   },
   "outputs": [
    {
     "data": {
      "text/plain": [
       "{'Judul Pelanggaran': [],\n",
       " 'Isi Pelanggaran': [],\n",
       " 'Nama KLPD': [],\n",
       " 'Nama Satker': [],\n",
       " 'Masa Berlaku Sanksi': [],\n",
       " 'Tanggal Penayangan': []}"
      ]
     },
     "execution_count": 5,
     "metadata": {},
     "output_type": "execute_result"
    }
   ],
   "source": [
    "# Prepare blank dictionary for columns\n",
    "third_column = {\n",
    "    'Judul Pelanggaran': [],\n",
    "    'Isi Pelanggaran': [],\n",
    "    'Nama KLPD': [],\n",
    "    'Nama Satker': [],\n",
    "    'Masa Berlaku Sanksi': [],\n",
    "    'Tanggal Penayangan': []\n",
    "}\n",
    "\n",
    "third_column"
   ]
  },
  {
   "cell_type": "markdown",
   "id": "fewer-contributor",
   "metadata": {},
   "source": [
    "### 2 Get the data"
   ]
  },
  {
   "cell_type": "code",
   "execution_count": 6,
   "id": "suburban-buying",
   "metadata": {},
   "outputs": [],
   "source": [
    "# Length of rows in page\n",
    "lengthRows = dataCollection.find_elements_by_class_name('item')\n",
    "# dataSubCollection = dataCollection.find_elements_by_tag_name('tr')\n",
    "\n",
    "for row in range(len(lengthRows)):\n",
    "    # Get data\n",
    "    # print(dataCollection.find_element_by_tag_name('td')[row].text)\n",
    "    valVioHeader = dataCollection.find_elements_by_class_name('header')[row].text\n",
    "    valVioContent = dataCollection.find_elements_by_class_name('description')[row].text\n",
    "    valList = []\n",
    "    elemVal = dataCollection.find_elements_by_tag_name('tbody')[row].find_elements_by_tag_name('td')[1::2]\n",
    "    for elem in elemVal:\n",
    "        elemValSub = elem.text\n",
    "        valList.append(elemValSub)\n",
    "    # Key-value\n",
    "    dict_val = {\n",
    "        'vio_header': valVioHeader,\n",
    "        'vio_content': valVioContent,\n",
    "        'sub_institution': valList[0],\n",
    "        'sub_name': valList[1],\n",
    "        'sub_expire': valList[2],\n",
    "        'sub_show': valList[3]\n",
    "    }\n",
    "    # Parse into list\n",
    "    for col in range(len(dict_val.keys())):\n",
    "        value = dict_val[list(dict_val.keys())[col]]\n",
    "        third_column[list(third_column.keys())[col]].append(value)"
   ]
  },
  {
   "cell_type": "code",
   "execution_count": 7,
   "id": "altered-craft",
   "metadata": {
    "scrolled": true
   },
   "outputs": [],
   "source": [
    "# Number of law\n",
    "lawList = []\n",
    "for element in dataCollection.find_elements_by_tag_name('td'):\n",
    "    string = element.text\n",
    "    try:\n",
    "        value = re.match(pattern = 'No+ : \\S+\\d+$', string = string)[0]\n",
    "    except:\n",
    "        continue\n",
    "    # Append to list\n",
    "    lawList.append(value)"
   ]
  },
  {
   "cell_type": "code",
   "execution_count": 8,
   "id": "photographic-orleans",
   "metadata": {
    "scrolled": true
   },
   "outputs": [
    {
     "data": {
      "text/plain": [
       "{'Judul Pelanggaran': ['Peraturan LKPP No. 17 Tahun 2018 Pasal 3 huruf g'],\n",
       " 'Isi Pelanggaran': ['Penyedia yang tidak melaksanakan kontrak, tidak menyelesaikan pekerjaan, atau dilakukan pemutusan kontrak secara sepihak oleh PPK yang disebabkan oleh kesalahan Penyedia Barang/Jasa'],\n",
       " 'Nama KLPD': ['Kementerian Keuangan'],\n",
       " 'Nama Satker': ['KANWIL DITJEN PERBENDAHARAAN PROVINSI KALIMANTAN TENGAH'],\n",
       " 'Masa Berlaku Sanksi': ['10 Sep 2021 s/d 10 Sep 2022'],\n",
       " 'Tanggal Penayangan': ['17 Sep 2021'],\n",
       " 'SK Penetapan': ['No : KEP-001/WPB.18/KPA/2021']}"
      ]
     },
     "execution_count": 8,
     "metadata": {},
     "output_type": "execute_result"
    }
   ],
   "source": [
    "# Add number of law into dictionary\n",
    "third_column['SK Penetapan'] = lawList\n",
    "third_column"
   ]
  },
  {
   "cell_type": "markdown",
   "id": "genetic-acting",
   "metadata": {},
   "source": [
    "## Convert into JSON"
   ]
  },
  {
   "cell_type": "code",
   "execution_count": 9,
   "id": "finnish-major",
   "metadata": {
    "scrolled": true
   },
   "outputs": [],
   "source": [
    "# Dictionary for data\n",
    "current_data = '4537'\n",
    "dict_full = {\n",
    "    current_data: third_column\n",
    "}"
   ]
  },
  {
   "cell_type": "code",
   "execution_count": 10,
   "id": "packed-gibson",
   "metadata": {
    "scrolled": true
   },
   "outputs": [
    {
     "data": {
      "text/plain": [
       "{'4537': {'Judul Pelanggaran': ['Peraturan LKPP No. 17 Tahun 2018 Pasal 3 huruf g'],\n",
       "  'Isi Pelanggaran': ['Penyedia yang tidak melaksanakan kontrak, tidak menyelesaikan pekerjaan, atau dilakukan pemutusan kontrak secara sepihak oleh PPK yang disebabkan oleh kesalahan Penyedia Barang/Jasa'],\n",
       "  'Nama KLPD': ['Kementerian Keuangan'],\n",
       "  'Nama Satker': ['KANWIL DITJEN PERBENDAHARAAN PROVINSI KALIMANTAN TENGAH'],\n",
       "  'Masa Berlaku Sanksi': ['10 Sep 2021 s/d 10 Sep 2022'],\n",
       "  'Tanggal Penayangan': ['17 Sep 2021'],\n",
       "  'SK Penetapan': ['No : KEP-001/WPB.18/KPA/2021']}}"
      ]
     },
     "execution_count": 10,
     "metadata": {},
     "output_type": "execute_result"
    }
   ],
   "source": [
    "# Data\n",
    "dict_full"
   ]
  },
  {
   "cell_type": "markdown",
   "id": "electric-campbell",
   "metadata": {},
   "source": [
    "## Convert into data frame"
   ]
  },
  {
   "cell_type": "code",
   "execution_count": 11,
   "id": "noble-package",
   "metadata": {},
   "outputs": [],
   "source": [
    "# Create a data frame\n",
    "df = pd.DataFrame(\n",
    "        data = dict_full['4537']\n",
    ")"
   ]
  },
  {
   "cell_type": "code",
   "execution_count": 12,
   "id": "computational-train",
   "metadata": {},
   "outputs": [
    {
     "name": "stdout",
     "output_type": "stream",
     "text": [
      "Dimension: 1 rows and 7 columns\n"
     ]
    },
    {
     "data": {
      "text/html": [
       "<div>\n",
       "<style scoped>\n",
       "    .dataframe tbody tr th:only-of-type {\n",
       "        vertical-align: middle;\n",
       "    }\n",
       "\n",
       "    .dataframe tbody tr th {\n",
       "        vertical-align: top;\n",
       "    }\n",
       "\n",
       "    .dataframe thead th {\n",
       "        text-align: right;\n",
       "    }\n",
       "</style>\n",
       "<table border=\"1\" class=\"dataframe\">\n",
       "  <thead>\n",
       "    <tr style=\"text-align: right;\">\n",
       "      <th></th>\n",
       "      <th>Judul Pelanggaran</th>\n",
       "      <th>Isi Pelanggaran</th>\n",
       "      <th>Nama KLPD</th>\n",
       "      <th>Nama Satker</th>\n",
       "      <th>Masa Berlaku Sanksi</th>\n",
       "      <th>Tanggal Penayangan</th>\n",
       "      <th>SK Penetapan</th>\n",
       "    </tr>\n",
       "  </thead>\n",
       "  <tbody>\n",
       "    <tr>\n",
       "      <th>0</th>\n",
       "      <td>Peraturan LKPP No. 17 Tahun 2018 Pasal 3 huruf g</td>\n",
       "      <td>Penyedia yang tidak melaksanakan kontrak, tida...</td>\n",
       "      <td>Kementerian Keuangan</td>\n",
       "      <td>KANWIL DITJEN PERBENDAHARAAN PROVINSI KALIMANT...</td>\n",
       "      <td>10 Sep 2021 s/d 10 Sep 2022</td>\n",
       "      <td>17 Sep 2021</td>\n",
       "      <td>No : KEP-001/WPB.18/KPA/2021</td>\n",
       "    </tr>\n",
       "  </tbody>\n",
       "</table>\n",
       "</div>"
      ],
      "text/plain": [
       "                                  Judul Pelanggaran  \\\n",
       "0  Peraturan LKPP No. 17 Tahun 2018 Pasal 3 huruf g   \n",
       "\n",
       "                                     Isi Pelanggaran             Nama KLPD  \\\n",
       "0  Penyedia yang tidak melaksanakan kontrak, tida...  Kementerian Keuangan   \n",
       "\n",
       "                                         Nama Satker  \\\n",
       "0  KANWIL DITJEN PERBENDAHARAAN PROVINSI KALIMANT...   \n",
       "\n",
       "           Masa Berlaku Sanksi Tanggal Penayangan  \\\n",
       "0  10 Sep 2021 s/d 10 Sep 2022        17 Sep 2021   \n",
       "\n",
       "                   SK Penetapan  \n",
       "0  No : KEP-001/WPB.18/KPA/2021  "
      ]
     },
     "execution_count": 12,
     "metadata": {},
     "output_type": "execute_result"
    }
   ],
   "source": [
    "print('Dimension: {} rows and {} columns'.format(len(df), len(df.columns)))\n",
    "df.head()"
   ]
  }
 ],
 "metadata": {
  "kernelspec": {
   "display_name": "Python 3",
   "language": "python",
   "name": "python3"
  },
  "language_info": {
   "codemirror_mode": {
    "name": "ipython",
    "version": 3
   },
   "file_extension": ".py",
   "mimetype": "text/x-python",
   "name": "python",
   "nbconvert_exporter": "python",
   "pygments_lexer": "ipython3",
   "version": "3.8.3"
  }
 },
 "nbformat": 4,
 "nbformat_minor": 5
}
