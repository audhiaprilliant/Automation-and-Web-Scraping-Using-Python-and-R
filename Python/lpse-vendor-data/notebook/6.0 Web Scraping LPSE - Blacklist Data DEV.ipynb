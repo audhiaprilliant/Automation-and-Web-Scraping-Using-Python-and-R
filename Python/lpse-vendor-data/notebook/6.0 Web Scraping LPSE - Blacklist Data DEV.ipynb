{
 "cells": [
  {
   "cell_type": "markdown",
   "id": "requested-velvet",
   "metadata": {},
   "source": [
    "# Web Scraping LPSE - Blacklist Data"
   ]
  },
  {
   "cell_type": "markdown",
   "id": "victorian-findings",
   "metadata": {},
   "source": [
    "---"
   ]
  },
  {
   "cell_type": "markdown",
   "id": "moral-details",
   "metadata": {},
   "source": [
    "For introduction of Selenium, please be kind to open [**this site**](https://www.scrapingbee.com/blog/selenium-python/)"
   ]
  },
  {
   "cell_type": "markdown",
   "id": "institutional-channel",
   "metadata": {},
   "source": [
    "## Import modules"
   ]
  },
  {
   "cell_type": "markdown",
   "id": "trying-transsexual",
   "metadata": {
    "scrolled": true
   },
   "source": [
    "`%pip freeze > requirements.txt`"
   ]
  },
  {
   "cell_type": "code",
   "execution_count": 10,
   "id": "dense-sense",
   "metadata": {
    "ExecuteTime": {
     "end_time": "2020-06-19T23:39:06.502572Z",
     "start_time": "2020-06-19T23:39:06.497076Z"
    }
   },
   "outputs": [],
   "source": [
    "# Module for web scraping\n",
    "from selenium import webdriver\n",
    "# Module for data manipulation\n",
    "import pandas as pd\n",
    "from bs4 import BeautifulSoup\n",
    "# Module for regular expression\n",
    "import re"
   ]
  },
  {
   "cell_type": "markdown",
   "id": "defensive-broadway",
   "metadata": {},
   "source": [
    "## Load the Chromedriver"
   ]
  },
  {
   "cell_type": "markdown",
   "id": "confidential-boulder",
   "metadata": {},
   "source": [
    "Read how to download webdriver for Chrome [**here**]('https://chromedriver.chromium.org/downloads')"
   ]
  },
  {
   "cell_type": "code",
   "execution_count": 2,
   "id": "fourth-character",
   "metadata": {},
   "outputs": [],
   "source": [
    "# Main link\n",
    "main_link = {\n",
    "    'Aktif': 'https://inaproc.id/daftar-hitam?page=1',\n",
    "    'Tidak Aktif': 'https://inaproc.id/daftar-hitam/non-aktif?page=1'\n",
    "}"
   ]
  },
  {
   "cell_type": "code",
   "execution_count": 3,
   "id": "coordinate-reading",
   "metadata": {
    "ExecuteTime": {
     "end_time": "2020-06-19T23:29:33.659375Z",
     "start_time": "2020-06-19T23:29:18.312261Z"
    }
   },
   "outputs": [],
   "source": [
    "# Access to main link\n",
    "DRIVER_PATH = '../bin/chromedriver'\n",
    "driver = webdriver.Chrome(executable_path = DRIVER_PATH)\n",
    "driver.get(main_link['Aktif'])"
   ]
  },
  {
   "cell_type": "markdown",
   "id": "congressional-prague",
   "metadata": {},
   "source": [
    "## Core Procedure"
   ]
  },
  {
   "cell_type": "markdown",
   "id": "sharing-defense",
   "metadata": {},
   "source": [
    "### 1 Get column names"
   ]
  },
  {
   "cell_type": "markdown",
   "id": "lesser-relief",
   "metadata": {},
   "source": [
    "#### Column 1"
   ]
  },
  {
   "cell_type": "code",
   "execution_count": 4,
   "id": "ceramic-workplace",
   "metadata": {},
   "outputs": [
    {
     "name": "stdout",
     "output_type": "stream",
     "text": [
      "Length of data in one page: 3 columns\n"
     ]
    }
   ],
   "source": [
    "# element for column names - 1\n",
    "colNamesfirst = driver.find_element_by_tag_name('thead').find_elements_by_tag_name('th')\n",
    "print('Length of data in one page: {} columns'.format(len(colNamesfirst)))"
   ]
  },
  {
   "cell_type": "code",
   "execution_count": 5,
   "id": "progressive-professional",
   "metadata": {},
   "outputs": [
    {
     "data": {
      "text/plain": [
       "['Penyedia', 'Alamat', 'Daftar Hitam']"
      ]
     },
     "execution_count": 5,
     "metadata": {},
     "output_type": "execute_result"
    }
   ],
   "source": [
    "# Column names\n",
    "listColsFirst = []\n",
    "for elem in colNamesfirst:\n",
    "    col_raw = elem.text\n",
    "    listColsFirst.append(col_raw)\n",
    "# Result\n",
    "listColsFirst = [i.replace('\\n', ' ') for i in listColsFirst]\n",
    "listColsFirst"
   ]
  },
  {
   "cell_type": "markdown",
   "id": "reliable-serve",
   "metadata": {},
   "source": [
    "#### Column 2"
   ]
  },
  {
   "cell_type": "code",
   "execution_count": 6,
   "id": "driving-weight",
   "metadata": {},
   "outputs": [
    {
     "name": "stdout",
     "output_type": "stream",
     "text": [
      "Length of data in one page: 8 columns\n"
     ]
    }
   ],
   "source": [
    "# element for column names - 2\n",
    "colNamesElem = driver.find_element_by_tag_name('tbody').find_elements_by_tag_name('tbody')[0]\n",
    "colNamesSecond = colNamesElem.find_elements_by_tag_name('td')\n",
    "print('Length of data in one page: {} columns'.format(len(colNamesSecond)))"
   ]
  },
  {
   "cell_type": "code",
   "execution_count": 7,
   "id": "personalized-principal",
   "metadata": {
    "code_folding": []
   },
   "outputs": [
    {
     "data": {
      "text/plain": [
       "['Status', 'Tanggal Penayangan', 'Masa Berlaku Sanksi', 'SK Penetapan']"
      ]
     },
     "execution_count": 7,
     "metadata": {},
     "output_type": "execute_result"
    }
   ],
   "source": [
    "# Column names\n",
    "listColsSecond = []\n",
    "for elem in colNamesSecond[0::2]:\n",
    "    col_raw = elem.text\n",
    "    listColsSecond.append(col_raw)\n",
    "# Result\n",
    "listColsSecond = [i.replace('\\n', ' ') for i in listColsSecond]\n",
    "listColsSecond"
   ]
  },
  {
   "cell_type": "markdown",
   "id": "developmental-glasgow",
   "metadata": {},
   "source": [
    "### 2 Get the data"
   ]
  },
  {
   "cell_type": "code",
   "execution_count": 8,
   "id": "endless-pierce",
   "metadata": {},
   "outputs": [],
   "source": [
    "# Data collections\n",
    "dataCollection = driver.find_element_by_tag_name('tbody')"
   ]
  },
  {
   "cell_type": "markdown",
   "id": "damaged-foundation",
   "metadata": {},
   "source": [
    "#### Column 1"
   ]
  },
  {
   "cell_type": "code",
   "execution_count": 47,
   "id": "outer-aspect",
   "metadata": {},
   "outputs": [
    {
     "data": {
      "text/plain": [
       "{'Data ID': [], 'Penyedia': [], 'NPWP': [], 'Alamat': [], 'Alamat Lengkap': []}"
      ]
     },
     "execution_count": 47,
     "metadata": {},
     "output_type": "execute_result"
    }
   ],
   "source": [
    "# Prepare blank dictionary for columns\n",
    "first_column = {\n",
    "    'Data ID': [],\n",
    "    'Penyedia': [],\n",
    "    'NPWP': [],\n",
    "    'Alamat': [],\n",
    "    'Alamat Lengkap': []\n",
    "}\n",
    "\n",
    "first_column"
   ]
  },
  {
   "cell_type": "code",
   "execution_count": 48,
   "id": "wound-campaign",
   "metadata": {},
   "outputs": [],
   "source": [
    "# Length of rows in page\n",
    "lengthRows = dataCollection.find_elements_by_tag_name('h5')\n",
    "\n",
    "for row in range(len(lengthRows)):\n",
    "    # Get data\n",
    "    valVendor = dataCollection.find_elements_by_tag_name('h5')[row].text\n",
    "    valNPWP = dataCollection.find_elements_by_class_name('npwp')[row].text\n",
    "    valAddessGen = dataCollection.find_elements_by_class_name('header')[row].text\n",
    "    valAddessDesc = dataCollection.find_elements_by_class_name('description')[row].text\n",
    "    valId = dataCollection.find_elements_by_tag_name('a')[row].get_attribute('data-id')\n",
    "    # Key-value\n",
    "    dict_val = {\n",
    "        'data_id': valId,\n",
    "        'vendor': valVendor,\n",
    "        'npwp': valNPWP,\n",
    "        'address_gen': valAddessGen,\n",
    "        'address_desc': valAddessDesc\n",
    "    }\n",
    "    # Parse into list\n",
    "    for col in range(len(dict_val.keys())):\n",
    "        value = dict_val[list(dict_val.keys())[col]]\n",
    "        first_column[list(first_column.keys())[col]].append(value)"
   ]
  },
  {
   "cell_type": "code",
   "execution_count": 49,
   "id": "imperial-footwear",
   "metadata": {
    "scrolled": true
   },
   "outputs": [
    {
     "data": {
      "text/plain": [
       "{'Data ID': ['4541',\n",
       "  '4537',\n",
       "  '4538',\n",
       "  '4530',\n",
       "  '4536',\n",
       "  '4534',\n",
       "  '4535',\n",
       "  '4533',\n",
       "  '4532',\n",
       "  '4528'],\n",
       " 'Penyedia': ['PT. Esti Yasagama',\n",
       "  'CV. CAHAYA KATANGKA LESTARI',\n",
       "  'CV. GURUH',\n",
       "  'CV Iswara Danadyaksa',\n",
       "  'CV. SATRIA JANUAR PRATAMA',\n",
       "  'PT.PUTRA KUBU KONSTRUKSI',\n",
       "  'CV. LIBRA ABADI',\n",
       "  'CV. WADAH KREASI UTAMA',\n",
       "  'PT. MIRTADA SEJAHTERA',\n",
       "  'PT. SINDANG MULTI MEGATAMA'],\n",
       " 'NPWP': ['NPWP: 01.210.912.0-016.000',\n",
       "  'NPWP: 02.325.106.9-807.000',\n",
       "  'NPWP: 02.996.729.6-121.000',\n",
       "  'NPWP: 94.157.082.2-543.000',\n",
       "  'NPWP: 83.963.088.6-438.000',\n",
       "  'NPWP: 83.097.404.4-907.000',\n",
       "  'NPWP: 71.576.498.1-831.000',\n",
       "  'NPWP: 03.320.242.5-411.000',\n",
       "  'NPWP: 02.335.744.5-101.000',\n",
       "  'NPWP: 03.093.722.1-031.000'],\n",
       " 'Alamat': ['Jakarta Selatan (Kota), DKI Jakarta',\n",
       "  'Gowa (Kab.), Sulawesi Selatan',\n",
       "  'Medan (Kota), Sumatera Utara',\n",
       "  'Bantul (Kab.), DI Yogyakarta',\n",
       "  'Kuningan (Kab.), Jawa Barat',\n",
       "  'Karang Asem (Kab.), Bali',\n",
       "  'Dongala (Kab.), Sulawesi Tengah',\n",
       "  'Tangerang Selatan (Kota), Banten',\n",
       "  'Aceh Besar (Kab.), Aceh',\n",
       "  'Jakarta Barat (Kota), DKI Jakarta'],\n",
       " 'Alamat Lengkap': ['Kios Taman Pondok Labu Lt. 1 Blok B No. 26 Jl. RS. Fatmawati Raya 27 Kelurahan Pondok Labu Kecamatan Cilandak Jakarta Selatan',\n",
       "  'Jl. Mesjid Raya No.77, Tombolo, Sombu Upu.',\n",
       "  'JL. SMA II NO. 8 MEDAN',\n",
       "  'Perumahan Puri Gardenia Ruko No.09, Jl. Karangjati No.17, Gedongan RT.02, Bangunjiwo, Kasihan, Bantul',\n",
       "  'Jl. RE Martadinata Rt. 01 Rw. 03',\n",
       "  'Br. Dinas Tegallanglangan,',\n",
       "  'DESA LOLI KEC. BANAWA',\n",
       "  'Jl. Mawar NO.63 RT.006 RW.007, Pisangan, Ciputat Timur Kota Tangerang Selatan Banten.',\n",
       "  'JL. T.HASAN DEK NO.12 GP. ATEUK PAHLAWAN KEC. BAITURRAHMAN',\n",
       "  'Ruko Srengseng Mas No. 118 G, Jl. Srengseng Raya RT/RW 010/003 kel. Srengseng Kec. Kembangan']}"
      ]
     },
     "execution_count": 49,
     "metadata": {},
     "output_type": "execute_result"
    }
   ],
   "source": [
    "first_column"
   ]
  },
  {
   "cell_type": "markdown",
   "id": "enhanced-gilbert",
   "metadata": {},
   "source": [
    "#### Column 2"
   ]
  },
  {
   "cell_type": "code",
   "execution_count": 50,
   "id": "attended-diabetes",
   "metadata": {},
   "outputs": [
    {
     "data": {
      "text/plain": [
       "{'Status': [],\n",
       " 'Tanggal Penayangan': [],\n",
       " 'Masa Berlaku Sanksi': [],\n",
       " 'SK Penetapan': []}"
      ]
     },
     "execution_count": 50,
     "metadata": {},
     "output_type": "execute_result"
    }
   ],
   "source": [
    "# Second column\n",
    "second_column = {key: [] for key in listColsSecond}\n",
    "second_column"
   ]
  },
  {
   "cell_type": "code",
   "execution_count": 51,
   "id": "organized-morning",
   "metadata": {
    "scrolled": true
   },
   "outputs": [],
   "source": [
    "for elem in dataCollection.find_elements_by_tag_name('tbody'):\n",
    "    elemValues = elem.find_elements_by_tag_name('tr')\n",
    "    for col in range(len(elemValues)):\n",
    "        value = elemValues[col].text\n",
    "        # Append values\n",
    "        second_column[list(second_column.keys())[col]].append(value)"
   ]
  },
  {
   "cell_type": "code",
   "execution_count": 52,
   "id": "lovely-frequency",
   "metadata": {
    "scrolled": true
   },
   "outputs": [
    {
     "data": {
      "text/plain": [
       "{'Status': ['Status Tayang',\n",
       "  'Status Tayang',\n",
       "  'Status Tayang',\n",
       "  'Status Tayang',\n",
       "  'Status Tayang',\n",
       "  'Status Tayang',\n",
       "  'Status Tayang',\n",
       "  'Status Tayang',\n",
       "  'Status Tayang',\n",
       "  'Status Tayang'],\n",
       " 'Tanggal Penayangan': ['Tanggal Penayangan 20 Sep 2021',\n",
       "  'Tanggal Penayangan 17 Sep 2021',\n",
       "  'Tanggal Penayangan 15 Sep 2021',\n",
       "  'Tanggal Penayangan 8 Sep 2021',\n",
       "  'Tanggal Penayangan 8 Sep 2021',\n",
       "  'Tanggal Penayangan 3 Sep 2021',\n",
       "  'Tanggal Penayangan 3 Sep 2021',\n",
       "  'Tanggal Penayangan 2 Sep 2021',\n",
       "  'Tanggal Penayangan 2 Sep 2021',\n",
       "  'Tanggal Penayangan 2 Sep 2021'],\n",
       " 'Masa Berlaku Sanksi': ['Masa Berlaku Sanksi 20 Sep 2021 s/d 20 Sep 2023',\n",
       "  'Masa Berlaku Sanksi 10 Sep 2021 s/d 10 Sep 2022',\n",
       "  'Masa Berlaku Sanksi 13 Sep 2021 s/d 13 Sep 2022',\n",
       "  'Masa Berlaku Sanksi 26 Agu 2021 s/d 26 Agu 2022',\n",
       "  'Masa Berlaku Sanksi 27 Agu 2021 s/d 27 Agu 2023',\n",
       "  'Masa Berlaku Sanksi 31 Agu 2021 s/d 31 Agu 2022',\n",
       "  'Masa Berlaku Sanksi 3 Mei 2021 s/d 3 Mei 2022',\n",
       "  'Masa Berlaku Sanksi 31 Agu 2021 s/d 31 Agu 2022',\n",
       "  'Masa Berlaku Sanksi 7 Jan 2021 s/d 7 Jan 2022',\n",
       "  'Masa Berlaku Sanksi 6 Agu 2021 s/d 6 Agu 2022'],\n",
       " 'SK Penetapan': ['SK Penetapan PA/KPA Balai Pelaksanaan Jalan Nasional Nusa Tenggara Barat Kementerian Pekerjaan Umum dan Perumahan Rakyat No: 1086/KPTS/BPJN-NTB/2021',\n",
       "  'SK Penetapan PA/KPA KANWIL DITJEN PERBENDAHARAAN PROVINSI KALIMANTAN TENGAH Kementerian Keuangan No: KEP-001/WPB.18/KPA/2021',\n",
       "  'SK Penetapan 38/KPTS/Bb2-wil1.S/2021',\n",
       "  'SK Penetapan PA/KPA RUMAH SAKIT UMUM DR CIPTO MANGUN KUSUMO JAKARTA Kementerian Kesehatan No: HK.02.03/9/37984/2021',\n",
       "  'SK Penetapan PA/KPA DINAS PEMBERDAYAAN MASYARAKAT DAN DESA Pemerintah Daerah Kabupaten Kuningan No: 602/036/DPMD/2021',\n",
       "  'SK Penetapan PA/KPA DINAS KOPERASI USAHA KECIL DAN MENENGAH DAN PERDAGANGAN Pemerintah Daerah Kabupaten Klungkung No: 510/1591/KPA/DKUKMP',\n",
       "  'SK Penetapan PA/KPA DINAS PEMUDA OLAHRAGA DAN PARIWISATA Pemerintah Daerah Kabupaten Parigi Moutong No: 870/323/DISPORAPAR/2021',\n",
       "  'SK Penetapan PA/KPA SEKRETARIAT DPRD Pemerintah Daerah Kabupaten Kebumen No: NOMOR 1728 TAHUN 2021',\n",
       "  'SK Penetapan PA/KPA DINAS KESEHATAN Pemerintah Daerah Kabupaten Aceh Besar No: 449.2/0036/2021',\n",
       "  'SK Penetapan PA/KPA RUMAH SAKIT UMUM DR CIPTO MANGUN KUSUMO JAKARTA Kementerian Kesehatan No: HK.02.03/9/35036/2021']}"
      ]
     },
     "execution_count": 52,
     "metadata": {},
     "output_type": "execute_result"
    }
   ],
   "source": [
    "second_column"
   ]
  },
  {
   "cell_type": "markdown",
   "id": "genetic-acting",
   "metadata": {},
   "source": [
    "## Convert into JSON"
   ]
  },
  {
   "cell_type": "code",
   "execution_count": 63,
   "id": "finnish-major",
   "metadata": {
    "scrolled": true
   },
   "outputs": [],
   "source": [
    "# Dictionary for data\n",
    "current_page = '1'\n",
    "dict_full = {\n",
    "    current_page: {\n",
    "        **first_column,\n",
    "        **second_column\n",
    "    }\n",
    "}"
   ]
  },
  {
   "cell_type": "code",
   "execution_count": 64,
   "id": "packed-gibson",
   "metadata": {
    "scrolled": true
   },
   "outputs": [
    {
     "data": {
      "text/plain": [
       "{'1': {'Data ID': ['4541',\n",
       "   '4537',\n",
       "   '4538',\n",
       "   '4530',\n",
       "   '4536',\n",
       "   '4534',\n",
       "   '4535',\n",
       "   '4533',\n",
       "   '4532',\n",
       "   '4528'],\n",
       "  'Penyedia': ['PT. Esti Yasagama',\n",
       "   'CV. CAHAYA KATANGKA LESTARI',\n",
       "   'CV. GURUH',\n",
       "   'CV Iswara Danadyaksa',\n",
       "   'CV. SATRIA JANUAR PRATAMA',\n",
       "   'PT.PUTRA KUBU KONSTRUKSI',\n",
       "   'CV. LIBRA ABADI',\n",
       "   'CV. WADAH KREASI UTAMA',\n",
       "   'PT. MIRTADA SEJAHTERA',\n",
       "   'PT. SINDANG MULTI MEGATAMA'],\n",
       "  'NPWP': ['NPWP: 01.210.912.0-016.000',\n",
       "   'NPWP: 02.325.106.9-807.000',\n",
       "   'NPWP: 02.996.729.6-121.000',\n",
       "   'NPWP: 94.157.082.2-543.000',\n",
       "   'NPWP: 83.963.088.6-438.000',\n",
       "   'NPWP: 83.097.404.4-907.000',\n",
       "   'NPWP: 71.576.498.1-831.000',\n",
       "   'NPWP: 03.320.242.5-411.000',\n",
       "   'NPWP: 02.335.744.5-101.000',\n",
       "   'NPWP: 03.093.722.1-031.000'],\n",
       "  'Alamat': ['Jakarta Selatan (Kota), DKI Jakarta',\n",
       "   'Gowa (Kab.), Sulawesi Selatan',\n",
       "   'Medan (Kota), Sumatera Utara',\n",
       "   'Bantul (Kab.), DI Yogyakarta',\n",
       "   'Kuningan (Kab.), Jawa Barat',\n",
       "   'Karang Asem (Kab.), Bali',\n",
       "   'Dongala (Kab.), Sulawesi Tengah',\n",
       "   'Tangerang Selatan (Kota), Banten',\n",
       "   'Aceh Besar (Kab.), Aceh',\n",
       "   'Jakarta Barat (Kota), DKI Jakarta'],\n",
       "  'Alamat Lengkap': ['Kios Taman Pondok Labu Lt. 1 Blok B No. 26 Jl. RS. Fatmawati Raya 27 Kelurahan Pondok Labu Kecamatan Cilandak Jakarta Selatan',\n",
       "   'Jl. Mesjid Raya No.77, Tombolo, Sombu Upu.',\n",
       "   'JL. SMA II NO. 8 MEDAN',\n",
       "   'Perumahan Puri Gardenia Ruko No.09, Jl. Karangjati No.17, Gedongan RT.02, Bangunjiwo, Kasihan, Bantul',\n",
       "   'Jl. RE Martadinata Rt. 01 Rw. 03',\n",
       "   'Br. Dinas Tegallanglangan,',\n",
       "   'DESA LOLI KEC. BANAWA',\n",
       "   'Jl. Mawar NO.63 RT.006 RW.007, Pisangan, Ciputat Timur Kota Tangerang Selatan Banten.',\n",
       "   'JL. T.HASAN DEK NO.12 GP. ATEUK PAHLAWAN KEC. BAITURRAHMAN',\n",
       "   'Ruko Srengseng Mas No. 118 G, Jl. Srengseng Raya RT/RW 010/003 kel. Srengseng Kec. Kembangan'],\n",
       "  'Status': ['Status Tayang',\n",
       "   'Status Tayang',\n",
       "   'Status Tayang',\n",
       "   'Status Tayang',\n",
       "   'Status Tayang',\n",
       "   'Status Tayang',\n",
       "   'Status Tayang',\n",
       "   'Status Tayang',\n",
       "   'Status Tayang',\n",
       "   'Status Tayang'],\n",
       "  'Tanggal Penayangan': ['Tanggal Penayangan 20 Sep 2021',\n",
       "   'Tanggal Penayangan 17 Sep 2021',\n",
       "   'Tanggal Penayangan 15 Sep 2021',\n",
       "   'Tanggal Penayangan 8 Sep 2021',\n",
       "   'Tanggal Penayangan 8 Sep 2021',\n",
       "   'Tanggal Penayangan 3 Sep 2021',\n",
       "   'Tanggal Penayangan 3 Sep 2021',\n",
       "   'Tanggal Penayangan 2 Sep 2021',\n",
       "   'Tanggal Penayangan 2 Sep 2021',\n",
       "   'Tanggal Penayangan 2 Sep 2021'],\n",
       "  'Masa Berlaku Sanksi': ['Masa Berlaku Sanksi 20 Sep 2021 s/d 20 Sep 2023',\n",
       "   'Masa Berlaku Sanksi 10 Sep 2021 s/d 10 Sep 2022',\n",
       "   'Masa Berlaku Sanksi 13 Sep 2021 s/d 13 Sep 2022',\n",
       "   'Masa Berlaku Sanksi 26 Agu 2021 s/d 26 Agu 2022',\n",
       "   'Masa Berlaku Sanksi 27 Agu 2021 s/d 27 Agu 2023',\n",
       "   'Masa Berlaku Sanksi 31 Agu 2021 s/d 31 Agu 2022',\n",
       "   'Masa Berlaku Sanksi 3 Mei 2021 s/d 3 Mei 2022',\n",
       "   'Masa Berlaku Sanksi 31 Agu 2021 s/d 31 Agu 2022',\n",
       "   'Masa Berlaku Sanksi 7 Jan 2021 s/d 7 Jan 2022',\n",
       "   'Masa Berlaku Sanksi 6 Agu 2021 s/d 6 Agu 2022'],\n",
       "  'SK Penetapan': ['SK Penetapan PA/KPA Balai Pelaksanaan Jalan Nasional Nusa Tenggara Barat Kementerian Pekerjaan Umum dan Perumahan Rakyat No: 1086/KPTS/BPJN-NTB/2021',\n",
       "   'SK Penetapan PA/KPA KANWIL DITJEN PERBENDAHARAAN PROVINSI KALIMANTAN TENGAH Kementerian Keuangan No: KEP-001/WPB.18/KPA/2021',\n",
       "   'SK Penetapan 38/KPTS/Bb2-wil1.S/2021',\n",
       "   'SK Penetapan PA/KPA RUMAH SAKIT UMUM DR CIPTO MANGUN KUSUMO JAKARTA Kementerian Kesehatan No: HK.02.03/9/37984/2021',\n",
       "   'SK Penetapan PA/KPA DINAS PEMBERDAYAAN MASYARAKAT DAN DESA Pemerintah Daerah Kabupaten Kuningan No: 602/036/DPMD/2021',\n",
       "   'SK Penetapan PA/KPA DINAS KOPERASI USAHA KECIL DAN MENENGAH DAN PERDAGANGAN Pemerintah Daerah Kabupaten Klungkung No: 510/1591/KPA/DKUKMP',\n",
       "   'SK Penetapan PA/KPA DINAS PEMUDA OLAHRAGA DAN PARIWISATA Pemerintah Daerah Kabupaten Parigi Moutong No: 870/323/DISPORAPAR/2021',\n",
       "   'SK Penetapan PA/KPA SEKRETARIAT DPRD Pemerintah Daerah Kabupaten Kebumen No: NOMOR 1728 TAHUN 2021',\n",
       "   'SK Penetapan PA/KPA DINAS KESEHATAN Pemerintah Daerah Kabupaten Aceh Besar No: 449.2/0036/2021',\n",
       "   'SK Penetapan PA/KPA RUMAH SAKIT UMUM DR CIPTO MANGUN KUSUMO JAKARTA Kementerian Kesehatan No: HK.02.03/9/35036/2021']}}"
      ]
     },
     "execution_count": 64,
     "metadata": {},
     "output_type": "execute_result"
    }
   ],
   "source": [
    "# Data\n",
    "dict_full"
   ]
  },
  {
   "cell_type": "markdown",
   "id": "august-melissa",
   "metadata": {},
   "source": [
    "## Convert into data frame"
   ]
  },
  {
   "cell_type": "code",
   "execution_count": 65,
   "id": "noble-package",
   "metadata": {},
   "outputs": [],
   "source": [
    "# Create a data frame\n",
    "df = pd.DataFrame(\n",
    "        data = dict_full['1']\n",
    ")"
   ]
  },
  {
   "cell_type": "code",
   "execution_count": 66,
   "id": "computational-train",
   "metadata": {},
   "outputs": [
    {
     "name": "stdout",
     "output_type": "stream",
     "text": [
      "Dimension: 10 rows and 9 columns\n"
     ]
    },
    {
     "data": {
      "text/html": [
       "<div>\n",
       "<style scoped>\n",
       "    .dataframe tbody tr th:only-of-type {\n",
       "        vertical-align: middle;\n",
       "    }\n",
       "\n",
       "    .dataframe tbody tr th {\n",
       "        vertical-align: top;\n",
       "    }\n",
       "\n",
       "    .dataframe thead th {\n",
       "        text-align: right;\n",
       "    }\n",
       "</style>\n",
       "<table border=\"1\" class=\"dataframe\">\n",
       "  <thead>\n",
       "    <tr style=\"text-align: right;\">\n",
       "      <th></th>\n",
       "      <th>Data ID</th>\n",
       "      <th>Penyedia</th>\n",
       "      <th>NPWP</th>\n",
       "      <th>Alamat</th>\n",
       "      <th>Alamat Lengkap</th>\n",
       "      <th>Status</th>\n",
       "      <th>Tanggal Penayangan</th>\n",
       "      <th>Masa Berlaku Sanksi</th>\n",
       "      <th>SK Penetapan</th>\n",
       "    </tr>\n",
       "  </thead>\n",
       "  <tbody>\n",
       "    <tr>\n",
       "      <th>0</th>\n",
       "      <td>4541</td>\n",
       "      <td>PT. Esti Yasagama</td>\n",
       "      <td>NPWP: 01.210.912.0-016.000</td>\n",
       "      <td>Jakarta Selatan (Kota), DKI Jakarta</td>\n",
       "      <td>Kios Taman Pondok Labu Lt. 1 Blok B No. 26 Jl....</td>\n",
       "      <td>Status Tayang</td>\n",
       "      <td>Tanggal Penayangan 20 Sep 2021</td>\n",
       "      <td>Masa Berlaku Sanksi 20 Sep 2021 s/d 20 Sep 2023</td>\n",
       "      <td>SK Penetapan PA/KPA Balai Pelaksanaan Jalan Na...</td>\n",
       "    </tr>\n",
       "    <tr>\n",
       "      <th>1</th>\n",
       "      <td>4537</td>\n",
       "      <td>CV. CAHAYA KATANGKA LESTARI</td>\n",
       "      <td>NPWP: 02.325.106.9-807.000</td>\n",
       "      <td>Gowa (Kab.), Sulawesi Selatan</td>\n",
       "      <td>Jl. Mesjid Raya No.77, Tombolo, Sombu Upu.</td>\n",
       "      <td>Status Tayang</td>\n",
       "      <td>Tanggal Penayangan 17 Sep 2021</td>\n",
       "      <td>Masa Berlaku Sanksi 10 Sep 2021 s/d 10 Sep 2022</td>\n",
       "      <td>SK Penetapan PA/KPA KANWIL DITJEN PERBENDAHARA...</td>\n",
       "    </tr>\n",
       "    <tr>\n",
       "      <th>2</th>\n",
       "      <td>4538</td>\n",
       "      <td>CV. GURUH</td>\n",
       "      <td>NPWP: 02.996.729.6-121.000</td>\n",
       "      <td>Medan (Kota), Sumatera Utara</td>\n",
       "      <td>JL. SMA II NO. 8 MEDAN</td>\n",
       "      <td>Status Tayang</td>\n",
       "      <td>Tanggal Penayangan 15 Sep 2021</td>\n",
       "      <td>Masa Berlaku Sanksi 13 Sep 2021 s/d 13 Sep 2022</td>\n",
       "      <td>SK Penetapan 38/KPTS/Bb2-wil1.S/2021</td>\n",
       "    </tr>\n",
       "    <tr>\n",
       "      <th>3</th>\n",
       "      <td>4530</td>\n",
       "      <td>CV Iswara Danadyaksa</td>\n",
       "      <td>NPWP: 94.157.082.2-543.000</td>\n",
       "      <td>Bantul (Kab.), DI Yogyakarta</td>\n",
       "      <td>Perumahan Puri Gardenia Ruko No.09, Jl. Karang...</td>\n",
       "      <td>Status Tayang</td>\n",
       "      <td>Tanggal Penayangan 8 Sep 2021</td>\n",
       "      <td>Masa Berlaku Sanksi 26 Agu 2021 s/d 26 Agu 2022</td>\n",
       "      <td>SK Penetapan PA/KPA RUMAH SAKIT UMUM DR CIPTO ...</td>\n",
       "    </tr>\n",
       "    <tr>\n",
       "      <th>4</th>\n",
       "      <td>4536</td>\n",
       "      <td>CV. SATRIA JANUAR PRATAMA</td>\n",
       "      <td>NPWP: 83.963.088.6-438.000</td>\n",
       "      <td>Kuningan (Kab.), Jawa Barat</td>\n",
       "      <td>Jl. RE Martadinata Rt. 01 Rw. 03</td>\n",
       "      <td>Status Tayang</td>\n",
       "      <td>Tanggal Penayangan 8 Sep 2021</td>\n",
       "      <td>Masa Berlaku Sanksi 27 Agu 2021 s/d 27 Agu 2023</td>\n",
       "      <td>SK Penetapan PA/KPA DINAS PEMBERDAYAAN MASYARA...</td>\n",
       "    </tr>\n",
       "  </tbody>\n",
       "</table>\n",
       "</div>"
      ],
      "text/plain": [
       "  Data ID                     Penyedia                        NPWP  \\\n",
       "0    4541            PT. Esti Yasagama  NPWP: 01.210.912.0-016.000   \n",
       "1    4537  CV. CAHAYA KATANGKA LESTARI  NPWP: 02.325.106.9-807.000   \n",
       "2    4538                    CV. GURUH  NPWP: 02.996.729.6-121.000   \n",
       "3    4530         CV Iswara Danadyaksa  NPWP: 94.157.082.2-543.000   \n",
       "4    4536    CV. SATRIA JANUAR PRATAMA  NPWP: 83.963.088.6-438.000   \n",
       "\n",
       "                                Alamat  \\\n",
       "0  Jakarta Selatan (Kota), DKI Jakarta   \n",
       "1        Gowa (Kab.), Sulawesi Selatan   \n",
       "2         Medan (Kota), Sumatera Utara   \n",
       "3         Bantul (Kab.), DI Yogyakarta   \n",
       "4          Kuningan (Kab.), Jawa Barat   \n",
       "\n",
       "                                      Alamat Lengkap         Status  \\\n",
       "0  Kios Taman Pondok Labu Lt. 1 Blok B No. 26 Jl....  Status Tayang   \n",
       "1         Jl. Mesjid Raya No.77, Tombolo, Sombu Upu.  Status Tayang   \n",
       "2                             JL. SMA II NO. 8 MEDAN  Status Tayang   \n",
       "3  Perumahan Puri Gardenia Ruko No.09, Jl. Karang...  Status Tayang   \n",
       "4                   Jl. RE Martadinata Rt. 01 Rw. 03  Status Tayang   \n",
       "\n",
       "               Tanggal Penayangan  \\\n",
       "0  Tanggal Penayangan 20 Sep 2021   \n",
       "1  Tanggal Penayangan 17 Sep 2021   \n",
       "2  Tanggal Penayangan 15 Sep 2021   \n",
       "3   Tanggal Penayangan 8 Sep 2021   \n",
       "4   Tanggal Penayangan 8 Sep 2021   \n",
       "\n",
       "                               Masa Berlaku Sanksi  \\\n",
       "0  Masa Berlaku Sanksi 20 Sep 2021 s/d 20 Sep 2023   \n",
       "1  Masa Berlaku Sanksi 10 Sep 2021 s/d 10 Sep 2022   \n",
       "2  Masa Berlaku Sanksi 13 Sep 2021 s/d 13 Sep 2022   \n",
       "3  Masa Berlaku Sanksi 26 Agu 2021 s/d 26 Agu 2022   \n",
       "4  Masa Berlaku Sanksi 27 Agu 2021 s/d 27 Agu 2023   \n",
       "\n",
       "                                        SK Penetapan  \n",
       "0  SK Penetapan PA/KPA Balai Pelaksanaan Jalan Na...  \n",
       "1  SK Penetapan PA/KPA KANWIL DITJEN PERBENDAHARA...  \n",
       "2               SK Penetapan 38/KPTS/Bb2-wil1.S/2021  \n",
       "3  SK Penetapan PA/KPA RUMAH SAKIT UMUM DR CIPTO ...  \n",
       "4  SK Penetapan PA/KPA DINAS PEMBERDAYAAN MASYARA...  "
      ]
     },
     "execution_count": 66,
     "metadata": {},
     "output_type": "execute_result"
    }
   ],
   "source": [
    "print('Dimension: {} rows and {} columns'.format(len(df), len(df.columns)))\n",
    "df.head()"
   ]
  },
  {
   "cell_type": "markdown",
   "id": "conceptual-salvation",
   "metadata": {},
   "source": [
    "## 3 Loop"
   ]
  },
  {
   "cell_type": "code",
   "execution_count": 25,
   "id": "literary-absence",
   "metadata": {},
   "outputs": [],
   "source": [
    "# Get last page\n",
    "pageElem = driver.find_element_by_class_name('pagination').find_elements_by_tag_name('a')\n",
    "lastPage = pageElem[len(pageElem) - 1].text"
   ]
  }
 ],
 "metadata": {
  "kernelspec": {
   "display_name": "Python 3",
   "language": "python",
   "name": "python3"
  },
  "language_info": {
   "codemirror_mode": {
    "name": "ipython",
    "version": 3
   },
   "file_extension": ".py",
   "mimetype": "text/x-python",
   "name": "python",
   "nbconvert_exporter": "python",
   "pygments_lexer": "ipython3",
   "version": "3.8.3"
  }
 },
 "nbformat": 4,
 "nbformat_minor": 5
}
