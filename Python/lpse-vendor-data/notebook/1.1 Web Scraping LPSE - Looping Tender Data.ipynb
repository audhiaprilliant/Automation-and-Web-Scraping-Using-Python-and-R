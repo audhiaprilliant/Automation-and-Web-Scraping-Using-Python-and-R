{
 "cells": [
  {
   "cell_type": "markdown",
   "id": "secret-nylon",
   "metadata": {},
   "source": [
    "# Web Scraping LPSE - Looping Tender Data"
   ]
  },
  {
   "cell_type": "markdown",
   "id": "raised-belgium",
   "metadata": {},
   "source": [
    "---"
   ]
  },
  {
   "cell_type": "markdown",
   "id": "authentic-burning",
   "metadata": {},
   "source": [
    "For introduction of Selenium, please be kind to open [**this site**](https://www.scrapingbee.com/blog/selenium-python/)"
   ]
  },
  {
   "cell_type": "markdown",
   "id": "monthly-drunk",
   "metadata": {},
   "source": [
    "## Import modules"
   ]
  },
  {
   "cell_type": "markdown",
   "id": "worldwide-static",
   "metadata": {
    "scrolled": true
   },
   "source": [
    "`%pip freeze > requirements.txt`"
   ]
  },
  {
   "cell_type": "code",
   "execution_count": 1,
   "id": "retired-queue",
   "metadata": {
    "ExecuteTime": {
     "end_time": "2020-06-19T23:39:06.502572Z",
     "start_time": "2020-06-19T23:39:06.497076Z"
    }
   },
   "outputs": [],
   "source": [
    "# Module for web scraping\n",
    "from selenium import webdriver\n",
    "# Module for data manipulation\n",
    "import pandas as pd\n",
    "from bs4 import BeautifulSoup\n",
    "# Module for dropdown selector\n",
    "from selenium.webdriver.support.ui import Select\n",
    "# Module for timing\n",
    "import time"
   ]
  },
  {
   "cell_type": "markdown",
   "id": "banned-title",
   "metadata": {},
   "source": [
    "## Load the Chromedriver"
   ]
  },
  {
   "cell_type": "markdown",
   "id": "damaged-yield",
   "metadata": {},
   "source": [
    "Read how to download webdriver for Chrome [**here**]('https://chromedriver.chromium.org/downloads')"
   ]
  },
  {
   "cell_type": "code",
   "execution_count": 2,
   "id": "contained-steel",
   "metadata": {},
   "outputs": [],
   "source": [
    "# Main pages in LPSE\n",
    "main_links = {\n",
    "    'Tender': 'https://lpse.lkpp.go.id/eproc4/lelang',\n",
    "    'Non Tender': 'https://lpse.lkpp.go.id/eproc4/nontender',\n",
    "    'Pencatatan Non Tender': 'https://lpse.lkpp.go.id/eproc4/pencatatan',\n",
    "    'Pencatatan Swakelola': 'https://lpse.lkpp.go.id/eproc4/swakelola',\n",
    "    'Pencatatan Pengadaan Darurat': 'https://lpse.lkpp.go.id/eproc4/darurat'\n",
    "}"
   ]
  },
  {
   "cell_type": "code",
   "execution_count": 3,
   "id": "together-reputation",
   "metadata": {
    "ExecuteTime": {
     "end_time": "2020-06-19T23:29:33.659375Z",
     "start_time": "2020-06-19T23:29:18.312261Z"
    }
   },
   "outputs": [],
   "source": [
    "# Access to main link\n",
    "DRIVER_PATH = '../bin/chromedriver'\n",
    "driver = webdriver.Chrome(executable_path = DRIVER_PATH)\n",
    "driver.get(main_links['Tender'])"
   ]
  },
  {
   "cell_type": "markdown",
   "id": "matched-worship",
   "metadata": {},
   "source": [
    "## Core Procedure"
   ]
  },
  {
   "cell_type": "markdown",
   "id": "honey-cylinder",
   "metadata": {},
   "source": [
    "### 1 Get final page"
   ]
  },
  {
   "cell_type": "code",
   "execution_count": 4,
   "id": "rapid-proposal",
   "metadata": {},
   "outputs": [
    {
     "name": "stdout",
     "output_type": "stream",
     "text": [
      "Final page is: 224\n"
     ]
    }
   ],
   "source": [
    "# Find final page\n",
    "elemPage = driver.find_element_by_class_name('pagination').find_elements_by_tag_name('li')\n",
    "final_page = elemPage[len(elemPage) - 3].text\n",
    "print('Final page is: {}'.format(final_page))"
   ]
  },
  {
   "cell_type": "markdown",
   "id": "impaired-innocent",
   "metadata": {},
   "source": [
    "### 2 Loop pages"
   ]
  },
  {
   "cell_type": "code",
   "execution_count": null,
   "id": "immune-effects",
   "metadata": {
    "scrolled": false
   },
   "outputs": [
    {
     "name": "stdout",
     "output_type": "stream",
     "text": [
      "Hey, we're now in page 1\n",
      "Hey, we're now in page 2\n",
      "Hey, we're now in page 3\n",
      "Hey, we're now in page 4\n",
      "Hey, we're now in page 5\n",
      "Hey, we're now in page 6\n",
      "Hey, we're now in page 7\n",
      "Hey, we're now in page 8\n",
      "Hey, we're now in page 9\n",
      "Hey, we're now in page 10\n",
      "Hey, we're now in page 11\n",
      "Hey, we're now in page 12\n",
      "Hey, we're now in page 13\n",
      "Hey, we're now in page 14\n",
      "Hey, we're now in page 15\n",
      "Hey, we're now in page 16\n",
      "Hey, we're now in page 17\n",
      "Hey, we're now in page 18\n",
      "Hey, we're now in page 19\n",
      "Hey, we're now in page 20\n",
      "Hey, we're now in page 21\n",
      "Hey, we're now in page 22\n",
      "Hey, we're now in page 23\n",
      "Hey, we're now in page 24\n",
      "Hey, we're now in page 25\n",
      "Hey, we're now in page 26\n",
      "Hey, we're now in page 27\n",
      "Hey, we're now in page 28\n",
      "Hey, we're now in page 29\n",
      "Hey, we're now in page 30\n",
      "Hey, we're now in page 31\n",
      "Hey, we're now in page 32\n",
      "Hey, we're now in page 33\n",
      "Hey, we're now in page 34\n",
      "Hey, we're now in page 35\n",
      "Hey, we're now in page 36\n",
      "Hey, we're now in page 37\n",
      "Hey, we're now in page 38\n",
      "Hey, we're now in page 39\n",
      "Hey, we're now in page 40\n"
     ]
    }
   ],
   "source": [
    "# Looping\n",
    "page = 0\n",
    "while page < int(final_page):\n",
    "    try:\n",
    "        # Next page\n",
    "        nextPage = driver.find_element_by_class_name('pagination').find_element_by_id('tbllelang_next')\n",
    "        nextPage.click()\n",
    "        time.sleep(5)\n",
    "        # Move to next page\n",
    "        page += 1\n",
    "        # Print the logs\n",
    "        print(\"Hey, we're now in page {}\".format(page))\n",
    "    except:\n",
    "        continue"
   ]
  }
 ],
 "metadata": {
  "kernelspec": {
   "display_name": "Python 3",
   "language": "python",
   "name": "python3"
  },
  "language_info": {
   "codemirror_mode": {
    "name": "ipython",
    "version": 3
   },
   "file_extension": ".py",
   "mimetype": "text/x-python",
   "name": "python",
   "nbconvert_exporter": "python",
   "pygments_lexer": "ipython3",
   "version": "3.8.3"
  }
 },
 "nbformat": 4,
 "nbformat_minor": 5
}
