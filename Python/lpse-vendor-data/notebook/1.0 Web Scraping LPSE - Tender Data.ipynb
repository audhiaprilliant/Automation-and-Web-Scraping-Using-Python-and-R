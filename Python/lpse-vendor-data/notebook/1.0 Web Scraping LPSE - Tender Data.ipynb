{
 "cells": [
  {
   "cell_type": "markdown",
   "id": "advised-pound",
   "metadata": {},
   "source": [
    "# Web Scraping LPSE - Tender Data"
   ]
  },
  {
   "cell_type": "markdown",
   "id": "raised-belgium",
   "metadata": {},
   "source": [
    "---"
   ]
  },
  {
   "cell_type": "markdown",
   "id": "authentic-burning",
   "metadata": {},
   "source": [
    "For introduction of Selenium, please be kind to open [**this site**](https://www.scrapingbee.com/blog/selenium-python/)"
   ]
  },
  {
   "cell_type": "markdown",
   "id": "monthly-drunk",
   "metadata": {},
   "source": [
    "## Import modules"
   ]
  },
  {
   "cell_type": "markdown",
   "id": "worldwide-static",
   "metadata": {
    "scrolled": true
   },
   "source": [
    "`%pip freeze > requirements.txt`"
   ]
  },
  {
   "cell_type": "code",
   "execution_count": 49,
   "id": "retired-queue",
   "metadata": {
    "ExecuteTime": {
     "end_time": "2020-06-19T23:39:06.502572Z",
     "start_time": "2020-06-19T23:39:06.497076Z"
    }
   },
   "outputs": [],
   "source": [
    "# Module for web scraping\n",
    "from selenium import webdriver\n",
    "# Module for data manipulation\n",
    "import pandas as pd\n",
    "from bs4 import BeautifulSoup\n",
    "# Module for dropdown selector\n",
    "from selenium.webdriver.support.ui import Select"
   ]
  },
  {
   "cell_type": "markdown",
   "id": "banned-title",
   "metadata": {},
   "source": [
    "## Load the Chromedriver"
   ]
  },
  {
   "cell_type": "markdown",
   "id": "damaged-yield",
   "metadata": {},
   "source": [
    "Read how to download webdriver for Chrome [**here**]('https://chromedriver.chromium.org/downloads')"
   ]
  },
  {
   "cell_type": "code",
   "execution_count": 50,
   "id": "contained-steel",
   "metadata": {},
   "outputs": [],
   "source": [
    "# Main pages in LPSE\n",
    "main_links = {\n",
    "    'Tender': 'https://lpse.lkpp.go.id/eproc4/lelang',\n",
    "    'Non Tender': 'https://lpse.lkpp.go.id/eproc4/nontender',\n",
    "    'Pencatatan Non Tender': 'https://lpse.lkpp.go.id/eproc4/pencatatan',\n",
    "    'Pencatatan Swakelola': 'https://lpse.lkpp.go.id/eproc4/swakelola',\n",
    "    'Pencatatan Pengadaan Darurat': 'https://lpse.lkpp.go.id/eproc4/darurat'\n",
    "}"
   ]
  },
  {
   "cell_type": "code",
   "execution_count": 51,
   "id": "together-reputation",
   "metadata": {
    "ExecuteTime": {
     "end_time": "2020-06-19T23:29:33.659375Z",
     "start_time": "2020-06-19T23:29:18.312261Z"
    }
   },
   "outputs": [],
   "source": [
    "# Access to main link\n",
    "DRIVER_PATH = '../bin/chromedriver'\n",
    "driver = webdriver.Chrome(executable_path = DRIVER_PATH)\n",
    "driver.get(main_links['Tender'])"
   ]
  },
  {
   "cell_type": "markdown",
   "id": "matched-worship",
   "metadata": {},
   "source": [
    "## Core Procedure"
   ]
  },
  {
   "cell_type": "markdown",
   "id": "desirable-mandate",
   "metadata": {},
   "source": [
    "### Select match category"
   ]
  },
  {
   "cell_type": "markdown",
   "id": "regulated-potter",
   "metadata": {},
   "source": [
    "#### 1 Tender type"
   ]
  },
  {
   "cell_type": "code",
   "execution_count": 52,
   "id": "ahead-rachel",
   "metadata": {
    "scrolled": true
   },
   "outputs": [],
   "source": [
    "dropdownTenders = driver.find_element_by_name('kategoriId')\n",
    "selectorTenders = Select(dropdownTenders)"
   ]
  },
  {
   "cell_type": "code",
   "execution_count": 53,
   "id": "collected-boston",
   "metadata": {},
   "outputs": [],
   "source": [
    "# List of dropdown list\n",
    "listTenderType = []\n",
    "options = selectorTenders.options\n",
    "for index in range(len(options)):\n",
    "    listTenderType.append(options[index].text)"
   ]
  },
  {
   "cell_type": "code",
   "execution_count": 54,
   "id": "tender-angola",
   "metadata": {},
   "outputs": [
    {
     "data": {
      "text/plain": [
       "['',\n",
       " 'Pengadaan Barang',\n",
       " 'Pekerjaan Konstruksi',\n",
       " 'Jasa Konsultansi Badan Usaha Non Konstruksi',\n",
       " 'Jasa Konsultansi Badan Usaha Konstruksi',\n",
       " 'Jasa Konsultansi Perorangan',\n",
       " 'Jasa Lainnya',\n",
       " 'Semua']"
      ]
     },
     "execution_count": 54,
     "metadata": {},
     "output_type": "execute_result"
    }
   ],
   "source": [
    "# Messy categories\n",
    "listTenderType"
   ]
  },
  {
   "cell_type": "code",
   "execution_count": 55,
   "id": "binding-cooling",
   "metadata": {},
   "outputs": [
    {
     "data": {
      "text/plain": [
       "['Pengadaan Barang',\n",
       " 'Pekerjaan Konstruksi',\n",
       " 'Jasa Konsultansi Badan Usaha Non Konstruksi',\n",
       " 'Jasa Konsultansi Badan Usaha Konstruksi',\n",
       " 'Jasa Konsultansi Perorangan',\n",
       " 'Jasa Lainnya',\n",
       " 'Semua']"
      ]
     },
     "execution_count": 55,
     "metadata": {},
     "output_type": "execute_result"
    }
   ],
   "source": [
    "# Clean categories\n",
    "listTenderTypeClean = listTenderType[1: len(listTenderType)]\n",
    "listTenderTypeClean"
   ]
  },
  {
   "cell_type": "code",
   "execution_count": 56,
   "id": "classified-runner",
   "metadata": {},
   "outputs": [],
   "source": [
    "# Select by visible text\n",
    "selectorTenders.select_by_visible_text(listTenderTypeClean[len(listTenderTypeClean) - 1])"
   ]
  },
  {
   "cell_type": "markdown",
   "id": "thermal-database",
   "metadata": {},
   "source": [
    "#### 2 Institutions"
   ]
  },
  {
   "cell_type": "code",
   "execution_count": 57,
   "id": "optimum-elite",
   "metadata": {
    "scrolled": true
   },
   "outputs": [],
   "source": [
    "dropdownInstitution = driver.find_element_by_name('instansiId')\n",
    "selectorInstitution = Select(dropdownInstitution)"
   ]
  },
  {
   "cell_type": "code",
   "execution_count": 58,
   "id": "expanded-sperm",
   "metadata": {},
   "outputs": [],
   "source": [
    "# List of dropdown list\n",
    "listInstitutions = []\n",
    "options = selectorInstitution.options\n",
    "for index in range(len(options)):\n",
    "    listInstitutions.append(options[index].text)"
   ]
  },
  {
   "cell_type": "code",
   "execution_count": 59,
   "id": "metallic-mailing",
   "metadata": {
    "scrolled": true
   },
   "outputs": [
    {
     "data": {
      "text/plain": [
       "['',\n",
       " 'Kementerian Pekerjaan Umum',\n",
       " 'Tentara Nasional Republik Indonesia',\n",
       " 'Kementerian Koordinator Bidang Kesejahteraan Rakyat',\n",
       " 'PT Sarana Pembangunan Jawa Tengah',\n",
       " 'Badan Ekonomi Kreatif',\n",
       " 'Universitas Diponegoro',\n",
       " 'Badan Penyelenggara Jaminan Sosial Kesehatan',\n",
       " 'Pemerintah Daerah Kota Salatiga',\n",
       " 'Kementerian Pekerjaan Umum dan Perumahan Rakyat',\n",
       " 'PDAM Tirta Moedal',\n",
       " 'PDAM Lawu Tirta',\n",
       " 'Badan Pengkajian Dan Penerapan Teknologi',\n",
       " 'Lembaga Administrasi Negara',\n",
       " 'PDAM Tirta Mahakam',\n",
       " 'Kementerian Luar Negeri',\n",
       " 'Arsip Nasional Republik Indonesia',\n",
       " 'Kementerian Perencanaan Pembangunan Nasional',\n",
       " 'Komisi Pemilihan Umum',\n",
       " 'Mahkamah Agung',\n",
       " 'Badan Pemeriksa Keuangan',\n",
       " 'Kementerian Pertanian',\n",
       " 'Lembaga Ketahanan Nasional',\n",
       " 'Kementerian Perdagangan',\n",
       " 'Kementerian Koordinator Bidang Perekonomian',\n",
       " 'Kementerian Komunikasi Dan Informatika',\n",
       " 'Kementerian Sekretariat Negara',\n",
       " 'Kementerian Pemberdayaan Perempuan Dan Perlindungan Anak',\n",
       " 'Majelis Permusyawaratan Rakyat',\n",
       " 'Kementerian Koordinator Bidang Kemaritiman',\n",
       " 'Kementerian Koordinator Bidang Pembangunan Manusia dan Kebudayaan',\n",
       " 'Kementerian Riset, Teknologi, dan Pendidikan Tinggi',\n",
       " 'Kementerian Energi Dan Sumber Daya Mineral',\n",
       " 'Kementerian Pendidikan dan Kebudayaan',\n",
       " 'Ombudsman Republik Indonesia',\n",
       " 'Sekretariat Kabinet',\n",
       " 'Lembaga Penerbangan Dan Antariksa Nasional',\n",
       " 'Pemerintah Daerah Kota Metro',\n",
       " 'Pemerintah Daerah Provinsi DKI Jakarta',\n",
       " 'PD PAL Jaya',\n",
       " 'Perum Perhutani',\n",
       " 'Pemerintah Daerah Kota Bandung',\n",
       " 'PDAM Tirta Gemilang Kabupaten Magelang',\n",
       " 'Lembaga Kebijakan Pengadaan Barang/Jasa Pemerintah',\n",
       " 'Kementerian Badan Usaha Milik Negara',\n",
       " 'Komisi Nasional Hak Asasi Manusia',\n",
       " 'Lembaga Penyiaran Radio Republik Indonesia',\n",
       " 'PDAM Tirta Aji Kabupaten Wonosobo',\n",
       " 'Pemerintah Daerah Kabupaten Berau',\n",
       " 'Pemerintah Daerah Kabupaten Jepara',\n",
       " 'Pemerintah Daerah Kabupaten Kendal',\n",
       " 'Pemerintah Daerah Provinsi Jawa Tengah',\n",
       " 'Pemerintah Daerah Kabupaten Jember',\n",
       " 'Pemerintah Daerah Kabupaten Wonosobo',\n",
       " 'Pemerintah Daerah Kota Magelang',\n",
       " 'Kementerian Agraria dan Tata Ruang/BPN',\n",
       " 'Kementerian Hukum Dan Hak Asasi Manusia RI',\n",
       " 'Universitas Indonesia',\n",
       " 'Kementerian Desa Pembangunan Daerah Tertinggal dan Transmigrasi RI',\n",
       " 'Badan Kependudukan Dan Keluarga Berencana Nasional',\n",
       " 'Bendahara Umum Negara',\n",
       " 'Pemerintah Daerah Kabupaten Nganjuk',\n",
       " 'PT Jakarta Tourisindo',\n",
       " 'PDAM Kabupaten Semarang',\n",
       " 'Pemerintah Daerah Kabupaten Subang',\n",
       " 'Semua']"
      ]
     },
     "execution_count": 59,
     "metadata": {},
     "output_type": "execute_result"
    }
   ],
   "source": [
    "# Messy categories\n",
    "listInstitutions"
   ]
  },
  {
   "cell_type": "code",
   "execution_count": 60,
   "id": "matched-offering",
   "metadata": {
    "scrolled": true
   },
   "outputs": [
    {
     "data": {
      "text/plain": [
       "['Kementerian Pekerjaan Umum',\n",
       " 'Tentara Nasional Republik Indonesia',\n",
       " 'Kementerian Koordinator Bidang Kesejahteraan Rakyat',\n",
       " 'PT Sarana Pembangunan Jawa Tengah',\n",
       " 'Badan Ekonomi Kreatif',\n",
       " 'Universitas Diponegoro',\n",
       " 'Badan Penyelenggara Jaminan Sosial Kesehatan',\n",
       " 'Pemerintah Daerah Kota Salatiga',\n",
       " 'Kementerian Pekerjaan Umum dan Perumahan Rakyat',\n",
       " 'PDAM Tirta Moedal',\n",
       " 'PDAM Lawu Tirta',\n",
       " 'Badan Pengkajian Dan Penerapan Teknologi',\n",
       " 'Lembaga Administrasi Negara',\n",
       " 'PDAM Tirta Mahakam',\n",
       " 'Kementerian Luar Negeri',\n",
       " 'Arsip Nasional Republik Indonesia',\n",
       " 'Kementerian Perencanaan Pembangunan Nasional',\n",
       " 'Komisi Pemilihan Umum',\n",
       " 'Mahkamah Agung',\n",
       " 'Badan Pemeriksa Keuangan',\n",
       " 'Kementerian Pertanian',\n",
       " 'Lembaga Ketahanan Nasional',\n",
       " 'Kementerian Perdagangan',\n",
       " 'Kementerian Koordinator Bidang Perekonomian',\n",
       " 'Kementerian Komunikasi Dan Informatika',\n",
       " 'Kementerian Sekretariat Negara',\n",
       " 'Kementerian Pemberdayaan Perempuan Dan Perlindungan Anak',\n",
       " 'Majelis Permusyawaratan Rakyat',\n",
       " 'Kementerian Koordinator Bidang Kemaritiman',\n",
       " 'Kementerian Koordinator Bidang Pembangunan Manusia dan Kebudayaan',\n",
       " 'Kementerian Riset, Teknologi, dan Pendidikan Tinggi',\n",
       " 'Kementerian Energi Dan Sumber Daya Mineral',\n",
       " 'Kementerian Pendidikan dan Kebudayaan',\n",
       " 'Ombudsman Republik Indonesia',\n",
       " 'Sekretariat Kabinet',\n",
       " 'Lembaga Penerbangan Dan Antariksa Nasional',\n",
       " 'Pemerintah Daerah Kota Metro',\n",
       " 'Pemerintah Daerah Provinsi DKI Jakarta',\n",
       " 'PD PAL Jaya',\n",
       " 'Perum Perhutani',\n",
       " 'Pemerintah Daerah Kota Bandung',\n",
       " 'PDAM Tirta Gemilang Kabupaten Magelang',\n",
       " 'Lembaga Kebijakan Pengadaan Barang/Jasa Pemerintah',\n",
       " 'Kementerian Badan Usaha Milik Negara',\n",
       " 'Komisi Nasional Hak Asasi Manusia',\n",
       " 'Lembaga Penyiaran Radio Republik Indonesia',\n",
       " 'PDAM Tirta Aji Kabupaten Wonosobo',\n",
       " 'Pemerintah Daerah Kabupaten Berau',\n",
       " 'Pemerintah Daerah Kabupaten Jepara',\n",
       " 'Pemerintah Daerah Kabupaten Kendal',\n",
       " 'Pemerintah Daerah Provinsi Jawa Tengah',\n",
       " 'Pemerintah Daerah Kabupaten Jember',\n",
       " 'Pemerintah Daerah Kabupaten Wonosobo',\n",
       " 'Pemerintah Daerah Kota Magelang',\n",
       " 'Kementerian Agraria dan Tata Ruang/BPN',\n",
       " 'Kementerian Hukum Dan Hak Asasi Manusia RI',\n",
       " 'Universitas Indonesia',\n",
       " 'Kementerian Desa Pembangunan Daerah Tertinggal dan Transmigrasi RI',\n",
       " 'Badan Kependudukan Dan Keluarga Berencana Nasional',\n",
       " 'Bendahara Umum Negara',\n",
       " 'Pemerintah Daerah Kabupaten Nganjuk',\n",
       " 'PT Jakarta Tourisindo',\n",
       " 'PDAM Kabupaten Semarang',\n",
       " 'Pemerintah Daerah Kabupaten Subang',\n",
       " 'Semua']"
      ]
     },
     "execution_count": 60,
     "metadata": {},
     "output_type": "execute_result"
    }
   ],
   "source": [
    "# Clean categories\n",
    "listInstitutionsClean = listInstitutions[1: len(listInstitutions)]\n",
    "listInstitutionsClean"
   ]
  },
  {
   "cell_type": "code",
   "execution_count": 61,
   "id": "voluntary-ability",
   "metadata": {},
   "outputs": [],
   "source": [
    "# Select by visible text\n",
    "selectorInstitution.select_by_visible_text(listInstitutionsClean[len(listInstitutionsClean) - 1])"
   ]
  },
  {
   "cell_type": "markdown",
   "id": "accredited-belle",
   "metadata": {},
   "source": [
    "#### 3 Fiscal year"
   ]
  },
  {
   "cell_type": "code",
   "execution_count": 62,
   "id": "forty-wright",
   "metadata": {
    "scrolled": true
   },
   "outputs": [],
   "source": [
    "dropdownYear = driver.find_element_by_name('tahun')\n",
    "selectorYear = Select(dropdownYear)"
   ]
  },
  {
   "cell_type": "code",
   "execution_count": 63,
   "id": "direct-minneapolis",
   "metadata": {},
   "outputs": [],
   "source": [
    "# List of dropdown list\n",
    "listYears = []\n",
    "options = selectorYear.options\n",
    "for index in range(len(options)):\n",
    "    listYears.append(options[index].text)"
   ]
  },
  {
   "cell_type": "code",
   "execution_count": 64,
   "id": "deadly-drove",
   "metadata": {
    "scrolled": true
   },
   "outputs": [
    {
     "data": {
      "text/plain": [
       "['',\n",
       " '2010',\n",
       " '2011',\n",
       " '2012',\n",
       " '2013',\n",
       " '2014',\n",
       " '2015',\n",
       " '2016',\n",
       " '2017',\n",
       " '2018',\n",
       " '2019',\n",
       " '2020',\n",
       " '2021',\n",
       " '2022',\n",
       " 'Semua']"
      ]
     },
     "execution_count": 64,
     "metadata": {},
     "output_type": "execute_result"
    }
   ],
   "source": [
    "# Messy categories\n",
    "listYears"
   ]
  },
  {
   "cell_type": "code",
   "execution_count": 65,
   "id": "rough-laugh",
   "metadata": {
    "scrolled": true
   },
   "outputs": [
    {
     "data": {
      "text/plain": [
       "['2010',\n",
       " '2011',\n",
       " '2012',\n",
       " '2013',\n",
       " '2014',\n",
       " '2015',\n",
       " '2016',\n",
       " '2017',\n",
       " '2018',\n",
       " '2019',\n",
       " '2020',\n",
       " '2021',\n",
       " '2022',\n",
       " 'Semua']"
      ]
     },
     "execution_count": 65,
     "metadata": {},
     "output_type": "execute_result"
    }
   ],
   "source": [
    "# Clean categories\n",
    "listYearsClean = listYears[1: len(listYears)]\n",
    "listYearsClean"
   ]
  },
  {
   "cell_type": "code",
   "execution_count": 66,
   "id": "described-poetry",
   "metadata": {},
   "outputs": [],
   "source": [
    "# Select by visible text\n",
    "selectorYear.select_by_visible_text(listYearsClean[len(listYearsClean) - 1])"
   ]
  },
  {
   "cell_type": "markdown",
   "id": "upper-fraction",
   "metadata": {},
   "source": [
    "### Get the tender summary data"
   ]
  },
  {
   "cell_type": "markdown",
   "id": "paperback-sunrise",
   "metadata": {},
   "source": [
    "#### 1 Get column names"
   ]
  },
  {
   "cell_type": "code",
   "execution_count": 67,
   "id": "changed-gazette",
   "metadata": {},
   "outputs": [],
   "source": [
    "# Get the column elements\n",
    "tenderSummaryData = driver.find_element_by_id('tbllelang')"
   ]
  },
  {
   "cell_type": "code",
   "execution_count": 68,
   "id": "fallen-glenn",
   "metadata": {},
   "outputs": [],
   "source": [
    "# element for column names\n",
    "colNames = tenderSummaryData.find_element_by_tag_name('thead').find_elements_by_tag_name('th')"
   ]
  },
  {
   "cell_type": "code",
   "execution_count": 69,
   "id": "continued-aging",
   "metadata": {},
   "outputs": [
    {
     "data": {
      "text/plain": [
       "['Kode', 'Nama Paket', 'K/L/PD', 'Tahapan', 'HPS']"
      ]
     },
     "execution_count": 69,
     "metadata": {},
     "output_type": "execute_result"
    }
   ],
   "source": [
    "# Column names\n",
    "listCols = []\n",
    "for elem in colNames:\n",
    "    col_raw = elem.text\n",
    "    listCols.append(col_raw)\n",
    "# Result\n",
    "listCols = [i.replace('\\n', ' ') for i in listCols]\n",
    "listCols"
   ]
  },
  {
   "cell_type": "markdown",
   "id": "contemporary-identification",
   "metadata": {},
   "source": [
    "#### 2 Get values"
   ]
  },
  {
   "cell_type": "code",
   "execution_count": 70,
   "id": "terminal-tuning",
   "metadata": {},
   "outputs": [
    {
     "name": "stdout",
     "output_type": "stream",
     "text": [
      "Length of data in one page: 25 rows\n"
     ]
    }
   ],
   "source": [
    "# Data collections\n",
    "dataCollection = tenderSummaryData.find_element_by_tag_name('tbody').find_elements_by_tag_name('tr')\n",
    "print('Length of data in one page: {} rows'.format(len(dataCollection)))"
   ]
  },
  {
   "cell_type": "code",
   "execution_count": 71,
   "id": "medieval-amber",
   "metadata": {},
   "outputs": [
    {
     "data": {
      "text/plain": [
       "{'Kode': [], 'Nama Paket': [], 'K/L/PD': [], 'Tahapan': [], 'HPS': []}"
      ]
     },
     "execution_count": 71,
     "metadata": {},
     "output_type": "execute_result"
    }
   ],
   "source": [
    "# Dictionary with blank list\n",
    "dict_init = {key: [] for key in listCols}\n",
    "dict_init"
   ]
  },
  {
   "cell_type": "code",
   "execution_count": 72,
   "id": "forced-phrase",
   "metadata": {
    "scrolled": true
   },
   "outputs": [],
   "source": [
    "# Get data\n",
    "for row in dataCollection:\n",
    "    elemValues = row.find_elements_by_tag_name('td')\n",
    "    for col in range(len(elemValues)):\n",
    "        try:\n",
    "            value = elemValues[col].find_elements_by_tag_name('a')[0].text\n",
    "        except:\n",
    "            value = elemValues[col].text\n",
    "        # Append values\n",
    "        dict_init[list(dict_init.keys())[col]].append(value)"
   ]
  },
  {
   "cell_type": "code",
   "execution_count": 73,
   "id": "worst-substitute",
   "metadata": {},
   "outputs": [
    {
     "data": {
      "text/plain": [
       "{'Kode': ['7749119',\n",
       "  '7744119',\n",
       "  '7742119',\n",
       "  '7730119',\n",
       "  '7725119',\n",
       "  '7720119',\n",
       "  '7719119',\n",
       "  '7718119',\n",
       "  '7713119',\n",
       "  '7712119',\n",
       "  '7710119',\n",
       "  '7709119',\n",
       "  '7708119',\n",
       "  '7706119',\n",
       "  '7705119',\n",
       "  '7703119',\n",
       "  '7702119',\n",
       "  '7701119',\n",
       "  '7699119',\n",
       "  '7695119',\n",
       "  '7694119',\n",
       "  '7692119',\n",
       "  '7687119',\n",
       "  '7683119',\n",
       "  '7682119'],\n",
       " 'Nama Paket': ['- 3 Renovasi Ruang Pengaduan Pusat',\n",
       "  'Pengadaan Alat-Alat Laboratorium Untuk Tahun 2021',\n",
       "  'Jasa Lainnya Event Organizer Rapat Koordinasi Nasional Pengadaan Barang/Jasa Tahun 2021',\n",
       "  'Pegadaan Antene dan Pemancar FM di Joglo',\n",
       "  'Pengadaan Water Meter dia. ½ inch Sebanyak 1500 Buah Untuk Stok gudang PDAM Kabupaten Semarang',\n",
       "  'Pengadaan alat pengolah data untuk Asdep Naster',\n",
       "  'Pengadaan alat pengolah data untuk Asdep Penyelenggaraan Persidangan (Asdep DKK 1)',\n",
       "  'Pengadaan vitamin bagi Pejabat/Pegawai',\n",
       "  'Pengadaan Konten Server Pemancar',\n",
       "  'IT Software Architect Tender Ulang',\n",
       "  'Pemasangan pipa instalasi dalam, inspection chamber (IC) dan pipa dinas air limbah rumah tangga program hibah air limbah tahap II.1 tahun 2020-2022 di wilayah eksisting jaringan perpipaan air limbah Tender Ulang',\n",
       "  'Jasa konsultansi pengawasan pembangunan IPAL di kawasan Thamrin Nine Seleksi Ulang',\n",
       "  'Penataan Ulang Area Plaza Basement LKPP (Ruang Arsip)',\n",
       "  'Pengadaan Perangkat Perekam Audio dan Audio Visual pada Sidang Kabinet/Rapat Terbatas Tender Ulang',\n",
       "  'Jasa Konsultan Lead Advisor Produktifitas Sektor Ekonomi pada Kegiatan Desain Pengembangan Transformasi Ekonomi Indonesia',\n",
       "  'Pengadaan Jasa Konsultan Perencanaan Teknis Perawatan Struktur Gedung LKPP',\n",
       "  'Pengembangan Sistem Pendukung Manajemen Portal SDI - Tahap 1',\n",
       "  'Pengadaan Jasa Konsultansi Penyusunan Dokumen UKL-UPL Pembangunan Jaringan Pipa Air Limbah Kawasan TB Simatupang',\n",
       "  'Pengadaan Kendaraan Bermotor Roda 4 Tender Dibatalkan Tender Ulang',\n",
       "  'Pekerjaan Sewa Laptop Dan Instalasi Local Area Network (LAN) Pada Pelaksanaan Seleksi Kompetensi Dasar (SKD) Berupa Computer Assisted Test (CAT) CASN Tahun 2021',\n",
       "  'Pengadaan Alat Pendukung Live Streaming Peliputan Kegiatan Kabinet/Sekretariat Kabinet Melalui Video Conference Tender Ulang',\n",
       "  'Pengadaan Perangkat Perekam Audio dan Audio Visual pada Sidang Kabinet/Rapat Terbatas Tender Dibatalkan',\n",
       "  'PENGADAAN PERANGKAT TEKNOLOGI INFORMASI DAN KOMUNIKASI DAN SARANA PENUNJANG PUSDATINRENBANG',\n",
       "  'JASA KONSULTAN LEAD ADVISOR TRANSFORMASI DIGITAL KEGIATAN DESAIN PENGEMBANGAN TRANSFORMASI EKONOMI INDONESIA',\n",
       "  'JASA KONSULTAN LEAD ADVISOR EKONOMI HIJAU KEGIATAN DESAIN PENGEMBANGAN TRANSFORMASI EKONOMI INDONESIA'],\n",
       " 'K/L/PD': ['Komisi Nasional Hak Asasi Manusia',\n",
       "  'PDAM Tirta Mahakam',\n",
       "  'Lembaga Kebijakan Pengadaan Barang/Jasa Pemerintah',\n",
       "  'Lembaga Penyiaran Radio Republik Indonesia',\n",
       "  'PDAM Kabupaten Semarang',\n",
       "  'Sekretariat Kabinet',\n",
       "  'Sekretariat Kabinet',\n",
       "  'Sekretariat Kabinet',\n",
       "  'Lembaga Penyiaran Radio Republik Indonesia',\n",
       "  'Lembaga Kebijakan Pengadaan Barang/Jasa Pemerintah',\n",
       "  'PD PAL Jaya',\n",
       "  'PD PAL Jaya',\n",
       "  'Lembaga Kebijakan Pengadaan Barang/Jasa Pemerintah',\n",
       "  'Sekretariat Kabinet',\n",
       "  'Kementerian Perencanaan Pembangunan Nasional',\n",
       "  'Lembaga Kebijakan Pengadaan Barang/Jasa Pemerintah',\n",
       "  'Kementerian Perencanaan Pembangunan Nasional',\n",
       "  'PD PAL Jaya',\n",
       "  'Lembaga Penyiaran Radio Republik Indonesia',\n",
       "  'Kementerian Perencanaan Pembangunan Nasional',\n",
       "  'Sekretariat Kabinet',\n",
       "  'Sekretariat Kabinet',\n",
       "  'Kementerian Perencanaan Pembangunan Nasional',\n",
       "  'Kementerian Perencanaan Pembangunan Nasional',\n",
       "  'Kementerian Perencanaan Pembangunan Nasional'],\n",
       " 'Tahapan': ['Pengumuman Pascakualifikasi [...]',\n",
       "  'Tender Sudah Selesai',\n",
       "  'Pengumuman Pascakualifikasi [...]',\n",
       "  'Pengumuman Pascakualifikasi [...]',\n",
       "  'Tender Sudah Selesai',\n",
       "  'Tender Sudah Selesai',\n",
       "  'Tender Sudah Selesai',\n",
       "  'Tender Sudah Selesai',\n",
       "  'Surat Penunjukan Penyedia Barang/Jasa',\n",
       "  'Surat Penunjukan Penyedia Barang/Jasa [...]',\n",
       "  'Penandatanganan Kontrak',\n",
       "  'Masa Sanggah',\n",
       "  'Masa Sanggah',\n",
       "  'Upload Dokumen Penawaran',\n",
       "  'Tender Sudah Selesai',\n",
       "  'Download Dokumen Pemilihan',\n",
       "  'Pembukaan dan Evaluasi Penawaran File I: Administrasi dan Teknis',\n",
       "  'Pengumuman Prakualifikasi [...]',\n",
       "  'Tender Dibatalkan',\n",
       "  'Penandatanganan Kontrak',\n",
       "  'Tender Sudah Selesai',\n",
       "  'Tender Dibatalkan',\n",
       "  'Penandatanganan Kontrak',\n",
       "  'Surat Penunjukan Penyedia Barang/Jasa [...]',\n",
       "  'Pembukaan dan Evaluasi Penawaran File I: Administrasi, Dokumen Kualifikasi, dan Teknis'],\n",
       " 'HPS': ['713,6 Jt',\n",
       "  '413,9 Jt',\n",
       "  '991,8 Jt',\n",
       "  '29,5 M',\n",
       "  '437,2 Jt',\n",
       "  '295,8 Jt',\n",
       "  '363,3 Jt',\n",
       "  '615,6 Jt',\n",
       "  '8,8 M',\n",
       "  '156 Jt',\n",
       "  '1,3 M',\n",
       "  '1 M',\n",
       "  '438,4 Jt',\n",
       "  '497,9 Jt',\n",
       "  '300 Jt',\n",
       "  '293,6 Jt',\n",
       "  '6,9 M',\n",
       "  '325,2 Jt',\n",
       "  '320,7 Jt',\n",
       "  '1 M',\n",
       "  '389,8 Jt',\n",
       "  '497,9 Jt',\n",
       "  '21,1 M',\n",
       "  '300 Jt',\n",
       "  '225 Jt']}"
      ]
     },
     "execution_count": 73,
     "metadata": {},
     "output_type": "execute_result"
    }
   ],
   "source": [
    "dict_init"
   ]
  },
  {
   "cell_type": "code",
   "execution_count": 83,
   "id": "hearing-failing",
   "metadata": {
    "scrolled": true
   },
   "outputs": [
    {
     "data": {
      "text/plain": [
       "['https://lpse.lkpp.go.id/eproc4/lelang/7749119/pengumumanlelang',\n",
       " 'https://lpse.lkpp.go.id/eproc4/lelang/7744119/pengumumanlelang',\n",
       " 'https://lpse.lkpp.go.id/eproc4/lelang/7742119/pengumumanlelang',\n",
       " 'https://lpse.lkpp.go.id/eproc4/lelang/7730119/pengumumanlelang',\n",
       " 'https://lpse.lkpp.go.id/eproc4/lelang/7725119/pengumumanlelang',\n",
       " 'https://lpse.lkpp.go.id/eproc4/lelang/7720119/pengumumanlelang',\n",
       " 'https://lpse.lkpp.go.id/eproc4/lelang/7719119/pengumumanlelang',\n",
       " 'https://lpse.lkpp.go.id/eproc4/lelang/7718119/pengumumanlelang',\n",
       " 'https://lpse.lkpp.go.id/eproc4/lelang/7713119/pengumumanlelang',\n",
       " 'https://lpse.lkpp.go.id/eproc4/lelang/7712119/pengumumanlelang',\n",
       " 'https://lpse.lkpp.go.id/eproc4/lelang/7710119/pengumumanlelang',\n",
       " 'https://lpse.lkpp.go.id/eproc4/lelang/7709119/pengumumanlelang',\n",
       " 'https://lpse.lkpp.go.id/eproc4/lelang/7708119/pengumumanlelang',\n",
       " 'https://lpse.lkpp.go.id/eproc4/lelang/7706119/pengumumanlelang',\n",
       " 'https://lpse.lkpp.go.id/eproc4/lelang/7705119/pengumumanlelang',\n",
       " 'https://lpse.lkpp.go.id/eproc4/lelang/7703119/pengumumanlelang',\n",
       " 'https://lpse.lkpp.go.id/eproc4/lelang/7702119/pengumumanlelang',\n",
       " 'https://lpse.lkpp.go.id/eproc4/lelang/7701119/pengumumanlelang',\n",
       " 'https://lpse.lkpp.go.id/eproc4/lelang/7699119/pengumumanlelang',\n",
       " 'https://lpse.lkpp.go.id/eproc4/lelang/7695119/pengumumanlelang',\n",
       " 'https://lpse.lkpp.go.id/eproc4/lelang/7694119/pengumumanlelang',\n",
       " 'https://lpse.lkpp.go.id/eproc4/lelang/7692119/pengumumanlelang',\n",
       " 'https://lpse.lkpp.go.id/eproc4/lelang/7687119/pengumumanlelang',\n",
       " 'https://lpse.lkpp.go.id/eproc4/lelang/7683119/pengumumanlelang',\n",
       " 'https://lpse.lkpp.go.id/eproc4/lelang/7682119/pengumumanlelang']"
      ]
     },
     "execution_count": 83,
     "metadata": {},
     "output_type": "execute_result"
    }
   ],
   "source": [
    "# Link\n",
    "listLinkTitle = []\n",
    "for idx in range(len(dataCollection)):\n",
    "    linkTitleElement = dataCollection[idx].find_elements_by_tag_name('td')[1]\n",
    "    link_title_text_raw = linkTitleElement.find_elements_by_tag_name('a')[0].get_attribute('href')\n",
    "    listLinkTitle.append(link_title_text_raw)\n",
    "# Print result\n",
    "listLinkTitle"
   ]
  },
  {
   "cell_type": "code",
   "execution_count": 85,
   "id": "specialized-wellington",
   "metadata": {
    "scrolled": true
   },
   "outputs": [
    {
     "data": {
      "text/plain": [
       "['Pekerjaan Konstruksi - TA 2021 - Tender - Pascakualifikasi Satu File Harga Terendah Sistem Gugur',\n",
       " 'Pengadaan Barang - TA 2021 - Tender Cepat - Pascakualifikasi Satu File Harga Terendah Sistem Gugur',\n",
       " 'Jasa Lainnya - TA 2021 - Tender - Pascakualifikasi Satu File Harga Terendah Sistem Gugur',\n",
       " 'Pengadaan Barang - TA 2021 - Tender - Pascakualifikasi Satu File Harga Terendah Sistem Gugur',\n",
       " 'Pengadaan Barang - TA 2021 - Tender Cepat - Pascakualifikasi Satu File Harga Terendah Sistem Gugur',\n",
       " 'Pengadaan Barang - TA 2021 - Tender Cepat - Pascakualifikasi Satu File Harga Terendah Sistem Gugur',\n",
       " 'Pengadaan Barang - TA 2021 - Tender Cepat - Pascakualifikasi Satu File Harga Terendah Sistem Gugur',\n",
       " 'Pengadaan Barang - TA 2021 - Tender Cepat - Pascakualifikasi Satu File Harga Terendah Sistem Gugur',\n",
       " 'Pengadaan Barang - TA 2021 - Tender - Pascakualifikasi Satu File Harga Terendah Sistem Gugur',\n",
       " 'Jasa Konsultansi Perorangan - TA 2021 - Seleksi - Pascakualifikasi Dua File Kualitas',\n",
       " 'Pekerjaan Konstruksi - TA 2021 - Tender - Pascakualifikasi Satu File Harga Terendah Sistem Gugur',\n",
       " 'Jasa Konsultansi Badan Usaha Non Konstruksi - TA 2021 - Seleksi - Prakualifikasi Dua File Kualitas dan Biaya',\n",
       " 'Pekerjaan Konstruksi - TA 2021 - Tender - Pascakualifikasi Satu File Harga Terendah Sistem Gugur',\n",
       " 'Pengadaan Barang - TA 2021 - Tender Cepat - Pascakualifikasi Satu File Harga Terendah Sistem Gugur',\n",
       " 'Jasa Konsultansi Perorangan - TA 2021 - Seleksi - Pascakualifikasi Dua File Kualitas',\n",
       " 'Jasa Konsultansi Badan Usaha Non Konstruksi - TA 2021 - Seleksi - Prakualifikasi Dua File Biaya Terendah',\n",
       " 'Jasa Konsultansi Badan Usaha Non Konstruksi - TA 2021 - Seleksi - Prakualifikasi Dua File Kualitas dan Biaya',\n",
       " 'Jasa Konsultansi Badan Usaha Non Konstruksi - TA 2021 - Seleksi - Prakualifikasi Dua File Kualitas dan Biaya',\n",
       " 'Pengadaan Barang - TA 2021 - Tender Cepat - Pascakualifikasi Satu File Harga Terendah Sistem Gugur',\n",
       " 'Jasa Lainnya - TA 2021 - Tender - Pascakualifikasi Satu File Harga Terendah Sistem Gugur',\n",
       " 'Pengadaan Barang - TA 2021 - Tender Cepat - Pascakualifikasi Satu File Harga Terendah Sistem Gugur',\n",
       " 'Pengadaan Barang - TA 2021 - Tender Cepat - Pascakualifikasi Satu File Harga Terendah Sistem Gugur',\n",
       " 'Pengadaan Barang - TA 2021 - Tender - Pascakualifikasi Satu File Harga Terendah Sistem Gugur',\n",
       " 'Jasa Konsultansi Perorangan - TA 2021 - Seleksi - Pascakualifikasi Dua File Kualitas',\n",
       " 'Jasa Konsultansi Perorangan - TA 2021 - Seleksi - Pascakualifikasi Dua File Kualitas']"
      ]
     },
     "execution_count": 85,
     "metadata": {},
     "output_type": "execute_result"
    }
   ],
   "source": [
    "# Subtitle\n",
    "listSubtitle = []\n",
    "for idx in range(len(dataCollection)):\n",
    "    subtitleElement = dataCollection[idx].find_elements_by_tag_name('td')[1]\n",
    "    subtitle_text_raw = subtitleElement.find_elements_by_tag_name('p')[1].text\n",
    "    listSubtitle.append(subtitle_text_raw)\n",
    "# Print result\n",
    "listSubtitle"
   ]
  },
  {
   "cell_type": "code",
   "execution_count": 86,
   "id": "recognized-pride",
   "metadata": {
    "scrolled": true
   },
   "outputs": [
    {
     "data": {
      "text/plain": [
       "['Nilai Kontrak : Nilai Kontrak belum dibuat',\n",
       " 'Nilai Kontrak : Nilai Kontrak belum dibuat',\n",
       " 'Nilai Kontrak : Nilai Kontrak belum dibuat',\n",
       " 'Nilai Kontrak : Nilai Kontrak belum dibuat',\n",
       " 'Nilai Kontrak : Rp. 354.255.000,00',\n",
       " 'Nilai Kontrak : Nilai Kontrak belum dibuat',\n",
       " 'Nilai Kontrak : Nilai Kontrak belum dibuat',\n",
       " 'Nilai Kontrak : Nilai Kontrak belum dibuat',\n",
       " 'Nilai Kontrak : Nilai Kontrak belum dibuat',\n",
       " 'Nilai Kontrak : Nilai Kontrak belum dibuat',\n",
       " 'Nilai Kontrak : Nilai Kontrak belum dibuat',\n",
       " 'Nilai Kontrak : Nilai Kontrak belum dibuat',\n",
       " 'Nilai Kontrak : Nilai Kontrak belum dibuat',\n",
       " 'Nilai Kontrak : Nilai Kontrak belum dibuat',\n",
       " 'Nilai Kontrak : Rp. 292.000.000,00',\n",
       " 'Nilai Kontrak : Nilai Kontrak belum dibuat',\n",
       " 'Nilai Kontrak : Nilai Kontrak belum dibuat',\n",
       " 'Nilai Kontrak : Nilai Kontrak belum dibuat',\n",
       " 'Nilai Kontrak : Nilai Kontrak belum dibuat',\n",
       " 'Nilai Kontrak : Nilai Kontrak belum dibuat',\n",
       " 'Nilai Kontrak : Nilai Kontrak belum dibuat',\n",
       " 'Nilai Kontrak : Nilai Kontrak belum dibuat',\n",
       " 'Nilai Kontrak : Rp. 20.916.500.000,00',\n",
       " 'Nilai Kontrak : Rp. 260.000.000,00',\n",
       " 'Nilai Kontrak : Nilai Kontrak belum dibuat']"
      ]
     },
     "execution_count": 86,
     "metadata": {},
     "output_type": "execute_result"
    }
   ],
   "source": [
    "# Captions\n",
    "listCaption = []\n",
    "for idx in range(len(dataCollection)):\n",
    "    captionElement = dataCollection[idx].find_elements_by_tag_name('td')[1]\n",
    "    caption_text_raw = captionElement.find_elements_by_tag_name('p')[2].text\n",
    "    listCaption.append(caption_text_raw)\n",
    "# Print result\n",
    "listCaption"
   ]
  },
  {
   "cell_type": "code",
   "execution_count": 87,
   "id": "charged-database",
   "metadata": {
    "scrolled": true
   },
   "outputs": [
    {
     "data": {
      "text/plain": [
       "[['spse 4.4'],\n",
       " ['spse 4.4'],\n",
       " ['spse 4.4'],\n",
       " ['spse 4.4'],\n",
       " ['spse 4.4'],\n",
       " ['spse 4.4'],\n",
       " ['spse 4.4'],\n",
       " ['spse 4.4'],\n",
       " ['spse 4.4'],\n",
       " ['Tender Ulang', 'spse 4.4'],\n",
       " ['Tender Ulang', 'spse 4.4'],\n",
       " ['Seleksi Ulang', 'spse 4.4'],\n",
       " ['spse 4.4'],\n",
       " ['Tender Ulang', 'spse 4.4'],\n",
       " ['spse 4.4'],\n",
       " ['spse 4.4'],\n",
       " ['spse 4.4'],\n",
       " ['spse 4.4'],\n",
       " ['Tender Dibatalkan', 'Tender Ulang', 'spse 4.4'],\n",
       " ['spse 4.4'],\n",
       " ['Tender Ulang', 'spse 4.4'],\n",
       " ['Tender Dibatalkan', 'spse 4.4'],\n",
       " ['spse 4.4', 'Evaluasi Ulang'],\n",
       " ['spse 4.4'],\n",
       " ['spse 4.4']]"
      ]
     },
     "execution_count": 87,
     "metadata": {},
     "output_type": "execute_result"
    }
   ],
   "source": [
    "# Annotation\n",
    "listAnnotation = []\n",
    "for idx in range(len(dataCollection)):\n",
    "    annotationElement = dataCollection[idx].find_elements_by_tag_name('td')[1]\n",
    "    annotationElements = annotationElement.find_elements_by_tag_name('span')\n",
    "    \n",
    "    listInAnnotation = []\n",
    "    for j in range(len(annotationElements)):\n",
    "        annotation_text_raw = annotationElements[j].text\n",
    "        listInAnnotation.append(annotation_text_raw)\n",
    "    \n",
    "    listAnnotation.append(listInAnnotation)\n",
    "# Print result\n",
    "listAnnotation"
   ]
  },
  {
   "cell_type": "code",
   "execution_count": 88,
   "id": "employed-absolute",
   "metadata": {
    "scrolled": true
   },
   "outputs": [
    {
     "data": {
      "text/plain": [
       "['https://lpse.lkpp.go.id/eproc4/lelang/7749119/jadwal',\n",
       " 'https://lpse.lkpp.go.id/eproc4/lelang/7744119/jadwal',\n",
       " 'https://lpse.lkpp.go.id/eproc4/lelang/7742119/jadwal',\n",
       " 'https://lpse.lkpp.go.id/eproc4/lelang/7730119/jadwal',\n",
       " 'https://lpse.lkpp.go.id/eproc4/lelang/7725119/jadwal',\n",
       " 'https://lpse.lkpp.go.id/eproc4/lelang/7720119/jadwal',\n",
       " 'https://lpse.lkpp.go.id/eproc4/lelang/7719119/jadwal',\n",
       " 'https://lpse.lkpp.go.id/eproc4/lelang/7718119/jadwal',\n",
       " 'https://lpse.lkpp.go.id/eproc4/lelang/7713119/jadwal',\n",
       " 'https://lpse.lkpp.go.id/eproc4/lelang/7712119/jadwal',\n",
       " 'https://lpse.lkpp.go.id/eproc4/lelang/7710119/jadwal',\n",
       " 'https://lpse.lkpp.go.id/eproc4/lelang/7709119/jadwal',\n",
       " 'https://lpse.lkpp.go.id/eproc4/lelang/7708119/jadwal',\n",
       " 'https://lpse.lkpp.go.id/eproc4/lelang/7706119/jadwal',\n",
       " 'https://lpse.lkpp.go.id/eproc4/lelang/7705119/jadwal',\n",
       " 'https://lpse.lkpp.go.id/eproc4/lelang/7703119/jadwal',\n",
       " 'https://lpse.lkpp.go.id/eproc4/lelang/7702119/jadwal',\n",
       " 'https://lpse.lkpp.go.id/eproc4/lelang/7701119/jadwal',\n",
       " 'https://lpse.lkpp.go.id/eproc4/lelang/7699119/jadwal',\n",
       " 'https://lpse.lkpp.go.id/eproc4/lelang/7695119/jadwal',\n",
       " 'https://lpse.lkpp.go.id/eproc4/lelang/7694119/jadwal',\n",
       " 'https://lpse.lkpp.go.id/eproc4/lelang/7692119/jadwal',\n",
       " 'https://lpse.lkpp.go.id/eproc4/lelang/7687119/jadwal',\n",
       " 'https://lpse.lkpp.go.id/eproc4/lelang/7683119/jadwal',\n",
       " 'https://lpse.lkpp.go.id/eproc4/lelang/7682119/jadwal']"
      ]
     },
     "execution_count": 88,
     "metadata": {},
     "output_type": "execute_result"
    }
   ],
   "source": [
    "# Tender schedule\n",
    "listLinkStatus = []\n",
    "for idx in range(len(dataCollection)):\n",
    "    linkStatusElement = dataCollection[idx].find_elements_by_tag_name('td')[3]\n",
    "    links_status_text_raw = linkStatusElement.find_elements_by_tag_name('a')[0].get_attribute('href')\n",
    "    listLinkStatus.append(links_status_text_raw)\n",
    "# Print result\n",
    "listLinkStatus"
   ]
  },
  {
   "cell_type": "markdown",
   "id": "likely-float",
   "metadata": {},
   "source": [
    "## Convert into JSON"
   ]
  },
  {
   "cell_type": "code",
   "execution_count": 93,
   "id": "beautiful-covering",
   "metadata": {},
   "outputs": [],
   "source": [
    "# Append dictionary\n",
    "dict_init['Link Paket'] = listLinkTitle\n",
    "dict_init['Penjelasan Singkat Paket'] = listSubtitle\n",
    "dict_init['Status Harga Paket'] = listCaption\n",
    "dict_init['Spesifikasi Paket'] = listAnnotation\n",
    "dict_init['Link Tahapan Paket'] = listLinkStatus"
   ]
  },
  {
   "cell_type": "code",
   "execution_count": 95,
   "id": "usual-tension",
   "metadata": {},
   "outputs": [],
   "source": [
    "# Add tender's code as identifier\n",
    "dict_full = {\n",
    "    '139119': dict_init\n",
    "}"
   ]
  },
  {
   "cell_type": "code",
   "execution_count": 96,
   "id": "brutal-sheriff",
   "metadata": {},
   "outputs": [
    {
     "data": {
      "text/plain": [
       "{'139119': {'Kode': ['7749119',\n",
       "   '7744119',\n",
       "   '7742119',\n",
       "   '7730119',\n",
       "   '7725119',\n",
       "   '7720119',\n",
       "   '7719119',\n",
       "   '7718119',\n",
       "   '7713119',\n",
       "   '7712119',\n",
       "   '7710119',\n",
       "   '7709119',\n",
       "   '7708119',\n",
       "   '7706119',\n",
       "   '7705119',\n",
       "   '7703119',\n",
       "   '7702119',\n",
       "   '7701119',\n",
       "   '7699119',\n",
       "   '7695119',\n",
       "   '7694119',\n",
       "   '7692119',\n",
       "   '7687119',\n",
       "   '7683119',\n",
       "   '7682119'],\n",
       "  'Nama Paket': ['- 3 Renovasi Ruang Pengaduan Pusat',\n",
       "   'Pengadaan Alat-Alat Laboratorium Untuk Tahun 2021',\n",
       "   'Jasa Lainnya Event Organizer Rapat Koordinasi Nasional Pengadaan Barang/Jasa Tahun 2021',\n",
       "   'Pegadaan Antene dan Pemancar FM di Joglo',\n",
       "   'Pengadaan Water Meter dia. ½ inch Sebanyak 1500 Buah Untuk Stok gudang PDAM Kabupaten Semarang',\n",
       "   'Pengadaan alat pengolah data untuk Asdep Naster',\n",
       "   'Pengadaan alat pengolah data untuk Asdep Penyelenggaraan Persidangan (Asdep DKK 1)',\n",
       "   'Pengadaan vitamin bagi Pejabat/Pegawai',\n",
       "   'Pengadaan Konten Server Pemancar',\n",
       "   'IT Software Architect Tender Ulang',\n",
       "   'Pemasangan pipa instalasi dalam, inspection chamber (IC) dan pipa dinas air limbah rumah tangga program hibah air limbah tahap II.1 tahun 2020-2022 di wilayah eksisting jaringan perpipaan air limbah Tender Ulang',\n",
       "   'Jasa konsultansi pengawasan pembangunan IPAL di kawasan Thamrin Nine Seleksi Ulang',\n",
       "   'Penataan Ulang Area Plaza Basement LKPP (Ruang Arsip)',\n",
       "   'Pengadaan Perangkat Perekam Audio dan Audio Visual pada Sidang Kabinet/Rapat Terbatas Tender Ulang',\n",
       "   'Jasa Konsultan Lead Advisor Produktifitas Sektor Ekonomi pada Kegiatan Desain Pengembangan Transformasi Ekonomi Indonesia',\n",
       "   'Pengadaan Jasa Konsultan Perencanaan Teknis Perawatan Struktur Gedung LKPP',\n",
       "   'Pengembangan Sistem Pendukung Manajemen Portal SDI - Tahap 1',\n",
       "   'Pengadaan Jasa Konsultansi Penyusunan Dokumen UKL-UPL Pembangunan Jaringan Pipa Air Limbah Kawasan TB Simatupang',\n",
       "   'Pengadaan Kendaraan Bermotor Roda 4 Tender Dibatalkan Tender Ulang',\n",
       "   'Pekerjaan Sewa Laptop Dan Instalasi Local Area Network (LAN) Pada Pelaksanaan Seleksi Kompetensi Dasar (SKD) Berupa Computer Assisted Test (CAT) CASN Tahun 2021',\n",
       "   'Pengadaan Alat Pendukung Live Streaming Peliputan Kegiatan Kabinet/Sekretariat Kabinet Melalui Video Conference Tender Ulang',\n",
       "   'Pengadaan Perangkat Perekam Audio dan Audio Visual pada Sidang Kabinet/Rapat Terbatas Tender Dibatalkan',\n",
       "   'PENGADAAN PERANGKAT TEKNOLOGI INFORMASI DAN KOMUNIKASI DAN SARANA PENUNJANG PUSDATINRENBANG',\n",
       "   'JASA KONSULTAN LEAD ADVISOR TRANSFORMASI DIGITAL KEGIATAN DESAIN PENGEMBANGAN TRANSFORMASI EKONOMI INDONESIA',\n",
       "   'JASA KONSULTAN LEAD ADVISOR EKONOMI HIJAU KEGIATAN DESAIN PENGEMBANGAN TRANSFORMASI EKONOMI INDONESIA'],\n",
       "  'K/L/PD': ['Komisi Nasional Hak Asasi Manusia',\n",
       "   'PDAM Tirta Mahakam',\n",
       "   'Lembaga Kebijakan Pengadaan Barang/Jasa Pemerintah',\n",
       "   'Lembaga Penyiaran Radio Republik Indonesia',\n",
       "   'PDAM Kabupaten Semarang',\n",
       "   'Sekretariat Kabinet',\n",
       "   'Sekretariat Kabinet',\n",
       "   'Sekretariat Kabinet',\n",
       "   'Lembaga Penyiaran Radio Republik Indonesia',\n",
       "   'Lembaga Kebijakan Pengadaan Barang/Jasa Pemerintah',\n",
       "   'PD PAL Jaya',\n",
       "   'PD PAL Jaya',\n",
       "   'Lembaga Kebijakan Pengadaan Barang/Jasa Pemerintah',\n",
       "   'Sekretariat Kabinet',\n",
       "   'Kementerian Perencanaan Pembangunan Nasional',\n",
       "   'Lembaga Kebijakan Pengadaan Barang/Jasa Pemerintah',\n",
       "   'Kementerian Perencanaan Pembangunan Nasional',\n",
       "   'PD PAL Jaya',\n",
       "   'Lembaga Penyiaran Radio Republik Indonesia',\n",
       "   'Kementerian Perencanaan Pembangunan Nasional',\n",
       "   'Sekretariat Kabinet',\n",
       "   'Sekretariat Kabinet',\n",
       "   'Kementerian Perencanaan Pembangunan Nasional',\n",
       "   'Kementerian Perencanaan Pembangunan Nasional',\n",
       "   'Kementerian Perencanaan Pembangunan Nasional'],\n",
       "  'Tahapan': ['Pengumuman Pascakualifikasi [...]',\n",
       "   'Tender Sudah Selesai',\n",
       "   'Pengumuman Pascakualifikasi [...]',\n",
       "   'Pengumuman Pascakualifikasi [...]',\n",
       "   'Tender Sudah Selesai',\n",
       "   'Tender Sudah Selesai',\n",
       "   'Tender Sudah Selesai',\n",
       "   'Tender Sudah Selesai',\n",
       "   'Surat Penunjukan Penyedia Barang/Jasa',\n",
       "   'Surat Penunjukan Penyedia Barang/Jasa [...]',\n",
       "   'Penandatanganan Kontrak',\n",
       "   'Masa Sanggah',\n",
       "   'Masa Sanggah',\n",
       "   'Upload Dokumen Penawaran',\n",
       "   'Tender Sudah Selesai',\n",
       "   'Download Dokumen Pemilihan',\n",
       "   'Pembukaan dan Evaluasi Penawaran File I: Administrasi dan Teknis',\n",
       "   'Pengumuman Prakualifikasi [...]',\n",
       "   'Tender Dibatalkan',\n",
       "   'Penandatanganan Kontrak',\n",
       "   'Tender Sudah Selesai',\n",
       "   'Tender Dibatalkan',\n",
       "   'Penandatanganan Kontrak',\n",
       "   'Surat Penunjukan Penyedia Barang/Jasa [...]',\n",
       "   'Pembukaan dan Evaluasi Penawaran File I: Administrasi, Dokumen Kualifikasi, dan Teknis'],\n",
       "  'HPS': ['713,6 Jt',\n",
       "   '413,9 Jt',\n",
       "   '991,8 Jt',\n",
       "   '29,5 M',\n",
       "   '437,2 Jt',\n",
       "   '295,8 Jt',\n",
       "   '363,3 Jt',\n",
       "   '615,6 Jt',\n",
       "   '8,8 M',\n",
       "   '156 Jt',\n",
       "   '1,3 M',\n",
       "   '1 M',\n",
       "   '438,4 Jt',\n",
       "   '497,9 Jt',\n",
       "   '300 Jt',\n",
       "   '293,6 Jt',\n",
       "   '6,9 M',\n",
       "   '325,2 Jt',\n",
       "   '320,7 Jt',\n",
       "   '1 M',\n",
       "   '389,8 Jt',\n",
       "   '497,9 Jt',\n",
       "   '21,1 M',\n",
       "   '300 Jt',\n",
       "   '225 Jt'],\n",
       "  'Link Paket': ['https://lpse.lkpp.go.id/eproc4/lelang/7749119/pengumumanlelang',\n",
       "   'https://lpse.lkpp.go.id/eproc4/lelang/7744119/pengumumanlelang',\n",
       "   'https://lpse.lkpp.go.id/eproc4/lelang/7742119/pengumumanlelang',\n",
       "   'https://lpse.lkpp.go.id/eproc4/lelang/7730119/pengumumanlelang',\n",
       "   'https://lpse.lkpp.go.id/eproc4/lelang/7725119/pengumumanlelang',\n",
       "   'https://lpse.lkpp.go.id/eproc4/lelang/7720119/pengumumanlelang',\n",
       "   'https://lpse.lkpp.go.id/eproc4/lelang/7719119/pengumumanlelang',\n",
       "   'https://lpse.lkpp.go.id/eproc4/lelang/7718119/pengumumanlelang',\n",
       "   'https://lpse.lkpp.go.id/eproc4/lelang/7713119/pengumumanlelang',\n",
       "   'https://lpse.lkpp.go.id/eproc4/lelang/7712119/pengumumanlelang',\n",
       "   'https://lpse.lkpp.go.id/eproc4/lelang/7710119/pengumumanlelang',\n",
       "   'https://lpse.lkpp.go.id/eproc4/lelang/7709119/pengumumanlelang',\n",
       "   'https://lpse.lkpp.go.id/eproc4/lelang/7708119/pengumumanlelang',\n",
       "   'https://lpse.lkpp.go.id/eproc4/lelang/7706119/pengumumanlelang',\n",
       "   'https://lpse.lkpp.go.id/eproc4/lelang/7705119/pengumumanlelang',\n",
       "   'https://lpse.lkpp.go.id/eproc4/lelang/7703119/pengumumanlelang',\n",
       "   'https://lpse.lkpp.go.id/eproc4/lelang/7702119/pengumumanlelang',\n",
       "   'https://lpse.lkpp.go.id/eproc4/lelang/7701119/pengumumanlelang',\n",
       "   'https://lpse.lkpp.go.id/eproc4/lelang/7699119/pengumumanlelang',\n",
       "   'https://lpse.lkpp.go.id/eproc4/lelang/7695119/pengumumanlelang',\n",
       "   'https://lpse.lkpp.go.id/eproc4/lelang/7694119/pengumumanlelang',\n",
       "   'https://lpse.lkpp.go.id/eproc4/lelang/7692119/pengumumanlelang',\n",
       "   'https://lpse.lkpp.go.id/eproc4/lelang/7687119/pengumumanlelang',\n",
       "   'https://lpse.lkpp.go.id/eproc4/lelang/7683119/pengumumanlelang',\n",
       "   'https://lpse.lkpp.go.id/eproc4/lelang/7682119/pengumumanlelang'],\n",
       "  'Penjelasan Singkat Paket': ['Pekerjaan Konstruksi - TA 2021 - Tender - Pascakualifikasi Satu File Harga Terendah Sistem Gugur',\n",
       "   'Pengadaan Barang - TA 2021 - Tender Cepat - Pascakualifikasi Satu File Harga Terendah Sistem Gugur',\n",
       "   'Jasa Lainnya - TA 2021 - Tender - Pascakualifikasi Satu File Harga Terendah Sistem Gugur',\n",
       "   'Pengadaan Barang - TA 2021 - Tender - Pascakualifikasi Satu File Harga Terendah Sistem Gugur',\n",
       "   'Pengadaan Barang - TA 2021 - Tender Cepat - Pascakualifikasi Satu File Harga Terendah Sistem Gugur',\n",
       "   'Pengadaan Barang - TA 2021 - Tender Cepat - Pascakualifikasi Satu File Harga Terendah Sistem Gugur',\n",
       "   'Pengadaan Barang - TA 2021 - Tender Cepat - Pascakualifikasi Satu File Harga Terendah Sistem Gugur',\n",
       "   'Pengadaan Barang - TA 2021 - Tender Cepat - Pascakualifikasi Satu File Harga Terendah Sistem Gugur',\n",
       "   'Pengadaan Barang - TA 2021 - Tender - Pascakualifikasi Satu File Harga Terendah Sistem Gugur',\n",
       "   'Jasa Konsultansi Perorangan - TA 2021 - Seleksi - Pascakualifikasi Dua File Kualitas',\n",
       "   'Pekerjaan Konstruksi - TA 2021 - Tender - Pascakualifikasi Satu File Harga Terendah Sistem Gugur',\n",
       "   'Jasa Konsultansi Badan Usaha Non Konstruksi - TA 2021 - Seleksi - Prakualifikasi Dua File Kualitas dan Biaya',\n",
       "   'Pekerjaan Konstruksi - TA 2021 - Tender - Pascakualifikasi Satu File Harga Terendah Sistem Gugur',\n",
       "   'Pengadaan Barang - TA 2021 - Tender Cepat - Pascakualifikasi Satu File Harga Terendah Sistem Gugur',\n",
       "   'Jasa Konsultansi Perorangan - TA 2021 - Seleksi - Pascakualifikasi Dua File Kualitas',\n",
       "   'Jasa Konsultansi Badan Usaha Non Konstruksi - TA 2021 - Seleksi - Prakualifikasi Dua File Biaya Terendah',\n",
       "   'Jasa Konsultansi Badan Usaha Non Konstruksi - TA 2021 - Seleksi - Prakualifikasi Dua File Kualitas dan Biaya',\n",
       "   'Jasa Konsultansi Badan Usaha Non Konstruksi - TA 2021 - Seleksi - Prakualifikasi Dua File Kualitas dan Biaya',\n",
       "   'Pengadaan Barang - TA 2021 - Tender Cepat - Pascakualifikasi Satu File Harga Terendah Sistem Gugur',\n",
       "   'Jasa Lainnya - TA 2021 - Tender - Pascakualifikasi Satu File Harga Terendah Sistem Gugur',\n",
       "   'Pengadaan Barang - TA 2021 - Tender Cepat - Pascakualifikasi Satu File Harga Terendah Sistem Gugur',\n",
       "   'Pengadaan Barang - TA 2021 - Tender Cepat - Pascakualifikasi Satu File Harga Terendah Sistem Gugur',\n",
       "   'Pengadaan Barang - TA 2021 - Tender - Pascakualifikasi Satu File Harga Terendah Sistem Gugur',\n",
       "   'Jasa Konsultansi Perorangan - TA 2021 - Seleksi - Pascakualifikasi Dua File Kualitas',\n",
       "   'Jasa Konsultansi Perorangan - TA 2021 - Seleksi - Pascakualifikasi Dua File Kualitas'],\n",
       "  'Status Harga Paket': ['Nilai Kontrak : Nilai Kontrak belum dibuat',\n",
       "   'Nilai Kontrak : Nilai Kontrak belum dibuat',\n",
       "   'Nilai Kontrak : Nilai Kontrak belum dibuat',\n",
       "   'Nilai Kontrak : Nilai Kontrak belum dibuat',\n",
       "   'Nilai Kontrak : Rp. 354.255.000,00',\n",
       "   'Nilai Kontrak : Nilai Kontrak belum dibuat',\n",
       "   'Nilai Kontrak : Nilai Kontrak belum dibuat',\n",
       "   'Nilai Kontrak : Nilai Kontrak belum dibuat',\n",
       "   'Nilai Kontrak : Nilai Kontrak belum dibuat',\n",
       "   'Nilai Kontrak : Nilai Kontrak belum dibuat',\n",
       "   'Nilai Kontrak : Nilai Kontrak belum dibuat',\n",
       "   'Nilai Kontrak : Nilai Kontrak belum dibuat',\n",
       "   'Nilai Kontrak : Nilai Kontrak belum dibuat',\n",
       "   'Nilai Kontrak : Nilai Kontrak belum dibuat',\n",
       "   'Nilai Kontrak : Rp. 292.000.000,00',\n",
       "   'Nilai Kontrak : Nilai Kontrak belum dibuat',\n",
       "   'Nilai Kontrak : Nilai Kontrak belum dibuat',\n",
       "   'Nilai Kontrak : Nilai Kontrak belum dibuat',\n",
       "   'Nilai Kontrak : Nilai Kontrak belum dibuat',\n",
       "   'Nilai Kontrak : Nilai Kontrak belum dibuat',\n",
       "   'Nilai Kontrak : Nilai Kontrak belum dibuat',\n",
       "   'Nilai Kontrak : Nilai Kontrak belum dibuat',\n",
       "   'Nilai Kontrak : Rp. 20.916.500.000,00',\n",
       "   'Nilai Kontrak : Rp. 260.000.000,00',\n",
       "   'Nilai Kontrak : Nilai Kontrak belum dibuat'],\n",
       "  'Spesifikasi Paket': [['spse 4.4'],\n",
       "   ['spse 4.4'],\n",
       "   ['spse 4.4'],\n",
       "   ['spse 4.4'],\n",
       "   ['spse 4.4'],\n",
       "   ['spse 4.4'],\n",
       "   ['spse 4.4'],\n",
       "   ['spse 4.4'],\n",
       "   ['spse 4.4'],\n",
       "   ['Tender Ulang', 'spse 4.4'],\n",
       "   ['Tender Ulang', 'spse 4.4'],\n",
       "   ['Seleksi Ulang', 'spse 4.4'],\n",
       "   ['spse 4.4'],\n",
       "   ['Tender Ulang', 'spse 4.4'],\n",
       "   ['spse 4.4'],\n",
       "   ['spse 4.4'],\n",
       "   ['spse 4.4'],\n",
       "   ['spse 4.4'],\n",
       "   ['Tender Dibatalkan', 'Tender Ulang', 'spse 4.4'],\n",
       "   ['spse 4.4'],\n",
       "   ['Tender Ulang', 'spse 4.4'],\n",
       "   ['Tender Dibatalkan', 'spse 4.4'],\n",
       "   ['spse 4.4', 'Evaluasi Ulang'],\n",
       "   ['spse 4.4'],\n",
       "   ['spse 4.4']],\n",
       "  'Link Tahapan Paket': ['https://lpse.lkpp.go.id/eproc4/lelang/7749119/jadwal',\n",
       "   'https://lpse.lkpp.go.id/eproc4/lelang/7744119/jadwal',\n",
       "   'https://lpse.lkpp.go.id/eproc4/lelang/7742119/jadwal',\n",
       "   'https://lpse.lkpp.go.id/eproc4/lelang/7730119/jadwal',\n",
       "   'https://lpse.lkpp.go.id/eproc4/lelang/7725119/jadwal',\n",
       "   'https://lpse.lkpp.go.id/eproc4/lelang/7720119/jadwal',\n",
       "   'https://lpse.lkpp.go.id/eproc4/lelang/7719119/jadwal',\n",
       "   'https://lpse.lkpp.go.id/eproc4/lelang/7718119/jadwal',\n",
       "   'https://lpse.lkpp.go.id/eproc4/lelang/7713119/jadwal',\n",
       "   'https://lpse.lkpp.go.id/eproc4/lelang/7712119/jadwal',\n",
       "   'https://lpse.lkpp.go.id/eproc4/lelang/7710119/jadwal',\n",
       "   'https://lpse.lkpp.go.id/eproc4/lelang/7709119/jadwal',\n",
       "   'https://lpse.lkpp.go.id/eproc4/lelang/7708119/jadwal',\n",
       "   'https://lpse.lkpp.go.id/eproc4/lelang/7706119/jadwal',\n",
       "   'https://lpse.lkpp.go.id/eproc4/lelang/7705119/jadwal',\n",
       "   'https://lpse.lkpp.go.id/eproc4/lelang/7703119/jadwal',\n",
       "   'https://lpse.lkpp.go.id/eproc4/lelang/7702119/jadwal',\n",
       "   'https://lpse.lkpp.go.id/eproc4/lelang/7701119/jadwal',\n",
       "   'https://lpse.lkpp.go.id/eproc4/lelang/7699119/jadwal',\n",
       "   'https://lpse.lkpp.go.id/eproc4/lelang/7695119/jadwal',\n",
       "   'https://lpse.lkpp.go.id/eproc4/lelang/7694119/jadwal',\n",
       "   'https://lpse.lkpp.go.id/eproc4/lelang/7692119/jadwal',\n",
       "   'https://lpse.lkpp.go.id/eproc4/lelang/7687119/jadwal',\n",
       "   'https://lpse.lkpp.go.id/eproc4/lelang/7683119/jadwal',\n",
       "   'https://lpse.lkpp.go.id/eproc4/lelang/7682119/jadwal']}}"
      ]
     },
     "execution_count": 96,
     "metadata": {},
     "output_type": "execute_result"
    }
   ],
   "source": [
    "dict_full"
   ]
  },
  {
   "cell_type": "markdown",
   "id": "imposed-orientation",
   "metadata": {},
   "source": [
    "## Convert into data frame"
   ]
  },
  {
   "cell_type": "code",
   "execution_count": 98,
   "id": "forty-salmon",
   "metadata": {},
   "outputs": [],
   "source": [
    "# Dictionary of data\n",
    "dict_data = dict_full['139119']\n",
    "# Add tender code\n",
    "dict_data['Kode Tender'] = ['139119'] * len(dict_full['139119']['Kode'])"
   ]
  },
  {
   "cell_type": "code",
   "execution_count": 99,
   "id": "dependent-convenience",
   "metadata": {},
   "outputs": [],
   "source": [
    "# Create a data frame\n",
    "df = pd.DataFrame(\n",
    "        data = dict_data\n",
    ")"
   ]
  },
  {
   "cell_type": "code",
   "execution_count": 100,
   "id": "recent-interface",
   "metadata": {
    "scrolled": false
   },
   "outputs": [
    {
     "name": "stdout",
     "output_type": "stream",
     "text": [
      "Dimension: 25 rows and 11 columns\n"
     ]
    },
    {
     "data": {
      "text/html": [
       "<div>\n",
       "<style scoped>\n",
       "    .dataframe tbody tr th:only-of-type {\n",
       "        vertical-align: middle;\n",
       "    }\n",
       "\n",
       "    .dataframe tbody tr th {\n",
       "        vertical-align: top;\n",
       "    }\n",
       "\n",
       "    .dataframe thead th {\n",
       "        text-align: right;\n",
       "    }\n",
       "</style>\n",
       "<table border=\"1\" class=\"dataframe\">\n",
       "  <thead>\n",
       "    <tr style=\"text-align: right;\">\n",
       "      <th></th>\n",
       "      <th>Kode</th>\n",
       "      <th>Nama Paket</th>\n",
       "      <th>K/L/PD</th>\n",
       "      <th>Tahapan</th>\n",
       "      <th>HPS</th>\n",
       "      <th>Link Paket</th>\n",
       "      <th>Penjelasan Singkat Paket</th>\n",
       "      <th>Status Harga Paket</th>\n",
       "      <th>Spesifikasi Paket</th>\n",
       "      <th>Link Tahapan Paket</th>\n",
       "      <th>Kode Tender</th>\n",
       "    </tr>\n",
       "  </thead>\n",
       "  <tbody>\n",
       "    <tr>\n",
       "      <th>0</th>\n",
       "      <td>7749119</td>\n",
       "      <td>- 3 Renovasi Ruang Pengaduan Pusat</td>\n",
       "      <td>Komisi Nasional Hak Asasi Manusia</td>\n",
       "      <td>Pengumuman Pascakualifikasi [...]</td>\n",
       "      <td>713,6 Jt</td>\n",
       "      <td>https://lpse.lkpp.go.id/eproc4/lelang/7749119/...</td>\n",
       "      <td>Pekerjaan Konstruksi - TA 2021 - Tender - Pasc...</td>\n",
       "      <td>Nilai Kontrak : Nilai Kontrak belum dibuat</td>\n",
       "      <td>[spse 4.4]</td>\n",
       "      <td>https://lpse.lkpp.go.id/eproc4/lelang/7749119/...</td>\n",
       "      <td>139119</td>\n",
       "    </tr>\n",
       "    <tr>\n",
       "      <th>1</th>\n",
       "      <td>7744119</td>\n",
       "      <td>Pengadaan Alat-Alat Laboratorium Untuk Tahun 2021</td>\n",
       "      <td>PDAM Tirta Mahakam</td>\n",
       "      <td>Tender Sudah Selesai</td>\n",
       "      <td>413,9 Jt</td>\n",
       "      <td>https://lpse.lkpp.go.id/eproc4/lelang/7744119/...</td>\n",
       "      <td>Pengadaan Barang - TA 2021 - Tender Cepat - Pa...</td>\n",
       "      <td>Nilai Kontrak : Nilai Kontrak belum dibuat</td>\n",
       "      <td>[spse 4.4]</td>\n",
       "      <td>https://lpse.lkpp.go.id/eproc4/lelang/7744119/...</td>\n",
       "      <td>139119</td>\n",
       "    </tr>\n",
       "    <tr>\n",
       "      <th>2</th>\n",
       "      <td>7742119</td>\n",
       "      <td>Jasa Lainnya Event Organizer Rapat Koordinasi ...</td>\n",
       "      <td>Lembaga Kebijakan Pengadaan Barang/Jasa Pemeri...</td>\n",
       "      <td>Pengumuman Pascakualifikasi [...]</td>\n",
       "      <td>991,8 Jt</td>\n",
       "      <td>https://lpse.lkpp.go.id/eproc4/lelang/7742119/...</td>\n",
       "      <td>Jasa Lainnya - TA 2021 - Tender - Pascakualifi...</td>\n",
       "      <td>Nilai Kontrak : Nilai Kontrak belum dibuat</td>\n",
       "      <td>[spse 4.4]</td>\n",
       "      <td>https://lpse.lkpp.go.id/eproc4/lelang/7742119/...</td>\n",
       "      <td>139119</td>\n",
       "    </tr>\n",
       "    <tr>\n",
       "      <th>3</th>\n",
       "      <td>7730119</td>\n",
       "      <td>Pegadaan Antene dan Pemancar FM di Joglo</td>\n",
       "      <td>Lembaga Penyiaran Radio Republik Indonesia</td>\n",
       "      <td>Pengumuman Pascakualifikasi [...]</td>\n",
       "      <td>29,5 M</td>\n",
       "      <td>https://lpse.lkpp.go.id/eproc4/lelang/7730119/...</td>\n",
       "      <td>Pengadaan Barang - TA 2021 - Tender - Pascakua...</td>\n",
       "      <td>Nilai Kontrak : Nilai Kontrak belum dibuat</td>\n",
       "      <td>[spse 4.4]</td>\n",
       "      <td>https://lpse.lkpp.go.id/eproc4/lelang/7730119/...</td>\n",
       "      <td>139119</td>\n",
       "    </tr>\n",
       "    <tr>\n",
       "      <th>4</th>\n",
       "      <td>7725119</td>\n",
       "      <td>Pengadaan Water Meter dia. ½ inch Sebanyak 150...</td>\n",
       "      <td>PDAM Kabupaten Semarang</td>\n",
       "      <td>Tender Sudah Selesai</td>\n",
       "      <td>437,2 Jt</td>\n",
       "      <td>https://lpse.lkpp.go.id/eproc4/lelang/7725119/...</td>\n",
       "      <td>Pengadaan Barang - TA 2021 - Tender Cepat - Pa...</td>\n",
       "      <td>Nilai Kontrak : Rp. 354.255.000,00</td>\n",
       "      <td>[spse 4.4]</td>\n",
       "      <td>https://lpse.lkpp.go.id/eproc4/lelang/7725119/...</td>\n",
       "      <td>139119</td>\n",
       "    </tr>\n",
       "  </tbody>\n",
       "</table>\n",
       "</div>"
      ],
      "text/plain": [
       "      Kode                                         Nama Paket  \\\n",
       "0  7749119                 - 3 Renovasi Ruang Pengaduan Pusat   \n",
       "1  7744119  Pengadaan Alat-Alat Laboratorium Untuk Tahun 2021   \n",
       "2  7742119  Jasa Lainnya Event Organizer Rapat Koordinasi ...   \n",
       "3  7730119           Pegadaan Antene dan Pemancar FM di Joglo   \n",
       "4  7725119  Pengadaan Water Meter dia. ½ inch Sebanyak 150...   \n",
       "\n",
       "                                              K/L/PD  \\\n",
       "0                  Komisi Nasional Hak Asasi Manusia   \n",
       "1                                 PDAM Tirta Mahakam   \n",
       "2  Lembaga Kebijakan Pengadaan Barang/Jasa Pemeri...   \n",
       "3         Lembaga Penyiaran Radio Republik Indonesia   \n",
       "4                            PDAM Kabupaten Semarang   \n",
       "\n",
       "                             Tahapan       HPS  \\\n",
       "0  Pengumuman Pascakualifikasi [...]  713,6 Jt   \n",
       "1               Tender Sudah Selesai  413,9 Jt   \n",
       "2  Pengumuman Pascakualifikasi [...]  991,8 Jt   \n",
       "3  Pengumuman Pascakualifikasi [...]    29,5 M   \n",
       "4               Tender Sudah Selesai  437,2 Jt   \n",
       "\n",
       "                                          Link Paket  \\\n",
       "0  https://lpse.lkpp.go.id/eproc4/lelang/7749119/...   \n",
       "1  https://lpse.lkpp.go.id/eproc4/lelang/7744119/...   \n",
       "2  https://lpse.lkpp.go.id/eproc4/lelang/7742119/...   \n",
       "3  https://lpse.lkpp.go.id/eproc4/lelang/7730119/...   \n",
       "4  https://lpse.lkpp.go.id/eproc4/lelang/7725119/...   \n",
       "\n",
       "                            Penjelasan Singkat Paket  \\\n",
       "0  Pekerjaan Konstruksi - TA 2021 - Tender - Pasc...   \n",
       "1  Pengadaan Barang - TA 2021 - Tender Cepat - Pa...   \n",
       "2  Jasa Lainnya - TA 2021 - Tender - Pascakualifi...   \n",
       "3  Pengadaan Barang - TA 2021 - Tender - Pascakua...   \n",
       "4  Pengadaan Barang - TA 2021 - Tender Cepat - Pa...   \n",
       "\n",
       "                           Status Harga Paket Spesifikasi Paket  \\\n",
       "0  Nilai Kontrak : Nilai Kontrak belum dibuat        [spse 4.4]   \n",
       "1  Nilai Kontrak : Nilai Kontrak belum dibuat        [spse 4.4]   \n",
       "2  Nilai Kontrak : Nilai Kontrak belum dibuat        [spse 4.4]   \n",
       "3  Nilai Kontrak : Nilai Kontrak belum dibuat        [spse 4.4]   \n",
       "4          Nilai Kontrak : Rp. 354.255.000,00        [spse 4.4]   \n",
       "\n",
       "                                  Link Tahapan Paket Kode Tender  \n",
       "0  https://lpse.lkpp.go.id/eproc4/lelang/7749119/...      139119  \n",
       "1  https://lpse.lkpp.go.id/eproc4/lelang/7744119/...      139119  \n",
       "2  https://lpse.lkpp.go.id/eproc4/lelang/7742119/...      139119  \n",
       "3  https://lpse.lkpp.go.id/eproc4/lelang/7730119/...      139119  \n",
       "4  https://lpse.lkpp.go.id/eproc4/lelang/7725119/...      139119  "
      ]
     },
     "execution_count": 100,
     "metadata": {},
     "output_type": "execute_result"
    }
   ],
   "source": [
    "print('Dimension: {} rows and {} columns'.format(len(df), len(df.columns)))\n",
    "df.head()"
   ]
  }
 ],
 "metadata": {
  "kernelspec": {
   "display_name": "Python 3",
   "language": "python",
   "name": "python3"
  },
  "language_info": {
   "codemirror_mode": {
    "name": "ipython",
    "version": 3
   },
   "file_extension": ".py",
   "mimetype": "text/x-python",
   "name": "python",
   "nbconvert_exporter": "python",
   "pygments_lexer": "ipython3",
   "version": "3.8.3"
  }
 },
 "nbformat": 4,
 "nbformat_minor": 5
}
