{
 "cells": [
  {
   "cell_type": "markdown",
   "id": "multiple-martin",
   "metadata": {},
   "source": [
    "# Web Scraping LPSE - Vendor (Winner) Data"
   ]
  },
  {
   "cell_type": "markdown",
   "id": "artificial-butler",
   "metadata": {},
   "source": [
    "---"
   ]
  },
  {
   "cell_type": "markdown",
   "id": "moral-details",
   "metadata": {},
   "source": [
    "For introduction of Selenium, please be kind to open [**this site**](https://www.scrapingbee.com/blog/selenium-python/)"
   ]
  },
  {
   "cell_type": "markdown",
   "id": "institutional-channel",
   "metadata": {},
   "source": [
    "## Import modules"
   ]
  },
  {
   "cell_type": "markdown",
   "id": "trying-transsexual",
   "metadata": {
    "scrolled": true
   },
   "source": [
    "`%pip freeze > requirements.txt`"
   ]
  },
  {
   "cell_type": "code",
   "execution_count": 22,
   "id": "dense-sense",
   "metadata": {
    "ExecuteTime": {
     "end_time": "2020-06-19T23:39:06.502572Z",
     "start_time": "2020-06-19T23:39:06.497076Z"
    }
   },
   "outputs": [],
   "source": [
    "# Module for web scraping\n",
    "from selenium import webdriver\n",
    "# Module for data manipulation\n",
    "import pandas as pd\n",
    "from bs4 import BeautifulSoup"
   ]
  },
  {
   "cell_type": "markdown",
   "id": "defensive-broadway",
   "metadata": {},
   "source": [
    "## Load the Chromedriver"
   ]
  },
  {
   "cell_type": "markdown",
   "id": "confidential-boulder",
   "metadata": {},
   "source": [
    "Read how to download webdriver for Chrome [**here**]('https://chromedriver.chromium.org/downloads')"
   ]
  },
  {
   "cell_type": "code",
   "execution_count": 23,
   "id": "fourth-character",
   "metadata": {},
   "outputs": [],
   "source": [
    "# Main link\n",
    "main_link = 'https://lpse.lkpp.go.id/eproc4/lelang/139119/pengumumanlelang'"
   ]
  },
  {
   "cell_type": "code",
   "execution_count": 24,
   "id": "coordinate-reading",
   "metadata": {
    "ExecuteTime": {
     "end_time": "2020-06-19T23:29:33.659375Z",
     "start_time": "2020-06-19T23:29:18.312261Z"
    }
   },
   "outputs": [],
   "source": [
    "# Access to main link\n",
    "DRIVER_PATH = '../bin/chromedriver'\n",
    "driver = webdriver.Chrome(executable_path = DRIVER_PATH)\n",
    "driver.get(main_link)"
   ]
  },
  {
   "cell_type": "markdown",
   "id": "congressional-prague",
   "metadata": {},
   "source": [
    "## Core Procedure"
   ]
  },
  {
   "cell_type": "markdown",
   "id": "stuck-shelter",
   "metadata": {},
   "source": [
    "### 1 Get links"
   ]
  },
  {
   "cell_type": "code",
   "execution_count": 25,
   "id": "injured-computer",
   "metadata": {},
   "outputs": [],
   "source": [
    "# Get links\n",
    "links = driver.find_elements_by_class_name('nav-link')\n",
    "listLink = [link.get_attribute('href') for link in links]"
   ]
  },
  {
   "cell_type": "code",
   "execution_count": 26,
   "id": "educational-habitat",
   "metadata": {},
   "outputs": [
    {
     "data": {
      "text/plain": [
       "{'Pengumuman': 'https://lpse.lkpp.go.id/eproc4/lelang/139119/pengumumanlelang',\n",
       " 'Peserta': 'https://lpse.lkpp.go.id/eproc4/lelang/139119/peserta',\n",
       " 'Hasil Evaluasi': 'https://lpse.lkpp.go.id/eproc4/evaluasi/139119/hasil',\n",
       " 'Pemenang': 'https://lpse.lkpp.go.id/eproc4/evaluasi/139119/pemenang',\n",
       " 'Pemenang Berkontrak': 'https://lpse.lkpp.go.id/eproc4/evaluasi/139119/pemenangberkontrak'}"
      ]
     },
     "execution_count": 26,
     "metadata": {},
     "output_type": "execute_result"
    }
   ],
   "source": [
    "# List of link\n",
    "navName = ['Pengumuman', 'Peserta', 'Hasil Evaluasi', 'Pemenang', 'Pemenang Berkontrak']\n",
    "dictLink = dict(zip(navName, listLink))\n",
    "dictLink"
   ]
  },
  {
   "cell_type": "markdown",
   "id": "developing-swaziland",
   "metadata": {},
   "source": [
    "### 2 Get information of winner"
   ]
  },
  {
   "cell_type": "markdown",
   "id": "imposed-revelation",
   "metadata": {},
   "source": [
    "#### Get link"
   ]
  },
  {
   "cell_type": "code",
   "execution_count": 27,
   "id": "burning-introduction",
   "metadata": {},
   "outputs": [
    {
     "data": {
      "text/plain": [
       "'https://lpse.lkpp.go.id/eproc4/evaluasi/139119/pemenang'"
      ]
     },
     "execution_count": 27,
     "metadata": {},
     "output_type": "execute_result"
    }
   ],
   "source": [
    "# Link of winners\n",
    "linkWinner = dictLink['Pemenang']\n",
    "linkWinner"
   ]
  },
  {
   "cell_type": "code",
   "execution_count": 28,
   "id": "featured-sharing",
   "metadata": {},
   "outputs": [],
   "source": [
    "# Access to winner's link\n",
    "driver.get(linkWinner)"
   ]
  },
  {
   "cell_type": "markdown",
   "id": "fewer-suspension",
   "metadata": {},
   "source": [
    "#### Get column names and values - 1"
   ]
  },
  {
   "cell_type": "code",
   "execution_count": 29,
   "id": "accredited-sound",
   "metadata": {},
   "outputs": [],
   "source": [
    "# Get the column elements\n",
    "winnerSummaryData = driver.find_element_by_class_name('content')"
   ]
  },
  {
   "cell_type": "code",
   "execution_count": 30,
   "id": "concrete-concert",
   "metadata": {},
   "outputs": [
    {
     "name": "stdout",
     "output_type": "stream",
     "text": [
      "Length of data in one page: 9 rows\n"
     ]
    }
   ],
   "source": [
    "# Data collections\n",
    "dataCollectionFirst = winnerSummaryData.find_element_by_tag_name('tbody').find_elements_by_tag_name('tr')\n",
    "print('Length of data in one page: {} rows'.format(len(dataCollectionFirst)))"
   ]
  },
  {
   "cell_type": "code",
   "execution_count": 31,
   "id": "taken-metallic",
   "metadata": {},
   "outputs": [
    {
     "data": {
      "text/plain": [
       "['Nama Tender', 'Jenis Pengadaan', 'Agency', 'Satuan Kerja', 'Pagu', 'HPS']"
      ]
     },
     "execution_count": 31,
     "metadata": {},
     "output_type": "execute_result"
    }
   ],
   "source": [
    "# Get column names\n",
    "listColNamesFirst = []\n",
    "for idx in range(len(dataCollectionFirst) - 3):\n",
    "    colNames = dataCollectionFirst[idx].find_elements_by_tag_name('th')[0].text\n",
    "    listColNamesFirst.append(colNames)\n",
    "# Result\n",
    "listColNamesFirst"
   ]
  },
  {
   "cell_type": "code",
   "execution_count": 32,
   "id": "intensive-involvement",
   "metadata": {},
   "outputs": [
    {
     "data": {
      "text/plain": [
       "['1 (satu) Paket Peralatan Observasi Geimagnet Landas Bumi',\n",
       " 'Pengadaan Barang',\n",
       " 'Lembaga Penerbangan Dan Antariksa Nasional (LAPAN)',\n",
       " 'Pusat Sains Antariksa',\n",
       " 'Rp. 1.556.954.000,00',\n",
       " 'Rp. 1.556.849.700,00']"
      ]
     },
     "execution_count": 32,
     "metadata": {},
     "output_type": "execute_result"
    }
   ],
   "source": [
    "# Get values\n",
    "listValuesFirst = []\n",
    "for idx in range(len(dataCollectionFirst) - 3):\n",
    "    value = dataCollectionFirst[idx].find_elements_by_tag_name('td')[0].text\n",
    "    listValuesFirst.append(value)\n",
    "# Result\n",
    "listValuesFirst"
   ]
  },
  {
   "cell_type": "markdown",
   "id": "flying-filename",
   "metadata": {},
   "source": [
    "#### Get column names and values - 2"
   ]
  },
  {
   "cell_type": "code",
   "execution_count": 33,
   "id": "liable-deployment",
   "metadata": {},
   "outputs": [],
   "source": [
    "# Data collections\n",
    "dataCollectionSecond = winnerSummaryData.find_element_by_tag_name('tbody').find_element_by_tag_name('tbody')"
   ]
  },
  {
   "cell_type": "code",
   "execution_count": 34,
   "id": "junior-slovenia",
   "metadata": {},
   "outputs": [
    {
     "data": {
      "text/plain": [
       "['Nama Pemenang', 'Alamat', 'NPWP', 'Harga Penawaran', 'Harga Terkoreksi']"
      ]
     },
     "execution_count": 34,
     "metadata": {},
     "output_type": "execute_result"
    }
   ],
   "source": [
    "# Get column names\n",
    "listColNamesSecond = []\n",
    "\n",
    "dataCollectionSecondCol = dataCollectionSecond.find_elements_by_tag_name('th')\n",
    "for elem in dataCollectionSecondCol:\n",
    "    colNames = elem.text\n",
    "    listColNamesSecond.append(colNames)\n",
    "# Result\n",
    "listColNamesSecond"
   ]
  },
  {
   "cell_type": "code",
   "execution_count": 35,
   "id": "absolute-press",
   "metadata": {},
   "outputs": [
    {
     "data": {
      "text/plain": [
       "['CV.CAHAYA BHAKTI',\n",
       " 'Jl. Anyer 37 - Bandung (Kota) - Jawa Barat',\n",
       " '01.822.785.0-424.000',\n",
       " 'Rp. 1.428.460.000,00',\n",
       " '']"
      ]
     },
     "execution_count": 35,
     "metadata": {},
     "output_type": "execute_result"
    }
   ],
   "source": [
    "# Get values\n",
    "listValuesSecond = []\n",
    "\n",
    "dataCollectionSecondVal = dataCollectionSecond.find_elements_by_tag_name('td')\n",
    "for val in dataCollectionSecondVal:\n",
    "    value = val.text\n",
    "    listValuesSecond.append(value)\n",
    "# Result\n",
    "listValuesSecond"
   ]
  },
  {
   "cell_type": "markdown",
   "id": "chubby-sharp",
   "metadata": {},
   "source": [
    "### 3 Data preprocessing"
   ]
  },
  {
   "cell_type": "code",
   "execution_count": 36,
   "id": "acknowledged-spare",
   "metadata": {},
   "outputs": [
    {
     "data": {
      "text/plain": [
       "['Nama Tender',\n",
       " 'Jenis Pengadaan',\n",
       " 'Agency',\n",
       " 'Satuan Kerja',\n",
       " 'Pagu',\n",
       " 'HPS',\n",
       " 'Nama Pemenang',\n",
       " 'Alamat',\n",
       " 'NPWP',\n",
       " 'Harga Penawaran',\n",
       " 'Harga Terkoreksi']"
      ]
     },
     "execution_count": 36,
     "metadata": {},
     "output_type": "execute_result"
    }
   ],
   "source": [
    "# Column names\n",
    "listColNamesFull = listColNamesFirst + listColNamesSecond\n",
    "listColNamesFull"
   ]
  },
  {
   "cell_type": "code",
   "execution_count": 37,
   "id": "complete-legislature",
   "metadata": {},
   "outputs": [
    {
     "data": {
      "text/plain": [
       "['1 (satu) Paket Peralatan Observasi Geimagnet Landas Bumi',\n",
       " 'Pengadaan Barang',\n",
       " 'Lembaga Penerbangan Dan Antariksa Nasional (LAPAN)',\n",
       " 'Pusat Sains Antariksa',\n",
       " 'Rp. 1.556.954.000,00',\n",
       " 'Rp. 1.556.849.700,00',\n",
       " 'CV.CAHAYA BHAKTI',\n",
       " 'Jl. Anyer 37 - Bandung (Kota) - Jawa Barat',\n",
       " '01.822.785.0-424.000',\n",
       " 'Rp. 1.428.460.000,00',\n",
       " '']"
      ]
     },
     "execution_count": 37,
     "metadata": {},
     "output_type": "execute_result"
    }
   ],
   "source": [
    "# Values\n",
    "listValuesFull = listValuesFirst + listValuesSecond\n",
    "listValuesFull"
   ]
  },
  {
   "cell_type": "markdown",
   "id": "broke-surname",
   "metadata": {},
   "source": [
    "## Convert JSON"
   ]
  },
  {
   "cell_type": "code",
   "execution_count": 38,
   "id": "disciplinary-plymouth",
   "metadata": {},
   "outputs": [],
   "source": [
    "# Add tender's code as identifier\n",
    "dict_full = {\n",
    "    '139119': dict(zip(\n",
    "        listColNamesFull,\n",
    "        listValuesFull\n",
    "        )\n",
    "    )\n",
    "}"
   ]
  },
  {
   "cell_type": "code",
   "execution_count": 39,
   "id": "partial-reputation",
   "metadata": {},
   "outputs": [
    {
     "data": {
      "text/plain": [
       "{'139119': {'Nama Tender': '1 (satu) Paket Peralatan Observasi Geimagnet Landas Bumi',\n",
       "  'Jenis Pengadaan': 'Pengadaan Barang',\n",
       "  'Agency': 'Lembaga Penerbangan Dan Antariksa Nasional (LAPAN)',\n",
       "  'Satuan Kerja': 'Pusat Sains Antariksa',\n",
       "  'Pagu': 'Rp. 1.556.954.000,00',\n",
       "  'HPS': 'Rp. 1.556.849.700,00',\n",
       "  'Nama Pemenang': 'CV.CAHAYA BHAKTI',\n",
       "  'Alamat': 'Jl. Anyer 37 - Bandung (Kota) - Jawa Barat',\n",
       "  'NPWP': '01.822.785.0-424.000',\n",
       "  'Harga Penawaran': 'Rp. 1.428.460.000,00',\n",
       "  'Harga Terkoreksi': ''}}"
      ]
     },
     "execution_count": 39,
     "metadata": {},
     "output_type": "execute_result"
    }
   ],
   "source": [
    "dict_full"
   ]
  },
  {
   "cell_type": "markdown",
   "id": "legislative-viking",
   "metadata": {},
   "source": [
    "## Convert into data frame"
   ]
  },
  {
   "cell_type": "code",
   "execution_count": 40,
   "id": "republican-compatibility",
   "metadata": {},
   "outputs": [],
   "source": [
    "# Dictionary of data\n",
    "dict_data = dict(zip(\n",
    "            listColNamesFull,\n",
    "            listValuesFull\n",
    "            )\n",
    "        )\n",
    "# Add tender code\n",
    "dict_data['Kode Tender'] = '7345119'"
   ]
  },
  {
   "cell_type": "code",
   "execution_count": 41,
   "id": "designed-record",
   "metadata": {},
   "outputs": [
    {
     "data": {
      "text/plain": [
       "{'Nama Tender': '1 (satu) Paket Peralatan Observasi Geimagnet Landas Bumi',\n",
       " 'Jenis Pengadaan': 'Pengadaan Barang',\n",
       " 'Agency': 'Lembaga Penerbangan Dan Antariksa Nasional (LAPAN)',\n",
       " 'Satuan Kerja': 'Pusat Sains Antariksa',\n",
       " 'Pagu': 'Rp. 1.556.954.000,00',\n",
       " 'HPS': 'Rp. 1.556.849.700,00',\n",
       " 'Nama Pemenang': 'CV.CAHAYA BHAKTI',\n",
       " 'Alamat': 'Jl. Anyer 37 - Bandung (Kota) - Jawa Barat',\n",
       " 'NPWP': '01.822.785.0-424.000',\n",
       " 'Harga Penawaran': 'Rp. 1.428.460.000,00',\n",
       " 'Harga Terkoreksi': '',\n",
       " 'Kode Tender': '7345119'}"
      ]
     },
     "execution_count": 41,
     "metadata": {},
     "output_type": "execute_result"
    }
   ],
   "source": [
    "# Value\n",
    "dict_data"
   ]
  },
  {
   "cell_type": "code",
   "execution_count": 42,
   "id": "brazilian-easter",
   "metadata": {
    "scrolled": true
   },
   "outputs": [],
   "source": [
    "# Create a data frame\n",
    "df = pd.DataFrame(\n",
    "        data = dict_data,\n",
    "        index = [0]\n",
    ")\n",
    "# Reorder columns\n",
    "cols = df.columns\n",
    "column_fix = [cols[-1]] + list(cols[:-1])\n",
    "df = df[column_fix]\n",
    "df = df.rename(columns = str.upper)"
   ]
  },
  {
   "cell_type": "code",
   "execution_count": 43,
   "id": "industrial-picking",
   "metadata": {
    "scrolled": false
   },
   "outputs": [
    {
     "name": "stdout",
     "output_type": "stream",
     "text": [
      "Dimension: 1 rows and 12 columns\n"
     ]
    },
    {
     "data": {
      "text/html": [
       "<div>\n",
       "<style scoped>\n",
       "    .dataframe tbody tr th:only-of-type {\n",
       "        vertical-align: middle;\n",
       "    }\n",
       "\n",
       "    .dataframe tbody tr th {\n",
       "        vertical-align: top;\n",
       "    }\n",
       "\n",
       "    .dataframe thead th {\n",
       "        text-align: right;\n",
       "    }\n",
       "</style>\n",
       "<table border=\"1\" class=\"dataframe\">\n",
       "  <thead>\n",
       "    <tr style=\"text-align: right;\">\n",
       "      <th></th>\n",
       "      <th>KODE TENDER</th>\n",
       "      <th>NAMA TENDER</th>\n",
       "      <th>JENIS PENGADAAN</th>\n",
       "      <th>AGENCY</th>\n",
       "      <th>SATUAN KERJA</th>\n",
       "      <th>PAGU</th>\n",
       "      <th>HPS</th>\n",
       "      <th>NAMA PEMENANG</th>\n",
       "      <th>ALAMAT</th>\n",
       "      <th>NPWP</th>\n",
       "      <th>HARGA PENAWARAN</th>\n",
       "      <th>HARGA TERKOREKSI</th>\n",
       "    </tr>\n",
       "  </thead>\n",
       "  <tbody>\n",
       "    <tr>\n",
       "      <th>0</th>\n",
       "      <td>7345119</td>\n",
       "      <td>1 (satu) Paket Peralatan Observasi Geimagnet L...</td>\n",
       "      <td>Pengadaan Barang</td>\n",
       "      <td>Lembaga Penerbangan Dan Antariksa Nasional (LA...</td>\n",
       "      <td>Pusat Sains Antariksa</td>\n",
       "      <td>Rp. 1.556.954.000,00</td>\n",
       "      <td>Rp. 1.556.849.700,00</td>\n",
       "      <td>CV.CAHAYA BHAKTI</td>\n",
       "      <td>Jl. Anyer 37 - Bandung (Kota) - Jawa Barat</td>\n",
       "      <td>01.822.785.0-424.000</td>\n",
       "      <td>Rp. 1.428.460.000,00</td>\n",
       "      <td></td>\n",
       "    </tr>\n",
       "  </tbody>\n",
       "</table>\n",
       "</div>"
      ],
      "text/plain": [
       "  KODE TENDER                                        NAMA TENDER  \\\n",
       "0     7345119  1 (satu) Paket Peralatan Observasi Geimagnet L...   \n",
       "\n",
       "    JENIS PENGADAAN                                             AGENCY  \\\n",
       "0  Pengadaan Barang  Lembaga Penerbangan Dan Antariksa Nasional (LA...   \n",
       "\n",
       "            SATUAN KERJA                  PAGU                   HPS  \\\n",
       "0  Pusat Sains Antariksa  Rp. 1.556.954.000,00  Rp. 1.556.849.700,00   \n",
       "\n",
       "      NAMA PEMENANG                                      ALAMAT  \\\n",
       "0  CV.CAHAYA BHAKTI  Jl. Anyer 37 - Bandung (Kota) - Jawa Barat   \n",
       "\n",
       "                   NPWP       HARGA PENAWARAN HARGA TERKOREKSI  \n",
       "0  01.822.785.0-424.000  Rp. 1.428.460.000,00                   "
      ]
     },
     "execution_count": 43,
     "metadata": {},
     "output_type": "execute_result"
    }
   ],
   "source": [
    "print('Dimension: {} rows and {} columns'.format(len(df), len(df.columns)))\n",
    "df.head()"
   ]
  }
 ],
 "metadata": {
  "kernelspec": {
   "display_name": "Python 3",
   "language": "python",
   "name": "python3"
  },
  "language_info": {
   "codemirror_mode": {
    "name": "ipython",
    "version": 3
   },
   "file_extension": ".py",
   "mimetype": "text/x-python",
   "name": "python",
   "nbconvert_exporter": "python",
   "pygments_lexer": "ipython3",
   "version": "3.8.3"
  }
 },
 "nbformat": 4,
 "nbformat_minor": 5
}
