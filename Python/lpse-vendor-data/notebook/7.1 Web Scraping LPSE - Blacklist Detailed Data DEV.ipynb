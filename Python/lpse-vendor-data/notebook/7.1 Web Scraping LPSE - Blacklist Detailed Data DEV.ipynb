{
 "cells": [
  {
   "cell_type": "markdown",
   "id": "requested-velvet",
   "metadata": {},
   "source": [
    "# Web Scraping LPSE - Blacklist Detailed Data"
   ]
  },
  {
   "cell_type": "markdown",
   "id": "victorian-findings",
   "metadata": {},
   "source": [
    "---"
   ]
  },
  {
   "cell_type": "markdown",
   "id": "moral-details",
   "metadata": {},
   "source": [
    "For introduction of Selenium, please be kind to open [**this site**](https://www.scrapingbee.com/blog/selenium-python/)"
   ]
  },
  {
   "cell_type": "markdown",
   "id": "institutional-channel",
   "metadata": {},
   "source": [
    "## Import modules"
   ]
  },
  {
   "cell_type": "markdown",
   "id": "trying-transsexual",
   "metadata": {
    "scrolled": true
   },
   "source": [
    "`%pip freeze > requirements.txt`"
   ]
  },
  {
   "cell_type": "code",
   "execution_count": 62,
   "id": "dense-sense",
   "metadata": {
    "ExecuteTime": {
     "end_time": "2020-06-19T23:39:06.502572Z",
     "start_time": "2020-06-19T23:39:06.497076Z"
    }
   },
   "outputs": [],
   "source": [
    "# Module for web scraping\n",
    "from selenium import webdriver\n",
    "# Module for data manipulation\n",
    "import pandas as pd\n",
    "from bs4 import BeautifulSoup\n",
    "# Module for regular expression\n",
    "import re"
   ]
  },
  {
   "cell_type": "markdown",
   "id": "defensive-broadway",
   "metadata": {},
   "source": [
    "## Load the Chromedriver"
   ]
  },
  {
   "cell_type": "markdown",
   "id": "confidential-boulder",
   "metadata": {},
   "source": [
    "Read how to download webdriver for Chrome [**here**]('https://chromedriver.chromium.org/downloads')"
   ]
  },
  {
   "cell_type": "code",
   "execution_count": 110,
   "id": "fourth-character",
   "metadata": {},
   "outputs": [],
   "source": [
    "# Detailed link\n",
    "detailed_link = 'https://inaproc.id/daftar-hitam?page=26#3459'"
   ]
  },
  {
   "cell_type": "code",
   "execution_count": 111,
   "id": "coordinate-reading",
   "metadata": {
    "ExecuteTime": {
     "end_time": "2020-06-19T23:29:33.659375Z",
     "start_time": "2020-06-19T23:29:18.312261Z"
    }
   },
   "outputs": [],
   "source": [
    "# Access to detailed link\n",
    "DRIVER_PATH = '../bin/chromedriver'\n",
    "driver = webdriver.Chrome(executable_path = DRIVER_PATH)\n",
    "driver.get(detailed_link)"
   ]
  },
  {
   "cell_type": "markdown",
   "id": "congressional-prague",
   "metadata": {},
   "source": [
    "## Core Procedure"
   ]
  },
  {
   "cell_type": "markdown",
   "id": "arabic-fabric",
   "metadata": {},
   "source": [
    "### 1 Prepare the column names"
   ]
  },
  {
   "cell_type": "code",
   "execution_count": 112,
   "id": "ceramic-workplace",
   "metadata": {},
   "outputs": [],
   "source": [
    "# Data collection\n",
    "dataCollection = driver.find_element_by_id('injunctions').find_element_by_tag_name('tbody')"
   ]
  },
  {
   "cell_type": "markdown",
   "id": "fewer-contributor",
   "metadata": {},
   "source": [
    "### 2 Get the data"
   ]
  },
  {
   "cell_type": "code",
   "execution_count": 115,
   "id": "documentary-departure",
   "metadata": {},
   "outputs": [],
   "source": [
    "# Prepare blank dictionary for full data set\n",
    "dict_init = {}\n",
    "\n",
    "# Length of rows in page\n",
    "lenMax = dataCollection.find_elements_by_tag_name('td')\n",
    "lengthRows = dataCollection.find_elements_by_class_name('item')\n",
    "indexFinal = int(len(lenMax) / len(lengthRows))\n",
    "\n",
    "# Number of law\n",
    "lawList = []\n",
    "for elem in dataCollection.find_elements_by_tag_name('td')[0::int(indexFinal)]:\n",
    "    string = elem.text\n",
    "    lawList.append(string)\n",
    "\n",
    "for row in range(len(lengthRows)):\n",
    "    # Get data for first column\n",
    "    valVioHeader = dataCollection.find_elements_by_class_name('header')[row].text\n",
    "    valVioContent = dataCollection.find_elements_by_class_name('description')[row].text\n",
    "    # Key-value for first column\n",
    "    dict_val_first = {\n",
    "        'Judul Pelanggaran': valVioHeader,\n",
    "        'Isi Pelanggaran': valVioContent,\n",
    "        'SK Penetapan': lawList[row]\n",
    "    }\n",
    "    # Get data for second column\n",
    "    elemDeep = dataCollection.find_elements_by_tag_name('tbody')[row].find_elements_by_tag_name('td')\n",
    "    colList, valList = [], []\n",
    "    elemCol, elemVal = elemDeep[0::2], elemDeep[1::2]\n",
    "    for col, val in zip(elemCol, elemVal):\n",
    "        elemColSub, elemValSub = col.text, val.text\n",
    "        colList.append(elemColSub)\n",
    "        valList.append(elemValSub)\n",
    "    \n",
    "    # Append between two columns\n",
    "    data_row = {**dict_val_first, **dict(zip(colList, valList))}\n",
    "    # Append the dictionary\n",
    "    dict_init = {**dict_init, **{\n",
    "            row: data_row\n",
    "        }\n",
    "    }"
   ]
  },
  {
   "cell_type": "code",
   "execution_count": 116,
   "id": "needed-license",
   "metadata": {
    "scrolled": false
   },
   "outputs": [
    {
     "data": {
      "text/plain": [
       "{0: {'Judul Pelanggaran': 'Peraturan LKPP No. 17 Tahun 2018 Pasal 3 huruf a',\n",
       "  'Isi Pelanggaran': 'peserta pemilihan menyampaikan dokumen atau keterangan palsu/tidak benar untuk memenuhi persyaratan yang ditentukan dalam Dokumen Pemilihan',\n",
       "  'SK Penetapan': 'No : 620/027/416-103/2020',\n",
       "  'Nama KLPD': 'Pemerintah Daerah Kabupaten Mojokerto',\n",
       "  'Nama Satker': 'DINAS PEKERJAAN UMUM DAN PENATAAN RUANG',\n",
       "  'Masa Berlaku Sanksi': '7 Jan 2020 s/d 7 Jan 2022',\n",
       "  'Tanggal Penayangan': '-'},\n",
       " 1: {'Judul Pelanggaran': 'Peraturan LKPP No. 17 Tahun 2018 Pasal 3 huruf a',\n",
       "  'Isi Pelanggaran': 'peserta pemilihan menyampaikan dokumen atau keterangan palsu/tidak benar untuk memenuhi persyaratan yang ditentukan dalam Dokumen Pemilihan',\n",
       "  'SK Penetapan': 'No : 188/241/415.19/2020',\n",
       "  'Nama KLPD': 'Pemerintah Daerah Kabupaten Jombang',\n",
       "  'Nama Satker': 'DINAS PERUMAHAN DAN PERMUKIMAN',\n",
       "  'Masa Berlaku Sanksi': '10 Mar 2020 s/d 10 Mar 2022',\n",
       "  'Tanggal Penayangan': '6 Apr 2020'}}"
      ]
     },
     "execution_count": 116,
     "metadata": {},
     "output_type": "execute_result"
    }
   ],
   "source": [
    "# Data\n",
    "dict_init"
   ]
  },
  {
   "cell_type": "markdown",
   "id": "genetic-acting",
   "metadata": {},
   "source": [
    "## Convert into JSON"
   ]
  },
  {
   "cell_type": "code",
   "execution_count": 108,
   "id": "finnish-major",
   "metadata": {
    "scrolled": true
   },
   "outputs": [],
   "source": [
    "# Dictionary for data\n",
    "current_data = '4537'\n",
    "dict_full = {\n",
    "    current_data: dict_init\n",
    "}"
   ]
  },
  {
   "cell_type": "code",
   "execution_count": 109,
   "id": "packed-gibson",
   "metadata": {
    "scrolled": false
   },
   "outputs": [
    {
     "data": {
      "text/plain": [
       "{'4537': {0: {'Judul Pelanggaran': 'Peraturan LKPP No. 17 Tahun 2018 Pasal 3 huruf a',\n",
       "   'Isi Pelanggaran': 'peserta pemilihan menyampaikan dokumen atau keterangan palsu/tidak benar untuk memenuhi persyaratan yang ditentukan dalam Dokumen Pemilihan',\n",
       "   'SK Penetapan': 'No : 1086/KPTS/BPJN-NTB/2021',\n",
       "   'Nama KLPD': 'Kementerian Pekerjaan Umum dan Perumahan Rakyat',\n",
       "   'Nama Satker': 'Balai Pelaksanaan Jalan Nasional Nusa Tenggara Barat',\n",
       "   'Masa Berlaku Sanksi': '20 Sep 2021 s/d 20 Sep 2023',\n",
       "   'Tanggal Penayangan': '20 Sep 2021'},\n",
       "  1: {'Judul Pelanggaran': 'Peraturan LKPP No. 17 Tahun 2018 Pasal 3 huruf a',\n",
       "   'Isi Pelanggaran': 'peserta pemilihan menyampaikan dokumen atau keterangan palsu/tidak benar untuk memenuhi persyaratan yang ditentukan dalam Dokumen Pemilihan',\n",
       "   'SK Penetapan': 'No : 04/KPTS/Bb16/448007/2021',\n",
       "   'Nama KLPD': 'Kementerian Pekerjaan Umum dan Perumahan Rakyat',\n",
       "   'Nama Satker': 'Balai Pelaksanaan Jalan Nasional Maluku',\n",
       "   'Masa Berlaku Sanksi': '19 Agu 2021 s/d 19 Agu 2023',\n",
       "   'Tanggal Penayangan': '26 Agu 2021'},\n",
       "  2: {'Judul Pelanggaran': 'Peraturan LKPP No. 17 Tahun 2018 Pasal 3 huruf a',\n",
       "   'Isi Pelanggaran': 'peserta pemilihan menyampaikan dokumen atau keterangan palsu/tidak benar untuk memenuhi persyaratan yang ditentukan dalam Dokumen Pemilihan',\n",
       "   'SK Penetapan': 'No : 745/KPTS/Bb12/2021',\n",
       "   'Nama KLPD': 'Kementerian Pekerjaan Umum dan Perumahan Rakyat',\n",
       "   'Nama Satker': 'BALAI PELAKSANAAN JALAN NASIONAL XII BALIKPAPAN',\n",
       "   'Masa Berlaku Sanksi': '5 Apr 2021 s/d 5 Apr 2023',\n",
       "   'Tanggal Penayangan': '5 Apr 2021'}}}"
      ]
     },
     "execution_count": 109,
     "metadata": {},
     "output_type": "execute_result"
    }
   ],
   "source": [
    "# Data\n",
    "dict_full"
   ]
  }
 ],
 "metadata": {
  "kernelspec": {
   "display_name": "Python 3",
   "language": "python",
   "name": "python3"
  },
  "language_info": {
   "codemirror_mode": {
    "name": "ipython",
    "version": 3
   },
   "file_extension": ".py",
   "mimetype": "text/x-python",
   "name": "python",
   "nbconvert_exporter": "python",
   "pygments_lexer": "ipython3",
   "version": "3.8.3"
  }
 },
 "nbformat": 4,
 "nbformat_minor": 5
}
