{
 "cells": [
  {
   "cell_type": "markdown",
   "id": "requested-velvet",
   "metadata": {},
   "source": [
    "# Web Scraping LPSE - Blacklist Data"
   ]
  },
  {
   "cell_type": "markdown",
   "id": "victorian-findings",
   "metadata": {},
   "source": [
    "---"
   ]
  },
  {
   "cell_type": "markdown",
   "id": "moral-details",
   "metadata": {},
   "source": [
    "For introduction of Selenium, please be kind to open [**this site**](https://www.scrapingbee.com/blog/selenium-python/)"
   ]
  },
  {
   "cell_type": "markdown",
   "id": "institutional-channel",
   "metadata": {},
   "source": [
    "## Import modules"
   ]
  },
  {
   "cell_type": "markdown",
   "id": "trying-transsexual",
   "metadata": {
    "scrolled": true
   },
   "source": [
    "`%pip freeze > requirements.txt`"
   ]
  },
  {
   "cell_type": "code",
   "execution_count": 1,
   "id": "dense-sense",
   "metadata": {
    "ExecuteTime": {
     "end_time": "2020-06-19T23:39:06.502572Z",
     "start_time": "2020-06-19T23:39:06.497076Z"
    }
   },
   "outputs": [],
   "source": [
    "# Module for web scraping\n",
    "from selenium import webdriver\n",
    "# Module for data manipulation\n",
    "import pandas as pd\n",
    "from bs4 import BeautifulSoup\n",
    "# Module for regular expression\n",
    "import re"
   ]
  },
  {
   "cell_type": "markdown",
   "id": "defensive-broadway",
   "metadata": {},
   "source": [
    "## Load the Chromedriver"
   ]
  },
  {
   "cell_type": "markdown",
   "id": "confidential-boulder",
   "metadata": {},
   "source": [
    "Read how to download webdriver for Chrome [**here**]('https://chromedriver.chromium.org/downloads')"
   ]
  },
  {
   "cell_type": "code",
   "execution_count": 2,
   "id": "fourth-character",
   "metadata": {},
   "outputs": [],
   "source": [
    "# Main link\n",
    "main_link = {\n",
    "    'Aktif': 'https://inaproc.id/daftar-hitam?page=1',\n",
    "    'Tidak Aktif': 'https://inaproc.id/daftar-hitam/non-aktif?page=1'\n",
    "}"
   ]
  },
  {
   "cell_type": "code",
   "execution_count": 4,
   "id": "coordinate-reading",
   "metadata": {
    "ExecuteTime": {
     "end_time": "2020-06-19T23:29:33.659375Z",
     "start_time": "2020-06-19T23:29:18.312261Z"
    }
   },
   "outputs": [],
   "source": [
    "# Access to main link\n",
    "DRIVER_PATH = '../bin/chromedriver'\n",
    "driver = webdriver.Chrome(executable_path = DRIVER_PATH)\n",
    "driver.get(main_link['Aktif'])"
   ]
  },
  {
   "cell_type": "markdown",
   "id": "congressional-prague",
   "metadata": {},
   "source": [
    "## Core Procedure"
   ]
  },
  {
   "cell_type": "markdown",
   "id": "sharing-defense",
   "metadata": {},
   "source": [
    "### 1 Get column names"
   ]
  },
  {
   "cell_type": "markdown",
   "id": "lesser-relief",
   "metadata": {},
   "source": [
    "#### Column 1"
   ]
  },
  {
   "cell_type": "code",
   "execution_count": 5,
   "id": "ceramic-workplace",
   "metadata": {},
   "outputs": [
    {
     "name": "stdout",
     "output_type": "stream",
     "text": [
      "Length of data in one page: 3 columns\n"
     ]
    }
   ],
   "source": [
    "# element for column names - 1\n",
    "colNamesfirst = driver.find_element_by_tag_name('thead').find_elements_by_tag_name('th')\n",
    "print('Length of data in one page: {} columns'.format(len(colNamesfirst)))"
   ]
  },
  {
   "cell_type": "code",
   "execution_count": 6,
   "id": "progressive-professional",
   "metadata": {},
   "outputs": [
    {
     "data": {
      "text/plain": [
       "['Penyedia', 'Alamat', 'Daftar Hitam']"
      ]
     },
     "execution_count": 6,
     "metadata": {},
     "output_type": "execute_result"
    }
   ],
   "source": [
    "# Column names\n",
    "listColsFirst = []\n",
    "for elem in colNamesfirst:\n",
    "    col_raw = elem.text\n",
    "    listColsFirst.append(col_raw)\n",
    "# Result\n",
    "listColsFirst = [i.replace('\\n', ' ') for i in listColsFirst]\n",
    "listColsFirst"
   ]
  },
  {
   "cell_type": "markdown",
   "id": "reliable-serve",
   "metadata": {},
   "source": [
    "#### Column 2"
   ]
  },
  {
   "cell_type": "code",
   "execution_count": 7,
   "id": "driving-weight",
   "metadata": {},
   "outputs": [
    {
     "name": "stdout",
     "output_type": "stream",
     "text": [
      "Length of data in one page: 8 columns\n"
     ]
    }
   ],
   "source": [
    "# element for column names - 2\n",
    "colNamesElem = driver.find_element_by_tag_name('tbody').find_elements_by_tag_name('tbody')[0]\n",
    "colNamesSecond = colNamesElem.find_elements_by_tag_name('td')\n",
    "print('Length of data in one page: {} columns'.format(len(colNamesSecond)))"
   ]
  },
  {
   "cell_type": "code",
   "execution_count": 8,
   "id": "personalized-principal",
   "metadata": {
    "code_folding": []
   },
   "outputs": [
    {
     "data": {
      "text/plain": [
       "['Status', 'Tanggal Penayangan', 'Masa Berlaku Sanksi', 'SK Penetapan']"
      ]
     },
     "execution_count": 8,
     "metadata": {},
     "output_type": "execute_result"
    }
   ],
   "source": [
    "# element for column names - 2\n",
    "colNamesElem = driver.find_element_by_tag_name('tbody').find_elements_by_tag_name('tbody')[9]\n",
    "colNamesSecond = colNamesElem.find_elements_by_tag_name('td')\n",
    "# Column names\n",
    "listColsSecond = []\n",
    "for elem in colNamesSecond[0::2]:\n",
    "    col_raw = elem.text\n",
    "    listColsSecond.append(col_raw)\n",
    "# Result\n",
    "listColsSecond = [i.replace('\\n', ' ') for i in listColsSecond]\n",
    "listColsSecond"
   ]
  },
  {
   "cell_type": "markdown",
   "id": "developmental-glasgow",
   "metadata": {},
   "source": [
    "### 2 Get the data"
   ]
  },
  {
   "cell_type": "code",
   "execution_count": 42,
   "id": "endless-pierce",
   "metadata": {},
   "outputs": [],
   "source": [
    "# Data collections\n",
    "dataCollection = driver.find_element_by_tag_name('tbody')"
   ]
  },
  {
   "cell_type": "code",
   "execution_count": 43,
   "id": "wound-campaign",
   "metadata": {},
   "outputs": [],
   "source": [
    "# Prepare blank dictionary for full data set\n",
    "dict_init = {}\n",
    "\n",
    "# Length of rows in page\n",
    "lengthRows = dataCollection.find_elements_by_tag_name('h5')\n",
    "for row in range(len(lengthRows)):\n",
    "    # Prepare blank dictionary for columns\n",
    "    # Get data\n",
    "    valVendor = dataCollection.find_elements_by_tag_name('h5')[row].text\n",
    "    valNPWP = dataCollection.find_elements_by_class_name('npwp')[row].text\n",
    "    valAddessGen = dataCollection.find_elements_by_class_name('header')[row].text\n",
    "    valAddessDesc = dataCollection.find_elements_by_class_name('description')[row].text\n",
    "    valId = dataCollection.find_elements_by_tag_name('a')[row].get_attribute('data-id')\n",
    "    # Key-value for first column\n",
    "    dict_val_first = {\n",
    "        'Data ID': valId,\n",
    "        'Penyedia': valVendor,\n",
    "        'NPWP': valNPWP,\n",
    "        'Alamat': valAddessGen,\n",
    "        'Alamat Lengkap': valAddessDesc\n",
    "    }\n",
    "    \n",
    "    # Key-value for second column\n",
    "    colNamesElem = dataCollection.find_elements_by_tag_name('tbody')[row]\n",
    "    colNamesSecond = colNamesElem.find_elements_by_tag_name('td')\n",
    "    # Column names\n",
    "    listColsSecond = []\n",
    "    for elem in colNamesSecond[0::2]:\n",
    "        col_raw = elem.text\n",
    "        listColsSecond.append(col_raw)\n",
    "    listColsSecond = [i.replace('\\n', ' ') for i in listColsSecond]\n",
    "    # Get the value\n",
    "    valSecondColumn = []\n",
    "    elemValues = colNamesElem.find_elements_by_tag_name('tr')\n",
    "    for col in range(len(elemValues)):\n",
    "        value = elemValues[col].text\n",
    "        valSecondColumn.append(value)\n",
    "    \n",
    "    # Append between two columns\n",
    "    data_row = {**dict_val_first, **dict(zip(listColsSecond, valSecondColumn))}\n",
    "    \n",
    "    # Append the dictionary\n",
    "    dict_init = {**dict_init, **{\n",
    "            valId: data_row\n",
    "        }\n",
    "    }"
   ]
  },
  {
   "cell_type": "markdown",
   "id": "genetic-acting",
   "metadata": {},
   "source": [
    "## Convert into JSON"
   ]
  },
  {
   "cell_type": "code",
   "execution_count": 46,
   "id": "forbidden-zambia",
   "metadata": {
    "scrolled": true
   },
   "outputs": [
    {
     "data": {
      "text/plain": [
       "{'4541': {'Data ID': '4541',\n",
       "  'Penyedia': 'PT. Esti Yasagama',\n",
       "  'NPWP': 'NPWP: 01.210.912.0-016.000',\n",
       "  'Alamat': 'Jakarta Selatan (Kota), DKI Jakarta',\n",
       "  'Alamat Lengkap': 'Kios Taman Pondok Labu Lt. 1 Blok B No. 26 Jl. RS. Fatmawati Raya 27 Kelurahan Pondok Labu Kecamatan Cilandak Jakarta Selatan',\n",
       "  'Status': 'Status Tayang',\n",
       "  'Tanggal Penayangan': 'Tanggal Penayangan 20 Sep 2021',\n",
       "  'Masa Berlaku Sanksi': 'Masa Berlaku Sanksi 20 Sep 2021 s/d 20 Sep 2023',\n",
       "  'SK Penetapan': 'SK Penetapan PA/KPA Balai Pelaksanaan Jalan Nasional Nusa Tenggara Barat Kementerian Pekerjaan Umum dan Perumahan Rakyat No: 1086/KPTS/BPJN-NTB/2021'},\n",
       " '4537': {'Data ID': '4537',\n",
       "  'Penyedia': 'CV. CAHAYA KATANGKA LESTARI',\n",
       "  'NPWP': 'NPWP: 02.325.106.9-807.000',\n",
       "  'Alamat': 'Gowa (Kab.), Sulawesi Selatan',\n",
       "  'Alamat Lengkap': 'Jl. Mesjid Raya No.77, Tombolo, Sombu Upu.',\n",
       "  'Status': 'Status Tayang',\n",
       "  'Tanggal Penayangan': 'Tanggal Penayangan 17 Sep 2021',\n",
       "  'Masa Berlaku Sanksi': 'Masa Berlaku Sanksi 10 Sep 2021 s/d 10 Sep 2022',\n",
       "  'SK Penetapan': 'SK Penetapan PA/KPA KANWIL DITJEN PERBENDAHARAAN PROVINSI KALIMANTAN TENGAH Kementerian Keuangan No: KEP-001/WPB.18/KPA/2021'},\n",
       " '4538': {'Data ID': '4538',\n",
       "  'Penyedia': 'CV. GURUH',\n",
       "  'NPWP': 'NPWP: 02.996.729.6-121.000',\n",
       "  'Alamat': 'Medan (Kota), Sumatera Utara',\n",
       "  'Alamat Lengkap': 'JL. SMA II NO. 8 MEDAN',\n",
       "  'Status': 'Status Tayang',\n",
       "  'Tanggal Penayangan': 'Tanggal Penayangan 15 Sep 2021',\n",
       "  'Masa Berlaku Sanksi': 'Masa Berlaku Sanksi 13 Sep 2021 s/d 13 Sep 2022',\n",
       "  'SK Penetapan': 'SK Penetapan 38/KPTS/Bb2-wil1.S/2021'},\n",
       " '4530': {'Data ID': '4530',\n",
       "  'Penyedia': 'CV Iswara Danadyaksa',\n",
       "  'NPWP': 'NPWP: 94.157.082.2-543.000',\n",
       "  'Alamat': 'Bantul (Kab.), DI Yogyakarta',\n",
       "  'Alamat Lengkap': 'Perumahan Puri Gardenia Ruko No.09, Jl. Karangjati No.17, Gedongan RT.02, Bangunjiwo, Kasihan, Bantul',\n",
       "  'Status': 'Status Tayang',\n",
       "  'Tanggal Penayangan': 'Tanggal Penayangan 8 Sep 2021',\n",
       "  'Masa Berlaku Sanksi': 'Masa Berlaku Sanksi 26 Agu 2021 s/d 26 Agu 2022',\n",
       "  'SK Penetapan': 'SK Penetapan PA/KPA RUMAH SAKIT UMUM DR CIPTO MANGUN KUSUMO JAKARTA Kementerian Kesehatan No: HK.02.03/9/37984/2021'},\n",
       " '4536': {'Data ID': '4536',\n",
       "  'Penyedia': 'CV. SATRIA JANUAR PRATAMA',\n",
       "  'NPWP': 'NPWP: 83.963.088.6-438.000',\n",
       "  'Alamat': 'Kuningan (Kab.), Jawa Barat',\n",
       "  'Alamat Lengkap': 'Jl. RE Martadinata Rt. 01 Rw. 03',\n",
       "  'Status': 'Status Tayang',\n",
       "  'Tanggal Penayangan': 'Tanggal Penayangan 8 Sep 2021',\n",
       "  'Masa Berlaku Sanksi': 'Masa Berlaku Sanksi 27 Agu 2021 s/d 27 Agu 2023',\n",
       "  'SK Penetapan': 'SK Penetapan PA/KPA DINAS PEMBERDAYAAN MASYARAKAT DAN DESA Pemerintah Daerah Kabupaten Kuningan No: 602/036/DPMD/2021'},\n",
       " '4534': {'Data ID': '4534',\n",
       "  'Penyedia': 'PT.PUTRA KUBU KONSTRUKSI',\n",
       "  'NPWP': 'NPWP: 83.097.404.4-907.000',\n",
       "  'Alamat': 'Karang Asem (Kab.), Bali',\n",
       "  'Alamat Lengkap': 'Br. Dinas Tegallanglangan,',\n",
       "  'Status': 'Status Tayang',\n",
       "  'Tanggal Penayangan': 'Tanggal Penayangan 3 Sep 2021',\n",
       "  'Masa Berlaku Sanksi': 'Masa Berlaku Sanksi 31 Agu 2021 s/d 31 Agu 2022',\n",
       "  'SK Penetapan': 'SK Penetapan PA/KPA DINAS KOPERASI USAHA KECIL DAN MENENGAH DAN PERDAGANGAN Pemerintah Daerah Kabupaten Klungkung No: 510/1591/KPA/DKUKMP'},\n",
       " '4535': {'Data ID': '4535',\n",
       "  'Penyedia': 'CV. LIBRA ABADI',\n",
       "  'NPWP': 'NPWP: 71.576.498.1-831.000',\n",
       "  'Alamat': 'Dongala (Kab.), Sulawesi Tengah',\n",
       "  'Alamat Lengkap': 'DESA LOLI KEC. BANAWA',\n",
       "  'Status': 'Status Tayang',\n",
       "  'Tanggal Penayangan': 'Tanggal Penayangan 3 Sep 2021',\n",
       "  'Masa Berlaku Sanksi': 'Masa Berlaku Sanksi 3 Mei 2021 s/d 3 Mei 2022',\n",
       "  'SK Penetapan': 'SK Penetapan PA/KPA DINAS PEMUDA OLAHRAGA DAN PARIWISATA Pemerintah Daerah Kabupaten Parigi Moutong No: 870/323/DISPORAPAR/2021'},\n",
       " '4533': {'Data ID': '4533',\n",
       "  'Penyedia': 'CV. WADAH KREASI UTAMA',\n",
       "  'NPWP': 'NPWP: 03.320.242.5-411.000',\n",
       "  'Alamat': 'Tangerang Selatan (Kota), Banten',\n",
       "  'Alamat Lengkap': 'Jl. Mawar NO.63 RT.006 RW.007, Pisangan, Ciputat Timur Kota Tangerang Selatan Banten.',\n",
       "  'Status': 'Status Tayang',\n",
       "  'Tanggal Penayangan': 'Tanggal Penayangan 2 Sep 2021',\n",
       "  'Masa Berlaku Sanksi': 'Masa Berlaku Sanksi 31 Agu 2021 s/d 31 Agu 2022',\n",
       "  'SK Penetapan': 'SK Penetapan PA/KPA SEKRETARIAT DPRD Pemerintah Daerah Kabupaten Kebumen No: NOMOR 1728 TAHUN 2021'},\n",
       " '4532': {'Data ID': '4532',\n",
       "  'Penyedia': 'PT. MIRTADA SEJAHTERA',\n",
       "  'NPWP': 'NPWP: 02.335.744.5-101.000',\n",
       "  'Alamat': 'Aceh Besar (Kab.), Aceh',\n",
       "  'Alamat Lengkap': 'JL. T.HASAN DEK NO.12 GP. ATEUK PAHLAWAN KEC. BAITURRAHMAN',\n",
       "  'Status': 'Status Tayang',\n",
       "  'Tanggal Penayangan': 'Tanggal Penayangan 2 Sep 2021',\n",
       "  'Masa Berlaku Sanksi': 'Masa Berlaku Sanksi 7 Jan 2021 s/d 7 Jan 2022',\n",
       "  'SK Penetapan': 'SK Penetapan PA/KPA DINAS KESEHATAN Pemerintah Daerah Kabupaten Aceh Besar No: 449.2/0036/2021'},\n",
       " '4528': {'Data ID': '4528',\n",
       "  'Penyedia': 'PT. SINDANG MULTI MEGATAMA',\n",
       "  'NPWP': 'NPWP: 03.093.722.1-031.000',\n",
       "  'Alamat': 'Jakarta Barat (Kota), DKI Jakarta',\n",
       "  'Alamat Lengkap': 'Ruko Srengseng Mas No. 118 G, Jl. Srengseng Raya RT/RW 010/003 kel. Srengseng Kec. Kembangan',\n",
       "  'Status': 'Status Tayang',\n",
       "  'Tanggal Penayangan': 'Tanggal Penayangan 2 Sep 2021',\n",
       "  'Masa Berlaku Sanksi': 'Masa Berlaku Sanksi 6 Agu 2021 s/d 6 Agu 2022',\n",
       "  'SK Penetapan': 'SK Penetapan PA/KPA RUMAH SAKIT UMUM DR CIPTO MANGUN KUSUMO JAKARTA Kementerian Kesehatan No: HK.02.03/9/35036/2021'}}"
      ]
     },
     "execution_count": 46,
     "metadata": {},
     "output_type": "execute_result"
    }
   ],
   "source": [
    "# The data\n",
    "dict_init"
   ]
  },
  {
   "cell_type": "markdown",
   "id": "conceptual-salvation",
   "metadata": {},
   "source": [
    "## 3 Loop"
   ]
  },
  {
   "cell_type": "code",
   "execution_count": 25,
   "id": "literary-absence",
   "metadata": {},
   "outputs": [],
   "source": [
    "# Get last page\n",
    "pageElem = driver.find_element_by_class_name('pagination').find_elements_by_tag_name('a')\n",
    "lastPage = pageElem[len(pageElem) - 1].text"
   ]
  }
 ],
 "metadata": {
  "kernelspec": {
   "display_name": "Python 3",
   "language": "python",
   "name": "python3"
  },
  "language_info": {
   "codemirror_mode": {
    "name": "ipython",
    "version": 3
   },
   "file_extension": ".py",
   "mimetype": "text/x-python",
   "name": "python",
   "nbconvert_exporter": "python",
   "pygments_lexer": "ipython3",
   "version": "3.8.3"
  }
 },
 "nbformat": 4,
 "nbformat_minor": 5
}
