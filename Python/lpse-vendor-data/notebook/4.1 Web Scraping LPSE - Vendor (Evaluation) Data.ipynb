{
 "cells": [
  {
   "cell_type": "markdown",
   "id": "optional-elder",
   "metadata": {},
   "source": [
    "# Web Scraping LPSE - Vendor (Evaluation) Data"
   ]
  },
  {
   "cell_type": "markdown",
   "id": "equal-tattoo",
   "metadata": {},
   "source": [
    "---"
   ]
  },
  {
   "cell_type": "markdown",
   "id": "dynamic-feeding",
   "metadata": {},
   "source": [
    "For introduction of Selenium, please be kind to open [**this site**](https://www.scrapingbee.com/blog/selenium-python/)"
   ]
  },
  {
   "cell_type": "markdown",
   "id": "indirect-islam",
   "metadata": {},
   "source": [
    "## Import modules"
   ]
  },
  {
   "cell_type": "markdown",
   "id": "functioning-voluntary",
   "metadata": {
    "scrolled": true
   },
   "source": [
    "`%pip freeze > requirements.txt`"
   ]
  },
  {
   "cell_type": "code",
   "execution_count": 36,
   "id": "acceptable-denial",
   "metadata": {
    "ExecuteTime": {
     "end_time": "2020-06-19T23:39:06.502572Z",
     "start_time": "2020-06-19T23:39:06.497076Z"
    }
   },
   "outputs": [],
   "source": [
    "# Module for web scraping\n",
    "from selenium import webdriver\n",
    "# Module for data manipulation\n",
    "import pandas as pd\n",
    "from bs4 import BeautifulSoup"
   ]
  },
  {
   "cell_type": "markdown",
   "id": "congressional-textbook",
   "metadata": {},
   "source": [
    "## Load the Chromedriver"
   ]
  },
  {
   "cell_type": "markdown",
   "id": "supposed-progressive",
   "metadata": {},
   "source": [
    "Read how to download webdriver for Chrome [**here**]('https://chromedriver.chromium.org/downloads')"
   ]
  },
  {
   "cell_type": "code",
   "execution_count": 37,
   "id": "useful-aquarium",
   "metadata": {},
   "outputs": [],
   "source": [
    "# Main link\n",
    "main_link = 'https://lpse.lkpp.go.id/eproc4/lelang/139119/pengumumanlelang'"
   ]
  },
  {
   "cell_type": "code",
   "execution_count": 38,
   "id": "universal-knight",
   "metadata": {
    "ExecuteTime": {
     "end_time": "2020-06-19T23:29:33.659375Z",
     "start_time": "2020-06-19T23:29:18.312261Z"
    }
   },
   "outputs": [],
   "source": [
    "# Access to main link\n",
    "DRIVER_PATH = '../bin/chromedriver'\n",
    "driver = webdriver.Chrome(executable_path = DRIVER_PATH)\n",
    "driver.get(main_link)"
   ]
  },
  {
   "cell_type": "markdown",
   "id": "psychological-reply",
   "metadata": {},
   "source": [
    "## Core Procedure"
   ]
  },
  {
   "cell_type": "markdown",
   "id": "optical-merchandise",
   "metadata": {},
   "source": [
    "### 1 Get links"
   ]
  },
  {
   "cell_type": "code",
   "execution_count": 39,
   "id": "aggressive-agency",
   "metadata": {},
   "outputs": [],
   "source": [
    "# Get links\n",
    "links = driver.find_elements_by_class_name('nav-link')\n",
    "listLink = [link.get_attribute('href') for link in links]"
   ]
  },
  {
   "cell_type": "code",
   "execution_count": 40,
   "id": "meaningful-liver",
   "metadata": {},
   "outputs": [
    {
     "data": {
      "text/plain": [
       "{'Pengumuman': 'https://lpse.lkpp.go.id/eproc4/lelang/139119/pengumumanlelang',\n",
       " 'Peserta': 'https://lpse.lkpp.go.id/eproc4/lelang/139119/peserta',\n",
       " 'Hasil Evaluasi': 'https://lpse.lkpp.go.id/eproc4/evaluasi/139119/hasil',\n",
       " 'Pemenang': 'https://lpse.lkpp.go.id/eproc4/evaluasi/139119/pemenang',\n",
       " 'Pemenang Berkontrak': 'https://lpse.lkpp.go.id/eproc4/evaluasi/139119/pemenangberkontrak'}"
      ]
     },
     "execution_count": 40,
     "metadata": {},
     "output_type": "execute_result"
    }
   ],
   "source": [
    "# List of link\n",
    "navName = ['Pengumuman', 'Peserta', 'Hasil Evaluasi', 'Pemenang', 'Pemenang Berkontrak']\n",
    "dictLink = dict(zip(navName, listLink))\n",
    "dictLink"
   ]
  },
  {
   "cell_type": "markdown",
   "id": "advanced-intellectual",
   "metadata": {},
   "source": [
    "### 2 Get information of evaluation"
   ]
  },
  {
   "cell_type": "markdown",
   "id": "mighty-hybrid",
   "metadata": {},
   "source": [
    "#### Get link"
   ]
  },
  {
   "cell_type": "code",
   "execution_count": 41,
   "id": "republican-columbus",
   "metadata": {},
   "outputs": [
    {
     "data": {
      "text/plain": [
       "'https://lpse.lkpp.go.id/eproc4/evaluasi/139119/hasil'"
      ]
     },
     "execution_count": 41,
     "metadata": {},
     "output_type": "execute_result"
    }
   ],
   "source": [
    "# Link of evaluation\n",
    "linkEvaluation = dictLink['Hasil Evaluasi']\n",
    "linkEvaluation"
   ]
  },
  {
   "cell_type": "code",
   "execution_count": 42,
   "id": "noted-bridge",
   "metadata": {},
   "outputs": [],
   "source": [
    "# Access to evaluation's link\n",
    "driver.get(linkEvaluation)"
   ]
  },
  {
   "cell_type": "markdown",
   "id": "structural-gathering",
   "metadata": {},
   "source": [
    "#### Get column names"
   ]
  },
  {
   "cell_type": "code",
   "execution_count": 43,
   "id": "controlled-culture",
   "metadata": {},
   "outputs": [],
   "source": [
    "# Get the column elements\n",
    "evaluationSummaryData = driver.find_element_by_class_name('content')"
   ]
  },
  {
   "cell_type": "code",
   "execution_count": 44,
   "id": "traditional-lawsuit",
   "metadata": {},
   "outputs": [],
   "source": [
    "# element for column names\n",
    "colNames = evaluationSummaryData.find_element_by_tag_name('thead').find_elements_by_tag_name('th')"
   ]
  },
  {
   "cell_type": "code",
   "execution_count": 45,
   "id": "invisible-canvas",
   "metadata": {
    "scrolled": true
   },
   "outputs": [
    {
     "data": {
      "text/plain": [
       "['No',\n",
       " 'Nama Peserta',\n",
       " 'K',\n",
       " 'A',\n",
       " 'T',\n",
       " 'Penawaran',\n",
       " 'Penawaran Terkoreksi',\n",
       " 'H',\n",
       " 'P',\n",
       " 'PK',\n",
       " 'Alasan']"
      ]
     },
     "execution_count": 45,
     "metadata": {},
     "output_type": "execute_result"
    }
   ],
   "source": [
    "# Column names\n",
    "listCols = []\n",
    "for elem in colNames:\n",
    "    col_raw = elem.text\n",
    "    listCols.append(col_raw)\n",
    "# Result\n",
    "listCols = [i.replace('\\n', ' ') for i in listCols]\n",
    "listCols"
   ]
  },
  {
   "cell_type": "markdown",
   "id": "early-making",
   "metadata": {},
   "source": [
    "#### Get data from table"
   ]
  },
  {
   "cell_type": "code",
   "execution_count": 46,
   "id": "polar-limit",
   "metadata": {},
   "outputs": [
    {
     "name": "stdout",
     "output_type": "stream",
     "text": [
      "Length of data in one page: 23 rows\n"
     ]
    }
   ],
   "source": [
    "# Data collections\n",
    "dataCollection = evaluationSummaryData.find_element_by_tag_name('tbody').find_elements_by_tag_name('tr')\n",
    "print('Length of data in one page: {} rows'.format(len(dataCollection)))"
   ]
  },
  {
   "cell_type": "code",
   "execution_count": 47,
   "id": "coated-participation",
   "metadata": {
    "scrolled": true
   },
   "outputs": [
    {
     "data": {
      "text/plain": [
       "{'No': [],\n",
       " 'Nama Peserta': [],\n",
       " 'K': [],\n",
       " 'A': [],\n",
       " 'T': [],\n",
       " 'Penawaran': [],\n",
       " 'Penawaran Terkoreksi': [],\n",
       " 'H': [],\n",
       " 'P': [],\n",
       " 'PK': [],\n",
       " 'Alasan': []}"
      ]
     },
     "execution_count": 47,
     "metadata": {},
     "output_type": "execute_result"
    }
   ],
   "source": [
    "# Dictionary with blank list\n",
    "dict_init = {key: [] for key in listCols}\n",
    "dict_init"
   ]
  },
  {
   "cell_type": "code",
   "execution_count": 48,
   "id": "soviet-penny",
   "metadata": {},
   "outputs": [],
   "source": [
    "# Get a data from table\n",
    "for row in dataCollection:\n",
    "    elemValues = []\n",
    "    for elem in row.find_elements_by_css_selector('*'):\n",
    "        elemChoosen = elem.tag_name\n",
    "        if elemChoosen in ['i', 'img']:\n",
    "            continue\n",
    "        else:\n",
    "            elemValues.append(elem)\n",
    "\n",
    "    for col in range(len(elemValues)):\n",
    "        try:\n",
    "            value = elemValues[col].text\n",
    "            if value == '':\n",
    "                try:\n",
    "                    val = elemValues[col].find_element_by_tag_name('img').get_attribute('src')\n",
    "                    if val == 'https://lpse.lkpp.go.id/eproc4/public/images/star.gif':\n",
    "                        value = 'Star'\n",
    "                    else:\n",
    "                        value = None\n",
    "                except:\n",
    "                    try:\n",
    "                        val = elemValues[col].find_element_by_tag_name('i').get_attribute('class')\n",
    "                        if val == 'fa fa-check':\n",
    "                            value = 'Checklist'\n",
    "                        elif val == 'fa fa-close':\n",
    "                            value = 'Blacklist'\n",
    "                        elif val == 'fa fa-minus':\n",
    "                            value = 'Strip'\n",
    "                    except:\n",
    "                        value = None\n",
    "        except:\n",
    "            value = None\n",
    "        # Append values\n",
    "        dict_init[list(dict_init.keys())[col]].append(value)"
   ]
  },
  {
   "cell_type": "markdown",
   "id": "right-employment",
   "metadata": {},
   "source": [
    "## Convert into JSON"
   ]
  },
  {
   "cell_type": "code",
   "execution_count": 49,
   "id": "mature-chinese",
   "metadata": {},
   "outputs": [],
   "source": [
    "# Add tender's code as identifier\n",
    "dict_full = {\n",
    "    '139119': dict_init\n",
    "}"
   ]
  },
  {
   "cell_type": "code",
   "execution_count": 50,
   "id": "norwegian-hindu",
   "metadata": {},
   "outputs": [
    {
     "data": {
      "text/plain": [
       "{'139119': {'No': ['1',\n",
       "   '2',\n",
       "   '3',\n",
       "   '4',\n",
       "   '5',\n",
       "   '6',\n",
       "   '7',\n",
       "   '8',\n",
       "   '9',\n",
       "   '10',\n",
       "   '11',\n",
       "   '12',\n",
       "   '13',\n",
       "   '14',\n",
       "   '15',\n",
       "   '16',\n",
       "   '17',\n",
       "   '18',\n",
       "   '19',\n",
       "   '20',\n",
       "   '21',\n",
       "   '22',\n",
       "   '23'],\n",
       "  'Nama Peserta': ['CV.CAHAYA BHAKTI - 01.822.785.0-424.000',\n",
       "   'PT.ALDONIAL PUTRA PERKASA - 01.854.959.2-009.000',\n",
       "   'CV. TIGO TUGKU SAJARANGAN - 02.551.310.2-201.000',\n",
       "   'CV KIREI NA YUKI - 02.789.253.8-429.000',\n",
       "   'CV ALBAR. - 02.699.386.5-532.000',\n",
       "   'CV. DEWA LINTANG SAMUDRA - 31.365.510.2-502.000',\n",
       "   'CV. ANDREW PUTRA RAJA BANGE - 03.135.611.6-001.000',\n",
       "   'PT. INDO LORAN WIDIA JAYA - 01.366.483.4-023.000',\n",
       "   'CV. Arby Putra - 21.028.251.3-424.000',\n",
       "   'CV. Fortuna Abadi Jaya - 31.334.227.1-614.000',\n",
       "   'CV. WAHYU PRATAMA ADYA - 02.906.537.2-006.000',\n",
       "   'CV. BYTEL MITRACOMINDO - 21.018.469.3-426.000',\n",
       "   'CV. NAGA SAKTI JAYA PERKASA - 31.181.290.3-424.000',\n",
       "   'CV. KHARISMA RISTA - 01.678.111.4-428.000',\n",
       "   'CV. SUCORPINDO - 31.347.989.1-121.000',\n",
       "   'CV. TRI MITRA PERKASA - 02.637.593.1-112.000',\n",
       "   'PT. ACCESS LINTAS SOLUSI - 02.900.144.3-031.000',\n",
       "   'Cahaya Fathir - 21.151.201.7-423.000',\n",
       "   'CV TELADAN - 01.701.883.9-417.000',\n",
       "   'CV. Pelangi Teknik - 31.234.508.5-526.000',\n",
       "   'PT. KIAS ENGINEERING - 31.311.172.6-428.000',\n",
       "   'PT. MULTIGRAFINDO MANDIRI - 01.531.985.8-121.000',\n",
       "   'JATI PERKASA MANDIRI - 02.405.696.2-404.000'],\n",
       "  'K': ['Checklist',\n",
       "   'Strip',\n",
       "   'Strip',\n",
       "   'Strip',\n",
       "   'Strip',\n",
       "   'Strip',\n",
       "   'Strip',\n",
       "   'Strip',\n",
       "   'Strip',\n",
       "   'Strip',\n",
       "   'Strip',\n",
       "   'Strip',\n",
       "   'Strip',\n",
       "   'Strip',\n",
       "   'Strip',\n",
       "   'Strip',\n",
       "   'Strip',\n",
       "   'Strip',\n",
       "   'Strip',\n",
       "   'Strip',\n",
       "   'Strip',\n",
       "   'Strip',\n",
       "   'Strip'],\n",
       "  'A': ['Checklist',\n",
       "   'Strip',\n",
       "   'Strip',\n",
       "   'Strip',\n",
       "   'Strip',\n",
       "   'Strip',\n",
       "   'Strip',\n",
       "   'Strip',\n",
       "   'Strip',\n",
       "   'Strip',\n",
       "   'Strip',\n",
       "   'Strip',\n",
       "   'Blacklist',\n",
       "   'Strip',\n",
       "   'Strip',\n",
       "   'Strip',\n",
       "   'Strip',\n",
       "   'Blacklist',\n",
       "   'Strip',\n",
       "   'Strip',\n",
       "   'Strip',\n",
       "   'Strip',\n",
       "   'Strip'],\n",
       "  'T': ['Checklist',\n",
       "   'Strip',\n",
       "   'Strip',\n",
       "   'Strip',\n",
       "   'Strip',\n",
       "   'Strip',\n",
       "   'Strip',\n",
       "   'Strip',\n",
       "   'Strip',\n",
       "   'Strip',\n",
       "   'Strip',\n",
       "   'Strip',\n",
       "   'Strip',\n",
       "   'Strip',\n",
       "   'Strip',\n",
       "   'Strip',\n",
       "   'Strip',\n",
       "   'Strip',\n",
       "   'Strip',\n",
       "   'Strip',\n",
       "   'Strip',\n",
       "   'Strip',\n",
       "   'Strip'],\n",
       "  'Penawaran': ['Rp. 1.428.460.000,00',\n",
       "   'Rp. 0,00',\n",
       "   'Rp. 0,00',\n",
       "   'Rp. 0,00',\n",
       "   'Rp. 0,00',\n",
       "   'Rp. 0,00',\n",
       "   'Rp. 0,00',\n",
       "   'Rp. 0,00',\n",
       "   'Rp. 0,00',\n",
       "   'Rp. 0,00',\n",
       "   'Rp. 0,00',\n",
       "   'Rp. 0,00',\n",
       "   'Rp. 1.504.800.000,00',\n",
       "   'Rp. 0,00',\n",
       "   'Rp. 0,00',\n",
       "   'Rp. 0,00',\n",
       "   'Rp. 0,00',\n",
       "   'Rp. 1.496.880.000,00',\n",
       "   'Rp. 0,00',\n",
       "   'Rp. 0,00',\n",
       "   'Rp. 0,00',\n",
       "   'Rp. 0,00',\n",
       "   'Rp. 0,00'],\n",
       "  'Penawaran Terkoreksi': ['Rp. 1.428.460.000,00',\n",
       "   'Rp. 0,00',\n",
       "   'Rp. 0,00',\n",
       "   'Rp. 0,00',\n",
       "   'Rp. 0,00',\n",
       "   'Rp. 0,00',\n",
       "   'Rp. 0,00',\n",
       "   'Rp. 0,00',\n",
       "   'Rp. 0,00',\n",
       "   'Rp. 0,00',\n",
       "   'Rp. 0,00',\n",
       "   'Rp. 0,00',\n",
       "   'Rp. 1.504.800.000,00',\n",
       "   'Rp. 0,00',\n",
       "   'Rp. 0,00',\n",
       "   'Rp. 0,00',\n",
       "   'Rp. 0,00',\n",
       "   'Rp. 0,00',\n",
       "   'Rp. 0,00',\n",
       "   'Rp. 0,00',\n",
       "   'Rp. 0,00',\n",
       "   'Rp. 0,00',\n",
       "   'Rp. 0,00'],\n",
       "  'H': ['Checklist',\n",
       "   'Strip',\n",
       "   'Strip',\n",
       "   'Strip',\n",
       "   'Strip',\n",
       "   'Strip',\n",
       "   'Strip',\n",
       "   'Strip',\n",
       "   'Strip',\n",
       "   'Strip',\n",
       "   'Strip',\n",
       "   'Strip',\n",
       "   'Strip',\n",
       "   'Strip',\n",
       "   'Strip',\n",
       "   'Strip',\n",
       "   'Strip',\n",
       "   'Strip',\n",
       "   'Strip',\n",
       "   'Strip',\n",
       "   'Strip',\n",
       "   'Strip',\n",
       "   'Strip'],\n",
       "  'P': ['Star',\n",
       "   None,\n",
       "   None,\n",
       "   None,\n",
       "   None,\n",
       "   None,\n",
       "   None,\n",
       "   None,\n",
       "   None,\n",
       "   None,\n",
       "   None,\n",
       "   None,\n",
       "   None,\n",
       "   None,\n",
       "   None,\n",
       "   None,\n",
       "   None,\n",
       "   None,\n",
       "   None,\n",
       "   None,\n",
       "   None,\n",
       "   None,\n",
       "   None],\n",
       "  'PK': [None,\n",
       "   None,\n",
       "   None,\n",
       "   None,\n",
       "   None,\n",
       "   None,\n",
       "   None,\n",
       "   None,\n",
       "   None,\n",
       "   None,\n",
       "   None,\n",
       "   None,\n",
       "   None,\n",
       "   None,\n",
       "   None,\n",
       "   None,\n",
       "   None,\n",
       "   None,\n",
       "   None,\n",
       "   None,\n",
       "   None,\n",
       "   None,\n",
       "   None],\n",
       "  'Alasan': [None,\n",
       "   None,\n",
       "   None,\n",
       "   None,\n",
       "   None,\n",
       "   None,\n",
       "   None,\n",
       "   None,\n",
       "   None,\n",
       "   None,\n",
       "   None,\n",
       "   None,\n",
       "   'Tidak melampirkan SIUP, TDP, NPWP, Akte',\n",
       "   None,\n",
       "   None,\n",
       "   None,\n",
       "   None,\n",
       "   'Tidak melampirkan SIUP, TDP, NPWP, Akte',\n",
       "   None,\n",
       "   None,\n",
       "   None,\n",
       "   None,\n",
       "   None]}}"
      ]
     },
     "execution_count": 50,
     "metadata": {},
     "output_type": "execute_result"
    }
   ],
   "source": [
    "# Data\n",
    "dict_full"
   ]
  }
 ],
 "metadata": {
  "kernelspec": {
   "display_name": "Python 3",
   "language": "python",
   "name": "python3"
  },
  "language_info": {
   "codemirror_mode": {
    "name": "ipython",
    "version": 3
   },
   "file_extension": ".py",
   "mimetype": "text/x-python",
   "name": "python",
   "nbconvert_exporter": "python",
   "pygments_lexer": "ipython3",
   "version": "3.8.3"
  }
 },
 "nbformat": 4,
 "nbformat_minor": 5
}
