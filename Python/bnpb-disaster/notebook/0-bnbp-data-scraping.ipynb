{
 "cells": [
  {
   "cell_type": "markdown",
   "id": "australian-locator",
   "metadata": {},
   "source": [
    "# BNBP Data Scraping"
   ]
  },
  {
   "cell_type": "markdown",
   "id": "auburn-courage",
   "metadata": {},
   "source": [
    "---"
   ]
  },
  {
   "cell_type": "markdown",
   "id": "moral-details",
   "metadata": {},
   "source": [
    "For introduction of Selenium, please be kind to open [**this site**](https://www.scrapingbee.com/blog/selenium-python/)"
   ]
  },
  {
   "cell_type": "markdown",
   "id": "institutional-channel",
   "metadata": {},
   "source": [
    "## Import modules"
   ]
  },
  {
   "cell_type": "markdown",
   "id": "trying-transsexual",
   "metadata": {
    "scrolled": true
   },
   "source": [
    "`%pip freeze > requirements.txt`"
   ]
  },
  {
   "cell_type": "code",
   "execution_count": 67,
   "id": "dense-sense",
   "metadata": {
    "ExecuteTime": {
     "end_time": "2020-06-19T23:39:06.502572Z",
     "start_time": "2020-06-19T23:39:06.497076Z"
    }
   },
   "outputs": [],
   "source": [
    "# Web scraping\n",
    "from selenium import webdriver\n",
    "from bs4 import BeautifulSoup\n",
    "\n",
    "# Data manipulation\n",
    "import pandas as pd\n",
    "\n",
    "# Regular expression\n",
    "import re"
   ]
  },
  {
   "cell_type": "markdown",
   "id": "defensive-broadway",
   "metadata": {},
   "source": [
    "## Load the Chromedriver"
   ]
  },
  {
   "cell_type": "markdown",
   "id": "confidential-boulder",
   "metadata": {},
   "source": [
    "Read how to download webdriver for Chrome [**here**]('https://chromedriver.chromium.org/downloads')"
   ]
  },
  {
   "cell_type": "code",
   "execution_count": 236,
   "id": "fourth-character",
   "metadata": {},
   "outputs": [],
   "source": [
    "# Main link\n",
    "main_link = 'https://dibi.bnpb.go.id/xdibi?pr=&kb=&jn=&th=&bl=&tb=2&st=3&kf=0&start=3000'"
   ]
  },
  {
   "cell_type": "code",
   "execution_count": 220,
   "id": "coordinate-reading",
   "metadata": {
    "ExecuteTime": {
     "end_time": "2020-06-19T23:29:33.659375Z",
     "start_time": "2020-06-19T23:29:18.312261Z"
    }
   },
   "outputs": [],
   "source": [
    "# Open the driver\n",
    "DRIVER_PATH = '../bin/chromedriver'\n",
    "driver = webdriver.Chrome(executable_path = DRIVER_PATH)"
   ]
  },
  {
   "cell_type": "code",
   "execution_count": 237,
   "id": "palestinian-measure",
   "metadata": {},
   "outputs": [],
   "source": [
    "# Access to main link\n",
    "driver.get(main_link)"
   ]
  },
  {
   "cell_type": "markdown",
   "id": "congressional-prague",
   "metadata": {},
   "source": [
    "## Core Procedure"
   ]
  },
  {
   "cell_type": "markdown",
   "id": "developing-swaziland",
   "metadata": {},
   "source": [
    "### 1 Get information of BNBP"
   ]
  },
  {
   "cell_type": "markdown",
   "id": "buried-uncle",
   "metadata": {},
   "source": [
    "#### Get column names"
   ]
  },
  {
   "cell_type": "code",
   "execution_count": 238,
   "id": "accredited-sound",
   "metadata": {},
   "outputs": [],
   "source": [
    "# Column data collections\n",
    "dataCollection = driver.find_element_by_class_name('col-md-12')"
   ]
  },
  {
   "cell_type": "code",
   "execution_count": 239,
   "id": "concrete-concert",
   "metadata": {},
   "outputs": [],
   "source": [
    "# Get the column elements\n",
    "columnCollection = dataCollection.find_element_by_tag_name('thead').find_elements_by_tag_name('th')"
   ]
  },
  {
   "cell_type": "code",
   "execution_count": 240,
   "id": "taken-metallic",
   "metadata": {},
   "outputs": [],
   "source": [
    "# Get column names\n",
    "listColNames = []\n",
    "\n",
    "for elemCol in columnCollection:\n",
    "    listColNames.append(elemCol.text)\n",
    "\n",
    "# Result\n",
    "listCols = [re.sub('[^a-zA-Z\\d]', '', x) for x in listColNames]\n",
    "listCols[len(listCols) - 1] = 'Links'"
   ]
  },
  {
   "cell_type": "code",
   "execution_count": 241,
   "id": "cultural-russell",
   "metadata": {},
   "outputs": [
    {
     "data": {
      "text/plain": [
       "{'No': [],\n",
       " 'KIB': [],\n",
       " 'Wilayah': [],\n",
       " 'Bencana': [],\n",
       " 'Kejadian': [],\n",
       " 'Detail': [],\n",
       " 'Links': []}"
      ]
     },
     "execution_count": 241,
     "metadata": {},
     "output_type": "execute_result"
    }
   ],
   "source": [
    "# Dictionary with blank list\n",
    "dict_init = {key: [] for key in listCols}\n",
    "dict_init"
   ]
  },
  {
   "cell_type": "markdown",
   "id": "institutional-hours",
   "metadata": {},
   "source": [
    "#### Get the values in table for non-span object"
   ]
  },
  {
   "cell_type": "code",
   "execution_count": 242,
   "id": "polar-limit",
   "metadata": {},
   "outputs": [
    {
     "name": "stdout",
     "output_type": "stream",
     "text": [
      "Length of data in one page: 10 rows\n"
     ]
    }
   ],
   "source": [
    "# Data collections\n",
    "valueCollection = dataCollection.find_element_by_tag_name('tbody').find_elements_by_tag_name('tr')\n",
    "print('Length of data in one page: {} rows'.format(len(valueCollection)))"
   ]
  },
  {
   "cell_type": "code",
   "execution_count": 243,
   "id": "increased-petersburg",
   "metadata": {},
   "outputs": [],
   "source": [
    "# Get data\n",
    "for row in valueCollection:\n",
    "    elemValues = row.find_elements_by_tag_name('td')\n",
    "    for col in range(len(elemValues)):\n",
    "        try:\n",
    "            value = elemValues[col].text\n",
    "        except:\n",
    "            value = None\n",
    "        # Append values\n",
    "        dict_init[list(dict_init.keys())[col]].append(value)"
   ]
  },
  {
   "cell_type": "code",
   "execution_count": 244,
   "id": "bored-morning",
   "metadata": {
    "scrolled": true
   },
   "outputs": [
    {
     "data": {
      "text/plain": [
       "{'No': ['3001',\n",
       "  '3002',\n",
       "  '3003',\n",
       "  '3004',\n",
       "  '3005',\n",
       "  '3006',\n",
       "  '3007',\n",
       "  '3008',\n",
       "  '3009',\n",
       "  '3010'],\n",
       " 'KIB': ['3514101202103131',\n",
       "  '1308101202103131',\n",
       "  '3301105202103131',\n",
       "  '3603102202103131',\n",
       "  '3202102202103131',\n",
       "  '1213999202103131',\n",
       "  '3315101202103131',\n",
       "  '7308999202103131',\n",
       "  '3316101202103121',\n",
       "  '7104101202103121'],\n",
       " 'Wilayah': ['Kab. Pasuruan, Jawa Timur',\n",
       "  'Kab. Lima Puluh Kota, Sumatera Barat',\n",
       "  'Kab. Cilacap, Jawa Tengah',\n",
       "  'Kab. Tangerang, Banten',\n",
       "  'Kab. Sukabumi, Jawa Barat',\n",
       "  'Kab. Langkat, Sumatera Utara',\n",
       "  'Kab. Grobogan, Jawa Tengah',\n",
       "  'Kab. Maros, Sulawesi Selatan',\n",
       "  'Kab. Blora, Jawa Tengah',\n",
       "  'Kab. Kepulauan Talaud, Sulawesi Utara'],\n",
       " 'Bencana': ['BANJIR',\n",
       "  'BANJIR',\n",
       "  'PUTING BELIUNG',\n",
       "  'TANAH LONGSOR',\n",
       "  'TANAH LONGSOR',\n",
       "  'Lainnya',\n",
       "  'Banjir',\n",
       "  'Lainnya',\n",
       "  'BANJIR',\n",
       "  'BANJIR'],\n",
       " 'Kejadian': ['BANJIR',\n",
       "  'BANJIR',\n",
       "  'ANGIN KENCANG',\n",
       "  'TANAH LONGSOR',\n",
       "  'PERGESERAN TANAH',\n",
       "  'Kebakaran Pemungkiman',\n",
       "  'Banjir',\n",
       "  'orang jatuh',\n",
       "  'BANJIR',\n",
       "  'BANJIR'],\n",
       " 'Detail': ['', '', '', '', '', '', '', '', '', ''],\n",
       " 'Links': ['', '', '', '', '', '', '', '', '', '']}"
      ]
     },
     "execution_count": 244,
     "metadata": {},
     "output_type": "execute_result"
    }
   ],
   "source": [
    "dict_init"
   ]
  },
  {
   "cell_type": "markdown",
   "id": "attractive-highway",
   "metadata": {},
   "source": [
    "#### Get the links"
   ]
  },
  {
   "cell_type": "code",
   "execution_count": 245,
   "id": "closed-asian",
   "metadata": {},
   "outputs": [],
   "source": [
    "# Get links\n",
    "links = driver.find_elements_by_class_name('btn.btn-info.btn-xs')\n",
    "listLink = [link.get_attribute('href') for link in links]"
   ]
  },
  {
   "cell_type": "code",
   "execution_count": 246,
   "id": "personalized-sequence",
   "metadata": {},
   "outputs": [
    {
     "data": {
      "text/plain": [
       "['https://dibi.bnpb.go.id/xdibi/read/39037//////2//3001',\n",
       " 'https://dibi.bnpb.go.id/xdibi/read/39038//////2//3002',\n",
       " 'https://dibi.bnpb.go.id/xdibi/read/39039//////2//3003',\n",
       " 'https://dibi.bnpb.go.id/xdibi/read/39040//////2//3004',\n",
       " 'https://dibi.bnpb.go.id/xdibi/read/39041//////2//3005',\n",
       " 'https://dibi.bnpb.go.id/xdibi/read/52907//////2//3006',\n",
       " 'https://dibi.bnpb.go.id/xdibi/read/55748//////2//3007',\n",
       " 'https://dibi.bnpb.go.id/xdibi/read/55294//////2//3008',\n",
       " 'https://dibi.bnpb.go.id/xdibi/read/39020//////2//3009',\n",
       " 'https://dibi.bnpb.go.id/xdibi/read/39021//////2//3010']"
      ]
     },
     "execution_count": 246,
     "metadata": {},
     "output_type": "execute_result"
    }
   ],
   "source": [
    "listLink"
   ]
  },
  {
   "cell_type": "markdown",
   "id": "informed-broadcast",
   "metadata": {},
   "source": [
    "#### Get the values in table for span object"
   ]
  },
  {
   "cell_type": "code",
   "execution_count": 247,
   "id": "junior-crime",
   "metadata": {},
   "outputs": [],
   "source": [
    "# Get the span detailed\n",
    "spanDetailed = []\n",
    "for i in dataCollection.find_elements_by_tag_name('span'):\n",
    "    # Get the span type\n",
    "    spanType = i.get_attribute('data-toggle')\n",
    "    \n",
    "    # Select only popover\n",
    "    if spanType == 'popover':\n",
    "        classValue = i.get_attribute('data-original-title')\n",
    "        if re.sub('[^a-zA-Z\\d]', '', classValue) in ['Keterangan', 'Korban', 'Kerusakan']:\n",
    "            spanDetailed.append(i)"
   ]
  },
  {
   "cell_type": "code",
   "execution_count": 248,
   "id": "featured-church",
   "metadata": {
    "scrolled": true
   },
   "outputs": [],
   "source": [
    "listDetailed = []\n",
    "for idx in range(3, len(spanDetailed) + 3, 3):\n",
    "    # Dictionary for storing data\n",
    "    dictDetailed = {}\n",
    "    \n",
    "    # Looping per 3 object\n",
    "    for j in range(idx - 3, idx):\n",
    "        classValue = re.sub('[^a-zA-Z\\d]', '', spanDetailed[j].get_attribute('data-original-title'))\n",
    "        # Get the values\n",
    "        if classValue != None:\n",
    "            dictDetailed.update(\n",
    "                {\n",
    "                    classValue: spanDetailed[j].get_attribute('data-content')\n",
    "                }\n",
    "            )\n",
    "        else:\n",
    "            dictDetailed.update(\n",
    "                {\n",
    "                    classValue: None\n",
    "                }\n",
    "            )\n",
    "    \n",
    "    # Append the dictionary\n",
    "    listDetailed.append(dictDetailed)"
   ]
  },
  {
   "cell_type": "code",
   "execution_count": 249,
   "id": "undefined-insulation",
   "metadata": {
    "scrolled": true
   },
   "outputs": [
    {
     "data": {
      "text/plain": [
       "[{'Keterangan': '',\n",
       "  'Korban': 'Meninggal : 0<br>Hilang : 0<br>Terluka : 0<br>Menderita : 156<br>Mengungsi : 0<br>',\n",
       "  'Kerusakan': 'Rumah : 0<br>Fas.Pendidikan : 0<br>Fas.Kesehatan : 0<br>Fas.Peribadatan : 0<br>Fas.Umum : 0<br>Perkantoran : 0<br>Jembatan : 0<br>Pabrik : 0<br>Pertokoan : 0<br>'},\n",
       " {'Keterangan': '',\n",
       "  'Korban': 'Meninggal : 0<br>Hilang : 0<br>Terluka : 0<br>Menderita : 1,223<br>Mengungsi : 0<br>',\n",
       "  'Kerusakan': 'Rumah : 1<br>Fas.Pendidikan : 0<br>Fas.Kesehatan : 0<br>Fas.Peribadatan : 0<br>Fas.Umum : 0<br>Perkantoran : 0<br>Jembatan : 1<br>Pabrik : 0<br>Pertokoan : 0<br>'},\n",
       " {'Keterangan': '',\n",
       "  'Korban': 'Meninggal : 0<br>Hilang : 0<br>Terluka : 0<br>Menderita : 0<br>Mengungsi : 0<br>',\n",
       "  'Kerusakan': 'Rumah : 1<br>Fas.Pendidikan : 0<br>Fas.Kesehatan : 0<br>Fas.Peribadatan : 0<br>Fas.Umum : 0<br>Perkantoran : 0<br>Jembatan : 0<br>Pabrik : 0<br>Pertokoan : 0<br>'},\n",
       " {'Keterangan': '',\n",
       "  'Korban': 'Meninggal : 0<br>Hilang : 0<br>Terluka : 0<br>Menderita : 500<br>Mengungsi : 0<br>',\n",
       "  'Kerusakan': 'Rumah : 0<br>Fas.Pendidikan : 0<br>Fas.Kesehatan : 0<br>Fas.Peribadatan : 0<br>Fas.Umum : 0<br>Perkantoran : 0<br>Jembatan : 0<br>Pabrik : 0<br>Pertokoan : 0<br>'},\n",
       " {'Keterangan': '',\n",
       "  'Korban': 'Meninggal : 0<br>Hilang : 0<br>Terluka : 0<br>Menderita : 557<br>Mengungsi : 173<br>',\n",
       "  'Kerusakan': 'Rumah : 21<br>Fas.Pendidikan : 0<br>Fas.Kesehatan : 0<br>Fas.Peribadatan : 0<br>Fas.Umum : 0<br>Perkantoran : 0<br>Jembatan : 0<br>Pabrik : 0<br>Pertokoan : 0<br>'},\n",
       " {'Keterangan': 'Telah terjadi kebakaran pemukiman pada pukul 02.30 WIB dengan sumber awal api berasal dari rumah Arfan yang tinggal seorang diri di rumah tersebut.\\nDiduga kebakaran terjadi akibat kelalaian warga, yaitu kebiasaan tidur dengan memasang obat nyamuk bakar yang berlebihan. Sehingga menyebabkan kebakaran dan kondisi bangunan rumah terbuat dari papan kayu beratap seng dan menyambar ke rumah sebelahnya.\\n\\n\\nCakupan Lokasi :\\nLingkungan III Kelurahan Sei Bilah Kecamatan Sei Lepan \\n',\n",
       "  'Korban': 'Meninggal : 0<br>Hilang : 0<br>Terluka : 0<br>Menderita : 0<br>Mengungsi : 0<br>',\n",
       "  'Kerusakan': 'Rumah : 14<br>Fas.Pendidikan : 0<br>Fas.Kesehatan : 0<br>Fas.Peribadatan : 0<br>Fas.Umum : 0<br>Perkantoran : 0<br>Jembatan : 0<br>Pabrik : 0<br>Pertokoan : 0<br>'},\n",
       " {'Keterangan': 'Telah terjadi Hujan deras di wilayah Wirosari, Kradenan, Pulokulon dan sekitarnya pada jam 14.00 - 15.30 Wib yang membuat saluran air tersumbat sampah pepohonan menutupi saluran air hingga menyebabkan air menggenangi  rumah warga.',\n",
       "  'Korban': 'Meninggal : 0<br>Hilang : 0<br>Terluka : 0<br>Menderita : 0<br>Mengungsi : 0<br>',\n",
       "  'Kerusakan': 'Rumah : 3<br>Fas.Pendidikan : 0<br>Fas.Kesehatan : 0<br>Fas.Peribadatan : 0<br>Fas.Umum : 0<br>Perkantoran : 0<br>Jembatan : 0<br>Pabrik : 0<br>Pertokoan : 0<br>'},\n",
       " {'Keterangan': '',\n",
       "  'Korban': 'Meninggal : 0<br>Hilang : 0<br>Terluka : 0<br>Menderita : 0<br>Mengungsi : 0<br>',\n",
       "  'Kerusakan': 'Rumah : 0<br>Fas.Pendidikan : 0<br>Fas.Kesehatan : 0<br>Fas.Peribadatan : 0<br>Fas.Umum : 0<br>Perkantoran : 0<br>Jembatan : 0<br>Pabrik : 0<br>Pertokoan : 0<br>'},\n",
       " {'Keterangan': 'TMA 50 CM',\n",
       "  'Korban': 'Meninggal : 0<br>Hilang : 0<br>Terluka : 0<br>Menderita : 1,345<br>Mengungsi : 0<br>',\n",
       "  'Kerusakan': 'Rumah : 0<br>Fas.Pendidikan : 0<br>Fas.Kesehatan : 0<br>Fas.Peribadatan : 0<br>Fas.Umum : 0<br>Perkantoran : 0<br>Jembatan : 0<br>Pabrik : 0<br>Pertokoan : 0<br>'},\n",
       " {'Keterangan': 'TMA 50 CM',\n",
       "  'Korban': 'Meninggal : 0<br>Hilang : 0<br>Terluka : 0<br>Menderita : 0<br>Mengungsi : 0<br>',\n",
       "  'Kerusakan': 'Rumah : 0<br>Fas.Pendidikan : 0<br>Fas.Kesehatan : 0<br>Fas.Peribadatan : 0<br>Fas.Umum : 0<br>Perkantoran : 0<br>Jembatan : 0<br>Pabrik : 0<br>Pertokoan : 0<br>'}]"
      ]
     },
     "execution_count": 249,
     "metadata": {},
     "output_type": "execute_result"
    }
   ],
   "source": [
    "listDetailed"
   ]
  },
  {
   "cell_type": "markdown",
   "id": "amber-affect",
   "metadata": {},
   "source": [
    "### 2 Update the dictionary"
   ]
  },
  {
   "cell_type": "code",
   "execution_count": 250,
   "id": "economic-darwin",
   "metadata": {},
   "outputs": [],
   "source": [
    "# Update the dictionary\n",
    "dict_init.update(\n",
    "    {\n",
    "        'Detail': listDetailed,\n",
    "        'Links': listLink\n",
    "    }\n",
    ")"
   ]
  },
  {
   "cell_type": "code",
   "execution_count": 251,
   "id": "registered-transfer",
   "metadata": {
    "scrolled": true
   },
   "outputs": [
    {
     "data": {
      "text/plain": [
       "{'No': ['3001',\n",
       "  '3002',\n",
       "  '3003',\n",
       "  '3004',\n",
       "  '3005',\n",
       "  '3006',\n",
       "  '3007',\n",
       "  '3008',\n",
       "  '3009',\n",
       "  '3010'],\n",
       " 'KIB': ['3514101202103131',\n",
       "  '1308101202103131',\n",
       "  '3301105202103131',\n",
       "  '3603102202103131',\n",
       "  '3202102202103131',\n",
       "  '1213999202103131',\n",
       "  '3315101202103131',\n",
       "  '7308999202103131',\n",
       "  '3316101202103121',\n",
       "  '7104101202103121'],\n",
       " 'Wilayah': ['Kab. Pasuruan, Jawa Timur',\n",
       "  'Kab. Lima Puluh Kota, Sumatera Barat',\n",
       "  'Kab. Cilacap, Jawa Tengah',\n",
       "  'Kab. Tangerang, Banten',\n",
       "  'Kab. Sukabumi, Jawa Barat',\n",
       "  'Kab. Langkat, Sumatera Utara',\n",
       "  'Kab. Grobogan, Jawa Tengah',\n",
       "  'Kab. Maros, Sulawesi Selatan',\n",
       "  'Kab. Blora, Jawa Tengah',\n",
       "  'Kab. Kepulauan Talaud, Sulawesi Utara'],\n",
       " 'Bencana': ['BANJIR',\n",
       "  'BANJIR',\n",
       "  'PUTING BELIUNG',\n",
       "  'TANAH LONGSOR',\n",
       "  'TANAH LONGSOR',\n",
       "  'Lainnya',\n",
       "  'Banjir',\n",
       "  'Lainnya',\n",
       "  'BANJIR',\n",
       "  'BANJIR'],\n",
       " 'Kejadian': ['BANJIR',\n",
       "  'BANJIR',\n",
       "  'ANGIN KENCANG',\n",
       "  'TANAH LONGSOR',\n",
       "  'PERGESERAN TANAH',\n",
       "  'Kebakaran Pemungkiman',\n",
       "  'Banjir',\n",
       "  'orang jatuh',\n",
       "  'BANJIR',\n",
       "  'BANJIR'],\n",
       " 'Detail': [{'Keterangan': '',\n",
       "   'Korban': 'Meninggal : 0<br>Hilang : 0<br>Terluka : 0<br>Menderita : 156<br>Mengungsi : 0<br>',\n",
       "   'Kerusakan': 'Rumah : 0<br>Fas.Pendidikan : 0<br>Fas.Kesehatan : 0<br>Fas.Peribadatan : 0<br>Fas.Umum : 0<br>Perkantoran : 0<br>Jembatan : 0<br>Pabrik : 0<br>Pertokoan : 0<br>'},\n",
       "  {'Keterangan': '',\n",
       "   'Korban': 'Meninggal : 0<br>Hilang : 0<br>Terluka : 0<br>Menderita : 1,223<br>Mengungsi : 0<br>',\n",
       "   'Kerusakan': 'Rumah : 1<br>Fas.Pendidikan : 0<br>Fas.Kesehatan : 0<br>Fas.Peribadatan : 0<br>Fas.Umum : 0<br>Perkantoran : 0<br>Jembatan : 1<br>Pabrik : 0<br>Pertokoan : 0<br>'},\n",
       "  {'Keterangan': '',\n",
       "   'Korban': 'Meninggal : 0<br>Hilang : 0<br>Terluka : 0<br>Menderita : 0<br>Mengungsi : 0<br>',\n",
       "   'Kerusakan': 'Rumah : 1<br>Fas.Pendidikan : 0<br>Fas.Kesehatan : 0<br>Fas.Peribadatan : 0<br>Fas.Umum : 0<br>Perkantoran : 0<br>Jembatan : 0<br>Pabrik : 0<br>Pertokoan : 0<br>'},\n",
       "  {'Keterangan': '',\n",
       "   'Korban': 'Meninggal : 0<br>Hilang : 0<br>Terluka : 0<br>Menderita : 500<br>Mengungsi : 0<br>',\n",
       "   'Kerusakan': 'Rumah : 0<br>Fas.Pendidikan : 0<br>Fas.Kesehatan : 0<br>Fas.Peribadatan : 0<br>Fas.Umum : 0<br>Perkantoran : 0<br>Jembatan : 0<br>Pabrik : 0<br>Pertokoan : 0<br>'},\n",
       "  {'Keterangan': '',\n",
       "   'Korban': 'Meninggal : 0<br>Hilang : 0<br>Terluka : 0<br>Menderita : 557<br>Mengungsi : 173<br>',\n",
       "   'Kerusakan': 'Rumah : 21<br>Fas.Pendidikan : 0<br>Fas.Kesehatan : 0<br>Fas.Peribadatan : 0<br>Fas.Umum : 0<br>Perkantoran : 0<br>Jembatan : 0<br>Pabrik : 0<br>Pertokoan : 0<br>'},\n",
       "  {'Keterangan': 'Telah terjadi kebakaran pemukiman pada pukul 02.30 WIB dengan sumber awal api berasal dari rumah Arfan yang tinggal seorang diri di rumah tersebut.\\nDiduga kebakaran terjadi akibat kelalaian warga, yaitu kebiasaan tidur dengan memasang obat nyamuk bakar yang berlebihan. Sehingga menyebabkan kebakaran dan kondisi bangunan rumah terbuat dari papan kayu beratap seng dan menyambar ke rumah sebelahnya.\\n\\n\\nCakupan Lokasi :\\nLingkungan III Kelurahan Sei Bilah Kecamatan Sei Lepan \\n',\n",
       "   'Korban': 'Meninggal : 0<br>Hilang : 0<br>Terluka : 0<br>Menderita : 0<br>Mengungsi : 0<br>',\n",
       "   'Kerusakan': 'Rumah : 14<br>Fas.Pendidikan : 0<br>Fas.Kesehatan : 0<br>Fas.Peribadatan : 0<br>Fas.Umum : 0<br>Perkantoran : 0<br>Jembatan : 0<br>Pabrik : 0<br>Pertokoan : 0<br>'},\n",
       "  {'Keterangan': 'Telah terjadi Hujan deras di wilayah Wirosari, Kradenan, Pulokulon dan sekitarnya pada jam 14.00 - 15.30 Wib yang membuat saluran air tersumbat sampah pepohonan menutupi saluran air hingga menyebabkan air menggenangi  rumah warga.',\n",
       "   'Korban': 'Meninggal : 0<br>Hilang : 0<br>Terluka : 0<br>Menderita : 0<br>Mengungsi : 0<br>',\n",
       "   'Kerusakan': 'Rumah : 3<br>Fas.Pendidikan : 0<br>Fas.Kesehatan : 0<br>Fas.Peribadatan : 0<br>Fas.Umum : 0<br>Perkantoran : 0<br>Jembatan : 0<br>Pabrik : 0<br>Pertokoan : 0<br>'},\n",
       "  {'Keterangan': '',\n",
       "   'Korban': 'Meninggal : 0<br>Hilang : 0<br>Terluka : 0<br>Menderita : 0<br>Mengungsi : 0<br>',\n",
       "   'Kerusakan': 'Rumah : 0<br>Fas.Pendidikan : 0<br>Fas.Kesehatan : 0<br>Fas.Peribadatan : 0<br>Fas.Umum : 0<br>Perkantoran : 0<br>Jembatan : 0<br>Pabrik : 0<br>Pertokoan : 0<br>'},\n",
       "  {'Keterangan': 'TMA 50 CM',\n",
       "   'Korban': 'Meninggal : 0<br>Hilang : 0<br>Terluka : 0<br>Menderita : 1,345<br>Mengungsi : 0<br>',\n",
       "   'Kerusakan': 'Rumah : 0<br>Fas.Pendidikan : 0<br>Fas.Kesehatan : 0<br>Fas.Peribadatan : 0<br>Fas.Umum : 0<br>Perkantoran : 0<br>Jembatan : 0<br>Pabrik : 0<br>Pertokoan : 0<br>'},\n",
       "  {'Keterangan': 'TMA 50 CM',\n",
       "   'Korban': 'Meninggal : 0<br>Hilang : 0<br>Terluka : 0<br>Menderita : 0<br>Mengungsi : 0<br>',\n",
       "   'Kerusakan': 'Rumah : 0<br>Fas.Pendidikan : 0<br>Fas.Kesehatan : 0<br>Fas.Peribadatan : 0<br>Fas.Umum : 0<br>Perkantoran : 0<br>Jembatan : 0<br>Pabrik : 0<br>Pertokoan : 0<br>'}],\n",
       " 'Links': ['https://dibi.bnpb.go.id/xdibi/read/39037//////2//3001',\n",
       "  'https://dibi.bnpb.go.id/xdibi/read/39038//////2//3002',\n",
       "  'https://dibi.bnpb.go.id/xdibi/read/39039//////2//3003',\n",
       "  'https://dibi.bnpb.go.id/xdibi/read/39040//////2//3004',\n",
       "  'https://dibi.bnpb.go.id/xdibi/read/39041//////2//3005',\n",
       "  'https://dibi.bnpb.go.id/xdibi/read/52907//////2//3006',\n",
       "  'https://dibi.bnpb.go.id/xdibi/read/55748//////2//3007',\n",
       "  'https://dibi.bnpb.go.id/xdibi/read/55294//////2//3008',\n",
       "  'https://dibi.bnpb.go.id/xdibi/read/39020//////2//3009',\n",
       "  'https://dibi.bnpb.go.id/xdibi/read/39021//////2//3010']}"
      ]
     },
     "execution_count": 251,
     "metadata": {},
     "output_type": "execute_result"
    }
   ],
   "source": [
    "dict_init"
   ]
  }
 ],
 "metadata": {
  "kernelspec": {
   "display_name": "Python 3",
   "language": "python",
   "name": "python3"
  },
  "language_info": {
   "codemirror_mode": {
    "name": "ipython",
    "version": 3
   },
   "file_extension": ".py",
   "mimetype": "text/x-python",
   "name": "python",
   "nbconvert_exporter": "python",
   "pygments_lexer": "ipython3",
   "version": "3.8.3"
  }
 },
 "nbformat": 4,
 "nbformat_minor": 5
}
