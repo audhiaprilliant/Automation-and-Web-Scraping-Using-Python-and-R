{
 "cells": [
  {
   "cell_type": "markdown",
   "id": "australian-locator",
   "metadata": {},
   "source": [
    "# BNBP Data Scraping - Longitude Latitude"
   ]
  },
  {
   "cell_type": "markdown",
   "id": "auburn-courage",
   "metadata": {},
   "source": [
    "---"
   ]
  },
  {
   "cell_type": "markdown",
   "id": "moral-details",
   "metadata": {},
   "source": [
    "For introduction of Selenium, please be kind to open [**this site**](https://www.scrapingbee.com/blog/selenium-python/)"
   ]
  },
  {
   "cell_type": "markdown",
   "id": "institutional-channel",
   "metadata": {},
   "source": [
    "## Import packages"
   ]
  },
  {
   "cell_type": "markdown",
   "id": "trying-transsexual",
   "metadata": {
    "scrolled": true
   },
   "source": [
    "`%pip freeze > requirements.txt`"
   ]
  },
  {
   "cell_type": "code",
   "execution_count": 1,
   "id": "dense-sense",
   "metadata": {
    "ExecuteTime": {
     "end_time": "2020-06-19T23:39:06.502572Z",
     "start_time": "2020-06-19T23:39:06.497076Z"
    }
   },
   "outputs": [],
   "source": [
    "# Web scraping\n",
    "from selenium import webdriver\n",
    "from bs4 import BeautifulSoup"
   ]
  },
  {
   "cell_type": "markdown",
   "id": "defensive-broadway",
   "metadata": {},
   "source": [
    "## Load the Chromedriver"
   ]
  },
  {
   "cell_type": "markdown",
   "id": "confidential-boulder",
   "metadata": {},
   "source": [
    "Read how to download webdriver for Chrome [**here**]('https://chromedriver.chromium.org/downloads')"
   ]
  },
  {
   "cell_type": "code",
   "execution_count": 2,
   "id": "fourth-character",
   "metadata": {},
   "outputs": [],
   "source": [
    "# Main link\n",
    "main_link = 'https://dibi.bnpb.go.id/xdibi/read/1//////2//39471'"
   ]
  },
  {
   "cell_type": "code",
   "execution_count": 3,
   "id": "coordinate-reading",
   "metadata": {
    "ExecuteTime": {
     "end_time": "2020-06-19T23:29:33.659375Z",
     "start_time": "2020-06-19T23:29:18.312261Z"
    }
   },
   "outputs": [],
   "source": [
    "# Open the driver\n",
    "DRIVER_PATH = '../bin/chromedriver'\n",
    "driver = webdriver.Chrome(executable_path = DRIVER_PATH)"
   ]
  },
  {
   "cell_type": "code",
   "execution_count": 4,
   "id": "palestinian-measure",
   "metadata": {},
   "outputs": [],
   "source": [
    "# Access to main link\n",
    "driver.get(main_link)"
   ]
  },
  {
   "cell_type": "markdown",
   "id": "congressional-prague",
   "metadata": {},
   "source": [
    "## Core Procedure"
   ]
  },
  {
   "cell_type": "markdown",
   "id": "developing-swaziland",
   "metadata": {},
   "source": [
    "### 1 Get information of BNBP"
   ]
  },
  {
   "cell_type": "markdown",
   "id": "specified-wisdom",
   "metadata": {},
   "source": [
    "#### 1st scenario"
   ]
  },
  {
   "cell_type": "code",
   "execution_count": 20,
   "id": "naked-armstrong",
   "metadata": {},
   "outputs": [
    {
     "data": {
      "text/plain": [
       "'-8.82685'"
      ]
     },
     "execution_count": 20,
     "metadata": {},
     "output_type": "execute_result"
    }
   ],
   "source": [
    "# Get the latitude\n",
    "driver.find_element_by_name('latitude').get_attribute('value')"
   ]
  },
  {
   "cell_type": "code",
   "execution_count": 19,
   "id": "searching-backing",
   "metadata": {},
   "outputs": [
    {
     "data": {
      "text/plain": [
       "'117.87589'"
      ]
     },
     "execution_count": 19,
     "metadata": {},
     "output_type": "execute_result"
    }
   ],
   "source": [
    "# Get the longitude\n",
    "driver.find_element_by_name('longitude').get_attribute('value')"
   ]
  },
  {
   "cell_type": "code",
   "execution_count": 18,
   "id": "vietnamese-example",
   "metadata": {},
   "outputs": [
    {
     "data": {
      "text/plain": [
       "'Semburan asap Gunung Tambora mencapai ketinggian 44km, mengakibatkan tsunami setinggi 4m. Gelap gulita selama tiga hari akibat pekatnya debu terjadi dalam radius 600 kilo meter dari pusat letusan. Di bumi belahan utara, suhu turun hingga 0,7 derajat Celc'"
      ]
     },
     "execution_count": 18,
     "metadata": {},
     "output_type": "execute_result"
    }
   ],
   "source": [
    "# Get the detail\n",
    "driver.find_element_by_name('keterangan').get_attribute('value')"
   ]
  },
  {
   "cell_type": "code",
   "execution_count": 17,
   "id": "powerful-lotus",
   "metadata": {},
   "outputs": [
    {
     "data": {
      "text/plain": [
       "'http://www.mkom.ugm.ac.id'"
      ]
     },
     "execution_count": 17,
     "metadata": {},
     "output_type": "execute_result"
    }
   ],
   "source": [
    "# Get the news resource\n",
    "driver.find_element_by_name('sumber').get_attribute('value')"
   ]
  },
  {
   "cell_type": "code",
   "execution_count": 16,
   "id": "devoted-mattress",
   "metadata": {},
   "outputs": [
    {
     "data": {
      "text/plain": [
       "'1815-04-10'"
      ]
     },
     "execution_count": 16,
     "metadata": {},
     "output_type": "execute_result"
    }
   ],
   "source": [
    "# Get date\n",
    "driver.find_element_by_name('tgl').get_attribute('value')"
   ]
  },
  {
   "cell_type": "code",
   "execution_count": 15,
   "id": "increased-conservative",
   "metadata": {},
   "outputs": [
    {
     "data": {
      "text/plain": [
       "'111. Letusan Gunung Api'"
      ]
     },
     "execution_count": 15,
     "metadata": {},
     "output_type": "execute_result"
    }
   ],
   "source": [
    "# Get disaster type\n",
    "driver.find_element_by_name('id_jenis_bencana').get_attribute('value')"
   ]
  },
  {
   "cell_type": "code",
   "execution_count": 13,
   "id": "atmospheric-cabin",
   "metadata": {},
   "outputs": [
    {
     "data": {
      "text/plain": [
       "'52. NUSA TENGGARA BARAT'"
      ]
     },
     "execution_count": 13,
     "metadata": {},
     "output_type": "execute_result"
    }
   ],
   "source": [
    "# Get province\n",
    "driver.find_element_by_name('prop').get_attribute('value')"
   ]
  },
  {
   "cell_type": "code",
   "execution_count": 14,
   "id": "central-justice",
   "metadata": {},
   "outputs": [
    {
     "data": {
      "text/plain": [
       "'5204. SUMBAWA'"
      ]
     },
     "execution_count": 14,
     "metadata": {},
     "output_type": "execute_result"
    }
   ],
   "source": [
    "# Get district\n",
    "driver.find_element_by_name('kab').get_attribute('value')"
   ]
  },
  {
   "cell_type": "markdown",
   "id": "historical-welsh",
   "metadata": {},
   "source": [
    "#### 2nd scenario"
   ]
  },
  {
   "cell_type": "code",
   "execution_count": 21,
   "id": "crazy-submission",
   "metadata": {},
   "outputs": [],
   "source": [
    "# Dictionary\n",
    "dict_init = {\n",
    "    'latitude': None,\n",
    "    'longitude': None,\n",
    "    'keterangan': None,\n",
    "    'sumber': None,\n",
    "    'tgl': None,\n",
    "    'id_jenis_bencana': None,\n",
    "    'prop': None,\n",
    "    'kab': None\n",
    "}"
   ]
  },
  {
   "cell_type": "code",
   "execution_count": 22,
   "id": "polished-worse",
   "metadata": {},
   "outputs": [],
   "source": [
    "# Get the values\n",
    "for key in dict_init.keys():\n",
    "    dict_init.update(\n",
    "        {\n",
    "            key: driver.find_element_by_name(key).get_attribute('value')\n",
    "        }\n",
    "    )"
   ]
  },
  {
   "cell_type": "code",
   "execution_count": 23,
   "id": "digital-perfume",
   "metadata": {},
   "outputs": [
    {
     "data": {
      "text/plain": [
       "{'latitude': '-8.82685',\n",
       " 'longitude': '117.87589',\n",
       " 'keterangan': 'Semburan asap Gunung Tambora mencapai ketinggian 44km, mengakibatkan tsunami setinggi 4m. Gelap gulita selama tiga hari akibat pekatnya debu terjadi dalam radius 600 kilo meter dari pusat letusan. Di bumi belahan utara, suhu turun hingga 0,7 derajat Celc',\n",
       " 'sumber': 'http://www.mkom.ugm.ac.id',\n",
       " 'tgl': '1815-04-10',\n",
       " 'id_jenis_bencana': '111. Letusan Gunung Api',\n",
       " 'prop': '52. NUSA TENGGARA BARAT',\n",
       " 'kab': '5204. SUMBAWA'}"
      ]
     },
     "execution_count": 23,
     "metadata": {},
     "output_type": "execute_result"
    }
   ],
   "source": [
    "dict_init"
   ]
  },
  {
   "cell_type": "code",
   "execution_count": null,
   "id": "hearing-episode",
   "metadata": {},
   "outputs": [],
   "source": []
  }
 ],
 "metadata": {
  "kernelspec": {
   "display_name": "Python 3",
   "language": "python",
   "name": "python3"
  },
  "language_info": {
   "codemirror_mode": {
    "name": "ipython",
    "version": 3
   },
   "file_extension": ".py",
   "mimetype": "text/x-python",
   "name": "python",
   "nbconvert_exporter": "python",
   "pygments_lexer": "ipython3",
   "version": "3.8.3"
  }
 },
 "nbformat": 4,
 "nbformat_minor": 5
}
