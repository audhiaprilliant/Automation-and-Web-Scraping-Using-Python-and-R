{
 "cells": [
  {
   "cell_type": "markdown",
   "metadata": {},
   "source": [
    "# KUHP Scrapper"
   ]
  },
  {
   "cell_type": "markdown",
   "metadata": {},
   "source": [
    "---"
   ]
  },
  {
   "cell_type": "code",
   "execution_count": 429,
   "metadata": {},
   "outputs": [],
   "source": [
    "# Import module for data manipulation\n",
    "import pandas as pd\n",
    "# Import module for PDF extractor\n",
    "import PyPDF2\n",
    "# Import for comma delimiter\n",
    "import csv"
   ]
  },
  {
   "cell_type": "code",
   "execution_count": 4,
   "metadata": {},
   "outputs": [
    {
     "data": {
      "text/plain": [
       "<PyPDF2.pdf.PdfFileReader at 0x1f6025151f0>"
      ]
     },
     "execution_count": 4,
     "metadata": {},
     "output_type": "execute_result"
    }
   ],
   "source": [
    "# Read the PDF\n",
    "reader = PyPDF2.PdfFileReader('data/087938fe4b830aeb386f318f3b605198.pdf')\n",
    "reader"
   ]
  },
  {
   "cell_type": "code",
   "execution_count": 5,
   "metadata": {},
   "outputs": [
    {
     "data": {
      "text/plain": [
       "{'/CreationDate': \"D:20140806093123+07'00'\",\n",
       " '/Title': 'kuhp.txt',\n",
       " '/Producer': 'txt2pdf v10.2 © SANFACE Software 2005'}"
      ]
     },
     "execution_count": 5,
     "metadata": {},
     "output_type": "execute_result"
    }
   ],
   "source": [
    "# Document info\n",
    "reader.documentInfo"
   ]
  },
  {
   "cell_type": "code",
   "execution_count": 7,
   "metadata": {},
   "outputs": [
    {
     "name": "stdout",
     "output_type": "stream",
     "text": [
      "Number of pages: 79\n"
     ]
    }
   ],
   "source": [
    "# Number of pages\n",
    "print('Number of pages: {}'.format(reader.numPages))"
   ]
  },
  {
   "cell_type": "code",
   "execution_count": 436,
   "metadata": {},
   "outputs": [
    {
     "data": {
      "text/plain": [
       "'\\nKITAB UNDANG-UNDANG HUKUM PIDANA (KUHP)Kitab Undang-Undang Hukum Pidana \\nBuku Kesatu - Aturan Umum\\nDaftar Isi\\n  Bab I - Batas-batas berlakunya Aturan Pidana dalam Perundang-undangan \\n  Bab II - Pidana \\n  Bab III - Hal-hal yang Menghapuskan, Mengurangi atau Memberatkan Pidana \\n  Bab IV - Percobaan \\n  Bab V - Penyertaan Dalam Tindak Pidana \\n  Bab VI - Perbarengan Tindak Pidana \\n  Bab VII - Mengajukan dan Menarik Kembali Pengaduan dalam Hal \\n  Kejahatan-kejahatan yang Hanya Dituntut atas Pengaduan \\n  Bab VIII - Hapusnya Kewenangan Menuntut Pidana dan Menjalankan Pidana \\n  Bab IX - Arti Beberapa Istilah yang Dipakai dalam Kitab Undang-undang \\n  Aturan Penutup \\nBab I - Batas-Batas Berlakunya Aturan Pidana Dalam Perundang-Undangan\\nPasal 1\\n(1) Suatu perbuatan tidak dapat dipidana, kecuali berdasarkan kekuatan ketentuan \\nperundang-undangan pidana yang telah ada\\n(2) Bilamana ada perubahan dalam perundang-undangan sesudah perbuatan dilakukan, \\nmaka terhadap terdakwa diterapkan ketentuan yang paling menguntungkannya.\\nPasal 2\\nKetentuan pidana dalam perundang-undangan dangan Indonesia diterapkan bagi \\nsetiap orang yang melakukan sesuatu tindak pidana di Indonesia.\\nPasal 3\\nKetentuan pidana dalam perundang-undangan Indonesia berlaku bagi setiap orang \\nyang di luar wilayah Indonesia melakukan tindak pidana di dalam kendaraan air \\natau pesawat udara Indonesia.\\nPasal 4\\nKetentuan pidana dalam perundang-undangan Indonesia diterapkan bagi setiap orang \\nyang melakukan di luar Indonesia:\\n1. salah satu kejahatan berdasarkan pasal-pasal 104, 106, 107,108,dan 131.\\n2. suatu kejahatan mengenai mata uang atau uang kertas yang dikeluarkan oleh \\nnegara atau bank, ataupun mengenai meterai yang dikeluarkan dan merek yang \\ndigunakan oleh Pemerintah Indonesia.\\n3. pemalsuan surat hutang atau sertifikat hutang atas tanggungan Indonesia, atas \\ntanggungan suatu daerah atau bagian daerah Indonesia, termasuk pula pemalsuan \\ntalon, tanda dividen atau tanda bunga, yang mengikuti surat atau sertifikat itu, \\ndan tanda yang dikeluarkan sebagai pengganti surat tersebut, atau menggunakan \\nsurat-surat tersebut di atas, yang palsu atau dipalsukan, seolah-olah asli dan \\ntidak dipalsu;\\n4. salah satu kejahatan yang tersebut dalam pasal-pasal 438, 444 sampai dengan \\n446 tentang pembajakan laut dan pasal 447 tentang penyerahan kendaraan air \\nkepada kekuasaan bajak laut dan pasal 479 huruf j tentang penguasaan pesawat \\nudara secara melawan hukum, pasal 479 huruf I, m, n, dan o tentang kejahatan \\nyang mengancam keselamatan penerbangan sipil.\\nPasal 5\\n(1) Ketentuan pidana dalam perundang-undangan Indonesia diterspksn bsgi warga \\nnegara yang di luar Indonesia melakukan:\\n1. salah satu kejahatan tersebut dalam Bab I dan II Buku Kedua dan pasal-pasal \\n160, 161, 240, 279, 450, dan 451.\\n2. salah satu perbuatan yang oleh suatu ketentuan pidana dalam \\nperundang-undangan Indonesia dipandang sebagai kejahatan, sedangkan menurut \\nperundang-undangan negara dimana perbuatan dilakukan diancam dengan pidana.\\n(2) Penuntutan perkara sebagaimana dimaksud dalam butir 2 dapat dilakukan juga \\njika tertuduh menjadi warga negara sesudah melakukan perbuatan.\\nPasal 6\\nBerlakunya pasal 5 ayat 1 butir 2 dibatasi sedemikian rupa sehingga tidak \\ndijatuhkan pidana mati, jika menurut perundang-undangan negara dimana perbuatan \\ndilakukan, terhadapnya tidak diancamkan pidana mati.\\nPasal 7'"
      ]
     },
     "execution_count": 436,
     "metadata": {},
     "output_type": "execute_result"
    }
   ],
   "source": [
    "# Extract the page\n",
    "plain_text = reader.getPage(0).extractText()\n",
    "plain_text"
   ]
  },
  {
   "cell_type": "markdown",
   "metadata": {},
   "source": [
    "## Combine the Data"
   ]
  },
  {
   "cell_type": "code",
   "execution_count": 437,
   "metadata": {},
   "outputs": [],
   "source": [
    "text = ''\n",
    "for page in range(reader.numPages):\n",
    "    plain_text = reader.getPage(page).extractText()\n",
    "    text += plain_text"
   ]
  },
  {
   "cell_type": "code",
   "execution_count": 438,
   "metadata": {},
   "outputs": [
    {
     "data": {
      "text/plain": [
       "'\\nKITAB UNDANG-UNDANG HUKUM PIDANA (KUHP)Kitab Undang-Undang Hukum Pidana \\nBuku Kesatu - Aturan Umum\\nDaftar Isi\\n  Bab I - Batas-batas berlakunya Aturan Pidana dalam Perundang-undangan \\n  Bab II - Pidana \\n  Bab III - Hal-hal yang Menghapuskan, Mengurangi atau Memberatkan Pidana \\n  Bab IV - Percobaan \\n  Bab V - Penyertaan Dalam Tindak Pidana \\n  Bab VI - Perbarengan Tindak Pidana \\n  Bab VII - Mengajukan dan Menarik Kembali Pengaduan dalam Hal \\n  Kejahatan-kejahatan yang Hanya Dituntut atas Pengaduan \\n  Bab VIII - Hapusnya Kewenangan Menuntut Pidana dan Menjalankan Pidana \\n  Bab IX - Arti Beberapa Istilah yang Dipakai dalam Kitab Undang-undang \\n  Aturan Penutup \\nBab I - Batas-Batas Berlakunya Aturan Pidana Dalam Perundang-Undangan\\nPasal 1\\n(1) Suatu perbuatan tidak dapat dipidana, kecuali berdasarkan kekuatan ketentuan \\nperundang-undangan pidana yang telah ada\\n(2) Bilamana ada perubahan dalam perundang-undangan sesudah perbuatan dilakukan, \\nmaka terhadap terdakwa diterapkan ketentuan yang paling menguntungkannya.\\nPasal 2\\nKetentuan pidana dalam perundang-undangan dangan Indonesia diterapkan bagi \\nsetiap orang yang melakukan sesuatu tindak pidana di Indonesia.\\nPasal 3\\nKetentuan pidana dalam perundang-undangan Indonesia berlaku bagi setiap orang \\nyang di luar wilayah Indonesia melakukan tindak pidana di dalam kendaraan air \\natau pesawat udara Indonesia.\\nPasal 4\\nKetentuan pidana dalam perundang-undangan Indonesia diterapkan bagi setiap orang \\nyang melakukan di luar Indonesia:\\n1. salah satu kejahatan berdasarkan pasal-pasal 104, 106, 107,108,dan 131.\\n2. suatu kejahatan mengenai mata uang atau uang kertas yang dikeluarkan oleh \\nnegara atau bank, ataupun mengenai meterai yang dikeluarkan dan merek yang \\ndigunakan oleh Pemerintah Indonesia.\\n3. pemalsuan surat hutang atau sertifikat hutang atas tanggungan Indonesia, atas \\ntanggungan suatu daerah atau bagian daerah Indonesia, termasuk pula pemalsuan \\ntalon, tanda dividen atau tanda bunga, yang mengikuti surat atau sertifikat itu, \\ndan tanda yang dikeluarkan sebagai pengganti surat tersebut, atau menggunakan \\nsurat-surat tersebut di atas, yang palsu atau dipalsukan, seolah-olah asli dan \\ntidak dipalsu;\\n4. salah satu kejahatan yang tersebut dalam pasal-pasal 438, 444 sampai dengan \\n446 tentang pembajakan laut dan pasal 447 tentang penyerahan kendaraan air \\nkepada kekuasaan bajak laut dan pasal 479 huruf j tentang penguasaan pesawat \\nudara secara melawan hukum, pasal 479 huruf I, m, n, dan o tentang kejahatan \\nyang mengancam keselamatan penerbangan sipil.\\nPasal 5\\n(1) Ketentuan pidana dalam perundang-undangan Indonesia diterspksn bsgi warga \\nnegara yang di luar Indonesia melakukan:\\n1. salah satu kejahatan tersebut dalam Bab I dan II Buku Kedua dan pasal-pasal \\n160, 161, 240, 279, 450, dan 451.\\n2. salah satu perbuatan yang oleh suatu ketentuan pidana dalam \\nperundang-undangan Indonesia dipandang sebagai kejahatan, sedangkan menurut \\nperundang-undangan negara dimana perbuatan dilakukan diancam dengan pidana.\\n(2) Penuntutan perkara sebagaimana dimaksud dalam butir 2 dapat dilakukan juga \\njika tertuduh menjadi warga negara sesudah melakukan perbuatan.\\nPasal 6\\nBerlakunya pasal 5 ayat 1 butir 2 dibatasi sedemikian rupa sehingga tidak \\ndijatuhkan pidana mati, jika menurut perundang-undangan negara dimana perbuatan \\ndilakukan, terhadapnya tidak diancamkan pidana mati.\\nPasal 7\\nKetentuan pidana dalam perundang-undangan Indonesia berlaku bagi setiap pejabat \\nyang di luar Indonesia melakukan salah satu tindak pidana sebagaimana dimaksud \\ndalam bab XXVIII Buku Kedua Pasal 8 Ketentuan pidana dalam perundang-undangan \\nIndonesia berlaku bagi nahkoda dan penumpang perahu Indonesia, yang diluar \\nIndonesia, sekalipun di luar perahu, melakukan salah satu tindak pidana \\nsebagaimana dimaksud dalam Bab XXIX Buku Kedua, dan BAb IX Buku ketiga; begitu \\npula yang tersebut dalam peraturan mengenai surat laut dan pas kapal di \\nIndonesia, maupun dalam Ordonansi Perkapalan. \\nPasal 9\\nDiterapkannya pasal-pasal 2-5, 7, dan 8 dibatasi oleh pengecualian-pengecualian \\nyang diakui dalam hukum internasional. \\nBab II - Pidana\\nPasal 10 \\nPidana terdirl atas: \\na. pidana pokok:\\n1. pidana mati;\\n2. pidana penjara;\\n3. pidana kurungan;\\n4. pidana denda;\\n5. pidana tutupan.\\nb. pidana tambahan\\n1. pencabutan hak-hak tertentu;\\n2. perampasan barang-barang tertentu;\\n3. pengumuman putusan hakim.\\nPasal 11\\nPidana mati dijalankan oleh algojo di tempat gantungan dengan menjeratkan tali \\nyang terikat di tiang gantungan pada leher terpidana kemudian menjatuhkan papan \\ntempat terpidana berdiri.\\nPasal 12\\n(1) Pidana penjara ialah seumur hidup atau selama waktu tertentu.\\n(2) Pidana penjara selama waktu tertentu paling pendek satu hari dan paling lama \\nlima belas tahun berturut-turut.\\n(3) Pidana penjara selama waktu tertentu boleh dijatuhkan untuk dua puluh tahun \\nberturut-turut dalam hal kejahatan yang pidananya hakim boleh memilih antara \\npidana mati, pidana seumur hidup, dan pidana penjara selama waktu tertentu, atau \\nantara pidana penjara seumur hidup dan pidana penjara selama waktu tertentu; \\nbegitu juga dalam hal batas lima belas tahun dilampaui sebab tambahanan pidana \\nkarena perbarengan, pengulangan atau karena ditentukan pasal 52.\\n(4) Pidana penjara selama waktu tertentu sekali-kali tidak boleh melebihi dua \\npuluh tahun.\\nPasal 13\\nPara terpidana dijatuhi pidana penjara dibagi-bagi atas beberapa golongan\\nPasal 14\\nTerpidana yang dijatuhkan pidana penjara wajib menjalankan segala pekerjaan yang \\ndibebankan kepadanya berdasarkan ketentuan pelaksanaan pasal 29.\\nPasal 14a\\n(1) Apabila hakim menjatuhkan pidana paling lama satu tahun atau pidana \\nkurungan, tidak termasuk pidana kurungan pengganti maka dalam putusnya hakim \\ndapat memerintahkan pula bahwa pidana tidak usah dijalani, kecuali jika \\ndikemudianhari ada putusan hakim yang menentukan lain, disebabkan karena si \\nterpidana melakukan suatu tindak pidana sebelum masa percobaan yang ditentukan \\ndalam perintah tersebut diatas habis, atau karena si terpidana selama masa \\npercobaan tidak memenuhi syarat khusus yang mungkin ditentukan lain dalam \\nperintah itu.\\n(2) Hakim juga mempunyai kewenangan seperti di atas, kecuali dalam \\nperkara-perkara yang mangenai penghasilan dan persewaan negara apabila \\nmenjatuhkan pidana denda, tetapi harus ternyata kepadanya bahwa pidana denda \\natau perampasan yang mungkin diperintahkan pula akan sangat memberatkan si \\nterpidana . Dalam menerapkan ayat ini, kejahatan dan pelanggaran candu hanya \\ndianggap sebagai perkara mengenai penghasilan negara, jika terhadap kejahatan \\ndan pelanggaran itu ditentukan bahwa dalam hal dijatuhkan pidana denda, tidak \\nditerapkan ketentuan pasal 30 ayat 2.\\n(3) Jika hakim tidak menentukan lain, maka perintah mengenai pidana pokok juga \\nmengenai pidana pokok juga mengenai pidana tambahan.\\n(4) Perintah tidak diberikan, kecuali hakim setelah menyelidiki dengan cermat \\nberkeyakinan bahwa dapat diadakan pengawasan yang cukup untuk dipenuhinya syarat \\numum, bahwa terpidana tidak akan melakukan tindak pidana, dan syarat-syarat \\nkhusus jika sekiranya ditetapkan.\\n(5) Perintah tersebut dalam ayat 1 harus disertai hal-hal atau keadaan-keadaan \\nyang menjadi alasan perintah itu.\\nPasal 14b\\n(1) Masa percobaan bagi kejahatan dan pelanggaran dalam pasal-pasal 492, 504, \\n505, 506, dan 536 paling lama tiga tahun dan bagi pelanggaran lainnya paling \\nlama dua tahun.\\n(2) Masa percobaan dimulai pada saat putusan telah menjadi tetap dan telah \\ndiberitahukan kepada terpidana menurut cara yang ditentukan dalam undang-undang.\\n(3) Masa percobaan tidak dihitung selama terpidana ditahan secara sah.\\nPasal 14c \\n(1) Dengan perintah yang dimaksud pasal 14a, kecuali jika dijatuhkan pidana \\ndenda, selain menetapkan syarat umum bahwa terpidana tidak akan melakukan tindak \\npidana, hakim dapat menetapkan syarat khusus bahwa terpidana tindak pidana , \\nhakim dapat menerapkan syarat khusus bahwa terpidana dalam waktu tertentu, yang \\nlebih pendek daripada masa percobaannya, harus mengganti segala atau sebagian \\nkerugian yang ditimbulkan oleh tindak pidana tadi.\\n(2) Apabila hakim menjatuhkan pidana penjara lebih dari tiga bulan atau pidana \\nkurungan atas salah satu pelanggaran berdasarkan pasal-pasal 492, 504, 505, 506, \\ndan 536, maka boleh diterapkan syarat-syarat khusus lainnya mengenai tingkah \\nlaku terpidana yang harus dipenuhi selama masa percobaan atau selama sebagian \\ndari masa percobaan.\\n(3) Syarat-syarat tersebut di atas tidak boleh mengurangi kemerdekaan beragama \\natau kemerdekaan berpolitik terpidana.\\nPasal 14d\\n(1) Yang diserahi mengawasi supaya syarat-syarat dipenuhi, ialah pejabat yang \\nberwenang menyuruh menjalankan putusan, jika kemidian ada perintah untuk \\nmenjalankan putusan.\\n(2) Jika ada alasan, hakim dapat perintah boleh mewajibkan lembaga yang \\nberbentuk badan hukum dan berkedudukan di Indonesia, atau kepada pemimpin suatu \\nrumah penampungan yang berkedudukan di situ, atau kepada pejabat tertentu, \\nsupaya memberi pertolongan atau bantuan kepada terpidana dalam memenuhi \\nsyarat-syarat khusus.\\n(3) Aturan-aturan lebih lanjut mengenai pengawasan dan bantuan tadi serta \\nmengenai penunjukan lembaga dan pemimpin rumah penampungan yang dapat diserahi \\ndengan bantuan itu, diatur dengan undang-undang.\\nPasal 14e\\nAtas usul pejabat dalam pasal ayat 1, atau atas permintaan terpidana, hakim yang \\nmemutus perkara dalam tingkat pertama, selama masa percobaan, dapat mengubah \\nsyarat-syarat khusus dalam masa percobaan. Hakim juga boleh memerintahkan orang \\nlain daripada orang yang diperintahkan semula, supaya memberi bantuan kepada \\nterpidana dan juga boleh memperpanjang masa percobaan satu kali, paling banyak \\ndengan separuh dari waktu yang paling lama dapat diterapkan untuk masa \\npercobaan.\\nPasal 14f\\n(1) Tanpa mengurangi ketentuan pasal diatas, maka ats usul pejabat tersebut \\ndalam pasal 14d ayat 1, hakim yang memutus perkara dalam tingkat pertama dapat \\nmemerintahkan supaya pidananya dijalankan, atau memerintahkan supaya atas \\nnamanya diberi peringatan pada terpidana, yaitu jika terpidana selama masa \\npercobaan melakukan tindak pidana dan karenanya ada pemidanaan yang menjadi \\ntetap, atau jika salah satu syarat lainnya tidak dipenuhi, ataupun jika \\nterpidana sebelum masa percobaan habis dijatuhi pemidanaan yang menjadi tetap, \\nkarena melakukan tindak pidana selama masa percobaan mulai berlaku. Ketika \\nmemberi peringatan, hakim harus menentukan juga cara bagaimana memberika \\nperingatan itu.\\n(2) Setelah masa percobaan habis, perintah supaya pidana dijalankan tidak dapat \\ndiberikan lagi, kecuali jika sebelum masa percobaan habis, terpidana dituntut \\nkarena melakukan tindak pidana di dalam masa percobaan dan penuntutan itu \\nkemudian berakhir dengan pemidanan yang memnjadi tetap. Dalam hal itu, dalam \\nwaktu dua bulan setelah pemidanaan menjadi tetap, hakim masih boleh \\nmemerintahkan supaya pidananya dijalankan, karena melakukan tindak pidana tadi. \\nPasal 15\\n(1) Jika terpidana telah menjalani dua pertiga dari lamanya pidana penjara yang \\ndijatuhkan kepadanya, sekurang-kurangnya harus sembilan bulan, maka ia dapat \\ndikenakan pelepasan bersyarat. Jika terpidana harus menjalani beberapa pidana \\nberturut- turut, pidana itu dianggap sebagai satu pidana.\\n(2) Ketika memberikan pelepasan bersyarat, ditentukan pula suatu masa percobaan, \\nserta ditetapkan syarat-syarat yang harus dipenuhi selama masa percobaan.\\n(3) Masa percobaan itu lamanya sama dengan sisa waktu pidana penjara yang belum \\ndijalani, ditambah satu tahun. Jika terpidana ada dalam tahanan yang sah, maka \\nwaktu itu tidak termasuk masa percobaan.\\nPasal 15a\\n(1) Pelepasan bersyarat diberikan dengan syarat umum bahwa terpidana tidak akan \\nmelakukan tindak pidana dan perbuatan lain yang tidak baik.]\\n(2) Selain itu, juga boleh ditambahkan syarat-syarat khusus mengenai kelakuan \\nterpidana, asal saja tidak mengurangi kemerdekaan beragama dan kemerdekaan \\nberpolitik.\\n(3) Yang diserahi mengawasi supaya segala syarat dipenuhi ialah pejabat tersebut \\ndalam pasal 14d ayat 1.\\n(4) Agar supaya syarat-syarat dipenuhi, dapat diadakan pengawasan khusus yang \\nsemata- mata harus bertujuan memberi bantuan kepada terpidana.\\n(5) Selama masa percobaan, syarat-syarat dapat diubah atau di hapus atau dapat \\ndiadakan syarat-syarat khusus baru; begitu juga dapat diadakan pengawasan \\nkhusus. Pengawasan khusus itu dapat diserahkan kepada orang lain daripada orang \\nyang semula diserahi.\\n(6) Orang yang mendapat pelepasan bersyarat diberi surat pas yang memuat \\nsyarat-syarat yang harus dipenuhinya. Jika hal-hal yang tersebut dalam ayat di \\natas dijalankan, maka orang itu diberi surat pas baru.\\nPasal 15b\\n(1) Jika orang yang diberi pelepasan bersyarat selama masa percobaan melakukan \\nhal-hal yang melanggar syarat-syarat tersebut dalam surat pasnya, maka pelepasan \\nbersyarat dapat dicabut. Jika ada sangkaan keras bahwa hal-hal di atas \\ndilakukan, Menteri Kehakiman dapat menghentikan pelepasan bersyarat tersebut \\nuntuk sementara waktu. \\n(2) Waktu selama terpidasna dilepaskan bersyarat sampai menjalani pidana lagi, \\ntidak termasuk waktu pidananya.\\n(3) Jika tiga bulan setelah masa percobaan habis, pelepasan bersyarat tidak \\ndapat dicabut kembali, kecuali jika sebelum waktu tiga bulan lewat, terpidana \\ndituntut karena melakukan tindak pidana pada masa percobaan, dan tuntutan \\nberakhir dengan putusan pidana yang menjadi tetap. Pelepasan bersyarat masih \\ndapat dicabut dalam waktu tiga bulan bersyarat masih dapat dicabut dalam waktu \\ntiga bulan setelah putusan menjadi tetap berdasarkan pertimbangan bahwa \\nterpidana melakukan tindak pidana selama masa percobaan.\\nPasal 16\\n(1) Ketentuan pelepasan bersyarat ditetapkan oleh Menteri Kehakiman atas usul \\natau setelah mendapat kabar dari pengurus penjara tempat terpidana, dan setelah \\nmendapat keterangan dari jaksa tempat asal terpidana. Sebelum menentukan, harus \\nditanya dahulu pendapat Dewan Reklasering Pusat, yang tugasnya diatur oleh \\nMenteri Kehakiman.\\n(2) Ketentuan mencabut pelepasan bersyarat, begitu juga hal-hal yang tersebut \\ndalam pasal 15a ayat 5, ditetapkan oleh Menteri Kehakiman atas usul atau setelah \\nmendapat kabar dari jaksa tempat asal terpidana. Sebelum memutus, harus ditanya \\ndahulu pendapat Dewan Reklasering Pusat.\\n(3) Selama pelepasan masih dapat dicabut, maka atas perintah jaksa tempat dimana \\ndia berada, orang yang dilapaskan bersyarat orang yang dilepaskan bersyarat \\ndapat ditahan guna menjaga ketertiban umum, jika ada sangkaan yang beralasan \\nbahwa orang itu selama masa percobaan telah berbuat hal-hal yang melanggar \\nsyarat-syarat tersebut dalam surat pasnya. Jaksa harus segera memberitahukan \\npenahanan itu kepada Menteri Kehakiman.\\n(4) Waktu penahanan paling lama enam puluh ahri. Jika penahanan disusul dengan \\npenghentian untuk sementara waktu atau pencabutan pelepasan bersyarat, maka \\norang itu dianggap meneruskan menjalani pidananya mulai dari tahanan.\\nPasal 17\\nContoh surat pas dan peraturan pelaksanaan pasal-pasal 15, 15a, dan 16 diatur \\ndengan undang-undang.\\nPasal 18\\n(1) Pidana kurungan paling sedikit satu hari dan paling lama satu tahun.\\n(2) Jika ada pidana yang disebabkan karena perbarengan atau pengulangan atau \\nkarena ketentuan pasal 52, pidana kurungan dapat ditambah menjadi satu tahun \\nempat bulan.\\n(3) Pidana kurungan sekali-kali tidak boleh lebih dari satu tahun empat bulan.\\nPasal 19\\n(1) Orang yang dijatuhi pidana kurungan wajib menjalankan pekerjaan yang \\ndibebankan kepadanya, sesuai dengan aturan-aturan pelaksanaan pasal 29.\\n(2) Ia diserahi pekerjaan yang lebih ringan daripada orang yang dijatuhi pidana \\npenjara.\\nPasal 20\\n(1) Hakim yang menjatuhkan pidana penjara atau pidana kurungan paling lama satu \\nbulan, boleh menetapkan bahwa jaksa dapat mengizinkan terpidana bergerak dengan \\nbebas di luar penjara sehabis waktu kerja.\\n(2) Jika terpidana yang mendapat kebebasan itu mendapat kebebasan itu tidak \\ndatang pada waktu dan tempat yang telah ditentukan untuk menjalani pekerjaan \\nyang dibebankan kepadanya, maka ia harus menjalani pidananya seperti biasa \\nkecuali kalau tidak datangnya itu bukan karena kehendak sendiri.\\n(3) Ketentuan dalam ayat 1 tidak diterapkan kepada terpidana karena terpidana \\njika pada waktu melakukan tindak pidana belum ada dua tahun sejak ia habis \\nmenjalani pidana penjara atau pidana kurungan.\\nPasal 21\\nPidana kurungan harus dijalani dalam daerah dimana si terpidana berdiam ketika \\nputusan hakim dijalankan, atau jika tidak punya tempat kediaman, di dalam daerah \\ndimana ia berada, kecuali kalau Menteri Kehakiman atas permintaannya terpidana \\nmembolehkan menjalani pidananya di daerah lain.\\nPasal 22\\n(1) Terpidana yang sedang menjalani pidana hilang kemerdekaan di suatu tempat \\nyang digunakan untuk menjalani pidana penjara, atau pidana kurungan, atau \\nkedua-duanya, segera sehabis pidana habis hilang kemerdekaan itu selesai, kalau \\ndiminta, boleh menjalani kurungan di tempat itu juga.\\n(2) Pidana kurungan karena sebab di atas dijalani di tempat yang khusus untuk \\nmenjalani pidana penjara, tidak berubah sifatnya oleh karena itu.\\nPasal 23\\nOrang yang dijatuhi pidana kurungan, dengan biaya sendiri boleh sekedar \\nmeringankan nasibnya menurut aturan-aturan yang akan ditetapkan dengan \\nundang-undang.\\nPasal 24\\nOrang yang dijatuhi pidana penjara atau pidana kurungan boleh diwajibkan bekerja \\ndi dalam atau di luar tembok tempat orang-orang terpidana.\\nPasal 25\\nYang tidak boleh diserahi pekerjaan di luar tembok tempat tersebut ialah:\\n1. Orang-orang yang di jatuhi pidana penjara seumur hidup;\\n2. Para wanita;\\n3. Orang-orang yang menurut pemeriksaan dokter tidak boleh menjalankan pekerjaan \\ndemikian.\\nPasal 26\\nJikalau mengingat keadaan diri atau masyarakat terpidana, hakim menimbang ada \\nalasan, maka dalam putusan ditentukan bahwa terpidana tidak boleh diwajibkan \\nbekerja di luar tembok tempat orang-orang terpidana.\\nPasal 27\\nLamanya pidana penjara untuk waktu tertentu dan pidana kurungan dalam putusan \\nhakim dinyatakan dengan hari, minggu, bulan, dan tahun; tidak boleh dengan \\npecahan.\\nPasal 28\\nPidana penjara dan pidana kurungan dapat dilaksanakan di satu tempat asal saja \\nterpisah.\\nPasal 29\\n(1) Hal menunjuk tempat untuk menjalani pidana penjara, pidana kurungan, atau \\nkedua- duanya, begitu juga hal mengatur dan mengurus tempat-tempat itu, hal \\nmembedakan orang terpidana dalam golongan-golongan, hal mengatur pemberian \\npengajaran, penyelenggaraan ibadat, hal tata tertib, hal tempat untuk tidur, hal \\nmakanan, dan pakaian, semuanya itu diatur dengan undang-undang sesuai dengan \\nkitab undang-undang sesuai dengan kitab undang-undang ini.\\n(2) Jika perlu, Menteri Kehakiman menetepkan aturan rumah tangga untuk \\ntempat-tempat orang terpidana.\\nPasal 30\\n(1) Pidana denda paling sedikit tiga rupiah tujuh puluh lima sen.\\n(2) Jika pidana denda tidak dibayar, ia diganti dengan pidana kurungan.\\n(3) Lamanya pidana kurungan pengganti paling sedikit satu hari dan paling lama \\nenam bulan.\\n(4) Dalam putusan hakim, lamanya pidana kurungan pengganti ditetapkan demikian; \\njika pidana dendanya tujuh rupiah lima puluh dua sen atau kurungan, di hitung \\nsatu hari; jika lebih dari lima rupiah lima puluh sen, tiap-tiap tujuh rupiah \\nlima puluh sen di hitung paling banyak satu hari demikian pula sisanya yang \\ntidak cukup tujuh rupiah lima puluh sen.\\n(5) Jika ada pemberatan pidana denda disebabkan karena perbarengan atau \\npengulangan, atau karena ketentuan pasal 52, maka pidana kurungan pengganti \\npaling lama delapan bulan.\\n(6) Pidana kurungan pengganti sekali-kali tidak boleh lebih dari delapan bulan.\\nPasal 31\\n(1) Terpidana dapat menjalani pidana kurungan pengganti tanpa menunggu batas \\nwaktu pembayaran denda.\\n(2) Ia selalu berwenang membebaskan dirinya dari pidana kurungan pengganti \\ndengan membayar dendanya.\\n(3) Pembayaran sebagian dari pidana denda, baik sebelum maupun sesudah mulai \\nmenjalani pidana kurungan yang seimbang dengan bagian yang dibayarnya.\\nPasal 32\\n(1) Pidana penjara dan pidana kurungan mulai berlaku bagi terpidana yang sudah \\ndi dalam tahanan sementara, pada hari ketika putusan hakim menjadi tetap, dan \\nbagi terpidana lainnya pada hari ketika putusan hakim mulai dijalankan.\\n(2) jika dalam putusan hakim dijatuhkan pidana penjara dan pidana kurungan atas \\nbeberapa perbuatan pidana, dan kemudian putusan itu bagi kedua pidana tadi \\nmenjadi tetap pada waktu yang sama, sedangkan terpidana sudah ada dalam tahanan \\nsementara karena kedua atau salah satu perbuatan pidana itu, maka pidana penjara \\nmulai berlaku pada saat ketika putusan hakim menjadi tetap, dan pidana kurungan \\nmulai berlaku setelah pidana penjara habis.\\nPasal 33\\n(1) Hakim dalam putusannya boleh menentukan bahwa waktu terpidana ada dalam \\ntahanan sementara sebelum putusan menjadi tetap, seluruhnya atau sebagian di \\npotong dari pidana penjara selama waktu tertentu dari pidana kurungan atau dari \\npidana denda yang dijatuhkan kepadanya; dalam hal pidana denda dengan memakai \\nukuran menurut pasal 31 ayat 3.\\n(2) Waktu selama seorang terdakwa dalam tahanan sementara yang tidak berdasarkan \\nsurat perintah, tidak dipotong dari pidananya, kecuali jika pemotongan itu \\ndinyatakan khusus dalam putusan hakim.\\n(3) Ketentuan pasal ini berlaku juga dalam hal terdakwa oleh sebab dituntut \\nbareng karena melakukan beberapa tindak pidana, kemudian dipidana karena \\nperbuatan lain daripada yang didakwakan kepadanya waktu ditahan sementara.\\nPasal 33a\\nJika orang yang ditahan sementara di jatuhi pidana penjara atau pidana kurungan, \\ndan kemudian dia sendiri atau orang lain dengan persetujuannya mengajukan \\npermohonan ampun, waktu mulai permohonan diajukan hingga ada putusan Presiden, \\ntidak dihitung sebagai waktu menjalani pidana, kecuali jika Presiden, dengan \\nmengingat keadaan perkaranya, menentukan bahwa waktu itu seluruhnya atau \\nsebagian dihitung sebagai waktu menjalani pidana.\\nPasal 34\\nJika terpidana selama menjalani pidana melarikan diri, maka waktu selama di luar \\ntempat menjalani pidana tidak dihitung sebagai waktu menjalani pidana.\\nPasal 35\\n(1) Hak-hak terpidana yang dengan putusan hakim dapat dicabut dalam hal-hal yang \\nditentukan dalam kitab undang-undang ini, atau dalam aturan umum lainnya ialah:\\n1. hak memegang jabatan pada umumnya atau jabatan yang tertentu;\\n2. hak memasuki Angkatan Bersenjata;\\n3. hak memilih dan dipilih dalam pemilihan yang diadakan berdasarkan \\naturan-aturan umum.\\n4. hak menjadi penasehat hukum atau pengurus atas penetapan pengadilan, hak \\nmenjadi wali, wali pengawas, pengampu atau pengampu pengawas, atas orang yang \\nbukan anak sendiri;\\n5. hak menjalankan kekuasaan bapak, menjalankan perwalian atau pengampuan atas \\nanak sendiri;\\n6. hak menjalankan mata pencarian tertentu.\\n(2) Hakim tidak berwenang memecat seorang pejabat dari jabatannya, jika dalam \\naturan- aturan khusus di tentukan penguasa lain untuk pemecatan itu.\\nPasal 36\\nHak memegang jabatan pada umumnya atau jabatan tertentu dan hak memasuki \\nAngkatan Bersenjata, kecuali dalam hal yang diterangkan dalam Buku Kedua, dapat \\ndi cabut dalam hal pemidanaan karena kejahatan jabatan atau kejahatan yang \\nmelanggar kewajiban khusus sesuatu jabatan, atau karena memakai kekuasaan, \\nkesempatan atau sarana yang diberikan pada terpidana karena jabatannya.\\nPasal 37\\n(1) Kekuasaan bapak, kekuasaan wali, wali pengawas, pengampu, dan pengampu \\npengawas, baik atas anak sendiri maupun atas orang lain, dapat dicabut dalam hal \\npemidanaan:\\n1. orang tua atau wali yang dengan sengaja melakukan kejahatan bersama-sama \\ndengan anak yang belum dewasa yang ada di bawah kekuasaannya;\\n2. orang tua atau wali terhadap anak yang belum dewasa yang ada di bawah \\nkekuasaannya, melakukan kejahatan, yang tersebut dalam bab XIII, XIV, XV, XVIII, \\nXIX, dan XX Buku Kedua.\\n(2) Pencabutan tersebut dalam ayat 1 tidak boleh dilakukan oleh hakim pidana \\nterhadap orang-orang yang baginya diterapkan undang-undang hukum perdata tentang \\npencabutan kekuasaan orang tua, kekuasaan wali dan kekuasaan pengampu.\\nPasal 38\\n(1) Jika dilakukan pencabutan hak, hakim menentukan lamanya pencabutan sebagai \\nberikut:\\n1. dalam hal pidana mati atau pidana penjara seumur hidup, lamanya pencabutan \\nseumur hidup;\\n2. dalam hal pidana penjara untuk waktu tertentu atau pidana kurungan, lamanya \\npencabutan paling sedikit dua tahun dan paling banyak lima tahun lebih lama dari \\npidana pokoknya;\\n3. dalam hal pidana denda, lamanya pencabutan paling sedikit dua tahun dan \\npaling banyak lima tahun.\\n(2) Pencabutan hak mulai berlaku pada hari putusan hakim dapat dijalankan.\\nPasal 39\\n(1) Barang-barang kepunyaan terpidana yang diperoleh dari kejahatan atau yang \\nsengaja dipergunakan untuk melakukan kejahatan, dapat dirampas.\\n(2) Dalam hal pemidanaan karena kejahatan yang tidak dilakukan dengan sengaja \\natau karena pelanggaran, dapat juga dijatuhkan putusan perampasan berdasarkan \\nhal-hal yang ditentukan dalam undang-undang.\\n(3) Perampasan dapat dilakukan terhadap orang yang bersalah yang diserahkan \\nkepada pemerintah, tetapi hanya atas barang-barang yang telah disita.\\nPasal 40\\nJika seorang di bawah umur enam belas tahun mempunyai, memasukkan atau \\nmengangkut barang-barang denga melanggar aturan-aturan mengenai pengawasan \\npelayaran di bagian-bagian Indonesia yang tertentu, atau aturan-aturan mengenai \\nlarangan memasukkan, mengeluarkan, dan meneruskan pengangkutan barang-barang, \\nmaka hakim dapat menjatuhkan pidana perampasan atas barang-barang itu, juga \\ndalam hal yang bersalah diserahkan kembali kepada orang tuanya, walinya atau \\npemeliharanya tanpa pidana apapun.\\nPasal 41\\n(1) Perampasan atas barang-barang yang disita sebelumya, diganti menjadi pidana \\nkurungan, apabila barang-barang itu tidak diserahkan, atau harganya menurut \\ntaksiran dalam putusan hakim, tidak di bayar.\\n(2) Pidana kurungan pengganti ini paling sedikit satu hari dan paling lama enam \\nbulan.\\n(3) Lamanya pidana kurungan pengganti ini dalam putusan hakim ditentukan sebagai \\nberikut: tujuh rupiah lima puluh sen atau kurang di hitung satu hari; jika lebih \\ndari tujuh rupiah lima puluh sen, tiap-tiap tujuh rupiah lima puluh sen dihitung \\npaling banyak satu hari, demikian pula sisanya yang tidak cukup tujuh rupiah \\nlima puluh sen.\\n(4) Pasal 31 diterapkan bagi pidana kurungan pengganti ini.\\n(5) Jika barang-barang yang dirampas diserahkan, pidana kurungan pengganti ini \\njuga di hapus.\\nPasal 42\\nSegala biaya untuk pidana penjara dan pidana kurungan dipikul oleh negara, dan \\nsegala pendapatan dari pidana denda dan perampasan menjadi milik negara.\\nPasal 43\\nApabila hakim memerintahkan supaya putusan diumumkan berdasarkan kitab undang- \\nundang ini atau aturan-aturan umum lainnya, maka ia harus menetapkan pula \\nbagaimana cara melaksanakan perintah itu atas biaya terpidana.\\nBab III - Hal-Hal yang Menghapuskan, Mengurangi atau Memberatkan Pidana\\nPasal 44 \\n(1) Barang siapa melakukan perbuatan yang tidak dapat dipertanggungkan kepadanya \\nkarena jiwanya cacat dalam pertumbuhan atau terganggu karena penyakit, tidak \\ndipidana.\\n(2) Jika ternyata perbuatan itu tidak dapat dipertanggungkan kepada pelakunya \\nkarena pertumbuhan jiwanya cacat atau terganggu karena penyakit, maka hakim \\ndapat memerintahkan supaya orang itu dimasukkan ke rumah sakit jiwa, paling lama \\nsatu tahun sebagai waktu percobaan.\\n(3) Ketentuan dalam ayat 2 hanya berlaku bagi Mahkamah Agung, Pengadilan Tinggi, \\ndan Pengadilan Negeri. \\nPasal 45\\nDalam hal penuntutan pidana terhadap orang yang belum dewasa karena melakukan \\nsuatu perbuatan sebelum umur enam belas tahun, hakim dapat menentukan: \\nmemerintahkan supaya yang bersalah dikembalikan kepada orang tuanya, walinya \\natau pemeliharanya, tanpa pidana apa pun; atau memerintahkan supaya yang \\nbersalah diserahkan kepada pemerintah tanpa pidana apa pun, jika perbuatan \\nmerupakan kejahatan atau salah satu pelanggaran berdasar- kan pasal-pasal 489, \\n490, 492, 496, 497, 503 - 505, 514, 517 - 519, 526, 531, 532, 536, dan 540 serta \\nbelum lewat dua tahun sejak dinyatakan bersalah karena melakukan kejahatan atau \\nsalah satu pelanggaran tersebut di atas, dan putusannya telah menjadi tetap; \\natau menjatuhkan pidana kepada yang bersalah. \\nPasal 46\\n(1) Jika hakim memerintahkan supaya yang bersalah diserahkan kepada pemerintah, \\nmaka ia dimasukkan dalam rumah pendidikan negara supaya menerima pendidikan dari \\npemerintah atau di kemudian hari dengan cara lain, atau diserahkan kepada \\nseorang tertentu yang bertempat tinggal di Indonesia atau kepada sesuatu badan \\nhukum, yayasan atau lembaga amal yang berkedudukan di Indonesia untuk \\nmenyelenggarakan pendidikannya, atau di kemudian hari, atas tanggungan \\npemerintah, dengan cara lain; dalam kedua hal di atas, paling lama sampai orang \\nyang bersalah itu mencapai umur delapan belas tahun.\\n(2) Aturan untuk melaksanakan ayat 1 pasal ini ditetapkan dengan undang-undang. \\nPasal 47\\n(1) Jika hakim menjatuhkan pidana, maka maksimum pidana pokok terhadap tindak \\npidananya dikurangi sepertiga.\\n(2) Jika perbuatan itu merupakan kejahatan yang diancam dengan pidana mati atau \\npidana penjara seumur hidup, maka dijatuhkan pidana penjara paling lama lima \\nbelas tahun.\\n(3) Pidana tambahan dalam pasal 10 butir b, nomor 1 dan 3, tidak dapat \\nditerapkan.\\nPasal 48\\nBarang siapa melakukan perbuatan karena pengaruh daya paksa, tidak dipidana.\\nPasal 49\\n(1) Tidak dipidana, barang siapa melakukan perbuatan pembelaan terpaksa untuk \\ndiri sendiri maupun untuk orang lain, kehormatan kesusilaan atau harta benda \\nsendiri maupun orang lain, karena ada serangan atau ancaman serangan yang sangat \\ndekat pada saat itu yang melawan hukum.\\n(2) Pembelaan terpaksa yang melampaui batas, yang langsung disebabkan oleh \\nkeguncangan jiwa yang hebat karena serangan atau ancaman serangan itu, tidak \\ndipidana.\\nPasal 50\\nBarang siapa melakukan perbuatan untuk melaksanakan ketentuan undang-undang, \\ntidak dipidana.\\nPasal 51\\n(1) Barang siapa melakukan perbuatan untuk melaksanakan perintah jabatan yang \\ndiberikan oleh penguasa yang berwenang, tidak dipidana.\\n(2) Perintah jabatan tanpa wewenang, tidak menyebabkan hapusnya pidana, kecuali \\njika yang diperintah, dengan itikad baik mengira bahwa perintah diberikan dengan \\nwewenang dan pelaksanaannya termasuk dalam lingkungan pekerjaannya.\\nPasal 52\\nBilamana seorang pejabat karena melakukan perbuatan pidana melanggar suatu \\nkewajiban khusus dari jabatannya , atau pada waktu melakukan perbuatan pidana \\nmemakai kekuasaan, kesempatan atau sarana yang diberikan kepadanya karena \\njabatannya, pidananya dapat ditambah sepertiga.\\nPasal 52a\\nBilamana pada waktu melakukan kejahatan digunakan bendera kebangsaan Republik \\nIndonesia, pidana untuk kejahatan tersebut ditambah sepertiga. \\nBab IV - Percobaan\\nPasal 53\\n(1) Mencoba melakukan kejahatan dipidana, jika niat untuk itu telah ternyata \\ndari adanya permulaan pelaksanaan, dan tidak selesainya pelaksanaan itu, bukan \\nsemata-mata disebabkan karena kehendaknya sendiri.\\n(2) Maksimum pidana pokok terhadap kejahatan, dalam hal percobaan dikurangi \\nsepertiga.\\n(3) Jika kejahatan diancam dengan pidana mati atau pidana penjara seumur hidup, \\ndijatuhkan pidana penjara paling lama lima belas tahun.\\n(4) Pidana tambahan bagi percobaan sama dengan kejahatan selesai.\\nPasal 54\\nMencoba melakukan pelanggaran tidak dipidana.\\nBab V - Penyertaan dalam Tindak Pidana\\nPasal 55 \\n(1) Dipidana sebagai pelaku tindak pidana:\\n1. mereka yang melakukan, yang menyuruh melakukan, dan yang turut serta \\nmelakukan perbuatan;\\n2. mereka yang dengan memberi atau menjanjikan sesuatu dengan menyalahgunakan \\nkekuasaan atau martabat, dengan kekerasan, ancaman atau penyesatan, atau dengan \\nmemberi kesempatan, sarana atau keterangan, sengaja menganjurkan orang lain \\nsupaya melakukan perbuatan.\\n(2) Terhadap penganjur, hanya perbuatan yang sengaja dianjurkan sajalah yang \\ndiperhitungkan, beserta akibat-akibatnya.\\nPasal 56\\nDipidana sebagai pembantu kejahatan:\\n1. mereka yang sengaja memberi bantuan pada waktu kejahatan dilakukan;\\n2. mereka yang sengaja memberi kesempatan, sarana atau ke- terangan untuk \\nmelakukan kejahatan.\\nPasal 57\\n(1) Dalam hal pembantuan, maksimum pidana pokok terhadap kejahatan, dikurangi \\nsepertiga.\\n(2) Jika kejahatan diancam dengan pidana mati atau pidana penjara seumur hidup, \\ndijatuhkan pidana penjara paling lama lima belas tahun.\\n(3) Pidana tambahan bagi pembantuan sama dengan kejahatannya sendiri.\\n(4) Dalam menentukan pidana bagi pembantu, yang diperhitungkan hanya perbuatan \\nyang sengaja dipermudah atau diperlancar olehnya, beserta akibat-akibatnya.\\nPasal 58\\nDalam menggunakan aturan-aturan pidana, keadaan-keadaan pribadi seseorang, yang \\nmenghapuskan, mengurangi atau memberatkan pengenaan pidana, hanya diperhitungkan \\nterhadap pembuat atau pembantu yang bersangkutan itu sendiri.\\nPasal 59\\nDalam hal-hal di mana karena pelanggaran ditentukan pidana terhadap pengurus, \\nanggota-anggota badan pengurus atau komisaris-komisaris, maka pengurus, anggota \\nbadan pengurus atau komisaris yang ternyata tidak ikut campur melakukan \\npelanggaran tidak dipidana. \\nPasal 60\\nMembantu melakukan pelangaran tidak dipidana.\\nPasal 61\\n(1) Mengenai kejahatan yang dilakukan dengan percetakan, penertiban selaku \\ndemikian tidak dituntut apabila dalam barang cetakkan disebut nama dan tempat \\ntinggalnya, sedangkan pembuatnya dikenal, atau setelah dimulai penuntutan, pada \\nwaktu ditegur pertama kali lalu diberitahukan kepada penerbit.\\n(2) Aturan ini tidak berlaku jika pelaku pada saat barang cetakkan terbit, tidak \\ndapat dituntut atau sudah menetap di luar Indonesia.\\nPasal 62\\n(1) Mengenai kejahatan yang dilakukan dengan percetakan, pencetaknya selaku \\ndemikian tidak dituntut apabila dalam barang cetakkan disebut nama dan tempat \\ntinggalnya, sedangkan orang yang menyuruh mencetak dikenal, atau setelah dimulai \\npenuntutan, pada waktu ditegur pertama kali lalu diberitahukan oleh pencetak.\\n(2) Aturan ini tidak berlaku, jika orang yang menyuruh mencetak pada saat barang \\ncetakkan terbit, tidak dapat dituntut sudah menetap di luar Indonesia.\\nBab VI - Perbarengan Tindak Pidana\\nPasal 63\\n(1) Jika suatu perbuatan masuk dalam lebih dari satu aturan pidana, maka yang \\ndikenakan hanya salah satu di antara aturan-aturan itu; jika berbeda-beda, yang \\ndikenakan yang memuat ancaman pidana pokok yang paling berat.\\n(2) Jika suatu perbuatan masuk dalam suatu aturan pidana yang umum, diatur pula \\ndalam aturan pidana yang khusus, maka hanya yang khusus itulah yang diterapkan.\\nPasal 64\\n(1) Jika antara beberapa perbuatan, meskipun masing-masing merupakan kejahatan \\natau pelanggaran, ada hubungannya sedemikian rupa sehingga harus dipandang \\nsebagai satu perbuatan berlanjut, maka hanya diterapkan satu aturan pidana; jika \\nberbeda-beda, yang diterapkan yang memuat ancaman pidana pokok yang paling \\nberat.\\n(2) Demikian pula hanya dikenakan satu aturan pidana, jika orang dinyatakan \\nbersalah melakukan pemalsuan atau perusakan mata uang, dan menggunakan barang \\nyang dipalsu atau yang dirusak itu.\\n(3) Akan tetapi, jika orang yang melakukan kejahatan-kejahatan tersebut dalam \\npasal- pasal 364, 373, 379, dan 407 ayat 1, sebagai perbuatan berlanjut dan \\nnilai kerugian yang ditimbulkan jumlahnya melebihi dari tiga ratus tujuh puluh \\nlima rupiah, maka ia dikenakan aturan pidana tersebut dalam pasal 362, 372, 378, \\ndan 406.\\nPasal 65\\n(1) Dalam hal perbarengan beberapa perbuatan yang harus dipandang sebagai \\nperbuatan yang berdiri sendiri sehingga merupakan beberapa kejahatan, yang \\ndiancam dengan pidana pokok yang sejenis, maka dijatuhkan hanya satu pidana.\\n(2) Maksimum pidana yang dijatuhkan ialah jumlah maksimum pidana yang diancam \\nterhadap perbuatan itu, tetapi boleh lebih dari maksimum pidana yang trerberat \\nditambah sepertiga.\\nPasal 66\\n(1) Dalam hal perbarengan beberapa perbuatan yang masing-masing harus dipandang \\nsebagai perbuatan yang berdiri sendiri sehingga merupakan beberapa kejahatan, \\nyang diancam dengan pidana pokok yang tidak sejenis , maka dijatuhkan pidana \\natas tiap-tiap kejahatan, tetapi jumlahnya tidak boleh melebihi maksimum pidana \\nyang terberat ditambah sepertiga.\\n(2) Pidana denda adalah hal itu dihitung menurut lamanya maksimum pidana \\nkurungan pengganti yang ditentukan untuk perbuatan itu. \\nPasal 67 \\nJika orang dijatuhi pidana mati atau pidana penjara seumur hidup, di samping itu \\ntidak boleh dijatuhkan pidana lain lagi kecuali pencabutan hak-hak tertentu, dan \\npengumuman putusan hakim.\\nPasal 68 \\n(1) Berdasarkan hal-hal dalam pasal 65 dan 66, tentang pidana tambahan berlaku \\naturan sebagai berikut:\\n1. pidana-pidana pencabutan hak yang sama dijadikan satu, yang lamanya paling \\nsedikit dua tahun dan paling banyak lima tahun melebihi pidana pokok atau \\npidana-pidana pokok yang dijatuhkan. Jika pidana pokok hanya pidana denda saja, \\nmaka lamanya pencabutan hak paling sedikit dua tahun dan paling lama lima tahun;\\n2. pidana-pidana pencabutan hak yang berlainan dijatuhkan sendiri-sendiri tanpa \\ndikurangi;\\n3. pidana-pidana perampasan barang-barang tertentu, begitu pula halnya dengan \\npidana kurungan pengganti karena barang-barang tidak diserahkan, dijatuhkan \\nsendiri-sendiri tanpa dikurangi.\\n(2) pidana kurungan-kurungan pengganti jumlahnya tidak boleh melebihi delapan \\nbulan. \\nPasal 69\\n(1) Perbandingan beratnya pidana pokok yang tidak sejenis ditentukan menurut \\nurut- urutan dalam pasal 10.\\n(2) Jika hakim memilih antara beberapa pidana pokok, maka dalam perbandingan \\nhanya terberatlah yang dipakai.\\n(3) Perbandingan beratnya pidana-pidana pokok yang sejenis ditentukan menurut \\nmaksimumnya masing-masing.\\n(4) Perbandingan lamanya pidana-pidana pokok yang sejenis ditentukan menurut \\nmaksimumnya masing-masing.\\nPasal 70\\n(1) Jika ada perbarengan seperti yang dimaksudkan dalam pasal 65 dan 66, baik \\nperbarengan pelanggaran dengan kejahatan, maupun pelanggaran dengan pelanggaran, \\nmaka untuk tiap-tiap pelanggaran dijatuhkan pidana sendiri-sendiri tanpa \\ndikurangi.\\n(2) Mengenai pelanggaran, jumlah lamanya pidana kurungan dan pidana kurungan \\npengganti paling banyak satu tahun empat bulan, sedangkan jumlah lamanya pidana \\nkurungan pengganti, paling banyak delapan bulan.\\nPasal 70 bis\\nKetika menerapkan pasal-pasal 65, 66, dan 70, kejahatan-kejahatan berdasarkan \\npasal- pasal 302 ayat 1, 352, 364, 373,379, dan 482 dianggap sebagai \\npelanggaran, dengan pengertian jika dijatuhkan pidana-pidana penjara atas \\nkejahatan-kejahatan itu, jumlah paling banyak delapan bulan.\\nPasal 71\\nJika seseorang telah dijatuhi pidana, kemudian dinyatakan bersalah lagi karena \\nmelakukan kejahatan atau pelanggaran lain sebelum ada putusan pidana itu, maka \\npidana yang dahulu diperhitungkan pada pidana yang akan dijatuhkan dengan \\nmenggunakan aturan-aturan dalam bab ini mengenai hal perkara-perkara diadili \\npada saat yang sama.\\nBab VII - Mengajukan Dan Menarik Kembali Pengaduan Dalam Hal Kejahatan-Kejahatan \\nYang Hanya Dituntut Atas Pengaduan\\nPasal 72\\n(1) Selama orang yang terkena kejahatan yang hanya boleh dituntut atas \\npengaduan, dan orang itu umurnya belum cukup enam belas tahun dan lagi belum \\ndewasa, atau selama ia berada di bawah pengampuan yang disebabkan oleh hal lain \\ndaripada keborosan, maka wakilnya yang sah dalam perkara perdata yang berhak \\nmengadu;\\n(2) Jika tidak ada wakil, atau wakil itu sendiri yang harus diadukan, maka \\npenuntutan dilakukan atas pengaduan wali pengawas atau pengampu pengawas, atau \\nmajelis yang menjadi wali pengawas atau pengampu pengawas; juga mungkin atas \\npengaduan istrinya atau seorang keluarga sedarah dalam garis lurus, atau jika \\nitu tidak ada, atas pengaduan seorang keluarga sedarah dalam garis menyimpang \\nsampai derajat ketiga.\\nPasal 73\\nJika yang terkena kejahatan meninggal di dalam tenggang waktu yang ditentukan \\ndalam pasal berikut maka tanpa memperpanjang tenggang itu, penuntutan dilakukan \\natas pengaduan orang tuanya, anaknya, atau suaminya (istrinya) yang masih hidup \\nkecuali kalau ternyata bahwa yang meninggal tidak menghendaki penuntutan.\\nPasal 74\\n(1) Pengaduan hanya boleh diajukan dalam waktu enam bulan sejak orang yang \\nberhak mengadu mengetahui adanya kejahatan, jika bertempat tinggal di Indonesia, \\natau dalam waktu sembilan bulan jika bertempat tinggal di luar Indonesia.\\n(2) Jika yang terkena kejahatan berhak mengadu pada saat tenggang waktu tersebut \\ndalam ayat 1 belum habis, maka setelah saat itu, pengaduan masih boleh diajukan \\nhanya selama sisa yang masih kurang pada tenggang waktu tersebut.\\nPasal 75\\nOrang yang mengajukan pengaduan, berhak menarik kembali dalam waktu tiga bulan \\nsetelah pengaduan diajukan.\\nBab VIII - Hapusnya Kewenangan Menuntut Pidana Dan Menjalankan Pidana\\nPasal 76\\n(1) Kecuali dalam hal putusan hakim masih mungkin diulangi, orang tidak boleh \\ndituntut dua kali karena perbuatan yang oleh hakim Indonesia terhadap dirinya \\ntelah diadili dengan putusan yang menjadi tetap.\\nDalam artian hakim Indonesia, termasuk juga hakim pengadilan swapraja dan adat, \\ndi tempat-tempat yang mempunyai pengadilan-pengadilan tersebut.\\n(2) Jika putusan yang menjadi tetap itu berasal dari hakim lain, maka terhadap \\norang itu dan karena tindak pidana itu pula, tidak boleh diadakan penuntutan \\ndalam hal:\\n1. putusan berupa pembebasan dari tuduhan atau lepas dari tuntutan hukum;\\n2. putusan berupa pemidanaan dan telah dijalani seluruhnya atau telah diberi \\nampun atau wewenang untuk menjalankannya telah hapus karena daluwarsa.\\nPasal 77\\nKewenangan menuntut pidana hapus, jika tertuduh meninggal dunia.\\nPasal 78\\n(1) Kewenangan menuntut pidana hapus karena daluwarsa:\\n1. mengenai semua pelanggaran dan kejahatan yang dilakukan dengan percetakan \\nsesudah satu tahun; \\n2. mengenai kejahatan yang diancam dengan pidana denda, pidana kurungan, atau \\npidana penjara paling lama tiga tahun, sesudah enam tahun; \\n3. mengenai kejahatan yang diancam dengan pidana penjara lebih dari tiga tahun, \\nsesudah dua belas tahun; \\n4. mengenai kejahatan yang diancam dengan pidana mati atau pidana penjara seumur \\nhidup, sesudah delapan belas tahun.\\n(2) Bagi orang yang pada saat melakukan perbuatan umurnya belum delapan belas \\ntahun, masing-masing tenggang daluwarsa di atas dikurangi menjadi sepertiga.\\nPasal 79\\nTenggang daluwarsa mulai berlaku pada hari sesudah perbuatan dilakukan, kecuali \\ndalam hal-hal berikut:\\n1. mengenai pemalsuan atau perusakan mata uang, tenggang mulai berlaku pada hari \\nsesudah barang yang dipalsu atau mata uang yang dirusak digunakan:\\n2. mengenai kejahatan dalam pasal-pasal 328, 329, 330, dan 333, tenggang dimulai \\npada hari sesudah orang yang langsung terkena oleh kejahatan dibebaskan atau \\nmeninggal dunia;\\n3. mengenai pelanggaran dalam pasal 556 sampai dengan pasal 558a, tenggang \\ndimulai pada hari sesudah daftar-daftar yang memuat pelanggaran-pelanggaran itu, \\nmenurut aturan-aturan umum yang menentukan bahwa register-register catatan sipil \\nharus dipindah ke kantor panitera suatu pengadilan , dipindah ke kantor \\ntersebut.\\nPasal 80\\n(1) Tiap-tiap tindakan penuntutan menghentikan daluwarsa , asal tindakan itu \\ndiketahui oleh orang yang dituntut, atau telah diberitahukan kepadanya menurut \\ncara yang ditentukan dalam aturan-aturan umum.\\n(2) Sesudah dihentikan, dimulai tanggang daluwarsa baru.\\nPasal 81\\nPenundaan penuntutan pidana berhubung dengan adanya perselisihan pra-yudisial, \\nmenunda daluwarsa.\\nPasal 82\\n(1) Kewenangan menuntut pelanggaran yang diancam dengan pidana denda saja \\nmenjadi hapus, kalau dengan suka rela dibayar maksimum denda dan biaya-biaya \\nyang telah dikeluarkan kalau penuntutan telah dimulai, atas kuasa pejabat yang \\nditunjuk untuk itu oleh aturan-aturan umum , dan dalam waktu yang ditetapkan \\nolehnya.\\n(2) Jika di samping pidana denda ditentukan perampasan, maka barang yang dikenai \\nperampasan harus diserahkan pula, atau harganya harus dibayar menurut taksiran \\npejabat dalam ayat 1.\\n(3) Dalam hal-hal pidana diperberat karena pengulangan, pemberatan itu tetap \\nberlaku sekalipun kewenangan menuntut pidana terhadap pelanggaran yang dilakukan \\nlebih dahulu telah hapus berdasarkan ayat 1 dan ayat 2 pasal ini.\\n(4) Ketentuan-ketentuan dalam pasal ini tidak berlaku bagi orang yang belum \\ndewasa, yang pada saat melakukan perbuatan belum berumur enam belas tahun.\\nPasal 83\\nKewenangan menjalankan pidana hapus jika terpidana meninggal dunia.\\nPasal 84\\n(1) Kewenangan menjalankan pidana hapus karena daluwarsa.\\n(2) Tenggang daluwarsa mengenai semua pelanggaran lamanya dua tahun, mengenai \\nkejahatan yang dilakukan dengan sarana percetakan lamanya lima tahun, dan \\nmengenai kejahatan-kejahatan lainnya lamanya sama dengan tenggang daluwarsa bagi \\npenuntutan pidana, ditambah sepertiga.\\n(3) Bagaimanapun juga, tenggang daluwarsa tidak boleh kurang dari lamanya pidana \\nyang dijatuhkan.\\n(4) Wewenang menjalankan pidana mati tidak daluwarsa.\\nPasal 85\\n(1) Tenggang daluwarsa mulai berlaku pada esak harinya setelah putusan hakim \\ndapat dijalankan.\\n(2) Jika seorang terpidana melarikan diri selama menjalani pidana, maka pada \\nesok harinya setelah melarikan diri itu mulai berlaku tenggang daluwarsa baru. \\nJika suatu pelepasan bersyarat dicabut, maka pada esok harinya setelah \\npencabutan, mulai berlaku tenggang daluwarsa baru.\\n(3) Tenggang daluwarsa tertuduh selama penjalanan pidana ditunda menurut \\nperintah dalam suatu peraturan umum, dan juga selama terpidana dirampas \\nkemerdekaannya, meskipun perampasan kemerdekaan itu berhubung dengan pemidanaan \\nlain.\\nBab IX - Arti Beberapa Istilah Yang Dipakai Dalam Kitab Undang- Undang\\nPasal 86\\nApabila disebut kejahatan, baik dalam arti kejahatan pada umumnya maupun dalam \\narti suatu kejahatan tertentu, maka di situ termasuk pembantuan dan percobaan \\nmelakukan kejahatan, kecuali jika dinyatakan sebaliknya oleh suatu aturan.\\nPasal 87\\nDikatakan ada makar untuk melakukan suatu perbuatan, apabila niat untuk itu \\ntelah ternyata dari adanya permulaan pelaksanaan, seperti dimaksud dalam pasal \\n53.\\nPasal 88\\nDikatakan ada permufakatan jahat, apabila dua orang atau lebih telah sepakat \\nakan melakukan kejahatan.\\nPasal 88 bis\\nDengan penggulingan pemerintahan dimaksud meniadakan atau mengubah secara tidak \\nsah bentuk pemerintahan menurut Undang-Undang Dasar.\\nPasal 89\\nMembuat orang pingsan atau tidak berdaya disamakan dengan menggunakan kekerasan.\\nPasal 90\\nLuka berat berarti:\\n  jatuh sakit atau mendapat luka yang tidak memberi harapan akan sembuh sama \\n  sekali, atau yang menimbulkan bahaya maut; \\n  tidak mampu terus-menerus untuk menjalankan tugas jabatan atau pekerjaan \\n  pencarian; \\n  kehilangan salah satu pancaindera; \\n  mendapat cacat berat; \\n  menderita sakit lumpuh; \\n  terganggunya daya pikir selama empat minggu lebih; \\n  gugur atau matinya kandungan seorang perempuan.\\nPasal 91\\n(1) Dalam kekuasaan bapak dicakup pula kekuasaan kepala keluarga.\\n(2) Dengan orang tua, dimaksud pula kepala keluarga.\\n(3) Dengan bapak, dimaksud pula orang yang menjalankan kekuasaan yang sama \\ndengan bapak.\\n(4) Dengan anak, dimaksud pula orang yang ada di bawah kekuasaan yang sama \\ndengan kekuasaan bapak.\\nPasal 92\\n(1) Yang disebut pejabat, termasuk juga orang-orang yang dipilih dalam pemilihan \\nyang diadakan berdasarkan aturan-aturan umum, begitu juga orang-orang yang bukan \\nkarena pemilihan, menjadi anggota badan pembentuk undang-undang, badan \\npemerintahan, atau badan perwakilan rakyat, yang dibentuk oleh pemerintah atau \\natas nama pemerintah; begitu juga semua anggota dewan subak, dan semua kepala \\nrakyat Indonesia asli dan kepala golongan Timur Asing, yang menjalankan \\nkekuasaan yang sah.\\n(2) Yang disebut pejabat dan hakim termasuk juga hakim wasit; yang disebut hakim \\ntermasuk juga orang-orang yang menjalankan peradilan administratif, serta \\nketua-ketua dan anggota-anggota pengadilan agama. \\n(3) Semua anggota Angkatan Perang juga dianggap sebagai pejabat.\\nPasal 92 bis\\nYang disebut pengusaha ialah tiap-tiap orang yang menjalankan perusahaan.\\nPasal 93\\n(1) Yang disebut nakoda ialah orang yang memegang kekuasaan di kapal atau yang \\nmewakilinya.\\n(2) Yang disebut penumpang ialah semua orang yang ada di kapal, kecuali nakoda.\\n(3) Yang disebut anak buah kapal ialah semua perwira atau kelasi yang ada di \\ndalam kapal.\\nPasal 94\\nPasal ini ditiadakan berdasarkan Undang-undang No.1 Tahun 1946, pasal VIII, \\nbutir 11.\\nPasal 95\\nYang disebut kapal Indonesia ialah kapal yang mempunyai surat laut atau pas \\nkapal, atau surat izin sebagai pengganti sementara menurut aturan-aturan umum \\nmengenai surat laut dan pas kapal di Indonesia.\\nPasal 95a\\n(1) Yang dimaksud dengan pesawat udara Indonesia adalah pesawat udara yang \\ndidaftarkan di Indonesia.\\n(2) Termasuk pula pesawat udara Indonesia adalah pesawat udara asing yang disewa \\ntanpa awak pesawat dan dioperasikan oleh perusahaan penerbangan Indonesia.\\nPasal 95b\\nYang dimaksud dengan dalam penerbanagan adalah sejak saat pintu luar pesawat \\nudara ditutup setelah naiknya penumpang (embarkasi) sampai saat pintu dibuka \\nuntuk penurunan penumpang (diembarkasi).\\nDalam hal terjadi pendaratan darurat penerbangan dianggap terus berlangsung \\nsampai saat penguasa yang berwenang mengambil alih tanggung jawab atas pesawat \\nudara dan barang yang ada di dalamnya.\\nPasal 95c\\nYang diamksud dengan dalam dinas adalah jangka waktu sejak pesawat udara \\ndisiapkan oleh awak darat atau oleh awak pesawat untuk penerbangan tertentu, \\nhingga setelah 24 jam lewat sesudah setiapendaratan.\\nPasal 96\\n(1) Yang disebut musuh termasuk juga pemberontak. Begitu juga termasuk di situ \\nnegara atau kekuasaan yang akan menjadi lawan perang.\\n(2) Yang disebut perang termasuk juga permusuhan dengan daerah-daerah swapraja, \\nbegitu juga perang saudara.\\n(3) Yang disebut masa perang termasuk juga waktu selama perang sedang mengancam. \\nBegitu juga dikatakan masih ada masa perang, segera sesudah diperintahkan \\nmobilisasi Angkatan Perang dan selama mobilisasi itu berlaku.\\nPasal 97\\nYang disebut hari adalah waktu selama dua puluh empat jam; yang disebut bulan \\nadalah waktu selama tiga puluh hari.\\nPasal 98\\nYang disebut waktu malam yaitu waktu antara matahari terbenam dan matahari \\nterbit.\\nPasal 99\\nYang disebut memanjat termasuk juga masuk melalui lubang yang memang sudah ada, \\ntetapi bukan untuk masuk atau masuk melalui lubang di dalam tanah yang dengan \\nsengaja digali; begitu juga menyeberangi selokan atau parit yang digunakan \\nsebagai batas penutup.\\nPasal 100\\nYang disebut anak kunci palsu termasuk juga segala perkakas yang tidak dimaksud \\nuntuk membuka kunci.\\nPasal 101\\nYang disebut ternak yaitu semua binatang yang berkuku satu, binatang memamah \\nbiak, dan babi.\\nPasal 101 bis\\n(1) Yang dimaksud bangunan listrik yaitu bangunan-bangunan yang gunanya untuk \\nmembangkitkan, mengalirkan, mengubah, atau menyerahkan tenaga listrik; begitu \\npula alat-alat yang berhubungan dengan itu, yaitu alat-alat penjaga keselamatan, \\nalat-alat pemasang, alat-alat pendukung, dan alat-alat peringatan.\\n(2) Dengan bangunan-bangunan telegrap dan telepon tidak dimaksudkan bangunan \\nlistrik.\\nPasal 102\\nDitiadakan dengan Staatsblad 1920 No. 382\\nAturan Penutup\\nPasal 103\\nKetentuan-ketentuan dalam Bab I sampai Bab VIII buku ini juga berlaku bagi \\nperbuatan- perbuatan yang oleh ketentuan perundang-undangan lainnya diancam \\ndengan pidana, kecuali jika oleh undang-undang ditentukan lain.\\nBuku Kedua Œ Kejahatan\\nDaftar Isi\\n  Bab - I Kejahatan Terhadap Keamanan Negara \\n  Bab - II Kejahatan-kejahatan Terhadap Martabat Presiden dan Wakil Presiden \\n  Bab - III Kejahatan-kejahatan Terhadap Negara Sahabat dan Terhadap Kepala \\n  Negara Sahabat Serta Wakilnya \\n  Bab - IV Kejahatan Terhadap Melakukan Kewajiban dan Hak Kenegaraan \\n  Bab - V Kejahatan Terhadap Ketertiban Umum \\n  Bab - VI Perkelahian Tanding \\n  Bab - VII Kejahatan yang Membahayakan Keamanan Umum bagi Orang atau Barang \\n  Bab - VIII Kejahatan Terhadap Penguasa Umum \\n  Bab - IX Sumpah Palsu dan Keterangan Palsu \\n  Bab - X Pemalsuan Mata Uang dan Uang Kertas \\n  Bab - XI Pemalsuan Meterai dan Merek \\n  Bab - XII Pemalsuan Surat \\n  Bab - XIII Kejahatan Terhadap Asal-Usul dan Perkawinan \\n  Bab - XIV Kejahatan Terhadap Kesusilaan \\n  Bab - XV Meninggalkan Orang yang Perlu Ditolong \\n  Bab - XVI Penghinaan \\n  Bab - XVII Membuka Rahasia \\n  Bab - XVIII Kejahatan Terhadap Kemerdekaan Orang \\n  Bab - XIX Kejahatan Terhadap Nyawa \\n  Bab - XX Penganiayaan \\n  Bab - XXI Menyebabkan Mati atau Luka-luka Karena Kealpaan \\n  Bab - XXII Pencurian \\n  Bab - XXIII Pemerasan dan Pengancaman \\n  Bab - XXIV Penggelapan \\n  Bab - XXV Perbuatan Curang \\n  Bab - XXVI Perbuatan Merugikan Pemiutang atau Orang yang Mempunyai Hak \\n  Bab - XXVII Menghancurkan atau Merusakkan Barang \\n  Bab - XXVIII Kejahatan Jabatan \\n  Bab - XXIX Kejahatan Pelayaran \\n  Bab - XXIX A Kejahatan Penerbangan dan Kejahatan Terhadap Sarana/Prasarana \\n  Penerbangan \\n  Bab - XXX Penadahan Penerbitan dan Percetakan \\nBab I - Kejahatan Terhadap Keamanan Negara\\nPasal 104 \\nMakar dengan maksud untuk membunuh, atau merampas kemerdekaan, atau meniadakan \\nkemampuan Presiden atau Wakil Presiden memerintah, diancam dengan pidana mati \\natau pidana penjara seumur hidup atau pidana penjara sementara paling lama dua \\npuluh tahun. \\nPasal 105 \\nPasal ini ditiadakan berdasarkan Undang-undang No. 1 Tahun 1946, pasal VIII, \\nbutir 13. \\nPasal 106 \\nMakar dengan maksud supaya seluruh atau sebagian dari wilayah negara, diancam \\ndengan pidana penjara seumur hidup atau pidana penjara sementara paling lama dua \\npuluh tahun. \\nPasal 107 \\n(1) Makar dengan maksud untuk menggulingkan pemerintah, diancam dengan pidana \\npenjara paling lama lima belas tahun.\\n(2) Para pemimpin dan pengatur makar tersebbut dalam ayat 1, diancam dengan \\npidana penjara seumur hidup atau pidana penjara sementara paling lama dua puluh \\ntahun. \\nPasal 108 \\n(1) Barang siapa bersalah karena pemberontakan, diancam dengan pidana penjara \\npaling lama lima belas tahun:\\n1. orang yang melawan pemerintah Indonesia dengan senjata;\\n2. orang yang dengan maksud melawan Pemerintah Indonesia menyerbu bersama-sama \\natau menggabungkan diri pada gerombolan yang melawan Pemerintah dengan senjata.\\n(2) Para pemimpin dan para pengatur pemberontakan diancam dengan penjara seumur \\nhidup atau pidana penjara sementara paling lama dua puluh tahun. \\nPasal 109 \\nPasal iani ditiadakan berdasarkan S. 1930 No. 31. \\nPasal 110 \\n(1) Permufakatan jahat untuk melakukan kejahatan menurut pasal 104, 106, 107, \\ndan 108 diancam berdasarkan ancaman pidana dalam pasal-pasal tersebut.\\n(2) Pidana yang sama diterapkan terhadap orang-orang yang dengan maksud \\nberdasarkan pasal 104, 106, dan 108, mempersiapkan atau memperlancar kejahatan:\\n1. berusaha menggerakkan orang lain untuk melakukan, menyuruh melakukan atau \\nturut serta melakukan agar memberi bantuan pada waktu melakukan atau memberi \\nkesempatan, sarana atau keterangan untuk melakukan kejahatan;\\n2. berusaha memperoleh kesempatan, sarana atau keterangan untuk melakukan \\nkejahatan bagi diri sendiri atua orang lain;\\n3. memiliki persediaan barang-barang yang diketahuinya berguna untuk melakukan \\nkejahatan;\\n4. mempersiapkan atau memiliki rencana untuk melaksanakan kejahatan yang \\nbertujuan untuk memberitahukan kepada orang lain;\\n5. berusaha mencegah, merintangi atau menggagalkan tindakan yang diadakan \\npemerintah untuk mencegah atau menindas pelaksanaan kejahatan. \\n(3). Barang-barang sebagaimana dimaksud dalam butir 3 ayat sebelumnya, dapat \\ndirampas. \\n(4) Tidak dipidana barang siapa yang ternyata bermaksud hanya mempersiapkan atau \\nmemperlancar perubahan ketatanegaraan dalam artian umum. \\n(5) Jika dalam salah satu hal seperti yang dimaksud dalam ayat 1 dan 2 pasal \\nini, kejahatan sungguh terjadi, pidananya dapat dilipatkan dua kali. \\nPasal 111 \\n(1) Barang siapa mengadakan hubungan dengan negara asing dengan maksud \\nmenggerakkannya untuk melakukan perbuatan permusuhan atau perang terhadap \\nnegara, memperkuat niat mereka, menjanjikan bantuan atau membantu mempersiapkan \\nmereka untuk melakukan perbuatann permufakatan atua perang terhadap negara, \\ndiancam dengan pidana penjara paling lama lima belas tahun. \\n(2) Jika perbuatan permusuhan dilakukan atau terjadi perang, diancam dengan \\npidana mati atua pidana penjara seumur hidup atau pidana penjara sementara \\npaling lama dua puluh tahun. \\nPasal 111 bis \\n(1) Dengan pidana penjara paling lama enam tahun diancam:\\n1. barang siapa mengadakan hubungan dengan orang atau badan yang berkedudukan di \\nluar Indonesia, dengan maksud untuk menggerakan orang atau badan itu supaya \\nmembantu mempersiapkan, memperlancar atau menggerakkan untuk menggulingkan \\npemerintah, untuk memperkuat niat orang atau badan itu atua menjanjikan atau \\nmemberi bantuan kepada orang atau badan itu atau menyiapkan, memperlancar atau \\nmenggerakkan penggulingan pemerintah;\\n2. barang siapa memaksudkan suatu benda yang dapat digunakan untuk memberi \\nbantuan material dalam mempersiapkan, memperlancar atau menggerakkan \\npenggulingan pemerintah, sedangkan diketahuinya atau ada alasan kuat untuk \\nmemnduga bahwa benda tersebut akan dipergunakan untuk perbuatan tersebut;\\n3. orang yang mempunyai atau mengadakan perjanjian mengenai suatu benda yang \\ndapat dipergunakan untuk memberikan bantuan material dalam mempersiapkan, \\nmemperlancar atau menggerakkan penggulingan pemerintah, sedangkan diketahuinya \\natau ada alasan baginya untuk menduga bahwa benda itu akan dipergunakan untuk \\nperbuatan tersebut atau benda itu atau barang lainsebagai penggantinya, \\ndimaksudkan dengan tujuan tersebut atau untuk untuk diperuntukkan bagi tujuan \\nitu oleh orang atau benda yang berkedudukan di luar Indonesia. \\n(2) Benda-benda yang dengan mana atau yang ada hubungan dengan ayat 1 ke-2 dan \\nke-3 yang dipakai untuk melakukan kejahatan, dapat dirampas. \\nPasal 112 \\nBarang siapa dengan sengaja mengumumkan surat-surat, berita-berita atau \\nketerangan- keterangan yang diketahuinya bahwa harus dirahasiakan untuk \\nkepentingan negara, atau dengan sengaja memberitahukan atau memberikannya kepada \\nnegara asing, diancam dengan pidana penjara paling lama tujuh tahun. \\nPasal 113 \\n(1) Barang siapa dengan sengaja, untuk seluruhnya atau sebagian mengumumkan, \\natau memberitahukan maupun menyerahkan kepada orang yang tidak berwenang \\nmengetahui, surat-surat, peta-peta, rencana-rencana, gambar-gambar atau \\nbenda-benda yang bersifat rahasia yang bersangkutan dengan pertahanan atau \\nkeamanan Indonesia terhadap serangan dari luar, yang ada padanya atau yang \\nisinya, bentuknya atau susunanya benda- benda itu diketahui olehnya, diancam \\ndengan pidana penjara paling lama empat tahun.\\n(2) Jika surat-surat atau benda-benda ada pada yang bersalah, atau \\npengetahuannya tentang itu karena pencariannya, pidananya dapat ditambah \\nsepertiga. \\nPasal 114 \\nBarang siapa karena kesalahannya (kealpaannya) menyebabkan surat-surat atau \\nbenda- benda rahasia sebagaimana yang dimaksudkan dalam pasal 113 harus menjadi \\ntugasnya untuk menyimpan atau menaruhnya, bentuk atau susunannya atau seluruh \\natau sebagian diketahui oleh umum atau dikuasai atau diketahui oleh orang lain \\n(atau) tidak berwenang mengetahui, diancam dengan pidana penjara paling lama \\nsatu tahun enam bulan atau pidana kurungan paling lama satu tahun atau pidana \\ndenda paling tinggi empat ribu lima ratus rupiah. \\nPasal 115 \\nBarang siapa melihat atua membaca surat-surat atau benda-benda rahasia \\nsebagaimana dimaksud dalam pasal 113, untuk seluruhnya atau sebagian, sedangkan \\ndiketahui atau selayaknya harus diduganya bahwa benda-benda itu tidak dimaksud \\nuntuk diketahui olehnya, begitu pula jika membuat atau menyuruh membuat salinan \\natau ikhtisar dengan huruf atau dalam bahasa apa pun juga, membuat atau menyuruh \\nbuat teraan, gambaran atau jika tidak menyerahkan benda-benda itu kepada pejabat \\nkehakiman, kepolisian atau pamongh praja, dalam hal benda-benda itu ke \\ntangannya, diancam dengan pidana penjara palling lama tiga tahun. \\nPasal 116 \\nPermufakatan jahat untuk melakukan kejahatan sebagaimana diamksud dalam pasal \\n113 dan 115, diancam dengan pidana penjara paling lama satu atahun. \\nPasal 117 \\nDiancam dengan pidana penjara paling lama enam bulan atau denda paling banyak \\nempat ribu lima ratus rupiah, barang siapa tanpa wenang. \\n1. dengan sengaja memasuki bangunan Angkatan Darat atau Angkatan Laut, atau \\nmemasuki kapal perang melalui jalan yang bukan jalan biasa; \\n2. dengan sengaja memasuki daerah, yang oleh Presiden atau atas namanya, atau \\noleh penguasa tentara ditentukan sebagai daerah tentara yang dilarang;\\n3. dengan sengaja membuat, mengumpulkan, mempunyai, menyimpan, menyembunyikan \\natau mangangkut gambat potret atau gambar tangan maupun keterangan-keterangan \\natau petunjuk-petunjuk lain mengenai daerah seperti tersebut dalam pasal ke-2, \\nbeserta segala sesuatu yang ada disitu. \\nPasal 118 \\nDiancam dengan pidana penjara paling lama dua tahun atau denda sembilan ribu \\nrupiah, barang siapa tanpa wenang, sengaja membuat, mengumpulkan, mempunyai, \\nmenyimpan, menyembunyikan atau petunjuk-petunjuk lain mengenai sesuatu hal yang \\nbersangkutan dengan kepentingan tentara. \\nPasal 119 \\nDiancam dengan pidana penjara paling lama satu tahun: \\n1. barang siapa memberi pondokan kepada orang lain, yang diketahuinya mempunyai \\nniat atau sedang mencoba untuk mengetahui benda-benda rahasia seperti tersebut \\ndalam pasal 113, padahal tidak wenang untuk itu, atau mempunyai niat atau sedang \\nmencoba untuk mengetahui letak, bentuk, susunan, persenjataan, perbekalan, \\nperlengkapan mesin, atau kekuatan orang dari bangunan pertahanan atau sesuatu \\nhal lain yang bersangkutan dengan kepentingan tentara;\\n2. barang siapa menyembunyikan benda-benda yang diketahuinya behawa dengan cara \\napapun juga, akan diperlukan dalam melaksanakan niat seperti tersebut pada ke-1. \\n\\nPasal 120 \\nJika kejahatan tersebut pasal 113, 115, 117, 118, 119 dilakukan dengan akal \\ncurang seperti penyesatan, menyamakan, pemakaian nama atau kedudukan palsu, atau \\ndengan menawarkan atau menerima, membayangkan atau menjanjikan hadiah, \\nkeuntungan atau upah dalam bentuk apapun juga, atau dilakukan dengan kekerasan \\natau ancaman kekerasan, maka pidana hilang kemerdekaan dapat diperberat lipat \\ndua. \\nPasal 121 \\nBarang siapa ditugaskan pemerintah untuk berunding dengan suatu negara asing, \\ndengan sengaja merugikan negara, diancam dengan pidana penjara paling lama dua \\nbelas tahun. \\nPasal 122 \\nDiancam dengan pidana penjara paling lama tujuh tahun:\\n1. barang siapa dalam masa perang yang tidak menyangkut Indonesia, dengan \\nsengaja melakukan perbuatan yang membahayakan kenetralan negara, atau dengan \\nsengaja melanggar suatu aturan yang dikeluarkan dan diumumkan oleh pemerintah, \\nkhusus untuk mempertahankan kenbetralan tersebut; \\n2. barang siapa dalam masa perang dengan sengaja melanggar aturan yang \\ndikeluarkan dan diumumkan oleh pemerintah guna keselamatan negara. \\nPasal 123 \\nSeorang warga negara Indonesia yang dengan suka rela masuk tentara negara asing, \\npada hal ia mengetahui bahwa negara itu sedang perang dengan negara Indonesaia, \\natau akan menghadapi perang dengan Indonesia, diancam dalam hal terakhir jika \\npecah perang, denga pidana penjara paling lama lima belas tahun. \\nPasal 124 \\n(1) Barang siapa dalam masa perang dengan sengaja memberi bantuan kepada musuh \\natau merugikan negara terhadap musuh, diancam dengan pidana penjara lima belas \\ntahun.\\n(2) Diancam dengan pidana penjara seumur hidup atau selama waktu tertentu atau \\npaling lama dua puluh tahun jika si pembuat: \\n1. memberitahukan atau memberikan kepada musuh peta, rencana, gambar, atau \\npenulisan mengenai bangunan-bangunan tentara;\\n2. menjadi mata-mata musuh, atau memberikan pondokan kepadanya. \\n(3) Pidana mati atau pidana seumur hidup atau selama waktu tertentu paling lama \\ndua puluh tahun dijatuhkan jika si pembuat: \\n1. memberitahukan atau menyerahkan kepada musuh, menghancurkan atau merusakkan \\nsesuatu tempat atau pos yang diperkuat atau diduduki, suatu alat perhubungan, \\ngudang persediaan perang, atau kas perang ataupun Angkatan Laut, Angkatan Darat \\natau bagian daripadanya, merintangi, menghalang-halangi atau menggagalkan suatu \\nuntuk menggenangi air atau karya tentara lainya yang direncanakan atau \\ndiselenggarakan untuk menangkis tau menyerang; \\n2. menyebabkan atau memperlancar timbulnya huru-hara, pemberontakan atau desersi \\ndikalangan Angkatan Perang. \\nPasal 125 \\nPermufakatan jahat untuk melakukan kejahatan sebagaimana dimaksudkan dalam pasal \\n124, diancam dengan pidana paling lama enam tahun. \\nPasal 126 \\nDiancam dengan pidana penjara paling lama tujuh tahun barang siapa dalam masa \\nperang, tidak dengan maksud membantu musuh atau merugikan negara sehingga \\nmenguntungkan musuh, dnegan sengaja: \\n1. memberikan pondokan kepada mata-mata musuh, menyembunyikannya atau \\nmembantunya melarikan diri; \\n2. menggerakkan atau memperlancar pelarian (desersi) prajurit yang bertugas \\nuntuk negara. \\nPasal 127 \\n(1) Barang siapa dalam masa perang menjalankan tipu muslihat dalam penyerahan \\nbarang-barang keperluan Angkatan Laut atau Angkatan Darat, diancam dengan pidana \\npenjara paling lama dua belas tahun. \\n(2) Diancam dengan pidana yang sama barang siapa diserahi mengawasi penyerahan \\nbarang-barang, membiarkan tipu muslihat itu. \\nPasal 128 \\n(1) Dalam hal pemidanaan berdasarkan kejahatan pasal 104, dapat dipidana \\npencabutan hak-hak berdasarkan pasal 35 no. 1-5. \\n(2) Dalam hal pemidanaan berdasarkan kejahatan pasal-pasal 106-108, 110-125, \\ndapat dipidana pencabutan hak-hak berdasarkan pasal 35 no. 1-3. \\n(3) Dalam hal pemidanaan berdasarkan kejahatan pasal 127, yang bersalah dapat \\ndilarang menjalankan pencarian yang dijalankannya ketika melakukan kejahatan \\nitu, dicabut hak- hak berdasarkan pasal 35 no. 1-4, dan dapat diperintahkan \\nsupaya putusan hakim diumumkan. \\nPasal 129 \\nPidana-pidana yang berdasarkan terhadap perbuatan-perbuatan dalam pasal-pasal \\n124- 127, diterapkan jika salah satu perbuatan dilakukan terhadap atua \\nbersangkutan dengan negara sekutu dalam perang bersama.\\nBab II\\nKejahatan-Kejahatan Terhadap Martabat Presiden Dan Wakil Presiden\\nPasal 130 \\nPasal ini ditiadakan berdasarkan Undang-undang No. 1 Tahun 1946, pasal VIII, \\nbutir 21. \\nPasal 131 \\nTiap-tiap penyerangan terhadap diri presiden atau Wakil Presiden, yang tidak \\ntermasuk dalam ketentuan pidana lain yang lebih berat, diancam dengan pidana \\npenjara paling lama delapan tahun.\\nPasal 132\\nPasal ini ditiadakan berdasarkan Undang-undang No. 1 Tahun 1946, pasal VIII, \\nbutir 23.\\nPasal 133 \\nPasal ini ditiadakan berdasarkan Undang-undang No. 1 Tahun 1946, pasal VIII, \\nbutir 23. \\nPasal 134\\nPenghinaan dengan sengaja terhadap Presiden atua Wakil Presiden diancam dengan \\npidana penjara paling lama enam tahun, atau pidana denda paling banyak empat \\nribu lima ratus ribu rupiah.\\nPasal 135 \\nPasal ini ditiadakan bersarkan Undang-undang No. 1 Tahun 1946, pasal VIII, butir \\n25. \\nPasal 136 \\nPasal ini ditiadakan berdasarkan Undang-undang No. 1 Tahun 1946, pasal VIII \\nbutir 25. Pasal 136 bis Pengertian penghinaan sebagaimana dimaksud dalam pasal \\n134 mencakup juga perumusan perbuatan dalam pasal 135, jika itu dilakukan diluar \\nkehadiran yang dihina, baik dengan tingkah laku di muka umum, maupun tidak \\ndimuka umum baik lidsan atau tulisan, namun dihadapan lebih dari empat orang, \\natau di hadapan orang ketiga, bertentangan dengan kehendaknya dan oleh karena \\nitu merasa tersinggung.\\nPasal 137\\n(1) Barang siapa menyiarkan, mempertunjukan, atau menempelkan di muka umum \\ntulisan atau lukisan yang berisi penghinaan terhadap Presiden atau Wakil \\nPresiden, dengan maksud supaya isi penghinaan diketahui atau lebih diketahui \\noleh umum, diancam dengan pidana penjara paling lama satu tahun empat bulan atau \\npidana denda paling banyak empat ribu lima ratus rupiah.\\n(2) Jika yang bersalah melakukan kejahatan pada waktu menjalankan pencariannya, \\ndan pada waktu itu belum lewat dua tahun sejak adanya pemidanaan menjadi tetap \\nkarena kejahatan semacam itu juga, maka terhadapnya dapat dilarang menjalankan \\npencarian tersebut. \\nPasal 138 \\nPasal ini ditiadakan berdasarkan Undang-undang No. 1 Tahun 1946, pasal VIII, \\nbutir 28.\\nPasal 139\\n(1) Ayat ini ditiadakan berdasarkan Undang-undang No. 1 Tahun 1946, pasal VIII, \\nbutir 29. \\n(2) Dalam hal pemidanaan berdasarkan perumusan kejahatan dalam pasal 131, dapat \\ndipidana pencabutan hak berdasarkan pasal 35 no. 1-4.\\n(3) Dalam hal pemidanaan berdasarkan perumusan kejahatan dalam pasal 134, dapat \\ndipidana pencabutan hak berdasarkan pasal 35 no. 1-3. \\nBab III - Kejahatan-Kejahatan Terhadap Negara Sahabat Dan Terhadap Kepala Negara \\nSahabat Serta Wakilnya\\nPasal 139a \\nMakar dengan maksud melepaskan wilayah atau daerah lain dari suatu negara \\nsahabat untuk seluruhnya atau sebagian dari kekuasaan pemerintah yang berkuasa \\ndi situ, diancam dengan pidana penjara paling lama lima tahun.\\nPasal 139b \\nMakar dengan maksud meniadakan atau mengubah secara tidak sah bentuk \\npemerintahan negara sahabat atau daerahnya yang lain, diancam dengan pidana \\npenjara paling lama empat tahun. \\nPasal 139c \\nPermufakatan jahat untuk melakukan kejahatan sebagaimana dirumuskan dalam pasal- \\npasal 139a dan 139b, diancam dengan pidana penjara paling lama satu tahun enam \\nbulan. \\nPasal 140 \\n(1) Makar terhadap nyawa atau kemerdekaan raja yang memerintah atau kepala \\nnegara sahabat, diancam dengan pidana penjara paling lama lima belas tahun.\\n(2) Jika mekar terhadap nyawa mengakibatkan kematian atau dilakukan dengan \\nrencana terlebih dahulu mengakibatkan kematian, diancam dengan pidana mati atau \\npidana penjara seumur hidup atau pidana penjara sementara paling lama dua puluh \\ntahun. (3) Jika makar terhadap nyawa dilakukan dengan rencana terlebih dahulu \\nmengakibatkan kematian, diancam dengan pidana mati atau pidana penjara seumur \\nhidup atau pidana penjara sementara paling lama dua puluh tahun. \\nPasal 141\\nTiap-tiap perbuatan penyerangan terhadap diri raja yang memerintah atau kepala \\nnegara sahabat, yang tidak termasuk dalam ketentuan pidana yang lebih berat, \\ndiancam dengan pidana penjara paling lama tujuh tahun.\\nPasal 142 \\nPenghinaan dengan sengaja terhadap raja yang memerintah atau kepala negara \\nsahabat, diancam dengan pidana penjara paling lama lima tahun atau pidana paling \\nbanyak empat ribu lima ratus ribu rupiah.\\nPasal 142a\\nBarang siapa menodai bendera kebangsaan negara sahabat diancam dengan pidana \\npenjara paling lama empat tahun atau pidana denda paling banyak empat ribu lima \\nratus rupiah.\\nPasal 144 \\n(1) Barang siapa menyiarkan, mempertunjukkan atau menempelkan dimuka umum \\ntulisan atau lukisan yang berisi penghinaan terhadap raja yang memerintah, atau \\nkepala negara sahabat, atau wakil negara asing di Indonesia dalam pangkatnya, \\ndengan maksud supaya penghinaan itu diketahui atau lebih diketahui oleh umum, \\ndiancam dengan pidana penjara paling lama sembilan bulan atau pidana denda \\npaling banyak empat ribu lima ratus rupiah. \\n(2) Jika yang bersalah melakukan kejahatan itu pada waktu menjalankan \\npencarianya, dan pada saat itu belum lewat dua tahun sejak ada pemidanaan yang \\ntetap karena kejahatan semacam itu juga, ia dapat dilarang menjalankan pencarian \\ntersebut.\\nPasal 145\\n(1) Dalam hal pemidanaan berdasarkan perumusan kejahatan dalam pasal 140, dapat \\ndipidanan pencabutan hak berdasarkan pasal 35 no. 1-5. \\n(2) Dalam hal pemidanaan berdasarkan perumusan kejahatan dalam pasal 141, dapat \\ndipidana pencabutan hak berdasarkan pasal 335 no. 1-4.\\n(3) Dalam hal pemidanaan berdasarkan perumusan kejahatan dalam pasal-pasal 139a, \\n139b, 139c, 142, dan 143, dapat dipidana pencabutan hak berdasarkan pasal 35 no. \\n1-3. \\nBab IV\\nKejahatan Terhadap Melakukan Kewajiban Dan Hak Kenegaraan\\nPasal 146 \\nBarang siapa dengan kekerasan atau ancaman kekerasan membubarkan rapat badan \\npembentuk undang-undang, badan pemerintahan atau badan perwakilan rakyat, yang \\ndibentuk oleh atau atas nama Pemerintah, atau memaksa badan-badan itu supaya \\nmengambil atau tidak mengambil sesuatu putusan atau mengambil sesuatu putusan \\natau mengusir ketua atau anggota rapat itu, diancam dengan ancaman penjara \\npaling lama sembilan tahun. \\nPasal 147 \\nBarang siapa dengan kekerasan atau ancaman kekerasan, dengan sengaja merintangi \\nketua atau anggota badan pembentuk undang-undang, badan pemerintahan atau badan \\nperwakilan rakyat, yang dibentuk oleh atau atas nama Pemerintah, untuk \\nmenghadiri rapat badan-badan itu, diancam dengan pidana penjara paling lama dua \\ntahun delapan bulan.\\nPasal 148\\nBarang siapa pada waktu diadakan pemilihan berdasarkan aturan-aturan umum, \\ndengan kekerasan atau ancaman kekerasan, dengan sengaja merintangi seseorang \\nmemakai hak pilihnya dengan bebas dan tidak terganggu, diancam dengan pidana \\npenjara paling lama satu tahun empat bulan. \\nPasal 149 \\n(1) Barang siapa pada waktu diadakan pemilihan berdasarkan aturan-aturan umum, \\ndengan memberi atau menjanjikan sesuatu, menyuap seseorang supaya tidak memakai \\nhak pilihnya atau supaya memakai hak itu menurut cara tertentu, diancam dengan \\npidana penjara paling lama sembilan bulan atau pidana denda paling lama empat \\nribu lima ratus rupiah.\\n(2) Pidana yang sama diterapkan kepada pemilih, yang dengan menerima pemberian \\natau janji, mau disuap. \\nPasal 150\\nBarang suiapa pada waktu diadakan pemilihan berdasarkan aturan-aturan umum, \\nmelakukan tipu muslihat berdasarkan aturan-aturan umum, melakukan tipu muslihat \\nsehingga suara seorang pemilih menjadi tidak berharga atau menyebabkan orang \\nlain daripada yang dimaksud oleh pemilih yang ditunjuk, diancam dengan pidana \\npenjara paling lama sembilan bulan. \\nPasal 151 \\nBarang siapa memakai nama orang lain untuk ikut dalam pemilihan berdasarkan \\naturan- aturan umum, diancam dengan pidana penjara paling lama satu tahun empat \\nbulan.\\nPasal 152\\nBarang siapa pada waktu diadakan pemilihan berdasarkan aturan-aturan umum dengan \\nsengaja menggagalkan pemungutan suara yang telah diadaka atau mengadakan tipu \\nmuslihat yang menyebabkan putusan pemungutan suara itu lain dari yang seharusnya \\ndiperoleh berdasarkan kartu-kartu pemungutan suara yang masuk secara sah atau \\nberdasarkan suara-suara yang dikeluarkan secara sah, diancam dengan pidana \\npenjara paling lama dua tahun. \\nPasal 153 \\n(1) Dalam hal pemidanaan berdasarkan perumusan kejahatan dalam pasal 146, dapat \\ndipidana pencabutan hak berdasarkan pasal 35 ke 1-3. \\n(2) Dalam hal pemidanaan berdasarkan perumusan kejahatan dalam pasal 147-152, \\ndapat dipidana pencabutan hak berdasarkan pasal 35 ke-3. \\nBab V - Kejahatan Terhadap Ketertiban Umum\\nPasal 153 bis \\nPasal ini ditiadakan berdasarkan Undang-undang No. 1 Tahun 1946, pasal 8, butir \\n32. Pasal 153 ter Pasal ini ditiadakan berdasarkan Undang-undang No. 1 Tahun \\n1946, pasal 8, butir 32. \\nPasal 154 \\nBarang siapa di muka umum menyatakan perasaan permusuhan, kebencian atau \\npenghinaan terhadap Pemerintah Indonesia, diancam dengan pidana penjara paling \\nlama tujuh tahun atau pidana denda paling banyak empat ribu lima ratus rupiah.\\nPasal 154a \\nBarang siapa menodai bendera kebangsaan Republik Indonesia dan lambang Negara \\nRepublik Indonesia, diancam dengan pidana penjara paling lama empat tahun atau \\npidana denda paling banyak empat puluh lima ribu rupiah. \\nPasal 155\\n(1) Barang siapa menyiarkan, mempertunjukkan atau menempelkan tulisan atau \\nlukisan di muka umum yang mengandung pernyataan perasaan permusuhan, kebencian \\natau penghinaan terhadap Pemerintah Indonesia, dengan maksud supaya isinya \\ndiketahui atau lebih diketahui oleh umum, diancam dengan pidana penjara paling \\nlama empat tahun enam bulan atau pidana denda paling banyak empat ribu lima \\nratus rupiah. \\n(2) Jika yang bersalah melakukan kejahatan tersebut pada waktu menjalankan \\npencariannya dan pada saat itu belum lewat lima tahun sejak pemidanaannya \\nmenjadi tetap karena melakukan kejahatan semacam itu juga, yang bersangkutan \\ndapat dilarang menjalankan pencarian tersebut.\\nPasal 156\\nBarang siapa di rnuka umum menyatakan perasaan permusuhan, kebencian atau \\npenghinaan terhadap suatu atau beherapa golongan rakyat Indonesia, diancam \\ndengan pidana penjara paling lama empat tahun atau pidana denda paling banyak \\nempat ribu lima ratus rupiah. Perkataan golongan dalam pasal ini dan pasal \\nberikutnya berarti tiap-tiap bagian dari rakyat Indonesia yang berbeda dengan \\nsuatu atau beberapa hagian lainnya karena ras, negeri asal, agama, tempat, asal, \\nketurunan, kebangsaan atau kedudukan menurut hukum tata negara. \\nPasal 156a \\nDipidana dengan pidana penjara selama-lumanya lima tahun barang siapa dengan \\nsengaja di muka umum mengeluarkan perasaan atau melakukan perbuatan: a. yang \\npada pokoknya bcrsifat permusuhan, penyalahgunaan atau penodaan terhadap suatu \\nagama yang dianut di Indonesia; b. dengan maksud agar supaya orang tidak \\nmenganut agama apa pun juga, yang bersendikan Ketuhanan Yang Maha Esa. \\nPasal 157\\n(1) Barang siapa menyiarkan, mempertunjukkan atau menempelkan tulisan atau \\nlukisan di muka umum, yang isinya mengandung pernyataan perasaan permusuhan, \\nkebencian atau penghinaan di antara atau terhadap golongan-golongan rakyat \\nIndonesia, dengan maksud supaya isinya diketuhui atau lebih diketahui oleh umum, \\ndiancam dcngan pidana penjara paling lama dua tahun enam bulan atau pidana denda \\npaling hanyak empat rupiah lima ratus rupiah. \\n(2) Jika yang bersalah melakukan kejahatan tersebut padu waktu menjalankan \\npencariannya dan pada saat, itu belum lewat lima tahun sejak pemidanaannya \\nmenjadi tetap karena kejahatan semacam itu juga, yang bersangkutan dapat di- \\nlarang menjalankan pencarian tersebut. \\nPasal 158 \\nBarang siapa menyelenggarakan pemilihan anggota untuk suatu lembaga kenegaraan \\nasing di Indonesia, atau menyiapkan ataupun memudahkan pemilihan itu, baik yang \\ndiadakan di Indonesia maupun di luar negeri, diancam dengan pidana penjara \\npaling lama dua tahun atau pidana denda paling banyak tujuh ribu lima ratus \\nrupiah. \\nPasal 159 \\nBarang siapa turut serta dalam pemilihan umum, baik yang diadakan di Indonesia \\nmaupun di luar negeri, seperti yang dimaksud- kan dalam pasal 158, diancam \\ndengan pidana penjara paling lama enam bulan atau pidana denda paling banyak \\nseribu lima ratus rupiah.\\nPasal 160 \\nBarang siapa di muka umum dengan lisan atau tulisan menghasut supaya melakukan \\nperbuatan pidana, melakukan kekerasan terhadap penguasa umum atau tidak menuruti \\nbaik ketentuan undang-undang maupun perintah jabatan yang diherikan berdasar \\nketentuan undang-undang, diancam dengan pidana penjara paling lama enam tahun \\nutau pidana denda paling banyak empat ribu lima ratus rupiah. \\nPasal 161\\n(1) Barang siapa menyiarkan, mempertunjukkan atau menempelkan di muka umum \\ntulisan yang menghasut supaya melakukan perbuatan pidana, menentang penguasa \\numum dengan kekerasan, atau menentang sesuatu hal lain seperti tersebut dalam \\npasal di atas, dengan maksud supaya isi yang menghasut diketahui atau lebih \\ndiketahui oleh umum, diancam dengan pidana penjara paling lama empat tahun atau \\npidana denda paling banyak empat ribu lima ratus rupiah.\\n(2) Jika yang bersalah melakukan kejahatan tersebut pada waktu menjalankan \\npencariannya dan pada saat itu belum lewat lima tahun sejak pemidanaannya \\nmenjadi tetap karena kejahatan semacam itu juga, yang bersangkutan dapat \\ndilarang menjalankan pencarian tersebut. \\nPasal 161 bis \\nPasal ini ditiadakan berdasarkan Undang-undang No. 1 Tahun 1946, pasal 8, butir \\n34. \\nPasal 162 \\nBarang siapa di muka umum dengan lisan atau tulisan menawarkan untuk memberi \\nketerangan, kesempatan atau sarana guna melakukan tindak pidana, diancam dengan \\npidana penjara paling lama sembilan hulan atau pidana denda paling banyak empat \\nribu lima ratus rupiah. \\nPasal 163 \\n(1) Barang siapa menyiarkan, mempertunjukkan atau menempelkan di muka umum \\ntulisan yang berisi penawaran untuk memberi keterangan, kesempatan atau sarana \\nguna melakukan tindak pidana dengan maksud supaya penawaran itu diketahui atau \\nlebih diketahui oleh umum, diancam dengan pidana penjara paling lama empat bulan \\ndua minggu atau pidana denda paling banyak empat ribu lima ratus rupiah.\\n(2) Jika yang bersalah melakukan kejahatan tersebut pada waktu menjalankan \\npencariannya dan pada saat itu belum lewat lima tahun sejak pemidanaannya \\nmenjadi tetap karena kejahatan semacam itu juga yang bersangkutan dapat dilarang \\nmenjalankan pencarian tersebut. \\nPasal 163 bis \\n(1) Barang siapa dengan menggunakan salah satu sarana tersebut dalam pasal 55 \\nke-2 berusaha menggerakkan orang lain supaya melakukan kejahatan, dan kejahatan \\nitu atau percobaan untuk itu dapat dipidana tidak terjadi, diancam dengan pidana \\npenjara paling lama enam tahun atau pidana denda paling banyak tiga ratus \\nrupiah, tetapi dengan pengertian bahwa sekali-kali tidak dapat dijatuhkan pidana \\nyang lebih berat daripada yang dapat dijatuhkan karena percobaan kejahatan atau \\napahila percobaan itu tidak dapat dipidana karena kejahatan itu sendiri. \\n(2) Aturan tersebut tidak berlaku, jika tidak mengakibatkan kejahatan atau \\npercobaan kejahatan disebabkan karena kehendaknya sendiri.\\nPasal 164\\nBarang siapa mengetahui ada sesuatu permufakatan untuk melakukan kejahatan \\nberdasarkan pasal-pasal 104, 106, 107, dan 108, 113, 115, 124, 187 atau 187 bis, \\nsedang masih ada waktu untuk mencegah kejahatan itu, dan dengan sengaja tidak \\nsegera memberitahukan tentang hal itu kepada pejabat kehakiman atau kepolisian \\natau kepada orang yang terancam oleh kejahatan itu, dipidana jika kejahatan itu \\njadi dilakukan, dengan pidana penjara paling lama satu tahun empat bulan atau \\npidana denda paling banyak tiga ratus rupiah.\\nPasal 165 \\n(1) Barang siapa mengetahui ada niat untuk melakukan salah satu kejahatan \\nberdasarkan pasal-pasal 104, 106, 107, dan 108, 110 - 113, dan 115 - 129 dan 131 \\natau niat untuk lari dari tentara dalam masa perang, untuk desersi, untuk \\nmembunuh dengan rencana, untuk menculik atau memperkosa atau mengetahui adanya \\nniat untuk melakukan kejahatan tersebut dalam bab 8 dalam kitab undang-undang \\nini, sepanjang kejahatan itu membahayakan nyawa orang atau untuk melakukan salah \\nsatu kejahatan berdasarkan pasal- pasal 224 228, 250 atau salah satu kejahatan \\nberdasarkan pasal-pasal 264 dan 275 sepanjang mengenai surat kredit yang \\ndiperuntukkan bagi peredaran, sedang masih ada waktu untuk mencegah kejahatan \\nitu, dan dengan sengaja tidak segera memberitahukan hal itu kepada pejabat \\nkehakiman atau kepolisian atau kepada orang yang terancam oleh kejahatan itu, \\ndipidana jika kejahatan itu jadi dilakukan, dengan pidana penjara paling lama \\nsembilan bulan atau pidana denda paling banyak empat ribu lima ratus rupiah.\\n(2) Pidana tersebut diterapkan terhadap orang yang mengetahui bahwa sesuatu \\nkejahatan berdasarkan ayat 1 telah dilakukan, dan telah membahayakan nyawa orang \\npada saat akihat masih dapat dicegah, dengan sengaja tidak memheritahukannya \\nkepada pihak- pihak tersebut dalam ayat l. \\nPasal 166\\nKetentuan dalam pasal 164 dan 165 tidak berlaku bagi orang yang dengan \\nmemberitahukan itu mungkin mendatangkan bahaya penuntutan pidana bagi diri \\nsendiri, bagi seorang keluarganya sedarah atau semenda dalam garis lurus atau \\ngaris menyimpang derajat kedua atau ketiga, bagi suami atau bekas suaminya, atau \\nbagi orang lain yang jika dituntut, berhubung dengan jabatan atau pencariannya, \\ndimungkinkan pembebasan menjadi saksi terhadap orang tersebut. \\nPasal 167 \\n(1) Barang siapa memaksa masuk ke dalam rumah, ruangan atau pekarangan tertutup \\nyang dipakai orang lain dengan me- lawan hukum atau berada di situ dengan \\nmelawan hukum, dan atas permintaan yang berhak atau suruhannya tidak pergi \\ndengan segera, diancam dengan pidana penjara paling lema sembilan bulan atau \\npidana denda paling banyak empat ribu lima ratus rupiah. \\n(2) Barang siapa masuk dengan merusak atau memanjat, dengan menggunakan anak \\nkunci palsu, perintah palsu atau pakaian jahatan palsu, atau barang siapa tidak \\nsetahu yang berhak lebih dahulu serta bukan karena kekhilafan masuk dan \\nkedapatan di situ pada waktu malam, dianggap memaksa masuk. \\n(3) Jika mengeluarkan ancaman atau menggunakan sarana yang dapat menakutkan \\norang, diancam dengan pidana penjara paling lama satu tahun empat bulan.\\n(4) Pidana tersebut dalam ayat 1 dan 3 dapat ditambah sepertiga jika yang \\nmelakukan kejahatan dua orang atau lebih dengan bersekutu. \\nPasal 168\\n(1) Barang siapa memaksa masuk ke dalam ruangan untuk dinas umum, atau berada di \\nsitu dengan melawan hukum, dan atas permintaan pejabat yang berwenang tidak \\npergi dengan segera, diancam dengan pidana penjara paling lama empat bulan dua \\nminggu atau pidana denda paling banyak empat ribu lima ratus rupiah.\\n(2) Barang siapa masuk dengan merusak atau memanjat, dengan menggunakan anak \\nkunci palsu, perintah palsu, atau pakaian jabatan palsu, atau barang siapa tidak \\nsetahu pejabat yang berwenang lebih dahulu serta bukan karena kekhilafan masuk \\ndan kedapatan di situ pada waktu malam, dianggap memaksa masuk. \\n(3) Jika ia mengeluarkan ancaman atau menggunakan sarana yang dapat menakutkan \\norang, diancam dengan pidana penjara menjadi paling lama satu tahun empat bulan. \\n\\n(4) Pidana tersebut dalam ayat 1 dan 3 dapat ditambah sepertiga, jika yang \\nmelakukan kejahatan dua orang atau lebih dengan bersekutu. \\nPasal 169\\n(1) Turut serta dalam perkumpulan yang bertujuan melakukan kejahatan. atau turut \\nserta dalam perkumpulan lainnya yang dilarang oleh aturan-aturan umum, diancam \\ndengan pidana penjara paling lama enam tahun. \\n(2) Turut serta dalam perkumpulan yang bertujuan melakukan pelanggaran, diancam \\ndengan pidana penjara paling lama sembilan bulan atau pidana denda paling banyak \\nempat ribu lima ratus rupiah. \\n(3) Terhadap pendiri atau pengurus, pidana dapat ditambah sepertiga.\\nPasal 170\\n(1) Barang siapa dengan terang-terangan dan dengan tenaga bersama menggunakan \\nkekerasan terhadap orang atau barang, diancam dengan pidana penjara paling lama \\nlima tahun enam bulan.\\n(2) Yang bersalah diancam: \\n1. dengan pidana penjara paling lama tujuh tahun, jika ia dengan sengaja \\nmenghancurkan barang atau jika kekerasan yang digunakan mengakibatkan luka-luka;\\n2. dengan pidana penjara paling lama sembilan tahun, jika kekerasan \\nmengakibatkan luka berat; 3. dengan pidana penjara paling lama dua belas tahun, \\njika kekerasan mengakibatkan maut. \\n(3) Pasal 89 tidak diterapkan.\\nPasal 171 \\nPasal ini ditiadakan berdasarkan Undang-undang no. 1 Tahun 1946, pasal 8, butir \\n37.\\nPasal 172\\nBarang siapa dengan sengaja mengganggu ketenangan dengan mengeluarkan teriakan- \\nteriakan, atau tanda-tanda bahaya palsu, diancam dengan pidana penjara paling \\nlama tiga minggu atau pidana denda paling banyak sembilan ratus rupiah.\\nPasal 173 \\nBarang siapa dengan kekerasan atau ancaman kekerasan merintangi rapat, umum yang \\ndiizinkan, diancam dengan pidana penjara paling lama satu tahun. \\nPasal 174 \\nBarang siapa dengan sengaja mengganggu rapat umum yang diizinkan dengan jalan \\nmenimbulkan kekacauan atau suara gaduh, diancam dengan pidana penjara paling \\nlama tiga minggu atau pidana denda paling banyak sembilan ratus rupiah.\\nPasal 175\\nBarang siapa dengan kekerasan atau ancaman kekerasan merintangi pertemuan \\nkeagamaan yang bersifat umum dan diizinkan, atau upacara keagamaan yang \\ndiizinkan, atau upacara penguburan jenazah, diancam dengan pidana penjara paling \\nlama satu tahun empat bulan.\\nPasal 176\\nBarang siapa dengan sengaja mengganggu pertemuan keagamaan yang bersifat, umum \\ndan diizinkan, atau upacara keagamaan yang diizinkan atau upacara penguburan \\njenazah, dengan menimbulkan kekacauan atau suara gaduh, diancam dengan pidana \\npenjara paling lama satu bulan dua minggu atau pidana denda paling banyak seribu \\ndelapan ratus rupiah.\\nPasal 177\\nDiancam dengan pidana penjara paling lama empat bulan dua minggu atau pidana \\ndenda paling banyak seribu delapan ratus rupiah:\\n1. barang siapa menertawakan seorang petugas agama dalam men- jalankan tugas \\nyang diizinkan; \\n2. barang siapa menghina benda-benda untuk keperluan ibadat di tempat atau padu \\nwaktu ibadat dilakukan. \\nPasal 178 \\nBarang siapa dengan sengaja merintangi atau menghalang-halangi jalan masuk atau \\npengangkutan mayat ke kuburan yang diizinkan, diancam dengan pidana penjara \\npaling lama satu bulan dua minggu atau pidana denda paling banyak seribu delapan \\nratus rupiah.\\nPasal 179 \\nBarang siapa dengan sengaja menodai kuburan atau dengan sengaja dan melawan \\nhukum menghancurkan atau merusak tanda peringntan di tempat kuburan, diancam \\ndengan pidana penjara paling lama satu tahun empat bulan. \\nPasal 180 \\nBarang siapa dengan sengaja dan melawan hukum menggali atau mengambil jenazah \\natau memindahkan atau mengangkut jenazah yang sudah digali atau diambil, diancam \\ndengan pidana penjara paling lama satu tahun empat bulan atau pidana denda \\npaling banyak empat ribu lima ratus rupiah. \\nPasal 181\\nBarang siapa mengubur, menyembunyikan, membawa lari atau menghilangkan mayat \\ndengan maksud menyembunyikan kematian atau kelahirannya, diancam dengan pidana \\npenjara paling lama sembilan bulan atau pidana denda paling banyak empat ribu \\nlirna ratus rupiah.\\nBab VI - Perkelahian Tanding\\nPasal 182 \\nDengan pidana penjara paling lama sembilan bulan, diancam: \\n(1) barang siapa menantang seorang untuk perkelahian tanding atau rnenyuruh \\norang menerima tantangan, bilamana hal itu mengakibatkan perkelahian tanding;\\n(2) barang siapa dengan sengaja meneruskan tantangan, bilamana hal itu \\nmengakibatkan perkelahian tanding.\\nPasal 183\\nDiancam dengan pidana penjara paling lama enam bulan atau pidana denda paling \\ntinggi tiga ratus rupiah, barang siapa di muka umum atau di hadapan pihak ketiga \\nmencerca atau mengejek seseorang oleh karena yang bersangkutan tidak rnau \\nmenentang atau menolak tantangan untuk perkelahian tanding. \\nPasal 184\\n(1) Seseorang diancam dengan pidana penjara paling lama sembilan bulan, jika ia \\ndalam perkelahian tanding itu tidak melukai tubuh pihak lawannya.\\n(2) Diancam dengan pidana penjara paling lama satu tahun dan empat bulan, barang \\nsiapa melukai tmbuh lawannya. \\n(3) Diancam dengan pidana penjma paling lama empat tahun, barang siapa melukai \\nberat tubuh lawannya.\\n(4) Barang siapa yang merampas nyawa lawannya, diancam dengan pidana penjara \\npaling lama tujuh tahun, atau jika perkelahian tanding itu dilakukan dengan \\nperjanjian hidup atau mati, diancam dengan pidana penjara paling lama dua belas \\ntahun.\\n(5) Percobaan perkelahian tanding tidak dipidana. \\nPasal 185\\nBarang siapa dalam perkelahian tanding merampas nyawa pihak lawan atau melukai \\ntubuhnya, maka diterapkan ketentuan-ketentuan mengenai pembunuhan berencana, \\npembunuhan atau penganiayaan: \\n1. jika persyaratan tidak diatur terlebih dahulu; \\n2.jika perkelahian tanding tidak dilakukan di hadapan saksi kedua belah pihak;\\n3.jika pelaku dengmi sengaja dan merugikan pihak lawan, bersalah melakukan \\nperbuatan penipuan atau yang menyimpang dari persy aratan.\\nPasal 186\\n(1) Para saksi dan dokter yang menghadiri perkelahian tanding, tidak dipidana.\\n(2) Para saksi diancam:\\n1.dengan pidana penjara paling lama tiga tahun, jika persyaratan tidak diatur \\nterlebih dahulu, atau jika para saksi menghasut para pihak untuk perkelahian \\ntanding; \\n2. dengan pidana penjara paling lama empat tahun, jika para saksi dengan sengaja \\ndan merugikan salah satu atau kedua belah pihak, bersalah melakukan perbuatan \\npenipuan atau membiarkan para pihak melakukan perbuatan penipuan, atau \\nmembiarkan dilakukan penyimpangan daripada syarat-syarat;\\n3. ketentuan-ketentuan mengenai pembunuhan berencana, pembunuhan atau \\npenganiayaan diterapkan terhadap saksi dalam perkelahian tanding, di mana satu \\npihak dirampas nyawanya atau menderita karena dilukai tubuhnya, jika ia dengan \\nsengaja dan merugikan pihak itu bersalah melakukan perbuatan penipuan atau \\nmembiarkan penyimpangan dari persyaratan yang merugikan yang dikalahkan atau \\ndilukai.\\nBab VII - Kejahatan Yang Membahayakan Keamanan Umum Bagi Orang Atau Barang\\nPasal 187 \\nBarang siapa dengan sengaja menimbulkan kebakaran, ledakan atau banjir, diancam: \\n\\n1. dengan pidana penjara paling lama dua belas tahun, jika karena perbuatan \\ntersebut di atas timbul bahaya umum bagi barang;\\n2. dengan pidana penjara paling lama lima belas tahun, jika karena perbuatan \\ntersebut di atas timbul bahaya bagi nyawa orang lain; 3. dengan pidana penjara \\nseumur hidup atau selama waktu tertentu paling lama dua puluh tahun, jika karena \\nperbuatan tersebut di atas timbul bahaya bagi nyawa orang lain dan meng- \\nakibatkan orang mati.\\nPasal 187 bis\\n(1) Barang siapa membuat, menerima, berusaha memperoleh, mempunyai persediaan, \\nmenyembunyikan, mengangkut otau memasukkan ke Indonesia bahan-bahan, benda- \\nbenda atau perkakas-perkakas yung diketahui atau selayaknya harus diduga bahwa \\ndiperuntukkan, atau kalau ada kesempatan akan diperuntukkan, untuk menimbulkan \\nledakan yang membahayakan nyawa orang atau menimbulkan bahaya umum bagi barang, \\ndiancam dengan pidana penjara paling lama delapan tahun atau pidana kurungan \\npaling lama satu tahun,\\n(2) Tidak mampunya bahan-bahan, benda-benda atau perkakas- perkakas untuk \\nmenirnbulkan ledakan; seperti tersebut di atas, tidak menghapuskan pengenaan \\npidana. \\nPasal 187 ter \\nPermufakatan jahat, untuk melakukan salah satu kejahatan tersebut dalam pasal \\n187 dan 187 his, diancam dengan pidana penjara paling lama lima tahun.\\nPasal 188 ( L.N. 1960 - 1) \\nBarang siapa karena kesalahan (kealpaan) menyebabkan kebakar- an, ledakan atau \\nbanjir, diancam dengan pidana penjara paling lama lima tahun atau pidana \\nkurungan paling lama satu tahun atau pidnna denda paling banyak empat ribu lima \\nratus rupiah, jika karena perbuatan itu timbul bahaya umum bagi barang, jika \\nkarena perbuatan itu timbul bahaya bagi nyawa orang lain, atau jika karena \\nperbuatan itu mengakibatkan orang mati.\\nPasal 189 \\nBarang siapa pada waktu ada atau akan ada kebakaran, dengan sengaja dan melawan \\nhukum menyembunyikan atau membikin tak dapat dipakai perkakas-perkakas atau \\nalat- alat pemadam api atau dengan cara apa pun merintangi atau \\nmenghalang-halangi pekerjaan memadamkan api, diancam dengan pidana penjara \\npaling lama tujuh tahun.\\nPasal 190\\nBarang siapa pada waktu ada, atau akan ada banjir, dengan sengaja dan melawan \\nhukum menyembunyikan atau membikin tak dapat dipakai bahan-bahan untuk tanggul \\natau perkakas-perkakas atau menggagalkan usaha untuk membetulkan tanggul-tanggul \\natau bangunan-bangunan pengairan, atau merintangi usaha untuk mencegah atau \\nmenahan banjir, diancam dengan pidana penjara paling lama tujuh tahun.\\nPasal 191\\nBarang siapa dengan sengaja menghancurkan, membikin tak dapat dipakai atau \\nmerusak bangunan untuk menahan atau menyalurkan diani:am dengan pidana penjara \\npaling lama tujuh tahun jika karena perbuat:en itu timbul bahaya banjir. \\nPasal 191 bis\\nBarang siapa dvngan sengaja menghancurkan, merusak atau membikin tak dapat \\ndipakai hangunan listrik, atau menyenabkan jalan atau bekerjanya hangunan itu \\nterganggu, atau menggagalkan atau mcmpv.r.sukar usaha unt.uk menyelanmtkan atau \\nniembetulkan bangunan itu, diancam:\\n1. dengan pidana penjara paling lama sembilan bulan atau pidana denda paling \\nbanyak empat, ribu lima ratus rupiah, jika karena perbuatan itu timbul rintangan \\natau kesukaran dalam penyerahan tenaga listrik untuk kepentingan umum;\\n2. dengan pidana penjara paling lama tujuh tahun, jika karena perbuatan itu \\ntirnbul bahaya umum bagi barang; \\n3. dengan pidana penjara paling lama sembilan tahun, jika karena perbuatan itu \\ntimbul bahaya bagi nyawa orang lain; \\n4. dengan pidana penjara paling lama lima belas tahun, jika karena perbuatan itu \\ntimbul bahaya bagi nyawa orang lain dan mengakibatkan orang mati.\\nPasal 191 ter \\nBarang siapa karena kesalahannya (kealpaannya) menyebabkan suatu bangunan \\nlistrik hancur, rusak atau tak dapat dipakai atau menyebahkan jalannya atau \\nbekerjanya bangunan itu terganggu, atau usaha untuk menyelamatkan atau \\nmembetulkan bangunan itu gagal atau menjadi sukar, diancam:\\n1. dengan pidana penjara paling lama empat bulan dua minggu atau pidana kurungan \\npaling lama tiga bulan atau pidana denda paling banyak empat ribu lima ratus \\nrupiah, jika menimbulkan rintangan atau kesukaran dalam memberikan tenaga \\nlistrik untuk kepentingan umum atau menimbulkan bahaya umum bagi barang;\\n2. dengan pidana penjara paling lama sembilan bulan atau pidana kurungan paling \\nlama enam bulan atau pidana denda paling banyak empat ribu lima ratus rupiah, \\njika membahayakan nyawa orang lain;\\n3. dengan pidana penjara paling lama satu tahun empat bulan atau pidana kurungan \\npaling lama satu tahun, jika mengakibatkan orang mati. \\nPasal 192 \\nBarang siapa dengan sengaja menghancurkan, membikin tak dapat dipakai atau \\nmerusak bangunan untuk lalu lintas umum, atau me- rintangi jalan umum darat atau \\nair, atau menggagalkan usaha untuk pengamanan bangunan atau jalan itu, diancam:\\n1. dengan pidana penjara paling lama sembilan tahun, jika karena perbuatan itu \\ntimbul bahaya bagi keamanan lalu lintas, \\n2. dengan pidana penjara paling lama lima belas tahun, jika karena perbuatan itu \\ntimbul bahaya bagi keamanan lalu lintas dan mengakibatkan orang mati. \\nPasal 193 \\nBarang siapa karena kesalahannya (kealpaannya) menyebabkan bangunan untuk lalu \\nlintas umum dihancurkan, tidak dapat dipakai atau merusak, atau menyebabkan \\njalan umum darat atau air dirintangi, atau usaha untuk pengamanan bangunan atau \\njalan itu digagalkan, diancam: \\n1.dengan pidana penjara paling lama empat bulan dua minggu atau pidana kurungan \\npaling lama tiga bulan atau pidana denda paling banyak empat ribu lima ratus \\nrupiah, jika karena perbuatan itu timbul bahaya bagi keamanan lalu lintas;\\n2.dengan pidana penjara paling lama satu tahun empat bulan atau pidana kurungan \\npaling lama satu tahun, jika kerena perbuatan itu mengakibatkan orang mati.\\nPasal 194 \\n(1) Barang siapa dengan sengaja menimbulkan bahaya bagi lalu lintas umum yang \\ndigerakkan oleh tenaga uap atau berkekuatan mesin lain di jalan kereta api atau \\ntrem, diancam dengan pidana penjara paling lama lima belas tahun.\\n(2) Jika perbuatan itu mengakibatkan orang mati, yang bersalah diancam dengan \\npidana penjara seumur hidup atau pidana penjara selama waktu tertentu paling \\nlama dua puluh tahun.\\nPasal 195\\n(1) Barang siapa karena kesalahannya (kealpaannya) menimbulkan bahaya bagi lalu \\nlintas umum yang digerakkan oleh tenaga uap atau kekuatan mesin lain di jalan \\nkereta api atau trem, diancam dengan pidana penjara paling lama sembilan bulan \\natau pidana kurungan paling lama enam bulan atau pidana denda paling banyak \\nempat ribu lima ratus rupiah.\\n(2) Jika perbuatan itu mengakibatkan orang mati, yang bersalah diancam pidana \\npenjara paling lama satu tahun empat bulan atau pidana kurungan paling lama satu \\ntahun.\\nPasal 196\\nBarang siapa dengan sengaja menghancurkan, merusak, mengambil atau memindahkan \\ntanda untuk keamanan pelayaran, atau menggagalkan bekerjanya atau memasang tanda \\nyang keliru, diancam:\\n1. dengan pidana penjara paling lama dua belas tahun, jika karena perbuatan itu \\ntimbul bahaya bagi keamanan pelayaran;\\n2. dengan pidana penjara paling lama lima belas tahun, jika karena perbuatan itu \\ntimbul bahaya bagi keamanan pelayaran dan mengakibatkan tenggelam atau \\nterdamparnya kapal;\\n3. dengan pidana penjara seumur hidup atau pidana penjara selama waktu tertentu \\npaling lama dua puluh tahun, jika karena perbuatan itu timbul bahaya bagi \\nkeamanan pelayaran dan mengakibatkan orang mati.\\nPasal 197 \\nBarang siapa karena kesalahan (kealpaan) menyehabkan tanda untuk keamanan \\ndihancurkan, dirusak; diambil atau dipindahkan, atau menyebabkan dipasang anda \\nyang keliru, diancam: \\n1. dengan pidana penjara paling lama empat bulan dua minggu atau pidana kurungan \\npaling lama tiga bulan atau pidana denda paling banyak empat ribu lima ratus \\nrupiah, jika karena per- buatan itu pelayaran tidak aman;\\n2. dengan pidana penjara paling lama sembilan bulan atau pidana kurungan paling \\nlama enam bulan atau pidana denda paling banyak empat, rihu lima ratus rupiah, \\njika karena Ixrhuatan itu mengakibatkan tenggelam atau terdamparnya kapal, \\n3. dengan pidana peniara paling lama satu tahun empat bulan atau pidana kurungan \\npaling lama satu tahun, jika karena perbuatan itu mengakibatkan orang mati.\\nPasal 198\\nBarang siapa dengan sengaja dan melawan hukum menenggelamkan atau mendamparkan, \\nmenghancurkan, membikin tidak dapat dipakai atau merusak kapal, diancam:\\n1. dengan pidana penjara paling lama lima belas tahun, jika karena perbuatan itu \\ntimbul bahaya bagi nyawa orang lain; \\n2 dengan pidana penjara seumur hidup atau pidana penjara selama waktu tertentu \\npaling lama dua puluh tahun, jika karena perbuatan itu timbul bahaya bagi nyawa \\norang lain dan mengakibatkan orang mati.\\nPasal 199\\nBarang siapa karena kesalahan (kealpaannya) menyebabkan kapal tenggelam atau \\nterdampar, dihancurkan, tidak dapat dipakai atau dirusak, diancam:\\n1. dengan pidana penjara paling lama sembilan hulan atau pidana kurungan paling \\nlama enam bulan atau pidana denda paling banyak empat ribu lima ratus rupiah, \\njika karcna perbuatan itu timbul bahaya bagi orang lain;\\n2. dengan pidana penjara paling lama satu tahun empat bulan atau pidana kurungan \\npaling lama satu tahun, jika karena perbuatan itu mengakibatkan orang mati.\\nPasal 200\\nBarang siapa dengan sengaja menghancurkan atau merusak gedung atau bangunan \\ndiancam: \\n1. dengan pidana penjara paling lama dua belas tahun, jika karena perbuatan itu \\ntimbul bahaya umum bagi barang; \\n2. dengan pidana penjara paling lama lima belas tahun, jika karena perbuatan itu \\ntimbul bahaya bagi nyawa orang lain;\\n3. dengan pidana penjara seumur hidup atau pidana penjara selama waktu tertentu \\npaling lama dua puluh tahun, jika karena perbuatan itu timbul bahaya bagi nyawa \\norang lain dan mengakibatkan orang mati.\\nPasal 201\\nBarang siapa karena kesalahannya (kealpaannya) menyebabkan gedung atau bangunan \\ndihancurkan atau dirusak, diancam:\\n1. dengan pidana penjara paling lama empat bulan dua minggu atau pidana kurungan \\npaling lama tiga bulan atau pidana denda paling banyak empat ribu lima ratus \\nrupiah, jika perbuatan itu menimbulkan bahaya umum bagi barang;\\n2. dengan pidana penjara paling lama sembilan bulan atau pidana kurungan paling \\nlama enam bulan atau pidana denda paling banyak empat rihu lima ratus rupiah, \\njika petbuatan itu menimbulkan bahaya bagi nyawa orang; \\n3. dengan pidana penjara paling lama satu tahun empat bulan atau pidana kurungan \\npaling lama satu tahun jika perbuatan itu mengakibatkan orang mati. \\nPasal 202 \\n(1) Barang siapa memasukkan barang sesuatu ke dalam sumur, pompa, sumber atau ke \\ndalam perlengkapan air minum untuk umum atau untuk dipakai oleh atau \\nbersama-sama dengan orang lain, padahal diketahuinya bahwa karena perbuatan itu \\nair lalu berbahaya bagi nyawa atau kesehatan orang, diancam dengan pidana \\npenjara paling lama lima belas tahun. \\n(2) Jika perbuatan itu mengakibatkan orang mati, yang ber- salah diancam dengan \\npidana penjara seumur hidup atau pidana penjara selama waktu tertentu paling \\nlama dua puluh tahun.\\nPasal 203 \\n(1) Barang siapa karena kesalahannya (kealpaannya) menyebabkan bahwa barang \\nsesuatu dimasukkan ke dalam sumur, pompa, sumber atau ke dalam perlengkapan air \\nminum untuk umum atau untuk dipakai oleh, atau bersama-sama dengan orang lain, \\nsehingga karena perbuatan itu air lalu berbahaya bagi nyawa atau kesehatan \\norang, diancam dengan pidana penjara paling lama sembilan bulan atau pidana \\nkurungan paling lama enam bulan atau pidana denda paling banyak empat ribu lima \\nratus rupiah. \\n(2) Jika perbuatan itu mengakibatkan orang mati, yang bersalah diancam dengan \\npidana penjara paling lama satu tahun empat bulan atau pidana kurungan paling \\nlama satu tahun.\\nPasal 204 \\n(1) Barang siapa menjual, menawarkan, menyerahkan atau membagi-bagikan barang \\nyang diketahuinya membahayakan nyawa atau kesehatan orang, padahal sifat; \\nberhahaya itu tidak diberi tahu, diancam dengan pidana penjara paling lama lima \\nbelas tahun.\\n(2) Jika perbuatan itu mengakihatkan orang mati, yang bersalah diancam dengan \\npidana penjara seumur hidup atau pidana penjara selama waktu tertentu paling \\nlama dua puluh tahun.\\nPasal 205 \\n(1) Barang siapa karena kesalahannya (kealpaannya) menyebabkan barang-barang \\nyang berbahaya bagi nyawa atau kesehatan orang, dijual, diserahkan atau di \\nbagi-bagikan tanpa diketahui sifat berbahayanya oleh yang membeli atau yang \\nmemperoleh, diancam dengan pidana penjara paling lama sembilan bulan atau pidana \\nkurungan paling lama enam bulan atau pidana denda paling banyak empat ribu lima \\nratus rupiah.\\n(2) Jika perbuatan itu mengakibatkan orang mati, yang bersalah diancam dengan \\npidana penjara paling lama satu tahun empat bulan atau pidana kurungan paling \\nlama satu tahun.\\n(3) Barang-barang itu dapat disita.\\nPasal 206 \\n(1) Dalam hal pemidanaan karena salah satu kejahatan berdasarkan bab ini, yang \\nbersalah dapat dilarang menjalankan pencariannya ketika melakukan kejahatan \\ntersebut.\\n(2) Dalam hal pemidahaan berdasarkah salah satu kejahatan dalam pasal 204 dan \\n205, hakim dapat memerintahkan supaya putusan diumumkan\\nBab VIII - Kejahatan Terhadap Penguasa Umum\\nPasal 207\\nBarang siapa dengan sengaja di muka umum dengan lisan atau tulisan menghina \\nsuatu penguasa atau hadan umum yang ada di Indonesia, diancam dengan pidana \\npenjara paling lama satu tahun enam bulan atau pidana denda paling banyak empat \\nribu lima ratus rupiah. \\nPasal 208 \\n(1) Barang siapa menyiarkan, mempertunjukkan atau menempelkan di muka umum suatu \\ntulisan atau lukisan yang memuat penghinaan terhadap penguasa atau badan umum \\nyang ada di Indonesia dengan maksud supaya isi yang menghina itu diketahui atau \\nlebih diketahui oleh umum, diancam dengan pidana penjara paling lama empat bulan \\natau pidana denda paling banyak empat ribu lima ratus rupiah.\\n(2) Jika yang bersalah melakukan kejahatan tersebut dalam pencariannya dan \\nketika itu belum lewat dua tahun sejak adanya pemidanaan yang menjadi tetap \\nkarena kejahatan semacam itu juga, maka yang bersangkutan dapat dilarang \\nmenjalankan pencarian tersebut. \\nPasal 209 \\n(1) Diancam dengan pidana penjara paling lama dua tahun delapan bulan atau \\npidana denda paling banyak empat ribu lima ratus rupiah: \\n1. barang siapa memberi atau menjanjikan sesuatu kepada seorang pejabat dengan \\nmaksud menggerakkannya untuk berbuat atau tidak berbuat sesuatu dalam jabatannya \\nyang bertentangan dengan kewajibannya;\\n2. barang siapa memberi sesuatu kepada seorang pejabat karena atau berhubung \\ndengan sesuatu yang bertentangan dengan kewajiban, dilakukan atau tidak \\ndilakukan dalam jabatannya. Pencabutan hak tersebut dalam pasal 35 No. 1- 4 \\ndapat dijatuhkan.\\nPasal 210\\n(1) Diancam dengan pidana penjara paling lama tujuh tahun: \\n1. barang siapa memberi atau menjanjikan sesuatu kepada seorang hakim dengan \\nmaksud untuk mempengaruhi putusan tentang perkara yang diserahkan kepadanya \\nuntuk diadili;\\n2. barang siapa memberi atau menjanjikan sesuatu kepada seorang yang menurut \\nketentuan undang-undang ditentukan menjadi penasihat atau adviseur untuk \\nmenghadiri sidang atau pengadilan, dengan maksud untuk mempengaruhi nasihat atau \\npendapat yang akan diherikan berhubung dengan perkara yang diserahkan kepada \\npengadilan untuk diadili.\\n(2) Jika pemberian atau janji dilakukan dengan maksud supaya dalam perkara \\npidana dijatuhkan pemidanaan, maka yang bersalah diancam dengan pidana penjara \\npaling lama sembilan tahun. \\n(3) Pencabutan hak berdasarkan pasal 35 No. 1- 4 dapat dijatuhkan.\\nPasal 211\\nBarang siapa dengan kekerasan atau ancaman kekerasan memaksa seorang pejabat \\nuntuk melakukan perbuatan jabatan atau untuk tidak melakukan perbuatan jabatan \\nyang sah, diancam dengan pidana penjara paling lama empat tahun.\\nPasal 212 \\nBarang siapa dengan kekerasan atau ancaman kekerasan melawan seorang pejabat \\nyang sedang menjalankan tugas yang sah, atau orang yang menurut kewajiban \\nundang-undang atau atas permintaan pejabat memberi pertolongan kepadanya, \\ndiancam karena melawan pejabat, dengan pidana penjara paling lama satu tahun \\nempat bulan atau pidana denda paling banyak empat ribu lima ratus rupiah.\\nPasal 213\\nPaksaan dan perlawanan berdasarkan pasal 211 dan 212 diancam:\\n1. dengan pidana penjara paling lama lima tahun, jika kejahatan atau perbuatan \\nlainnya ketika itu mengakibatkan luka-luka;\\n2. dengan pidana penjara paling lama delapan tahun enam bulan, jika \\nmengakibatkan luka-luka berat; \\n3. dengan pidana penjara paling lama dua belas tahun jika mengakibatkan orang \\nmati.\\nPasal 214\\n(1) Paksaan dan perlawanan berdasarkan pasal 211 dan 212 jika dilakukan oleh dua \\norang atau lehih dengan bersekutu, diancam dengan pidana penjara paling lama \\ntujuh tahun.\\n(2)Yang bersalah dikenakan: \\n1. pidana penjara paling lama delapan tahun enam bulan, jika kejahatan atau \\nperbuatan lainnya ketika itu mengakibatkan luka-luka; \\n2. pidana penjara paling lama dua belas tahun, jika mengakibatkan luka berat; \\n3. pidana penjara paling lama lima helas tahun, jika mengakibatkan orang mati. \\nPasal 215 \\nDisamakan dengan pejabat dalam pasal 211 - 214:\\n1. orang yang menurut ketentuan undang-undang terus-menerus atau untuk sementara \\nwaktu diserahi menjalankan sesuatu jabatan umum;\\n2. pengurus dan para pegawai yang disumpah serta pekerja-pekerja pada jawatan \\nkereta api dan trem untuk lalu lintas umum, di mana pengangkutan dijalankan \\ndengan tenaga uap atau mesin lainnya. \\nPasal 216 \\n(1) Barang siapa dengan sengaja tidak menuruti perintah atau permintaan yang \\ndilakukan menurut undang-undang oleh pejabat yang tugasnya mengawasi sesuatu, \\natau oleh pejabat berdasarkan tugasnya, demikian pula yang diberi kuasa untuk \\nmengusut atau memeriksa tindak pidana; demikian pula barang siapa dengan sengaja \\nmencegah, menghalang-halangi atau menggagalkan tindakan guna menjalankan \\nketentuan undang- undang yang dilakukan oleh salah seorang pejabat tersebut, \\ndiancam dengan pidana penjara paling lama empat bulan dua minggu atau pidana \\ndenda puling banyak sembilan ribu rupiah. \\n(2) Disamakan dengan pejahat tersebut di atas, setiap orang yang menurut \\nketentuan undang-undang terus-menerus atau untuk sementara waktu diserahi tugas \\nmenjalankan jabatan umum.\\n(3) Jika pada waktu melakukan kejahatan belum lewat dua tahun sejak adanya \\npemidanaan yang menjadi tetap karena kejahatan semacam itu juga, maka pidananya \\ndapat ditambah sepertiga.\\nPasal 217 \\nBarang siapa menimbulkan kegaduhan dalam sidang pengadilan atau di tempat di \\nmana seorang pejabat sedang menjalankan tugasnya yang sah di muka umum, dan \\ntidak pergi sesudah diperintah oleh atau atas nama penguasa yang berwenang, \\ndiancam dengan pidana penjara paling lama tiga minggu atau pidana denda paling \\nbanyak seribu delapan ratus rupiah.\\nPasal 218\\nBarang siapa pada waktu rakyat datang berkerumun dengan se- ngaja tidak segera \\npergi setelah diperintah tiga kali oleh atau atas nama penguasa yang berwenang, \\ndiancam karena ikut serta perkelompokan dengan pidana penjara paling lama empat \\nbulan dua minggu atau pidana denda paling banyak sembilan ribu rupiah. \\nPasal 219\\nBarang siapa secara melawan hukum merobek, membikin tak dapat dihaca atau \\nmerusak maklumat yang diumumkan atas nama penguasa yang berwenang atau menurut, \\nketentuan undang-undang, dengan maksud untuk mencegah atau menyukarkan orang \\nmengetahui isi maklumat itu, diancam dengan pidana penjara paling lama satu \\nbulan dua minggu atau pidana denda paling banyak empat ribu lima ratus rupiah.\\nPasal 220 \\nBarang siapa memberitahukan atau mengadukan bahwa telah dilakukan suatu \\nperbuatan pidana, padahal mengetahui bahwa itu tidak dilakukan, diancam dengan \\npidana penjara paling lama satu tahun empat bulan.\\nPasal 221 \\n(1) Diancam dengan pidana penjara paling lama sembilan bulan atau pidana denda \\npaling banyak empat rihu lima ratus rupiah:\\n1.barang siapa dengan sengaja menyembunyikan orang yang melakukan kejahatan atau \\nyang dituntut karena kejahatan, atau barang siapa memberi pertolongan kepadanya \\nuntuk menghindari penyidikan atau penahanan oleh penjahat kehakiman atau \\nkepolisian, atau oleh orang lain yang menurut ketentuan undang-undang \\nterus-menerus atau untuk sementara waktu diserahi menjalankan jabatan \\nkepolisian;\\n2. barang siapa setelah dilakukan suatu kejahatan dan dengan maksud untuk \\nmenutupinya, atau untuk menghalang-halangi atau mempersukar penyidikan atau \\npenuntutannya, menghancurkan, menghilangkan, menyembunyikan benda-benda terhadap \\nmana atau dengan mana kejahatan dilakukan atau bekas-bekas kejahatan lainnya, \\natau menariknya dari pemeriksaan yang dilakukan oleh pejabat kehakiman atau \\nkepolisian maupun olsh orang lain, yang menurut ketentuan undang-undang terus- \\nmenerus atau untuk sementara waktu diserahi menjalankan jabatan kepolisian. \\n(2) Aturan di atas tidak berlaku bagi orang yang melakukan perbuatan tersebut \\ndengan maksud untuk menghindarkan atau menghalaukan bahaya penuntutan terhadap \\nseorang keluarga sedarah atau semenda garis lurus atau dalam garis menyimpang \\nderajat kedua atau ketiga, atau terhadap suami/istrinya atau bekas \\nsuami/istrinya. \\nPasal 222\\nBarang siapa dengan sengaja mencegah, menghalang-halangi atau menggagalkan \\npemeriksaan mayat forensik, diancam dengan pidana penjara paling lama sembilan \\nbulan atau pidana denda paling banyak empat ribu lima ratus rupiah.\\nPasal 223 \\nBarang siapa dengan sengaja melepaskan atau memberi pertolongan ketika \\nmeloloskan diri kepada orang yang ditahan atas perintah penguasa umum, atas \\nputusan atau ketetapan hakim, diancam dengan pidana penjara paling lama dua \\ntahun delapan bulan. \\nPasal 224\\nBarang siapa dipanggil sebagai saksi, ahli atau juru bahasa menurut \\nundang-undang dengan sengaja tidak memenuhi kewajiban berdasarkan undang-undang \\nyang harus dipenuhinya, diancam:\\n1. dalam perkara pidana, dengan pidana penjara paling lama sembilan bulan;\\n2. dalam perkara lain, dengan pidana penjara paling lama enam bulan. \\nPasal 225\\nBarang siapa dengan sengaja tidak memenuhi perintah undang-undang untuk \\nmenyerahkan surat-surat yang dianggap palsu atau dipalsukan, atau yang harus \\ndipakai untuk dibandingkan dengan surat lain yang dianggap palsu atau dipalsukan \\natau yang kebenarannya disangkal atau tidak diakui, diancam: \\n1. dalam perkara pidana, dengan pidana penjara paling lama sembilan bulan;\\n2. dalam perkara lain, dengan pidana penjara paling lama enam bulan;\\nPasal 226\\nBarang siapa dinyatakan pailit atau dalam keadaan tak mampu atau sebagai \\nsuami/istri orang yang pailit dalam perkawinan dengan persatuan harta kekayaan \\natau sebagai pengurus atau komisaris suatu perseroan, perkumpulan atau yayasan \\nyang dinyatakan pailit, dan dipanggil berdasarkan ketentuan undang-undang untuk \\nmemberi keterangan, dengan sengaja tidak hadir tanpa alasan yang sah, atau \\nenggan memberi keterangan yang diminta ataupun dengan sengaja memberi keterangan \\nyang keliru, diancam dengan pidana penjara paling lama satu tahun empat bulan. \\nPasal 227\\nBarang siapa melaksanakan suatu hak, padahal ia mengetahui bahwa dengan putusan \\nhakim hak tadi telah dicabut, diancam dengan pidana penjara paling lama sembilan \\nbulan atau pidana denda paling banyak sembilan ratus rupiah.\\nPasal 228 \\nBarang siapa dengan sengaja memakai tanda kepangkatan atau melakukan perbuatan \\nyang termasuk jabatan yang tidak dijabatnya atau yang ia sementara dihentikan \\ndaripadanya, diancam dengan pidana penjara paling lama dua tahun atau pidana \\ndenda paling banyak empat ribu lima ratus rupiah.\\nPasal 229\\nBarang siapa dengan sengaja memakai tanda kebesaran yang berhubungan dengan \\npangkat atau gelar yang tidak dimilikinya, diancam dengan pidana penjara paling \\nlama empat bulan dua minggu atav pidana denda paling banyak empat ribu lima \\nratus rupiah.\\nPasal 230 \\nPasal ini ditiadakan berdasarkan Undang-undang No.1 Tahun 1946 pasal 8, butir \\n41. \\nPasal 231\\n(1) Barang siapa dengan sengaja menarik suatu barang yang disita berdasarkan \\nketentuanundang-undang atau yang dititipkan atas perintah hakim, atau dengan \\nmengetahui bahwa barang ditarik dari situ, menyembunyikannya, diancam dengan \\npidana penjara paling lama empat tahun.\\n(2) Dengan pidana yang sama, diancam barang siapa dengan sengaja menghancurkan, \\nmerusak atau membikin tak dapat dipakai barang yang disita berdasarkan ketentuan \\nundang-undang. \\n(3) Penyimpan barang yang dengan sengaja melakukan atau membiarkan dilakukan \\nsalah satu kejahatan itu, atau sebagai pembantu menolong perbuatan itu, diancam \\ndengan pidana penjara paling lama lima tahun.\\n(4) Jika salah satu perbuatan dilakukan karena kealpaan penyimpan barang, \\ndiancam dengan pidana kurungan paling lama satu bulan atau pidana denda paling \\nbanyak seribu delapan ratus rupiah.\\nPasal 232 \\n(1) Barang siapa dengan sengaja memutus, membuang atau merusak penyegelan suatu \\nbenda oleh atau atas nama penguasa umum yang berwenang, atau dengan cara lain \\nmenggagalkan penutupan dengan segel, diancam dengan pidana penjara paling lama \\ndua tahun delapan bulan.\\n(2) Penyimpan barang yang dengan sengaja melakukan atau membiarkan perbuatan \\ntersebut, atau sebagai pembantu menolong perbuatan itu, diancam dengan pidana \\npenjara paling lama empat tahun. \\n(3) Jika perbuatan dilakukan karena kealpaan penyimpan barang, diancam dengan \\npidana kurungan paling lama satu bulan atau pidana denda paling banyak seribu \\ndelapan ratus rupiah. \\nPasal 233\\nBarang siapa dengan sengaja menghancurkan, merusak, membikin tak dapat dipakai, \\nmenghilangkan barang-barang yang digunakan untuk meyakinkan atau membuktikan \\nsesuatu di muka penguasa yang berwenang, akta-akta, surat-surat atau \\ndaftar-daftar yang atas perintah penguasa umum, terus-menerus atau untuk \\nsementara waktu disimpan, atau diserahkan kepada seorang pejabat, ataupun kepada \\norang lain untuk kepentingan umum, diancam dengan pidana penjara paling lama \\nempat tahun.\\nPasal 234 \\nBarang siapa dengan sengaja menarik dari alamatnya, membuka, atau merusak suzat- \\nsurat atau barang-barang lain yang diserahkan ke kantor pos atau kantor \\ntelegram, atau yang telah dimasukan dalam kotak pos atau dipercayakan kepada \\nseorang pembawa surat, diancam dengan pidana penjara paling lama satu tahun \\nempat bulan.\\nPasal 235 \\nJika yang bersalah melakukan salah satu kejahatan berdasarkan pasal 231 - 234, \\nmasuk ke tempat kejahatan dengan membongkar, merusak atau memanjat, dengan \\nmemakai anak kunci palsu, perintah palsu atau pakaian jabatan palsu, pidananya \\nboleh ditambah menjadi lipat dua.\\nPasal 236\\nBarang siapa pada waktu damai dengan memakai salah satu cara berdasarkan pasal \\n55 No. 2 sengaja menganjurkan seorang anggota tentara dalam dinas negara supaya \\nmelarikan diri, atau mempermudahnya menurut salah satu cara berdasarkan pasal \\n56, diancam dengan pidana penjara paling lama sembilan bulan. \\nPasal 237 \\nBarang siapa pada waktu damai dengan memakai salah satu cara berdasarkan pasal \\n55 No. 2 sengaja menganjurkan supaya ada huru-hara atau pemberontakan di \\nkalangan anggota Angkatan Bersenjata dalam dinas Negara atau mempermudahnya \\nmenurut sesuatu cara yang berdasarkan pasal 56, diancam dengan pidana penjara \\npaling lama tujuh tahun.\\nPasal 238\\nBarang siapa tanpa persetujuan Presiden mengajak masuk seorang menjadi tentara \\nnegara asing, diancam dengan pidana penjara paling lama satu tahun empat bulan \\natau pidana denda paling hanyak empat ribu lima ratus rupiah.\\nPasal 239 \\nBarang siapa tanpa persetujuan Presiden mengajak seorang warga negara Indonesia \\nbekerja di luar Indonesia atau untuk mempertunjukkan di luar Indonesia cara \\nsewajarnya kehidupan rakyat Indonesia. diancam dengan pidana penjara paling lama \\nenam hulan atau pidana denda paling banyak empat ribu lima ratus rupiah.\\nPasal 240 \\n(1) Diancam dengan pidana penjara paling lama dua tahun delapan bulan: \\n1.barang siapa dengan sengaja membikin atau menyuruh membikin dirinya tak mampu \\nuntuk memenuhi kewajib an berdasarkan pasal 30 Undang-Undang Dasar Republik \\nIndonesia:\\n2.barang siapa atas permintaan orang lain, dengan sengaja membikin orang itu tak \\nmampu memenuhi kewajiban tersebut.\\n(2) Jika perbuatan terakhir mengakibatkan kematian. diancam dengan pidana \\npenjara paling lama tujuh tahun. \\nPasal 241\\nDiancam dengan pidana penjara paling lama tiga bulan atau pidana denda paling \\nbanyak empat ribu lima ratus rupiah: \\n1. ditiadakan berdasarkan L.N. 1955 - 28;\\n2. barang siapa dalam pengangkut ternak yang diwajibkan memakai pas pengantar, \\npada waktu mengangkut dengan sengaja memakai pas yang diberikan untuk ternak \\nlain, seolah-olah diberikan untuk yang diangkut.\\nBab IX - Sumpah Palsu Dan Keterangan Palsu\\nPasal 242 \\n(1) Barang siapa dalam keadaan di mana undang-undang menentukan supaya memberi \\nketerangan di atas sumpah atau mengadakan akibat hukum kepada keterangan yang \\ndemikian, dengan sengaja memberi keterangan palsu di atas sumpah, baik dengan \\nlisan atau tulisan, secara pribadi maupun oleh kuasanya yang khusus ditunjuk \\nuntuk itu, diancam dengan pidana penjara paling lama tujuh tahun.\\n(2) Jika keterangan palsu di atas sumpah diberikan dalam perkara pidana dan \\nmerugikan terdakwa atau tersangka, yang bersalah diancam dengan pidana penjara \\npaling lama sembilan tahun.\\n(3) Disamakan dengan sumpah adalah janji atau penguatan diharuskan menurut \\naturan- aturan umum atau yang menjadi pengganti sumpah. \\n(4) Pidana pencabutan hak berdasarkan pasal 35 No. 1 - 4 dapat dijatuhkan. \\nPasal 243\\nDitiadakan berdasarkan Stbl. 1931 No. 240.\\nBab X - Pemalsuan Mata Uang Dan Uang Kertas\\nPasal 244\\nBarang siapa meniru atau memalsu mata uang atau kertas yang dikeluarkan oleh \\nNegara atau Bank, dengan maksud untuk mengedarkan atau menyuruh mengedarkan mata \\nuang atau uang kertas itu sebagai asli dan tidak dipalsu, diancam dengan pidana \\npenjara paling lama lima belas tahun. \\nPasal 245\\nBarang siapa dengan sengaja mengedarkan mata uang atau uang kertas yang \\ndikeluarkan oleh Negara atau Bank sebagai mata uang atau uang kertas asli dan \\ntidak dipalsu, padahal ditiru atau dipalsu olehnya sendiri, atau waktu diterima \\ndiketahuinya bahwa tidak asli atau dipalsu, ataupun barang siapa menyimpan atau \\nmemasukkan ke Indonesia mata uang dan uang kertas yang demikian, dengan maksud \\nuntuk mengedarkan atau menyuruh mengedarkan sebagai uang asli dan tidak dipalsu, \\ndiancam dengan pidana penjara paling lama lima belas tahun. \\nPasal 246\\nBarang siapa mengurangi nilai mata uang dengan maksud untuk mengeluarkan atau \\nmenyuruh mengedarkan uang yang dikurangi nilainya itu, diancam karena merusak \\nuang dengan pidana penjara paling lama dua belas tahun. \\nPasal 247\\nBarang siapa dengan sengaja mengedarkan mata uang yang dikurangi nilai olehnya \\nsendiri atau yang merusaknya waktu diterima diketahui sebagai uang yang tidak \\nrusak, ataupun barang siapa menyimpan atau memasukkan ke Indonesia uang yang \\ndemikian itu dengan maksud untuk mengedarkan atau menyuruh mengedarkannya \\nsebagai uang yang tidak rusak, diancam dengan pidana penjara paling lama dua \\nbelas tahun.\\nPasal 248\\nDitiadakan berdasarkan Stbl. 1938 No. 593.\\nPasal 249\\nBarang siapa dengan sengaja mengedarkan mata uang yang tidak asli, dipalsu atau \\ndirusak atau uang kertas Negara atau Bank yang palsu atau dipalsu, diancam, \\nkecuali berdasarkan pasal 245 dan 247, dengan pidana penjara paling lama empat \\nbulan dua minggu atau pidana denda paling banyak empat ribu lima ratus rupiah.\\nPasal 250 \\nBarangsiapa membuat atau mempunyai persediaan bahan atau benda yang diketahuinya \\nbahwa itu digunakan untuk meniru, memalsu atau mengurangi nilai mata uang, atau \\nuntuk meniru atau memalsu uang kertas negara atau bank, diancam dengan pidana \\npenjara paling lama enam tahun atau pidana denda paling banyak empat ribu lima \\nratus rupiah.\\nPasal 250 bis\\nPemidanaan berdasarkan salah satu kejahatan yang diterangkan dalam bab ini: maka \\nmata uang palsu, dipalsu atau dirusak, uang kertas Negara atau Bank yang palsu \\natau dipalsukan, bahan-bahan atau benda-benda yang menilik sifatnya digunakan \\nuntuk meniru, memalsu atau mengurangi nilai mata uang atau uang kertas, \\nsepanjang dipakai untuk atau menjadi obyek dalam melakukan kejahatan, dirampas, \\njuga apabila barang- barang itu bukan kepunyaan terpidana.\\nPasal 251 \\nDiancam dengan pidana penjara paling lama satu tahun atau pidana denda paling \\nbanyak sepuluh ribu rupiah, barang siapa dengan sengaja dan tanpa izin \\nPemerintah, menyimpan atau memasukkan ke Indonesia keping-keping atau \\nlembar-lembaran perak, baik yang ada maupun yang tidak ada capnya atau \\ndikerjakan sedikit, mungkin dianggap sebagai mata uang, padahal tidak \\nnyata-nyata akan digunakan sebagai perhiasan atau tanda peringatan. \\nPasal 252 \\nDalam hal pemidanaan berdasarkan salah satu kejahatan yang diterangkan dalam \\npasal 244 - 247, maka hak-hak sebagaimana dimaksud dalam pasal 35 No. 1 - 4 \\ndapat dicabut.\\nBab XI - Pemalsuan Materai Dan Merek\\nPasal 253 \\nDiancam dengan pidana penjara paling lama tujuh tahun: \\n1. barang siapa meniru atau memalsu meterai yang dikeluarkan oleh Pemerintah \\nIndonesia, atau jika diperlukan tanda-tangan untuk sahnya meterai itu, barang \\nsiapa meniru atau memalsu tanda-tangan, dengan maksud untuk memakai atau \\nmenyuruh orang lain memakai meterai itu sebagai meterai yang asli dan tidak \\ndipalsu atau yang sah; \\n2 barang siapa dengan maksud yang sama, membikin meterai tersebut dengan \\nmenggunakan cap yang asli secara melawan hukum. \\nPasal 254\\nDiancam dengan pidana penjara paling lama enam tahun: \\n1. barang siapa membubuhi barang-barang emas atau perak dengan merek Negara yang \\ndipalsukan, atau dengan tanda keahlian menurut undang-undang yang dipalsukan \\natau memalsu merek atau tanda yang asli dengan maksud untuk memakai atau \\nmenyuruh orang lain memakai seolah-olah merek atau tanda itu asli dan tidak \\ndipalsu; \\n2 barang siapa dengan maksud yang sama membubuhi barang-barang tersebut dengan \\nmerek atau tanda, dengan menggunakan cap yang asli secara melawan hukum; \\n3. barang siapa memberi, menambah atau memindah merek Negara yang asli atau \\ntanda keahlian menurut undang-undang yang asli pada barang emas atau perak yang \\nlain daripada yang semula dibubuhi merek atau tanda itu, dengan maksud untuk \\nmemakai atau menyuruh orang lain memakai barang itu seolah-olah merek atau tanda \\ndari semula sudah dibubuhkan pada barang itu. \\nPasal 255\\nDiancam dengan pidana penjara paling lama empat tahun: \\n1. barang siapa membubuhi barang yang wajib ditera atau yang atas permintaan \\nyang berkepentingan diizinkan untuk ditera atau ditera lagi dengan tanda tera \\nIndonesia yang palsu, atau barang siapa memalsu tanda tera yang asli, dengan \\nmaksud untuk memakai atau menyuruh orang lain memakai barang itu seolah-olah \\ntanda teranya asli dan tidak dipalsu;\\n2 barang siapa dengan maksud yang sama membubuhi merek pada barang tersebut \\ndengan menggunakan cap yang asli secara melawan hukum; \\n3, barang siapa memberi, menambah atau memindahkan tera Indonesia yang asli \\nkepada barang yang lain daripada yang semula dibubuhi tanda itu, dengan maksud \\nuntuk memakai atau menyuruh orang lain memakai barang itu seolah-olah tanda \\ntersebut dari semula diadakan pada barang itu. \\nPasal 256\\nDiancam dengan pidana penjara paling lama tiga tahun:\\n1. barang siapa membubuhi merek lain daripada yang tersebut dalam pasal 254 dan \\n255, yang menurut ketentuan undang-undang harus atau boleh dibubuhi pada barang \\natau bungkusnya secara palsu pada barang atau bungkus tersebut, dengan maksud \\nuntuk memakai atau menyuruh orang lain memakai barang itu seolah-olah mereknya \\nasli dan tidak dipalsu; \\n2. barang siapa yang dengan maksud yang sama membubuhi merek pada barang atau \\nbungkusnya dengan memakai cap yang asli secara melawan hukum; \\n3. barang siapa memakai merek yang asli untuk barang atau bungkusnya, padahal \\nmerek itu bukan untuk barang atau bungkusnya itu, dengan maksud untuk memakai \\natau menyuruh orang lain memakai barang itu seolah-olah merek tersebut \\nditentukan untuk barang itu. \\nPasal 257\\nBarang siapa dengan sengaja memakai, menjual, menawarkan, menyerahkan, mempunyai \\npersediaan untuk dijual, atau memasukkan ke Indonesia, meterai, tanda atau merek \\nyang tidak asli, dipalsu atau dibikin secara melawan hukum, ataupun benda-benda \\ndi mana merek itu dibubuhkannya secara melawan hukum seolah-olah meterai, tanda \\natau merek itu asli, tidak dipalsu dan tidak dibikin secara melawan hukum, \\nataupun tidak dibubuhkan secara melawan hukum pada benda-benda itu, diancam \\ndengan pidana penjara sama dengan yang ditentukan dalam pasal 253 - 256, menurut \\nperbedaan yang ditentukan dalam pasal-pasal itu. \\nPasal 258\\n(1) Barang siapa memalsu ukuran atau takaran, anak timbangan atau timbangan \\nsesudah dibubuhi tanda tera, dengan maksud untuk memakai atau menyuruh orang \\nlain memakai barang itu seolah-olah asli dan tidak dipalsu, diancam dengan \\npidana penjara paling lama tiga tahun. \\n(2) Diancam dengan pidana yang sama barang siapa dengan sengaja memakai ukuran \\natau takaran, anak timbangan atau timbangan yang dipalsu, seolah-olah barang itu \\nasli dan tidak dipalsu. \\nPasal 259\\n(1) Barang siapa menghilangkan tanda apkir pada barang yang ditera dengan maksud \\nhendak memakai atau menyuruh orang lain memakai barang itu seolah-olah tidak \\ndiapkir, diancam dengan pidana penjara paling lama satu tahun empat bulan. \\n(2) Diancam dengan pidana yang sama barang siapa dengan sengaja memakai, \\nmenjual, menawarkan, menyerahkan atau mempunyai persediaan untuk dijual suatu \\nbenda yang dihilangkan tanda apkirnya seolah-olah benda itu tidak diapkir. \\nPasal 260\\nDiancam dengan pidana penjara paling lama empat tahun atau denda paling banyak \\nempat ribu lima ratus rupiah: \\n1. barang siapa pada meterai Pemerintah Indonesia yang telah dipakai, \\nmenghilangkan cap yang gunanya untuk tidak memungkinkan dipakainya lagi, dengan \\nmaksud untuk memakai atau menyuruh orang lain memakai, seolah-olah meterai itu \\nbelum dipakai; \\n2. barang siapa pada meterai Pemerintah Indonesia yang telah dipakai, dengan \\nmaksud yang sama menghilangkan tanda tangan, ciri atau tanda saat dipakainya, \\nyang menurut ketentuan undang-undang harus dihubuhkan di atas atau pada \\nmeterai-meterai tersebut. \\n(2) Diancam dengan pidana yang sama barang siapa dengan sengaja memakai, \\nmenjual, menawarkan, menyerahkan, mempunyai persediaan untuk dijual atau \\nmemasukkan ke Indonesia meterai yang capnya, tanda tangannya, ciri atau tanda \\nsaat dipakainya dihilangkan, seolah-olah meterai belum dipakai. \\nPasal 260 bis\\n(1) Ketentuan dalam pasal 253, 256, 257, dan 260 berlaku juga menurut perbedaan \\nyang ditentukan dalam pasal-pasal itu, jika perbuatan yang diterangkan di situ \\ndilakukan terhadap meterai atau merek yang dipakai oleh Jawatan Pos Indonesia \\natau suatu negara asing. \\n(2) Jika kejahatan dilakukan terhadap meterai atau merek yang dipakai oleh \\njawatan pos negara asing, maksimum pidana pokok yang ditentukan bagi kejahatan \\nitu dikurangi sepertiga. \\nPasal 261\\n(1) Barang siapa menyimpan bahan atau benda yang diketahuinya diperuntukkan \\nuntuk melakukan salah satu kejahatan yang diterangkan dalam pasal 253 atau dalam \\npasal 260 bis, berhubung dengan pasal 253, diancam dengan pidana penjara paling \\nlama sembilan bulan atau pidana denda paling banyak empat ribu lima ratus \\nrupiah. \\n(2) Bahan-bahan dan barang-barang itu dirampas. \\nPasal 262\\nDalam hal pemidanaan berdasarkan salah.satu kejahatan yang diterangkan dalam \\npasal 253 - 260 bis, maka hak-hak sebagaimana dimaksud dalam pasal 35 No. 1 - 4 \\ndapat dicabut.\\nBab XII - Pemalsuan Surat \\nPasal 263 \\n(1) Barang siapa membuat surat palsu atau memalsukan surat yang dapat \\nmenimbulkan sesuatu hak, perikatan atau pembebasan hutang, atau yang \\ndiperuntukkan sebagai bukti daripada sesuatu hal dengan maksud untuk memakai \\natau menyuruh orang lain memakai surat tersebut seolah-olah isinya benar dan \\ntidak dipalsu, diancam jika pemakaian tersebut dapat menimbulkan kerugian, \\nkarena pemalsuan surat, dengan pidana penjara paling lama enam tahun.\\n(2) Diancam dengan pidana yang sama, barang siapa dengan sengaja memakai surat \\npalsu atau yang dipalsukan seolah-olah sejati, jika pemakaian surat itu dapat \\nmenimbulkan kerugian. \\nPasal 264 \\n(1) Pemalsuan surat diancam dengan pidana penjara paling lama delapan tahun, \\njika dilakukan terhadap:\\nl. akta-akta otentik;\\n2. surat hutang atau sertifikat hutang dari sesuatu negara atau bagiannya \\nataupun dari suatu lembaga umum;\\n3. surat sero atau hutang atau sertifikat sero atau hutang dari suatu \\nperkumpulan, yayasan, perseroan atau maskapai:\\n4. talon, tanda bukti dividen atau bunga dari salah satu surat yang diterangkan \\ndalam 2 dan 3, atau tanda bukti yang dikeluarkan sebagai pengganti surat-surat \\nitu;\\n5. surat kredit atau surat dagang yang diperuntukkan untuk diedarkan. \\n(2) Diancam dengan pidana yang sama barang siapa dengan sengaja memakai surat \\ntersebut dalam ayat pertama, yang isinya tidak sejati atau yang dipalsukan \\nseolah-olah benar dan tidak dipalsu, jika pemalsuan surat itu dapat menimbulkan \\nkerugian.\\nPasal 265\\nDitiadakan berdasarkan Stbl. 1926. No. 359 jo. No. 429. \\nPasal 266\\n(1) Barang siapa menyuruh memasukkan keterangan palsu ke dalam suatu akta \\notentik mengenai sesuatu hal yang kebenarannya harus dinyatakan oleh akta itu, \\ndengan maksud untuk memakai atau menyuruh orang lain memakai akta itu \\nseolah-olah keterangannya sesuai dengan kebenaran, diancam, jika pemakaian itu \\ndapat menimbulkan kerugian, dengan pidana penjara paling lama tujuh tahun;\\n(2) Diancam dengan pidana yang sama barang siapa dengan sengaja memakai surat \\ntersebut dalam ayat pertama, yang isinya tidak sejati atau yang dipalsukan \\nseolah-olah benar dan tidak dipalsu, jika pemalsuan surat itu dapat menimbulkan \\nkerugian.\\nPasal 267\\n(1) Seorang dokter yang dengan sengaja memberikan surat keterangan palsu tentang \\nada atau tidaknya penyakit, kelemahan atau cacat, diancam dengan pidana penjara \\npaling lama empat tahun\\n(2) Jika keterangan diberikan dengan maksud untuk memasukkan seseorang ke dalam \\nrumah sakit jiwa atau untuk menahannya di situ, dijatuhkan pidana penjara paling \\nlama delapan tahun enam bulan.\\n(3) Diancam dengan pidana yang sama, barang siapa dengan sengaja memakai surat \\nketerangan palsu itu seolah-olah isinya sesuai dengan kebenaran. \\nPasal 268 \\n(1) Barang siapa membuat secara palsu atau memalsu surat keterangan dokter \\ntentang ada atau tidak adanya penyakit, kelemahan atau cacat, dengan maksud \\nuntuk menyesatkan penguasa umum atau penanggung, diancam dengan pidana penjara \\npaling lama empat tahun.\\n(2) Diancam dengan pidana yang sama, barang siapa dengan maksud yang sama \\nmemakai surat keterangan yang tidak benar atau yang dipalsu, seolah-olah surat \\nitu benar dan tidak dipalsu.\\nPasal 269\\n(1) Barang siapa membuat surat palsu atau memalsu surat keterangan tanda \\nkelakuan baik, kecakapan, kemiskinan, kecacatan atau keadaan lain, dengan maksud \\nuntuk memakai atau menyuruh orang lain memakai surat itu supaya diterima dalam \\npekerjaan atau supaya menimbulkan kemurahan hati dan pertolongan, diancam dengan \\npidana penjara paling lama satu tahun empat bulan.\\n(2) Diancam dengan pidana yang sama barang siapa dengan sengaja memakai surat \\nketerangan yang palsu atau yang dipalsukan tersebut dalam ayat pertama, \\nseolah-olah surat itu sejati dan tidak dipalsukan.\\nPasal 270\\n(1) Barang siapa membuat surat palsu atau memalsukan pas jalan atau surat \\npenggantinya, kartu keamanan, surat perintah jalan atau surat yang diberikan \\nmenurut ketentuan undang-undang tentang pemberian izin kepada orang asing untuk \\nmasuk dan menetap di Indonesia, ataupun barang siapa menyuruh beri surat serupa \\nitu atas nama palsu atau nama kecil yang palsu atau dengan menunjuk pada keadaan \\npalsu, dengan maksud untuk memakai atau menyuruh orang lain memakai surat itu \\nseolah-olah sejati dan tidak dipalsukan atau seolah-olah isinya sesuai dengan \\nkebenaran, diancam dengan pidana penjara paling lama dua tahun delapan bulan.\\n(2) Diancam dengan pidana yang sama, barang siapa dengan sengaja memakai surat \\nyang tidak benar atau yang dipalsu tersebut dalam ayat pertama, seolah-olah \\nbenar dan tidak dipalsu atau seolah-olah isinya sesuai dengan kebenaran. \\nPasal 271\\n(1) Barang siapa membuat palsu atau memalsukan surat pengantar bagi kerbau atau \\nsapi, atau menyuruh beri surat serupa itu atas nama palsu atau dengan menunjuk \\npada keadaan palsu, dengan maksud untuk memakai atau menyuruh orang lain memakai \\nsurat itu seolah-olah isinya sesuai dengan kebenaran, diancam dengan pidana \\npenjara paling lama dua tahun delapan bulan.\\n(2) Diancam dengan pidana yang sama, barang siapa dengan sengaja memakai surat \\nyang palsu atau yang dipalsukan tersebut dalam ayat pertama, seolah-olah sejati \\ndan tidak dipalsu atau seolah-olah isinya sesuai dengan kebenaran. \\nPasal 272\\nDitiadakan berdasarkan S. 1926 No. 359 jo. No. 429.\\nPasal 273 \\nDitiadakan berdasarkan S. 1926 No. 359 jo. No. 429.\\nPasal 274\\n(1) Barang siapa membuat palsu atau memalsukan surat keterangan seorang pejabat \\nselaku penguasa yang sah, tentang hak milik atau hak lainnya atas sesuatu \\nbarang, dengan maksud untuk memudahkan penjualan atau penggadaiannya atau untuk \\nmenyesatkan pejabat kehakiman atau kepolisian tentang asalnya, diancam dengan \\npidana penjara paling lama dua tahun.\\n(2) Diancam dengan pidana yang sama, barang siapa dengan mak- sud tersebut, \\nmemakai surat keterangan itu seolah-olah sejati dan tidak dipalsukan.\\nPasal 275\\n(1) Barang siapa menyimpan bahan atau benda yang diketahuinya bahwa \\ndiperuntukkan untuk melakukan salah satu kejahatan berdasarkan pasal 264 No. 2 - \\n5, diancam dengan pidana penjara paling lama sembilan bulan atau pidana denda \\npaling banyak empat ribu lima ratus rupiah.\\n(2) Bahan-bahan dan benda-benda itu dirampas.\\nPasal 276\\nDalam hal pemidanaan berdasarkan salah satu kejahatan dalam pasal 263 - 268, \\ndapat dijatuhkan pencabutan hak berdasarkan pasal 35 No. 1 - 4. \\nBab XIII - Kejahatan Terhadap Asal-Usul Dan Perkawinan \\nPasal 277\\n(1) Barang siapa dengan salah satu perbuatan sengaja menggelapkan asal-usul \\norang, diancam karena penggelapan asal-usul, dengan pidana penjara paling lama \\nenam tahun. \\n(2) Pencabutan hak berdasarkan pasal 35 No. 1 - 4 dapat dinyatakan. \\nPasal 278\\nBarang siapa mengakui seorang anak sebagai anaknya menurut peraturan Kitab \\nUndang- undang Hukum Perdata, padahal diketahuinya bahwa dia bukan ayah dari \\nanak tersebut, diancam karena melakukan pengakuan anak palsu dengan pidana \\npenjara paling lama tiga tahun. \\nPasal 279\\n(1) Diancam dengan pidana penjara paling lama lima tahun: \\n1. barang siapa mengadakan perkawinan padahal mengetahui bahwa perkawinan atau \\nperkawinan-perkawinannya yang telah ada menjadi penghalang yang sah untuk itu; \\n2. barang siapa mengadakan perkawinan padahal mengetahui bahwa perkawinan atau \\nperkawinan-perkawinan pihak lain menjadi penghalang untuk itu. \\n(2) Jika yang melakukan perbuatan berdasarkan ayat 1 butir 1 menyembunyikan \\nkepada pihak lain bahwa perkawinan yang telah ada menjadi penghalang yang sah \\nuntuk itu diancam dengan pidana penjara paling lama tujuh tahun. \\n(3) Pencabutan hak berdasarkan pasal No. 1 Œ 5 dapat dinyatakan. \\nPasal 280\\nBarang siapa mengadakan perkawinan, padahal sengaja tidak memberitahu kepada \\npihak lain bahwa ada penghalang yang sah, diancam dengan pidana penjara paling \\nlama lima tahun, apabila kemudian berdasarkan penghalang tersebut, perkawinan \\nlalu dinyatakan tidak sah.\\nBab XIV - Kejahatan Terhadap Kesusilaan \\nPasal 281 \\nDiancam dengan pidana penjara paling lama dua tahun delapan bulan atau pidana \\ndenda paling banyak empat ribu lima ratus rupiah: \\n1. barang siapa dengan sengaja dan terbuka melanggar kesusilaan; \\n2. barang siapa dengan sengaja dan di depan orang lain yang ada di situ \\nbertentangan dengan kehendaknya, melanggar kesusilaan\\nPasal 282\\n(1) Barang siapa menyiarkan, mempertunjukkan atau menempelkan di muka umum \\ntulisan, gambaran atau benda yang telah diketahui isinya melanggar kesusilaan, \\natau barang siapa dengan maksud untuk disiarkan, dipertunjukkan atau ditempelkan \\ndi muka umum, membikin tulisan, gambaran atau benda tersebut, memasukkannya ke \\ndalam negeri, meneruskannya, mengeluarkannya dari negeri, atau memiliki \\npersediaan, ataupun barang siapa secara terang-terangan atau dengan mengedarkan \\nsurat tanpa diminta, menawarkannya atau menunjukkannya sebagai bisa diperoleh, \\ndiancam dengan pidana penjara paling lama satu tahun enam bulan atau pidana \\ndenda paling tinggi empat ribu lima ratus rupiah. \\n(2) Barang siapa menyiarkan, mempertunjukkan atau menempelkan di muka umum \\ntulisan, gambaran atau benda yang melanggar kesusilaan, ataupun barang siapa \\ndengan maksud untuk disiarkan, dipertunjukkan atau ditempelkan di muka umum, \\nmembikin, memasukkan ke dalam negeri, meneruskan mengeluarkannya dari negeri, \\natau memiliki persediaan, ataupun barang siapa secara terang-terangan atau \\ndengan mengedarkan surat tanpa diminta, menawarkan, atau menunjuk sebagai bisa \\ndiperoleh, diancam, jika ada alasan kuat baginya untuk menduga bahwa tulisan, \\ngambazan atau benda itu me!anggar kesusilaan, dengan pidana paling lama sembilan \\nbulan atau pidana denda paling banyak empat ribu lima ratus rupiah. \\n(3) Kalau yang bersalah melakukan kejahatan tersebut dalam ayat pertama sebagai \\npencarian atau kebiasaan, dapat dijatuhkan pidana penjara paling lama dua tahun \\ndelapan bulan atau pidana denda paling banyak tujuh puluh lima ribu rupiah.\\nPasal 283\\n(1) Diancam dengan pidana penjara paling lama sembilan bulan atau pidana denda \\npaling banyak sembilan ribu rupiah, barang siapa menawarkan, memberikan untuk \\nterus maupun untuk sementara waktu, menyerahkan atau memperlihatkan tulisan, \\ngambaran atau benda yang melanggar kesusilaan, maupun alat untuk mencegah atau \\nmenggugurkan kehamilan kepada seorang yang belum dewasa, dan yang diketahui atau \\nsepatutnya harus diduga bahwa umumya belum tujuh belas tahun, jika isi tulisan, \\ngambaran, benda atau alat itu telah diketahuinya. \\n(2) Diancam dengan pidana yang sama, barang siapa membacakan isi tulisan yang \\nmelanggar kesusilaan di muka oranng yang belum dewasa sebagaimana dimaksud dalam \\nayat yang lalu, jika isi tadi telah diketahuinya. \\n(3) Diancam dengan pidana penjara paling lama empat bulan atau pidana kurungan \\npaling lama tiga bulan atau pidana denda paling banyak sembilan ribu rupiah, \\nbarang siapa menawarkan, memberikan untuk terus maupun untuk sementara waktu, \\nmenyerahkan atau memperlihatkan, tulis- an, gambaran atau benda yang melanggar \\nkesusilaan, maupun alat untuk mencegah atau menggugurkan kehamilan kepada \\nseorang yang belum dewasa sebagaimana dimaksud dalam ayat pertama, jika ada \\nalasan kuat baginya untuk menduga, bahwa tulisan, gambaran atau benda yang \\nmelang- gar kesusilaan atau alat itu adalah alat untuk mencegah atau \\nmenggugurkan kehamilan. \\nPasal 283 bis\\nJika yang bersalah melykukan salah satu kejahatan tersebut dalam pasal 282 dan \\n283 dalam menjalankan pencariannya dan ketika itu belum lampau dua tahun sejak \\nadanya pemidanaan yang menjadi pasti karena kejahatan semacam itu juga, maka \\ndapat di cabut haknya untuk menjalankan pencarian tersebut. \\nPasal 284\\n(1) Diancam dengan pidana penjara paling lama sembilan bulan: \\nl. a. seorang pria yang telah kawin yang melakukan gendak (overspel), padahal \\ndiketahui bahwa pasal 27 BW berlaku baginya, \\nb. seorang wanita yang telah kawin yang melakukan gendak, padahal diketahui \\nbahwa pasal 27 BW berlaku baginya;\\n2. a. seorang pria yang turut serta melakukan perbuatan itu, padahal \\ndiketahuinya bahwa yang turut bersalah telah kawin; \\nb. seorang wanita yang telah kawin yang turut serta melakukan perbuatan itu, \\npadahal diketahui olehnya bahwa yang turut bersalah telah kawin dan pasal 27 BW \\nberlaku baginya. \\n(2) Tidak dilakukan penuntutan melainkan atas pengaduan suami/istri yang \\ntercemar, dan bilamana bagi mereka berlaku pasal 27 BW, dalam tenggang waktu \\ntiga bulan diikuti dengan permintaan bercerai atau pisah-meja dan ranjang karena \\nalasan itu juga. \\n(3) Terhadap pengaduan ini tidak berlaku pasal 72, 73, dan 75. \\n(4) Pengaduan dapat ditarik kembali selama pemeriksaan dalam sidang pengadilan \\nbelum dimulai. \\n(5) Jika bagi suami-istri berlaku pasal 27 BW, pengaduan tidak diindahkan selama \\nperkawinan belum diputuskan karena perceraian atau sebelum putusan yang \\nmenyatakan pisah meja dan tempat tidur menjadi tetap. \\nPasal 285\\nBarang siapa dengan kekerasan atau ancaman kekerasan memaksa seorang wanita \\nbersetubuh dengan dia di luar perkawinan, diancam karena melakukan perkosaan \\ndengan pidana penjara paling lama dua belas tahun. \\nPasal 286\\nBarang siapa bersetubuh dengan seorang wanita di luar perkawinan, padahal \\ndiketahui bahwa wanita itu dalam keadaan pingsan atau tidak berdaya, diancam \\ndengan pidana penjara paling lama sembilan tahun. \\nPasal 287\\n(1) Barang siapa bersetubuh dengan seorang wanita di luar perkawinan, padahal \\ndiketahuinya atau sepatutnya harus diduganya bahwa umumya belum lima belas \\ntahun, atau kalau umurnya tidak jelas, bawa belum waktunya untuk dikawin, \\ndiancam dengan pidana penjara paling lama sembilan tahun.\\n(2) Penuntutan hanya dilakukan atas pengaduan, kecuali jika umur wanita belum \\nsampai dua belas tahun atau jika ada salah satu hal berdasarkan pasal 291 dan \\npasal 294. \\nPasal 288\\n(1) Barang siapa dalam perkawinan bersetubuh dengan seormig wanita yang \\ndiketahuinya atau sepatutnya harus didugunya bahwa yang bersangkutan belum \\nwaktunya untuk dikawin, apabila perbuatan mengakibatkan luka-luka diancam dengan \\npidana penjara paling lama empat tahun. \\n(2) Jika perbuatan mengakibatkan luka-luka berat, dijatuhkan pidana penjara \\npaling lama delapan tahun. \\n(3) Jika mengakibatkan mati, dijatuhkan pidana penjara paling lama dua belas \\ntahun. \\nPasal 289\\nBarang siapa dengan kekerasan atau ancaman kekerasan memaksa seorang untuk \\nmelakukan atau membiarkan dilakukan perbuatan cabul, diancam karena melakukan \\nperbuatan yang menyerang kehormatan kesusilaan, dengan pidana penjara paling \\nlama sembilan tahun. \\nPasal 290\\nDiancam dengan pidana penjara paling lama tujuh tahun: \\n1. barang siapa melakukan perbuatan cabul dengan seorang, padahal diketahuinya \\nbahwa orang itu pingsan atau tidak berdaya; \\n2. barang siapa melakukan perbuatan cabul dengan seorang padahal diketahuinya \\natau sepatutnya harus diduganya, bahwa umumya belum lima belas tahun atau kalau \\numumya tidak jelas, yang bersangkutan belum waktunya untuk dikawin: \\n3. barang siapa membujuk seseorang yang diketahuinya atau sepatutnya harus \\ndiduganya bahwa umurnya belum lima belas tahun atau kalau umumya tidak jelas \\nyang bersangkutan atau kutan belum waktunya untuk dikawin, untuk melakukan atau \\nmembiarkan dilakukan perbuatan cabul, atau bersetubuh di luar perkawinan dengan \\norang lain.\\nPasal 291\\n(1) Jika salah satu kejahatan berdasarkan pasal 286, 2 87, 289, dan 290 \\nmengakibatkan luka-luka berat, dijatuhkan pidana penjara paling lama dua belas \\ntahun; (2) Jika salah satu kejahatan berdasarkan pasal 285, 2 86, 287, 289 dan \\n290 mengakibatkan kematisn dijatuhkan pidana penjara paling lama lima belas \\ntahun. \\nPasal 292\\nOrang dewasa yang melakukan perbuatan cabul dengan orang lain sesama kelamin, \\nyang diketahuinya atau sepatutnya harus diduganya belum dewasa, diancam dengan \\npidana penjara paling lama lima tahun. \\nPasal 293\\n(1) Barang siapa dengan memberi atau menjanjikan uang atau barang, \\nmenyalahgunakan pembawa yang timbul dari hubungan keadaan, atau dengan \\npenyesatan sengaja menggerakkan seorang belum dewasa dan baik tingkahlakunya \\nuntuk melakukan atau membiarkan dilakukan perbuatan cabul dengan dia, padahal \\ntentang belum kedewasaannya, diketahui atau selayaknya harus diduganya, diancam \\ndengan pidana penjara paling lama lima tahun. \\n(2) Penuntutan hanya dilakukan atas pengaduan orang yang terhadap dirinya \\ndilakukan kejahatan itu. \\n(3) Tenggang waktu tersebut dalam pasal 74 bagi pengaduan ini adalah \\nmasing-masing sembilan bulan dan dua belas bulan. \\nPasal 294\\n(1) Barang siapa melakukan perbuatan cabul dengm anaknya, tirinya, anak \\nangkatnya, anak di bawah pengawannya yang belum dewasa, atau dengan orang yang \\nbelum dewasa yang pemeliharaanya, pendidikan atau penjagaannya diannya yang \\nbelum dewasa, diancam dengan pidana penjara paling lama tujuh tahun. \\n(2) Diancam dengan pidana yang sama: \\n1. pejabat yang melakukan perbuatan cabul dengan orang yang karena jabatan \\nadalah bawahannya, atau dengan orang yang penjagaannya dipercayakan atau \\ndiserahkan kepadanya, \\n2. pengurus, dokter, guru, pegawai, pengawas atau pesuruh dalam penjara, tempat \\npekerjaan negara, tempat pen- didikan, rumah piatu, rumah sakit, rumah sakit \\njiwa atau lembaga sosial, yang melakukan perbuatan cabul dengan orang yang \\ndimasukkan ke dalamnya. \\nPasal 295\\n(1) Diancam: \\n1. dengan pidana penjara paling lama lima tahun barang siapa dengan sengaja \\nmenyebabkan atau memudahkan dilakukannya perbuatan cabul oleh anaknya, anak \\ntirinya, anak angkatnya, atau anak di bawah pengawasannya yang belum dewasa, \\natau oleh orang yang belum dewasa yang pemeliharaannya, pendidikan atau \\npenjagaannya diserahkan kepadanya, ataupun oleh bujangnya atau bawahannya yang \\nbelum cukup umur, dengan orang lain;\\n2. dengan pidana penjara paling lama empat tahun barang siapa dengan sengaja \\nmenghubungkan atau memudahkan perbuatan cabul, kecuali yang tersebut dalam butir \\n1 di atas., yang dilakukan oleh orang yang diketahuinya belum dewasa atau yang \\nsepatutnya harus diduganya demikian, dengan orang lain. \\n(2) Jika yang rs me lakukan kejahatan itu sebagai pencarian atau kebiasaan, maka \\npidana dapat ditam sepertiga. \\nPasal 296\\nBarang siapa dengan sengaja menyebabkan atau memudahkan bul oleh orang lain \\ndengan orang lain, dan menjadikannya sebagai pencarian atau kebiasaan, diancam \\ndengan pidana penjara paling lama satu tahun empat bulan atau pidana denda \\npaling banyak lima belas ribu rupiah. \\nPasal 297\\nPerdagangan wanita dan perdagangan anak laki-laki yang belum dewasa, diancam \\ndengan pidana penjara paling lama enam tahun.\\nPasal 298\\n(1) Dalam hal pemidanaan berdasarkan salah satu kejahatan dalam pasal 281, 284 - \\n290 dan 292 - 297, pencabutan hakhak berdasarkan pasal 35 No. 1 - 5 dapat \\ndinyatakan. \\n(2) Jika yang bersalah melakukan salah satu kejahatan berdasarkan pasal 292 - \\n297 dalam melakukan pencariannya, maka hak untuk melakukan pencarian itu dapat \\ndicabut. \\nPasal 299\\n(1) Barang siapa dengan sengaja mengobati seorang wanita atau menyuruh supaya \\ndiobati, dengan diberitahukan atau ditimbulkan harapan bahwa karena pengobatan \\nitu hamilnya dapat digugurkan, diancam dengan pidana penjara paling lama empat \\ntahun atau pidana denda paling banyak empat puluh lima ribu rupiah. \\n(2) Jika yang bersalah berbuat demikian untuk mencari keu tungan, atau \\nmenjadikan perbuatan tersebut sebagai pencarian atau kebiasaan, atau jika dia \\nseorang tabib, bidan atau juruobat, pidmmya dapat ditambah sepertiga \\n(3) Jika yang bersalah melakukan kejahatan tersebut dalam menjalankan \\npencariannya, dapat dicabut haknya untuk menjalakukan pencarian itu. \\nPasal 300\\n(1) Diancam dengan pidana penjara paling lama satu tahun atau denda paling \\nbanyak empat ribu lima ratus rupiah: \\n1. barang siapa dengan sengaja menjual atau memberikan minuman yang memabukkan \\nkepada seseorang yang telah kelihatan mabuk; Perdagangan wanita dan perdagangan \\nanak laki-laki yang belum dewasa, diancam dengan pidana penjara paling lama enam \\ntahun. \\n2. barang siapa dengan sengaja membikin mabuk seorang anak yang umurnya belum \\ncukup enam belas tahun; \\n3. barang siapa dengan kekerasan atau ancaman kekerasan memaksa orang untuk \\nminum minuman yang memabukan. (2) Jika perbuatan mengakibatkan luka-luka berat, \\nyang bersalah diancam dengan pidana penjara paling lama tujuh tahun. \\n(3) Jika perbuatan mengakibatkan kematian, yang bersalah diancam dengan pidana \\npenjara paling lama sembilan tahun. \\n(4) Jika yang bersalah melakukan kejahatan tersebut dalam menjalankan \\npencariannya, dapat dicabut haknya untuk menjalankan pencarian itu. \\nPasal 301\\nBarang siapa memberi atau menyerahkan kepada orang lain seorang anak yang ada di \\nbawah kekuasaainnya yang sah dan yang umumya kurang dari dua belas tahun, \\npadahal diketahui bahwa anak itu akan dipakai untuk atau di waktu melakukan \\npengemisan atau untuk pekerjaan yang berbahaya, atau yang dapat merusak \\nkesehatannya, diancam dengan pidana penjara paling lama empat tahun. \\nPasal 302\\n(1) Diancam dengan pidana penjara paling lama tiga bulan atau pidana denda \\npaling banyak empat ribu lima ratus rupiah karena melakukan penganiayaan ringan \\nterhadap hewan: \\n1. barang siapa tanpa tujuan yang patut atau secara melampaui batas, dengan \\nsengaja menyakiti atau melukai hewan atau merugikan kesehatannya; \\n2. barang siapa tanpa tujuan yang patut atau dengan melampaui batas yang \\ndiperlukan untuk mencapai tujuan itu, dengan sengaja tidak memberi makanan yang \\ndiperlukan untuk hidup kepada hewan, yang seluruhnya atau sebagian menjadi \\nkepunyaannya dan ada di bawah pengawasannya, atau kepada hewan yang wajib \\ndipeliharanya. \\n(2) Jika perbuatan itu mengakibatkan sakit lebih dari seminggu, atau cacat atau \\nmenderita luka-luka berat lainnya, atau mati, yang bersalah diancam dengan \\npidana penjara paling lama sembilan bulan, atau pidana denda paling banyak tiga \\nratus rupiah, karena penganiayaan hewan. \\n(3) Jika hewan itu milik yang bersalah, maka hewan itu dapat dirampas. \\n(4) Percobaan melakukan kejahatan tersebut tidak dipidana. \\nPasal 303\\n(1) Diancam dengan pidana penjara paling lama sepuluh tahun atau pidana denda \\npaling banyak dua puluh lima juta rupiah, barang siapa tanpa mendapat izin: \\n1. dengan sengaja menawarkan atau memberikan kesempatan untuk permainan judi dan \\nmenjadikannya sebagai pen- carian, atau dengan sengaja turut serta dalam suatu \\nperusahaan untuk itu;\\n2. dengan sengaja menawarkan atau memberi kesempatan kepada khalayak umum untuk \\nbermain judi atau dengan sengaja turut serta dalam perusahaan untuk itu, dengan \\ntidak peduli apakah untuk menggunakan kesempatan adanya sesuatu syarat atau \\ndipenuhinya sesuatu tata-cara; \\n3. menjadikan turut serta pada permainan \\'udi seb agai pen\\n(2) Kalau yang bersalah melakukan kejahatan tersebut dalam mejalakan \\npencariannya, maka dapat dicabut hak nya untuk menjalankan pencarian itu.\\n(3) Yang disebut permainan judi adalah tiap-tiap permainan, di mana pada umumnya \\nkemungkinan mendapat untung bergantung pada peruntungan belaka, juga karena \\npemainnya lebih terlatih atau lebih mahir. Di situ termasuk segala pertaruhan \\ntentang keputusan perlombaan atau permainanlain-lainnya yang tidak diadakan \\nantara mereka yang turut berlomba atau bermain, demikian juga segala pertaruhan \\nlainnya.\\nPasal 303 bis\\n(1) Diancam dengan pidana penjara paling lama empat tahun atau pidana denda \\npaling banyak sepuluh juta rupiah:\\n1. barang siapa menggunakan kesempatan main judi, yang diadakan dengan melanggar \\nketentuan Pasal 303; \\n2. barang siapa ikut serta main judi di jalan umum atau di pinggir jalan umum \\natau di tempat yang dapat dikunjungi umum, kecuali kalau ada izin dari penguasa \\nyang berwenang yang telah memberi izin untuk mengadakan perjudian itu. \\n(2) Jika ketika melakukan pelanggaran belum lewat dua tahun sejak ada pemidanaan \\nyang menjadi tetap karena salah satu dari pelanggaran ini, dapat dikenakan \\npidana penjara paling lama enam tahun atau pidana denda paling banyak lima belas \\njuta rupiah.\\nBab XV - Meninggalkan Orang Yang Perlu Ditolong \\nPasal 304 \\nBarang siapa dengan sengaja menempatkan atau membiarkan seorang dalam keadaan \\nsengsara, padahal menurut hukum yang berlaku baginya atau karena persetujuan dia \\nwajib memberi kehidupan, perawatan atau pemeliharaan kepada orang itu, diancam \\ndengan pidana penjara paling lama dua tahun delapan bulan atau pidana denda \\npaling banyak empat ribu lima ratus rupiah. \\nPasal 305\\nBarang siapa menempatkan anak yang umurnya belum tujuh tahun untuk ditemukan \\natau meninggalkan anak itu dengan maksud untuk melepaskan diri daripadanya, \\ndiancam dengan pidana penjara paling lama lima tahun enam bulan. \\nPasal 306\\n(1) Jika salah satu perbuatan berdasarkan pasal 304 dan 305 mengakibatkan \\nluka-luka berat, yang bersalah diancamdengan pidana penjara paling lama tujuh \\ntahun enam bulan.\\n(2) Jika mengakibatkan kematian pidana penjara paling lama sembilan tahun. \\nPasal 307\\nJika yang melakukan kejahatan berdasarkan pasal 305 adalah bapak atau ibu dari \\nanak itu, maka pidana yang ditentukan dalam pasal 305 dan 306 dapat ditambah \\ndengan sepertiga. \\nPasal 308\\nJika seorang ibu karena takut akan diketahui orang tentang kelahiran anaknya, \\ntidak lama sesudah melahirkan, menempatkan anaknya untuk ditemukan atau \\nmeninggalkannya dengan maksud untuk melepaskan diri daripadanya, maka maksimum \\npidana tersebut dalam pasal 305 dan 306 dikurangi separuh. \\nPasal 309\\nDalam hal pemidanaan berdasarkan salah satu kejahatan dalam pasal 304 - 308, \\nmaka hak-hak tersebut dalam pasal 35 No. 4 dapat dicabut.\\nBab XVI - Penghinaan \\nPasal 310 \\n(1) Barang siapa sengaja menyerang kehormatan atau nama baik seseorang dengan \\nmenuduhkan sesuatu hal, yang maksudnya terang supaya hal itu diketahui umum, \\ndiancam karena pencemaran dengan pidana penjara paling lama sembilan bulan atau \\npidana denda paling banyak empat ribu lima ratus rupiah. \\n(2) Jika hal itu dilakukan dengan tulisan atau gambaran yang disiarkan, \\ndipertunjukkan atau ditempelkan di muka umum, maka diancam karena pencemaran \\ntertulis dengan pidana penjara paling lama satu tahun empat bulan atau pidana \\ndenda paling banyak empat ribu lima ratus rupiah. \\n(3) Tidak merupakan pencemaran atau pencemaran tertulis, jika perbuatan jelas \\ndilakukan demi kepentingan umum atau karena terpaksa untuk membela diri. \\nPasal 311\\n(1) Jika yang melakukan kejahatan pencemaran atau pencemaran tertulis dibolehkan \\nuntuk membuktikan apa yang dituduhkan itu benar, tidak membuktikannya, dan \\ntuduhan dilakukan bertentangan dengan apa yang diketahui, maka dia diancam \\nmelakukan fitnah dengan pidana penjara paling lama empat tahun. \\n(2) Pencabutan hak-hak berdasarkan pasal 35 No. 1 - 3 dapat dijatuhkan. \\nPasal 312\\nPembuktian akan kebenaran tuduhan hanya dibolehkan dalam hal-hal berikut:\\n1. apabila hakim memandang perlu untuk memeriksa kebenaran itu guna menimbang \\nketerangan terdakwa, bahwa perbuatan dilakukan demi kepentingan umum, atau \\nkarena terpaksa untuk membela diri; \\n2. apabila seorang pejabat dituduh sesuatu hal dalam menjalankan tugasnya. \\nPasal 313\\nPembuktian yang dimaksud dalam pasal 312 tidak dibolehkan, jika hal yang \\ndituduhkan hanya dapat dituntut atas pengaduan dan pengaduan tidak dimajukan. \\nPasal 314\\n(1) Jika yang dihina, dengan putusan hakim yang menjadi tetap, dinyatakan \\nbersalah atas hal yang dituduhkan, maka pemidanaan karena fitnah tidak mungkin.\\n(2) Jika dia dengan putusan hakim yang menjadi tetap dibebaskan dari hal yang \\ndituduhkan, maka putusan itu dipandang sebagai bukti sempurna bahwa hal yang \\ndituduhkan tidak benar. \\n(3) Jika terhadap yang dihina telah dimulai penuntutan pidana karena hal yang \\ndituduhkan padanya, maka penuntutan karena fitnah dihentikan sampai mendapat \\nputusan yang menjadi tetap tentang hal yang dituduhkan. \\nPasal 315\\nTiap-tiap penghinaan dengan sengaja yang tidak bersifat peneemaran atau \\npencemaran tertulis yang dilakuknn terhadap seseorang, baik di muka umum dengan \\nlisan atau tulisan, maupun di muka orang itu sendiri dengan lisan atau \\nperbuatan, atau dengan surat yang dikirimkan stau diterimakan kepadanya, diancam \\nkarena penghinaan ringan dengan pidana penjara paling lama empat bulan dua \\nminggu atau pidana denda paling banyak empat ribu lima ratus rupiah. \\nPasal 316\\nPidana yang ditentukan dalam pasal-pasal sebelumnya dalam bab ini, dspat \\nditambah dengan sepertiga jika yang dihina adalah seorang pejabat pada waktu \\natau karena menjalankan tugasnya yang sah. \\nPasal 317\\n(1) Barang siapa dengan sengaja mengajukan pengaduan atau pemberitahuan palsu \\nkepada penguasa, baik secara tertulis maupun untuk dituliskan, tentang seseorang \\nsehingga kehormatan atau nama baiknya terserang, diancam karena melakukan \\npengaduan fitnah, dengan pidana penjara paling lama empat tahun, \\n(2) Pencabutan hak-hak berdasarkan pasal 35 No, 1 - 3 dapat dijatuhkan. \\nPasal 318\\n(1) Barang siapa dengan sesuatu perbuatan sengaja menimbulkan secara palsu \\npersangkaan terhadap seseorang bahwa dia melakukan suatu perbuatan pidana, \\ndiancam karena menimbulkan persangkaan palsu, dengan pidana penjara paling lama \\nempat tahun. \\n(2) Pencabutan hak-hak berdasarkan pasal 35 No. 1 - 3 dapat dijatuhkan. \\nPasal 319 Penghinaan yang diancam dengan pidana menurut bab ini, tidak dituntut \\njika tidak ada pengaduan dari orang yang terkena kejahatan itu, kecuali \\nberdasarkan pasal 316. \\nPasal 320\\n(1) Barang siapa terhadap seseorang yang sudah mati melakukan perbuatan yang \\nkalau orang itu masih hidup akan merupakan pencemaran atau pencemaran tertulis, \\ndiancam dengan pidana penjara paling lama empat bulan dua minggu atau pidana \\ndenda paling banyak empat ribu lima ratus rupiah. \\n(2) Kejahatan ini tidak dituntut kalau tidak ada pengaduan dari salah seorang \\nkeluarga sedarah maupun semenda dalam garis lurus atau menyimpang sampai derajat \\nkedua dari yang mati itu, atau atas pengaduan suami (istri)nya. \\n(3) Jika karena lembaga matriarkal kekuasaan bapak dilakukan oleh orang lain \\ndaripada bapak, maka kejahatan juga dapat dituntut atas pengaduan orang itu. \\nPasal 321\\n(1) Barang siapa menyiarkan, mempertunjukkan atau menempelkan di muka umum \\ntulisan atau gambaran yang isinya menghina atau bagi orang ymg sudah mati \\nmencemarkan namanya, dengan maksud supaya isi surat atau gambar itu ditahui atau \\nlehih diketahui oleh umum, diancam dengan pidana penjara paling lama satu hulan \\ndua minggu atau pidana denda paling banyak empat ribu lima ratus rupiah. \\n(2) Jika Yang bersalah rnelakukan kejahat.an tersehut dalam menjalankan \\npencariannya, sedangkan ketika itu belum lampau dua tahun sejak adanya \\npemidanaan yang menjadi tetap karena kejahatan semacam itu juga, maka dapat. \\ndicabut haknya untuk menjalankan pencarian tersehut. \\n(3) Kejahatan ini tidak dituntut kalau tidak ada pengaduan dari orang yang \\nditunjuk dalam pasal 319 dan pasal 320, ayat kedua dan ketiga.\\nBab XVII - Membuka Rahasia\\nPasal 322\\n(1) Barang siapa dengan sengaja membuka rahasia yang wajib disimpannya karena \\njabatan atau pencariannya, baik yang sekarang maupun yang dahulu, diancam dengan \\npidana penjara paling lama sembilan bulan atau pidana denda paling banyak \\nsembilan ribu rupiah. \\n(2) Jika kejahatan dilakukan terhadap seorang tertentu, maka perbuatan itu hanya \\ndapat dituntut atas pengaduan orang itu. \\nPasal 323\\n(1) Barang siapa dengan sengaja memberitahukan hal-hal khusus tentang suatu \\nperusahaan dagang, kerajinan atau pertanian, di mana ia bekerja atau dahulu \\nbekerja, yang harus dirahasiakannya, diancam dengan pidana penjara paling lama \\nsembilan bulan atau pidana denda paling banyak sembilan ribu rupiah. \\n(2) Kejahatan ini hanya dituntut atas pengaduan pengurus perusahaan itu.\\nBab XVIII - Kejahatan Terhadap Kemerdekaan Orang\\nPasal 324\\nBarang siapa dengan biaya sendiri atau biaya orang lain menjalankan perniagaan \\nbudak atau melakukan perbuatan perniagaan budak atau dengan sengaja turut serta \\nsecara langsung atau tidak langsung dalam salah satu perbuatan tersebut di atas, \\ndiancam dengan pidana penjara paling lama dua belas tahun. \\nPasal 325\\n(1) Barang siapa sebagai nakoda bekerja atau bertugas di kapal, sedang \\ndiketahuinya bahwa kapal itu dipergunakan untuk tujuan pemiagaan budak, atau \\ndipakai kapal itu untuk perniagaan budak, diancam dengan pidana penjara paling \\nlama dua belas tahun. \\n(2) Bilamana pengangkutan itu mengakibatkan kematian seorang budak atau lebih, \\nmaka nakoda diancam dengan pidana penjara paling lama lima belas tahun. \\nPasal 326\\nBarang siapa bekerja sebagai awak kapal di sebuah kapal, sedang diketahuinya \\nbahwa kapal itu dipergunakan untuk tujuan atsu keperluan perniagaan budak, atau \\ndengan sukarela tetap berengas setelah mendengar bahwa kapal itu dipergunakan \\nuntuk tujuan atau keperluan perniagaan budak, diancam dengan pidana penjara \\npaling lama sembilan tahun. \\nPasal 327\\nBarang siapa dengan biaya sendiri atau biaya orang lain, secara langsung atau \\ntidak langsung bekerja sama untuk menyewakan, mengangkutkan atau mengasuransikan \\nsebuah kapal, sedang diketahuinya bahwa kapal itu dipergunakan untuk tujuan \\nperniagaan budak, diancam dengan pidana penjara paling lama delapan tahun. \\nPasal 328\\nBarang siapa membawa pergi seorang dari tempat kediamannya atau tempat \\ntinggalnya sementara dengan maksud untuk menempatkan orang itu secara melawan \\nhukum di bawah kekuasaannya atau kekuasaan orang lain, atau untuk menempatkan \\ndia dalam keadaan sengsara, diancam karena penculikan dengan pidana penjara \\npaling lama dua belas tahun. \\nPasal 329\\nBarang siapa dengan sengaja dan melawan hukum mengangkut orang ke daerah lain, \\npadahal orang itu telah membuat perjanjian untuk bekerja di suatu tempat \\ntertentu, diancam dengan pidana penjara paling lama tujuh tahun. \\nPasal 330\\n(1) Barang siapa dengan sengaja menarik seorang yang belum cukup umur dari \\nkekuasaan yang menurut undang-undang ditentukan atas dirinya, atau dari \\npengawasan orang yang berwenang untuk itu, diancam dengan pidana penjara paling \\nlama tujuh tahun. \\n(2) Bilamana dalam hal ini dilakukan tipu muslihat, kekerasan atau ancaman \\nkekerasan, atau bilamana anaknya belum berumur dua belas tahun, dijatuhkan \\npidana penjara paling lama sembilan tahun. \\nPasal 331\\nOrang siapa dengan sengaja menyemhunyikan orang yang belum dewasa yang ditarik \\natau menarik sendiri dari kekuasaan yang menurut undang-undang ditentukan atas \\ndirinya. atau dari pengawasan orang yang berwenang untuk itu, atau dengan \\nsengaja menariknya dari pengusutan pejabat kehakiman atau kepolisian diancam \\ndengan penjara paling lama empat tahun, atau jika anak itu berumur di bawah dua \\nbelas tahun, dengan pidana penjara paling lama tujuh tahun. \\nPasal 332\\n(1) Bersalah melarikan wanita diancam dengan pidana penjara; \\n1. paling lama tujuh tahun, barang siapa membawa pergi seorang wanita yang belum \\ndewasa, tanpa dikehendaki orang tuanya atau walinya tetapi dengan \\npersetujuannya. dengan maksud untuk memastikan penguasaan tezhadap wanita itu, \\nbaik di dalam maupun di luar perkawinan; \\n2. paling lama sembilan tahun, barang siapa membawa pergi seorang wanita dengan \\ntipu muslihat, kekerasan atau ancaman kekerasan, dengan maksud untuk memastikan \\npenguasaannya terhadap wanita itu, baik di dalam maupun di luar perkawinan. \\n(2) Penuntutan hanya dilakukan atas pengaduan. \\n(3) Pengaduan dilakukan: \\na. jika wanita ketika dibawa pergi belum dewasa, oleh dia sendiri atau orang \\nlain yang harus memberi izin bila dia kawin; \\nb. jika wanita ketika dibawa pergi sudah dewasa, oleh dia sendiri atau oleh \\nsuaminya.\\n(4) Jika yang membaiva pergi lalu kawin dengan wanita yang dibawa pergi dan \\nterhadap perkawinan itu berlaku aturan aturan Burgerlijk Wetboek, maka tak dapat \\ndijatuhkan pidana sebelum perkawinan itu dinyatakan batal. \\nPasal 333\\n(1) Barang siapa dengan sengaja dan melawan hukum merampas kemerdekaan \\nseseorang, atau meneruskan perarnpasan kemerdekaan yang demikian, diancam dengan \\npidana penjara paling lama delapan tahun. \\n(2) Jika perbuatan itu mengakibatkan luka-luka berat maka yang bersalah diancam \\ndengan pidana penjara paling lama sembilan tahun. \\n(3) Jika mengakibatkan mati diancam dengan pidana penjara paling lama dua belas \\ntahun. \\n(4) Pidana yang ditentukan dalam pasal ini diterapkan juga bagi orang yang \\ndengan sengaja dan melawan hukum memberi tempat untuk perampasan kemerdekaan. \\nPasal 334\\n(1) Barang siapa karena kealpaannya menyebabkan seorang dirampas kemerdekaannya \\nsecara melawan hukum, atau diteruskannya perampasan kemerdekaan yang demikian, \\ndiancam dengan pidana kurungan paling lama tiga bulan atau pidana denda paling \\nbanyak tiga ratus rupiah. \\n(2) Jika perbuatan itu mengakibatkan luka-luka berat, maka yang bersalah diancam \\ndengan pidana kurungan paling lama sembilan bulan. \\n(3) Jika mengakibatkan mati, diancam dengan pidana kurungan paling lama satu \\ntahun. \\nPasal 335\\n(1) Diancam dengan pidana penjara paling lama satu tahun atau denda paling \\nbanyak empat ribu lima ratus rupiah: \\n1. barang siapa secara melawan hukum memaksa orang lain supaya melakukan, tidak \\nmelakukan atau membiarkan sesuatu, dengan memakai kekerasan, sesuatu perbuatan \\nlain maupun perlakuan yang tak menyenangkan, atau dengan memakai ancaman \\nkekerasan, sesuatu perbuatan lain maupun perlakuan yang tak menyenangkan, baik \\nterhadap orang itu sendiri maupun orang lain; \\n2 barang siapa memaksa orang lain supaya melakukan, tidak melakukan atau \\nmembiarkan sesuatu dengan ancaman pencemaran atau pencemaran tertulis. \\n(2) Dalam hal sebagaimana dirumuskan dalam butir 2, kejahatan hanya dituntut \\natas pengaduan orang yang terkena. \\nPasal 336\\n(1) Diancam dengan pidana penjara paling lama dua tahun delapan bulan, barang \\nsiapa mengancam dengan kekerasan terhadap orang atau barang secara \\nterang-terangan dengan tenaga bersama, dengan suatu kejahatan yang menimbulkan \\nbahaya umum bagi keamanan orang atau barang, dengan perkosaan atau perbuatan \\nyang melanggar kehormatan kesusilaan, dengan sesuatu kejahatan terhadap nyawa, \\ndengan penganiayaan berat atau dengan pembakaran. \\n(2) Bilamana ancaman dilakukan secara tertulis dan dengan syarat tertentu, maka \\ndikenakan pidana penjara paling lama lima tahun. \\nPasal 337\\nDalam hal pemidanaan berdasarkan salah satu kejahatan dalam pasal 324 - 333 dan \\npasal 336 ayat kedua, dapat dijatuhkan pencabutan hak berdasarkan pasal 35 No. 1 \\n- 4.\\nBab XIX - Kejahatan Terhadap Nyawa \\nPasal 338\\nBarang siapa dengan sengaja merampas nyawa orang lain, diancam karena pembunuhan \\ndengan pidana penjara paling lama lima belas tahun. \\nPasal 339\\nPembunuhan yang diikuti, disertai atau didahului oleh suatu perbuatan pidana, \\nyang dilakukan dengan maksud untuk mempersiapkan atau mempermudah \\npelaksanaannya, atau untuk melepaskan diri sendiri maupun peserta lainnya dari \\npidana dalam hal tertangkap tangan, ataupun untuk memastikan penguasaan barang \\nyang diperolehnya secara melawan hukum, diancam dengan pidana penjara seumur \\nhidup atau selama waktu tertentu, paling lama dua puluh tahun. \\nPasal 340\\nBarang siapa dengan sengaja dan dengan rencana terlebih dahulu merampas nyawa \\norang lain, diancam karena pembunuhan dengan rencana, dengan pidana rnati atau \\npidana penjara seumur hidup atau selama waktu tertentu, paling lama dua puluh \\ntahun. \\nPasal 341\\nSeorang ibu yang karena takut akan ketahuan melahirkan anak pada saat anak \\ndilahirkan atau tidak lama kemudian, dengan sengaja merampas nyawa anaknya, \\ndiancam karena membunuh anak sendiri, dengan pidana penjara paling lama tujuh \\ntahun. \\nPasal 342\\nSeorang ibu yang untuk melaksanakan niat yang ditentukan karena takut akan \\nketahuan bahwa ia akan melahirkan anak pada saat anak dilahirkan atau tidak lama \\nkemudian merampas nyawa anaknya, diancam karena melakukan pembunuhan anak \\nsendiri dengan rencana, dengan pidana penjara paling lama semhi- lan tahun. \\nPasal 343\\nKejahatan yang diterangkan dalam pasal 341 dan 342 dipandang bagi orang lain \\nyang turut serta melakukan, sebagai pembunuhan atau pembunuhan anak dengan \\nrencana. \\nPasal 344\\nBarang siapa merampas nyawa orang lain atas permintaan orang itu sendiri yang \\njelas dinyatakan dengan kesungguhan hati, diancam dengan pidana penjara paling \\nlama dua belas tahun. \\nPasal 345\\nBarang siapa sengaja mendorong orang lain untuk bunuh diri, menolongnya dalam \\nperbuatan itu atau memberi sarana kepadanya untuk itu, diancam dengan pidana \\npenjara paling lama empat tahun kalau orang itu jadi bunuh diri. \\nPasal 346 Seorang wanita yang sengaja menggugurkan atau mematikan kandungannya \\natau menyuruh orang lain untuk itu, diancam dengan pidana penjara paling lama \\nempat tahun. \\nPasal 347\\n(1) Barang siapa dengan sengaja menggugurkan atau mematikan kandungan seorang \\nwanita tanpa persetujuannya, diancam dengan pidana penjara paling lama dua belas \\ntahun. \\n(2) Jika perbuatan itu mengakibatkan matinya wanita tersebut diancam dengan \\npidana penjara paling lama lima belas tahun. \\nPasal 348\\n(1) Barang siapa dengan sengaja menggugurkan atau mematikan kandungan seorang \\nwanita dengan persetujuannya, diancam dengan pidana penjara paling lama lima \\ntahun enam bulan. \\n(2) Jika perbuatan itu mengakibatkan matinya wanita tersebut, diancam dengan \\npidana penjara paling lama tujuh tahun. \\nPasal 349\\nJika seorang dokter, bidan atau juru obat membantu melakukan kejahatan \\nberdasarkan pasal 346, ataupun melakukan atau membantu melakukan salah satu \\nkejahatan yang diterangkan dalam pasal 347 dan 348, maka pidana yang ditentukan \\ndalam pasal itu dapat ditambah dengan sepertiga dan dapat dicabut hak untuk \\nmenjalankan pencarian dalam mana kejahatan dilakukan. \\nPasal 350\\nDalam hal pemidanaan karena pembunuhan, karena pembunuhan dengan rencana, atau \\nkarena salah satu kejahatan berdasarkan Pasal 344, 347 dan 348, dapat dijatuhkan \\npencabutan hak berdasarkan pasal 35 No. 1- 5. \\nBab XX - Penganiayaan \\nPasal 351\\n(1) Penganiayaan diancam dengan pidana penjara paling lama dua tahun delapan \\nbulan atau pidana denda paling banyak empat ribu lima ratus rupiah, \\n(2) Jika perbuatan mengakibatkan luka-luka berat, yang bersalah diancam dengan \\npidana penjara paling lama lima tahun. \\n(3) Jika mengakibatkan mati, diancam dengan pidana penjara paling lama tujuh \\ntahun. \\n(4) Dengan penganiayaan disamakan sengaja merusak kesehatan. \\n(5) Percobaan untuk melakukan kejahatan ini tidak dipidana. \\nPasal 352\\n(1) Kecuali yang tersebut dalam pasal 353 dan 356, maka penganiayaan yang tidak \\nmenimbulkan penyakit atau halangan untuk menjalankan pekerjaan jabatan atau \\npencarian, diancam, sebagai penganiayaan ringan, dengan pidana penjara paling \\nlama tiga bulan atau pidana denda paling banyak empat ribu lima ratus rupiah. \\nPidana dapat ditambah sepertiga bagi orang yang melakukan kejahatan itu terhadap \\norang yang bekerja padanya, atau menjadi bawahannya. \\n(2) Percobaan untuk melakukan kejahatan ini tidak dipidana. \\nPasal 353\\n(1) Penganiayaan dengan rencana lebih dahulu, diancam dengan pidana penjara \\npaling lama empat tahun. \\n(2) Jika perbuatan itu mengakibatka luka-luka berat, yang bersalah dikenakan \\npidana penjara paling lama tujuh tahun.\\n(3) Jika perbuatan itu mengkibatkan kematian yang bersalah diancam dengan pidana \\npenjara paling lama sembilan tahun \\nPasal 354\\n(1) Barang siapa sengaja melukai berat orang lain, diancam karena melakukan \\npenganiayaan berat dengan pidana penjara paling lama delapan tahun.\\n(2) Jika perbuatan itu mengakibatkan kematian, yang bersalah diancam dengan \\npidana penjara paling lama sepuluh tahun. \\nPasal 355\\n(1) Penganiayaan berat yang dilakukan dengan rencana terlebih dahulu, diancam \\ndengan pidana penjara paling lama dua belas tahun.\\n(2) Jika perbuatan itu mengakibatkan kematian, yang bersalah diancam dengan \\npidana penjara paling lams lima belas tahun. \\nPasal 356\\nPidana yang ditentukan dalam pasal 351, 353, 354 dan 355 dapat ditambah dengan \\nsepertiga: \\n1. bagi yang melakukan kejahatan itu terhadap ibunya, bapaknya yang sah, \\nistrinya atau anaknya; \\n2. jika kejahatan itu dilakukan terhadap seorang pejsbat ketika atau karena \\nmenjalankan tugasnya yang sah; \\n3. jika kejahatan itu dilakukan dengan memberikan bahan yang herbahaya bagi \\nnyawa atau kesehatan untuk dimakan atau diminum. \\nPasal 357\\nDalam hal pemidanaan karena salah satu kejahatan berdasarkan pasal 353 dan 355, \\ndapat dijatuhkan pencabutan hak berdasarkan pasal 3o No. 1 - 4. \\nPasal 358\\nMereka yang sengaja turut serta dalam penyerangan atau perkelahian di mana \\nterlibat beberapa orang, selain tanggung jawab masing-masing terhadap apa yang \\nkhusus dilakukan olehnya, diancam: \\n1. dengan pidana penjara paling lama dua tahun delapan bulan, jika akibat \\npenyerangan atau perkelahian itu ada yang luka-luka berat; \\n2. dengan pidana penjara paling lama empat tahun, jika akibatnya ada yang mati. \\nBab XXI\\nMenyebabkan Mati Atau Luka-Luka Karena Kealpaan\\nPasal 359\\nBarang siapa karena kesalahannya (kealpaannya) menyebabkan orang lain mati, \\ndiancam dengan pidana penjara paling lama lima tahun atau pidana kurungan paling \\nlama satu tahun. \\nPasal 360\\n(1) Barang siapa karena kesalahannya (kealpaannya) menyebabkan orang lain \\nmendapat luka-luka berat, diancam dengan pidana penjara paling lama lima tahun \\natau pidana kurungan paling lama satu tahun. \\n(2) Barang siapa karena kesalahannya (kealpaannya) menyebahkan orang lain \\nluka-luka sedemikian rupa sehingga timhul penyakit atau halangan menjalankan \\npekerjaan jabatan atau pencarian selama waktu tertentu, diancam dengan pidana \\npenjara paling lama sembilan bulan atau pidana kurungan paling lama enam bulan \\natau pidana denda paling tinggi empat ribu lima ratus rupiah. \\nPasal 361\\nJika kejahatan yang diterangkan dalam bab ini dilakukan dalam menjalankan suatu \\njabatan atau pencarian, maka pidana ditamhah dengan sepertiga dan yang bersalah \\ndapat dicahut haknya untuk menjalankan pencarian dalam mana dilakukan kejahatan \\ndan hakim dapat memerintahkan supaya putusannya diumumkan.\\nBab XXII - Pencurian \\nPasal 362\\nBarang siapa mengambil barang sesuatu, yang seluruhnya atau sebagian kepunyaan \\norang lain, dengan maksud untuk dimiliki secara melawan hukum, diancam karena \\npencurian, dengan pidana penjara paling lama lima tahun atau pidana denda paling \\nbanyak sembilan ratus rupiah. \\nPasal 363\\n(1) Diancam dengan pidana penjara paling lama tujuh tahun: \\n1. pencurian ternak; \\n2. pencurian pada waktu ada kebakaran, letusan, banjir gempa bumi, atau gempa \\nlaut, gunung meletus, kapal karam, kapal terdampar, kecelakaan kereta api, \\nhuru-hara, pemberontakan atau bahaya perang;\\n3. pencurian di waktu malam dalam sebuah rumah atau pekarangan tertutup yang ada \\nrumahnya, yang dilakukan oleh orang yang ada di situ tidak diketahui atau tidak \\ndikehendaki oleh yang berhak; \\n4. pencurian yang dilakukan oleh dua orang atau lebih:\\n5. pencurian yang untuk masuk ke tempat melakukan kejahatan, atau untuk sampai \\npada barang yang diambil, dilakukan dengan merusak, memotong atau memanjat, atau \\ndengan memakai anak kunci palsu, perintah palsu atau pakaian jabatan palsu. \\n(2) Jika pencurian yang diterangkan dalam butir 3 disertai dengan salah satu hal \\ndalam butir 4 dan 5, maka diancam dengan pidana penjara paling lama sembilan \\ntahun. \\nPasal 364\\nPerbuatan yang diterangkan dalam pasal 362 dan pasal 363 butir 4, begitu pun \\nperbuatan yang diterangkan dalam pasal 363 butir 5, apabila tidak dilakukan \\ndalam sebuah rumah atau pekarangan tertutup yang ada rumahnya, jika harga barang \\nyang dicuri tidak lebih dari dua puluh lima rupiah, diancam karena pencurian \\nringan dengan pidana penjara paling lama tiga bulan atau pidana denda paling \\nbanyak dua ratus lima puluh rupiah. \\nPasal 365\\n(1) Diancam dengan pidana penjara paling lama sembilan tahun pencurian yang \\ndidahului, disertai atau diikuti dengan kekerasan atau ancaman kekerasan, \\nterhadap orang dengan maksud untuk mempersiapkan atsu mempermudah pencurian, \\natau dalam hal tertangkap tangan, untuk memungkinkan melarikan diri sendiri atau \\npeserta lainnya, atau untuk tetap menguasai barang yang dicuri. \\n(2) Diancam dengan pidana penjara paling lama dua belas tahun: \\n1. jika perbuatan dilakukan pada waktu malam dalam sebuah rumah atau pekarangan \\ntertutup yang ada rumahnya, di berjalan; \\n2. jika perbuatan dilakukan oleh dua orang atau lebih dengan bersekutu;\\n3. jika masuk ke tempat melakukan kejahatan dengan merusak atau memanjat atau \\ndengan memakai anak kunci palsu, periniah palsu atau pakaian jabatan palsu. \\n4. jika perbuatan mengakibatkan luka-luka berat.\\n(3) Jika perbuatan mengakibatkan kematian maka diancam dengan pidana penjara \\npaling lama lima belas tuhun. \\n(4) Diancam dengan pidana mati atau pidana penjara seumur hidup atau selama \\nwaktu tertentu paling lama dua puluh tahun, jika perbuatan mengakihntkan luka \\nberat atau kematian dan dilakukan oleh dua orang atau lebih dengan bersekutu, \\ndisertai pula oleh salah satu hal yang diterangkan dalam no. 1 dan 3. \\nPasal 366\\nDalam hal pemidanaan berdasarkan salah satu perbuatan yang dirumuskan dalum \\npasal 362. 363, dan 865 dapat dijatuhkan pencabutan hak berdasarkan pasal 35 No. \\n1 - 4. \\nPasal 367\\n(1) Jika pembuat atau pemhantu ciari salah satu kejahatan dalam bab ini adalah \\nsuami (istri) dari orang yang terkena kejahatan dan tidak terpisah meja dan \\nranjang atau terpisah harta kekayaan, maka terhadap pembuat atau pembantu itu \\ntidak mungkin diadakan tuntutan pidana. \\n(2) Jika dia adalah suami (istri) yang terpisah meja dan ranjang atau terpisah \\nharta kekayaan, atau jika dia adalah keluarga sedarah atau semenda, baik dalam \\ngaris lurus maupun garis menyimpang derajat kedua maka terhadap orang itu hanya \\nmungkin diadakan penuntutan jika ada pengaduan yang terkena kejahatan. \\n(3) Jika menurut lembaga matriarkal kekuasaan bapak dilakukan oleh orang lain \\ndaripada bapak kandung (sendiri), maka ketentuan ayat di atas berlaku juga bagi \\norang itu.\\nBab XXIII - Pemerasan Dan Pengancaman\\nPasal 368\\n(1) Barang siapa dengan maksud untuk menguntungkan diri sendiri atau orang lain \\nsecara melawan hukum, memaksa seorang dengan kekerasan atau ancaman kekerasan \\nuntuk memberikan barang sesuatu, yang seluruhnya atau sebagian adalah kepunyaan \\norang itu atau orang lain, atau supaya membuat hutang maupun menghapuskan \\npiutang, diancam karena pemerasan dengan pidana penjara paling lama sembilan \\nbulan. \\n(2) Ketentuan pasal 365 ayat kedua, ketiga, dan keempat berlaku bagi kejahatan \\nini. \\nPasal 369\\n(1) Barang siapa dengan maksud untuk menguntungkan diri sendiri atau orang lain \\nsecara melawan hukum. dengan ancaman pencemaran baik dengan lisan maupun \\ntulisan, atau dengan ancaman akan membuka rahasia, memaksa seorang supaya \\nmemberikan barang sesuatu yang seluruhnya atau sebagian kepunyaan orang itu atau \\norang lain. atau supaya membuat hutang atau menghapuskan piutang, diancam dengan \\npidana penjara paling lama empat tahun. \\n(2) Kejahatan ini tidak dituntut kecuali atas pengaduan orang yang terkena \\nkejahatan. \\nPasal 370\\nKetentuan pasal 367 berlaku bagi kejahatan-kejahatan yang di rumuskan dalam bab \\nini. \\nPasal 37l\\nDalam hal pemidanaan berdasarkan salah satu kejahatan yang dirumuskan dalam bab \\nini dapat dijatuhkan pencabutan hak berdasarkan pasal 35 no. 1 - 4.\\nBab XXIV - Penggelapan \\nPasal 372 \\nBarang siapa dengan sengaja dan melawan hukum memiliki barang sesuatu yang \\nseluruhnya atau sebagian adalah kepunyaan orang lain, tetapi yang ada dalam \\nkekuasaannya bukan karena kejahatan diancam karena penggelapan, dengan pidana \\npenjara paling lama empat tahun atau pidana denda paling banyak sembilan ratus \\nrupiah. \\nPasal 373\\nPerbuatan yang dirumuskan dalam pasal 372 apabila yang digelapkan bukan ternak \\ndan harganya tidak lebih dari dua puluh lima rupiah, diancam sebagai penggelapan \\nringan dengan pidana penjara paling lama tiga bulan atau pidana denda paling \\nbanyak dua ratus lima puluh rupiah. \\nPasal 374\\nPenggelapan yang dilakukan oleh orang yang penguasaannya terhadap barang \\ndisebabkan karena ada hubungan kerja atau karena pencarian atau karena mendapat \\nupah untuk itu, diancam dengan pidana penjara paling lama lima tahun. \\nPasal 375\\nPenggelapan yang dilakukan oleh orang yang karena terpaksa diberi barang untuk \\ndisimpan, atau yang dilakukan oleh wali pengampu, pengurus atau pelaksana surat \\nwasiat, pengurus lembaga sosial atau yayasan, terhadap barang sesuatu yang \\ndikuasainya selaku demikian, diancam dengan pidana penjara paling lama enam \\ntahun. \\nPasal 376\\nKetentuan dalam pasal 367 berlaku bagi kejahatan-kejahatan yang dirumuskan dalam \\nbab ini. \\nPasal 377\\n(1) Dalam hal pemidanaan berdasarkan salah satu kejahatan yang dirumuskan dalam \\npasal 372, 374, dan 375 hakim dapat memerintahkan supaya putusan diumumkan dan \\ndicabutnya hak-hak berdasarkan pasal 35 No. 1 4. \\n(2) Jika kejahatan dilakukan dalam menjalankan pencarian maka dapat dicabut \\nhaknya untuk menjalankan pencarian itu.\\nBab XXV\\nPerbuatan Curang \\nPasal 378\\nBarang siapa dengan maksud untuk menguntungkan diri sendiri atau orang lain \\nsecara melawan hukum, dengan memakai nama palsu atau martabat palsu, dengan tipu \\nmuslihat, ataupun rangkaian kebohongan, menggerakkan orang lain untuk \\nmenyerahkan barang sesuatu kepadanya, atau supaya memberi hutang rnaupun \\nmenghapuskan piutang diancam karena penipuan dengan pidana penjara paling lama \\nempat tahun. \\nPasal 379\\nPerbuatan yang dirumuskan dalam pasal 378, jika barang yang diserahkan itu bukan \\nternak dan harga daripada barang, hutang atau piutang itu tidak lebih dari dua \\npuluh lima rupiah diancam sebagai penipuan ringan dengan pidana penjara paling \\nlama tiga bulan atau pidana denda paling banyak dua ratus lima puluh rupiah. \\nPasal 379a\\nBarang siapa menjadikan sebagai mata pencarian atau kebiasaan untuk membeli \\nbarang- barang, dengan maksud supaya tanpa pembayaran seluruhnya memastikan \\npenguasaan terhadap barang- barang itu untuk diri sendiri maupun orang lain \\ndiancam dengan pidana penjara paling lama empat tahun. \\nPasal 380\\n(1) Diancam dengan pidana penjara paling lama dua tahun delapan bulan atau \\npidana denda paling banyak lima ribu rupiah: \\n1. barang siapa menaruh suatu nama atau tanda secara palsu di atas atau di dalam \\nsuatu hasil kesusastraan, keilmuan, kesenian atau kerajinan, atau memalsu nama \\natau tanda yang asli, dengan mal sud supaya orang mengira bahwa itu benar-benar \\nbuah hasil orang yang nama atau tandanya ditaruh olehnya di atas atau di \\ndalamnya tadi; \\n2. barang siapa dengan sengaja menjual menawarkan menyerahkan, mempunyai \\npersediaan untuk dijual at.au memasukkan ke Indonesia, hasil kesusastraan, \\nkeilmuan, kesenian atau kerajinan. yang di dalam atau di atasnya telah ditaruh \\nnama at.au tanda yang palsu, atau yang nama atau tandanya yang asli telah \\ndipalsu, seakan-akan itu benar- benar hasil orang yang nama atau tandanya telah \\nditaruh secara palsu tadi. \\n(2) Jika hasil itu kepunyaan terpidana, maka boleh dirampas. \\nPasal 381\\nBarang siapa dengan jalan tipu muslihat menyesatkan penanggung asuransi mengenai \\nkeadaan-keadaan yang berhubungan dengan pertanggungan sehingga disetujui \\nperjanjian, hal mana tentu tidak akan disetujuinya atau setidak-tidaknya tidak \\ndengan syarat- syarat yang demikian, jika diketahuinya keadaan-keadaan \\nsebenarnya diancam dengan pidana penjara paling lama satu tahun empat bulan. \\nPasal 382\\nBarang siapa dengan maksud untuk menguntungkan diri sendiri atau orang lain \\nsecara melawan hukum. atas kerugian penanggung asuransi atau pemegang surat \\nbodemerij yang sah. menimbulkan kebakaran atau ledakan pada suatu barang yang \\ndipertanggungkan terhadap bahaya kebakaran, atau mengaramkan. mendamparkan. \\nmenghancurkan, merusakkan. atau membikin tak dapat dipakai. kapal yang \\ndipertanggungkan atau yang muatannya maupun upah yang akan diterima untuk \\npengangkutan muatannya yang dipertanggungkan, ataupun yang atasnya telah \\nditerima uang bode- merij diancarn dengan pidana penjara paling lama lima tahun. \\n\\nPasal 382 bis\\nBarang siapa untuk mendapatkan, melangsungkan atau memperluas hasil perdagangan \\natau perusahaan milik sendiri atau orang lain, melakukan perbuatan curang untuk \\nmenyesatkan khalayak umum atau seorang tertentu, diancam, jika perbuatan itu \\ndapat enimbulkan kerugian bagi konkuren-konkurennya atau konguren-konkuren orang \\nlain, karena persaingan curang, dengan pidana penjara paling lama satu tahun \\nempat bulan atau pidana denda paling banyak tiga belas ribu lima ratus rupiah. \\nPasal 383\\nDiancam dengan pidana penjara paling lama satu tahun empat bulan, seorang \\npenjual yang berbuat curang terhadap pembeli: \\n1. karena sengaja menyerahkan barang lain daripada yang ditunjuk untuk dibeli; \\n2 mengenai jenis, keadaan atau jumlah barang yang diserahkan, dengan menggunakan \\ntipu muslihat. \\nPasal 383 bis\\nSeorang pemegang konosemen yang sengaja mempergunakan beberapa eksemplar dari \\nsurat tersebut dengan titel yang memberatkan, dan untuk beberapa orang penerima, \\ndiancam dengan pidana penjara paling lama dua tahun delapan bulan. \\nPasal 384\\nPerbuatan yang dirumuskan dalam pasal 383, diancam dengan pidana penjara paling \\nlama tiga bulan atau denda paling banyak dua ratus lima puluh rupiah, jika \\njumlah keuntungan yang di peroleh tidak lebih dari dua puluh lima rupiah. \\nPasal 385\\nDiancam dengan pidana penjara paling lama empat tahun: \\n1. barang siapa dengan maksud menguntungkan diri sendiri atau orang lain secara \\nmelawan hukum, menjual, menukarkan atau membebani dengan creditverband sesuatu \\nhak tanah yang telah bersertifikat, sesuatu gedung, bangunan, penanaman atau \\npembenihan di atas tanah yang belum bersertifikat, padahal diketahui bahwa yang \\nmempunyai atau turut mempunyai hak di atasnya adalah orang lain; \\n2. barang siapa dengan maksud yang sama menjual, menukarkan atau membebani \\ndengan credietverband, sesuatu hak tanah yang belum bersertifikat yang telah \\ndibehani credietverband atau sesuatu gedung bangunan. penanaman atau pembenihan \\ndi atas tanah yang juga telah dibebani demikian, tanpa mem beritahukan tentang \\nadanya heban itu kepada pihak yang lain; \\n3. barang siapa dengan maksud yang sama mengadakan credietverband mengenai \\nsesuatu hak tanah yang belum bersertifikat. dengan menyembunyikan kepada pihak \\nlain bahwa tanah yanr bezhubungan dengan hak tadi sudah digadaikan; \\n4. barang siapa dengan maksud yang sama, menggadaikan atau menyewakan tanah \\ndengan hak tanah yang belum bersertifikat padahal diketahui bahwa orang lain \\nyang mempunyai atau turut mempunyai hak atas tanah itu: \\n5. barang siapa dengan maksud yang sama, menjual atau menukarkan tanah dengan \\nhak tanah yang belum bersertifikat yang telah digadaikan, padahal tidak \\ndiberitahukannya kepada pihak yang lain bahwa tanah itu telah digadaikan; \\n6. barang siapa dengan maksud yang sama menjual atau menukarkan tanah dengan hak \\ntanah yang belum bersertifikat untuk suatu masa, padahal diketahui, bahwa tanah \\nitu telah disewakan kepada orang lain untuk masa itu juga. \\nPasal 386\\n(1) Barang siapa menjual, menawarkan atau menyerahkan barang makanan, minuman \\natau obat-obatan yang diketahuinya bahwa itu dipalsu, dan menyembunyikan hal \\nitu, diancan dengan pidana penjara paling lama empat tahun. \\n(2) Bahan makanan, minuman atau obat-obatan itu dipalsu jika nilainya atau \\nfaedahnya menjadi kurang karena sudab dicampur dengan sesuatu bahan lain. \\nPasal 387\\n(1) Diancam dengan pidana penjara paling lama tujuh tahun seorang pemborong atau \\nahli bangunan atau penjual bahan-bahan bangunan, yang pada waktu membuat \\nbangunan atau pada waktu menyerahkan bahan-bahan bangunan, melakukan sesuatu \\nperhuatan curang yang dapat membahayakan amanan orang atau barang, atau \\nkeselamatan negara dalam keadaan perang. \\n(2) Diancam dengan pidana yang sama, barang siapa yang bertugas mengawasi \\npemhangunan atau penyerahan barang-barang itu, sengaja membiarkan perbuatan yang \\ncurang itu. \\nPasal 388\\n(1) Barang siapa pada waktu menyerahkan barang keperluan Angkatan Laut atau \\nAngkatan Darat melakukan perbuat.an curang yang dapat membahayakan kesempatan \\nnegara dalam keadaan perang diancam dengan pidana penjara paling lama tujuh \\ntahun. \\n(2) Diancam dengan pidana yang sama, barang siapa yang bertugas mengawasi \\npenyerahan barang-barang itu, dengan sengaja membiarkan perbuatan yang curang \\nitu. \\nPasal 389\\nBarang siapa dengan maksud untuk menguntungkan diri sendiri atau orang lain \\nsecara melawan hukum, menghancurkan, memindahkan, membuang atau membikin tak \\ndapat dipakai sesuatu yang digunakan untuk menentukan batas pekarangan, diancam \\ndengan pidana penjara paling lama dua tahun delapan bulan. \\nPasal 390\\nBarang siapa dengan maksud untuk menguntungkan diri sendiri atau orang lain \\nsecara melawan hukum, dengan menyiarkan kabar bohong yang menyebabkan harga \\nbarang- barang dagangan, dana-dana atau surat-surat berharga menjadi turun atau \\nnaik diancam dengan pidana penjara paling lama dua tahun delapan\\nPasal 391\\nBarang siapa menerima kewajiban untuk, atau memberi pertolongan pada penempatan \\nsurat hutang sesuatu negara atau bagiannya, atau sesuatu lembaga umum sero, atau \\nsurat hutang sesuatu perkumpulan, yayasan atau perseroan, mencoba menggerakkan \\nkhalayak umum untuk pendaftaran atau penyertaannya, dengan sengaja \\nmenyembunyikan atau mengurangkan keadaan yang sebenarnya atau dengan \\nmembayang-bayangkan keadaan yang palsu, diancam dengan pidana penjara paling \\nlama empat tahun. \\nPasal 392\\nSeorang pengusaha, seorang pengurus atau komisaris persero terbatas, maskapai \\nandil Indonesia atau koperasi, yang sengaja mengumumkan daftar atau neraca yang \\ntidak benar, diancam dengan pidana penjara paling lama satu tahun empat bulan. \\nPasal 393\\n(1) Barang siapa memasukkan ke Indonesia tanpa tujuan jelas untuk mengeluarkan \\nlagi dari Indonesia, menjual, menamarkan, menyerahkan, membagikan atau mempunyai \\npersediaan untuk dijual atau dibagi-bagikan. barang-barang yang diketahui atau \\nsepatutnya harus diduganya bahwa padabarangnya itu sendiri atau pada bungkusnya \\ndipakaikan secara palsu, nama firma atau merek yang menjadi hak orang lain atau \\nuntui menyatakan asalnya barang, nama sehuah tempat tertentu, dengan ditambahkan \\nnama atau firma yang khayal, ataupun pada barangnya sendiri atau pada bungkusnya \\nditirukan nama, firma atau merek yang demikian sekalipun dengan sedikit \\nperubahan, diancam dengan pidana penjara paling lama empat bulan dua minggu atau \\npidana denda paling banyak sembilan ribu rupiah. \\n(2) Jika pada waktu melakukan kejahatan helurn lewat lima tahun sejak adanya \\npemidanaan yang menjadi tetap karena kejahatan semacam itu juga dapat dijatuhkan \\npidana penjara paling lama sembilan bulan. \\nPasal 393 bis\\n(1) Seorang pengacara yang sengaja memasukkan atau menyuruh masukkan dalam surat \\npermohonan cerai atau pisah meja dan ranjang, atau dalam surat permohonan \\npailit, keterangan- keterangan tentang tempat tinggal atau kediaman tergugat \\natau penghutang, padahal diketahui atau sepatutnya harus diduganya bahwa \\nketerangan-keterangan itu tertentangan dengan yang sebenarnya, diancam dengan \\npidana penjara paling lama satu tahun. \\n(2) Diancam dengan pidana yang sama ialah si suami (istri) yang mengajukan \\ngugatan atau si pemiutang yang memasukkan permintaan pailit, yang sengaja \\nmemberi keterangan palsu kepada pengacara yang dimaksudkan dalam ayat pertama.\\nPasal 394\\nKetentuan pasal 367 berlaku hagi kejahatan-kejahatan yang dirumuskan dalam bab \\nini kecuali yang dirumuskan dalam ayat kedua pasal 393 bis, sepanjang kejahatan \\ndilakukan mengenai keterangan untuk mohon cerai atau pisah meja dan ranjang \\nPasal 395\\n(1) Dalam hal pemidanaan berdasarkan salah satu kejahatan yang dirumuskan dalam \\nbab ini, hakim dapat memerintahkan pengumuman putusannya dan yang bersalah dapat \\ndicabut haknya untuk menjalankan pencarian ketika kejahatan di lakukan. \\n(2) Dalam hal pemidanaan berdasarkan salah satu kejahatan yang dirumuskan dalam \\npasal 378 382, 385, 387, 388, 393 bis dapat dijatuhkan pencabutan hak-hak \\nberdasarkan pasal No. 1 - 4.\\nBab XXVI - Perbuatan Merugikan Pemiutang Atau Orang Yang Mempunyai Hak \\nPasal 396 \\nSeorang pengusaha yang dinyatakan dalam keadaan pailit atau yang diizinkan \\nmelepaskan budel oleh pengadilan, diancam karena merugikan pemiutang dengan \\npidana penjara paling lama satu tahun empat bulan: \\n1. jika pengeluarannya melewati batas; \\n2. jika yang bersangkutan dengan maksud untuk menangguhkan kepailitannya telah \\nmeminjam uang dengan syarat-syarat yang memberatkan sedang diketahuinya bahwa \\npinjaman itu tiada mencegah kepailitan; \\n3. jika dia tak dapat memperlihatkan dalam keadaan tak diubah buku-buku dan \\nsurat- surat untuk catatan menurut pasal 6 Kitab Undang-undang Hukum Dagang dan \\ntulisan- tulisan yang harus disimpannya menurut pasal itu. \\nPasal 397\\nSeorang pengusaha yang dinyatakan dalam keadaan pailit atau diizinkan melepaskan \\nbudel oleh pengadilan, diancam karena merugikan pemiutang secara curang jika \\nyang bezsangkutan untuk mengurangi hak pemiutang secara curang: \\n1. membikin pengeluaran yang tak ada, maupun tidak membukukan pendapatan, atau \\nmenarik barang sesuatu dari budel; \\n2. telah melijerkan (uervreemden) barang sesuatu dengan cuma-cuma atau jelas di \\nbawah harganya; \\n3. dengan suatu cara menguntungkan salah seorang pemiutang diwaktu pailitnya \\natau pada saat di mana diketahui hahwa keadaan tersebut tak dapat dicegah; \\n4. tidak memenuhi kewajiban untuk mengadakan pencatatan menurut pasal 6 ayat \\npertama Kitah Undang-undang Hukum Dagang atau untuk menyimpan dan memperlihatkan \\nbuku-buku, surat-surat, dan tulisan-tulisan yang dimaksud dalam ayat ketiga \\npasal tersebut. \\nPasal 398\\nSeorang pengurus atau komisaris perseroan terbatas, maskapai andil Indonesia \\natau perkumpulan koperasi yang dinyatakan dalam keadaan pailit atau yang \\ndiperintahkan penyelesaian oleh pengadilan, diancam dengan pidana penjara paling \\nlama satu tahun empat bulan: \\n1. jika yang bersangkutan turut membantu atau mengizinkan untuk melakukan \\nperbuatan- perbuatan yang bertentangan dengan anggaran dasar, sehingga oleh \\nkarena itu seluruh atau sebagian besar dari kerugian diderita oleh perseroan, \\nmaskapai atau perkumpulan, \\n2. jika yang bersangkutan dengan maksud untuk menangguhkan kepailitan atau \\npenyelesaian perseroan, maskapai atau perkumpulan. turut membantu atau \\nmengizinkan peminjaman uang dengan syarat-syarat yang memberatkan, padahal \\ndiketahuinya tak dapat dicegah keadaan pailit atau penyelesaiannya; \\n3. jika yang bersangkutan dapat dipersalahkan tidak memenuhi kewajiban yang \\nditerangkan dalam pasal 6 ayat pertama Kitab Unclang-undang Hukum Dagang dan \\npasal 27 ayat pertama ordonansi tentang maskapai andil Indonesia, atau bahiva \\nbuku- buku dan surat-surat yang memuat catatan-catatan dan tulisan-tulisan yang \\ndisimpan menurut pasal tadi, tidak dapat di perlihatkan dalam keadaan tak \\ndiubah. \\nPasal 399\\nSeorang pengurus atau komisaris perseroan terbatas, maskapai andil Indonesia \\natau perkumpulan koperasi yang dinyatakan dalam keadaan pailit atau yang \\npenyelesaiannya diperintahkan oleh pengadilan, diancam dengan pidana penjara \\npaling lama tujuh tahun jika yang hersangkutan mengurangi secara curanp hak-hak \\npemiutang dari perseroan maskapai atau perkumpulai untuk: \\n1. membikin pengeluaran yang tak ada, maupun tidak membuku kan pendapatan atau \\nmenarik barang sesuatu dari budel; \\n2. telah melijerkan (uerureemden) barang sesuatu dengan cuma cuma atau jelas di \\nbawah harganya;\\n3. dengan sesuatu cara menguntungkan salah seorang pemiutang di waktu kepailitan \\natau penyelesaian, ataupun pada saat di mana diketahuinya bahwa kepailitan atau \\npenyelesaian tadi tak dapat dicegah; \\n4. tidak memenuhi kewajiban mengadakan catatan menurut Kitat Undang-undang Hukum \\nDagang atau pasal 27 ayat pertama ordonansi tentang maskapai andil Indonesia, \\ndan tentang menyimpan dan memperlihatkan buku-buku, surat-surat dan \\ntulisan-tulisan menurut pasal-pasal itu. \\nPasal 400\\nDiancam dengan pidana penjara paling lama lima tahun enan bulan, barang siapa \\nyang mengurangi dengan penipuan hak-hak pemiutang: \\n1. dalam hal pelepasan budel, kepailitan atau penyelesaian atau pada waktu \\ndiketahui akan terjadi salah satu di antaranya dan kemudian sungguh disusul \\ndengan pelepasan budel. kepailitan atau penyelesaian menarik barang sesuatu dari \\nbudel atau menerima pembayaran baik dari hutang yang tak dapat di tagih maupun \\nyang dapat ditagih, dalam hal terakhir dengan diketahuinya bahwa kepailitan atau \\npenyelesaian penghutang sudah dimohonkan, atau akibat rundingan dengan \\npenghutang; \\n2. di waktu verifikasi piutang-piutang dalam hal pelepasan budel, kepailitan \\natau penyelesaian. mengaku adanya piutang yang tak ada atau memperbesar jumlah \\npiutang yang ada. \\nPasal 401\\n(1) Seorang pemiutang yang menyetujui tawaran persetujuan di muka pengadilan \\nkarena telah ada persetujuan dengan penglautang maupun pihal ketiga di mana yang \\nbersangkutan minta keuntungan istimewa, diancam dengm pidana penjara paling lama \\nsatu tahun empat bulan, jika persetujuan itu diterima. \\n(2) Diancam dengan pidana yang sama pada penghutang dalam hal seperti di atas, \\natau jika penghutang adalah perseroan, maskapai, perkumpulan atau yayasan, pada \\npengurus atau komisaris yang mengadakan persetujuan. \\nPasal 402\\nBarang siapa dinyatakan dalam keadaan jelas tak mampu atau jika bukan pengusaha, \\ndinyatakan dalam keadaan pailit atau dibolehkan melepaskan budel, diancam dengan \\npidana penjara pa!ing lama lima tahun enam bulan. jika yang bersangkutan secara \\ncurang mengurangi hak-hak pemiutang dengan mengada-ada pengeluaran yang tak ada, \\nmaupun menyembunyikan pendapatan, atau menarik barang sesuatu dari budel ataupun \\ntelah melijerkan barang sesuatu dengan cuma-cuma atau terang di bawah harganya, \\natau di waktu ketidakmampuannya, pelepasan budelnya atau kepailitannya. atau \\npada saat di mana diketahuinya bahwa salah satu dari keadaan tadi tak dapat \\ndicegah, menguntungkan salah seorang pemiutang dengan sesuatu cara. \\nPasal 403\\nSeorang pengurus atau komisaris perseroan terbatas. maskapai andil Indonesia \\natau perkumpulan koperasi di luar ketentuan pasal 398, turut membantu atau \\nmengizinkan dilakukan perbuatan yang bertentangan dengan anggaran dasar, dan \\noleh karena itu mengakibatkan perseroan, maskapai atau perkumpulan tak dapat \\nmemenuhi kewajibannya, atau harus dibubarkan, diancam dengan pidana denda paling \\nbanyak seratus lima puluh ribu rupiah. \\nPasal 404\\nDiancam dengan pidana penjara paling lama dua tahun.\\n1. barang siapa dengan sengaja menarik barang milik sendiri, atau kalau bukan \\ndemikian untuk pemiliknya dari orang lain yang mempunyai hak gadai, hak menahan, \\npungut hasil atau pakai atasnya;\\n2. barang siapa dengan sengaja untuk seluruhnya atau sebagian, menarik barang \\nmilik sendiri atau kalau bukan demikian untuk pemiliknya dari ikatan hipotik \\n3. barang siapa dengan sengaja, untuk seluruhnya atau sebagian, menarik suatu \\nbarang yang olehnya dibebani ikatan panen atau untuk yang memheri ikatan menarik \\nsuatu barang yang oleh oruig lain itu dibehani ikatan panen. dengan merugikan \\npemengang ikatan; \\n4 barang siapa dengan sengaja, untuk seluruhnya atau sebagian, menarik suatu \\nbarang milik sendiri atau kalau tiukan demikian, untuk pemiliknya. dari ikatan \\nkredit atasnya, dengan merugi kan pemegang ikatan. \\nPasal 405\\n(1) Dalam hal pemidanaan berkasarkan salah satu kejahatan yang dirumuskan dalam \\npasal 397, 399 400, dan 402 yang bersalah dapat dicabut hak-haknya berdasarkan \\npasal 35.\\n(2) Pemidanaan berlasarkan salah satu kejahatan seperti yang dirumuskan. dalam \\npasal 396 - 402, dapat diperintahkan supaya putus hakim diumumkan.\\nBab XXVIII - Kejahatan Jabatan\\nPasal 413\\nSeorang komandan Angkatan Bersenjata yang menolak atau sengaia mengabaikan untuk \\nmenggunakan kekuntan di bawah perintahnya, ketika diminta oleh penguasa sipil \\nyang berwenang menurut undang-undang, diancam dengan pidana penjara lama empat \\ntahun. \\nPasal 414\\n(1) Seorang pejabat yang sengaja minta bantuan Angkatan Bersenjata untuk melawan \\npelaksanaan ketentuan undang-undang, perintah penguasa umum menurut \\nudang-undang, putusan atau surat perintah pengadilan, diancam dengan pidana \\npenjara paling lama tujuh tahun. \\n(2) Jika pelaksanaan dihalang-halangi oleh perbuatan demikian, yang bersalah \\ndiancam dengan pidana penjara paling lama sembilan tahun. \\nPasal 415\\nSeorang pejabat atau orang lain yang ditugaskan menjalankan suatu jabatan umum \\nterus- menerus atau untuk sementara waktu, Wang dengan sengaja menggelapkan uang \\natau surat berharga yang disimpan karena jabaimnya, atau membiarkan uang atau \\nsurat berharga ihu diambil atau digelapkan oleh orang lain, atau menolong \\nsebagai pembantu dalam melakukan perbuatan tersebut, diancam dengan pidana \\npenjsra paling 1ama tujuh tahun. \\nPasal 416\\nSeorang pejabat atau orang lain yang diheri tugas menjalankan suatu jabatan umum \\nterus- menerus atau untuk sementara waktu, yang sengaja membuat secara palsu \\natau memalsu buku buku-buku daftar-daftar yang khusus untuk pemeriksaan \\nadministrasi, diancam dengan pidana penjara paling lama empat tahun. \\nPasal 417\\nSeorang pejabat atau orang lain yang diberi tugas menjalankan suatu jabatan umum \\nterus- menerus atau untuk sementara waktu yang sengaja menggelapkan, \\nmenghancurkan. merusakkan atau membikin tak dapat dipakai barang-barang yang \\ndiperuntukkan guna meyakinkan atau membuktikan di muka penguasa yang berwenang, \\nakta-akta, surat-surat atau daftar-daftar yang dikuasai nya karena jabatannya, \\natau memhiarkan orang lain menghilangkan, menghancurkan, merusakkan atau \\nmemhikin tak dapat di pakai barang- barang itu, atau menolong sebagai pembantu \\ndalam melakukan perbuatan itu, diancam dengan pidana penjara paling lama lima \\ntahun enam bulan. \\nPasal 418\\nSeorang pejabat yang menerima hadiah atau janji padahal diketahui atau \\nsepatutnya harus diduganya., hahwa hadiah atau janji itu diberikan karena \\nkekuasaan atau kewenangan yang berhubungan dengan jabatannya, atau yang menurut \\npikiran orang yang memberi hadiah atau janji itu ada hubungan dengan jabatannya \\ndiancam dengan pidana penjara paling lama enam tahun atau pidana denda paling \\nbanyak empat ribu lima ratus rupiah. \\nPasal 419\\nDiancam dengan pidana penjara paling lama lima tahun seorang pejabat: \\nl. yang menerima hadiah atau janji padahal diketahuinya bahwa hadiah atau janji \\nitu diberikan untuk menggerakkannya supaya melakukan atau tidak melakukan \\nsesuatu dalam jabatannya yang bertentangan dengan kewajibannya; \\n2. yang menerinia hadiah mengetahui bahwa hadiah itu diberikan sebagai akibat. \\natau oleh karena si penerima telah melakukan atau tidak melakukan sesuatu dalam \\njabatannya yang bertentangan dengan kewajibannya. \\nPasal 420\\n(1) Diancam dengan pidana penjara paling lama sembilan tahun: \\n1. seorang hakim yang menerima hadiah atau janji. padahal diketahui bahwa hadiah \\natau janji itu diberikan untuk mempengaruhi putusan perkara yang menjadi \\ntugasnya; \\n2. barang siapa menurut ket.entuan undang-undang ditunjuk menjadi penasihat \\nuntuk menghadiri sidang pengadilan, menerima hadiah atau janji, padahal \\ndiketahui bahwa hadiah atau janji itu diberikan untuk mempengaruhi nasihat \\ntentang perkara yang harus diputus oleh pengadilan itu. \\n(2) Jika hadiah atau janji itu diterima dengan sadar bahwa hadiah atau janji itu \\ndiberikan supaya dipidana dalam suatu perkara pidana, maka yang bersalah diancam \\ndengan pidana penjara paling lama dua belas tahun. \\nPasal 421\\nSeorang pejabat yang menyalahgunakan kekuasaan memaksa seseorang untuk \\nmelakukan, tidak melakukan atau membiarkan sesuatu, diancam dengan pidana \\npenjara paling lama dua tahun delapan bulan. \\nPasal 422\\nSeorang pejabat yang dalam suatu perkara pidana menggunakan barana paksaan, baik \\nuntuk memeras pengakuan, maupun untuk mendapatkan keterangan, diancam dengan \\npidana penjara paling lama empat tahun. \\nPasal 423\\nSeorang pejabat dengan maksud menguntungkan diri sendiri atau orang lain secara \\nmelawan hukum, dengan menyalahgunakan kekuasaannya, memaksa seseorang untuk \\nmemberikan sesuatu, untuk membayar atau menerima pembayaran dengan potongan, \\natau untuk mengerjakan sesuatu bagi dirinya sendiri, diancam dengan pidana \\npenjara paling lama enam tahun. \\nPasal 424\\nSeorang pejabat dengan maksud menguntungkan diri sendiri atau orang lain secara \\nmelawan hukum, dengan menyalahgunakan kekuasaannya, menggunakan tanah negara di \\natas mana ada hak hak pakai Indonesia, diancam dengan pidana penjara paling lama \\nenam tahun. \\nPasal 425\\nDiancam karena melakukan pemerasan dengan pidana penjara paling lama tujuh \\ntahun:\\n1. seorang pejabat yang pada waktu menjalankan tugas, meminta, menerima, atau \\nmemotong pembayaran, seolah-olah berhutang kepadanya, kepada pejabat lainnya \\natau kepada kas umum, padahal diketahuinya bahwa tidak demikian adanya; \\n2. seorang pejabat yang pada waktu menjalankan tugas, meminta atau menerima \\npekerjaan orang atau penyerahan barang seolah olah merupakan hutang kepada \\ndirinya, padahal diketahuinya bahwa tidak demikian halnya; \\n3. seorang pejabat yang pada waktu menjalankan tugas, seolaholah sesuai dengan \\naturan- aturan yang bersangkutan telah menggunakan tanah negara yang di atasnya \\nada hak-hak pakai Indonesia dengan merugikan yang berhak padahal diketahui nya \\nbahwa itu bertentangan dengan peraturan tersebut. \\nPasal 426\\n(1) Seorang pejabat yang diberi tugas menjaga orang yang dirampas kemerdekaannya \\natas perintah penguasa umum atau atas putusan atau ketetapan pengadilan, dengan \\nsengaja membiarkan orang itu melarikan diri atau dengan sengaja melepaskannya, \\natau memberi pertolongan pada waktu dilepas atau melepaskan diri., diancam \\ndengan pidana penjara paling lama empat tahun. \\n(2) Jika orang itu lari, dilepaskan, atau melepaskan diri karena kesalahan \\n(kealpaan), maka yang bersangkutan diancam dengan pidana kurungan paling lama \\ndua bulan atau pidana denda paling banyak empat ribu lima ratus rupiah. \\nPasal 427\\n(1) Diancam dengan pidana penjara paling lama empat tahun: \\n1. seorang pejabat dengan tugas menyidik perbuatan pidana, yang sengaja tidak \\nmemenuhi permintaan untuk menyatakan bahwa ada orang dirampas kemerdekaannya \\nsecara melawan hukum, atau yang sengaja tidak memberitahukan hal itu kepada \\nkekuasaan yang lebih tinggi; \\n2. seorang pejabat yang dalam menjalankan tugasnya mengetahui bahwa ada \\norangdirampas kemerdekaannya secara melawan hukum, sengaja tidak memberitahukan \\nhal itu dengan sepera kepada pejabat yang bertugas menyidik perbuatan pidana. \\n(2) Seorang pejahat yang bersalah (alpa) menyebabkan apa yang dirumuskan dalam \\npasal ini terlaksana, diancam dengan pidana kurungan paling lama tiga bulan atau \\npidana denda paling banyak empat ribu lima ratus rupiah. \\nPasal 428\\nDiancam dengan pidana penjara paling lama satu tahun empat bulan, seorang kepala \\nlembaga pemasyarakatan tempat menutup orang terpidana, orang tahanan sementara \\natau orang yang disandera, atau seorang kepala lembaga pendidikan negara atau \\nrumah sakit jiwa, yang menolak memenuhi permintaan menurut udang-undang supaya \\nmemperlihatkan orang yang dimasukkan di situ, atau supaya memperlihatkan \\nregister masuk, atau akta- akta yang menuzut aturan-aturan umum harus ada untuk \\nmemasukkan orang di situ. \\nPasal 429\\n(1) Seorang pejabat yang melampaui kekuasaan atau tanpa mengindahkan cara-cara \\nyang ditentukan dalam peraturan umum, memaksa masuk ke dalam rumah atau ruangan \\natau pekarangan terututup yang dipakai oleh orang lain, atau jika berada di situ \\nsecara melawan hukum, tidak segera pergi atas permintaan yang berhak atau atas \\nnama orang itu, diancam dengan pidana penjara paling lama satu tahun empat bulan \\natau pidana denda paling tinggi empat ribu lima ratus rupiah. \\n(2) Diancam dengan pidana yang sama, seorang pejabat yang pada waktu menggeledah \\nrumah, dengan melampaui ke kuasaannya atau tanpa mengindahkan cara-cara yang \\nditentukan dalam peraturan umum, memeriksa atau merampas surat surat, buku-buku \\natau kertas-kertas lain. \\nPasal 430\\n(1) Seorang pejabat yang melampaui kekuasaannya, menyuruh memperlihatkan \\nkepadanya atau merampas surat, kartu pos, barang atau paket yang diserahkan \\nkepada lembaga pengangkutan umum atau kabar kawat yang dalam tangan pejabat \\ntelegrap untuk keperluan umum, diancam dengan pidana penjara paling lama dua \\ntahun delapan bulan. \\n(2) Pidana yang sama dijatuhkan kepada pejabat yang melampaui kekuasaannya, \\nmenyuruh seorang pejabat telepon atau orang lain yang diberi tugas pekerjaan \\ntelepon untuk keperluan umum, memberi keterangan kepadanya tentang sesuatu \\npercakapan yang dilakukan denggan perantaraaan lembaga itu.\\nPasal 431\\nSeorang pejabat, suatu lembaga pengangkutan umum yang sengaja dan melaivan hukum \\nmembuka suatu surat barang tertutup atau paket yang diserahkan kepada lembaga \\nitu. memeriksa isinya, atau memberitahukan isinya kepada orang lain, diancam \\ndengan pidana penjara paling lama dua tahun. \\nPasal 432\\n(1) Seorang pejahat suatu lembaga pengangkutan umum yang dengan sengaja \\nmemberikan kepada orang lain daripada yang berhak, surat tertutup, kartu pos \\natau paket yang dipercayakan kepada lembaga itu, atau menghancurkan, \\nmenghilangkan, memiliki sendiri atau mengubah isinya, atau memiliki sendiri \\nbarang sesuatu yang ada di dalamnya diancam dengan pidana penjara paling lama \\nlima tahun. \\n(2) Jika surat atau barang itu bernilai uang, maka pemilikan sendiri itu diancam \\ndengan pidana penjara paling lama tujuh tahun. \\nPasal 433\\nSeorang pejabat telegrap atau telepon, atau orang lain yang ditugasi mengaxvasi \\npekerjaan telegrap atau telepon yang digunakan untuk kepentingan umum, diancam: \\n1. dengan pidana penjara paling lama dua tahun. jika ia dengan sengaja dan \\nmelawan hukum memberitahukan kepada orang lain, kabar yang diserahkan kepada \\njawatan telegrap atau telepon atau kepada lembaga semacam itu, atau dengan \\nsengaja dan melawan hukum membuka, membaca, atau memberitahukan kabar telegrap \\natau telepon kepada orang lain; \\n2. dengan pidana penjara paling lama lima tahun, jika ia dengan sengaja \\nmemberikan kepada orang lain daripada yang berhak atau. menghancurkan, \\nmenghilangkan, memiliki sendiri atau mengubah isi suatu berita telegrap atau \\ntelepon yang diserahkan kepada jawatan telegrap, telepon atau pada lembaga \\nsemacam itu. \\nPasal 434\\nSeorang pejabat suatu lembaga pengangkutan umum, seorang pejabat telegrap atau \\ntelepon atau orang lain yang dimaksud dalam pasal 433, yang dengan sengaja \\nmembiarkan orang lain melakukan salah satu perbuatan berdasarkan pasal 431 - \\n433, atau membantu orang lain dalam perbuatan itu, diancam dengan pidana menurut \\nperbedaan- perbedaan yang ditetapkan dalam pasal-pasal tersebut. \\nPasal 435\\nSeorang pejabat yang dengan langsung maupun tidak langsung sengaja turut serta \\ndalam pemborongan, penyerahan atau persewaan, yang pada saat dilakukan \\nperbuatan, untuk seluruh atau sebagian, dia ditugaskan mengurus atau \\nmengawasinya, diancam dengan pidana penjara paling lama sembilan bulan atau \\npidana denda paling banyak delapan belas ribu rupiah. \\nPasal 436\\n(1) Barang siapa menurut hukum yang berlaku bagi masing- masing pihak mempunyai \\nkewenangan melangsungkan perkawinan seseorang, padahal diketahuinya bahwa \\nperkawinan atau perkawinan-perkawinan orang itu yang telah ada men jadi halangan \\nuntuk ltu berdasarkan undang-undang, diancam dengan pidana penjara paling lama \\ntujuh tahun. \\n(2) Barang siapa menurut hukum yang berlaku bagi masing-masing pihak mempunyai \\nkewenangan melangsungkan perkawinan seseorang, padahal diketahuinya ada halangan \\nuntuk itu berdasarkan undang-undang diancam dengan pidana penjara paling lama \\ndua tahun delapan bulan atau pidana denda paling banyak empat ribu lima ratus \\nrupiah. \\nPasal 437\\nDalam hal pemidanaan berdasarkan pasal 415 419, 420 423 434, 425, 432 ayat \\npenghabisan, dan pasal 436 ayat pertama. dapat dijatuhkan pencabutan hak \\nberdasarkan pasal 35. No.3 dan 4.\\nBab XXIX - Kejahatan Pelayaran\\nPasal 438\\n(1) Diancam karena melakukan pembajakan di laut:\\n1. dengan pidana penjara paling lama lima belas tahun, barang siapa masuk \\nbekerja menjadi nahkoda atau menjalankan pekerjaan itu di sebuah kapal, padahal \\ndiketahuinya bahwa kapal itu diperuntukkan atau digunakan untuk melakukan \\nperbuatan-perbuatan kekerasan di lautan bebas terhadap kapal lain atau terhadap \\norang dan barang di atasnya, tanpa mendapat kuasa untuk itu dari sebuah negara \\nyang berperang atau tanpa masuk angkatan laut suatu negara yang diakui; \\n2. dengan pidana penjara paling lama dua belas tahun, barang siapa mengetahui \\ntentang tujuan atau penggunaan kapal itu, masuk bekerja menjadi kelasi kapal \\ntersebut atau dengan suka rela terus menjalankan pekerjaan tersebut setelab hal \\nitu diketahui olehnya, ataupun termasuk anak buah kapal tersebut. \\n(2) Disamakan dengan tidak punya surat kuasa, jika melampaui apa yang \\ndikuasakan, demikian juga jika memegang surat kuasa dari negara-negara yang \\nberperang satu dengan yang lainnya. \\n(3) Pasal 89 tidak diterapkan. \\nPasal 439\\n(1) Diancam karena melakukan pembajakan di tepi laut dengan pidana penjara \\npaling lama lima belas tahun, barang siapa dengan memakai kapal melakukan \\nperbuatan kekerasan terhadap kapal lain atau terhadap orang atau barang di \\natasnya, di perairan Indonesia. \\n(2) Yang dimaksud dengan wilayah laut Indonesia yaitu wilayah \"Territoriale zee \\nen maritieme kringen ordonantie, S. 1939 442.\" \\nPasal 440\\nDiancam karena melakukan pembajakan di pantai dengan pidana penjara paling lama \\nlima belas tahun, barang siapa yang di darat maupun di air sekitar pantai atau \\nmuara sungai, melakukan perbuatan kekerasan terhadap orang atau barang di situ, \\nsetelah lebih dahulu menyeberangi lautan seluruhnya atau sebagiannya untuk \\ntujuan tersebut. \\nPasal 441\\nDiancam karena melakukan pembajakan di sungai dengan pidana penjara paling lama \\nlima belas tahun, barang siapa dengan memakai kapal melakukan perbuatan \\nkekerasan di sungai terhadap kapal lain atau terhadap orang atau barang di \\natasnya, setelah datang ke tempat dan untuk tujuan tersebut dengan kapal dari \\ntempat lain. \\nPasal 442\\nDiancam dengan pidana penjara paling lama lima belas tahun, barang siapa yang \\nmenerima atau melakukan pekerjaan sebagai komandan atau pemimpin sebuah kapal. \\npadahal diketahuinya bahwa kapal itu diperuntukkan atau digunakan untuk \\nmelakukan salah satu perbuatan yang dirumuskan dalam pasal 439 - 441. \\nPasal 443\\nDiancam dengan pidana penjara paling lama sepuluh tahun barang siapa yang \\nmenerima atau melakukan pekerjaan sebagai kelasi di sebuah kapal, padahal \\ndiketahuinya bahwa kapal itu diperuntukkan atau digunakan untuk melakukan salah \\nsatu perbuatan yang dirumuskan dalam pasal 439 - 441 ataupun dengan sukarela \\ntetap tinggal bekerja di kapal itu, sesudah diketahui olehnya bahwa kapal itu \\ndigunakan seperti diterangkan di atas. \\nPasal 444\\nJika perbuatan kekerasan yang diterangkan dalam pasal 438 - 441 mengakibatkan \\nseseorang di kapal yang diserang atau seseorang yang diserang itu mati maka \\nnakoda. komandan atau pemimpin kapal dan mereka yang turut serta melakukan \\nperbuatan kekerasan, diancam dengan pidana mati, pidana penjara seumur hidup, \\natau pidana penjara selama waktu tertentu paling lama dua puluh tahun.\\nPasal 445\\nBarang siapa melengkapi kapal atas biaya sendiri atau orang lain, dengan maksud \\nuntuk digunakan sebagai yang dirumuskan dalam pasal 438 atau dengan maksud untuk \\nmelakukan salah satu per- buatan yang dirumuskan dalam pasal 439 - 441, diancam \\ndengan pidana penjara paling lama lima belas tahun. \\nPasal 446\\nBarang siapa atas biaya sendiri atau orang lain, secara langsung maupun tidak \\nlangsung turut melaksanakan penyewaan, pemuatan atau pertanggungan sebuah kapal, \\npadahal diketahuinya bahwa kapal itu akan digunakan sebagai yang dirumuskan \\ndalam pasal 438, 38, atau untuk melakukan salah satu perbuatan yang dirumuskan \\ndalam pasal 439 - 441, diancam dengan pidana penjara paling lama dua belas tahun \\ndalam \\nPasal 447\\nBarang siapa dengan sengaja menyerahkan sebuah kapal Indonesia dalam kekuasaan \\nbajak laut, bajak tepi laut, bajak pantai, dan bajak sungai, diancam: \\n1. dengan pidana penjara paling lama lima belas tahun. jika ia adalah nakoda \\nkapal itu; \\n2. dengan pidana penjara paling lama dua belas tahun, dalam hal-hal lain. \\nPasal 448\\nSeorang penumpang kapal Indonesia yang merampas kekuasaav atas kapal secara \\nmelawan hukum, diancam dengan pidana penjara paling lama tujuh tahun. \\nPasal 449\\nSeorang nakoda sebuah hapal Indonesia yang menarik kapal dari pemiliknya atau \\ndari pengusahanya dan memakainya untul keuntungan sendiri, diancam dengan pidana \\npenjara paling lama delapan tahun enam bulan. \\nPasal 450\\nSeorang warga negara Indonesia yang tanpa izin Pemerintah Indonesia menerima \\nsurat, bajak, maupun menerima atau men jalankan pekerjaan sebagai nakoda sebuah \\nkapal, padahal diketahui bahwa kapal itu diperuntukkan atau digunakan untuk \\npelayaran pembajakan tanpa izin Pemerintah Indonesia, diancam dengan pidana \\npenjara paling lima tahun. \\nPasal 451\\nSeorang warga negara Indonesia yang menerima pekerjaan sebagai kelasi di sebuah \\nkapal. padahal diketahuinya bahwa kapal itu diperuntukkan atau digunakan untuk \\npelayaran pembajakan tanpa izin Pemerintah Indonesia, ataupun secara suka rela \\ntetap bekerja sebagai kelasi sesudah diketahuinya tujuan atau pengguaan kapal \\nitu, diancam dengan pidana penjara paling lama empat tahun.\\nPasal 451 bis\\n(1) Seorang nakoda sebuah kapal Indonesia yang menyuruh membikin keterangan \\nkapal, yang diketahuinya bahwa isinya bertentangan dengan kenyataan. diancam \\ndengan pidana penjara paling lama lima tahun. \\n(2) Kelasi-kelasi yang turut serta menyuruh membikin keterangan kapal yang \\ndiketahuinya bahwa isinya tidak benar, diancam dengan piclana penjara paling \\nlama dua tahun delapan bulan. \\nPasal 451 ter\\nBarang siapa untuk memenuhi peraturan dalam ayat ketiga pasal 12 aturan tentang \\npendaftaran kapal, memperlihatkan surat keterangan yang diketahuinya bahwa \\nisinya tidak benar, diancam dengan pidana penjara paling lama lima tahun. \\nPasal 452\\n(1) Barang siapa dalam berita acara suatu keterangan kapa1, menyuruh menulis \\nketerangun palsu tentang suatu keudann yang kebenarannya harus dinyatakan dalam \\nakta itu dengan maksud untuk menggunakan atau menyuruh orang lain menggunakan \\nakta itu, seolah-olah keterangannya sesuai dengan kenyataan, dianeam, jiks \\nkarena penggunaan aktu itu dapat menimbulkan kerugian dengan pidana penjara \\npaling lama delapan tahun. \\n(2) Diancam dengan pidana yang sama, barang siapa dengan sengaja menggunakan \\nakta itu seolah-olah isinya sesuai dengan kenyataan, jika karena penggunaan itu \\ndapat timbul kerugian. \\nPasal 453\\nDiancam dengan pidana penjara paling lama dua tahun delapan bulan, seorang \\nnakoda kapal Indonesia yang sesudah dimulai penerimaan atau penyewaan kelasi. \\ntetapi sebelum perjanjian habis dengan sengaja dan melawan hukum menarik diri \\ndari pimpinan kapal itu. \\nPasal 454\\nDiancam, karena melakukan desersi, dengan pidana penjara paling lama satu tahun \\nempat bulan, seorang kelasi yang, bertentangan dengan kewajibannya menurut \\npersetujuan kerja, menarik diri dari tugasnya di kapal Indonesia, jika menurut \\nkeadaan di waktu melakukan perbuatan, ada kekhawatiran timbul bahaya bagi kapal, \\npenumpang atau muatan kapal itu. \\nPasal 455\\nDiancam karena melakukan desersi biasa, dengan pidana pen jara paling lama empat \\nbulan dua minggu, seorang anak buah kapal kapal Indonesia, yang dengan sengaja \\ndan melawan hukun tidak mengikuti atau tidak meneruskan perjalanan yang telah di \\nsetujuinya. \\nPasal 456\\nDitiadakan berdasarkan S. 34 - 124 jo. 38 - 2. \\nPasal 457\\nPidana yang ditentukan dalam pasal 454 dan 455 dapat dilipatkan dua, jika dua \\norang atau lebih dengan bersekutu melakukan kejahatan itu, atau jika kejahatan \\ndilakukan akibat permufakatan jahat untuk berbuat demikian. \\nPasal 458\\n(1) Seorang pengusaha, pemegang buku, atau nakoda kapal Indonesia yang menerima \\nseorang anak buah kapal untuk bekerja, padahal mengetahui bahwa anak buah kapal \\nitu belum ada sebulan sejak menarik diri dari persetujuannya dengan kapal \\nIndonesia seperti dirumuskan di dalam salah satu pasal 454 atau 455, diancam \\ndengan pidana penjara paling lama empat bulan dua minggu atau pidana denda \\npaling banyak empat ribu lima ratus rupiah. \\n(2) Tidak dipidana, jika penerimaan kerja dilakukan di luar Indonesia dengan \\nizin konsul Indonesia. atau kalau ini tidak ada, atas permintaan penguasa \\nsetempat. \\nPasal 459\\n(1) Seorang penumpang kapal Indonesia yang di atas kapal menyerang nakoda, \\nmelawannya dengan kekerasan atau ancaman kekerasan, dengan sengaja merampas \\nkebebasannya untuk bergerak atau seorang anak buah kapal Indonesia yang di atas \\nkapal dalam pekerjaan berbuat demikian terhadap orang yang lebih tinggi \\npangkatnya, diancam karena melakukan insubordinasi dengan pidana penjara paling \\nlama dua tahun delapan bulan. \\n(2) Yang bersalah diancam dengan: \\n1. pidana penjara paling lama empat tahun, jika kejahatan itu atau \\nperbuatan-perbuatan lain yang menyertainya mengakibatkan luka-luka; \\n2. pidana penjara paling lama delapan tahun enam bulan jika mengakibatkan \\nluka-luka berat; \\n3. pidana penjara paling lama dua belas tahun, jika mengakibatkan kematian. \\nPasal 460\\n(1) Insubordinasi yang dilakukan dua orang atau lebih dengan bersekutu, diancam \\nkarena melakukan pemberontakan di kapal dengan pidana penjara paling lama tujuh \\ntahun. (2) Yang hersalah diancam dengan \\n1. pidana penjara paling lama delapan tahun enam bulan jika kejahatan itu atau \\nperbuatan-perbuatan lain yang menyertainya mengakibatkan luka-luka; \\n2. pidana penjara paling lama dua belas tahun, jika mengakibatkan luka-luka \\nberat; \\n3. pidana penjara paling lama lima belas tahun jika mengakihatkan kematian. \\nPasal 461\\nBarang siapa di atas kapal Indonesia menghasut supaya mem berontak, diancam \\ndengan pidana penjara paling lama enam tahun \\nPasal 462\\nPenolakan kerja oleh dua orang anak buah kapal Indonesia atau lebih yang \\ndilakukan bersekutu atau akibat permufakatan jahat diancam dengan pidana penjara \\npaling lama dua tahun delapan bulan. \\nPasal 463\\nDiancam dengan pidana penjara paling lama sembilan bulan. seorang anak buah \\nkapal Indonesia yang sesudah dikenakan tiv dakan disiplin karena menolak kerja, \\nmasih tetap menolak kerja juga. \\nPasal 464\\n(1) Diancam dengan pidana penjara paling lama sembilan bulan atau denda paling \\nbanyak empat ribu lima ratus rupial seorang penumpang kapal Indonesia; \\n1. yang sengaja tidak menurut perintah nakoda yang diberikan untuk keamanan atau \\nuntuk meneguhkan ketertiban dan disiplin di atas kapal; \\n2. yang tidak memberi pertolongan menurut kemampuannya kepada nakoda, ketika \\ndiketahuinya bahwa dia dirampas kemerdekaanya untuk bergerak; \\n3. yang sengaja tidak memberitahukan kepada nakoda ketika diketahuinya adanya \\nniat untuk melakukan insubordinasi. \\n(2) Ketentuan tersebut pada no. 3 tidak berlaku jika insuhordinasi tidak \\nterjadi. \\nPasal 465\\nPidana yang diancam pada pasal 448 451 454 464 dapat ditambah sepertiga, jika \\nyang melakukan salah satu kejahatan yang dirumuskan dalam pasal itu, berpangkat \\nperwira kapal . \\nPasal 466\\nSeorang nakoda kapal Indonesia yang dengan maksud menguntungkan diri sendiri \\natau orang lain dengan melawan hukum atau untuk menutupi perbuatan itu menjual \\nkapalnya, atau meminjam uang dengan mempertanggungkan kapalnya atau perlengkapan \\nkapal itu atau perbekalannya, atau menjual atau menggadaikan kapal itu barang \\nmuatan atau barang perbekalan kapal itu, atau mengurangi kerugian atau belanja, \\natau tidak menjaga supaya buku-buku harian harian di kapal dipelihara menurut \\nundang-undang, ataupun tidak mengurus keselamatan surat-surat kapal ketika \\nmeninggalkan kapalnya, diancam dengan pidana penjara paling lama tujuh \\nPasal 467\\nSeorang nakoda kapal Indonesia, yang dengan maksud untuk menguntungkan diri \\nsendiri atau orang lain secara melawan hukum, atau untuk menutupi keuntungan \\nyang demikian, mengubah haluan kapalnya, diancam dengan pidana penjara paling \\nlama empat tahun. \\nPasal 468\\nSeorang nakoda kapal Indonesia yang di luar keharusan atau bertentangan dengan \\nhukum yang berlaku baginya, meninggalkan kapalnya di tengah perjalanan, dan juga \\nmenyuruh atau memberi izin kepada anak buahnya untuk berbuat demikian. diancam \\ndengan pidana penjara paling lama lima tahun enam bulan. \\nPasal 469\\n(1) Seorang nakoda kapal Indonesia yang di luar keharusan dan di luar \\npengetahuan lebih dahulu dari pemilik atau peng usaha kapal, melakukan atau \\nmembiarkan dilakukan \\nperbuatan yang diketahuinya bahwa karena itu kapalnya atau muatannya kemungkinan \\nditangkap ditahan atau dirintangi diancam dengan pidana penjara paling lama satu \\ntahun empat bulan atau pidana denda sebanyak-banyaknya sembilan ribu rupiah. \\n(2) Seorang penumpang kapal yang di luar keharusan dan di luar pengetahuan lebih \\ndulu dari nakoda melakukan perbuatan yang sama dengan pengetahuan yang sama \\npula, dianeair dengan pidana penjara paling lama satu tahun atau pidana denda \\npaling banyak sembilan ribu rupiah. \\nPasal 470\\nSeorang nakoda kapal Indonesia yang di luar keharusan sengaja tidak memberi \\nkepada penumpang kapalnya apa yang wajib di berikan padanya. diancam dengan \\npidana penjara paling lama dua tahun delapan bulan atau pidana denda paling \\nbanyak empat ribu lima ratus rupiah. \\nPasal 471\\nSeorang nakoda kapal Indonesia yang sengaja membuang barang muatan di luar \\nkeharusan dan bertentangan dengan hukum yang berlaku baginya, diancam dengan \\npidana penjara paling lama dua tahun delapan bulan atau pidana denda paling \\nbanyak empat rihu lima ratus rupiah. \\nPasal 472\\nBarang siapa dengan sengaja dan melawan hukum, menghancurkan merusakkan, atau \\nmembikin tak dapat dipakai muatan, perbekalan atau barang keperluan yang ada \\ndalam kapal, diancam dengan pidana penjara paling lama dua tahun delapan bulan. \\nPasal 472 bis\\nBarang siapa sebagai penumpang gelap turut berlayar di atas sebuah kapal, \\ndiancam dengan pidana penjara paling tiga bulan. \\nPasal 473\\nSeorang nakoda yang memakai bendera Indonesia, padahal diketahuinya bahwa dia \\ntidak berhak untuk itu, diancam dengan pidana penjara paling lama satu tahun \\nempat bulan atau pidana denda paling banyak empat ribu lima ratus rupiah. \\nPasal 474\\nSeorang nakoda yang dengan niemakai tanda-tanda pada kapalnya sengaja \\nmenimbulkan kesan seakan-akan kapalnya adalah kapal perang Indonesia kapal \\nAngkatan Laut atau kapal penunjuk yang bekerja di perairan atau terusan laut \\nIndonesia, diancam dengan pidana penjara paling lama empat bulan dua minggu atau \\npidana denda paling banyak empat ribu lima ratus rupiah. \\nPasal 475\\nBaran siapa yang diluar keharusan melakukan pekerjaan nakoda, juru mudi atau \\nmasinis di kapal Indonesia padahal diketahuirsya bahwa kewenangannya untuk \\nberlayar telah dicabut oleh penguasa yang berwenang, diancam dengan pidana \\npenjara paling lama sembilan bulan atau pidana denda paling banyak sembilan ribu \\nrupiah. \\nPasal 476\\nSeorang nakoda kapal Indonesia yang tanpa alasan yang dapat diterima menolak \\nuntuk memenuhi permintaan berdasarkan undang-undang untuk menerima di kapalnya \\nseorang terdakwa atau terpidana beserta benda-benda yang berhubungan dengan \\nperkaranya, diancam dengan pidana penjara paling lama empat bulan dua minggu \\natau pidana denda paling banyak empat ribu lima ratus rupiah. \\nPasal 477\\n(1) Seorang nakoda kapal Indonesia yang dengan sengaja mem biarkan lari, atau \\nmelepaskan seorang terdakwa atau terpidana atau memberi bantuan ketika \\ndilepaskan atau melepaskan diri, padahal orang itu diterima di kapalnya atas \\npermintaan berdasarkan undang-undang. diancam dengan pidana penjara paling lama \\nempat tahun. \\n(2) Jika orang itu lari, dilepaskan atau melepaskan dirinya karena kealpaan \\nnakoda itu, maka dia diancam dengan pidana kurungan paling lama dua bulan atau \\npidana denda paling banyak empat ribu lima ratus rupiah. \\nPasal 478\\nSeorang nakoda kapal Indonesia yang sengaja tidak memenuhi kewajibannya menurut \\nayat pertama pasal 358a Kitab Undang- undang Hukum Dagang untuk memberi \\npertolongan kalau kapal nya terlibat dalam suatu tabrakan, diancam dengan pidana \\npenjara paling lama empat tahun. \\nPasal 479\\nDalam hal pemidanaan berdasarkan salah satu kejahatan yang di- rumuskan dalam \\npasal 488 - 449,. 446, dan 467, dapat dinyatakan pencabutan hak-hak berdasarkan \\npasal 35 no. 1 - 4.\\nBab XXIX A - Kejahatan Penerbangan Dan Kejahatan Terhadap Sarana/Prasarana \\nPenerbangan \\nPasal 479 a \\n(1) Barang siapa dengan sengaja dan melawan hukum menghancurkan, membuat tidak \\ndapat dipakai atau merusak bangunan untuk pengamanan lalu-lintas udara atau \\nmenggagalakan usaha untuk pengamanan bangun teesebut dipidana dengan pidana \\npenjara selama-lamanya sembilam tahun, \\n(2) Dengan pidana penjara selama-lamanya sembilan tahun jika karena perbuatan \\nitu timbul bahaya bagi keamanan lalu-lintas udara; \\n(3) Dengan pidana penjara selama-lamanya lima belas tahun jika karena perbuatan \\nitu mengakibatkan matinya orang. \\nPasal 479 b\\n(1) Barang siapa karena kealpaannya menyebabkan hancurnya, tidak dapat \\ndipakainya atau rusaknya bangunan untuk pengamanan lalu-lintas udara, atau \\ngagalnya usaha untuk pengamanan bangunan tersebut, dipidana dengan pidana \\npenjara selama-lamanya tiga tahun. \\n(2) Dengan pidana penjara selama-lamanya lima tahun, jika karena perbuatan itu \\ntimbul bahaya bagi keamanan lalu lintas udara. \\n(3 ) Dengan pidana penjara selama-lamanya tujuh tahun, jika karena perbuatan itu \\nmengakibatkan matinya orang. \\nPasal 479 c\\n(1) Barang siapa dengan sengaja dan melawan hukum menghancurkan, merusak. \\nmengambil atau memindahkan tanda atau alat untuk pengamanan penerbangan, atau \\nmenggagalkan bekerjanya tanda atau alat tersebut, atau memasang tanda atau alat \\nyang keliru, dipidana dengan pidana penjara selama-lamanya enam tahun. \\n(2) Dengan pidana penjara selama-lamanya sembilan tahun, jika karena perbuatan \\nitu timbul bahaya bagi keamanan penerbangan. \\n(3) Dengan pidana penjara selama-lamanya dua belas tahun, jika karena perbuatan \\nitu timbul bahaya bagi keamanan penerbangan dan mengakibatkan celakanya pesawat \\nudara. \\n(4) Dengan pidana penjara selama-lamanya lima belas tahun, jika karena perbuatan \\nitu timbul bahaya keamanan penerbangan dan mengakibatkan matinya orang. \\nPasal 479d\\nBarang siapa karena kealpaan menyebabkan tanda atau alat untuk pengamanan \\npenerbangan hancur, rusak, terambil atau pindah atau menyebabkan tidak dapat \\nbekerja atau menyebabkan terpasangnya tanda atau alat untuk pengamanan \\npenerbangan yang keliru, dipidana: \\na. dengan pidana penjara selama-lamanya lima tahun, jika karena perbuatan itu \\nmenyebabkan penerbangan tidak aman; \\nb. dengan pidana penjara selama-lamanya lima tahun, jika karena perbuatan itu \\nmengakibatkan celakanya pesawat udara; \\nc. dengan pidana penjara selama-lamanya tujuh tahun, jika karena perbuatan itu \\nmengakibatkan matinya orang. \\nPasal 479e\\nBarang siapa dengar. sengaja dan melawan hukum, menghancurkan atau membuat tidak \\ndapat dipakainya pesawat udara yang seluruhnya atau sebagian kepunyaan orang \\nlain, dipidana dengan pidana penjara selama-lamanya sembilan tahun. \\nPasal 479f\\nBarang siapa dengan sengaja dan melawan hukum mencelakakan, menghancurkan, \\nmembuat tidak dapat dipakai atau merusak pesawat udara, dipidana: \\na. dengan pidana penjara selama-lamanya lima belas tahun, jika karena perbuatan \\nitu timbul bahaya bagi nyawa orang lain; \\nb. dengan pidana penjara seumur hidup atau pidana penjara untuk selama-lamanya \\ndua puluh tahun, jika karena perbuatan itu mengakibatkan matinya orang. \\nPasal 479g\\nBarang siapa karena kealpaannya menyebabkan pesawat udara celaka, hancur, tidak \\ndapat dipakai atau rusak, dipidana: \\na. dengan pidana penjara selama-lamanya lima tahun, jika karena perbuatan itu \\ntimbul bahaya bagi nyawa orang lain; \\nb. dengan pidana penjara selama-lamanya tujuh tahun, jika karena perbuatan itu \\nmengakibatkan matinya orang. \\nPasal 479h\\n(1) Barang siapa dengan maksud untuk menguntungkan diri sendiri atau orang lain \\ndengan melawan hukum, atas kerugian penanggung asuransi menimbulkan kebakaran \\natau ledakan, kecelakaan, kehancuran, kerusakan atau membuat tidak dapat \\ndipakainya pesawat udara, yang dipertanggungkan terhadap bahaya tersebut di atas \\natau yang dipertanggungkan muatannya maupun upah yang akan diterima untuk \\npengangkutan muatannya, ataupun untuk kepentingan muatan tersebut telah diterima \\nuang tanggungan, dipidana dengan pidana penjara selama-lamanya sembilan tahun. \\n(2) Apabila yang dimaksud pada ayat (1) pasal ini adalah pesawat udara dalam \\npenerbangan, dipidana dengan pidana penjara selama-lamanya lima belas tahun. \\n(3) Barang siapa dengan maksud untuk menguntungkan diri sendiri atau orang. lain \\ndengan melawan hukum atas kerugian penanggung asuransi, menyebabkan penumpang \\npesawat udara yang dipertanggungkan terhadap bahaya. mendapat kecelakaan, \\ndipidana:\\na. dengan pidana penjara selama-lamanya sepuluh tahun, jika karena perbuatan itu \\nmenyebabkan luka berat;\\nb. dengan pidana penjara selama-lamanya lima belas tahun, jika karena perbuatan \\nitu mengakibatkan matinya orang. \\nPasal 479i\\nBarang siapa di dalam pesawat udara dengan perbuatan yang melawan hukum merampas \\natau mempertahankan perampasan atau menguasai pesawat udara dalam penerbangan. \\ndipidana dengan pidana penjara selama-lamanya dua belas tahun. \\nPasal 479j\\nBarang siapa dalam pesawat udara dengan kekerasan atau ancaman kekerasan atau \\nancaman dalam bentuk lainnya merampas atau mempertahankan perampasan atau \\nmenguasai pengendalian pesawat udara dalam penerbangan dipidana dengan pidana \\npenjara selama-lamanya lima belas tahun. \\nPasai 479 k\\n(1) Dipidana dengan pidana penjara seumur hidup atau pidana penjara \\nselama-lamanya dua puluh tahun, apabila perbuatan dimaksud pasal 479 huruf i dan \\npasal 479 jitu: \\na. dilakukan oleh dua orang atau lebih bersama-sama; \\nb. sebagai kelanjutan permufakatan jahat; \\nc. dilakukan dengan direncanakan lebih dahulu; \\nd. mengakibatkan kerusakan pada pesawat udara tersebut sehingga dapat \\nmembahayakan penerbangannya; \\ne. mengakibatkan luka berat seseorang; \\nf. dilakukan dengan maksud untuk merampas kemerdekaan atau meneruskan merampas \\nkemerdekaan seseorang. \\n(2) Jika perbuatan itu mengakibatkan matinya seseorang atau hancurnya pesawat \\nudara itu, dipidana dengan pidana mati atau pidana penjara seumur hidup atau \\npidana penjara selama-lamanya dua puluh tahun. \\nPasal 479l\\nBarang siapa dengan sengaja dan melawan hukum melakukan perbuatan kekerasan \\nterhadap seseorang di dalam pesawat udara dalam penerbangan, jika perbuatan itu \\ndapat membahayakan keselamatan pesawat udara tersebut, dipidana dengan pidana \\npenjara selama-lamanya lima belas tahun. \\nPasal 479 m\\nBarang siapa dengan sengaja dan melawan hukum merusak pesawat udara dalam dinas \\natau menyebabkan kerusakan atas pesawat udara tersebut yang menyebabkan tidak \\ndapat terbang atau membahayakan keamanan penerbangan, dipidana dengan pidana \\npenjara selama-lamanya lima belas tahun. \\nPasal 479n\\nBarang siapa dengan sengaja dan melawan hukum menempatkan atau menyebabkan \\nditempatkannya di dalam pesawat udara dalam dinas, dengan cara apa pun, alat \\natau bahan yang dapat menghancurkan pesawat udara atau menyebabkan kerusakan \\npesawat udara tersebut yang membuatnya tidak dapat terbang atau menyebabkan \\nkerusakan pesawat udara tersebut yang dapat membahayakan keamanan dalam \\npenerbangan, dipidana dengan pidana penjara selama-lamanya lima belas tahun. \\nPasal 479o\\n(1) Dipidana dengan pidana penjara seumur hidup atau pidana penjara \\nselama-lamanya dua puluh tahun apabila perbuatan dimaksud pasal 479 huruf l, \\npasal 479 huruf m, dan pasal 479 huruf n itu: \\na dilakukan oleh dua orang atau lebih bersama-sama; \\nb. sebagai kelanjutan dari permufakatan jahat; \\nc. dilakukan dengan direncanakan lebih dahulu; \\nd. mengakibatkan luka berat bagi seseorang;\\n(2) Jika perbuatan itu mengakibatkan matinya seseorang atau hancurnya pesawat \\nudara itu, dipidana dengan pidana mati atau pidana penjara seumur hidup atau \\npidana penjara selamalamanya dua puluh tahun. \\nPasal 479 p\\nBarang siapa memberikan keterangan yang diketahuinya adalah palsu dan karena \\nperbuatan itu membahayakan keamanan pesawat udara dalam penerbangan, dipidana \\ndengan pidana penjara selama-lamanya lima belas tahun. \\nPasal 479 q\\nBarang siapa di dalam pesawat udara, melakukan perbuatan yang dapat membahayakan \\nkeamanan dalam pesawat udara dalam penerbangan, dipidana dengan pidana penjara \\nselama-lamanya lima tahun. \\nPasal 479 r\\nBarang siapa di dalam pesawat udara melakukan perbuatan-perbuatan yang dapat \\nmengganggu ketertiban dan tata-tertib di dalam pesawat udara dalam penerbangan, \\ndipidana penjara selama-lamanya satu tahun.\\nBab XXX - Penadahan Penerbitan Dan Percetakan \\nPasal 480 \\nDiancam dengan pidana penjara paling lama empat tahun atau pidana denda paling \\nbanyak sembilan ratus rupiah: \\n1. barang siapa membeli, menyewa, menukar, menerima gadai, menerima hadiah, atau \\nuntuk menarik keuntungan, menjual, menyewakan, menukarkan, menggadaikan, \\nmengangkut, meyimpan atau menyembunyikan sesuatu benda, yang diketahui atau \\nsepatutnya. harus diduga bahwa diperoleh dari kejahatan penadahan; \\n2. barang siapa menarik keuntungan dari hasil sesuatu benda, yang diketahuinya \\natau sepatutnya harus diduga bahwa diperoleh dari kejahatan. \\nPasal 481\\n(1) Barang siapa menjadikan sebagai kebiasaan untuk sengaja membeli, menukar, \\nmenerima gadai, menyimpan, atau menyembunyikan barang yang diperoleh dari \\nkejahatan, diancam dengan pidana penjara paling lama tujuh tahun. \\n(2) Yang bersalah dapat dicabut haknya berdasarkan pasal 35 no. 1 - 4 dan haknya \\nuntuk melakukan pencarian dalam mana kejahatan dilakukan. \\nPasal 482\\nPerbuatan sebagaimana dirumuskan dalam pasal 480, diancam karena penadahan \\nringan dengan pidana penjara paling lama tiga bulan atau pidana denda paling \\nbanyak sembilan ratus rupiah, jika kejahatan dari mana benda tersebut diperoleh \\nadalah salah satu kejahatan yang dirumuskan dalam pasal 364, 373, dan 379. \\nPasal 483\\nBarang siapa menerbitkan sesuatu tulisan atau sesuatu gambar yung karena \\nsifatnya dapat diancam dengan pidana, diancam dengan pidana penjnra paling lama \\nsatu tahun empat bulan atau pidana kurungan paling lama satu tahun atau pidana \\ndenda paling banyak empat ribu lima ratus rupiah, jika: \\nl. si pelaku tidak diketahui namanya dan juga tidak diberitahukan namanya oleh \\npenerbit pada peringatan pertama sesudah penuntutan berjalan terhadapnya; \\n2. penerbit sudah mengetahui atau pat,ut menduga hahwa pada waktu tulisan atau \\ngambar itu diterbitkan, si pelaku itu tak dapat dituntut atau akan menetap di \\nluar Indonesia. \\nPasal 484\\nBarang siapa mencetak tulisan atau gambar yang merupakan perbuatan pidana, \\ndiancam dengan pidana paling lama satu tahun empat bulan atau pidana kurungan \\npaling lama satu tahun atau pidana denda paling banyak empat ribu lima ratus \\nrupiah, jika: \\n1. orang yang menyuruh mencetak barang tidak diketahui, dan setelah ditentukan \\npenuntutan, pada teguran pertama tidak diberitahukan olehnya; \\n2. pencetak mengetahui atau seharusnya renduga bahwa orang yang menyuruh \\nmencetak pada saat penerbitan, tidak dapat dituntut atau menetap di luar \\nIndonesia. \\nPasal 485\\nJika sifat tulisan atau gamhar merupakan kejahatan yang hanya dapat dituntut \\natas pengaduan, maka penerbit atau pencetak dalam kedua pasal di atas hanya \\ndituntut atas pengaduan orang yang terkena kejahatan itu.\\nBuku Ketiga - Pelanggaran\\nDaftar Isi\\n  Bab I - Tentang Pelanggaran Keamanan Umum bagi Orang atau Barang dan Kesehatan \\n\\n  Bab II - Pelanggaran Ketertiban Umum \\n  Bab III - Pelanggaran Terhadap Penguasa Umum \\n  Bab IV - Pelanggaran Mengenai Asal-Usul dan Perkawinan \\n  Bab V - Pelanggaran Terhadap Orang yang Memerlukan Pertolongan \\n  Bab VI - Pelanggaran Kesusilaan \\n  Bab VII - Pelanggaran Mengenai Tanah, Tanaman dan Pekarangan \\n  Bab VIII - Pelanggaran Jabatan \\n  Bab IX - Pelanggaran Pelayaran \\nBab I - Tentang Pelanggaran Keamanan Umum Bagi Orang Atau Barang Dan Kesehatan \\nPasal 489 \\n(1) Kenakalan terhadap orang atau barang yang dapat menimbulkan bahaya, kerugian \\natau kesusahan, diancam dengan pidana denda paling banyak dua ratus dua puluh \\nlima rupiah. \\n(2) Jika ketika melakukan pelanggaran belum lewat satu tahun sejak adanya \\npemidanaan yang menjadi tetap karena pelanggaran yang sama, pidana denda dapat \\ndiganti dengan pidana kurungan paling lama tiga hari. \\nPasal 490 \\nDiancam dengan pidana kurungan paling lama enam hari, atau pidana denda paling \\nbanyak tiga ratus rupiah: \\n1. barang siapa menghasut hewan terhadap orang atau terhadap hewan yang sedang \\nditunggangi, atau dipasang di muka kereta atau kendaraan, atau sedang memikul \\nmuatan: \\n2. barang siapa tidak mencegah hewan yang ada di bawah penjagaannya, bilamana \\nhewan itu menyerang orang atau hewan yang lagi ditunggangi atau dipasang di muka \\nkereta atau kendaraan, atau sedang memikul muatan: \\n3. barang siapa tidak menjaga secukupnya binatang buas yang ada di bawah \\npenjagaannya, supaya tidak menimbulkan kerugian; \\n4. barang siapa memelihara binatang buas yang berbahaya tanpa melaporkan kepada \\npolisi atau pejabat lain yang ditunjuk untuk itu, atau tidak menaati peraturan \\nyang diberikan oleh pejabat tersebut tentang hal itu. \\nPasal 491 \\nDiancam dengan pidana denda paling banyak tujuh ratus lima puluh rupiah: \\n1. barang siapa diwajibkan menjaga orang gila yang berbahaya bagi dirinya \\nsendiri maupun orang lain, membiarkan orang itu berkeliaran tanpa dijaga; \\n2. barang siapa diwajibkan menjaga seorang anak, meninggalkan anak itu tanpa \\ndijaga sehingga oleh karenanya dapat timbul bahaya bagi anak itu atau orang \\nlain. \\nPasal 492 \\n(1) Barang siapa dalam keadaan mabuk di muka umum merintangi lalu lintas, atau \\nmengganggu ketertiban, atau mengancam keamanan orang lain, atau melakukan \\nsesuatu yang harus dilakukan dengan hati-hati atau dengan mengadakan tindakan \\npenjagaan tertentu lebih dahulu agar jangan membahayakan nyawa atau kesehatan \\norang lain, diancam dengan pidana kurungan paling lama enam hari, atau pidana \\ndenda paling banyak tiga ratus tujuh puluh lima rupiah. \\n(2) Jika ketika melakukan pelanggaran belum lewat satu tahun sejak adanya \\npemidanaan yang menjadi tetap karena pelanggaran yang sama, atau karena hal yang \\ndirumuskan dalam pasal 536, dijatuhkan pidana kurungan paling lama dua minggu. \\nPasal 493 \\nBarang siapa secara melawan hukum di jalan umum membahayakan kebebasan bergerak \\norang lain, atau terus mendesakkan dirinya bersama dengan seorang atau lebih \\nkepada orang lain yang tidak menghendaki itu dan sudah tegas dinyatakan, atau \\nmengikuti orang lain secara mengganggu, diancam dengan pidana denda paling \\nbanyak seribu lima ratus rupiah. \\nPasal 494 \\nDiancam dengan pidana denda paling banyak tiga ratus tujuh puluh lima rupiah: \\n1. barang siapa tidak mengadakan penerangan secukupnya dan tanda-tanda menurut \\nkebiasaan pada penggalian atau menumpukkan tanah di jalan umum, yang dilakukan \\noleh atau atas perintahnya, atau pada benda yang ditaruh di situ oleh atau atas \\nperintahnya; \\n2. barang siapa tidak mengadakan tindakan seperlunya pada waktu melakukan suatu \\npekerjaan di atas atau dipinggir jalan umum untuk memberi tanda bagi yang lalu \\ndi situ, bahwa ada kemungkinan bahaya; \\n3. barang siapa menaruh atau menggantungkan sesuatu di atas suatu bangunan, \\nmelempar atau menuangkan ke luar dari situ sedemikian rupa hingga oleh karena \\nitu dapat timbul kerugian pada orang yang sedang menggunakan jalan umum; \\n4. barang siapa membiarkan di jalan umum, hewan untuk dinaiki, untuk menarik \\natau hewan muatan tanpa mengadakan tindakan penjagaan agar tidak menimbulkan \\nkerugian; \\n5. barang siapa membiarkan ternak berkeliaran di jalan umum tanpa mengadakan \\ntindakan penjagaaan, agar tidak menimbulkan kerugian; \\n6. barang siapa tanpa izin penguasa yang berwenang, menghalangi sesuatau jalanan \\nuntuk umum di darat maupun di air atau menimbulkan rintangan karena pemakaian \\nkendaraan atau kapal yang tidak semestinya. \\nPasal 495 \\n(1) Barang siapa tanpa izin kepala polisi atau pejabat yang ditunjuk untuk itu, \\ndi tempat yang dilalui orang memasang ranjau perangkap, jerat, atau perkakas \\nlain untuk menangkap atau membunuh binatang buas, diancam dengan pidana denda \\npaling banyak tiga ratus tujuh puluh lima rupiah. \\n(2) Jika ketika melakukan pelanggaran belum lewat satu tahun sesudah adanya \\npemidanaan yang menjadi tetap karena pelanggaran yang sama, pidana denda dapat \\ndiganti dengan pidana kurungan paling lama enam hari. \\nPasal 496 \\nBarang siapa tanpa izin kepala polisi atau pejabat yang ditunjuk untuk itu, \\nmembakar barang tak bergerak kepunyaan sendiri, diancam dengan pidana denda \\npaling tinggi tujuh ratus lima puluh rupiah. \\nPasal 497 \\nDiancam dengan pidana denda paling tinggi tiga ratus tujuh puluh lima rupiah: \\n1. barang siapa di jalan umum atau di pinggirnya, ataupun di tempat yang \\nsedemikian dekatnya dengan bangunan atau barang, hingga dapat timbul bahaya \\nkebakaran, menyalakan api tanpa perlu menembakkan senjata api; \\n2. barang siapa melepaskan balon angin di mana digantungkan bahan-bahan menyala. \\n\\nPasal 498 dan 499 \\nDitiadakan berdasarkan S. 32 - 143 jo. 33 - 9. \\nPasal 500 \\nBarang siapa tanpa izin kepala polisi atau pejabat yang ditunjuk untuk itu, \\nmembikin obet ledak, mata peluru atau peluru untuk senjata api, diancam dengan \\npidana kurungan paling lama sepuluh hari atau pidana denda paling banyak tujuh \\nratus lima puluh rupiah. \\nPasal 501 \\n(1) Diancam dengan pidana denda paling banyak tiga ratus tujuh puluh lima \\nrupiah: \\n1. barang siapa menjual, menawarkan, menyerahkan, membagikan atau mempunyai \\npersediaan untuk dijual atau dibagikan, barang makanan atau minuman yang dipalsu \\natau yang busuk, ataupun air susu dari ternak yang sakit atau yang dapat \\nmengganggu kesehatan; \\n2. barang siapa tanpa izin kepala polisi atau pejabat yang ditunjuk untuk itu, \\nmenjual, menawarkan, menyerahkan, membagikan daging ternak yang dipotong karena \\nsakit atau mati dengan sendirinya. \\n(2) Jika ketika melakukan pelanggaran belum lewat dua tahun setelah ada \\npemidanaan yang menjadi tetap karena pelanggaran yang sama, pidana denda dapat \\ndiganti dengan pidana kurungan paling lama enam hari. \\nPasal 502 \\n(1) Barang siapa tanpa izin penguasa yang berwenang untuk itu, memburu atau \\nmembawa senjata api ke dalam hutan negara di mana dilarang untuk itu tanpa izin, \\ndiancam dengan pidana kurungan paling lama satu bulan atau pidana denda paling \\nbanyak tiga ribu rupiah; \\n(2) Binatang yang ditangkap atau ditembak serta perkakas dan senjata yang \\ndigunakan dalam pelanggaran, dapat dirampas.\\nBab II - Pelanggaran Ketertiban Umum\\nPasal 503\\nDiancam dengan pidana kurungan paling lama tiga hari atau pidana denda paling \\nbanyak dua ratus dua puluh lima rupiah:\\n1. barang siapa membikin ingar atau riuh, sehingga ketentraman malam hari dapat \\nterganggu;\\n2. barang siapa membikin gaduh di dekat bangunan untuk menjalankan ibadat yang \\ndibolehkan atau untuk sidang pengadilan, di waktu ada ibadat atau sidang.\\nPasal 504\\n(1) Barang siapa mengemis di muka umum, diancam karena melakukan pengemisan \\ndengan pidana kurungan paling lama enam minggu.\\n(2) Pengemisan yang dilakukan oleh tiga orang atau lebih, yang berumur di atas \\nenam belas tahun, diancam dengan pidana kurungan paling lama tiga bulan.\\nPasal 505 (1) Barang siapa bergelandangan tanpa pencarian, diancam karena \\nmelakukan pergelandangan dengan pidana kurungan paling lama tiga bulan.\\n(2) Pergelandangan yang dilakukan oleh tiga orang atau lebih, yang berumur di \\natas enam belas tahun diancam dengan pidana kurungan paling lama enam bulan.\\nPasal 506\\nBarang siapa menarik keuntungan dari perbuatan cabul seorang wanita dan \\nmenjadikannya sebagai pencarian, diancam dengan pidana kurungan paling lama satu \\ntahun.\\nPasal 507\\nDiancam dengan pidana denda paling banyak dua ribu dua ratus lima puluh rupiah:\\n1. barang siapa tanpa wenang memakai suatu gelar ningrat, atau suatu tanda \\nkehormatan Indonesia;\\n2. barang siapa tanpa izin Presiden, manakala itu diperlukan, menerima suatu \\ntanda kehormatan, gelar, pangkat atau derajat asing;\\n3. barang siapa ketika ditanya oleh penguasa yang berwenang tentang namanya, \\nmemberi nama yang palsu.\\nPasal 508\\nBarang siapa tanpa wenang memakai dengan sedikit penyimpangan suatu nama atau \\ntanda jasa yang pemakaiannya menurut ketentuan undang-undang, semata-mata untuk \\nsuatu perkumpulan atau personal perkumpulan, atau personal dinas kesehatan \\ntentara, diancam dengan pidana kurungan paling lama satu bulan atau pidana denda \\npaling banyak empat ribu lima ratus rupiah.\\nPasal 508 bis\\nBarang siapa di muka umum tanpa wenang memakai pakaian yang menyamai pakaian \\njabatan yang ditetapkan untuk pegawai negeri atau pejabat yang bekerja pada \\nnegara, pada suatu provinsi, pada suatu daerah yang berdiri sendiri yang diakui \\natau yang diatur dengan undang-undang sehingga patut ia dapat dipandang orang \\nsebagai pegawai atau pejabat itu, diancam dengan pidana kurungan paling lama \\nsatu bulan atau pidana denda paling banyak empat ribu lima ratus rupiah.\\nPasal 509\\nBarang siapa tanpa izin meminjamkan uang atau barang dengan gadai, atau dalam \\nbentuk jual-beli dengan boleh dibeli kembali ataupun dalam bentuk kontrak \\nkomisi, yang nilainya tidak lebih dari seratus rupiah, diancam dengan pidana \\nkurungan paling lama tiga bulan, atau pidana denda paling banyak lima belas ribu \\nrupiah.\\nPasal 510\\n(1) Diancam dengan pidana denda paling banyak tiga ratus tujuh puluh lima \\nrupiah, barang siapa tanpa izin kepala polisi atau pejabat lain yang ditunjuk \\nuntuk itu:\\n1. mengadakan pesta lain yang ditunjuk untuk itu:\\n2. mengadakan arak-arakan di jalan umum.\\n(2) Jika arak-arakan diadakan untuk menyatakan keinginan-keinginan secara \\nmenakjubkan, yang bersalah diancam dengan pidana kurungan paling lama dua minggu \\natau pidana denda dua ribu dua ratus lima puluh rupiah.\\nPasal 511\\nBarang siapa di waktu ada pesta arak-arakan, dan sebagainya, tidak menaati \\nperintah dan petunjuk yang diadakan oleh polisi untuk mencegah kecelakaan oleh \\nkemacetan lalu lintas di jalan umum, diancam dengan pidana denda paling banyak \\ntiga ratus tujuh puluh lima rupiah.\\nPasal 512\\n(1) Barang siapa tidak diwenangkan melakukan pencarian yang menurut \\naturan-aturan umum harus diberi kewenangan untuk itu, melakukannya tanpa \\nkeharusan, diancam dengan pidana denda paling banyak empat ribu lima ratus \\nrupiah.\\n(2) Barang siapa diwenangkan melakukan pencarian yang menurut aturan-aturan umum \\nharus diberi kewenangan untuk itu, dalam melakukan pencarian tersebut tanpa \\nkeharusan melampaui batas kewenangannya, diancam dengan pidana denda paling \\nbanyak tujuh ratus lima puluh rupiah.\\n(3) Jika ketika melakukan pelanggaran belum lewat dua tahun sejak adanya \\npemidanaan yang menjadi tetap karena pelanggaran yang sama, maka dalam hal ayat \\npertama, pidana denda dapat diganti dengan pidana kurungan paling lama dua \\nbulan, dan dalam hal ayat kedua, paling lama satu bulan.\\nPasal 512a\\nBarang siapa sebagai mata pencarian, baik khusus maupun sebagai sambilan \\nmenjalankan pekerjaan dokter atau dokter gigi dengan tidak mempunyai surat izin, \\ndi dalam keadaan yang tidak memaksa, diancam dengan pidana kurungan paling lama \\ndua bulan atau pidana denda setinggi-tingginya seratus lima puluh ribu rupiah.\\nPasal 513\\nBarang siapa menggunakan atau membolehkan digunakan barang orang lain yang ada \\npadanya karena ada hubungan kerja atau karena pencariannya, untuk pemakaian yang \\ntidak diizinkan oleh pemiliknya, diancam dengan pidana kurungan paling lama enam \\nhari atau pidana denda paling banyak tiga ratus tujuh puluh lima rupiah.\\nPasal 514\\nSeorang pekerja harian, pembawa bungkusan, pesuruh, pemikul atau kuli, yang \\ndalam menjalankan pencariannya melakukan kelalaian atau kekurangan dalam \\npengembalian perkakas yang diterima untuk dipakai, atau dalam penyampaian barang \\nyang diterima untuk diangkut, diancam dengan pidana kurungan paling lama enam \\nhari, atau pidana denda paling banyak tiga ratus tujuh puluh lima rupiah.\\nPasal 515\\n(1) Diamcam denga pidana kurungan paling lama enam hari, atau pidana denda \\npaling banyak tujuh ratus lima puluh rupiah;\\n1. barang siapa pindah kediaman dari bagian kota, desa atau kampung di mana dia \\nmenetap, tanpa memberitahukan sebelumnya kepada penguasa yang berwenang dengan \\nmenyebut tempat menetap yang baru;\\n2. barang siapa setelah menetap di bagian kota, desa atau kampung, tidak \\nmemberitahukan hal itu kepada penguasa yang berwenang dalam tenggang waktu empat \\nbelas hari, dengan menyebut nama, pencarian dan tempat asalnya.\\n(2) Ketentuan dalam ayat pertama tidak berlaku bagi orang yang pindah tempat \\nkediaman dan menetap, yang masih di dalam satu kota.\\nPasal 516\\n(1) Barang siapa menjadikan sebagai pencarian untuk memberi tempat bermalam \\nkepada orang lain, dan tidak mempunyai register terus-menerus, atau tidak \\nmencatat atau menyuruh catat nama, pencarian atau pekerjaan, tempat kediaman, \\nhari datang dan perginya orang yang bermalam di situ, atau atas permintaan \\nkepala polisi atau pejabat yang ditunjuk untuk itu, tidak memperlihatkan \\nregister itu, diancam dengan pidana denda paling banyak tiga ratus tujuh puluh \\nlima rupiah.\\n(2) Jika ketika melakukan pelanggaran belum lewat dua tahun sejak adanya \\npemidanaan yang menjadi tetap karena pelanggaran yang sama, pidana denda dapat \\ndiganti dengan pidana kurungan paling lama enam hari.\\nPasal 517\\n(1) Diancam dengan pidana kurungan paling lama satu bulan atau pidana denda \\npaling banyak dua ribu dua ratus lima puluh rupiah:\\n1. barang siapa membeli, menukar, menerima untuk ibadah, gadai, pakai atau \\nsimpan dari seorang tentara di bawah pangkat perwira; atau menjualkan, \\nmenggadaikan, meminjamkan atau menyimpankan barang tersebut untuk seorang \\ntentara di bawah pangkat perwira, yang diberikan tanpa izin dari atau nama \\nperwira.\\n2. barang siapa menjadikan kebiasaan atau pencarian untuk membeli barang-barang \\nyang demikian, tidak menaati peraturan mengenai pencatatan dalam register yang \\nditentukan dalam aturan-aturan umum.\\n(2) Jika ketika melakukan pelanggaran belum lewat dua tahun sejak adanya \\npemidanaan yang menjadi tetap karena pelanggaran yang sama, pidananya dapat \\ndilipatkan dua kali.\\nPasal 518\\nBarang siapa tanpa wenang memberi pada atau menerima dari seorang terpidana \\nsesuatu barang, diancam dengan pidana kurungan paling lama enam hari atau pidana \\ndenda paling banyak tiga ratus tujuh puluh lima rupiah.\\nPasal 519\\n(1) Barang siapa membikin, menjual, menyiarkan atau mempunyai persediaan untuk \\ndijual atau disiarkan, ataupun memasukannya ke Indonesia, barang cetakan, \\npotongan logam atau benda-benda lain yang bentuknya menyerupai uang kertas, mata \\nuang, benda- benda emas atau perak dengan merek negara, atau perangko pos, \\ndiancam dengan pidana denda paling banyak empat ribu lima ratus rupiah.\\n(2) Benda-benda yang merupakan pelanggaran dapt dirampas.\\nPasal 519 bis\\nDiancam dengan pidana kurungan paling lama tiga bulan, atau pidana denda paling \\nbanyak lima belas ribu rupiah:\\n1. barang siapa mengumumkan isi apa yang ditangkap lewat pesawat penerima radio \\nyang dipakai olehnya atau yang ada di bawah pengurusannya, yang sepatutnya harus \\ndiduganya bahwa itu tidak untuk dia atau untuk diumumkan, maupun \\nmemberitahukannya kepada orang lain, jika sepatutnya harus diduganya bahwa itu \\nakan diumumkan dan memang lalu disusul dengan pengumuman;\\n2. barang siapa mengumumkan berita yang ditangkap lewat pesawat penerima radio, \\njika ia sendiri, maupun orang dari mana berita itu diterimanya, tidak berwenang \\nuntuk itu. \\nPasal 520\\nDiancam dengan pidana kurungan paling lama tiga bulan:\\n1. barang siapa yang setelah mendapat pengunduran pembayaran hutang dengan \\nkehendak sendiri melakukan perbuatan-perbuatan, untuk mana menurut aturan-aturan \\numum, diharuskan adanya kerjasama dengan pengurua;\\n2. seorang pengurus atau komisaris perseroan, maskapai, perkumpulan atau \\nyayasan, yang setelah mendapat pengunduran bayar hutang, dengan kehendak sendiri \\nmelakukan perbuatan-perbuatan untuk mana menurut aturan-aturan umum, diharuskan \\nadanya kerjasama dengan pengurus.\\nBab III - Pelanggaran Terhadap Penguasa Umum\\nPasal 521\\nBarang siapa melanggar ketentuan peraturan penguasa umum yang telah diumumkan \\nmengenai pemakaian dan pembagian air dari perlengkapan air atau bangunan \\npengairan guna keperluan umum, diancam dengan pidana kurungan paling lama dua \\nbelas hari, atau pidana denda paling banyak sembilan ratus rupiah.\\nPasal 522\\nBarang siapa menurut undang-undang dipanggil sebagai saksi, ahli atau juru \\nbahasa, tidak datang secara melawan hukum, diancam dengan pidana denda paling \\nbanyak sembilan ratus rupiah.\\nPasal 523\\nBarang siapa tanpa alasan yang sah membiarkan tidak dikerjakannya pekerjaan \\nrodi, pekerjaan desa atau pekerjaan perusahaan kebun negara, diancam dengan \\npidana kurungan paling tinggi tiga hari atau pidana denda paling tinggi sepuluh \\nrupiah.\\nJika ketika melakukan pelanggaran belum lewat enam bulan sejak adanya pemidanaan \\nyang menjadi tetap karena pelanggaran yang sama, dapat diancam dengan pidana \\nkurungan paling tinggi tiga bulan.\\nPasal 524\\nDiancam dengan pidana paling banyak sembilan ratus rupiah:\\n1. barangsiapa dalam perkara mengenai orang yang belum dewasa, atau orang yang \\nsudah tahu akan di bawah pengampuan, atau orang yang akan atau sudah dimasukkan \\ndalam rumah sakit jiwa, dipanggil untuk didengar selaku keluarga sedarah atau \\nsemenda, selaku suami/istri, wali atau wali pengawas oleh hakim atau atas \\nperintahnya oleh kepala polisi, tidak datang sendiri maupun dengan perantaraan \\nkuasanya jika itu dibolehkan, tanpa alasan yang dapat diterima;\\n2. barang siapa dalam perkara mengenai orang yang belum dewasa atau orang yang \\nsudah atau akan di bawah pengampuan, dipanggil untuk didengar oleh kantor \\npeninggalan harta atau atas permintaannya oleh kepala polisi, tidak datang \\nsendiri maupun dengan perantaraan kuasanya jika itu dibolehkan, tanpa alasan \\nyang dapat diterima;\\n3. barang siapa dalam perkara mengenai orang yang belum dewasa dipanggil untuk \\ndidengar oleh majelis perwalian atau atas permintaannya oleh kepala polisi, \\ntidak datang sendiri atau dengan perantaraan kuasanya, tanpa alasan yang dapat \\nditerima.\\nPasal 525\\n(1) Barang siapa ketika ada bahaya umum bagi orang atau barang, atau ketika ada \\nkejahatan tertangkap tangan diminta pertolongannya oleh penguasa umum tetapi \\nmenolaknya, padahal mampu untuk memberi pertolongan tersebut tanpa menempatkan \\ndiri langsung dalam keadaan yang membahayakan, diancam dengan pidana denda \\npaling banyak tiga ratus tujuh puluh lima rupiah;\\n(2) Ketentuan ini tidak berlaku bagi mereka yang menolak memberi pertolongan \\nkarena ingin menghindari atau menghalaukan bahaya penuntutan bagi salah seorang \\nkeluarganya sedarah atau semenda dalam garis lurus atau menyimpang, sampai \\nderajat kedua atau ketiga, atau bagi suami (istri) atau bekas suaminya \\n(istrinya).\\nPasal 526\\nBarang siapa menyobek, membikin tak terbaca atau merusak suatu pemberitahuan di \\nmuka umum dari pihak penguasa yang wenang atau karena ketentuan undang-undang, \\ndiancam dengan pidana denda paling banyak dua ratus dua puluh lima rupiah.\\nPasal 527\\nDitiadakan berdasarkan L.N. 1955 - 28.\\nPasal 528\\n(1) Diancam dengan pidana kurungan paling lama dua bulan atau pidana denda \\npaling banyak empat ribu lima ratus rupiah, barang siapa tanpa izin penguasa \\nyang berwenang:\\n1. membikin salinan atau petikan dari surat-surat jabatan negara dan \\nalat-alatnya, yang dengan perintah penguasa umum harus dirahasiakan;\\n2. mengumumkan seluruh atau sebagaian surat-surat tersebut dalam butir 1;\\n3. mengumumkan hal-hal yang termakstub dalam surat-surat tersebut dalam butir 1, \\npadahal sewajarnya dapat diduga bahwa hal-hal itu harus dirahasiakan.\\n(2) Perbuatan itu tidak dipidana, jika perintah merahasiakan jelas diberikan \\nkarena alasan lain daripada kepentingan dinas atau umum.\\nBab IV - Pelanggaran Mengenai Asal-Usul Dan Perkawinan \\nPasal 529 \\nBarang siapa tidak memenuhi kewajibannya menurut undang-undang untuk melaporkan \\npada pejabat Catatan Sipil atau perantaranya tentang kelahiran dan kematian, \\ndiancam dengan pidana denda paling banyak seribu lima ratus rupiah. \\nPasal 530 \\n(1) Seorang petugas agama yang melakukan upacara perkawinan, yang hanya dapat \\ndilangsungkan di hadapan pejabat Catatan Sipil, sebelum dinyatakan padanya bahwa \\npelangsungan di muka pejabat itu sudah dilakukan, diancam dengan pidana denda \\npaling banyak empat ribu lima ratus rupiah. \\n(2) Jika ketika melakukan pelanggaran belum lewat dua tahun sejak adanya \\npemidanaan yang menjadi tetap karena pelanggaran sama, pidana denda dapat \\ndiganti dengan pidana kurungan paling lama dua bulan.\\nBab V\\nPelanggaran Terhadap Orang Yang Memerlukan Pertolongan \\nPasal 531\\nBarang siapa ketika menyaksikan bahwa ada orang yang sedang menghadapi maut \\ntidak memberi pertolongan yang dapat diberikan padanya tanpa selayaknya \\nmenimbulkan bahaya bagi dirinya atau orang lain, diancam, jika kemudian orang \\nitu meninggal, dengan pidana kurungan paling lama tiga bulan atau pidana denda \\npaling banyak empat ribu lima ratus rupiah.\\nBab VI - Pelanggaran Kesusilaan \\nPasal 532 \\nDiancam dengan pidana kurungan paling lama tiga hari atau pidana denda paling \\nbanyak dua ratus dua puluh lima rupiah: \\n1. barang siapa di muka umum menyanyikan lagu-lagu yang melanggar kesusilaan; \\n2. barang siapa di muka umum mengadakan pidato yang melanggar kesusilaan; \\n3. barang siapa di tempat yang terlihat dari jalan umum mengadakan tulisan atau \\ngambaran yang melanggar kesusilaan. \\nPasal 533 \\nDiancam dengan pidana kurungan paling lama dua bulan atau pidana denda paling \\nbanyak tiga ribu rupiah: \\n1. barang siapa di tempat untuk lalu lintas umum dengan terang-terangan \\nmempertunjukkan atau menempelkan tulisan dengan judul, kulit, atau isi yang \\ndibikin terbaca, maupun gambar atau benda, yang mampu membangkitkan nafsu birahi \\npara remaja; \\n2. barang siapa di tempat untuk lalu lintas umum dengan terang-terangan \\nmemperdengarkan isi tulisan yang mampu membangkitkan nafsu birahi para remaja; \\n3. barang siapa secara terang-terangan atau tanpa diminta menawarkan suatu \\ntulisan, gambar atau barang yang dapat merangsang nafsu berahi para remaja \\nmaupun secara terang-terangan atau dengan menyiarkan tulisan tanpa diminta, \\nmenunjuk sebagai bisa didapat, tulisan atau gambar yang dapat membangkitkan \\nnafsu berahi para remaja; \\n4. barang siapa menawarkan, memberikan untuk terus atau sementara waktu, \\nmenyerahkan atau memperlihatkan gambar atau benda yang demikian, pada seorang \\nbelum dewasa dan di bawah umur tujuh belas tahun; \\n5. barang siapa memperdengarkan isi tulisan yang demikian di muka seorang yang \\nbelum dewasa dan dibawah umur tujuh belas tahun. \\nPasal 534 \\nBarang siapa secara terang-terangan mempertunjukkan sesuatu sarana untuk \\nmencegah kehamilan maupun secara terang-terangan atau tanpa diminta menawarkan, \\nataupun secara terang-terangan atau dengan menyiarkan tulisan tanpa diminta, \\nmenunjuk sebagai bisa didapat, sarana atau perantaraan (diensten) yang demikian \\nitu, diancam dengan pidana kurungan paling lama dua bulan atau pidana denda \\npaling banyak tiga ribu rupiah. \\nPasal 536 \\n(1) Barang siapa terang dalam keadaan mabuk berada di jalan umum, diancam dengan \\npidana denda paling banyak dua ratus dua puluh lima rupiah. \\n(2) Jika ketika melakukan pelanggaran belum lewat satu tahun sejak adanya \\npemidanaan yang menjadi tetap karena pelanggaran yang sama atau yang dirumuskan \\ndalam pasal 492, pidana denda dapat diganti dengan pidana kurungan paling lama \\ntiga hari. \\n(3) Jika terjadi pengulangan kedua dalam satu tahun setelah pemidanaan pertama \\nberakhir dan menjadi tetap, dikenakan pidana kurungan paling lama dua minggu. \\n(4) Pada pengulangan ketiga kalinya atau lebih dalam satu tahun, setelah \\npemidanaan yang kemudian sekali karena pengulangan kedua kalinya atau lebih \\nmenjadi tetap, dikenakan pidana kurungan paling lama tiga bulan. \\nPasal 537 \\nBarang siapa di luar kantin tentara menjual atau memberikan minuman keras atau \\narak kepada anggota Angkatan Bersenjata di bawah pangkat letnan atau kepada \\nistrinya, anak atau pelayan, diancam dengan pidana kurungan paling lama tiga \\nminggu atau pidana denda paling tinggi seribu lima ratus rupiah. \\nPasal 538 \\nPenjual atau wakilnya yang menjual minuman keras yang dalam menjalankan \\npekerjaan memberikan atau menjual minuman keras atau arak kepada seorang anak di \\nbawah umur enam belas tahun, diancam dengan pidana kurungan paling lama tiga \\nminggu atau pidana denda paling tinggi empat ribu lima ratus rupiah. \\nPasal 539 \\nBarang siapa pada kesempatan diadakan pesta keramaian untuk umum atau \\npertunjukkan rakyat atau diselenggarakan arak-arakan untuk umum, menyediakan \\nsecara cuma-cuma minuman keras atau arak dan atau menjanjikan sebagai hadiah, \\ndiancam dengan pidana kurungan paling lama dua belas hari atau pidana denda \\npaling tinggi tiga ratus tujuh puluh lima rupiah. \\nPasal 540 \\n(1) Diancam dengan pidana kurungan paling lama delapan hari atau pidana denda \\npaling banyak dua ribu dua ratus lima puluh rupiah:\\n1. barang siapa menggunakan hewan untuk pekerjaan yang terang melebihi \\nkekuatannya; \\n2. barang siapa tanpa perlu menggunakan hewan untuk pekerjaan dengan cara yang \\nmenyakitkan atau yang merupakan siksaan bagi hewan tersebut; \\n3. barang siapa menggunakan hewan yang pincang atau yang mempunyai cacat \\nlainnya, yang kudisan, luka-luka atau yang jelas sedang hamil maupun sedang \\nmenyusui untuk pekerjaan yang karena keadaannya itu tidak sesuai atau yang \\nmenyakitkan maupun yang merupakan siksaan bagi hewan tersebut; \\n4. barang siapa mengangkut atau menyuruh mengangkut hewan tanpa perlu dengan \\ncara yang menyakitkan atau yang merupakan siksaan bagi hewan tersebut; \\n5. barang siapa mengangkut atau menyuruh mengangkut hewan tanpa diberi atau \\ndisuruh beri makan atau minum. \\n(2) Jika ketika melakukan pelanggaran belum lewat satu tahun setelah ada \\npemidanaan yang menjadi tetap karena pelanggaran yang sama karena salah satu \\npelanggaran pada pasal 302, dapat dikenakan pidana kurungan paling lama empat \\nbelas hari. \\nPasal 541 \\n(1) Diancam dengan pidana denda paling banyak dua ratus dua puluh lima rupiah; \\n1. barang siap menggunakan sebagai kuda beban, tunggangan atau kuda penarik \\nkereta padahal kuda tersebut belum tukar gigi atau kedua gigi dalamnya di rahang \\natas belum menganggit kedua gigi dalamnya di rahang bawah; \\n2. barang siapa memasangkan pakaian kuda pada kuda tersebut dalam butir 1 atau \\nmengikat maupun memasang kuda itu pada kendaraan atau kuda tarikan; \\n3. barang siapa menggunakan sebagai kuda beban, tunggangan atau penarik kereta \\nseekor kuda induk, dengan membiarkan anaknya yang belum tumbuh keenam gigi \\nmukanya, mengikutinya. \\n(2) Jika ketika melakukan pelanggaran belum lewat satu tahun setelah ada \\npemidanaan yang menjadi tetap karena pelanggaran yang sama atau yang berdasarkan \\npasal 540, ataupun karena kejahatan berdasarkan pasal 302, pidana denda dapat \\ndiganti dengan pidana kurungan paling lama tiga hari. \\nPasal 542 \\nDitiadakan berdasarkan Undang-undang No. 7 Tahun 1974. \\nPasal 543 \\nDitiadakan berdasarkan S.23 - 277, 352. \\nPasal 544 \\n(1) Barang siapa tanpa izin kepala polisi atau pejabat yang ditunjuk untuk itu \\nmengadakan sabungan ayam atau jangkrik di jalan umum atau di pinggirnya, maupun \\ndi tempat yang dapat dimasuki oleh khalayak umum, diancam dengan pidana kurungan \\npaling lama enam hari atau pidana denda paling banyak tiga ratus tujuh puluh \\nlima rupiah. \\n(2) Jika ketika melakukan pelanggaran belum lewat satu tahun sejak adanya \\npemidanaan yang menjadi tetap karena pelanggaran yang sama, pidananya dapat \\ndilipatduakan. \\nPasal 545 \\n(1) Barang siapa menjadikan sebagai pencariannya untuk menyatakan peruntungan \\nseseorang, untuk mengadakan peramalan atau penafsiran impian, diancam dengan \\npidana kurungan paling lama enam hari atau pidana denda paling banyak tiga ratus \\nrupiah. \\n(2) Jika ketika melakukan pelanggaran belum lewat satu tahun sejak adanya \\npemidanaan yang menjadi tetap karena pelanggaran yang sama, pidananya dapat \\ndilipatduakan. \\nPasal 546 \\nDiancam dengan pidana kurungan paling lama tiga bulan atau pidana denda paling \\nbanyak empat ribu lima ratus rupiah: \\n1. Diancam dengan pidana kurungan paling lama tiga bulan atau pidana denda \\npaling banyak empat ribu lima ratus rupiah: \\n2. barang siapa menjual, menawarkan, menyerahkan, membagikan atau mempunyai \\npersediaan untuk dijual atau dibagikan jimat-jimat atau benda-benda yang \\ndikatakan olehnya mempunyai kekuatan gaib; \\n3. barang siapa mengajar ilmu-ilmu atau kesaktian-kesaktian yang bertujuan \\nmenimbulkan kepercayaan bahwa melakukan perbuatan pidana tanpa kemungkinan \\nbahaya bagi diri sendiri. \\nPasal 547 \\nSeorang saksi, yang ketika diminta untuk memberi keterangan di bawah sumpah \\nmenurut ketentuan undang-undang, dalam sidang pengadilan memakai jimat-jimat \\natau benda- benda sakti, diancam dengan pidana kurungan paling lama sepuluh hari \\natau pidana denda paling banyak tujuh ratus lima puluh rupiah. \\nBab VII\\nPelanggaran Mengenai Tanah, Tanaman Dan Pekarangan \\nPasal 548 \\nBarang siapa tanpa wenang membiarkan unggas ternaknya berjalan di kebun, di \\ntanah yang sudah ditaburi, ditugali atau ditanami, diancam dengan pidana denda \\npaling banyak dua ratus dua puluh lima rupiah. \\nPasal 549 \\n(1) Barang siapa tanpa wenang membiarkan ternaknya berjalan di kebun, di padang \\nrumput atau di ladang rumput atau di padang rumput kering, baik di tanah yang \\ntelah ditaburi, ditugali atau ditanami atau yang hasilnya belum diambil, ataupun \\ndi tanah kepunyaan orang lain oleh yang berhak dilarang dimasuki dan sudah \\ndiberi tanda larangan yang nyata bagi pelanggar, diancam dengan pidana denda \\npaling banyak tiga ratus tujuh puluh lima rupiah. \\n(2) Ternak yang menyebabkan pelanggaran, dapat dirampas. \\n(3) Jika ketika melakukan pelanggaran belum lewat satu tahun sejak adanya \\npemidanaan yang menjadi tetap karena pelanggaran yang sama, pidana denda dapat \\ndiganti dengan pidana kurungan paling lama empat belas hari. \\nPasal 550 \\nBarang siapa tanpa wenang berjalan atau berkendaraan di tanah yang sudah \\nditaburi, ditugali atau ditanami, diancam dengan pidana denda paling banyak dua \\nratus dua puluh lima rupiah. \\nPasal 551 \\nBarang siapa tanpa wenang, berjalan atau berkendaraan di atas tanah yang oleh \\npemiliknya dengan cara jelas dilarang memasukinya, diancam dengan pidana denda \\npaling banyak dua ratus dua puluh lima rupiah.\\nBab VIII - Pelanggaran Jabatan\\nPasal 552\\nSeorang pejabat yang berwenang mengeluarkan salinan atau petikan putusan \\npengadilan, jika mengeluarkan salinan atau petikan demikian itu sebelum putusan \\nditandatangani sebagaimana mestinya, diancam dengan pidana denda paling banyak \\ntujuh ratus lima puluh rupiah.\\nPasal 553\\nDitiadakan berdasarkan S. 35 - 576; lihat pasal 528.\\nPasal 554\\nDiancam dengan pidana kurungan paling lama dua bulan atau pidana denda paling \\nbanyak empat ribu lima ratus rupiah, seorang bekas pejabat yang tanpa izin \\npenguasa yang berwenang menahan surat-surat jabatan.\\nPasal 555\\nDiancam dengan pidana kurungan paling lama satu bulan atau pidana denda paling \\nbanyak dua ribu dua ratus lima puluh rupiah kepala lembaga pemasyarakatan, \\ntempat menahan orang tahanan sementara atau orang yang disandera, atau kepala \\nrumah pendidikan negara atau rumah sakit jiwa, yang menerima atau menahan orang \\ndalam tempat itu dengan tidak meminta diperlihatkan kepadanya lebih dahulu surat \\nperintah penguasa yang berwenang, atau putusan pengadilan, atau yang alpa \\nmenuliskan menurut aturan dalam daftar hal penerimaan itu dan perintah atau \\nkeputusan yang menjadi alasan orang itu diterima.\\nPasal 556\\nSeorang pejabat catatan sipil yang sebelum melangsungkan perkawinan tidak minta \\ndiberikan padanya bukti-bukti atau keterangan-keterangan yang diharuskan menurut \\naturan-aturan umum, diancam dengan pidana denda paling banyak empat ribu lima \\nratus rupiah.\\nPasal 557\\nDiancam dengan pidana denda paling banyak seribu lima ratus rupiah:\\n1. seorang pejabat catatan sipil yang bertindak berlawanan dengan ketentuan \\naturan- aturan umum mengenai register atau akta catatan sipil, mengenai tata \\ncara sebelumnya perkawinan atau pelaksanaan perkawinan;\\n2. setiap orang lain penyimpan register itu yang bertindak berlawanan dengan \\nketentuan aturan-aturan umum mengenai regiter dan akta catatan sipil.\\nPasal 557a\\nSeorang perantara catatan sipil yang bertindak berlawanan dengan ketentuan \\nreglemen pemeliharaan register catatan sipil orang-orang Cina diancam dengan \\ndenda paling banyak tujuh ratus lima puluh rupiah.\\nPasal 558\\nSeorang pejabat catatan sipil yang tidak memasukkan suatu akta dalam register \\natau menuliskan suatu akta di atas kertas lepas, diancam dengan pidana denda \\npaling banyak empat ribu lima ratus rupiah.\\nPasal 558a\\nSeorang perantara catatan sipil yang tidak membikin akta daripada suatu \\npemberitahuan kepadanya menurut ketentuan tentang pemeliharaan register catatan \\nsipil bagi orang- orang Cina, atau menuliskan suatu akta di kertas lepas, \\ndiancam dengan pidana denda paling banyak dua ribu dua ratus lima puluh rupiah.\\nPasal 559\\nDiancam dengan pidana denda paling banyak seribu lima ratus rupiah:\\n1. seorang pejabat catatan sipil yang tidak melaporkan kepada penguasa yang \\nberwenang sebagaimana diharuskan oleh ketentuan undang-undang;\\n2. seorang pejabat yang tidak melaporkan kepada pejabat catatan sipil, \\nsebagaimana diharuskan oleh ketentuan undang-undang.\\nBab IX - Pelanggaran Pelayaran \\nPasal 560\\nSeorang nakoda kapal Indonesia yang berangkat sebelum dibikin dan ditandatangani \\ndaftar anak buah yang diharuskan oleh ketentuan undang-undang, diancam dengan \\npidana denda paling banyak seribu lima ratus rupiah.\\nPasal 561\\nSeorang nakoda kapal Indonesia yang tidak mempunyai di kapalnya kertas-kertas \\nkapal, buku-buku dan surat-surat yang diharuskan oleh ketentuan undang-undang, \\ndiancam dengan pidana denda paling banyak seribu lima ratus rupiah.\\nPasal 562\\nDiancam dengan pidana denda paling banyak empat ribu lima ratus rupiah:\\n1. seorang nakoda kapal Indonesia yang tidak menjaga supaya buku-buku harian di \\nkapal dipelihara menurut aturan-aturan umum, atau tidak memperlihatkan buku-buku \\nharian itu di mana dan apabila menurut ketentuan undang-undang itu diharuskan \\npadanya;\\n2. seorang nakoda kapal Indonesia yang tidak memelihara register pidana yang \\ndiharuskan oleh aturan-aturan umum menurut ketentuan undang-undang, atau tidak \\nmemperlihatkannya di mana dan apabila menurut ketentuan undang-undang itu \\ndiharuskan padanya;\\n3. seorang nakoda kapal Indonesia yang jika register pidana tidak ada, tidak \\nmemberi keterangan kepada hakim sebagaimana diharuskan menurut ketentuan \\nundang-undang;\\n4. seorang pengusaha pelayaran, pemegang buku atau nakoda kapal Indonesia yang \\nmenolak permintaan untuk memperlihatkan kepada yang berkepentingan buku-buku \\nharian yang dipelihara di kapalnya, atau menolak untuk memberi salinan dari \\nbuku-buku itu, dengan membayar biayanya.\\nPasal 563\\nSeorang nakoda kapal Indonesia yang tidak mencukupi kewajibannya menurut undang- \\nundang mengenai pencatatan dan pemberitahuan kelahiran dan kematian selama \\nperjalanannya, diancam dengan pidana denda paling banyak seribu lima ratus \\nrupiah.\\nPasal 564\\nSeorang nakoda atau anak buah yang tidak memperhatikan ketentuan undang-undang \\nuntuk mencegah tabrakan disebabkan karena kapalnya melanggar atau terdampar, \\ndiancam dengan pidana denda paling banyak empat ribu lima ratus rupiah.\\nPasal 565\\nBarang siapa tanpa wewenang menggunakan suatu tanda pengenal walaupun dengan \\nsedikit perubahan, menurut ketentuan undang-undang yang hanya boleh dipakai oleh \\nkapal-kapal rumah sakit, sekoci-sekoci kapal-kapal yang demikian, maupun perahu- \\nperahu yang digunakan untuk pekerjaan merawat orang sakit, diancam dengan pidana \\nkurungan paling lama satu bulan atau pidana denda paling banyak empat ribu lima \\nratus rupiah.\\nPasal 566\\nSeorang nakoda kapal Indonesia yang tidak memenuhi kewajiban yang dibebankan \\npadanya menurut pasal 358a Kitab Undang-undang Hukum Dagang, diancam dengan \\npidana kurungan paling lama tiga bulan atau pidana denda paling banyak emapt \\nribu lima ratus rupiah.\\nPasal 567\\nSeorang penguasa pelabuhan atau nakoda kapal Indonesia yang menggunakan untuk \\npekerjaan anak buah orang-orang yang tidak mengadakan perjanjian kerja \\nebagaimana dimaksud pasal 395 Kitab Undang-undang Hukum Dagang atau yang tidak \\nmenjalankan perusahaan di kapal atas biaya sendiri, ataupun menggunakan \\norang-orang yang namanya tidak ada dalam daftar anak buah, dalam hal ini \\ndiharuskan oleh aturan-aturan umum, diancam dengan pidana denda paling banyak \\nsembilan ratus rupiah untuk tiap-tiap orang yang bekerja demikian.\\nPasal 568\\nBarang siapa menandatangani konosemen yang dikeluarkan dengan melanggar \\nketentuan pasal 517b Kitab Undang-undang Hukum Dagang, begitu pula orang untuk \\nsiapa dibutuhkan tanda tangan sesuai dengan kewenangannya, diancam jika \\nkonosemen lalu dikeluarkan, dengan pidana denda paling banyak tujuh puluh lima \\nribu rupiah.\\nPasal 569\\n(1) Barang siapa menandatangani surat jalan yang dikeluarkan dengan melanggar \\nketentuan pasal 533b Kitab Undang-undang Hukum Dagang, begitu pula orang untuk \\nsiapa dibutuhkan tandatangan sesuai dengan kewenangannya, diancam, jika surat \\nlalu dikeluarkan, dengan pidana denda paling banyak tujuh puluh lima ribu \\nrupiah.\\n(2) Diancam dengan pidana yang sama, barang siapa bertentangan dengan pasal 533b \\nKitab Undang-undang Hukum dagang, memberikan surat jalan yang tidak \\nditandatangani, begitu pula orang untuk siapa surat diberikan menurut \\nkewenangannya. \\n\\n\\n'"
      ]
     },
     "execution_count": 438,
     "metadata": {},
     "output_type": "execute_result"
    }
   ],
   "source": [
    "text"
   ]
  },
  {
   "cell_type": "code",
   "execution_count": 439,
   "metadata": {},
   "outputs": [],
   "source": [
    "# Save the whole text\n",
    "file = open('data/KUHP in plain text.txt', 'w') # Write mode \n",
    "file.write(text)\n",
    "file.close() "
   ]
  },
  {
   "cell_type": "markdown",
   "metadata": {},
   "source": [
    "## Regular Expression"
   ]
  },
  {
   "cell_type": "markdown",
   "metadata": {},
   "source": [
    "**Pattern to get the BAB**  \n",
    "`Bab\\s+(XC|XL|L?X{0,3})(IX|IV|V?I{0,3})\\s+-*\\s*\\D+^`\n",
    "\n",
    "**Pattern to get the PASAL**  \n",
    "`^[A-Z]{1}asal\\s\\d+\\w*(\\s*\\n)`"
   ]
  },
  {
   "cell_type": "code",
   "execution_count": 148,
   "metadata": {},
   "outputs": [],
   "source": [
    "bab = []\n",
    "pasal = []\n",
    "isi = []"
   ]
  },
  {
   "cell_type": "code",
   "execution_count": 138,
   "metadata": {},
   "outputs": [
    {
     "data": {
      "text/plain": [
       "'Bab I - Kejahatan Terhadap Keamanan Negara'"
      ]
     },
     "execution_count": 138,
     "metadata": {},
     "output_type": "execute_result"
    }
   ],
   "source": [
    "a = 'Bab I - Kejahatan Terhadap Keamanan Negara\\n'\n",
    "b = re.match(r'Bab\\s+(XC|XL|L?X{0,3})(IX|IV|V?I{0,3})\\s+-*\\s*\\n*\\D+\\S', a)\n",
    "b.group()"
   ]
  },
  {
   "cell_type": "code",
   "execution_count": 139,
   "metadata": {
    "scrolled": true
   },
   "outputs": [
    {
     "name": "stdout",
     "output_type": "stream",
     "text": [
      "Found on line 1: Bab I - Kejahatan Terhadap Keamanan Negara\n",
      "Found on line 218: Bab II - Kejahatan-Kejahatan Terhadap Martabat Presiden Dan Wakil Presiden\n",
      "Found on line 267: Bab III - Kejahatan-Kejahatan Terhadap Negara Sahabat Dan Terhadap Kepala Negara\n",
      "Found on line 321: Bab IV - Kejahatan Terhadap Melakukan Kewajiban Dan Hak Kenegaraan\n",
      "Found on line 370: Bab V - Kejahatan Terhadap Ketertiban Umum\n",
      "Found on line 606: Bab VI - Perkelahian Tanding\n",
      "Found on line 654: Bab VII - Kejahatan Yang Membahayakan Keamanan Umum Bagi Orang Atau Barang\n",
      "Found on line 870: Bab VIII - Kejahatan Terhadap Penguasa Umum\n",
      "Found on line 1128: Bab IX - Sumpah Palsu Dan Keterangan Palsu\n",
      "Found on line 1143: Bab X - Pemalsuan Mata Uang Dan Uang Kertas\n",
      "Found on line 1199: Bab XI - Pemalsuan Materai Dan Merek\n",
      "Found on line 1307: Bab XII - Pemalsuan Surat\n",
      "Found on line 1414: Bab XIII - Kejahatan Terhadap Asal-Usul Dan Perkawinan\n",
      "Found on line 1440: Bab XIV - Kejahatan Terhadap Kesusilaan\n",
      "Found on line 1700: Bab XV - Meninggalkan Orang Yang Perlu Ditolong\n",
      "Found on line 1728: Bab XVI - Penghinaan\n",
      "Found on line 1812: Bab XVII - Membuka Rahasia\n",
      "Found on line 1826: Bab XVIII - Kejahatan Terhadap Kemerdekaan Orang\n",
      "Found on line 1937: Bab XIX - Kejahatan Terhadap Nyawa\n",
      "Found on line 2000: Bab XX - Penganiayaan\n",
      "Found on line 2054: Bab XXI - Menyebabkan Mati Atau Luka-Luka Karena Kealpaan\n",
      "Found on line 2073: Bab XXII - Pencurian\n",
      "Found on line 2137: Bab XXIII - Pemerasan Dan Pengancaman\n",
      "Found on line 2162: Bab XXIV - Penggelapan\n",
      "Found on line 2193: Bab XXV - Perbuatan Curang\n",
      "Found on line 2367: Bab XXVI - Perbuatan Merugikan Pemiutang Atau Orang Yang Mempunyai Hak\n",
      "Found on line 2487: Bab XXVIII - Kejahatan Jabatan\n",
      "Found on line 2685: Bab XXIX - Kejahatan Pelayaran\n",
      "Found on line 2964: Bab XXIX A - Kejahatan Penerbangan Dan Kejahatan Terhadap Sarana/Prasarana\n",
      "Found on line 3107: Bab XXX - Penadahan Penerbitan Dan Percetakan\n",
      "Found on line 3164: Bab I - Tentang Pelanggaran Keamanan Umum Bagi Orang Atau Barang Dan Kesehatan\n",
      "Found on line 3275: Bab II - Pelanggaran Ketertiban Umum\n",
      "Found on line 3433: Bab III - Pelanggaran Terhadap Penguasa Umum\n",
      "Found on line 3496: Bab IV - Pelanggaran Mengenai Asal-Usul Dan Perkawinan\n",
      "Found on line 3509: Bab V - Pelanggaran Terhadap Orang Yang Memerlukan Pertolongan\n",
      "Found on line 3516: Bab VI - Pelanggaran Kesusilaan\n",
      "Found on line 3648: Bab VII - Pelanggaran Mengenai Tanah, Tanaman Dan Pekarangan\n",
      "Found on line 3672: Bab VIII - Pelanggaran Jabatan\n",
      "Found on line 3724: Bab IX - Pelanggaran Pelayaran\n"
     ]
    }
   ],
   "source": [
    "for index, line in enumerate(open('data/KUHP in plain text - edited.txt')):\n",
    "    for match in re.finditer(r'Bab\\s+(XC|XL|L?X{0,3})(IX|IV|V?I{0,3})\\s+-*\\s*\\n*\\D+\\S', line):\n",
    "        print('Found on line %s: %s' % (index + 1, match.group()))"
   ]
  },
  {
   "cell_type": "code",
   "execution_count": 145,
   "metadata": {
    "scrolled": true
   },
   "outputs": [
    {
     "name": "stdout",
     "output_type": "stream",
     "text": [
      "Found on line 1: Bab I - Kejahatan Terhadap Keamanan Negara\n",
      "Found on line 218: Bab II - Kejahatan-Kejahatan Terhadap Martabat Presiden Dan Wakil Presiden\n",
      "Found on line 267: Bab III - Kejahatan-Kejahatan Terhadap Negara Sahabat Dan Terhadap Kepala Negara\n",
      "Found on line 321: Bab IV - Kejahatan Terhadap Melakukan Kewajiban Dan Hak Kenegaraan\n",
      "Found on line 370: Bab V - Kejahatan Terhadap Ketertiban Umum\n",
      "Found on line 606: Bab VI - Perkelahian Tanding\n",
      "Found on line 654: Bab VII - Kejahatan Yang Membahayakan Keamanan Umum Bagi Orang Atau Barang\n",
      "Found on line 870: Bab VIII - Kejahatan Terhadap Penguasa Umum\n",
      "Found on line 1128: Bab IX - Sumpah Palsu Dan Keterangan Palsu\n",
      "Found on line 1143: Bab X - Pemalsuan Mata Uang Dan Uang Kertas\n",
      "Found on line 1199: Bab XI - Pemalsuan Materai Dan Merek\n",
      "Found on line 1307: Bab XII - Pemalsuan Surat\n",
      "Found on line 1414: Bab XIII - Kejahatan Terhadap Asal-Usul Dan Perkawinan\n",
      "Found on line 1440: Bab XIV - Kejahatan Terhadap Kesusilaan\n",
      "Found on line 1700: Bab XV - Meninggalkan Orang Yang Perlu Ditolong\n",
      "Found on line 1728: Bab XVI - Penghinaan\n",
      "Found on line 1812: Bab XVII - Membuka Rahasia\n",
      "Found on line 1826: Bab XVIII - Kejahatan Terhadap Kemerdekaan Orang\n",
      "Found on line 1937: Bab XIX - Kejahatan Terhadap Nyawa\n",
      "Found on line 2000: Bab XX - Penganiayaan\n",
      "Found on line 2054: Bab XXI - Menyebabkan Mati Atau Luka-Luka Karena Kealpaan\n",
      "Found on line 2073: Bab XXII - Pencurian\n",
      "Found on line 2137: Bab XXIII - Pemerasan Dan Pengancaman\n",
      "Found on line 2162: Bab XXIV - Penggelapan\n",
      "Found on line 2193: Bab XXV - Perbuatan Curang\n",
      "Found on line 2367: Bab XXVI - Perbuatan Merugikan Pemiutang Atau Orang Yang Mempunyai Hak\n",
      "Found on line 2487: Bab XXVIII - Kejahatan Jabatan\n",
      "Found on line 2685: Bab XXIX - Kejahatan Pelayaran\n",
      "Found on line 2964: Bab XXIX A - Kejahatan Penerbangan Dan Kejahatan Terhadap Sarana/Prasarana\n",
      "Found on line 3107: Bab XXX - Penadahan Penerbitan Dan Percetakan\n",
      "Found on line 3164: Bab I - Tentang Pelanggaran Keamanan Umum Bagi Orang Atau Barang Dan Kesehatan\n",
      "Found on line 3275: Bab II - Pelanggaran Ketertiban Umum\n",
      "Found on line 3433: Bab III - Pelanggaran Terhadap Penguasa Umum\n",
      "Found on line 3496: Bab IV - Pelanggaran Mengenai Asal-Usul Dan Perkawinan\n",
      "Found on line 3509: Bab V - Pelanggaran Terhadap Orang Yang Memerlukan Pertolongan\n",
      "Found on line 3516: Bab VI - Pelanggaran Kesusilaan\n",
      "Found on line 3648: Bab VII - Pelanggaran Mengenai Tanah, Tanaman Dan Pekarangan\n",
      "Found on line 3672: Bab VIII - Pelanggaran Jabatan\n",
      "Found on line 3724: Bab IX - Pelanggaran Pelayaran\n"
     ]
    }
   ],
   "source": [
    "for index, line in enumerate(open('data/KUHP in plain text - edited.txt')):\n",
    "    try:\n",
    "        match = re.match(r'Bab\\s+(XC|XL|L?X{0,3})(IX|IV|V?I{0,3})\\s+-*\\s*\\n*\\D+\\S', line)\n",
    "        if match is not None:\n",
    "            print('Found on line %s: %s' % (index + 1, match.group()))\n",
    "    except:\n",
    "        pass"
   ]
  },
  {
   "cell_type": "code",
   "execution_count": 276,
   "metadata": {},
   "outputs": [
    {
     "name": "stdout",
     "output_type": "stream",
     "text": [
      "Found on line 2: Pasal 104\n",
      "Found on line 7: Pasal 105\n",
      "Found on line 10: Pasal 106\n",
      "Found on line 14: Pasal 107\n",
      "Found on line 20: Pasal 108\n",
      "Found on line 28: Pasal 109\n",
      "Found on line 30: Pasal 110\n",
      "Found on line 52: Pasal 111\n",
      "Found on line 61: Pasal 111 bis\n",
      "Found on line 82: Pasal 112\n",
      "Found on line 87: Pasal 113\n",
      "Found on line 98: Pasal 114\n",
      "Found on line 106: Pasal 115\n",
      "Found on line 115: Pasal 116\n",
      "Found on line 118: Pasal 117\n",
      "Found on line 129: Pasal 118\n",
      "Found on line 134: Pasal 119\n",
      "Found on line 145: Pasal 120\n",
      "Found on line 152: Pasal 121\n",
      "Found on line 156: Pasal 122\n",
      "Found on line 164: Pasal 123\n",
      "Found on line 169: Pasal 124\n",
      "Found on line 188: Pasal 125\n",
      "Found on line 191: Pasal 126\n",
      "Found on line 199: Pasal 127\n",
      "Found on line 205: Pasal 128\n",
      "Found on line 214: Pasal 129\n",
      "Found on line 219: Pasal 130\n",
      "Found on line 222: Pasal 131\n",
      "Found on line 226: Pasal 132\n",
      "Found on line 229: Pasal 133\n",
      "Found on line 232: Pasal 134\n",
      "Found on line 236: Pasal 135\n",
      "Found on line 239: Pasal 136\n",
      "Found on line 247: Pasal 137\n",
      "Found on line 257: Pasal 138\n",
      "Found on line 260: Pasal 139\n",
      "Found on line 269: Pasal 139a\n",
      "Found on line 273: Pasal 139b\n",
      "Found on line 277: Pasal 139c\n",
      "Found on line 281: Pasal 140\n",
      "Found on line 290: Pasal 141\n",
      "Found on line 294: Pasal 142\n",
      "Found on line 298: Pasal 142a\n",
      "Found on line 302: Pasal 144\n",
      "Found on line 313: Pasal 145\n",
      "Found on line 322: Pasal 146\n",
      "Found on line 329: Pasal 147\n",
      "Found on line 335: Pasal 148\n",
      "Found on line 340: Pasal 149\n",
      "Found on line 348: Pasal 150\n",
      "Found on line 354: Pasal 151\n",
      "Found on line 358: Pasal 152\n",
      "Found on line 365: Pasal 153\n",
      "Found on line 371: Pasal 153 bis\n",
      "Found on line 375: Pasal 154\n",
      "Found on line 379: Pasal 154a\n",
      "Found on line 383: Pasal 155\n",
      "Found on line 394: Pasal 156\n",
      "Found on line 402: Pasal 156a\n",
      "Found on line 408: Pasal 157\n",
      "Found on line 419: Pasal 158\n",
      "Found on line 425: Pasal 159\n",
      "Found on line 430: Pasal 160\n",
      "Found on line 436: Pasal 161\n",
      "Found on line 447: Pasal 161 bis\n",
      "Found on line 450: Pasal 162\n",
      "Found on line 455: Pasal 163\n",
      "Found on line 465: Pasal 163 bis\n",
      "Found on line 475: Pasal 164\n",
      "Found on line 483: Pasal 165\n",
      "Found on line 501: Pasal 166\n",
      "Found on line 508: Pasal 167\n",
      "Found on line 522: Pasal 168\n",
      "Found on line 536: Pasal 169\n",
      "Found on line 544: Pasal 170\n",
      "Found on line 555: Pasal 171\n",
      "Found on line 558: Pasal 172\n",
      "Found on line 562: Pasal 173\n",
      "Found on line 565: Pasal 174\n",
      "Found on line 569: Pasal 175\n",
      "Found on line 574: Pasal 176\n",
      "Found on line 580: Pasal 177\n",
      "Found on line 587: Pasal 178\n",
      "Found on line 592: Pasal 179\n",
      "Found on line 596: Pasal 180\n",
      "Found on line 601: Pasal 181\n",
      "Found on line 607: Pasal 182\n",
      "Found on line 613: Pasal 183\n",
      "Found on line 618: Pasal 184\n",
      "Found on line 630: Pasal 185\n",
      "Found on line 638: Pasal 186\n",
      "Found on line 655: Pasal 187\n",
      "Found on line 665: Pasal 187 bis\n",
      "Found on line 676: Pasal 187 ter\n",
      "Found on line 679: Pasal 188\n",
      "Found on line 686: Pasal 189\n",
      "Found on line 692: Pasal 190\n",
      "Found on line 698: Pasal 191\n",
      "Found on line 702: Pasal 191 bis\n",
      "Found on line 716: Pasal 191 ter\n",
      "Found on line 730: Pasal 192\n",
      "Found on line 738: Pasal 193\n",
      "Found on line 748: Pasal 194\n",
      "Found on line 755: Pasal 195\n",
      "Found on line 764: Pasal 196\n",
      "Found on line 776: Pasal 197\n",
      "Found on line 788: Pasal 198\n",
      "Found on line 796: Pasal 199\n",
      "Found on line 804: Pasal 200\n",
      "Found on line 814: Pasal 201\n",
      "Found on line 825: Pasal 202\n",
      "Found on line 834: Pasal 203\n",
      "Found on line 845: Pasal 204\n",
      "Found on line 853: Pasal 205\n",
      "Found on line 864: Pasal 206\n",
      "Found on line 871: Pasal 207\n",
      "Found on line 876: Pasal 208\n",
      "Found on line 886: Pasal 209\n",
      "Found on line 896: Pasal 210\n",
      "Found on line 910: Pasal 211\n",
      "Found on line 914: Pasal 212\n",
      "Found on line 920: Pasal 213\n",
      "Found on line 928: Pasal 214\n",
      "Found on line 937: Pasal 215\n",
      "Found on line 944: Pasal 216\n",
      "Found on line 959: Pasal 217\n",
      "Found on line 965: Pasal 218\n",
      "Found on line 970: Pasal 219\n",
      "Found on line 976: Pasal 220\n",
      "Found on line 980: Pasal 221\n",
      "Found on line 1001: Pasal 222\n",
      "Found on line 1005: Pasal 223\n",
      "Found on line 1010: Pasal 224\n",
      "Found on line 1016: Pasal 225\n",
      "Found on line 1023: Pasal 226\n",
      "Found on line 1031: Pasal 227\n",
      "Found on line 1035: Pasal 228\n",
      "Found on line 1040: Pasal 229\n",
      "Found on line 1045: Pasal 230\n",
      "Found on line 1048: Pasal 231\n",
      "Found on line 1062: Pasal 232\n",
      "Found on line 1073: Pasal 233\n",
      "Found on line 1081: Pasal 234\n",
      "Found on line 1087: Pasal 235\n",
      "Found on line 1092: Pasal 236\n",
      "Found on line 1097: Pasal 237\n",
      "Found on line 1103: Pasal 238\n",
      "Found on line 1107: Pasal 239\n",
      "Found on line 1112: Pasal 240\n",
      "Found on line 1121: Pasal 241\n",
      "Found on line 1129: Pasal 242\n",
      "Found on line 1141: Pasal 243\n",
      "Found on line 1144: Pasal 244\n",
      "Found on line 1149: Pasal 245\n",
      "Found on line 1157: Pasal 246\n",
      "Found on line 1161: Pasal 247\n",
      "Found on line 1168: Pasal 248\n",
      "Found on line 1170: Pasal 249\n",
      "Found on line 1175: Pasal 250\n",
      "Found on line 1181: Pasal 250 bis\n",
      "Found on line 1188: Pasal 251\n",
      "Found on line 1195: Pasal 252\n",
      "Found on line 1200: Pasal 253\n",
      "Found on line 1209: Pasal 254\n",
      "Found on line 1223: Pasal 255\n",
      "Found on line 1236: Pasal 256\n",
      "Found on line 1249: Pasal 257\n",
      "Found on line 1258: Pasal 258\n",
      "Found on line 1266: Pasal 259\n",
      "Found on line 1273: Pasal 260\n",
      "Found on line 1288: Pasal 260 bis\n",
      "Found on line 1296: Pasal 261\n",
      "Found on line 1303: Pasal 262\n",
      "Found on line 1308: Pasal 263\n",
      "Found on line 1318: Pasal 264\n",
      "Found on line 1334: Pasal 265\n",
      "Found on line 1336: Pasal 266\n",
      "Found on line 1346: Pasal 267\n",
      "Found on line 1355: Pasal 268\n",
      "Found on line 1363: Pasal 269\n",
      "Found on line 1372: Pasal 270\n",
      "Found on line 1384: Pasal 271\n",
      "Found on line 1393: Pasal 272\n",
      "Found on line 1395: Pasal 273\n",
      "Found on line 1397: Pasal 274\n",
      "Found on line 1405: Pasal 275\n",
      "Found on line 1411: Pasal 276\n",
      "Found on line 1415: Pasal 277\n",
      "Found on line 1420: Pasal 278\n",
      "Found on line 1425: Pasal 279\n",
      "Found on line 1435: Pasal 280\n",
      "Found on line 1441: Pasal 281\n",
      "Found on line 1447: Pasal 282\n",
      "Found on line 1469: Pasal 283\n",
      "Found on line 1489: Pasal 283 bis\n",
      "Found on line 1494: Pasal 284\n",
      "Found on line 1515: Pasal 285\n",
      "Found on line 1519: Pasal 286\n",
      "Found on line 1523: Pasal 287\n",
      "Found on line 1531: Pasal 288\n",
      "Found on line 1540: Pasal 289\n",
      "Found on line 1545: Pasal 290\n",
      "Found on line 1557: Pasal 291\n",
      "Found on line 1563: Pasal 292\n",
      "Found on line 1567: Pasal 293\n",
      "Found on line 1578: Pasal 294\n",
      "Found on line 1591: Pasal 295\n",
      "Found on line 1605: Pasal 296\n",
      "Found on line 1610: Pasal 297\n",
      "Found on line 1613: Pasal 298\n",
      "Found on line 1620: Pasal 299\n",
      "Found on line 1630: Pasal 300\n",
      "Found on line 1646: Pasal 301\n",
      "Found on line 1652: Pasal 302\n",
      "Found on line 1669: Pasal 303\n",
      "Found on line 1688: Pasal 303 bis\n",
      "Found on line 1701: Pasal 304\n",
      "Found on line 1707: Pasal 305\n",
      "Found on line 1711: Pasal 306\n",
      "Found on line 1716: Pasal 307\n",
      "Found on line 1720: Pasal 308\n",
      "Found on line 1725: Pasal 309\n",
      "Found on line 1729: Pasal 310\n",
      "Found on line 1740: Pasal 311\n",
      "Found on line 1746: Pasal 312\n",
      "Found on line 1752: Pasal 313\n",
      "Found on line 1755: Pasal 314\n",
      "Found on line 1764: Pasal 315\n",
      "Found on line 1771: Pasal 316\n",
      "Found on line 1775: Pasal 317\n",
      "Found on line 1781: Pasal 318\n",
      "Found on line 1787: Pasal 319 Penghinaan\n",
      "Found on line 1790: Pasal 320\n",
      "Found on line 1800: Pasal 321\n",
      "Found on line 1813: Pasal 322\n",
      "Found on line 1820: Pasal 323\n",
      "Found on line 1827: Pasal 324\n",
      "Found on line 1832: Pasal 325\n",
      "Found on line 1839: Pasal 326\n",
      "Found on line 1845: Pasal 327\n",
      "Found on line 1850: Pasal 328\n",
      "Found on line 1856: Pasal 329\n",
      "Found on line 1860: Pasal 330\n",
      "Found on line 1868: Pasal 331\n",
      "Found on line 1875: Pasal 332\n",
      "Found on line 1893: Pasal 333\n",
      "Found on line 1903: Pasal 334\n",
      "Found on line 1912: Pasal 335\n",
      "Found on line 1924: Pasal 336\n",
      "Found on line 1933: Pasal 337\n",
      "Found on line 1938: Pasal 338\n",
      "Found on line 1941: Pasal 339\n",
      "Found on line 1948: Pasal 340\n",
      "Found on line 1953: Pasal 341\n",
      "Found on line 1958: Pasal 342\n",
      "Found on line 1963: Pasal 343\n",
      "Found on line 1967: Pasal 344\n",
      "Found on line 1971: Pasal 345\n",
      "Found on line 1975: Pasal 346 Seorang\n",
      "Found on line 1978: Pasal 347\n",
      "Found on line 1984: Pasal 348\n",
      "Found on line 1990: Pasal 349\n",
      "Found on line 1996: Pasal 350\n",
      "Found on line 2001: Pasal 351\n",
      "Found on line 2010: Pasal 352\n",
      "Found on line 2018: Pasal 353\n",
      "Found on line 2025: Pasal 354\n",
      "Found on line 2030: Pasal 355\n",
      "Found on line 2035: Pasal 356\n",
      "Found on line 2044: Pasal 357\n",
      "Found on line 2047: Pasal 358\n",
      "Found on line 2055: Pasal 359\n",
      "Found on line 2059: Pasal 360\n",
      "Found on line 2068: Pasal 361\n",
      "Found on line 2074: Pasal 362\n",
      "Found on line 2079: Pasal 363\n",
      "Found on line 2095: Pasal 364\n",
      "Found on line 2102: Pasal 365\n",
      "Found on line 2121: Pasal 366\n",
      "Found on line 2125: Pasal 367\n",
      "Found on line 2138: Pasal 368\n",
      "Found on line 2147: Pasal 369\n",
      "Found on line 2156: Pasal 370\n",
      "Found on line 2159: Pasal 37l\n",
      "Found on line 2163: Pasal 372\n",
      "Found on line 2169: Pasal 373\n",
      "Found on line 2174: Pasal 374\n",
      "Found on line 2178: Pasal 375\n",
      "Found on line 2184: Pasal 376\n",
      "Found on line 2187: Pasal 377\n",
      "Found on line 2194: Pasal 378\n",
      "Found on line 2201: Pasal 379\n",
      "Found on line 2206: Pasal 379a\n",
      "Found on line 2211: Pasal 380\n",
      "Found on line 2226: Pasal 381\n",
      "Found on line 2232: Pasal 382\n",
      "Found on line 2242: Pasal 382 bis\n",
      "Found on line 2249: Pasal 383\n",
      "Found on line 2255: Pasal 383 bis\n",
      "Found on line 2259: Pasal 384\n",
      "Found on line 2263: Pasal 385\n",
      "Found on line 2287: Pasal 386\n",
      "Found on line 2293: Pasal 387\n",
      "Found on line 2302: Pasal 388\n",
      "Found on line 2310: Pasal 389\n",
      "Found on line 2315: Pasal 390\n",
      "Found on line 2320: Pasal 391\n",
      "Found on line 2328: Pasal 392\n",
      "Found on line 2332: Pasal 393\n",
      "Found on line 2346: Pasal 393 bis\n",
      "Found on line 2356: Pasal 394\n",
      "Found on line 2360: Pasal 395\n",
      "Found on line 2368: Pasal 396\n",
      "Found on line 2379: Pasal 397\n",
      "Found on line 2393: Pasal 398\n",
      "Found on line 2412: Pasal 399\n",
      "Found on line 2429: Pasal 400\n",
      "Found on line 2442: Pasal 401\n",
      "Found on line 2450: Pasal 402\n",
      "Found on line 2460: Pasal 403\n",
      "Found on line 2467: Pasal 404\n",
      "Found on line 2481: Pasal 405\n",
      "Found on line 2488: Pasal 413\n",
      "Found on line 2493: Pasal 414\n",
      "Found on line 2500: Pasal 415\n",
      "Found on line 2507: Pasal 416\n",
      "Found on line 2512: Pasal 417\n",
      "Found on line 2522: Pasal 418\n",
      "Found on line 2529: Pasal 419\n",
      "Found on line 2537: Pasal 420\n",
      "Found on line 2549: Pasal 421\n",
      "Found on line 2553: Pasal 422\n",
      "Found on line 2557: Pasal 423\n",
      "Found on line 2563: Pasal 424\n",
      "Found on line 2568: Pasal 425\n",
      "Found on line 2581: Pasal 426\n",
      "Found on line 2590: Pasal 427\n",
      "Found on line 2602: Pasal 428\n",
      "Found on line 2610: Pasal 429\n",
      "Found on line 2621: Pasal 430\n",
      "Found on line 2631: Pasal 431\n",
      "Found on line 2636: Pasal 432\n",
      "Found on line 2645: Pasal 433\n",
      "Found on line 2658: Pasal 434\n",
      "Found on line 2664: Pasal 435\n",
      "Found on line 2670: Pasal 436\n",
      "Found on line 2681: Pasal 437\n",
      "Found on line 2686: Pasal 438\n",
      "Found on line 2702: Pasal 439\n",
      "Found on line 2709: Pasal 440\n",
      "Found on line 2715: Pasal 441\n",
      "Found on line 2721: Pasal 442\n",
      "Found on line 2726: Pasal 443\n",
      "Found on line 2733: Pasal 444\n",
      "Found on line 2739: Pasal 445\n",
      "Found on line 2744: Pasal 446\n",
      "Found on line 2751: Pasal 447\n",
      "Found on line 2757: Pasal 448\n",
      "Found on line 2760: Pasal 449\n",
      "Found on line 2764: Pasal 450\n",
      "Found on line 2770: Pasal 451\n",
      "Found on line 2776: Pasal 451 bis\n",
      "Found on line 2783: Pasal 451 ter\n",
      "Found on line 2787: Pasal 452\n",
      "Found on line 2797: Pasal 453\n",
      "Found on line 2802: Pasal 454\n",
      "Found on line 2808: Pasal 455\n",
      "Found on line 2813: Pasal 456\n",
      "Found on line 2815: Pasal 457\n",
      "Found on line 2819: Pasal 458\n",
      "Found on line 2829: Pasal 459\n",
      "Found on line 2842: Pasal 460\n",
      "Found on line 2851: Pasal 461\n",
      "Found on line 2854: Pasal 462\n",
      "Found on line 2858: Pasal 463\n",
      "Found on line 2862: Pasal 464\n",
      "Found on line 2873: Pasal 465\n",
      "Found on line 2877: Pasal 466\n",
      "Found on line 2886: Pasal 467\n",
      "Found on line 2891: Pasal 468\n",
      "Found on line 2896: Pasal 469\n",
      "Found on line 2907: Pasal 470\n",
      "Found on line 2912: Pasal 471\n",
      "Found on line 2917: Pasal 472\n",
      "Found on line 2921: Pasal 472 bis\n",
      "Found on line 2924: Pasal 473\n",
      "Found on line 2928: Pasal 474\n",
      "Found on line 2934: Pasal 475\n",
      "Found on line 2940: Pasal 476\n",
      "Found on line 2946: Pasal 477\n",
      "Found on line 2955: Pasal 478\n",
      "Found on line 2960: Pasal 479\n",
      "Found on line 2966: Pasal 479\n",
      "Found on line 2975: Pasal 479\n",
      "Found on line 2984: Pasal 479\n",
      "Found on line 2996: Pasal 479d\n",
      "Found on line 3007: Pasal 479e\n",
      "Found on line 3011: Pasal 479f\n",
      "Found on line 3018: Pasal 479g\n",
      "Found on line 3025: Pasal 479h\n",
      "Found on line 3043: Pasal 479i\n",
      "Found on line 3047: Pasal 479j\n",
      "Found on line 3067: Pasal 479l\n",
      "Found on line 3072: Pasal 479\n",
      "Found on line 3077: Pasal 479n\n",
      "Found on line 3084: Pasal 479o\n",
      "Found on line 3095: Pasal 479\n",
      "Found on line 3099: Pasal 479\n",
      "Found on line 3103: Pasal 479\n",
      "Found on line 3108: Pasal 480\n",
      "Found on line 3117: Pasal 481\n",
      "Found on line 3123: Pasal 482\n",
      "Found on line 3128: Pasal 483\n",
      "Found on line 3138: Pasal 484\n",
      "Found on line 3148: Pasal 485\n",
      "Found on line 3165: Pasal 489\n",
      "Found on line 3172: Pasal 490\n",
      "Found on line 3186: Pasal 491\n",
      "Found on line 3193: Pasal 492\n",
      "Found on line 3203: Pasal 493\n",
      "Found on line 3209: Pasal 494\n",
      "Found on line 3229: Pasal 495\n",
      "Found on line 3237: Pasal 496\n",
      "Found on line 3241: Pasal 497\n",
      "Found on line 3248: Pasal 498 dan\n",
      "Found on line 3250: Pasal 500\n",
      "Found on line 3255: Pasal 501\n",
      "Found on line 3268: Pasal 502\n",
      "Found on line 3276: Pasal 503\n",
      "Found on line 3283: Pasal 504\n",
      "Found on line 3288: Pasal 505\n",
      "Found on line 3292: Pasal 506\n",
      "Found on line 3296: Pasal 507\n",
      "Found on line 3304: Pasal 508\n",
      "Found on line 3310: Pasal 508 bis\n",
      "Found on line 3317: Pasal 509\n",
      "Found on line 3323: Pasal 510\n",
      "Found on line 3332: Pasal 511\n",
      "Found on line 3337: Pasal 512\n",
      "Found on line 3350: Pasal 512a\n",
      "Found on line 3355: Pasal 513\n",
      "Found on line 3360: Pasal 514\n",
      "Found on line 3366: Pasal 515\n",
      "Found on line 3377: Pasal 516\n",
      "Found on line 3388: Pasal 517\n",
      "Found on line 3402: Pasal 518\n",
      "Found on line 3406: Pasal 519\n",
      "Found on line 3413: Pasal 519 bis\n",
      "Found on line 3424: Pasal 520\n",
      "Found on line 3434: Pasal 521\n",
      "Found on line 3439: Pasal 522\n",
      "Found on line 3443: Pasal 523\n",
      "Found on line 3451: Pasal 524\n",
      "Found on line 3468: Pasal 525\n",
      "Found on line 3479: Pasal 526\n",
      "Found on line 3483: Pasal 527\n",
      "Found on line 3485: Pasal 528\n",
      "Found on line 3497: Pasal 529\n",
      "Found on line 3501: Pasal 530\n",
      "Found on line 3510: Pasal 531\n",
      "Found on line 3517: Pasal 532\n",
      "Found on line 3524: Pasal 533\n",
      "Found on line 3543: Pasal 534\n",
      "Found on line 3550: Pasal 536\n",
      "Found on line 3562: Pasal 537\n",
      "Found on line 3567: Pasal 538\n",
      "Found on line 3572: Pasal 539\n",
      "Found on line 3578: Pasal 540\n",
      "Found on line 3597: Pasal 541\n",
      "Found on line 3611: Pasal 542\n",
      "Found on line 3613: Pasal 543\n",
      "Found on line 3615: Pasal 544\n",
      "Found on line 3624: Pasal 545\n",
      "Found on line 3632: Pasal 546\n",
      "Found on line 3643: Pasal 547\n",
      "Found on line 3649: Pasal 548\n",
      "Found on line 3653: Pasal 549\n",
      "Found on line 3664: Pasal 550\n",
      "Found on line 3668: Pasal 551\n",
      "Found on line 3673: Pasal 552\n",
      "Found on line 3678: Pasal 553\n",
      "Found on line 3680: Pasal 554\n",
      "Found on line 3684: Pasal 555\n",
      "Found on line 3693: Pasal 556\n",
      "Found on line 3698: Pasal 557\n",
      "Found on line 3705: Pasal 557a\n",
      "Found on line 3709: Pasal 558\n",
      "Found on line 3713: Pasal 558a\n",
      "Found on line 3718: Pasal 559\n",
      "Found on line 3725: Pasal 560\n",
      "Found on line 3729: Pasal 561\n",
      "Found on line 3733: Pasal 562\n",
      "Found on line 3750: Pasal 563\n",
      "Found on line 3755: Pasal 564\n",
      "Found on line 3759: Pasal 565\n",
      "Found on line 3766: Pasal 566\n",
      "Found on line 3771: Pasal 567\n",
      "Found on line 3779: Pasal 568\n",
      "Found on line 3785: Pasal 569\n"
     ]
    }
   ],
   "source": [
    "for index, line in enumerate(open('data/KUHP in plain text - edited.txt')):\n",
    "    try:\n",
    "        match = re.match(r'^[A-Z]{1}asal\\s\\d+\\s*\\w+\\S', line)\n",
    "        if match is not None:\n",
    "            print('Found on line %s: %s' % (index + 1, match.group()))\n",
    "    except:\n",
    "        pass"
   ]
  },
  {
   "cell_type": "code",
   "execution_count": 179,
   "metadata": {},
   "outputs": [],
   "source": [
    "bab = []"
   ]
  },
  {
   "cell_type": "code",
   "execution_count": 180,
   "metadata": {},
   "outputs": [],
   "source": [
    "for index, line in enumerate(open('data/KUHP in plain text - edited.txt')):\n",
    "    try:\n",
    "        # BAB\n",
    "        if index == 0:\n",
    "            match_bab = re.match(r'Bab\\s+(XC|XL|L?X{0,3})(IX|IV|V?I{0,3})\\s+-*\\s*\\n*\\D+\\S', line)\n",
    "            if match_bab is not None:\n",
    "                bab.append(match_bab.group())\n",
    "        else:\n",
    "            match_bab = re.match(r'Bab\\s+(XC|XL|L?X{0,3})(IX|IV|V?I{0,3})\\s+-*\\s*\\n*\\D+\\S', line)\n",
    "            match_pasal = re.match(r'^[A-Z]{1}asal\\s\\d+\\s*\\w+\\S', line)\n",
    "            if match_pasal is None:\n",
    "                bab.append(bab[index - 1])\n",
    "            else:\n",
    "                bab.append(match_bab.group())\n",
    "    except:\n",
    "        pass"
   ]
  },
  {
   "cell_type": "code",
   "execution_count": 182,
   "metadata": {
    "scrolled": true
   },
   "outputs": [
    {
     "data": {
      "text/plain": [
       "3796"
      ]
     },
     "execution_count": 182,
     "metadata": {},
     "output_type": "execute_result"
    }
   ],
   "source": [
    "len(bab)"
   ]
  },
  {
   "cell_type": "code",
   "execution_count": 184,
   "metadata": {
    "scrolled": true
   },
   "outputs": [
    {
     "data": {
      "text/plain": [
       "500"
      ]
     },
     "execution_count": 184,
     "metadata": {},
     "output_type": "execute_result"
    }
   ],
   "source": [
    "len(pasal)"
   ]
  },
  {
   "cell_type": "code",
   "execution_count": 207,
   "metadata": {},
   "outputs": [],
   "source": [
    "scores_file = open(\"data/KUHP in plain text - edited.txt\", 'r')\n",
    "line_list = list(scores_file.readlines())"
   ]
  },
  {
   "cell_type": "code",
   "execution_count": 211,
   "metadata": {},
   "outputs": [
    {
     "data": {
      "text/plain": [
       "'Bab I - Kejahatan Terhadap Keamanan Negara'"
      ]
     },
     "execution_count": 211,
     "metadata": {},
     "output_type": "execute_result"
    }
   ],
   "source": [
    "re.match(r'Bab\\s+(XC|XL|L?X{0,3})(IX|IV|V?I{0,3})\\s+-*\\s*\\n*\\D+\\S', line_list[0]).group()"
   ]
  },
  {
   "cell_type": "code",
   "execution_count": 185,
   "metadata": {
    "scrolled": true
   },
   "outputs": [],
   "source": [
    "pasal = []\n",
    "deskripsi = []\n",
    "for index in range(len(line_list)):\n",
    "    match_bab = re.match(r'Bab\\s+(XC|XL|L?X{0,3})(IX|IV|V?I{0,3})\\s+-*\\s*\\n*\\D+\\S', line_list[index])\n",
    "    match_pasal = re.match(r'^[A-Z]{1}asal\\s\\d+\\s*\\w+\\S', line)\n",
    "    if match_pasal is not None:\n",
    "        pasal.append(match.group())\n",
    "    else:\n",
    "        "
   ]
  },
  {
   "cell_type": "code",
   "execution_count": 217,
   "metadata": {},
   "outputs": [
    {
     "data": {
      "text/plain": [
       "['audhi']"
      ]
     },
     "execution_count": 217,
     "metadata": {},
     "output_type": "execute_result"
    }
   ],
   "source": [
    "a = []\n",
    "a.insert(0, 'audhi')\n",
    "a"
   ]
  },
  {
   "cell_type": "code",
   "execution_count": 218,
   "metadata": {},
   "outputs": [],
   "source": [
    "deskripsi = re.match(r'.+', 'aaa')"
   ]
  },
  {
   "cell_type": "code",
   "execution_count": 219,
   "metadata": {},
   "outputs": [
    {
     "data": {
      "text/plain": [
       "<re.Match object; span=(0, 3), match='aaa'>"
      ]
     },
     "execution_count": 219,
     "metadata": {},
     "output_type": "execute_result"
    }
   ],
   "source": [
    "deskripsi"
   ]
  },
  {
   "cell_type": "code",
   "execution_count": 222,
   "metadata": {},
   "outputs": [],
   "source": [
    "pasal = []\n",
    "deskripsi = []"
   ]
  },
  {
   "cell_type": "code",
   "execution_count": 231,
   "metadata": {
    "scrolled": true
   },
   "outputs": [
    {
     "data": {
      "text/plain": [
       "['Pasal 569']"
      ]
     },
     "execution_count": 231,
     "metadata": {},
     "output_type": "execute_result"
    }
   ],
   "source": [
    "pasal"
   ]
  },
  {
   "cell_type": "code",
   "execution_count": 244,
   "metadata": {
    "scrolled": true
   },
   "outputs": [
    {
     "data": {
      "text/plain": [
       "1"
      ]
     },
     "execution_count": 244,
     "metadata": {},
     "output_type": "execute_result"
    }
   ],
   "source": [
    "index_pasal"
   ]
  },
  {
   "cell_type": "code",
   "execution_count": 248,
   "metadata": {},
   "outputs": [
    {
     "data": {
      "text/plain": [
       "'Pasal 104 \\n'"
      ]
     },
     "execution_count": 248,
     "metadata": {},
     "output_type": "execute_result"
    }
   ],
   "source": [
    "line_list[index]"
   ]
  },
  {
   "cell_type": "code",
   "execution_count": 251,
   "metadata": {},
   "outputs": [
    {
     "data": {
      "text/plain": [
       "True"
      ]
     },
     "execution_count": 251,
     "metadata": {},
     "output_type": "execute_result"
    }
   ],
   "source": [
    "match_pasal = re.match(r'^[A-Z]{1}asal\\s\\d+\\s*\\w+\\S', line_list[index])\n",
    "match_pasal.group()\n",
    "match_pasal is not None"
   ]
  },
  {
   "cell_type": "code",
   "execution_count": 279,
   "metadata": {},
   "outputs": [
    {
     "data": {
      "text/plain": [
       "'Pasal 191 bis'"
      ]
     },
     "execution_count": 279,
     "metadata": {},
     "output_type": "execute_result"
    }
   ],
   "source": [
    "pasal[99]"
   ]
  },
  {
   "cell_type": "code",
   "execution_count": 280,
   "metadata": {
    "scrolled": true
   },
   "outputs": [
    {
     "data": {
      "text/plain": [
       "'Barang siapa dvngan sengaja menghancurkan, merusak atau membikin tak dapat \\ndipakai hangunan listrik, atau menyenabkan jalan atau bekerjanya hangunan itu \\nterganggu, atau menggagalkan atau mcmpv.r.sukar usaha unt.uk menyelanmtkan atau \\nniembetulkan bangunan itu, diancam:\\n1. dengan pidana penjara paling lama sembilan bulan atau pidana denda paling \\nbanyak empat, ribu lima ratus rupiah, jika karena perbuatan itu timbul rintangan \\natau kesukaran dalam penyerahan tenaga listrik untuk kepentingan umum;\\n2. dengan pidana penjara paling lama tujuh tahun, jika karena perbuatan itu \\ntirnbul bahaya umum bagi barang; \\n3. dengan pidana penjara paling lama sembilan tahun, jika karena perbuatan itu \\ntimbul bahaya bagi nyawa orang lain; \\n4. dengan pidana penjara paling lama lima belas tahun, jika karena perbuatan itu \\ntimbul bahaya bagi nyawa orang lain dan mengakibatkan orang mati.\\n'"
      ]
     },
     "execution_count": 280,
     "metadata": {},
     "output_type": "execute_result"
    }
   ],
   "source": [
    "deskripsi[99]"
   ]
  },
  {
   "cell_type": "code",
   "execution_count": 277,
   "metadata": {},
   "outputs": [],
   "source": [
    "bab = []\n",
    "pasal = []\n",
    "deskripsi = []\n",
    "index = 0\n",
    "index_pasal = 0\n",
    "while index < 3796:\n",
    "    match_bab = re.match(r'Bab\\s+(XC|XL|L?X{0,3})(IX|IV|V?I{0,3})\\s+-*\\s*\\n*\\D+\\S', line_list[index])\n",
    "    match_pasal = re.match(r'^[A-Z]{1}asal\\s\\d+\\s*\\w+\\S', line_list[index])\n",
    "    if match_pasal is not None:\n",
    "        index_pasal = index\n",
    "        pasal.append(match_pasal.group())\n",
    "    else:\n",
    "        if index == 0:\n",
    "            pass\n",
    "        elif (index - index_pasal == 1):\n",
    "            deskripsi.insert(len(pasal) - 1, line_list[index])\n",
    "        else:\n",
    "            deskripsi[len(pasal) - 1] += line_list[index]\n",
    "    index += 1"
   ]
  },
  {
   "cell_type": "code",
   "execution_count": 196,
   "metadata": {},
   "outputs": [
    {
     "name": "stdout",
     "output_type": "stream",
     "text": [
      "Bab I - Kejahatan Terhadap Keamanan Negara\n",
      "Pasal 104 \n",
      "Makar dengan maksud untuk membunuh, atau merampas kemerdekaan, atau meniadakan \n",
      "kemampuan Presiden atau Wakil Presiden memerintah, diancam dengan pidana mati \n",
      "atau pidana penjara seumur hidup atau pidana penjara sementara paling lama dua \n",
      "puluh tahun. \n",
      "Pasal 105 \n",
      "Pasal ini ditiadakan berdasarkan Undang-undang No. 1 Tahun 1946, pasal VIII, \n",
      "butir 13. \n",
      "Pasal 106 \n",
      "Makar dengan maksud supaya seluruh atau sebagian dari wilayah negara, diancam \n",
      "dengan pidana penjara seumur hidup atau pidana penjara sementara paling lama dua \n",
      "puluh tahun. \n",
      "Pasal 107 \n",
      "(1) Makar dengan maksud untuk menggulingkan pemerintah, diancam dengan pidana \n",
      "penjara paling lama lima belas tahun.\n",
      "(2) Para pemimpin dan pengatur makar tersebbut dalam ayat 1, diancam dengan \n",
      "pidana penjara seumur hidup atau pidana penjara sementara paling lama dua puluh \n",
      "tahun. \n",
      "Pasal 108 \n",
      "(1) Barang siapa bersalah karena pemberontakan, diancam dengan pidana penjara \n",
      "paling lama lima belas tahun:\n",
      "1. orang yang melawan pemerintah Indonesia dengan senjata;\n",
      "2. orang yang dengan maksud melawan Pemerintah Indonesia menyerbu bersama-sama \n",
      "atau menggabungkan diri pada gerombolan yang melawan Pemerintah dengan senjata.\n",
      "(2) Para pemimpin dan para pengatur pemberontakan diancam dengan penjara seumur \n",
      "hidup atau pidana penjara sementara paling lama dua puluh tahun. \n",
      "Pasal 109 \n",
      "Pasal iani ditiadakan berdasarkan S. 1930 No. 31. \n",
      "Pasal 110 \n",
      "(1) Permufakatan jahat untuk melakukan kejahatan menurut pasal 104, 106, 107, \n",
      "dan 108 diancam berdasarkan ancaman pidana dalam pasal-pasal tersebut.\n",
      "(2) Pidana yang sama diterapkan terhadap orang-orang yang dengan maksud \n",
      "berdasarkan pasal 104, 106, dan 108, mempersiapkan atau memperlancar kejahatan:\n",
      "1. berusaha menggerakkan orang lain untuk melakukan, menyuruh melakukan atau \n",
      "turut serta melakukan agar memberi bantuan pada waktu melakukan atau memberi \n",
      "kesempatan, sarana atau keterangan untuk melakukan kejahatan;\n",
      "2. berusaha memperoleh kesempatan, sarana atau keterangan untuk melakukan \n",
      "kejahatan bagi diri sendiri atua orang lain;\n",
      "3. memiliki persediaan barang-barang yang diketahuinya berguna untuk melakukan \n",
      "kejahatan;\n",
      "4. mempersiapkan atau memiliki rencana untuk melaksanakan kejahatan yang \n",
      "bertujuan untuk memberitahukan kepada orang lain;\n",
      "5. berusaha mencegah, merintangi atau menggagalkan tindakan yang diadakan \n",
      "pemerintah untuk mencegah atau menindas pelaksanaan kejahatan. \n",
      "(3). Barang-barang sebagaimana dimaksud dalam butir 3 ayat sebelumnya, dapat \n",
      "dirampas. \n",
      "(4) Tidak dipidana barang siapa yang ternyata bermaksud hanya mempersiapkan atau \n",
      "memperlancar perubahan ketatanegaraan dalam artian umum. \n",
      "(5) Jika dalam salah satu hal seperti yang dimaksud dalam ayat 1 dan 2 pasal \n",
      "ini, kejahatan sungguh terjadi, pidananya dapat dilipatkan dua kali. \n",
      "Pasal 111 \n",
      "(1) Barang siapa mengadakan hubungan dengan negara asing dengan maksud \n",
      "menggerakkannya untuk melakukan perbuatan permusuhan atau perang terhadap \n",
      "negara, memperkuat niat mereka, menjanjikan bantuan atau membantu mempersiapkan \n",
      "mereka untuk melakukan perbuatann permufakatan atua perang terhadap negara, \n",
      "diancam dengan pidana penjara paling lama lima belas tahun. \n",
      "(2) Jika perbuatan permusuhan dilakukan atau terjadi perang, diancam dengan \n",
      "pidana mati atua pidana penjara seumur hidup atau pidana penjara sementara \n",
      "paling lama dua puluh tahun. \n",
      "Pasal 111 bis \n",
      "(1) Dengan pidana penjara paling lama enam tahun diancam:\n",
      "1. barang siapa mengadakan hubungan dengan orang atau badan yang berkedudukan di \n",
      "luar Indonesia, dengan maksud untuk menggerakan orang atau badan itu supaya \n",
      "membantu mempersiapkan, memperlancar atau menggerakkan untuk menggulingkan \n",
      "pemerintah, untuk memperkuat niat orang atau badan itu atua menjanjikan atau \n",
      "memberi bantuan kepada orang atau badan itu atau menyiapkan, memperlancar atau \n",
      "menggerakkan penggulingan pemerintah;\n",
      "2. barang siapa memaksudkan suatu benda yang dapat digunakan untuk memberi \n",
      "bantuan material dalam mempersiapkan, memperlancar atau menggerakkan \n",
      "penggulingan pemerintah, sedangkan diketahuinya atau ada alasan kuat untuk \n",
      "memnduga bahwa benda tersebut akan dipergunakan untuk perbuatan tersebut;\n",
      "3. orang yang mempunyai atau mengadakan perjanjian mengenai suatu benda yang \n",
      "dapat dipergunakan untuk memberikan bantuan material dalam mempersiapkan, \n",
      "memperlancar atau menggerakkan penggulingan pemerintah, sedangkan diketahuinya \n",
      "atau ada alasan baginya untuk menduga bahwa benda itu akan dipergunakan untuk \n",
      "perbuatan tersebut atau benda itu atau barang lainsebagai penggantinya, \n",
      "dimaksudkan dengan tujuan tersebut atau untuk untuk diperuntukkan bagi tujuan \n",
      "itu oleh orang atau benda yang berkedudukan di luar Indonesia. \n",
      "(2) Benda-benda yang dengan mana atau yang ada hubungan dengan ayat 1 ke-2 dan \n",
      "ke-3 yang dipakai untuk melakukan kejahatan, dapat dirampas. \n",
      "Pasal 112 \n",
      "Barang siapa dengan sengaja mengumumkan surat-surat, berita-berita atau \n",
      "keterangan- keterangan yang diketahuinya bahwa harus dirahasiakan untuk \n",
      "kepentingan negara, atau dengan sengaja memberitahukan atau memberikannya kepada \n",
      "negara asing, diancam dengan pidana penjara paling lama tujuh tahun. \n",
      "Pasal 113 \n",
      "(1) Barang siapa dengan sengaja, untuk seluruhnya atau sebagian mengumumkan, \n",
      "atau memberitahukan maupun menyerahkan kepada orang yang tidak berwenang \n",
      "mengetahui, surat-surat, peta-peta, rencana-rencana, gambar-gambar atau \n",
      "benda-benda yang bersifat rahasia yang bersangkutan dengan pertahanan atau \n",
      "keamanan Indonesia terhadap serangan dari luar, yang ada padanya atau yang \n",
      "isinya, bentuknya atau susunanya benda- benda itu diketahui olehnya, diancam \n",
      "dengan pidana penjara paling lama empat tahun.\n",
      "(2) Jika surat-surat atau benda-benda ada pada yang bersalah, atau \n",
      "pengetahuannya tentang itu karena pencariannya, pidananya dapat ditambah \n",
      "sepertiga. \n",
      "Pasal 114 \n",
      "Barang siapa karena kesalahannya (kealpaannya) menyebabkan surat-surat atau \n",
      "benda- benda rahasia sebagaimana yang dimaksudkan dalam pasal 113 harus menjadi \n",
      "tugasnya untuk menyimpan atau menaruhnya, bentuk atau susunannya atau seluruh \n",
      "atau sebagian diketahui oleh umum atau dikuasai atau diketahui oleh orang lain \n",
      "(atau) tidak berwenang mengetahui, diancam dengan pidana penjara paling lama \n",
      "satu tahun enam bulan atau pidana kurungan paling lama satu tahun atau pidana \n",
      "denda paling tinggi empat ribu lima ratus rupiah. \n",
      "Pasal 115 \n",
      "Barang siapa melihat atua membaca surat-surat atau benda-benda rahasia \n",
      "sebagaimana dimaksud dalam pasal 113, untuk seluruhnya atau sebagian, sedangkan \n",
      "diketahui atau selayaknya harus diduganya bahwa benda-benda itu tidak dimaksud \n",
      "untuk diketahui olehnya, begitu pula jika membuat atau menyuruh membuat salinan \n",
      "atau ikhtisar dengan huruf atau dalam bahasa apa pun juga, membuat atau menyuruh \n",
      "buat teraan, gambaran atau jika tidak menyerahkan benda-benda itu kepada pejabat \n",
      "kehakiman, kepolisian atau pamongh praja, dalam hal benda-benda itu ke \n",
      "tangannya, diancam dengan pidana penjara palling lama tiga tahun. \n",
      "Pasal 116 \n",
      "Permufakatan jahat untuk melakukan kejahatan sebagaimana diamksud dalam pasal \n",
      "113 dan 115, diancam dengan pidana penjara paling lama satu atahun. \n",
      "Pasal 117 \n",
      "Diancam dengan pidana penjara paling lama enam bulan atau denda paling banyak \n",
      "empat ribu lima ratus rupiah, barang siapa tanpa wenang. \n",
      "1. dengan sengaja memasuki bangunan Angkatan Darat atau Angkatan Laut, atau \n",
      "memasuki kapal perang melalui jalan yang bukan jalan biasa; \n",
      "2. dengan sengaja memasuki daerah, yang oleh Presiden atau atas namanya, atau \n",
      "oleh penguasa tentara ditentukan sebagai daerah tentara yang dilarang;\n",
      "3. dengan sengaja membuat, mengumpulkan, mempunyai, menyimpan, menyembunyikan \n",
      "atau mangangkut gambat potret atau gambar tangan maupun keterangan-keterangan \n",
      "atau petunjuk-petunjuk lain mengenai daerah seperti tersebut dalam pasal ke-2, \n",
      "beserta segala sesuatu yang ada disitu. \n",
      "Pasal 118 \n",
      "Diancam dengan pidana penjara paling lama dua tahun atau denda sembilan ribu \n",
      "rupiah, barang siapa tanpa wenang, sengaja membuat, mengumpulkan, mempunyai, \n",
      "menyimpan, menyembunyikan atau petunjuk-petunjuk lain mengenai sesuatu hal yang \n",
      "bersangkutan dengan kepentingan tentara. \n",
      "Pasal 119 \n",
      "Diancam dengan pidana penjara paling lama satu tahun: \n",
      "1. barang siapa memberi pondokan kepada orang lain, yang diketahuinya mempunyai \n",
      "niat atau sedang mencoba untuk mengetahui benda-benda rahasia seperti tersebut \n",
      "dalam pasal 113, padahal tidak wenang untuk itu, atau mempunyai niat atau sedang \n",
      "mencoba untuk mengetahui letak, bentuk, susunan, persenjataan, perbekalan, \n",
      "perlengkapan mesin, atau kekuatan orang dari bangunan pertahanan atau sesuatu \n",
      "hal lain yang bersangkutan dengan kepentingan tentara;\n",
      "2. barang siapa menyembunyikan benda-benda yang diketahuinya behawa dengan cara \n",
      "apapun juga, akan diperlukan dalam melaksanakan niat seperti tersebut pada ke-1. \n"
     ]
    },
    {
     "ename": "AttributeError",
     "evalue": "'NoneType' object has no attribute 'group'",
     "output_type": "error",
     "traceback": [
      "\u001b[1;31m---------------------------------------------------------------------------\u001b[0m",
      "\u001b[1;31mAttributeError\u001b[0m                            Traceback (most recent call last)",
      "\u001b[1;32m<ipython-input-196-b7915f343094>\u001b[0m in \u001b[0;36m<module>\u001b[1;34m\u001b[0m\n\u001b[0;32m      1\u001b[0m \u001b[1;32mfor\u001b[0m \u001b[0mindex\u001b[0m\u001b[1;33m,\u001b[0m \u001b[0mline\u001b[0m \u001b[1;32min\u001b[0m \u001b[0menumerate\u001b[0m\u001b[1;33m(\u001b[0m\u001b[0mopen\u001b[0m\u001b[1;33m(\u001b[0m\u001b[1;34m'data/KUHP in plain text - edited.txt'\u001b[0m\u001b[1;33m)\u001b[0m\u001b[1;33m)\u001b[0m\u001b[1;33m:\u001b[0m\u001b[1;33m\u001b[0m\u001b[1;33m\u001b[0m\u001b[0m\n\u001b[0;32m      2\u001b[0m     \u001b[0ma\u001b[0m \u001b[1;33m=\u001b[0m \u001b[0mre\u001b[0m\u001b[1;33m.\u001b[0m\u001b[0mmatch\u001b[0m\u001b[1;33m(\u001b[0m\u001b[1;34mr'.+'\u001b[0m\u001b[1;33m,\u001b[0m \u001b[0mline\u001b[0m\u001b[1;33m)\u001b[0m\u001b[1;33m\u001b[0m\u001b[1;33m\u001b[0m\u001b[0m\n\u001b[1;32m----> 3\u001b[1;33m     \u001b[0mprint\u001b[0m\u001b[1;33m(\u001b[0m\u001b[0ma\u001b[0m\u001b[1;33m.\u001b[0m\u001b[0mgroup\u001b[0m\u001b[1;33m(\u001b[0m\u001b[1;33m)\u001b[0m\u001b[1;33m)\u001b[0m\u001b[1;33m\u001b[0m\u001b[1;33m\u001b[0m\u001b[0m\n\u001b[0m",
      "\u001b[1;31mAttributeError\u001b[0m: 'NoneType' object has no attribute 'group'"
     ]
    }
   ],
   "source": [
    "for index, line in enumerate(open('data/KUHP in plain text - edited.txt')):\n",
    "    a = re.match(r'.+', line)\n",
    "    print(a.group())"
   ]
  },
  {
   "cell_type": "code",
   "execution_count": 343,
   "metadata": {
    "scrolled": false
   },
   "outputs": [
    {
     "data": {
      "text/plain": [
       "539"
      ]
     },
     "execution_count": 343,
     "metadata": {},
     "output_type": "execute_result"
    }
   ],
   "source": [
    "len(bab)"
   ]
  },
  {
   "cell_type": "code",
   "execution_count": 313,
   "metadata": {},
   "outputs": [
    {
     "data": {
      "text/plain": [
       "500"
      ]
     },
     "execution_count": 313,
     "metadata": {},
     "output_type": "execute_result"
    }
   ],
   "source": [
    "len(pasal)"
   ]
  },
  {
   "cell_type": "code",
   "execution_count": 315,
   "metadata": {},
   "outputs": [
    {
     "data": {
      "text/plain": [
       "500"
      ]
     },
     "execution_count": 315,
     "metadata": {},
     "output_type": "execute_result"
    }
   ],
   "source": [
    "len(deskripsi)"
   ]
  },
  {
   "cell_type": "code",
   "execution_count": 342,
   "metadata": {},
   "outputs": [],
   "source": [
    "# FINAL\n",
    "bab = []\n",
    "pasal = []\n",
    "deskripsi = []\n",
    "index = 0\n",
    "index_pasal = 0\n",
    "while index < 3796:\n",
    "    match_bab = re.match(r'Bab\\s+(XC|XL|L?X{0,3})(IX|IV|V?I{0,3})\\s+-*\\s*\\n*\\D+\\S', line_list[index])\n",
    "    match_pasal = re.match(r'^[A-Z]{1}asal\\s\\d+\\s*\\w+\\S', line_list[index])\n",
    "    if match_pasal is not None:\n",
    "        index_pasal = index\n",
    "        pasal.append(match_pasal.group())\n",
    "        bab.append(bab[len(bab) - 1])\n",
    "    else:\n",
    "        if match_bab is not None:\n",
    "            bab.insert(len(bab), match_bab.group())\n",
    "        else:\n",
    "            if index == 0:\n",
    "                pass\n",
    "            elif (index - index_pasal == 1):\n",
    "                deskripsi.insert(len(pasal) - 1, line_list[index])\n",
    "            else:\n",
    "                deskripsi[len(pasal) - 1] += line_list[index]\n",
    "    index += 1"
   ]
  },
  {
   "cell_type": "code",
   "execution_count": 353,
   "metadata": {},
   "outputs": [
    {
     "data": {
      "text/plain": [
       "500"
      ]
     },
     "execution_count": 353,
     "metadata": {},
     "output_type": "execute_result"
    }
   ],
   "source": [
    "len(bab_new)"
   ]
  },
  {
   "cell_type": "code",
   "execution_count": 352,
   "metadata": {},
   "outputs": [],
   "source": [
    "# FINAL\n",
    "bab_new = []\n",
    "index = 0\n",
    "while index < 539:\n",
    "    try:        \n",
    "        if bab[index] == bab[index + 1]:\n",
    "            bab_new.append(bab[index])\n",
    "    except:\n",
    "        pass\n",
    "    index += 1"
   ]
  },
  {
   "cell_type": "code",
   "execution_count": 356,
   "metadata": {},
   "outputs": [],
   "source": [
    "# Create a dataframe\n",
    "df = pd.DataFrame({'Bab': bab_new, 'Pasal': pasal, 'Deskripsi': deskripsi})"
   ]
  },
  {
   "cell_type": "code",
   "execution_count": 359,
   "metadata": {
    "scrolled": false
   },
   "outputs": [
    {
     "data": {
      "text/html": [
       "<div>\n",
       "<style scoped>\n",
       "    .dataframe tbody tr th:only-of-type {\n",
       "        vertical-align: middle;\n",
       "    }\n",
       "\n",
       "    .dataframe tbody tr th {\n",
       "        vertical-align: top;\n",
       "    }\n",
       "\n",
       "    .dataframe thead th {\n",
       "        text-align: right;\n",
       "    }\n",
       "</style>\n",
       "<table border=\"1\" class=\"dataframe\">\n",
       "  <thead>\n",
       "    <tr style=\"text-align: right;\">\n",
       "      <th></th>\n",
       "      <th>Bab</th>\n",
       "      <th>Pasal</th>\n",
       "      <th>Deskripsi</th>\n",
       "    </tr>\n",
       "  </thead>\n",
       "  <tbody>\n",
       "    <tr>\n",
       "      <th>0</th>\n",
       "      <td>Bab I - Kejahatan Terhadap Keamanan Negara</td>\n",
       "      <td>Pasal 104</td>\n",
       "      <td>Makar dengan maksud untuk membunuh, atau meram...</td>\n",
       "    </tr>\n",
       "    <tr>\n",
       "      <th>1</th>\n",
       "      <td>Bab I - Kejahatan Terhadap Keamanan Negara</td>\n",
       "      <td>Pasal 105</td>\n",
       "      <td>Pasal ini ditiadakan berdasarkan Undang-undang...</td>\n",
       "    </tr>\n",
       "    <tr>\n",
       "      <th>2</th>\n",
       "      <td>Bab I - Kejahatan Terhadap Keamanan Negara</td>\n",
       "      <td>Pasal 106</td>\n",
       "      <td>Makar dengan maksud supaya seluruh atau sebagi...</td>\n",
       "    </tr>\n",
       "    <tr>\n",
       "      <th>3</th>\n",
       "      <td>Bab I - Kejahatan Terhadap Keamanan Negara</td>\n",
       "      <td>Pasal 107</td>\n",
       "      <td>(1) Makar dengan maksud untuk menggulingkan pe...</td>\n",
       "    </tr>\n",
       "    <tr>\n",
       "      <th>4</th>\n",
       "      <td>Bab I - Kejahatan Terhadap Keamanan Negara</td>\n",
       "      <td>Pasal 108</td>\n",
       "      <td>(1) Barang siapa bersalah karena pemberontakan...</td>\n",
       "    </tr>\n",
       "  </tbody>\n",
       "</table>\n",
       "</div>"
      ],
      "text/plain": [
       "                                          Bab      Pasal  \\\n",
       "0  Bab I - Kejahatan Terhadap Keamanan Negara  Pasal 104   \n",
       "1  Bab I - Kejahatan Terhadap Keamanan Negara  Pasal 105   \n",
       "2  Bab I - Kejahatan Terhadap Keamanan Negara  Pasal 106   \n",
       "3  Bab I - Kejahatan Terhadap Keamanan Negara  Pasal 107   \n",
       "4  Bab I - Kejahatan Terhadap Keamanan Negara  Pasal 108   \n",
       "\n",
       "                                           Deskripsi  \n",
       "0  Makar dengan maksud untuk membunuh, atau meram...  \n",
       "1  Pasal ini ditiadakan berdasarkan Undang-undang...  \n",
       "2  Makar dengan maksud supaya seluruh atau sebagi...  \n",
       "3  (1) Makar dengan maksud untuk menggulingkan pe...  \n",
       "4  (1) Barang siapa bersalah karena pemberontakan...  "
      ]
     },
     "execution_count": 359,
     "metadata": {},
     "output_type": "execute_result"
    }
   ],
   "source": [
    "df.head()"
   ]
  },
  {
   "cell_type": "code",
   "execution_count": 422,
   "metadata": {
    "scrolled": true
   },
   "outputs": [
    {
     "data": {
      "text/plain": [
       "0      Kejahatan Terhadap Keamanan Negara\n",
       "1      Kejahatan Terhadap Keamanan Negara\n",
       "2      Kejahatan Terhadap Keamanan Negara\n",
       "3      Kejahatan Terhadap Keamanan Negara\n",
       "4      Kejahatan Terhadap Keamanan Negara\n",
       "                      ...                \n",
       "495                 Pelanggaran Pelayaran\n",
       "496                 Pelanggaran Pelayaran\n",
       "497                 Pelanggaran Pelayaran\n",
       "498                 Pelanggaran Pelayaran\n",
       "499                 Pelanggaran Pelayaran\n",
       "Name: Bab, Length: 500, dtype: object"
      ]
     },
     "execution_count": 422,
     "metadata": {},
     "output_type": "execute_result"
    }
   ],
   "source": [
    "df['Bab'].apply(lambda x: re.findall(r'-\\s+(.+)', str(x))[0])"
   ]
  },
  {
   "cell_type": "code",
   "execution_count": 408,
   "metadata": {},
   "outputs": [
    {
     "data": {
      "text/plain": [
       "array(['Bab I', 'Bab II', 'Bab III', 'Bab IV', 'Bab V', 'Bab VI',\n",
       "       'Bab VII', 'Bab VIII', 'Bab IX', 'Bab X', 'Bab XI', 'Bab XII',\n",
       "       'Bab XIII', 'Bab XIV', 'Bab XV', 'Bab XVI', 'Bab XVII',\n",
       "       'Bab XVIII', 'Bab XIX', 'Bab XX', 'Bab XXI', 'Bab XXII',\n",
       "       'Bab XXIII', 'Bab XXIV', 'Bab XXV', 'Bab XXVI', 'Bab XXVIII',\n",
       "       'Bab XXIX', 'Bab XXX'], dtype=object)"
      ]
     },
     "execution_count": 408,
     "metadata": {},
     "output_type": "execute_result"
    }
   ],
   "source": [
    "df['Bab'].apply(lambda x: re.match(r'Bab\\s+(XC|XL|L?X{0,3})(IX|IV|V?I{0,3})\\S', str(x))[0]).unique()"
   ]
  },
  {
   "cell_type": "code",
   "execution_count": 424,
   "metadata": {},
   "outputs": [],
   "source": [
    "df['Topik'] = df['Bab'].apply(lambda x: re.findall(r'-\\s+(.+)', str(x))[0])\n",
    "df['Bab'] = df['Bab'].apply(lambda x: re.match(r'Bab\\s+(XC|XL|L?X{0,3})(IX|IV|V?I{0,3})\\S', str(x))[0])"
   ]
  },
  {
   "cell_type": "code",
   "execution_count": 426,
   "metadata": {},
   "outputs": [],
   "source": [
    "df = df[['Bab', 'Topik', 'Pasal', 'Deskripsi']]"
   ]
  },
  {
   "cell_type": "code",
   "execution_count": 428,
   "metadata": {},
   "outputs": [
    {
     "data": {
      "text/html": [
       "<div>\n",
       "<style scoped>\n",
       "    .dataframe tbody tr th:only-of-type {\n",
       "        vertical-align: middle;\n",
       "    }\n",
       "\n",
       "    .dataframe tbody tr th {\n",
       "        vertical-align: top;\n",
       "    }\n",
       "\n",
       "    .dataframe thead th {\n",
       "        text-align: right;\n",
       "    }\n",
       "</style>\n",
       "<table border=\"1\" class=\"dataframe\">\n",
       "  <thead>\n",
       "    <tr style=\"text-align: right;\">\n",
       "      <th></th>\n",
       "      <th>Bab</th>\n",
       "      <th>Topik</th>\n",
       "      <th>Pasal</th>\n",
       "      <th>Deskripsi</th>\n",
       "    </tr>\n",
       "  </thead>\n",
       "  <tbody>\n",
       "    <tr>\n",
       "      <th>0</th>\n",
       "      <td>Bab I</td>\n",
       "      <td>Kejahatan Terhadap Keamanan Negara</td>\n",
       "      <td>Pasal 104</td>\n",
       "      <td>Makar dengan maksud untuk membunuh, atau meram...</td>\n",
       "    </tr>\n",
       "    <tr>\n",
       "      <th>1</th>\n",
       "      <td>Bab I</td>\n",
       "      <td>Kejahatan Terhadap Keamanan Negara</td>\n",
       "      <td>Pasal 105</td>\n",
       "      <td>Pasal ini ditiadakan berdasarkan Undang-undang...</td>\n",
       "    </tr>\n",
       "    <tr>\n",
       "      <th>2</th>\n",
       "      <td>Bab I</td>\n",
       "      <td>Kejahatan Terhadap Keamanan Negara</td>\n",
       "      <td>Pasal 106</td>\n",
       "      <td>Makar dengan maksud supaya seluruh atau sebagi...</td>\n",
       "    </tr>\n",
       "    <tr>\n",
       "      <th>3</th>\n",
       "      <td>Bab I</td>\n",
       "      <td>Kejahatan Terhadap Keamanan Negara</td>\n",
       "      <td>Pasal 107</td>\n",
       "      <td>(1) Makar dengan maksud untuk menggulingkan pe...</td>\n",
       "    </tr>\n",
       "    <tr>\n",
       "      <th>4</th>\n",
       "      <td>Bab I</td>\n",
       "      <td>Kejahatan Terhadap Keamanan Negara</td>\n",
       "      <td>Pasal 108</td>\n",
       "      <td>(1) Barang siapa bersalah karena pemberontakan...</td>\n",
       "    </tr>\n",
       "    <tr>\n",
       "      <th>5</th>\n",
       "      <td>Bab I</td>\n",
       "      <td>Kejahatan Terhadap Keamanan Negara</td>\n",
       "      <td>Pasal 109</td>\n",
       "      <td>Pasal iani ditiadakan berdasarkan S. 1930 No. ...</td>\n",
       "    </tr>\n",
       "    <tr>\n",
       "      <th>6</th>\n",
       "      <td>Bab I</td>\n",
       "      <td>Kejahatan Terhadap Keamanan Negara</td>\n",
       "      <td>Pasal 110</td>\n",
       "      <td>(1) Permufakatan jahat untuk melakukan kejahat...</td>\n",
       "    </tr>\n",
       "    <tr>\n",
       "      <th>7</th>\n",
       "      <td>Bab I</td>\n",
       "      <td>Kejahatan Terhadap Keamanan Negara</td>\n",
       "      <td>Pasal 111</td>\n",
       "      <td>(1) Barang siapa mengadakan hubungan dengan ne...</td>\n",
       "    </tr>\n",
       "    <tr>\n",
       "      <th>8</th>\n",
       "      <td>Bab I</td>\n",
       "      <td>Kejahatan Terhadap Keamanan Negara</td>\n",
       "      <td>Pasal 111 bis</td>\n",
       "      <td>(1) Dengan pidana penjara paling lama enam tah...</td>\n",
       "    </tr>\n",
       "    <tr>\n",
       "      <th>9</th>\n",
       "      <td>Bab I</td>\n",
       "      <td>Kejahatan Terhadap Keamanan Negara</td>\n",
       "      <td>Pasal 112</td>\n",
       "      <td>Barang siapa dengan sengaja mengumumkan surat-...</td>\n",
       "    </tr>\n",
       "  </tbody>\n",
       "</table>\n",
       "</div>"
      ],
      "text/plain": [
       "     Bab                               Topik          Pasal  \\\n",
       "0  Bab I  Kejahatan Terhadap Keamanan Negara      Pasal 104   \n",
       "1  Bab I  Kejahatan Terhadap Keamanan Negara      Pasal 105   \n",
       "2  Bab I  Kejahatan Terhadap Keamanan Negara      Pasal 106   \n",
       "3  Bab I  Kejahatan Terhadap Keamanan Negara      Pasal 107   \n",
       "4  Bab I  Kejahatan Terhadap Keamanan Negara      Pasal 108   \n",
       "5  Bab I  Kejahatan Terhadap Keamanan Negara      Pasal 109   \n",
       "6  Bab I  Kejahatan Terhadap Keamanan Negara      Pasal 110   \n",
       "7  Bab I  Kejahatan Terhadap Keamanan Negara      Pasal 111   \n",
       "8  Bab I  Kejahatan Terhadap Keamanan Negara  Pasal 111 bis   \n",
       "9  Bab I  Kejahatan Terhadap Keamanan Negara      Pasal 112   \n",
       "\n",
       "                                           Deskripsi  \n",
       "0  Makar dengan maksud untuk membunuh, atau meram...  \n",
       "1  Pasal ini ditiadakan berdasarkan Undang-undang...  \n",
       "2  Makar dengan maksud supaya seluruh atau sebagi...  \n",
       "3  (1) Makar dengan maksud untuk menggulingkan pe...  \n",
       "4  (1) Barang siapa bersalah karena pemberontakan...  \n",
       "5  Pasal iani ditiadakan berdasarkan S. 1930 No. ...  \n",
       "6  (1) Permufakatan jahat untuk melakukan kejahat...  \n",
       "7  (1) Barang siapa mengadakan hubungan dengan ne...  \n",
       "8  (1) Dengan pidana penjara paling lama enam tah...  \n",
       "9  Barang siapa dengan sengaja mengumumkan surat-...  "
      ]
     },
     "execution_count": 428,
     "metadata": {},
     "output_type": "execute_result"
    }
   ],
   "source": [
    "df.head(10)"
   ]
  },
  {
   "cell_type": "code",
   "execution_count": 430,
   "metadata": {},
   "outputs": [],
   "source": [
    "# Save into CSV\n",
    "df.to_csv('data/KUHP Extracted.csv', index = False, sep = ';',quotechar = '\"', quoting = csv.QUOTE_ALL)"
   ]
  },
  {
   "cell_type": "code",
   "execution_count": 435,
   "metadata": {},
   "outputs": [],
   "source": [
    "# Save into Excel\n",
    "filename = 'data/KUHP Extracted - Excel.xlsx'\n",
    "writer = pd.ExcelWriter(filename)\n",
    "df.to_excel(writer, sheet_name = 'KUHP Master', index = False)\n",
    "writer.save()\n",
    "writer.close()"
   ]
  }
 ],
 "metadata": {
  "kernelspec": {
   "display_name": "Python 3",
   "language": "python",
   "name": "python3"
  },
  "language_info": {
   "codemirror_mode": {
    "name": "ipython",
    "version": 3
   },
   "file_extension": ".py",
   "mimetype": "text/x-python",
   "name": "python",
   "nbconvert_exporter": "python",
   "pygments_lexer": "ipython3",
   "version": "3.8.3"
  }
 },
 "nbformat": 4,
 "nbformat_minor": 4
}
