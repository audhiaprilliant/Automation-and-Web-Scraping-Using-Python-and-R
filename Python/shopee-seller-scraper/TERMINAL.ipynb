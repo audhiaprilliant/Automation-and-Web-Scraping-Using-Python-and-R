{
 "cells": [
  {
   "cell_type": "markdown",
   "metadata": {},
   "source": [
    "### Web scraping - seller"
   ]
  },
  {
   "cell_type": "code",
   "execution_count": 1,
   "metadata": {
    "scrolled": true
   },
   "outputs": [
    {
     "name": "stdout",
     "output_type": "stream",
     "text": [
      "uneedaccshop 0 0\n",
      "compshop88 1 1\n",
      "jameslaptopstore 2 2\n",
      "hkcofficial 3 3\n",
      "dnacomp 4 4\n",
      "pesonacomputer 5 5\n",
      "erwan_kg 6 6\n",
      "twentycell 7 7\n",
      "hermanef2019 8 8\n",
      "tangcitykliknklik 9 9\n",
      "kueler_3c.id 0 0\n",
      "inpodsid 1 1\n",
      "valen1001 2 3\n",
      "groticofficial 3 4\n",
      "benuaacell 4 5\n",
      "hkshop90 5 6\n",
      "oneplusofficialstore 6 7\n",
      "wanshan.id 7 8\n",
      "lucky_id_store 8 9\n",
      "tokoelectrical 9 10\n",
      "exploregear 0 0\n",
      "nitipsigembul 1 1\n",
      "delusionmerch 2 2\n",
      "raffaby_secret 3 3\n",
      "topeltopel 4 4\n",
      "naitsugabatik 5 5\n",
      "anak.oto 6 6\n",
      "dansproduct 7 7\n",
      "daster_cap 8 8\n",
      "milliard.store 9 9\n",
      "lalakp12345 10 10\n",
      "fyrin 11 11\n",
      "naya_hijabb 12 12\n",
      "hs_fashionshop 13 13\n",
      "muhammadhisomudin 14 14\n",
      "batik_je_er1 15 15\n",
      "batik_obet123. 16 16\n",
      "danadda 17 17\n",
      "reality_store 18 18\n",
      "go.arkananta 19 20\n"
     ]
    }
   ],
   "source": [
    "%run seller_identity_scrapper_dev.py keyword_list.csv"
   ]
  },
  {
   "cell_type": "markdown",
   "metadata": {},
   "source": [
    "### Web scraping - seller category"
   ]
  },
  {
   "cell_type": "code",
   "execution_count": null,
   "metadata": {
    "scrolled": true
   },
   "outputs": [
    {
     "name": "stdout",
     "output_type": "stream",
     "text": [
      "cupliss_casing 0 0\n",
      "farrel65g 1 1\n",
      "igsshop.me 2 2\n",
      "adivahouse15 3 3\n",
      "storegaming.id 4 4\n",
      "deffusastore.id 5 5\n",
      "rudihimawan 6 8\n",
      "kadekchelsea 7 9\n",
      "livenspil 8 11\n",
      "randykurniawan90 9 12\n",
      "sinarbatam 0 0\n"
     ]
    }
   ],
   "source": [
    "%run seller_identity_scrapper_category_dev.py keyword_list.csv"
   ]
  },
  {
   "cell_type": "markdown",
   "metadata": {},
   "source": [
    "### Web scraping - product"
   ]
  },
  {
   "cell_type": "code",
   "execution_count": null,
   "metadata": {
    "scrolled": true
   },
   "outputs": [],
   "source": [
    "%run seller_product_scrapper_dev.py laptop_2021-05-07_23-42-46.csv"
   ]
  }
 ],
 "metadata": {
  "kernelspec": {
   "display_name": "Python 3",
   "language": "python",
   "name": "python3"
  },
  "language_info": {
   "codemirror_mode": {
    "name": "ipython",
    "version": 3
   },
   "file_extension": ".py",
   "mimetype": "text/x-python",
   "name": "python",
   "nbconvert_exporter": "python",
   "pygments_lexer": "ipython3",
   "version": "3.8.3"
  }
 },
 "nbformat": 4,
 "nbformat_minor": 4
}
