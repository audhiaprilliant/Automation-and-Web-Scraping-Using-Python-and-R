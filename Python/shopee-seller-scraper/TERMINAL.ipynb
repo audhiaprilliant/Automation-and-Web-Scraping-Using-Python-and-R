{
 "cells": [
  {
   "cell_type": "markdown",
   "metadata": {},
   "source": [
    "### Web scraping - seller"
   ]
  },
  {
   "cell_type": "code",
   "execution_count": null,
   "metadata": {
    "scrolled": false
   },
   "outputs": [],
   "source": [
    "%run seller_identity_scrapper_prod.py keyword_list.csv"
   ]
  },
  {
   "cell_type": "markdown",
   "metadata": {},
   "source": [
    "### Web scraping - product"
   ]
  },
  {
   "cell_type": "code",
   "execution_count": null,
   "metadata": {
    "scrolled": true
   },
   "outputs": [
    {
     "name": "stdout",
     "output_type": "stream",
     "text": [
      "compshop88 - 0/18\n",
      "compshop88 - 1/18\n",
      "compshop88 - 2/18\n",
      "compshop88 - 3/18\n",
      "compshop88 - 4/18\n",
      "compshop88 - 5/18\n",
      "compshop88 - 6/18\n",
      "compshop88 - 7/18\n",
      "compshop88 - 8/18\n",
      "compshop88 - 9/18\n"
     ]
    }
   ],
   "source": [
    "%run seller_product_scrapper_dev.py laptop_2021-05-07_23-42-46.csv"
   ]
  }
 ],
 "metadata": {
  "kernelspec": {
   "display_name": "Python 3",
   "language": "python",
   "name": "python3"
  },
  "language_info": {
   "codemirror_mode": {
    "name": "ipython",
    "version": 3
   },
   "file_extension": ".py",
   "mimetype": "text/x-python",
   "name": "python",
   "nbconvert_exporter": "python",
   "pygments_lexer": "ipython3",
   "version": "3.8.3"
  }
 },
 "nbformat": 4,
 "nbformat_minor": 4
}
