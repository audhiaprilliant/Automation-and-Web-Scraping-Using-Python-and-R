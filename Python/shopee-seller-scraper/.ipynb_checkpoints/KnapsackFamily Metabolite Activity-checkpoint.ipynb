{
 "cells": [
  {
   "cell_type": "markdown",
   "metadata": {},
   "source": [
    "# Import Modules"
   ]
  },
  {
   "cell_type": "markdown",
   "metadata": {},
   "source": [
    "For introduction of Selenium, please be kind to open [**this site**](https://www.scrapingbee.com/blog/selenium-python/)"
   ]
  },
  {
   "cell_type": "code",
   "execution_count": 1,
   "metadata": {
    "ExecuteTime": {
     "end_time": "2020-07-03T18:24:52.447250Z",
     "start_time": "2020-07-03T18:24:16.645005Z"
    }
   },
   "outputs": [],
   "source": [
    "# Module for web scraping\n",
    "from selenium import webdriver\n",
    "# Module for data manipulation\n",
    "import pandas as pd"
   ]
  },
  {
   "cell_type": "markdown",
   "metadata": {},
   "source": [
    "# Web Scraping"
   ]
  },
  {
   "cell_type": "markdown",
   "metadata": {},
   "source": [
    "Read how to download webdriver for Chrome [**here**]('https://chromedriver.chromium.org/downloads')"
   ]
  },
  {
   "cell_type": "code",
   "execution_count": 2,
   "metadata": {
    "ExecuteTime": {
     "end_time": "2020-07-03T18:26:06.677248Z",
     "start_time": "2020-07-03T18:24:52.454411Z"
    }
   },
   "outputs": [],
   "source": [
    "DRIVER_PATH = '/home/audhi/github/Web-Scraping-Using-Python-and-R/Python/chromedriver'\n",
    "driver = webdriver.Chrome(executable_path = DRIVER_PATH)\n",
    "driver.get('http://www.knapsackfamily.com/MetaboliteActivity/top.php')"
   ]
  },
  {
   "cell_type": "markdown",
   "metadata": {},
   "source": [
    "**Input targeted species name**"
   ]
  },
  {
   "cell_type": "code",
   "execution_count": 3,
   "metadata": {
    "ExecuteTime": {
     "end_time": "2020-07-03T18:26:07.219084Z",
     "start_time": "2020-07-03T18:26:06.811775Z"
    }
   },
   "outputs": [],
   "source": [
    "# Get the web elemnt corresponding to the targeted species (Text field)\n",
    "element_species = driver.find_elements_by_name('targetsp')[0]"
   ]
  },
  {
   "cell_type": "code",
   "execution_count": 4,
   "metadata": {
    "ExecuteTime": {
     "end_time": "2020-07-03T18:26:09.871365Z",
     "start_time": "2020-07-03T18:26:07.240301Z"
    }
   },
   "outputs": [],
   "source": [
    "# Send value to the text input of species name\n",
    "element_species.send_keys('allium cepa')"
   ]
  },
  {
   "cell_type": "markdown",
   "metadata": {},
   "source": [
    "**Click on target species checkbox**"
   ]
  },
  {
   "cell_type": "code",
   "execution_count": 5,
   "metadata": {
    "ExecuteTime": {
     "end_time": "2020-07-03T18:26:09.920524Z",
     "start_time": "2020-07-03T18:26:09.876054Z"
    }
   },
   "outputs": [],
   "source": [
    "species_checkbox = driver.find_element_by_name('sname4')"
   ]
  },
  {
   "cell_type": "code",
   "execution_count": 6,
   "metadata": {
    "ExecuteTime": {
     "end_time": "2020-07-03T18:26:12.190744Z",
     "start_time": "2020-07-03T18:26:12.081091Z"
    }
   },
   "outputs": [],
   "source": [
    "species_checkbox.click()"
   ]
  },
  {
   "cell_type": "markdown",
   "metadata": {},
   "source": [
    "**Clik on list button**"
   ]
  },
  {
   "cell_type": "code",
   "execution_count": 7,
   "metadata": {
    "ExecuteTime": {
     "end_time": "2020-07-03T18:26:13.384380Z",
     "start_time": "2020-07-03T18:26:13.350541Z"
    }
   },
   "outputs": [],
   "source": [
    "list_button = driver.find_element_by_name('search')"
   ]
  },
  {
   "cell_type": "code",
   "execution_count": 8,
   "metadata": {
    "ExecuteTime": {
     "end_time": "2020-07-03T18:26:14.544740Z",
     "start_time": "2020-07-03T18:26:14.282502Z"
    }
   },
   "outputs": [],
   "source": [
    "list_button.click()"
   ]
  },
  {
   "cell_type": "markdown",
   "metadata": {},
   "source": [
    "**Switch to active tab - RESULT**"
   ]
  },
  {
   "cell_type": "code",
   "execution_count": 9,
   "metadata": {
    "ExecuteTime": {
     "end_time": "2020-07-03T18:26:18.502270Z",
     "start_time": "2020-07-03T18:26:18.465977Z"
    }
   },
   "outputs": [],
   "source": [
    "driver.switch_to.window(driver.window_handles[1])"
   ]
  },
  {
   "cell_type": "markdown",
   "metadata": {},
   "source": [
    "# Scraping the Data"
   ]
  },
  {
   "cell_type": "code",
   "execution_count": 10,
   "metadata": {
    "ExecuteTime": {
     "end_time": "2020-07-03T18:26:21.719560Z",
     "start_time": "2020-07-03T18:26:21.673187Z"
    }
   },
   "outputs": [],
   "source": [
    "table = driver.find_element_by_xpath('/html/body/table[2]/tbody')"
   ]
  },
  {
   "cell_type": "markdown",
   "metadata": {},
   "source": [
    "**Get column header**"
   ]
  },
  {
   "cell_type": "code",
   "execution_count": 11,
   "metadata": {
    "ExecuteTime": {
     "end_time": "2020-07-03T18:26:24.437307Z",
     "start_time": "2020-07-03T18:26:24.159224Z"
    }
   },
   "outputs": [],
   "source": [
    "file_data = []\n",
    "file_header = []\n",
    "head_line = table.find_element_by_tag_name('tr')\n",
    "headers = head_line.find_elements_by_tag_name('th')\n",
    "\n",
    "for header in headers:\n",
    "    header_text_byte = header.text.encode('utf-8')\n",
    "    header_text_raw = header_text_byte.decode('utf-8')\n",
    "    file_header.append(header_text_raw)\n",
    "file_data.append(';'.join(file_header))"
   ]
  },
  {
   "cell_type": "code",
   "execution_count": 12,
   "metadata": {
    "ExecuteTime": {
     "end_time": "2020-07-03T18:26:25.935360Z",
     "start_time": "2020-07-03T18:26:25.894606Z"
    }
   },
   "outputs": [
    {
     "data": {
      "text/plain": [
       "['C_ID',\n",
       " 'Metabolite Name',\n",
       " 'Activity Category',\n",
       " 'Biological Activity (Function)',\n",
       " 'Target Species',\n",
       " 'Reference']"
      ]
     },
     "execution_count": 12,
     "metadata": {},
     "output_type": "execute_result"
    }
   ],
   "source": [
    "file_header"
   ]
  },
  {
   "cell_type": "markdown",
   "metadata": {},
   "source": [
    "**Get rows content**"
   ]
  },
  {
   "cell_type": "code",
   "execution_count": 13,
   "metadata": {
    "ExecuteTime": {
     "end_time": "2020-07-03T18:26:28.727624Z",
     "start_time": "2020-07-03T18:26:27.194535Z"
    }
   },
   "outputs": [],
   "source": [
    "body_rows = table.find_elements_by_tag_name('tr')\n",
    "for row in body_rows:\n",
    "    data = row.find_elements_by_tag_name('td')    \n",
    "    file_row = []\n",
    "    for datum in data:\n",
    "        datum_text_byte = datum.text.encode('utf8')\n",
    "        datum_text_raw = datum_text_byte.decode('utf-8')\n",
    "        file_row.append(datum_text_raw)\n",
    "    file_data.append(';'.join(file_row))"
   ]
  },
  {
   "cell_type": "code",
   "execution_count": 14,
   "metadata": {
    "ExecuteTime": {
     "end_time": "2020-07-03T18:26:29.844551Z",
     "start_time": "2020-07-03T18:26:29.835717Z"
    }
   },
   "outputs": [
    {
     "data": {
      "text/plain": [
       "['C_ID;Metabolite Name;Activity Category;Biological Activity (Function);Target Species;Reference',\n",
       " '',\n",
       " '',\n",
       " 'C00000092;N6-Benzyladenine;Enhance stem growth;exhibit tuberization process;Allium cepa;Thomas,Hortc.Res.,12,(1972),77-79',\n",
       " 'C00000100;Indole-3-acetic acid\\nIAA;Enhance root growth;promote root elongation;Allium cepa;Diez,Planta,97,(1971),364-366',\n",
       " 'C00000100;Indole-3-acetic acid\\nIAA;Enhance root growth;inhibit root elongation;Allium cepa;Diez,Planta,97,(1971),364-366',\n",
       " 'C00001389;S-[(E)-Prop-1-enyl]-L-cysteine S-oxide;Irritant;the main lachrymatory principle, which is produced by the action of alliinase when cut or bruised;Allium cepa;Harborne,Phytochemical Dictionary Second Edition,Taylor and Francis,(1999),Chapter10',\n",
       " 'C00002359;Porritoxin;Phytotoxic;phytotoxin, a fungus causing black spot disease;Allium cepa;Harborne,Phytochemical Dictionary Second Edition,Taylor and Francis,(1999),Chapter31']"
      ]
     },
     "execution_count": 14,
     "metadata": {},
     "output_type": "execute_result"
    }
   ],
   "source": [
    "file_data"
   ]
  },
  {
   "cell_type": "code",
   "execution_count": 15,
   "metadata": {
    "ExecuteTime": {
     "end_time": "2020-07-03T18:26:31.860381Z",
     "start_time": "2020-07-03T18:26:31.848116Z"
    }
   },
   "outputs": [],
   "source": [
    "# Remove indexes which are header\n",
    "del(file_data[1:3])"
   ]
  },
  {
   "cell_type": "code",
   "execution_count": 16,
   "metadata": {
    "ExecuteTime": {
     "end_time": "2020-07-03T18:26:33.189976Z",
     "start_time": "2020-07-03T18:26:32.791340Z"
    }
   },
   "outputs": [],
   "source": [
    "# Convert to dataframe\n",
    "data_knapsck = pd.DataFrame(columns = file_data[0].split(';'),data = [row.split(';') for row in file_data[1:]])"
   ]
  },
  {
   "cell_type": "code",
   "execution_count": 17,
   "metadata": {
    "ExecuteTime": {
     "end_time": "2020-07-03T18:26:35.150348Z",
     "start_time": "2020-07-03T18:26:34.786653Z"
    }
   },
   "outputs": [
    {
     "data": {
      "text/html": [
       "<div>\n",
       "<style scoped>\n",
       "    .dataframe tbody tr th:only-of-type {\n",
       "        vertical-align: middle;\n",
       "    }\n",
       "\n",
       "    .dataframe tbody tr th {\n",
       "        vertical-align: top;\n",
       "    }\n",
       "\n",
       "    .dataframe thead th {\n",
       "        text-align: right;\n",
       "    }\n",
       "</style>\n",
       "<table border=\"1\" class=\"dataframe\">\n",
       "  <thead>\n",
       "    <tr style=\"text-align: right;\">\n",
       "      <th></th>\n",
       "      <th>C_ID</th>\n",
       "      <th>Metabolite Name</th>\n",
       "      <th>Activity Category</th>\n",
       "      <th>Biological Activity (Function)</th>\n",
       "      <th>Target Species</th>\n",
       "      <th>Reference</th>\n",
       "    </tr>\n",
       "  </thead>\n",
       "  <tbody>\n",
       "    <tr>\n",
       "      <th>0</th>\n",
       "      <td>C00000092</td>\n",
       "      <td>N6-Benzyladenine</td>\n",
       "      <td>Enhance stem growth</td>\n",
       "      <td>exhibit tuberization process</td>\n",
       "      <td>Allium cepa</td>\n",
       "      <td>Thomas,Hortc.Res.,12,(1972),77-79</td>\n",
       "    </tr>\n",
       "    <tr>\n",
       "      <th>1</th>\n",
       "      <td>C00000100</td>\n",
       "      <td>Indole-3-acetic acid\\nIAA</td>\n",
       "      <td>Enhance root growth</td>\n",
       "      <td>promote root elongation</td>\n",
       "      <td>Allium cepa</td>\n",
       "      <td>Diez,Planta,97,(1971),364-366</td>\n",
       "    </tr>\n",
       "    <tr>\n",
       "      <th>2</th>\n",
       "      <td>C00000100</td>\n",
       "      <td>Indole-3-acetic acid\\nIAA</td>\n",
       "      <td>Enhance root growth</td>\n",
       "      <td>inhibit root elongation</td>\n",
       "      <td>Allium cepa</td>\n",
       "      <td>Diez,Planta,97,(1971),364-366</td>\n",
       "    </tr>\n",
       "    <tr>\n",
       "      <th>3</th>\n",
       "      <td>C00001389</td>\n",
       "      <td>S-[(E)-Prop-1-enyl]-L-cysteine S-oxide</td>\n",
       "      <td>Irritant</td>\n",
       "      <td>the main lachrymatory principle, which is prod...</td>\n",
       "      <td>Allium cepa</td>\n",
       "      <td>Harborne,Phytochemical Dictionary Second Editi...</td>\n",
       "    </tr>\n",
       "    <tr>\n",
       "      <th>4</th>\n",
       "      <td>C00002359</td>\n",
       "      <td>Porritoxin</td>\n",
       "      <td>Phytotoxic</td>\n",
       "      <td>phytotoxin, a fungus causing black spot disease</td>\n",
       "      <td>Allium cepa</td>\n",
       "      <td>Harborne,Phytochemical Dictionary Second Editi...</td>\n",
       "    </tr>\n",
       "  </tbody>\n",
       "</table>\n",
       "</div>"
      ],
      "text/plain": [
       "        C_ID                         Metabolite Name    Activity Category  \\\n",
       "0  C00000092                        N6-Benzyladenine  Enhance stem growth   \n",
       "1  C00000100               Indole-3-acetic acid\\nIAA  Enhance root growth   \n",
       "2  C00000100               Indole-3-acetic acid\\nIAA  Enhance root growth   \n",
       "3  C00001389  S-[(E)-Prop-1-enyl]-L-cysteine S-oxide             Irritant   \n",
       "4  C00002359                              Porritoxin           Phytotoxic   \n",
       "\n",
       "                      Biological Activity (Function) Target Species  \\\n",
       "0                       exhibit tuberization process    Allium cepa   \n",
       "1                            promote root elongation    Allium cepa   \n",
       "2                            inhibit root elongation    Allium cepa   \n",
       "3  the main lachrymatory principle, which is prod...    Allium cepa   \n",
       "4    phytotoxin, a fungus causing black spot disease    Allium cepa   \n",
       "\n",
       "                                           Reference  \n",
       "0                  Thomas,Hortc.Res.,12,(1972),77-79  \n",
       "1                      Diez,Planta,97,(1971),364-366  \n",
       "2                      Diez,Planta,97,(1971),364-366  \n",
       "3  Harborne,Phytochemical Dictionary Second Editi...  \n",
       "4  Harborne,Phytochemical Dictionary Second Editi...  "
      ]
     },
     "execution_count": 17,
     "metadata": {},
     "output_type": "execute_result"
    }
   ],
   "source": [
    "data_knapsck"
   ]
  },
  {
   "cell_type": "markdown",
   "metadata": {},
   "source": [
    "**Get link to inspect**"
   ]
  },
  {
   "cell_type": "code",
   "execution_count": 18,
   "metadata": {
    "ExecuteTime": {
     "end_time": "2020-07-03T18:26:37.636880Z",
     "start_time": "2020-07-03T18:26:37.495169Z"
    }
   },
   "outputs": [
    {
     "name": "stdout",
     "output_type": "stream",
     "text": [
      "http://www.knapsackfamily.com/knapsack_core/information.php?sname=C_ID&word=C00000092\n",
      "http://www.knapsackfamily.com/knapsack_core/information.php?sname=C_ID&word=C00000100\n",
      "http://www.knapsackfamily.com/knapsack_core/information.php?sname=C_ID&word=C00000100\n",
      "http://www.knapsackfamily.com/knapsack_core/information.php?sname=C_ID&word=C00001389\n",
      "http://www.knapsackfamily.com/knapsack_core/information.php?sname=C_ID&word=C00002359\n"
     ]
    }
   ],
   "source": [
    "elems = table.find_elements_by_tag_name('a')\n",
    "link_data = []\n",
    "for elem in elems:\n",
    "    link = elem.get_attribute('href')\n",
    "    print(link)\n",
    "    link_data.append(link)"
   ]
  },
  {
   "cell_type": "code",
   "execution_count": 19,
   "metadata": {
    "ExecuteTime": {
     "end_time": "2020-07-03T18:26:39.290539Z",
     "start_time": "2020-07-03T18:26:39.276278Z"
    }
   },
   "outputs": [
    {
     "data": {
      "text/plain": [
       "['http://www.knapsackfamily.com/knapsack_core/information.php?sname=C_ID&word=C00000092',\n",
       " 'http://www.knapsackfamily.com/knapsack_core/information.php?sname=C_ID&word=C00000100',\n",
       " 'http://www.knapsackfamily.com/knapsack_core/information.php?sname=C_ID&word=C00000100',\n",
       " 'http://www.knapsackfamily.com/knapsack_core/information.php?sname=C_ID&word=C00001389',\n",
       " 'http://www.knapsackfamily.com/knapsack_core/information.php?sname=C_ID&word=C00002359']"
      ]
     },
     "execution_count": 19,
     "metadata": {},
     "output_type": "execute_result"
    }
   ],
   "source": [
    "link_data"
   ]
  },
  {
   "cell_type": "markdown",
   "metadata": {},
   "source": [
    "**Get the whole data**"
   ]
  },
  {
   "cell_type": "code",
   "execution_count": 20,
   "metadata": {
    "ExecuteTime": {
     "end_time": "2020-07-03T18:26:40.559640Z",
     "start_time": "2020-07-03T18:26:40.546048Z"
    }
   },
   "outputs": [],
   "source": [
    "data_knapsck_url = pd.concat([data_knapsck,pd.Series(data = link_data,name = 'Link')],axis=1)"
   ]
  },
  {
   "cell_type": "code",
   "execution_count": 21,
   "metadata": {
    "ExecuteTime": {
     "end_time": "2020-07-03T18:26:41.475714Z",
     "start_time": "2020-07-03T18:26:41.438526Z"
    }
   },
   "outputs": [
    {
     "data": {
      "text/html": [
       "<div>\n",
       "<style scoped>\n",
       "    .dataframe tbody tr th:only-of-type {\n",
       "        vertical-align: middle;\n",
       "    }\n",
       "\n",
       "    .dataframe tbody tr th {\n",
       "        vertical-align: top;\n",
       "    }\n",
       "\n",
       "    .dataframe thead th {\n",
       "        text-align: right;\n",
       "    }\n",
       "</style>\n",
       "<table border=\"1\" class=\"dataframe\">\n",
       "  <thead>\n",
       "    <tr style=\"text-align: right;\">\n",
       "      <th></th>\n",
       "      <th>C_ID</th>\n",
       "      <th>Metabolite Name</th>\n",
       "      <th>Activity Category</th>\n",
       "      <th>Biological Activity (Function)</th>\n",
       "      <th>Target Species</th>\n",
       "      <th>Reference</th>\n",
       "      <th>Link</th>\n",
       "    </tr>\n",
       "  </thead>\n",
       "  <tbody>\n",
       "    <tr>\n",
       "      <th>0</th>\n",
       "      <td>C00000092</td>\n",
       "      <td>N6-Benzyladenine</td>\n",
       "      <td>Enhance stem growth</td>\n",
       "      <td>exhibit tuberization process</td>\n",
       "      <td>Allium cepa</td>\n",
       "      <td>Thomas,Hortc.Res.,12,(1972),77-79</td>\n",
       "      <td>http://www.knapsackfamily.com/knapsack_core/in...</td>\n",
       "    </tr>\n",
       "    <tr>\n",
       "      <th>1</th>\n",
       "      <td>C00000100</td>\n",
       "      <td>Indole-3-acetic acid\\nIAA</td>\n",
       "      <td>Enhance root growth</td>\n",
       "      <td>promote root elongation</td>\n",
       "      <td>Allium cepa</td>\n",
       "      <td>Diez,Planta,97,(1971),364-366</td>\n",
       "      <td>http://www.knapsackfamily.com/knapsack_core/in...</td>\n",
       "    </tr>\n",
       "    <tr>\n",
       "      <th>2</th>\n",
       "      <td>C00000100</td>\n",
       "      <td>Indole-3-acetic acid\\nIAA</td>\n",
       "      <td>Enhance root growth</td>\n",
       "      <td>inhibit root elongation</td>\n",
       "      <td>Allium cepa</td>\n",
       "      <td>Diez,Planta,97,(1971),364-366</td>\n",
       "      <td>http://www.knapsackfamily.com/knapsack_core/in...</td>\n",
       "    </tr>\n",
       "    <tr>\n",
       "      <th>3</th>\n",
       "      <td>C00001389</td>\n",
       "      <td>S-[(E)-Prop-1-enyl]-L-cysteine S-oxide</td>\n",
       "      <td>Irritant</td>\n",
       "      <td>the main lachrymatory principle, which is prod...</td>\n",
       "      <td>Allium cepa</td>\n",
       "      <td>Harborne,Phytochemical Dictionary Second Editi...</td>\n",
       "      <td>http://www.knapsackfamily.com/knapsack_core/in...</td>\n",
       "    </tr>\n",
       "    <tr>\n",
       "      <th>4</th>\n",
       "      <td>C00002359</td>\n",
       "      <td>Porritoxin</td>\n",
       "      <td>Phytotoxic</td>\n",
       "      <td>phytotoxin, a fungus causing black spot disease</td>\n",
       "      <td>Allium cepa</td>\n",
       "      <td>Harborne,Phytochemical Dictionary Second Editi...</td>\n",
       "      <td>http://www.knapsackfamily.com/knapsack_core/in...</td>\n",
       "    </tr>\n",
       "  </tbody>\n",
       "</table>\n",
       "</div>"
      ],
      "text/plain": [
       "        C_ID                         Metabolite Name    Activity Category  \\\n",
       "0  C00000092                        N6-Benzyladenine  Enhance stem growth   \n",
       "1  C00000100               Indole-3-acetic acid\\nIAA  Enhance root growth   \n",
       "2  C00000100               Indole-3-acetic acid\\nIAA  Enhance root growth   \n",
       "3  C00001389  S-[(E)-Prop-1-enyl]-L-cysteine S-oxide             Irritant   \n",
       "4  C00002359                              Porritoxin           Phytotoxic   \n",
       "\n",
       "                      Biological Activity (Function) Target Species  \\\n",
       "0                       exhibit tuberization process    Allium cepa   \n",
       "1                            promote root elongation    Allium cepa   \n",
       "2                            inhibit root elongation    Allium cepa   \n",
       "3  the main lachrymatory principle, which is prod...    Allium cepa   \n",
       "4    phytotoxin, a fungus causing black spot disease    Allium cepa   \n",
       "\n",
       "                                           Reference  \\\n",
       "0                  Thomas,Hortc.Res.,12,(1972),77-79   \n",
       "1                      Diez,Planta,97,(1971),364-366   \n",
       "2                      Diez,Planta,97,(1971),364-366   \n",
       "3  Harborne,Phytochemical Dictionary Second Editi...   \n",
       "4  Harborne,Phytochemical Dictionary Second Editi...   \n",
       "\n",
       "                                                Link  \n",
       "0  http://www.knapsackfamily.com/knapsack_core/in...  \n",
       "1  http://www.knapsackfamily.com/knapsack_core/in...  \n",
       "2  http://www.knapsackfamily.com/knapsack_core/in...  \n",
       "3  http://www.knapsackfamily.com/knapsack_core/in...  \n",
       "4  http://www.knapsackfamily.com/knapsack_core/in...  "
      ]
     },
     "execution_count": 21,
     "metadata": {},
     "output_type": "execute_result"
    }
   ],
   "source": [
    "data_knapsck_url"
   ]
  }
 ],
 "metadata": {
  "kernelspec": {
   "display_name": "Python 3",
   "language": "python",
   "name": "python3"
  },
  "language_info": {
   "codemirror_mode": {
    "name": "ipython",
    "version": 3
   },
   "file_extension": ".py",
   "mimetype": "text/x-python",
   "name": "python",
   "nbconvert_exporter": "python",
   "pygments_lexer": "ipython3",
   "version": "3.6.9"
  }
 },
 "nbformat": 4,
 "nbformat_minor": 2
}
