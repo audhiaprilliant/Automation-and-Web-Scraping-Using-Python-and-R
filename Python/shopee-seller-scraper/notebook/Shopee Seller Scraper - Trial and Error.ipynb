{
 "cells": [
  {
   "cell_type": "markdown",
   "metadata": {},
   "source": [
    "# Import Modules"
   ]
  },
  {
   "cell_type": "code",
   "execution_count": 1,
   "metadata": {
    "ExecuteTime": {
     "end_time": "2020-07-06T10:12:15.089635Z",
     "start_time": "2020-07-06T10:12:09.634353Z"
    }
   },
   "outputs": [],
   "source": [
    "# Modules for web scraping\n",
    "from bs4 import BeautifulSoup\n",
    "from selenium import webdriver\n",
    "from selenium.webdriver.common.action_chains import ActionChains\n",
    "# URL encoding\n",
    "from requests.utils import requote_uri\n",
    "# Module for data manipulation\n",
    "import pandas as pd\n",
    "# Module for regular expression\n",
    "import re\n",
    "# Module for file management\n",
    "import os\n",
    "# Module for timing\n",
    "import time"
   ]
  },
  {
   "cell_type": "markdown",
   "metadata": {},
   "source": [
    "# Web Scraping"
   ]
  },
  {
   "cell_type": "markdown",
   "metadata": {},
   "source": [
    "**Chromedriver path**"
   ]
  },
  {
   "cell_type": "code",
   "execution_count": 2,
   "metadata": {
    "ExecuteTime": {
     "end_time": "2020-07-06T10:12:15.101837Z",
     "start_time": "2020-07-06T10:12:15.095448Z"
    }
   },
   "outputs": [],
   "source": [
    "# Options for Chrome windows\n",
    "options = webdriver.ChromeOptions()\n",
    "options.add_argument(\"--start-maximized\")\n",
    "options.add_argument('window-size=2560,1440')"
   ]
  },
  {
   "cell_type": "code",
   "execution_count": 3,
   "metadata": {
    "ExecuteTime": {
     "end_time": "2020-07-06T10:12:24.111928Z",
     "start_time": "2020-07-06T10:12:15.107889Z"
    }
   },
   "outputs": [],
   "source": [
    "DRIVER_PATH = '/home/audhi/github/Web-Scraping-Using-Python-and-R/Python/chromedriver'\n",
    "driver = webdriver.Chrome(executable_path = DRIVER_PATH,options=options)"
   ]
  },
  {
   "cell_type": "markdown",
   "metadata": {},
   "source": [
    "---"
   ]
  },
  {
   "cell_type": "markdown",
   "metadata": {},
   "source": [
    "### How to get the review from seller"
   ]
  },
  {
   "cell_type": "markdown",
   "metadata": {},
   "source": [
    "**URL and Query**"
   ]
  },
  {
   "cell_type": "code",
   "execution_count": 4,
   "metadata": {
    "ExecuteTime": {
     "end_time": "2020-07-06T10:12:30.969241Z",
     "start_time": "2020-07-06T10:12:30.951492Z"
    }
   },
   "outputs": [],
   "source": [
    "main_url = 'https://shopee.co.id'\n",
    "url = 'https://shopee.co.id/search?keyword='\n",
    "seller = 'headset'\n",
    "query_encode = requote_uri(seller.strip('').lower())\n",
    "url_query = url + query_encode\n",
    "dir_path = os.getcwd()"
   ]
  },
  {
   "cell_type": "markdown",
   "metadata": {},
   "source": [
    "**Keyword**"
   ]
  },
  {
   "cell_type": "code",
   "execution_count": 5,
   "metadata": {
    "ExecuteTime": {
     "end_time": "2020-07-06T10:12:35.344488Z",
     "start_time": "2020-07-06T10:12:35.315784Z"
    },
    "scrolled": true
   },
   "outputs": [
    {
     "data": {
      "text/plain": [
       "'https://shopee.co.id/search?keyword=headset'"
      ]
     },
     "execution_count": 5,
     "metadata": {},
     "output_type": "execute_result"
    }
   ],
   "source": [
    "url_query"
   ]
  },
  {
   "cell_type": "markdown",
   "metadata": {},
   "source": [
    "**Access website**"
   ]
  },
  {
   "cell_type": "code",
   "execution_count": 6,
   "metadata": {
    "ExecuteTime": {
     "end_time": "2020-07-06T10:12:51.755321Z",
     "start_time": "2020-07-06T10:12:36.696375Z"
    }
   },
   "outputs": [],
   "source": [
    "driver.get(url_query)\n",
    "driver.implicitly_wait(20)"
   ]
  },
  {
   "cell_type": "code",
   "execution_count": 7,
   "metadata": {
    "ExecuteTime": {
     "end_time": "2020-07-06T10:12:55.549020Z",
     "start_time": "2020-07-06T10:12:55.527197Z"
    }
   },
   "outputs": [
    {
     "data": {
      "text/plain": [
       "3877"
      ]
     },
     "execution_count": 7,
     "metadata": {},
     "output_type": "execute_result"
    }
   ],
   "source": [
    "# Document scrollHeight\n",
    "scroll_height = driver.execute_script('return document.documentElement.scrollHeight;')\n",
    "scroll_height"
   ]
  },
  {
   "cell_type": "code",
   "execution_count": 8,
   "metadata": {
    "ExecuteTime": {
     "end_time": "2020-07-06T10:13:28.677534Z",
     "start_time": "2020-07-06T10:12:58.138667Z"
    }
   },
   "outputs": [],
   "source": [
    "# Scroll down slowly\n",
    "scroll_height = driver.execute_script('return document.documentElement.scrollHeight;')\n",
    "for iter in range(0,scroll_height,200):\n",
    "    driver.execute_script('window.scrollTo(0, {});'.format(iter))\n",
    "    time.sleep(1.5)"
   ]
  },
  {
   "cell_type": "code",
   "execution_count": 9,
   "metadata": {
    "ExecuteTime": {
     "end_time": "2020-07-06T10:13:30.918587Z",
     "start_time": "2020-07-06T10:13:30.185963Z"
    }
   },
   "outputs": [],
   "source": [
    "soup = BeautifulSoup(driver.page_source,'html.parser')"
   ]
  },
  {
   "cell_type": "markdown",
   "metadata": {},
   "source": [
    "**Scrape seller identity - name and follower**"
   ]
  },
  {
   "cell_type": "code",
   "execution_count": 10,
   "metadata": {
    "ExecuteTime": {
     "end_time": "2020-07-06T10:13:32.269052Z",
     "start_time": "2020-07-06T10:13:32.126875Z"
    }
   },
   "outputs": [],
   "source": [
    "nickname = soup.find(attrs={'class':'shopee-search-user-item__nickname'}).text\n",
    "username = soup.find(attrs={'class':'shopee-search-user-item__username'}).text\n",
    "follower_following = soup.find(attrs={'class':'shopee-search-user-item__follow-count'}).text"
   ]
  },
  {
   "cell_type": "code",
   "execution_count": 11,
   "metadata": {
    "ExecuteTime": {
     "end_time": "2020-07-06T10:13:34.114934Z",
     "start_time": "2020-07-06T10:13:34.104785Z"
    }
   },
   "outputs": [
    {
     "name": "stdout",
     "output_type": "stream",
     "text": [
      "SoundMagic Indonesia Official \n",
      "soundmagic.indonesia\n",
      "1,6RB pengikut | 1 mengikuti\n"
     ]
    }
   ],
   "source": [
    "print(nickname)\n",
    "print(username)\n",
    "print(follower_following)"
   ]
  },
  {
   "cell_type": "markdown",
   "metadata": {},
   "source": [
    "**Scrape number of product, rating star, service satisfaction**"
   ]
  },
  {
   "cell_type": "code",
   "execution_count": 12,
   "metadata": {
    "ExecuteTime": {
     "end_time": "2020-07-06T10:13:35.456538Z",
     "start_time": "2020-07-06T10:13:35.405707Z"
    }
   },
   "outputs": [],
   "source": [
    "elem_seller = soup.find(attrs={'class':'shopee-search-user-item__statistics'})"
   ]
  },
  {
   "cell_type": "code",
   "execution_count": 13,
   "metadata": {
    "ExecuteTime": {
     "end_time": "2020-07-06T10:13:36.487934Z",
     "start_time": "2020-07-06T10:13:36.480017Z"
    },
    "code_folding": []
   },
   "outputs": [],
   "source": [
    "elem_list = []\n",
    "for elem in elem_seller:\n",
    "    stat_seller = elem.find('span',attrs={'class':'shopee-search-user-seller-info-item__primary-text'}).text\n",
    "    elem_list.append(stat_seller)"
   ]
  },
  {
   "cell_type": "code",
   "execution_count": 14,
   "metadata": {
    "ExecuteTime": {
     "end_time": "2020-07-06T10:13:38.286417Z",
     "start_time": "2020-07-06T10:13:38.271757Z"
    }
   },
   "outputs": [
    {
     "data": {
      "text/plain": [
       "['39', '4.6', '100%', 'hitungan jam']"
      ]
     },
     "execution_count": 14,
     "metadata": {},
     "output_type": "execute_result"
    }
   ],
   "source": [
    "elem_list"
   ]
  },
  {
   "cell_type": "code",
   "execution_count": 15,
   "metadata": {
    "ExecuteTime": {
     "end_time": "2020-07-06T10:13:40.686179Z",
     "start_time": "2020-07-06T10:13:40.649166Z"
    }
   },
   "outputs": [],
   "source": [
    "sub_query = soup.find('a',attrs={'class':'shopee-search-user-item__shop-info'})['href']"
   ]
  },
  {
   "cell_type": "markdown",
   "metadata": {},
   "source": [
    "**Come in to seller's homepage**"
   ]
  },
  {
   "cell_type": "code",
   "execution_count": 16,
   "metadata": {
    "ExecuteTime": {
     "end_time": "2020-07-06T10:13:44.825155Z",
     "start_time": "2020-07-06T10:13:42.106437Z"
    }
   },
   "outputs": [],
   "source": [
    "driver.get('https://shopee.co.id/soundmagic.indonesia')\n",
    "driver.implicitly_wait(20)"
   ]
  },
  {
   "cell_type": "markdown",
   "metadata": {},
   "source": [
    "**Scrape the seller identity in their homepage**"
   ]
  },
  {
   "cell_type": "code",
   "execution_count": 17,
   "metadata": {
    "ExecuteTime": {
     "end_time": "2020-07-06T10:13:49.444584Z",
     "start_time": "2020-07-06T10:13:49.274509Z"
    }
   },
   "outputs": [],
   "source": [
    "identity_seller = driver.find_elements_by_class_name('section-seller-overview-horizontal__seller-info-list')"
   ]
  },
  {
   "cell_type": "code",
   "execution_count": 18,
   "metadata": {
    "ExecuteTime": {
     "end_time": "2020-07-06T10:13:51.417181Z",
     "start_time": "2020-07-06T10:13:51.396191Z"
    }
   },
   "outputs": [
    {
     "data": {
      "text/plain": [
       "[<selenium.webdriver.remote.webelement.WebElement (session=\"62a8899498d844c405836ca27382484e\", element=\"cac3542a-ff6b-4f77-8f8f-2c10a63c3d7c\")>]"
      ]
     },
     "execution_count": 18,
     "metadata": {},
     "output_type": "execute_result"
    }
   ],
   "source": [
    "identity_seller"
   ]
  },
  {
   "cell_type": "code",
   "execution_count": 19,
   "metadata": {
    "ExecuteTime": {
     "end_time": "2020-07-06T10:13:52.747368Z",
     "start_time": "2020-07-06T10:13:52.702473Z"
    }
   },
   "outputs": [],
   "source": [
    "identity_seller_list = identity_seller[0].find_elements_by_class_name('section-seller-overview__item-text-value')"
   ]
  },
  {
   "cell_type": "code",
   "execution_count": 20,
   "metadata": {
    "ExecuteTime": {
     "end_time": "2020-07-06T10:13:54.251970Z",
     "start_time": "2020-07-06T10:13:53.836876Z"
    }
   },
   "outputs": [
    {
     "data": {
      "text/plain": [
       "['39',\n",
       " '',\n",
       " '1',\n",
       " '',\n",
       " '100% (Hitungan Jam)',\n",
       " '',\n",
       " '1,6RB',\n",
       " '',\n",
       " '4.6 (648 Penilaian)',\n",
       " '',\n",
       " '24 Bulan Lalu',\n",
       " '']"
      ]
     },
     "execution_count": 20,
     "metadata": {},
     "output_type": "execute_result"
    }
   ],
   "source": [
    "identity_list = []\n",
    "for elem in identity_seller_list:\n",
    "    identity = elem.text\n",
    "    identity_list.append(identity)\n",
    "identity_list"
   ]
  },
  {
   "cell_type": "code",
   "execution_count": 21,
   "metadata": {
    "ExecuteTime": {
     "end_time": "2020-07-06T10:13:55.434347Z",
     "start_time": "2020-07-06T10:13:55.424944Z"
    }
   },
   "outputs": [
    {
     "data": {
      "text/plain": [
       "['39',\n",
       " '1',\n",
       " '100% (Hitungan Jam)',\n",
       " '1,6RB',\n",
       " '4.6 (648 Penilaian)',\n",
       " '24 Bulan Lalu']"
      ]
     },
     "execution_count": 21,
     "metadata": {},
     "output_type": "execute_result"
    }
   ],
   "source": [
    "identity_list_fix = [item for item in identity_list if item != '']\n",
    "identity_list_fix"
   ]
  },
  {
   "cell_type": "code",
   "execution_count": 22,
   "metadata": {
    "ExecuteTime": {
     "end_time": "2020-07-06T10:13:56.830392Z",
     "start_time": "2020-07-06T10:13:56.786337Z"
    }
   },
   "outputs": [],
   "source": [
    "navbar = driver.find_elements_by_class_name('navbar-with-more-menu__item')"
   ]
  },
  {
   "cell_type": "code",
   "execution_count": 23,
   "metadata": {
    "ExecuteTime": {
     "end_time": "2020-07-06T10:13:57.675191Z",
     "start_time": "2020-07-06T10:13:57.663728Z"
    }
   },
   "outputs": [
    {
     "data": {
      "text/plain": [
       "3"
      ]
     },
     "execution_count": 23,
     "metadata": {},
     "output_type": "execute_result"
    }
   ],
   "source": [
    "len(navbar)"
   ]
  },
  {
   "cell_type": "markdown",
   "metadata": {},
   "source": [
    "**Look at all products**"
   ]
  },
  {
   "cell_type": "code",
   "execution_count": 24,
   "metadata": {
    "ExecuteTime": {
     "end_time": "2020-07-06T10:13:59.526144Z",
     "start_time": "2020-07-06T10:13:59.475778Z"
    }
   },
   "outputs": [
    {
     "data": {
      "text/plain": [
       "['https://shopee.co.id/soundmagic.indonesia',\n",
       " 'https://shopee.co.id/shop/79849470/search',\n",
       " 'https://shopee.co.id/shop/79849470/search?shopCollection=11153701']"
      ]
     },
     "execution_count": 24,
     "metadata": {},
     "output_type": "execute_result"
    }
   ],
   "source": [
    "list_link = []\n",
    "for elem in navbar:\n",
    "    link = elem.get_attribute('href')\n",
    "    list_link.append(link)\n",
    "list_link"
   ]
  },
  {
   "cell_type": "code",
   "execution_count": 25,
   "metadata": {
    "ExecuteTime": {
     "end_time": "2020-07-06T10:14:01.596794Z",
     "start_time": "2020-07-06T10:14:01.012345Z"
    }
   },
   "outputs": [],
   "source": [
    "driver.get(list_link[1])\n",
    "driver.implicitly_wait(20)"
   ]
  },
  {
   "cell_type": "code",
   "execution_count": 26,
   "metadata": {
    "ExecuteTime": {
     "end_time": "2020-07-06T10:14:23.937200Z",
     "start_time": "2020-07-06T10:14:07.147681Z"
    }
   },
   "outputs": [],
   "source": [
    "# Scroll down slowly\n",
    "scroll_height = driver.execute_script('return document.documentElement.scrollHeight;')\n",
    "for iter in range(0,scroll_height,200):\n",
    "    driver.execute_script('window.scrollTo(0, {});'.format(iter))\n",
    "    time.sleep(1.5)"
   ]
  },
  {
   "cell_type": "markdown",
   "metadata": {},
   "source": [
    "**List all product and its characteristics**"
   ]
  },
  {
   "cell_type": "code",
   "execution_count": 27,
   "metadata": {
    "ExecuteTime": {
     "end_time": "2020-07-06T10:14:24.771534Z",
     "start_time": "2020-07-06T10:14:24.735372Z"
    },
    "scrolled": true
   },
   "outputs": [],
   "source": [
    "product_list = driver.find_elements_by_class_name('shop-search-result-view')"
   ]
  },
  {
   "cell_type": "code",
   "execution_count": 28,
   "metadata": {
    "ExecuteTime": {
     "end_time": "2020-07-06T10:14:25.801916Z",
     "start_time": "2020-07-06T10:14:25.793349Z"
    }
   },
   "outputs": [
    {
     "data": {
      "text/plain": [
       "<selenium.webdriver.remote.webelement.WebElement (session=\"62a8899498d844c405836ca27382484e\", element=\"03a0ab48-1c4d-4e7d-a864-9fc41647e551\")>"
      ]
     },
     "execution_count": 28,
     "metadata": {},
     "output_type": "execute_result"
    }
   ],
   "source": [
    "product_list[0]"
   ]
  },
  {
   "cell_type": "code",
   "execution_count": 29,
   "metadata": {
    "ExecuteTime": {
     "end_time": "2020-07-06T10:14:28.201635Z",
     "start_time": "2020-07-06T10:14:27.826448Z"
    },
    "scrolled": false
   },
   "outputs": [
    {
     "data": {
      "text/plain": [
       "['https://shopee.co.id/SoundMagic-ES18S-Green-In-Earphone-WIth-Mic-Garansi-Resmi-1-Tahun-i.79849470.1540892606',\n",
       " 'https://shopee.co.id/SoundMAGIC-ES18-Orange-In-Earphone-Non-Mic-Garansi-Resmi-1-tahun-i.79849470.1347518477',\n",
       " 'https://shopee.co.id/SoundMagic-E11C-In-Earphone-With-Mic-Garansi-Resmi-1-Tahun-(HOT-PRODUCT-Paling-Laris)-i.79849470.1540922945',\n",
       " 'https://shopee.co.id/SoundMAGIC-ES18-In-Earphone-Non-Mic-Green-Garansi-Resmi-1-tahun-i.79849470.1335845309',\n",
       " 'https://shopee.co.id/SoundMagic-ES19S-In-Earphone-With-Mic-White-(NEW-PRODUCT)-Garansi-Resmi-1-Tahun-i.79849470.1566440074',\n",
       " 'https://shopee.co.id/SoundMAGIC-E10C-In-Earphone-Silver-Garansi-Resmi-1-Tahun-(Yang-Paling-Banyak-dapat-penghargaan)-i.79849470.1347580205',\n",
       " 'https://shopee.co.id/SoundMAGIC-ES18-Black-In-Earphone-Non-Mic-Garansi-Resmi-1-tahun-i.79849470.1347501038',\n",
       " 'https://shopee.co.id/SoundMAGIC-ES18-Red-In-Earphone-Non-Mic-Garansi-Resmi-1-tahun-i.79849470.1347512093',\n",
       " 'https://shopee.co.id/SoundMAGIC-E10-in-Earphone-Blue-Garansi-Resmi-1-tahun-i.79849470.1335779072',\n",
       " 'https://shopee.co.id/SoundMagic-Bluetooth-Earphone-In-Ear-Isolating-ES20BT-Black-(NEW-PRODUCT)-Garansi-Resmi-1-Tahun-i.79849470.1803333081',\n",
       " 'https://shopee.co.id/SoundMAGIC-E10C-In-Earphone-Red-Garansi-Resmi-1-Tahun-(paling-Banyak-Mendapatkan-Penghargaan)-i.79849470.1347548277',\n",
       " 'https://shopee.co.id/SoundMAGIC-E10BT-Bluetooth-Earphones-with-Smartphone-Controls-Mic-Garansi-Resmi-1-Tahun-i.79849470.1347047207',\n",
       " 'https://shopee.co.id/SoundMAGIC-E10-Red-in-Earphone-Garansi-Resmi-1-tahun-i.79849470.1349204677',\n",
       " 'https://shopee.co.id/SoundMAGIC-E10-in-Earphone-Gold-Garansi-Resmi-1-tahun-i.79849470.1349211942',\n",
       " 'https://shopee.co.id/SoundMagic-P22BT-Headphone-Bluetooth-Portable-With-Mic-(NEW-PRODUCT)-Garansi-Resmi-1-Tahun-i.79849470.1759213591',\n",
       " 'https://shopee.co.id/SoundMAGIC-E10C-In-Earphone-Gold-Garansi-Resmi-1-Tahun-i.79849470.1347571174',\n",
       " 'https://shopee.co.id/SoundMAGIC-P11S-Black-Red-Garansi-Resmi-1-Tahun-i.79849470.1347186426',\n",
       " 'https://shopee.co.id/New-Old-Stock-SoundMAGIC-E80C-Silver-In-Ear-Isolating-Earphones-with-Mic-Garansi-Resmi-1-Bulan-i.79849470.1347408520',\n",
       " 'https://shopee.co.id/New-Old-Stock-SoundMAGIC-E50C-In-Ear-Isolating-Earphones-with-Mic-Silver-Garansi-1-Bulan-i.79849470.1347072275',\n",
       " 'https://shopee.co.id/SoundMAGIC-P22BT-Portable-Wireless-Bluetooth-Headphones-(NEW-PRODUK)-Garansi-Resmi-1-Tahun-i.79849470.1802804621',\n",
       " 'https://shopee.co.id/SoundMAGIC-E10C-In-Earphone-Blue-Garansi-Resmi-1-Tahun-(paling-banyak-mendapatkan-pengharagaan)-i.79849470.1335755250',\n",
       " 'https://shopee.co.id/SoundMAGIC-E80C-In-Ear-Isolating-Earphones-with-Mic-Gold-Garansi-Resmi-1-Tahun-i.79849470.1347110869',\n",
       " 'https://shopee.co.id/New-Old-Stock-SoundMAGIC-E30-Pink-In-Earphone-Garansi-Resmi-1-Bulan-No-Box-i.79849470.6940169486',\n",
       " 'https://shopee.co.id/New-Old-Stock-SoundMAGIC-PL30-Black-in-Earphone-Garansi-Resmi-1-Bulan-i.79849470.5140173051',\n",
       " 'https://shopee.co.id/New-Old-Stock-SoundMAGIC-PL20-in-Earphone-Garansi-Resmi-1-Bulan-i.79849470.5140168726']"
      ]
     },
     "execution_count": 29,
     "metadata": {},
     "output_type": "execute_result"
    }
   ],
   "source": [
    "# URL\n",
    "product_link = []\n",
    "link = product_list[0].find_elements_by_tag_name('a')\n",
    "for elem in link:\n",
    "    link_elem = elem.get_attribute('href')\n",
    "    product_link.append(link_elem)\n",
    "product_link"
   ]
  },
  {
   "cell_type": "code",
   "execution_count": 30,
   "metadata": {
    "ExecuteTime": {
     "end_time": "2020-07-06T10:14:30.540228Z",
     "start_time": "2020-07-06T10:14:29.577491Z"
    },
    "scrolled": true
   },
   "outputs": [
    {
     "data": {
      "text/plain": [
       "['SoundMagic ES18S Green In Earphone WIth Mic Garansi Resmi 1 Tahun',\n",
       " 'SoundMAGIC ES18 Orange In Earphone Non Mic Garansi Resmi 1 tahun',\n",
       " 'SoundMagic E11C In Earphone With Mic Garansi Resmi 1 Tahun (HOT PRODUCT Paling Laris)',\n",
       " 'SoundMAGIC ES18 In Earphone Non Mic Green Garansi Resmi 1 tahun',\n",
       " 'SoundMagic ES19S In Earphone With Mic White (NEW PRODUCT) Garansi Resmi 1 Tahun',\n",
       " 'SoundMAGIC E10C In Earphone Silver Garansi Resmi 1 Tahun (Yang Paling Banyak dapat penghargaan)',\n",
       " 'SoundMAGIC ES18 Black In Earphone Non Mic Garansi Resmi 1 tahun',\n",
       " 'SoundMAGIC ES18 Red In Earphone Non Mic Garansi Resmi 1 tahun',\n",
       " 'SoundMAGIC E10 in Earphone Blue Garansi Resmi 1 tahun',\n",
       " 'SoundMagic Bluetooth Earphone In Ear Isolating - ES20BT - Black (NEW PRODUCT) Garansi Resmi 1 Tahun',\n",
       " 'SoundMAGIC E10C In Earphone Red Garansi Resmi 1 Tahun (paling Banyak Mendapatkan Penghargaan)',\n",
       " 'SoundMAGIC E10BT Bluetooth Earphones with Smartphone Controls & Mic Garansi Resmi 1 Tahun',\n",
       " 'SoundMAGIC E10 Red in Earphone Garansi Resmi 1 tahun',\n",
       " 'SoundMAGIC E10 in Earphone Gold Garansi Resmi 1 tahun',\n",
       " 'SoundMagic P22BT Headphone Bluetooth Portable With Mic (NEW PRODUCT) Garansi Resmi 1 Tahun',\n",
       " 'SoundMAGIC E10C In Earphone Gold Garansi Resmi 1 Tahun',\n",
       " 'SoundMAGIC P11S Black Red Garansi Resmi 1 Tahun',\n",
       " 'New Old Stock SoundMAGIC E80C Silver In Ear Isolating Earphones with Mic Garansi Resmi 1 Bulan',\n",
       " 'New Old Stock SoundMAGIC E50C In Ear Isolating Earphones with Mic Silver Garansi 1 Bulan',\n",
       " 'SoundMAGIC P22BT Portable Wireless Bluetooth Headphones (NEW PRODUK) Garansi Resmi 1 Tahun',\n",
       " 'SoundMAGIC E10C In Earphone Blue Garansi Resmi 1 Tahun (paling banyak mendapatkan pengharagaan)',\n",
       " 'SoundMAGIC E80C In Ear Isolating Earphones with Mic Gold Garansi Resmi 1 Tahun',\n",
       " 'New Old Stock SoundMAGIC E30 Pink In Earphone Garansi Resmi 1 Bulan No Box',\n",
       " 'New Old Stock SoundMAGIC PL30+ Black in Earphone Garansi Resmi 1 Bulan',\n",
       " 'New Old Stock SoundMAGIC PL20 in Earphone Garansi Resmi 1 Bulan']"
      ]
     },
     "execution_count": 30,
     "metadata": {},
     "output_type": "execute_result"
    }
   ],
   "source": [
    "# Product name\n",
    "product_name = []\n",
    "product = product_list[0].find_elements_by_class_name('O6wiAW')\n",
    "for elem in product:\n",
    "    name_elem = elem.text\n",
    "    product_name.append(name_elem)\n",
    "product_name"
   ]
  },
  {
   "cell_type": "code",
   "execution_count": 31,
   "metadata": {
    "ExecuteTime": {
     "end_time": "2020-07-06T10:14:35.420277Z",
     "start_time": "2020-07-06T10:14:33.337124Z"
    },
    "scrolled": false
   },
   "outputs": [
    {
     "data": {
      "text/plain": [
       "['Rp175.000',\n",
       " 'Rp149.000',\n",
       " 'Rp635.000',\n",
       " 'Rp149.000',\n",
       " 'Rp225.000',\n",
       " 'Rp525.000',\n",
       " 'Rp149.000',\n",
       " 'Rp149.000',\n",
       " 'Rp435.000',\n",
       " 'Rp395.000',\n",
       " 'Rp525.000',\n",
       " 'Rp585.000\\nRp365.000',\n",
       " 'Rp435.000',\n",
       " 'Rp435.000',\n",
       " 'Rp700.000',\n",
       " 'Rp525.000',\n",
       " 'Rp250.000',\n",
       " 'Rp626.500',\n",
       " 'Rp750.000',\n",
       " 'Rp700.000',\n",
       " 'Rp525.000',\n",
       " 'Rp895.000',\n",
       " 'Rp247.500',\n",
       " 'Rp365.000',\n",
       " 'Rp94.500']"
      ]
     },
     "execution_count": 31,
     "metadata": {},
     "output_type": "execute_result"
    }
   ],
   "source": [
    "# Product price\n",
    "product_price = []\n",
    "price = product_list[0].find_elements_by_class_name('_2lBkmX')\n",
    "for elem in price:\n",
    "    price_elem = elem.text\n",
    "    product_price.append(price_elem)\n",
    "product_price"
   ]
  },
  {
   "cell_type": "code",
   "execution_count": 32,
   "metadata": {
    "ExecuteTime": {
     "end_time": "2020-07-06T10:14:36.365528Z",
     "start_time": "2020-07-06T10:14:36.330371Z"
    }
   },
   "outputs": [],
   "source": [
    "rating = product_list[0].find_elements_by_class_name('_2bRB2L')"
   ]
  },
  {
   "cell_type": "code",
   "execution_count": 33,
   "metadata": {
    "ExecuteTime": {
     "end_time": "2020-07-06T10:14:38.130151Z",
     "start_time": "2020-07-06T10:14:38.122100Z"
    }
   },
   "outputs": [
    {
     "data": {
      "text/plain": [
       "25"
      ]
     },
     "execution_count": 33,
     "metadata": {},
     "output_type": "execute_result"
    }
   ],
   "source": [
    "len(rating)"
   ]
  },
  {
   "cell_type": "code",
   "execution_count": 34,
   "metadata": {
    "ExecuteTime": {
     "end_time": "2020-07-06T10:14:41.277818Z",
     "start_time": "2020-07-06T10:14:41.241895Z"
    }
   },
   "outputs": [
    {
     "data": {
      "text/plain": [
       "5"
      ]
     },
     "execution_count": 34,
     "metadata": {},
     "output_type": "execute_result"
    }
   ],
   "source": [
    "rating_elem = len(rating[0].find_elements_by_class_name('shopee-rating-stars__star-wrapper'))\n",
    "rating_elem"
   ]
  },
  {
   "cell_type": "code",
   "execution_count": 35,
   "metadata": {
    "ExecuteTime": {
     "end_time": "2020-07-06T10:17:03.942175Z",
     "start_time": "2020-07-06T10:14:43.072768Z"
    },
    "scrolled": true
   },
   "outputs": [
    {
     "data": {
      "text/plain": [
       "[5, 5, 5, 5, 5, 5, 5, 5, 5, 5, 5, 5, 5, 5, 0, 0, 0, 5, 5, 5, 5, 0, 0, 0, 0]"
      ]
     },
     "execution_count": 35,
     "metadata": {},
     "output_type": "execute_result"
    }
   ],
   "source": [
    "# Rating\n",
    "product_rating = []\n",
    "rating = product_list[0].find_elements_by_class_name('_2bRB2L')\n",
    "for elem in rating:\n",
    "    rating_elem = len(elem.find_elements_by_class_name('shopee-rating-stars__star-wrapper'))\n",
    "    product_rating.append(rating_elem)\n",
    "product_rating"
   ]
  },
  {
   "cell_type": "code",
   "execution_count": 36,
   "metadata": {
    "ExecuteTime": {
     "end_time": "2020-07-06T10:17:03.957593Z",
     "start_time": "2020-07-06T10:17:03.949264Z"
    }
   },
   "outputs": [
    {
     "data": {
      "text/plain": [
       "25"
      ]
     },
     "execution_count": 36,
     "metadata": {},
     "output_type": "execute_result"
    }
   ],
   "source": [
    "len(product_rating)"
   ]
  },
  {
   "cell_type": "code",
   "execution_count": 37,
   "metadata": {
    "ExecuteTime": {
     "end_time": "2020-07-06T10:20:30.305949Z",
     "start_time": "2020-07-06T10:20:29.417187Z"
    }
   },
   "outputs": [
    {
     "data": {
      "text/plain": [
       "['81 Terjual',\n",
       " '65 Terjual',\n",
       " '79 Terjual',\n",
       " '33 Terjual',\n",
       " '16 Terjual',\n",
       " '34 Terjual',\n",
       " '16 Terjual',\n",
       " '6 Terjual',\n",
       " '2 Terjual',\n",
       " '1 Terjual',\n",
       " '27 Terjual',\n",
       " '8 Terjual',\n",
       " '6 Terjual',\n",
       " '5 Terjual',\n",
       " '',\n",
       " '1 Terjual',\n",
       " '',\n",
       " '1 Terjual',\n",
       " '3 Terjual',\n",
       " '2 Terjual',\n",
       " '3 Terjual',\n",
       " '',\n",
       " '',\n",
       " '',\n",
       " '']"
      ]
     },
     "execution_count": 37,
     "metadata": {},
     "output_type": "execute_result"
    }
   ],
   "source": [
    "# Number of product sold out\n",
    "product_sold = []\n",
    "sold = product_list[0].find_elements_by_class_name('_18SLBt')\n",
    "for elem in sold:\n",
    "    sold_elem = elem.text\n",
    "    product_sold.append(sold_elem)\n",
    "product_sold"
   ]
  },
  {
   "cell_type": "code",
   "execution_count": 38,
   "metadata": {
    "ExecuteTime": {
     "end_time": "2020-07-06T10:20:33.424002Z",
     "start_time": "2020-07-06T10:20:32.307399Z"
    },
    "scrolled": false
   },
   "outputs": [
    {
     "data": {
      "text/plain": [
       "['KOTA JAKARTA PUSAT',\n",
       " 'KOTA JAKARTA PUSAT',\n",
       " 'KOTA JAKARTA PUSAT',\n",
       " 'KOTA JAKARTA PUSAT',\n",
       " 'KOTA JAKARTA PUSAT',\n",
       " 'KOTA JAKARTA PUSAT',\n",
       " 'KOTA JAKARTA PUSAT',\n",
       " 'KOTA JAKARTA PUSAT',\n",
       " 'KOTA JAKARTA PUSAT',\n",
       " 'KOTA JAKARTA PUSAT',\n",
       " 'KOTA JAKARTA PUSAT',\n",
       " 'KOTA JAKARTA PUSAT',\n",
       " 'KOTA JAKARTA PUSAT',\n",
       " 'KOTA JAKARTA PUSAT',\n",
       " 'KOTA JAKARTA PUSAT',\n",
       " 'KOTA JAKARTA PUSAT',\n",
       " 'KOTA JAKARTA PUSAT',\n",
       " 'KOTA JAKARTA PUSAT',\n",
       " 'KOTA JAKARTA PUSAT',\n",
       " 'KOTA JAKARTA PUSAT',\n",
       " 'KOTA JAKARTA PUSAT',\n",
       " 'KOTA JAKARTA PUSAT',\n",
       " 'KOTA JAKARTA PUSAT',\n",
       " 'KOTA JAKARTA PUSAT',\n",
       " 'KOTA JAKARTA PUSAT']"
      ]
     },
     "execution_count": 38,
     "metadata": {},
     "output_type": "execute_result"
    }
   ],
   "source": [
    "# Place\n",
    "product_place = []\n",
    "place = product_list[0].find_elements_by_class_name('_3amru2')\n",
    "for elem in place:\n",
    "    place_elem = elem.text\n",
    "    product_place.append(place_elem)\n",
    "product_place"
   ]
  },
  {
   "cell_type": "markdown",
   "metadata": {},
   "source": [
    "**Create dataframe**"
   ]
  },
  {
   "cell_type": "code",
   "execution_count": 39,
   "metadata": {
    "ExecuteTime": {
     "end_time": "2020-07-06T10:20:35.626586Z",
     "start_time": "2020-07-06T10:20:35.609610Z"
    }
   },
   "outputs": [
    {
     "data": {
      "text/plain": [
       "['39',\n",
       " '1',\n",
       " '100% (Hitungan Jam)',\n",
       " '1,6RB',\n",
       " '4.6 (648 Penilaian)',\n",
       " '24 Bulan Lalu']"
      ]
     },
     "execution_count": 39,
     "metadata": {},
     "output_type": "execute_result"
    }
   ],
   "source": [
    "identity_list_fix"
   ]
  },
  {
   "cell_type": "code",
   "execution_count": 40,
   "metadata": {
    "ExecuteTime": {
     "end_time": "2020-07-06T10:20:36.990062Z",
     "start_time": "2020-07-06T10:20:36.977591Z"
    }
   },
   "outputs": [],
   "source": [
    "nickname_seller = [nickname] * len(product_link)\n",
    "username_seller = [username] * len(product_link)\n",
    "following = [identity_list_fix[1]] * len(product_link)\n",
    "follower = [identity_list_fix[3]] * len(product_link)\n",
    "num_product = [identity_list_fix[0]] * len(product_link)\n",
    "rating = [identity_list_fix[4]] * len(product_link)\n",
    "chat_service = [identity_list_fix[2]] * len(product_link)\n",
    "sale_age = [identity_list_fix[5]] * len(product_link)"
   ]
  },
  {
   "cell_type": "code",
   "execution_count": 41,
   "metadata": {
    "ExecuteTime": {
     "end_time": "2020-07-06T10:20:38.965511Z",
     "start_time": "2020-07-06T10:20:38.914867Z"
    }
   },
   "outputs": [],
   "source": [
    "data_seller = pd.concat([pd.Series(nickname_seller,name='nickname_seller'),\n",
    "                         pd.Series(username_seller,name='username_seller'),\n",
    "                         pd.Series(follower,name='follower'),\n",
    "                         pd.Series(following,name='following'),\n",
    "                         pd.Series(num_product,name='num_product'),\n",
    "                         pd.Series(rating,name='rating'),\n",
    "                         pd.Series(chat_service,name='chat_service'),\n",
    "                         pd.Series(sale_age,name='sale_age'),\n",
    "                         pd.Series(product_name,name='product_name'),\n",
    "                         pd.Series(product_price,name='product_price'),\n",
    "                         pd.Series(product_rating,name='product_rating'),\n",
    "                         pd.Series(product_sold,name='product_sold'),\n",
    "                         pd.Series(product_place,name='product_place'),\n",
    "                         pd.Series(product_link,name='product_link')],axis=1)"
   ]
  },
  {
   "cell_type": "code",
   "execution_count": 42,
   "metadata": {
    "ExecuteTime": {
     "end_time": "2020-07-06T10:20:40.117066Z",
     "start_time": "2020-07-06T10:20:39.989649Z"
    },
    "scrolled": false
   },
   "outputs": [
    {
     "data": {
      "text/html": [
       "<div>\n",
       "<style scoped>\n",
       "    .dataframe tbody tr th:only-of-type {\n",
       "        vertical-align: middle;\n",
       "    }\n",
       "\n",
       "    .dataframe tbody tr th {\n",
       "        vertical-align: top;\n",
       "    }\n",
       "\n",
       "    .dataframe thead th {\n",
       "        text-align: right;\n",
       "    }\n",
       "</style>\n",
       "<table border=\"1\" class=\"dataframe\">\n",
       "  <thead>\n",
       "    <tr style=\"text-align: right;\">\n",
       "      <th></th>\n",
       "      <th>nickname_seller</th>\n",
       "      <th>username_seller</th>\n",
       "      <th>follower</th>\n",
       "      <th>following</th>\n",
       "      <th>num_product</th>\n",
       "      <th>rating</th>\n",
       "      <th>chat_service</th>\n",
       "      <th>sale_age</th>\n",
       "      <th>product_name</th>\n",
       "      <th>product_price</th>\n",
       "      <th>product_rating</th>\n",
       "      <th>product_sold</th>\n",
       "      <th>product_place</th>\n",
       "      <th>product_link</th>\n",
       "    </tr>\n",
       "  </thead>\n",
       "  <tbody>\n",
       "    <tr>\n",
       "      <th>0</th>\n",
       "      <td>SoundMagic Indonesia Official</td>\n",
       "      <td>soundmagic.indonesia</td>\n",
       "      <td>1,6RB</td>\n",
       "      <td>1</td>\n",
       "      <td>39</td>\n",
       "      <td>4.6 (648 Penilaian)</td>\n",
       "      <td>100% (Hitungan Jam)</td>\n",
       "      <td>24 Bulan Lalu</td>\n",
       "      <td>SoundMagic ES18S Green In Earphone WIth Mic Ga...</td>\n",
       "      <td>Rp175.000</td>\n",
       "      <td>5</td>\n",
       "      <td>81 Terjual</td>\n",
       "      <td>KOTA JAKARTA PUSAT</td>\n",
       "      <td>https://shopee.co.id/SoundMagic-ES18S-Green-In...</td>\n",
       "    </tr>\n",
       "    <tr>\n",
       "      <th>1</th>\n",
       "      <td>SoundMagic Indonesia Official</td>\n",
       "      <td>soundmagic.indonesia</td>\n",
       "      <td>1,6RB</td>\n",
       "      <td>1</td>\n",
       "      <td>39</td>\n",
       "      <td>4.6 (648 Penilaian)</td>\n",
       "      <td>100% (Hitungan Jam)</td>\n",
       "      <td>24 Bulan Lalu</td>\n",
       "      <td>SoundMAGIC ES18 Orange In Earphone Non Mic Gar...</td>\n",
       "      <td>Rp149.000</td>\n",
       "      <td>5</td>\n",
       "      <td>65 Terjual</td>\n",
       "      <td>KOTA JAKARTA PUSAT</td>\n",
       "      <td>https://shopee.co.id/SoundMAGIC-ES18-Orange-In...</td>\n",
       "    </tr>\n",
       "    <tr>\n",
       "      <th>2</th>\n",
       "      <td>SoundMagic Indonesia Official</td>\n",
       "      <td>soundmagic.indonesia</td>\n",
       "      <td>1,6RB</td>\n",
       "      <td>1</td>\n",
       "      <td>39</td>\n",
       "      <td>4.6 (648 Penilaian)</td>\n",
       "      <td>100% (Hitungan Jam)</td>\n",
       "      <td>24 Bulan Lalu</td>\n",
       "      <td>SoundMagic E11C In Earphone With Mic Garansi R...</td>\n",
       "      <td>Rp635.000</td>\n",
       "      <td>5</td>\n",
       "      <td>79 Terjual</td>\n",
       "      <td>KOTA JAKARTA PUSAT</td>\n",
       "      <td>https://shopee.co.id/SoundMagic-E11C-In-Earpho...</td>\n",
       "    </tr>\n",
       "    <tr>\n",
       "      <th>3</th>\n",
       "      <td>SoundMagic Indonesia Official</td>\n",
       "      <td>soundmagic.indonesia</td>\n",
       "      <td>1,6RB</td>\n",
       "      <td>1</td>\n",
       "      <td>39</td>\n",
       "      <td>4.6 (648 Penilaian)</td>\n",
       "      <td>100% (Hitungan Jam)</td>\n",
       "      <td>24 Bulan Lalu</td>\n",
       "      <td>SoundMAGIC ES18 In Earphone Non Mic Green Gara...</td>\n",
       "      <td>Rp149.000</td>\n",
       "      <td>5</td>\n",
       "      <td>33 Terjual</td>\n",
       "      <td>KOTA JAKARTA PUSAT</td>\n",
       "      <td>https://shopee.co.id/SoundMAGIC-ES18-In-Earpho...</td>\n",
       "    </tr>\n",
       "    <tr>\n",
       "      <th>4</th>\n",
       "      <td>SoundMagic Indonesia Official</td>\n",
       "      <td>soundmagic.indonesia</td>\n",
       "      <td>1,6RB</td>\n",
       "      <td>1</td>\n",
       "      <td>39</td>\n",
       "      <td>4.6 (648 Penilaian)</td>\n",
       "      <td>100% (Hitungan Jam)</td>\n",
       "      <td>24 Bulan Lalu</td>\n",
       "      <td>SoundMagic ES19S In Earphone With Mic White (N...</td>\n",
       "      <td>Rp225.000</td>\n",
       "      <td>5</td>\n",
       "      <td>16 Terjual</td>\n",
       "      <td>KOTA JAKARTA PUSAT</td>\n",
       "      <td>https://shopee.co.id/SoundMagic-ES19S-In-Earph...</td>\n",
       "    </tr>\n",
       "    <tr>\n",
       "      <th>5</th>\n",
       "      <td>SoundMagic Indonesia Official</td>\n",
       "      <td>soundmagic.indonesia</td>\n",
       "      <td>1,6RB</td>\n",
       "      <td>1</td>\n",
       "      <td>39</td>\n",
       "      <td>4.6 (648 Penilaian)</td>\n",
       "      <td>100% (Hitungan Jam)</td>\n",
       "      <td>24 Bulan Lalu</td>\n",
       "      <td>SoundMAGIC E10C In Earphone Silver Garansi Res...</td>\n",
       "      <td>Rp525.000</td>\n",
       "      <td>5</td>\n",
       "      <td>34 Terjual</td>\n",
       "      <td>KOTA JAKARTA PUSAT</td>\n",
       "      <td>https://shopee.co.id/SoundMAGIC-E10C-In-Earpho...</td>\n",
       "    </tr>\n",
       "    <tr>\n",
       "      <th>6</th>\n",
       "      <td>SoundMagic Indonesia Official</td>\n",
       "      <td>soundmagic.indonesia</td>\n",
       "      <td>1,6RB</td>\n",
       "      <td>1</td>\n",
       "      <td>39</td>\n",
       "      <td>4.6 (648 Penilaian)</td>\n",
       "      <td>100% (Hitungan Jam)</td>\n",
       "      <td>24 Bulan Lalu</td>\n",
       "      <td>SoundMAGIC ES18 Black In Earphone Non Mic Gara...</td>\n",
       "      <td>Rp149.000</td>\n",
       "      <td>5</td>\n",
       "      <td>16 Terjual</td>\n",
       "      <td>KOTA JAKARTA PUSAT</td>\n",
       "      <td>https://shopee.co.id/SoundMAGIC-ES18-Black-In-...</td>\n",
       "    </tr>\n",
       "    <tr>\n",
       "      <th>7</th>\n",
       "      <td>SoundMagic Indonesia Official</td>\n",
       "      <td>soundmagic.indonesia</td>\n",
       "      <td>1,6RB</td>\n",
       "      <td>1</td>\n",
       "      <td>39</td>\n",
       "      <td>4.6 (648 Penilaian)</td>\n",
       "      <td>100% (Hitungan Jam)</td>\n",
       "      <td>24 Bulan Lalu</td>\n",
       "      <td>SoundMAGIC ES18 Red In Earphone Non Mic Garans...</td>\n",
       "      <td>Rp149.000</td>\n",
       "      <td>5</td>\n",
       "      <td>6 Terjual</td>\n",
       "      <td>KOTA JAKARTA PUSAT</td>\n",
       "      <td>https://shopee.co.id/SoundMAGIC-ES18-Red-In-Ea...</td>\n",
       "    </tr>\n",
       "    <tr>\n",
       "      <th>8</th>\n",
       "      <td>SoundMagic Indonesia Official</td>\n",
       "      <td>soundmagic.indonesia</td>\n",
       "      <td>1,6RB</td>\n",
       "      <td>1</td>\n",
       "      <td>39</td>\n",
       "      <td>4.6 (648 Penilaian)</td>\n",
       "      <td>100% (Hitungan Jam)</td>\n",
       "      <td>24 Bulan Lalu</td>\n",
       "      <td>SoundMAGIC E10 in Earphone Blue Garansi Resmi ...</td>\n",
       "      <td>Rp435.000</td>\n",
       "      <td>5</td>\n",
       "      <td>2 Terjual</td>\n",
       "      <td>KOTA JAKARTA PUSAT</td>\n",
       "      <td>https://shopee.co.id/SoundMAGIC-E10-in-Earphon...</td>\n",
       "    </tr>\n",
       "    <tr>\n",
       "      <th>9</th>\n",
       "      <td>SoundMagic Indonesia Official</td>\n",
       "      <td>soundmagic.indonesia</td>\n",
       "      <td>1,6RB</td>\n",
       "      <td>1</td>\n",
       "      <td>39</td>\n",
       "      <td>4.6 (648 Penilaian)</td>\n",
       "      <td>100% (Hitungan Jam)</td>\n",
       "      <td>24 Bulan Lalu</td>\n",
       "      <td>SoundMagic Bluetooth Earphone In Ear Isolating...</td>\n",
       "      <td>Rp395.000</td>\n",
       "      <td>5</td>\n",
       "      <td>1 Terjual</td>\n",
       "      <td>KOTA JAKARTA PUSAT</td>\n",
       "      <td>https://shopee.co.id/SoundMagic-Bluetooth-Earp...</td>\n",
       "    </tr>\n",
       "    <tr>\n",
       "      <th>10</th>\n",
       "      <td>SoundMagic Indonesia Official</td>\n",
       "      <td>soundmagic.indonesia</td>\n",
       "      <td>1,6RB</td>\n",
       "      <td>1</td>\n",
       "      <td>39</td>\n",
       "      <td>4.6 (648 Penilaian)</td>\n",
       "      <td>100% (Hitungan Jam)</td>\n",
       "      <td>24 Bulan Lalu</td>\n",
       "      <td>SoundMAGIC E10C In Earphone Red Garansi Resmi ...</td>\n",
       "      <td>Rp525.000</td>\n",
       "      <td>5</td>\n",
       "      <td>27 Terjual</td>\n",
       "      <td>KOTA JAKARTA PUSAT</td>\n",
       "      <td>https://shopee.co.id/SoundMAGIC-E10C-In-Earpho...</td>\n",
       "    </tr>\n",
       "    <tr>\n",
       "      <th>11</th>\n",
       "      <td>SoundMagic Indonesia Official</td>\n",
       "      <td>soundmagic.indonesia</td>\n",
       "      <td>1,6RB</td>\n",
       "      <td>1</td>\n",
       "      <td>39</td>\n",
       "      <td>4.6 (648 Penilaian)</td>\n",
       "      <td>100% (Hitungan Jam)</td>\n",
       "      <td>24 Bulan Lalu</td>\n",
       "      <td>SoundMAGIC E10BT Bluetooth Earphones with Smar...</td>\n",
       "      <td>Rp585.000\\nRp365.000</td>\n",
       "      <td>5</td>\n",
       "      <td>8 Terjual</td>\n",
       "      <td>KOTA JAKARTA PUSAT</td>\n",
       "      <td>https://shopee.co.id/SoundMAGIC-E10BT-Bluetoot...</td>\n",
       "    </tr>\n",
       "    <tr>\n",
       "      <th>12</th>\n",
       "      <td>SoundMagic Indonesia Official</td>\n",
       "      <td>soundmagic.indonesia</td>\n",
       "      <td>1,6RB</td>\n",
       "      <td>1</td>\n",
       "      <td>39</td>\n",
       "      <td>4.6 (648 Penilaian)</td>\n",
       "      <td>100% (Hitungan Jam)</td>\n",
       "      <td>24 Bulan Lalu</td>\n",
       "      <td>SoundMAGIC E10 Red in Earphone Garansi Resmi 1...</td>\n",
       "      <td>Rp435.000</td>\n",
       "      <td>5</td>\n",
       "      <td>6 Terjual</td>\n",
       "      <td>KOTA JAKARTA PUSAT</td>\n",
       "      <td>https://shopee.co.id/SoundMAGIC-E10-Red-in-Ear...</td>\n",
       "    </tr>\n",
       "    <tr>\n",
       "      <th>13</th>\n",
       "      <td>SoundMagic Indonesia Official</td>\n",
       "      <td>soundmagic.indonesia</td>\n",
       "      <td>1,6RB</td>\n",
       "      <td>1</td>\n",
       "      <td>39</td>\n",
       "      <td>4.6 (648 Penilaian)</td>\n",
       "      <td>100% (Hitungan Jam)</td>\n",
       "      <td>24 Bulan Lalu</td>\n",
       "      <td>SoundMAGIC E10 in Earphone Gold Garansi Resmi ...</td>\n",
       "      <td>Rp435.000</td>\n",
       "      <td>5</td>\n",
       "      <td>5 Terjual</td>\n",
       "      <td>KOTA JAKARTA PUSAT</td>\n",
       "      <td>https://shopee.co.id/SoundMAGIC-E10-in-Earphon...</td>\n",
       "    </tr>\n",
       "    <tr>\n",
       "      <th>14</th>\n",
       "      <td>SoundMagic Indonesia Official</td>\n",
       "      <td>soundmagic.indonesia</td>\n",
       "      <td>1,6RB</td>\n",
       "      <td>1</td>\n",
       "      <td>39</td>\n",
       "      <td>4.6 (648 Penilaian)</td>\n",
       "      <td>100% (Hitungan Jam)</td>\n",
       "      <td>24 Bulan Lalu</td>\n",
       "      <td>SoundMagic P22BT Headphone Bluetooth Portable ...</td>\n",
       "      <td>Rp700.000</td>\n",
       "      <td>0</td>\n",
       "      <td></td>\n",
       "      <td>KOTA JAKARTA PUSAT</td>\n",
       "      <td>https://shopee.co.id/SoundMagic-P22BT-Headphon...</td>\n",
       "    </tr>\n",
       "    <tr>\n",
       "      <th>15</th>\n",
       "      <td>SoundMagic Indonesia Official</td>\n",
       "      <td>soundmagic.indonesia</td>\n",
       "      <td>1,6RB</td>\n",
       "      <td>1</td>\n",
       "      <td>39</td>\n",
       "      <td>4.6 (648 Penilaian)</td>\n",
       "      <td>100% (Hitungan Jam)</td>\n",
       "      <td>24 Bulan Lalu</td>\n",
       "      <td>SoundMAGIC E10C In Earphone Gold Garansi Resmi...</td>\n",
       "      <td>Rp525.000</td>\n",
       "      <td>0</td>\n",
       "      <td>1 Terjual</td>\n",
       "      <td>KOTA JAKARTA PUSAT</td>\n",
       "      <td>https://shopee.co.id/SoundMAGIC-E10C-In-Earpho...</td>\n",
       "    </tr>\n",
       "    <tr>\n",
       "      <th>16</th>\n",
       "      <td>SoundMagic Indonesia Official</td>\n",
       "      <td>soundmagic.indonesia</td>\n",
       "      <td>1,6RB</td>\n",
       "      <td>1</td>\n",
       "      <td>39</td>\n",
       "      <td>4.6 (648 Penilaian)</td>\n",
       "      <td>100% (Hitungan Jam)</td>\n",
       "      <td>24 Bulan Lalu</td>\n",
       "      <td>SoundMAGIC P11S Black Red Garansi Resmi 1 Tahun</td>\n",
       "      <td>Rp250.000</td>\n",
       "      <td>0</td>\n",
       "      <td></td>\n",
       "      <td>KOTA JAKARTA PUSAT</td>\n",
       "      <td>https://shopee.co.id/SoundMAGIC-P11S-Black-Red...</td>\n",
       "    </tr>\n",
       "    <tr>\n",
       "      <th>17</th>\n",
       "      <td>SoundMagic Indonesia Official</td>\n",
       "      <td>soundmagic.indonesia</td>\n",
       "      <td>1,6RB</td>\n",
       "      <td>1</td>\n",
       "      <td>39</td>\n",
       "      <td>4.6 (648 Penilaian)</td>\n",
       "      <td>100% (Hitungan Jam)</td>\n",
       "      <td>24 Bulan Lalu</td>\n",
       "      <td>New Old Stock SoundMAGIC E80C Silver In Ear Is...</td>\n",
       "      <td>Rp626.500</td>\n",
       "      <td>5</td>\n",
       "      <td>1 Terjual</td>\n",
       "      <td>KOTA JAKARTA PUSAT</td>\n",
       "      <td>https://shopee.co.id/New-Old-Stock-SoundMAGIC-...</td>\n",
       "    </tr>\n",
       "    <tr>\n",
       "      <th>18</th>\n",
       "      <td>SoundMagic Indonesia Official</td>\n",
       "      <td>soundmagic.indonesia</td>\n",
       "      <td>1,6RB</td>\n",
       "      <td>1</td>\n",
       "      <td>39</td>\n",
       "      <td>4.6 (648 Penilaian)</td>\n",
       "      <td>100% (Hitungan Jam)</td>\n",
       "      <td>24 Bulan Lalu</td>\n",
       "      <td>New Old Stock SoundMAGIC E50C In Ear Isolating...</td>\n",
       "      <td>Rp750.000</td>\n",
       "      <td>5</td>\n",
       "      <td>3 Terjual</td>\n",
       "      <td>KOTA JAKARTA PUSAT</td>\n",
       "      <td>https://shopee.co.id/New-Old-Stock-SoundMAGIC-...</td>\n",
       "    </tr>\n",
       "    <tr>\n",
       "      <th>19</th>\n",
       "      <td>SoundMagic Indonesia Official</td>\n",
       "      <td>soundmagic.indonesia</td>\n",
       "      <td>1,6RB</td>\n",
       "      <td>1</td>\n",
       "      <td>39</td>\n",
       "      <td>4.6 (648 Penilaian)</td>\n",
       "      <td>100% (Hitungan Jam)</td>\n",
       "      <td>24 Bulan Lalu</td>\n",
       "      <td>SoundMAGIC P22BT Portable Wireless Bluetooth H...</td>\n",
       "      <td>Rp700.000</td>\n",
       "      <td>5</td>\n",
       "      <td>2 Terjual</td>\n",
       "      <td>KOTA JAKARTA PUSAT</td>\n",
       "      <td>https://shopee.co.id/SoundMAGIC-P22BT-Portable...</td>\n",
       "    </tr>\n",
       "    <tr>\n",
       "      <th>20</th>\n",
       "      <td>SoundMagic Indonesia Official</td>\n",
       "      <td>soundmagic.indonesia</td>\n",
       "      <td>1,6RB</td>\n",
       "      <td>1</td>\n",
       "      <td>39</td>\n",
       "      <td>4.6 (648 Penilaian)</td>\n",
       "      <td>100% (Hitungan Jam)</td>\n",
       "      <td>24 Bulan Lalu</td>\n",
       "      <td>SoundMAGIC E10C In Earphone Blue Garansi Resmi...</td>\n",
       "      <td>Rp525.000</td>\n",
       "      <td>5</td>\n",
       "      <td>3 Terjual</td>\n",
       "      <td>KOTA JAKARTA PUSAT</td>\n",
       "      <td>https://shopee.co.id/SoundMAGIC-E10C-In-Earpho...</td>\n",
       "    </tr>\n",
       "    <tr>\n",
       "      <th>21</th>\n",
       "      <td>SoundMagic Indonesia Official</td>\n",
       "      <td>soundmagic.indonesia</td>\n",
       "      <td>1,6RB</td>\n",
       "      <td>1</td>\n",
       "      <td>39</td>\n",
       "      <td>4.6 (648 Penilaian)</td>\n",
       "      <td>100% (Hitungan Jam)</td>\n",
       "      <td>24 Bulan Lalu</td>\n",
       "      <td>SoundMAGIC E80C In Ear Isolating Earphones wit...</td>\n",
       "      <td>Rp895.000</td>\n",
       "      <td>0</td>\n",
       "      <td></td>\n",
       "      <td>KOTA JAKARTA PUSAT</td>\n",
       "      <td>https://shopee.co.id/SoundMAGIC-E80C-In-Ear-Is...</td>\n",
       "    </tr>\n",
       "    <tr>\n",
       "      <th>22</th>\n",
       "      <td>SoundMagic Indonesia Official</td>\n",
       "      <td>soundmagic.indonesia</td>\n",
       "      <td>1,6RB</td>\n",
       "      <td>1</td>\n",
       "      <td>39</td>\n",
       "      <td>4.6 (648 Penilaian)</td>\n",
       "      <td>100% (Hitungan Jam)</td>\n",
       "      <td>24 Bulan Lalu</td>\n",
       "      <td>New Old Stock SoundMAGIC E30 Pink In Earphone ...</td>\n",
       "      <td>Rp247.500</td>\n",
       "      <td>0</td>\n",
       "      <td></td>\n",
       "      <td>KOTA JAKARTA PUSAT</td>\n",
       "      <td>https://shopee.co.id/New-Old-Stock-SoundMAGIC-...</td>\n",
       "    </tr>\n",
       "    <tr>\n",
       "      <th>23</th>\n",
       "      <td>SoundMagic Indonesia Official</td>\n",
       "      <td>soundmagic.indonesia</td>\n",
       "      <td>1,6RB</td>\n",
       "      <td>1</td>\n",
       "      <td>39</td>\n",
       "      <td>4.6 (648 Penilaian)</td>\n",
       "      <td>100% (Hitungan Jam)</td>\n",
       "      <td>24 Bulan Lalu</td>\n",
       "      <td>New Old Stock SoundMAGIC PL30+ Black in Earpho...</td>\n",
       "      <td>Rp365.000</td>\n",
       "      <td>0</td>\n",
       "      <td></td>\n",
       "      <td>KOTA JAKARTA PUSAT</td>\n",
       "      <td>https://shopee.co.id/New-Old-Stock-SoundMAGIC-...</td>\n",
       "    </tr>\n",
       "    <tr>\n",
       "      <th>24</th>\n",
       "      <td>SoundMagic Indonesia Official</td>\n",
       "      <td>soundmagic.indonesia</td>\n",
       "      <td>1,6RB</td>\n",
       "      <td>1</td>\n",
       "      <td>39</td>\n",
       "      <td>4.6 (648 Penilaian)</td>\n",
       "      <td>100% (Hitungan Jam)</td>\n",
       "      <td>24 Bulan Lalu</td>\n",
       "      <td>New Old Stock SoundMAGIC PL20 in Earphone Gara...</td>\n",
       "      <td>Rp94.500</td>\n",
       "      <td>0</td>\n",
       "      <td></td>\n",
       "      <td>KOTA JAKARTA PUSAT</td>\n",
       "      <td>https://shopee.co.id/New-Old-Stock-SoundMAGIC-...</td>\n",
       "    </tr>\n",
       "  </tbody>\n",
       "</table>\n",
       "</div>"
      ],
      "text/plain": [
       "                   nickname_seller       username_seller follower following  \\\n",
       "0   SoundMagic Indonesia Official   soundmagic.indonesia    1,6RB         1   \n",
       "1   SoundMagic Indonesia Official   soundmagic.indonesia    1,6RB         1   \n",
       "2   SoundMagic Indonesia Official   soundmagic.indonesia    1,6RB         1   \n",
       "3   SoundMagic Indonesia Official   soundmagic.indonesia    1,6RB         1   \n",
       "4   SoundMagic Indonesia Official   soundmagic.indonesia    1,6RB         1   \n",
       "5   SoundMagic Indonesia Official   soundmagic.indonesia    1,6RB         1   \n",
       "6   SoundMagic Indonesia Official   soundmagic.indonesia    1,6RB         1   \n",
       "7   SoundMagic Indonesia Official   soundmagic.indonesia    1,6RB         1   \n",
       "8   SoundMagic Indonesia Official   soundmagic.indonesia    1,6RB         1   \n",
       "9   SoundMagic Indonesia Official   soundmagic.indonesia    1,6RB         1   \n",
       "10  SoundMagic Indonesia Official   soundmagic.indonesia    1,6RB         1   \n",
       "11  SoundMagic Indonesia Official   soundmagic.indonesia    1,6RB         1   \n",
       "12  SoundMagic Indonesia Official   soundmagic.indonesia    1,6RB         1   \n",
       "13  SoundMagic Indonesia Official   soundmagic.indonesia    1,6RB         1   \n",
       "14  SoundMagic Indonesia Official   soundmagic.indonesia    1,6RB         1   \n",
       "15  SoundMagic Indonesia Official   soundmagic.indonesia    1,6RB         1   \n",
       "16  SoundMagic Indonesia Official   soundmagic.indonesia    1,6RB         1   \n",
       "17  SoundMagic Indonesia Official   soundmagic.indonesia    1,6RB         1   \n",
       "18  SoundMagic Indonesia Official   soundmagic.indonesia    1,6RB         1   \n",
       "19  SoundMagic Indonesia Official   soundmagic.indonesia    1,6RB         1   \n",
       "20  SoundMagic Indonesia Official   soundmagic.indonesia    1,6RB         1   \n",
       "21  SoundMagic Indonesia Official   soundmagic.indonesia    1,6RB         1   \n",
       "22  SoundMagic Indonesia Official   soundmagic.indonesia    1,6RB         1   \n",
       "23  SoundMagic Indonesia Official   soundmagic.indonesia    1,6RB         1   \n",
       "24  SoundMagic Indonesia Official   soundmagic.indonesia    1,6RB         1   \n",
       "\n",
       "   num_product               rating         chat_service       sale_age  \\\n",
       "0           39  4.6 (648 Penilaian)  100% (Hitungan Jam)  24 Bulan Lalu   \n",
       "1           39  4.6 (648 Penilaian)  100% (Hitungan Jam)  24 Bulan Lalu   \n",
       "2           39  4.6 (648 Penilaian)  100% (Hitungan Jam)  24 Bulan Lalu   \n",
       "3           39  4.6 (648 Penilaian)  100% (Hitungan Jam)  24 Bulan Lalu   \n",
       "4           39  4.6 (648 Penilaian)  100% (Hitungan Jam)  24 Bulan Lalu   \n",
       "5           39  4.6 (648 Penilaian)  100% (Hitungan Jam)  24 Bulan Lalu   \n",
       "6           39  4.6 (648 Penilaian)  100% (Hitungan Jam)  24 Bulan Lalu   \n",
       "7           39  4.6 (648 Penilaian)  100% (Hitungan Jam)  24 Bulan Lalu   \n",
       "8           39  4.6 (648 Penilaian)  100% (Hitungan Jam)  24 Bulan Lalu   \n",
       "9           39  4.6 (648 Penilaian)  100% (Hitungan Jam)  24 Bulan Lalu   \n",
       "10          39  4.6 (648 Penilaian)  100% (Hitungan Jam)  24 Bulan Lalu   \n",
       "11          39  4.6 (648 Penilaian)  100% (Hitungan Jam)  24 Bulan Lalu   \n",
       "12          39  4.6 (648 Penilaian)  100% (Hitungan Jam)  24 Bulan Lalu   \n",
       "13          39  4.6 (648 Penilaian)  100% (Hitungan Jam)  24 Bulan Lalu   \n",
       "14          39  4.6 (648 Penilaian)  100% (Hitungan Jam)  24 Bulan Lalu   \n",
       "15          39  4.6 (648 Penilaian)  100% (Hitungan Jam)  24 Bulan Lalu   \n",
       "16          39  4.6 (648 Penilaian)  100% (Hitungan Jam)  24 Bulan Lalu   \n",
       "17          39  4.6 (648 Penilaian)  100% (Hitungan Jam)  24 Bulan Lalu   \n",
       "18          39  4.6 (648 Penilaian)  100% (Hitungan Jam)  24 Bulan Lalu   \n",
       "19          39  4.6 (648 Penilaian)  100% (Hitungan Jam)  24 Bulan Lalu   \n",
       "20          39  4.6 (648 Penilaian)  100% (Hitungan Jam)  24 Bulan Lalu   \n",
       "21          39  4.6 (648 Penilaian)  100% (Hitungan Jam)  24 Bulan Lalu   \n",
       "22          39  4.6 (648 Penilaian)  100% (Hitungan Jam)  24 Bulan Lalu   \n",
       "23          39  4.6 (648 Penilaian)  100% (Hitungan Jam)  24 Bulan Lalu   \n",
       "24          39  4.6 (648 Penilaian)  100% (Hitungan Jam)  24 Bulan Lalu   \n",
       "\n",
       "                                         product_name         product_price  \\\n",
       "0   SoundMagic ES18S Green In Earphone WIth Mic Ga...             Rp175.000   \n",
       "1   SoundMAGIC ES18 Orange In Earphone Non Mic Gar...             Rp149.000   \n",
       "2   SoundMagic E11C In Earphone With Mic Garansi R...             Rp635.000   \n",
       "3   SoundMAGIC ES18 In Earphone Non Mic Green Gara...             Rp149.000   \n",
       "4   SoundMagic ES19S In Earphone With Mic White (N...             Rp225.000   \n",
       "5   SoundMAGIC E10C In Earphone Silver Garansi Res...             Rp525.000   \n",
       "6   SoundMAGIC ES18 Black In Earphone Non Mic Gara...             Rp149.000   \n",
       "7   SoundMAGIC ES18 Red In Earphone Non Mic Garans...             Rp149.000   \n",
       "8   SoundMAGIC E10 in Earphone Blue Garansi Resmi ...             Rp435.000   \n",
       "9   SoundMagic Bluetooth Earphone In Ear Isolating...             Rp395.000   \n",
       "10  SoundMAGIC E10C In Earphone Red Garansi Resmi ...             Rp525.000   \n",
       "11  SoundMAGIC E10BT Bluetooth Earphones with Smar...  Rp585.000\\nRp365.000   \n",
       "12  SoundMAGIC E10 Red in Earphone Garansi Resmi 1...             Rp435.000   \n",
       "13  SoundMAGIC E10 in Earphone Gold Garansi Resmi ...             Rp435.000   \n",
       "14  SoundMagic P22BT Headphone Bluetooth Portable ...             Rp700.000   \n",
       "15  SoundMAGIC E10C In Earphone Gold Garansi Resmi...             Rp525.000   \n",
       "16    SoundMAGIC P11S Black Red Garansi Resmi 1 Tahun             Rp250.000   \n",
       "17  New Old Stock SoundMAGIC E80C Silver In Ear Is...             Rp626.500   \n",
       "18  New Old Stock SoundMAGIC E50C In Ear Isolating...             Rp750.000   \n",
       "19  SoundMAGIC P22BT Portable Wireless Bluetooth H...             Rp700.000   \n",
       "20  SoundMAGIC E10C In Earphone Blue Garansi Resmi...             Rp525.000   \n",
       "21  SoundMAGIC E80C In Ear Isolating Earphones wit...             Rp895.000   \n",
       "22  New Old Stock SoundMAGIC E30 Pink In Earphone ...             Rp247.500   \n",
       "23  New Old Stock SoundMAGIC PL30+ Black in Earpho...             Rp365.000   \n",
       "24  New Old Stock SoundMAGIC PL20 in Earphone Gara...              Rp94.500   \n",
       "\n",
       "    product_rating product_sold       product_place  \\\n",
       "0                5   81 Terjual  KOTA JAKARTA PUSAT   \n",
       "1                5   65 Terjual  KOTA JAKARTA PUSAT   \n",
       "2                5   79 Terjual  KOTA JAKARTA PUSAT   \n",
       "3                5   33 Terjual  KOTA JAKARTA PUSAT   \n",
       "4                5   16 Terjual  KOTA JAKARTA PUSAT   \n",
       "5                5   34 Terjual  KOTA JAKARTA PUSAT   \n",
       "6                5   16 Terjual  KOTA JAKARTA PUSAT   \n",
       "7                5    6 Terjual  KOTA JAKARTA PUSAT   \n",
       "8                5    2 Terjual  KOTA JAKARTA PUSAT   \n",
       "9                5    1 Terjual  KOTA JAKARTA PUSAT   \n",
       "10               5   27 Terjual  KOTA JAKARTA PUSAT   \n",
       "11               5    8 Terjual  KOTA JAKARTA PUSAT   \n",
       "12               5    6 Terjual  KOTA JAKARTA PUSAT   \n",
       "13               5    5 Terjual  KOTA JAKARTA PUSAT   \n",
       "14               0               KOTA JAKARTA PUSAT   \n",
       "15               0    1 Terjual  KOTA JAKARTA PUSAT   \n",
       "16               0               KOTA JAKARTA PUSAT   \n",
       "17               5    1 Terjual  KOTA JAKARTA PUSAT   \n",
       "18               5    3 Terjual  KOTA JAKARTA PUSAT   \n",
       "19               5    2 Terjual  KOTA JAKARTA PUSAT   \n",
       "20               5    3 Terjual  KOTA JAKARTA PUSAT   \n",
       "21               0               KOTA JAKARTA PUSAT   \n",
       "22               0               KOTA JAKARTA PUSAT   \n",
       "23               0               KOTA JAKARTA PUSAT   \n",
       "24               0               KOTA JAKARTA PUSAT   \n",
       "\n",
       "                                         product_link  \n",
       "0   https://shopee.co.id/SoundMagic-ES18S-Green-In...  \n",
       "1   https://shopee.co.id/SoundMAGIC-ES18-Orange-In...  \n",
       "2   https://shopee.co.id/SoundMagic-E11C-In-Earpho...  \n",
       "3   https://shopee.co.id/SoundMAGIC-ES18-In-Earpho...  \n",
       "4   https://shopee.co.id/SoundMagic-ES19S-In-Earph...  \n",
       "5   https://shopee.co.id/SoundMAGIC-E10C-In-Earpho...  \n",
       "6   https://shopee.co.id/SoundMAGIC-ES18-Black-In-...  \n",
       "7   https://shopee.co.id/SoundMAGIC-ES18-Red-In-Ea...  \n",
       "8   https://shopee.co.id/SoundMAGIC-E10-in-Earphon...  \n",
       "9   https://shopee.co.id/SoundMagic-Bluetooth-Earp...  \n",
       "10  https://shopee.co.id/SoundMAGIC-E10C-In-Earpho...  \n",
       "11  https://shopee.co.id/SoundMAGIC-E10BT-Bluetoot...  \n",
       "12  https://shopee.co.id/SoundMAGIC-E10-Red-in-Ear...  \n",
       "13  https://shopee.co.id/SoundMAGIC-E10-in-Earphon...  \n",
       "14  https://shopee.co.id/SoundMagic-P22BT-Headphon...  \n",
       "15  https://shopee.co.id/SoundMAGIC-E10C-In-Earpho...  \n",
       "16  https://shopee.co.id/SoundMAGIC-P11S-Black-Red...  \n",
       "17  https://shopee.co.id/New-Old-Stock-SoundMAGIC-...  \n",
       "18  https://shopee.co.id/New-Old-Stock-SoundMAGIC-...  \n",
       "19  https://shopee.co.id/SoundMAGIC-P22BT-Portable...  \n",
       "20  https://shopee.co.id/SoundMAGIC-E10C-In-Earpho...  \n",
       "21  https://shopee.co.id/SoundMAGIC-E80C-In-Ear-Is...  \n",
       "22  https://shopee.co.id/New-Old-Stock-SoundMAGIC-...  \n",
       "23  https://shopee.co.id/New-Old-Stock-SoundMAGIC-...  \n",
       "24  https://shopee.co.id/New-Old-Stock-SoundMAGIC-...  "
      ]
     },
     "execution_count": 42,
     "metadata": {},
     "output_type": "execute_result"
    }
   ],
   "source": [
    "data_seller"
   ]
  },
  {
   "cell_type": "markdown",
   "metadata": {},
   "source": [
    "**Save dataframe into csv**"
   ]
  },
  {
   "cell_type": "code",
   "execution_count": 44,
   "metadata": {
    "ExecuteTime": {
     "end_time": "2020-07-06T10:23:56.177189Z",
     "start_time": "2020-07-06T10:23:56.163021Z"
    }
   },
   "outputs": [],
   "source": [
    "data_seller.to_csv('data/{username} {datetime}.csv'.format(username = username,datetime = pd.to_datetime('today').strftime('%Y-%m-%d %H:%M:%S')))"
   ]
  }
 ],
 "metadata": {
  "kernelspec": {
   "display_name": "Python 3",
   "language": "python",
   "name": "python3"
  },
  "language_info": {
   "codemirror_mode": {
    "name": "ipython",
    "version": 3
   },
   "file_extension": ".py",
   "mimetype": "text/x-python",
   "name": "python",
   "nbconvert_exporter": "python",
   "pygments_lexer": "ipython3",
   "version": "3.8.3"
  }
 },
 "nbformat": 4,
 "nbformat_minor": 2
}
