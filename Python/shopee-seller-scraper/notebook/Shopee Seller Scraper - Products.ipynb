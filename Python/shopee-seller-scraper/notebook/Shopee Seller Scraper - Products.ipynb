{
 "cells": [
  {
   "cell_type": "markdown",
   "id": "adverse-static",
   "metadata": {},
   "source": [
    "# Web Scraping - Shopee Seller Products"
   ]
  },
  {
   "cell_type": "markdown",
   "id": "opposed-label",
   "metadata": {},
   "source": [
    "---"
   ]
  },
  {
   "cell_type": "markdown",
   "id": "stock-credits",
   "metadata": {},
   "source": [
    "For introduction of Selenium, please be kind to open [**this site**](https://www.scrapingbee.com/blog/selenium-python/)"
   ]
  },
  {
   "cell_type": "markdown",
   "id": "charged-rebel",
   "metadata": {},
   "source": [
    "## Import modules"
   ]
  },
  {
   "cell_type": "code",
   "execution_count": null,
   "id": "noted-pollution",
   "metadata": {
    "scrolled": true
   },
   "outputs": [],
   "source": [
    "%pip freeze > requirements.txt"
   ]
  },
  {
   "cell_type": "code",
   "execution_count": 1,
   "id": "meaningful-japan",
   "metadata": {
    "ExecuteTime": {
     "end_time": "2020-06-19T23:39:06.502572Z",
     "start_time": "2020-06-19T23:39:06.497076Z"
    }
   },
   "outputs": [],
   "source": [
    "# Modules for web scraping\n",
    "from bs4 import BeautifulSoup\n",
    "from selenium import webdriver\n",
    "from selenium.webdriver.common.keys import Keys\n",
    "# URL encoding\n",
    "from requests.utils import requote_uri\n",
    "# Module for data manipulation\n",
    "import pandas as pd\n",
    "# Module for regular expression\n",
    "import re\n",
    "# Module for file management\n",
    "import os\n",
    "# Module for timing\n",
    "import time"
   ]
  },
  {
   "cell_type": "markdown",
   "id": "consolidated-battery",
   "metadata": {},
   "source": [
    "## Load the Chromedriver"
   ]
  },
  {
   "cell_type": "markdown",
   "id": "placed-yield",
   "metadata": {},
   "source": [
    "Read how to download webdriver for Chrome [**here**]('https://chromedriver.chromium.org/downloads')"
   ]
  },
  {
   "cell_type": "markdown",
   "id": "historical-necklace",
   "metadata": {},
   "source": [
    "**Options**"
   ]
  },
  {
   "cell_type": "code",
   "execution_count": 2,
   "id": "willing-binding",
   "metadata": {
    "ExecuteTime": {
     "end_time": "2020-07-06T10:12:15.101837Z",
     "start_time": "2020-07-06T10:12:15.095448Z"
    }
   },
   "outputs": [],
   "source": [
    "# Options for Chrome windows\n",
    "options = webdriver.ChromeOptions()\n",
    "options.add_argument('--start-maximized')\n",
    "options.add_argument('window-size=2560,1440')"
   ]
  },
  {
   "cell_type": "markdown",
   "id": "british-voice",
   "metadata": {},
   "source": [
    "**Chromedriver path**"
   ]
  },
  {
   "cell_type": "code",
   "execution_count": 3,
   "id": "narrow-cooper",
   "metadata": {
    "ExecuteTime": {
     "end_time": "2020-06-19T23:29:33.659375Z",
     "start_time": "2020-06-19T23:29:18.312261Z"
    }
   },
   "outputs": [],
   "source": [
    "DRIVER_PATH = '../bin/chromedriver'\n",
    "driver = webdriver.Chrome(executable_path = DRIVER_PATH, options = options)"
   ]
  },
  {
   "cell_type": "markdown",
   "id": "aerial-delivery",
   "metadata": {},
   "source": [
    "## Core Procedure"
   ]
  },
  {
   "cell_type": "markdown",
   "id": "federal-heading",
   "metadata": {},
   "source": [
    "**URL and Query**"
   ]
  },
  {
   "cell_type": "code",
   "execution_count": 10,
   "id": "median-finger",
   "metadata": {
    "ExecuteTime": {
     "end_time": "2020-07-06T10:12:30.969241Z",
     "start_time": "2020-07-06T10:12:30.951492Z"
    }
   },
   "outputs": [],
   "source": [
    "# Main URL\n",
    "url = 'https://shopee.co.id/{seller}?page={page}&sortBy=pop'\n",
    "# Keyword search - seller username\n",
    "seller = 'compshop88'\n",
    "# Page for loops\n",
    "page = '0'\n",
    "# Concat the keyword into main URL\n",
    "url_query = url.format(seller = seller, page = page)"
   ]
  },
  {
   "cell_type": "code",
   "execution_count": 11,
   "id": "quick-manchester",
   "metadata": {
    "ExecuteTime": {
     "end_time": "2020-07-06T10:12:35.344488Z",
     "start_time": "2020-07-06T10:12:35.315784Z"
    },
    "scrolled": false
   },
   "outputs": [
    {
     "data": {
      "text/plain": [
       "'https://shopee.co.id/compshop88?page=0&sortBy=pop'"
      ]
     },
     "execution_count": 11,
     "metadata": {},
     "output_type": "execute_result"
    }
   ],
   "source": [
    "# Full URL with keyword\n",
    "url_query"
   ]
  },
  {
   "cell_type": "code",
   "execution_count": 12,
   "id": "frank-poster",
   "metadata": {},
   "outputs": [],
   "source": [
    "# Root directory\n",
    "dir_path = os.getcwd()"
   ]
  },
  {
   "cell_type": "markdown",
   "id": "complicated-macintosh",
   "metadata": {},
   "source": [
    "**Access website**"
   ]
  },
  {
   "cell_type": "code",
   "execution_count": 13,
   "id": "enhanced-amber",
   "metadata": {
    "ExecuteTime": {
     "end_time": "2020-07-06T10:12:51.755321Z",
     "start_time": "2020-07-06T10:12:36.696375Z"
    }
   },
   "outputs": [],
   "source": [
    "driver.get(url_query)\n",
    "driver.implicitly_wait(20)"
   ]
  },
  {
   "cell_type": "code",
   "execution_count": 14,
   "id": "convinced-sewing",
   "metadata": {
    "ExecuteTime": {
     "end_time": "2020-07-06T10:12:55.549020Z",
     "start_time": "2020-07-06T10:12:55.527197Z"
    }
   },
   "outputs": [
    {
     "data": {
      "text/plain": [
       "4219"
      ]
     },
     "execution_count": 14,
     "metadata": {},
     "output_type": "execute_result"
    }
   ],
   "source": [
    "# Document scrollHeight\n",
    "scroll_height = driver.execute_script('return document.documentElement.scrollHeight;')\n",
    "scroll_height"
   ]
  },
  {
   "cell_type": "code",
   "execution_count": 15,
   "id": "inner-sensitivity",
   "metadata": {
    "ExecuteTime": {
     "end_time": "2020-07-06T10:13:28.677534Z",
     "start_time": "2020-07-06T10:12:58.138667Z"
    }
   },
   "outputs": [],
   "source": [
    "# Scroll down slowly\n",
    "scroll_height = driver.execute_script('return document.documentElement.scrollHeight;')\n",
    "for iters in range(0, scroll_height, 200):\n",
    "    driver.execute_script('window.scrollTo(0, {});'.format(iters))\n",
    "    time.sleep(1)"
   ]
  },
  {
   "cell_type": "markdown",
   "id": "consecutive-rouge",
   "metadata": {},
   "source": [
    "**List all product and its characteristics**"
   ]
  },
  {
   "cell_type": "code",
   "execution_count": 16,
   "id": "sized-repeat",
   "metadata": {
    "ExecuteTime": {
     "end_time": "2020-07-06T10:14:24.771534Z",
     "start_time": "2020-07-06T10:14:24.735372Z"
    },
    "scrolled": true
   },
   "outputs": [],
   "source": [
    "product_list = driver.find_elements_by_class_name('shop-search-result-view')"
   ]
  },
  {
   "cell_type": "code",
   "execution_count": 17,
   "id": "boxed-latter",
   "metadata": {
    "ExecuteTime": {
     "end_time": "2020-07-06T10:14:25.801916Z",
     "start_time": "2020-07-06T10:14:25.793349Z"
    }
   },
   "outputs": [
    {
     "data": {
      "text/plain": [
       "<selenium.webdriver.remote.webelement.WebElement (session=\"6368255b5147e59651176dc48296ee99\", element=\"2a5b55f7-963c-407a-a8b5-4b8d87905871\")>"
      ]
     },
     "execution_count": 17,
     "metadata": {},
     "output_type": "execute_result"
    }
   ],
   "source": [
    "product_list[0]"
   ]
  },
  {
   "cell_type": "code",
   "execution_count": 18,
   "id": "judicial-premiere",
   "metadata": {
    "ExecuteTime": {
     "end_time": "2020-07-06T10:14:28.201635Z",
     "start_time": "2020-07-06T10:14:27.826448Z"
    },
    "scrolled": false
   },
   "outputs": [
    {
     "data": {
      "text/plain": [
       "['https://shopee.co.id/PACKING-KAYU-J-T-PENGIRIMAN-LUAR-JAWA-LUAR-PULAU-i.225418842.3634048048',\n",
       " 'https://shopee.co.id/Laptop-Murah-Lenovo-Flex-5-14-Ryzen-3-4300-4GB-128ssd-W10-14.0FHD-i.225418842.6167653246',\n",
       " 'https://shopee.co.id/Laptop-Murah-HP-14-AMD-A4-4GB-128GB-(64-64)-W10-14.0-Black-Silver-i.225418842.7678624915',\n",
       " 'https://shopee.co.id/Asus-X441BA-GA441T-GA442T-GA443T-GA444T-A4-9125-4GB-1TB-W10-14.0-DVD-i.225418842.6734876824',\n",
       " 'https://shopee.co.id/Laptop-Murah-Asus-E410MA-BV451TS-BV452TS-BV453TS-N4020-4GB-512ssd-W10-OHS-14.0-Blit-NumPad-i.225418842.4168823182',\n",
       " 'https://shopee.co.id/PALING-LAKUUU-PAKET-PERLINDUNGAN-LAYAR-DAN-COVER-ATAS-LAPTOP-i.225418842.6847414277',\n",
       " 'https://shopee.co.id/Laptop-Asus-Vivobook-Flip-TP401MA-BZ221TS-2in1-Touch-N4020-4GB-256ssd-W10-OHS-14.0-PEN-i.225418842.6563094357',\n",
       " 'https://shopee.co.id/Laptop-Murah-HP-14-Ryzen-3-3250-4GB-256ssd-Vega3-W10-14.0-i.225418842.5564441548',\n",
       " 'https://shopee.co.id/Laptop-Murah-Lenovo-Ideapad-Slim-5-14-EVID-Ryzen-7-4800-8GB-512ssd-W10-OHS-14.0FHD-IPS-2Yr-ADP-BLUE-i.225418842.4570381283',\n",
       " 'https://shopee.co.id/Laptop-Murah-ZYREX-Sky-232-N4020-4GB-64-256ssd-11.6FHD-W10-BT-(Garansi-Dragon)-i.225418842.6466214928',\n",
       " 'https://shopee.co.id/Flashdisk-Murah-Sandisk-Cruzer-Blade-16GB-100-Original-Garansi-Resmi-5-tahun-i.225418842.9913716988',\n",
       " 'https://shopee.co.id/Tablet-Handphone-HP-Murah-MAXTRON-GENIO-TAB-3GB-32GB-64GB-160GB-8inch-i.225418842.9102426471',\n",
       " 'https://shopee.co.id/Laptop-Murah-Dell-Latitude-13-7389-2in1-Touch-i5-7300-8GB-256ssd-W10-13.3FHD-(EX-DISPLAY)-i.225418842.3657773248',\n",
       " 'https://shopee.co.id/Laptop-Murah-Lenovo-Ideapad-Slim-3i-14-0LID-0KID-0MID-0NID-N4020-4GB-256ssd-W10-OHS-14.0-i.225418842.7965712890',\n",
       " 'https://shopee.co.id/Asus-X441MA-GA011T-GA012T-GA021T-GA022T-N4000-4GB-1TB-W10-14.0-DVD-i.225418842.7417264267',\n",
       " 'https://shopee.co.id/Laptop-Murah-Asus-Vivobook-X512DA-Ryzen-7-3700-16GB-512ssd-Vega10-W10-15.6FHD-i.225418842.7557652488',\n",
       " 'https://shopee.co.id/Laptop-Second-Murah-HP-15-DB0066WM-Ryzen-3-3200-4GB-1TB-Ati-Vega3-W10-i.225418842.7356527884',\n",
       " 'https://shopee.co.id/Laptop-Murah-Lenovo-Ideapad-Slim-3-15-Ryzen-5-3500-8GB-256ssd-Vega8-W10-15.6FHD-i.225418842.7262294454',\n",
       " 'https://shopee.co.id/Laptop-Acer-Swift-3X-SF314-55DE-59QY-i5-1135G7-8GB-512ssd-IrisXE-MAX-W10-OHS-14.0FHD-FP-i.225418842.6864149594',\n",
       " 'https://shopee.co.id/TAS-Laptop-HP-Murah-SLEEVECASE-HP-ENVY-URBAN-14-i.225418842.4357675372',\n",
       " 'https://shopee.co.id/Laptop-Gaming-Asus-ROG-G512LW-i7-10750-16GB-512ssd-RTX2070-8GB-W10-15.6FHD-144hz-i.225418842.4156979053',\n",
       " 'https://shopee.co.id/Laptop-Ultrabook-Murah-HP-Envy-X360-15-Touch-Ryzen-5-4500-16GB-256ssd-Vega6-W10-15.6FHD-i.225418842.8845012848',\n",
       " 'https://shopee.co.id/Laptop-Ultrabook-Murah-HP-Envy-13-i7-8550-8GB-512ssd-W10-GOLD-i.225418842.8043540922',\n",
       " 'https://shopee.co.id/Laptop-Second-Murah-HP-14-CB111WM-N4000-4GB-128ssd-W10-BLUE-i.225418842.8923492454',\n",
       " 'https://shopee.co.id/Laptop-Asus-A416JP-FHD321-FHD322-i3-1005G1-4GB-256ssd-MX330-2GB-W10-OHS-14.0FHD-i.225418842.8529694529',\n",
       " 'https://shopee.co.id/Laptop-Murah-Asus-Vivobook-M413DA-Ryzen-5-3500-8GB-256ssd-W10-14.0FHD-i.225418842.6175075533',\n",
       " 'https://shopee.co.id/SSD-Murah-PCIe-NVME-256GB-i.225418842.5257110894',\n",
       " 'https://shopee.co.id/Memori-RAM-Laptop-DDR4-4GB-PC21300-2666MHz-Sodimm-i.225418842.5155650263',\n",
       " 'https://shopee.co.id/Mouse-Acer-Nitro-Gaming-NMW810-i.225418842.3455771338',\n",
       " 'https://shopee.co.id/Laptop-Murah-Lenovo-Yoga-C740-14iML-2in1-Touch-i5-10210-8GB-256ssd-W10-14.0FHD-i.225418842.3353673199']"
      ]
     },
     "execution_count": 18,
     "metadata": {},
     "output_type": "execute_result"
    }
   ],
   "source": [
    "# URL\n",
    "product_link = []\n",
    "link = product_list[0].find_elements_by_tag_name('a')\n",
    "for elem in link:\n",
    "    link_elem = elem.get_attribute('href')\n",
    "    product_link.append(link_elem)\n",
    "product_link"
   ]
  },
  {
   "cell_type": "code",
   "execution_count": 20,
   "id": "lovely-calculation",
   "metadata": {
    "ExecuteTime": {
     "end_time": "2020-07-06T10:14:30.540228Z",
     "start_time": "2020-07-06T10:14:29.577491Z"
    },
    "scrolled": true
   },
   "outputs": [
    {
     "data": {
      "text/plain": [
       "['PACKING KAYU J&T - PENGIRIMAN LUAR JAWA / LUAR PULAU',\n",
       " 'Laptop Murah Lenovo Flex 5 14 Ryzen 3 4300 4GB 128ssd W10 14.0FHD',\n",
       " 'Laptop Murah HP 14 AMD A4 4GB 128GB (64+64) W10 14.0 Black / Silver',\n",
       " 'Asus X441BA GA441T / GA442T / GA443T / /GA444T A4 9125 4GB 1TB W10 14.0 DVD',\n",
       " 'Laptop Murah Asus E410MA BV451TS / BV452TS / BV453TS N4020 4GB 512ssd W10+OHS 14.0 Blit NumPad',\n",
       " 'PALING LAKUUU - PAKET PERLINDUNGAN LAYAR DAN COVER ATAS LAPTOP',\n",
       " 'Laptop Asus Vivobook Flip TP401MA BZ221TS 2in1 Touch N4020 4GB 256ssd W10+OHS 14.0 PEN',\n",
       " 'Laptop Murah HP 14 Ryzen 3 3250 4GB 256ssd Vega3 W10 14.0',\n",
       " 'Laptop Murah Lenovo Ideapad Slim 5 14 EVID Ryzen 7 4800 8GB 512ssd W10+OHS 14.0FHD IPS 2Yr ADP BLUE',\n",
       " 'Laptop Murah ZYREX Sky 232 N4020 4GB 64+256ssd 11.6FHD W10 BT (Garansi Dragon)',\n",
       " 'Flashdisk Murah Sandisk Cruzer Blade 16GB 100% Original Garansi Resmi 5 tahun',\n",
       " 'Tablet Handphone HP Murah MAXTRON GENIO TAB 3GB 32GB / 64GB / 160GB 8inch',\n",
       " 'Laptop Murah Dell Latitude 13 7389 2in1 Touch i5 7300 8GB 256ssd W10 13.3FHD (EX DISPLAY)',\n",
       " 'Laptop Murah Lenovo Ideapad Slim 3i 14 0LID / 0KID / 0MID / 0NID N4020 4GB 256ssd W10+OHS 14.0',\n",
       " 'Asus X441MA GA011T / GA012T / GA021T / GA022T N4000 4GB 1TB W10 14.0 DVD',\n",
       " 'Laptop Murah Asus Vivobook X512DA Ryzen 7 3700 16GB 512ssd Vega10 W10 15.6FHD',\n",
       " 'Laptop Second Murah HP 15 DB0066WM Ryzen 3 3200 4GB 1TB Ati Vega3 W10',\n",
       " 'Laptop Murah Lenovo Ideapad Slim 3 15 Ryzen 5 3500 8GB 256ssd Vega8 W10 15.6FHD',\n",
       " 'Laptop Acer Swift 3X SF314 55DE / 59QY i5 1135G7 8GB 512ssd IrisXE MAX W10+OHS 14.0FHD FP',\n",
       " 'TAS Laptop HP Murah SLEEVECASE HP ENVY URBAN 14',\n",
       " 'Laptop Gaming Asus ROG G512LW i7 10750 16GB 512ssd RTX2070 8GB W10 15.6FHD 144hz',\n",
       " 'Laptop Ultrabook Murah HP Envy X360 15 Touch Ryzen 5 4500 16GB 256ssd Vega6 W10 15.6FHD',\n",
       " 'Laptop Ultrabook Murah HP Envy 13 i7 8550 8GB 512ssd W10 GOLD',\n",
       " 'Laptop Second Murah HP 14 CB111WM N4000 4GB 128ssd W10 BLUE',\n",
       " 'Laptop Asus A416JP FHD321 / FHD322 i3 1005G1 4GB 256ssd MX330 2GB W10+OHS 14.0FHD',\n",
       " 'Laptop Murah Asus Vivobook M413DA Ryzen 5 3500 8GB 256ssd W10 14.0FHD',\n",
       " 'SSD Murah PCIe NVME 256GB',\n",
       " 'Memori RAM Laptop DDR4 4GB PC21300 2666MHz Sodimm',\n",
       " 'Mouse Acer Nitro Gaming NMW810',\n",
       " 'Laptop Murah Lenovo Yoga C740 14iML 2in1 Touch i5 10210 8GB 256ssd W10 14.0FHD']"
      ]
     },
     "execution_count": 20,
     "metadata": {},
     "output_type": "execute_result"
    }
   ],
   "source": [
    "# Product name\n",
    "product_name = []\n",
    "product = product_list[0].find_elements_by_class_name('PFM7lj')\n",
    "for elem in product:\n",
    "    name_elem = elem.text\n",
    "    product_name.append(name_elem)\n",
    "product_name"
   ]
  },
  {
   "cell_type": "code",
   "execution_count": 74,
   "id": "pending-rehabilitation",
   "metadata": {},
   "outputs": [],
   "source": [
    "# Product category\n",
    "category = driver.find_elements_by_class_name('_3yjqG-')\n",
    "categoryList = []\n",
    "for i in range(1, len(category)):\n",
    "    categoryList.append(category[i].text)"
   ]
  },
  {
   "cell_type": "code",
   "execution_count": 91,
   "id": "infrared-michigan",
   "metadata": {},
   "outputs": [
    {
     "data": {
      "text/plain": [
       "\"['Laptop Konsumer', 'Laptop Gaming', 'Ultrabook', '2-in-1', 'Storage Eksternal', 'Aksesoris Komputer', 'Desktop', 'Mouse & Keyboards', 'Komponen Komputer', 'Gaming', 'Tas Pria', 'Handphone & Aksesoris']\""
      ]
     },
     "execution_count": 91,
     "metadata": {},
     "output_type": "execute_result"
    }
   ],
   "source": [
    "str(categoryList)"
   ]
  },
  {
   "cell_type": "code",
   "execution_count": 23,
   "id": "blank-socket",
   "metadata": {
    "ExecuteTime": {
     "end_time": "2020-07-06T10:14:35.420277Z",
     "start_time": "2020-07-06T10:14:33.337124Z"
    },
    "scrolled": true
   },
   "outputs": [
    {
     "data": {
      "text/plain": [
       "['Rp100.000',\n",
       " 'Rp6.999.000 - Rp7.699.000',\n",
       " 'Rp4.449.000 - Rp4.649.000',\n",
       " 'Rp4.849.000 - Rp5.049.000',\n",
       " 'Rp5.549.000 - Rp5.749.000',\n",
       " 'Rp100.000 - Rp200.000',\n",
       " 'Rp6.549.000 - Rp6.749.000',\n",
       " 'Rp6.349.000 - Rp6.549.000',\n",
       " 'Rp10.299.000 - Rp10.499.000',\n",
       " 'Rp3.599.000 - Rp3.799.000',\n",
       " 'Rp41.999',\n",
       " 'Rp1.149.000',\n",
       " 'Rp8.699.000 - Rp8.899.000',\n",
       " 'Rp4.849.000 - Rp5.049.000',\n",
       " 'Rp4.649.000 - Rp4.849.000',\n",
       " 'Rp10.399.000 - Rp10.599.000',\n",
       " 'Rp3.999.000',\n",
       " 'Rp7.999.000 - Rp8.199.000',\n",
       " 'Rp13.999.000 - Rp14.199.000',\n",
       " 'Rp199.000',\n",
       " 'Rp23.499.000 - Rp23.699.000',\n",
       " 'Rp11.699.000 - Rp11.899.000',\n",
       " 'Rp10.999.000 - Rp11.199.000',\n",
       " 'Rp2.799.000 - Rp2.999.000',\n",
       " 'Rp7.289.000 - Rp7.489.000',\n",
       " 'Rp7.999.000 - Rp8.199.000',\n",
       " 'Rp650.000',\n",
       " 'Rp390.000',\n",
       " 'Rp250.000',\n",
       " 'Rp10.179.000 - Rp10.379.000']"
      ]
     },
     "execution_count": 23,
     "metadata": {},
     "output_type": "execute_result"
    }
   ],
   "source": [
    "# Product price\n",
    "product_price = []\n",
    "price = product_list[0].find_elements_by_class_name('_32hnQt')\n",
    "for elem in price:\n",
    "    price_elem = elem.text\n",
    "    product_price.append(price_elem)\n",
    "product_price"
   ]
  },
  {
   "cell_type": "code",
   "execution_count": 26,
   "id": "official-roommate",
   "metadata": {
    "ExecuteTime": {
     "end_time": "2020-07-06T10:14:36.365528Z",
     "start_time": "2020-07-06T10:14:36.330371Z"
    }
   },
   "outputs": [],
   "source": [
    "rating = product_list[0].find_elements_by_class_name('_3dC36C')"
   ]
  },
  {
   "cell_type": "code",
   "execution_count": 27,
   "id": "coral-carpet",
   "metadata": {
    "ExecuteTime": {
     "end_time": "2020-07-06T10:14:38.130151Z",
     "start_time": "2020-07-06T10:14:38.122100Z"
    }
   },
   "outputs": [
    {
     "data": {
      "text/plain": [
       "30"
      ]
     },
     "execution_count": 27,
     "metadata": {},
     "output_type": "execute_result"
    }
   ],
   "source": [
    "len(rating)"
   ]
  },
  {
   "cell_type": "code",
   "execution_count": 28,
   "id": "surprising-idaho",
   "metadata": {
    "ExecuteTime": {
     "end_time": "2020-07-06T10:14:41.277818Z",
     "start_time": "2020-07-06T10:14:41.241895Z"
    }
   },
   "outputs": [
    {
     "data": {
      "text/plain": [
       "5"
      ]
     },
     "execution_count": 28,
     "metadata": {},
     "output_type": "execute_result"
    }
   ],
   "source": [
    "rating_elem = len(rating[0].find_elements_by_class_name('shopee-rating-stars__star-wrapper'))\n",
    "rating_elem"
   ]
  },
  {
   "cell_type": "code",
   "execution_count": 29,
   "id": "developing-carol",
   "metadata": {
    "ExecuteTime": {
     "end_time": "2020-07-06T10:17:03.942175Z",
     "start_time": "2020-07-06T10:14:43.072768Z"
    },
    "scrolled": true
   },
   "outputs": [
    {
     "data": {
      "text/plain": [
       "[5,\n",
       " 5,\n",
       " 5,\n",
       " 5,\n",
       " 5,\n",
       " 5,\n",
       " 5,\n",
       " 5,\n",
       " 5,\n",
       " 5,\n",
       " 5,\n",
       " 5,\n",
       " 5,\n",
       " 5,\n",
       " 5,\n",
       " 5,\n",
       " 5,\n",
       " 5,\n",
       " 5,\n",
       " 5,\n",
       " 5,\n",
       " 0,\n",
       " 0,\n",
       " 5,\n",
       " 5,\n",
       " 5,\n",
       " 5,\n",
       " 5,\n",
       " 5,\n",
       " 5]"
      ]
     },
     "execution_count": 29,
     "metadata": {},
     "output_type": "execute_result"
    }
   ],
   "source": [
    "# Rating\n",
    "product_rating = []\n",
    "rating = product_list[0].find_elements_by_class_name('_3dC36C')\n",
    "for elem in rating:\n",
    "    rating_elem = len(elem.find_elements_by_class_name('shopee-rating-stars__star-wrapper'))\n",
    "    product_rating.append(rating_elem)\n",
    "product_rating"
   ]
  },
  {
   "cell_type": "code",
   "execution_count": 30,
   "id": "activated-personality",
   "metadata": {
    "ExecuteTime": {
     "end_time": "2020-07-06T10:17:03.957593Z",
     "start_time": "2020-07-06T10:17:03.949264Z"
    }
   },
   "outputs": [
    {
     "data": {
      "text/plain": [
       "30"
      ]
     },
     "execution_count": 30,
     "metadata": {},
     "output_type": "execute_result"
    }
   ],
   "source": [
    "len(product_rating)"
   ]
  },
  {
   "cell_type": "code",
   "execution_count": 31,
   "id": "excess-mississippi",
   "metadata": {
    "ExecuteTime": {
     "end_time": "2020-07-06T10:20:30.305949Z",
     "start_time": "2020-07-06T10:20:29.417187Z"
    },
    "scrolled": true
   },
   "outputs": [
    {
     "data": {
      "text/plain": [
       "['33 Terjual',\n",
       " '27 Terjual',\n",
       " '19 Terjual',\n",
       " '10 Terjual',\n",
       " '10 Terjual',\n",
       " '7 Terjual',\n",
       " '7 Terjual',\n",
       " '5 Terjual',\n",
       " '6 Terjual',\n",
       " '14 Terjual',\n",
       " '7 Terjual',\n",
       " '3 Terjual',\n",
       " '4 Terjual',\n",
       " '4 Terjual',\n",
       " '3 Terjual',\n",
       " '5 Terjual',\n",
       " '3 Terjual',\n",
       " '3 Terjual',\n",
       " '2 Terjual',\n",
       " '3 Terjual',\n",
       " '2 Terjual',\n",
       " '',\n",
       " '',\n",
       " '2 Terjual',\n",
       " '2 Terjual',\n",
       " '1 Terjual',\n",
       " '1 Terjual',\n",
       " '2 Terjual',\n",
       " '4 Terjual',\n",
       " '2 Terjual']"
      ]
     },
     "execution_count": 31,
     "metadata": {},
     "output_type": "execute_result"
    }
   ],
   "source": [
    "# Number of product sold out\n",
    "product_sold = []\n",
    "sold = product_list[0].find_elements_by_class_name('go5yPW')\n",
    "for elem in sold:\n",
    "    sold_elem = elem.text\n",
    "    product_sold.append(sold_elem)\n",
    "product_sold"
   ]
  },
  {
   "cell_type": "code",
   "execution_count": 33,
   "id": "civic-filing",
   "metadata": {
    "ExecuteTime": {
     "end_time": "2020-07-06T10:20:33.424002Z",
     "start_time": "2020-07-06T10:20:32.307399Z"
    },
    "scrolled": true
   },
   "outputs": [
    {
     "data": {
      "text/plain": [
       "['KOTA JAKARTA UTARA',\n",
       " 'KOTA JAKARTA UTARA',\n",
       " 'KOTA JAKARTA UTARA',\n",
       " 'KOTA JAKARTA UTARA',\n",
       " 'KOTA JAKARTA UTARA',\n",
       " 'KOTA JAKARTA UTARA',\n",
       " 'KOTA JAKARTA UTARA',\n",
       " 'KOTA JAKARTA UTARA',\n",
       " 'KOTA JAKARTA UTARA',\n",
       " 'KOTA JAKARTA UTARA',\n",
       " 'KOTA JAKARTA UTARA',\n",
       " 'KOTA JAKARTA UTARA',\n",
       " 'KOTA JAKARTA UTARA',\n",
       " 'KOTA JAKARTA UTARA',\n",
       " 'KOTA JAKARTA UTARA',\n",
       " 'KOTA JAKARTA UTARA',\n",
       " 'KOTA JAKARTA UTARA',\n",
       " 'KOTA JAKARTA UTARA',\n",
       " 'KOTA JAKARTA UTARA',\n",
       " 'KOTA JAKARTA UTARA',\n",
       " 'KOTA JAKARTA UTARA',\n",
       " 'KOTA JAKARTA UTARA',\n",
       " 'KOTA JAKARTA UTARA',\n",
       " 'KOTA JAKARTA UTARA',\n",
       " 'KOTA JAKARTA UTARA',\n",
       " 'KOTA JAKARTA UTARA',\n",
       " 'KOTA JAKARTA UTARA',\n",
       " 'KOTA JAKARTA UTARA',\n",
       " 'KOTA JAKARTA UTARA',\n",
       " 'KOTA JAKARTA UTARA']"
      ]
     },
     "execution_count": 33,
     "metadata": {},
     "output_type": "execute_result"
    }
   ],
   "source": [
    "# Place\n",
    "product_place = []\n",
    "place = product_list[0].find_elements_by_class_name('_2CWevj')\n",
    "for elem in place:\n",
    "    place_elem = elem.text\n",
    "    product_place.append(place_elem)\n",
    "product_place"
   ]
  },
  {
   "cell_type": "code",
   "execution_count": 34,
   "id": "aquatic-jaguar",
   "metadata": {},
   "outputs": [],
   "source": [
    "# Number of reviewers each product\n",
    "driver.get('https://shopee.co.id/PACKING-KAYU-J-T-PENGIRIMAN-LUAR-JAWA-LUAR-PULAU-i.225418842.3634048048')"
   ]
  },
  {
   "cell_type": "code",
   "execution_count": 36,
   "id": "comprehensive-warrior",
   "metadata": {},
   "outputs": [
    {
     "data": {
      "text/plain": [
       "'21'"
      ]
     },
     "execution_count": 36,
     "metadata": {},
     "output_type": "execute_result"
    }
   ],
   "source": [
    "driver.find_elements_by_class_name('OitLRu')[1].text"
   ]
  },
  {
   "cell_type": "code",
   "execution_count": 39,
   "id": "brief-april",
   "metadata": {},
   "outputs": [
    {
     "data": {
      "text/plain": [
       "'Favorit (14)'"
      ]
     },
     "execution_count": 39,
     "metadata": {},
     "output_type": "execute_result"
    }
   ],
   "source": [
    "# Number of fav\n",
    "driver.find_elements_by_class_name('_39mrb_')[1].text"
   ]
  },
  {
   "cell_type": "code",
   "execution_count": 59,
   "id": "super-portrait",
   "metadata": {},
   "outputs": [],
   "source": [
    "# Product specification\n",
    "length_element = len(driver.find_elements_by_class_name('aPKXeO'))\n",
    "specification = {}\n",
    "for index in range(length_element):\n",
    "    key = driver.find_elements_by_class_name('aPKXeO')[index].find_elements_by_class_name('SFJkS3')[0].text\n",
    "    value = driver.find_elements_by_class_name('aPKXeO')[index].find_elements_by_tag_name('div')[0].text\n",
    "    specification.update({key: value})"
   ]
  },
  {
   "cell_type": "code",
   "execution_count": 85,
   "id": "rubber-knowing",
   "metadata": {
    "scrolled": true
   },
   "outputs": [
    {
     "data": {
      "text/plain": [
       "[\"{'Kategori': 'Shopee\\\\nSerba Serbi', 'Merek': 'Tidak Ada Merek', 'Stok': '100', 'Dikirim Dari': 'KOTA JAKARTA UTARA - PADEMANGAN, DKI JAKARTA, ID'}\"]"
      ]
     },
     "execution_count": 85,
     "metadata": {},
     "output_type": "execute_result"
    }
   ],
   "source": [
    "[str(specification)]"
   ]
  },
  {
   "cell_type": "code",
   "execution_count": 63,
   "id": "threaded-emergency",
   "metadata": {},
   "outputs": [
    {
     "data": {
      "text/plain": [
       "'Deskripsi PACKING KAYU - PENGIRIMAN LUAR JAWA / LUAR PULAU\\n\\nPENGIRIMAN KHUSUS J&T, SELAIN J&T TIDAK BISA 100%\\n\\nUNTUK UKURAN SEMUA LAPTOP'"
      ]
     },
     "execution_count": 63,
     "metadata": {},
     "output_type": "execute_result"
    }
   ],
   "source": [
    "# Product description\n",
    "driver.find_element_by_class_name('_3yZnxJ').text"
   ]
  },
  {
   "cell_type": "markdown",
   "id": "engaged-transfer",
   "metadata": {},
   "source": [
    "**Next page**"
   ]
  },
  {
   "cell_type": "code",
   "execution_count": 65,
   "id": "synthetic-timeline",
   "metadata": {
    "ExecuteTime": {
     "end_time": "2020-07-06T10:12:51.755321Z",
     "start_time": "2020-07-06T10:12:36.696375Z"
    }
   },
   "outputs": [],
   "source": [
    "driver.get(url_query)\n",
    "driver.implicitly_wait(20)"
   ]
  },
  {
   "cell_type": "code",
   "execution_count": 66,
   "id": "convinced-sewing",
   "metadata": {
    "ExecuteTime": {
     "end_time": "2020-07-06T10:12:55.549020Z",
     "start_time": "2020-07-06T10:12:55.527197Z"
    }
   },
   "outputs": [
    {
     "data": {
      "text/plain": [
       "4219"
      ]
     },
     "execution_count": 66,
     "metadata": {},
     "output_type": "execute_result"
    }
   ],
   "source": [
    "# Document scrollHeight\n",
    "scroll_height = driver.execute_script('return document.documentElement.scrollHeight;')\n",
    "scroll_height"
   ]
  },
  {
   "cell_type": "code",
   "execution_count": 67,
   "id": "inner-sensitivity",
   "metadata": {
    "ExecuteTime": {
     "end_time": "2020-07-06T10:13:28.677534Z",
     "start_time": "2020-07-06T10:12:58.138667Z"
    }
   },
   "outputs": [],
   "source": [
    "# Scroll down slowly\n",
    "scroll_height = driver.execute_script('return document.documentElement.scrollHeight;')\n",
    "for iters in range(0, scroll_height, 200):\n",
    "    driver.execute_script('window.scrollTo(0, {});'.format(iters))\n",
    "    time.sleep(1)"
   ]
  },
  {
   "cell_type": "code",
   "execution_count": 68,
   "id": "sitting-massage",
   "metadata": {},
   "outputs": [
    {
     "data": {
      "text/plain": [
       "'18'"
      ]
     },
     "execution_count": 68,
     "metadata": {},
     "output_type": "execute_result"
    }
   ],
   "source": [
    "# Maximum page\n",
    "driver.find_element_by_class_name('shopee-mini-page-controller__total').text"
   ]
  },
  {
   "cell_type": "code",
   "execution_count": 76,
   "id": "favorite-viking",
   "metadata": {},
   "outputs": [],
   "source": [
    "l = []\n",
    "i = ['A', 'B', 'C']"
   ]
  },
  {
   "cell_type": "code",
   "execution_count": 80,
   "id": "first-discrimination",
   "metadata": {},
   "outputs": [],
   "source": [
    "j = ['D', 'E', 'A']"
   ]
  },
  {
   "cell_type": "code",
   "execution_count": 81,
   "id": "derived-change",
   "metadata": {},
   "outputs": [
    {
     "data": {
      "text/plain": [
       "['A', 'B', 'C', 'D', 'E', 'A']"
      ]
     },
     "execution_count": 81,
     "metadata": {},
     "output_type": "execute_result"
    }
   ],
   "source": [
    "l + i + j"
   ]
  },
  {
   "cell_type": "code",
   "execution_count": 94,
   "id": "satisfied-suicide",
   "metadata": {},
   "outputs": [],
   "source": [
    "l = []\n",
    "for i in range(3):\n",
    "    for j in range(5):\n",
    "        l.append(j)"
   ]
  },
  {
   "cell_type": "code",
   "execution_count": 95,
   "id": "neither-summer",
   "metadata": {},
   "outputs": [
    {
     "data": {
      "text/plain": [
       "[0, 1, 2, 3, 4, 0, 1, 2, 3, 4, 0, 1, 2, 3, 4]"
      ]
     },
     "execution_count": 95,
     "metadata": {},
     "output_type": "execute_result"
    }
   ],
   "source": [
    "l"
   ]
  }
 ],
 "metadata": {
  "kernelspec": {
   "display_name": "Python 3",
   "language": "python",
   "name": "python3"
  },
  "language_info": {
   "codemirror_mode": {
    "name": "ipython",
    "version": 3
   },
   "file_extension": ".py",
   "mimetype": "text/x-python",
   "name": "python",
   "nbconvert_exporter": "python",
   "pygments_lexer": "ipython3",
   "version": "3.8.3"
  }
 },
 "nbformat": 4,
 "nbformat_minor": 5
}
