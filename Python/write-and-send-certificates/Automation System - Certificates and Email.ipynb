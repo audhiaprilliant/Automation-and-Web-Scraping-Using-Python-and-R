{
 "cells": [
  {
   "cell_type": "markdown",
   "metadata": {},
   "source": [
    "# Automation System for Sending Email with Custom Certificates"
   ]
  },
  {
   "cell_type": "markdown",
   "metadata": {
    "ExecuteTime": {
     "end_time": "2020-05-29T15:12:05.536634Z",
     "start_time": "2020-05-29T15:12:05.527345Z"
    }
   },
   "source": [
    "For more info about sending email in Python, [**click here!**](https://realpython.com/python-send-email/) <br>\n",
    "And for inserting text in images, [**click here**](https://amehta.github.io/posts/2019/08/adding-text-to-an-image-using-opencv-and-python/)"
   ]
  },
  {
   "cell_type": "markdown",
   "metadata": {},
   "source": [
    "**Note** For only one receiver"
   ]
  },
  {
   "cell_type": "markdown",
   "metadata": {},
   "source": [
    "## Import Modules"
   ]
  },
  {
   "cell_type": "code",
   "execution_count": 1,
   "metadata": {
    "ExecuteTime": {
     "end_time": "2020-07-07T12:57:33.892276Z",
     "start_time": "2020-07-07T12:57:33.380112Z"
    }
   },
   "outputs": [],
   "source": [
    "# Import module for image editing\n",
    "from PIL import Image, ImageDraw, ImageFont\n",
    "# Import modules for sending email\n",
    "import email, smtplib, ssl\n",
    "from email import encoders\n",
    "from email.mime.base import MIMEBase\n",
    "from email.mime.multipart import MIMEMultipart\n",
    "from email.mime.text import MIMEText\n",
    "# Import markdown\n",
    "import markdown"
   ]
  },
  {
   "cell_type": "markdown",
   "metadata": {},
   "source": [
    "## Open Images"
   ]
  },
  {
   "cell_type": "code",
   "execution_count": 2,
   "metadata": {
    "ExecuteTime": {
     "end_time": "2020-07-07T12:57:50.205839Z",
     "start_time": "2020-07-07T12:57:49.578252Z"
    }
   },
   "outputs": [],
   "source": [
    "# Create image object\n",
    "image = Image.open('images/Certificate for Gryffindor.jpg')\n",
    "draw = ImageDraw.Draw(image)\n",
    "# Image size\n",
    "width,height = image.size"
   ]
  },
  {
   "cell_type": "markdown",
   "metadata": {},
   "source": [
    "## Insert Participant Names"
   ]
  },
  {
   "cell_type": "code",
   "execution_count": 3,
   "metadata": {
    "ExecuteTime": {
     "end_time": "2020-07-07T12:57:54.336635Z",
     "start_time": "2020-07-07T12:57:54.307872Z"
    }
   },
   "outputs": [],
   "source": [
    "# Specified font-style and font-size \n",
    "font = ImageFont.truetype(font='font/OpenSans-CondBold.ttf',size=120)"
   ]
  },
  {
   "cell_type": "code",
   "execution_count": 4,
   "metadata": {
    "ExecuteTime": {
     "end_time": "2020-07-07T12:58:02.568058Z",
     "start_time": "2020-07-07T12:58:02.546787Z"
    }
   },
   "outputs": [],
   "source": [
    "# Specify text\n",
    "text = 'Harry Potter'\n",
    "# Text size for making it center\n",
    "w,h = draw.textsize(text,font=font)"
   ]
  },
  {
   "cell_type": "code",
   "execution_count": 5,
   "metadata": {
    "ExecuteTime": {
     "end_time": "2020-07-07T12:58:04.230331Z",
     "start_time": "2020-07-07T12:58:04.219459Z"
    }
   },
   "outputs": [],
   "source": [
    "draw.text(xy=((width-w)/2,(height-h)/2 - 50),text=text,font=font,fill='black',align='left')"
   ]
  },
  {
   "cell_type": "code",
   "execution_count": 6,
   "metadata": {
    "ExecuteTime": {
     "end_time": "2020-07-07T12:58:06.228090Z",
     "start_time": "2020-07-07T12:58:05.662444Z"
    }
   },
   "outputs": [],
   "source": [
    "image.show()"
   ]
  },
  {
   "cell_type": "markdown",
   "metadata": {},
   "source": [
    "## Convert PNG to PDF Document"
   ]
  },
  {
   "cell_type": "code",
   "execution_count": 7,
   "metadata": {
    "ExecuteTime": {
     "end_time": "2020-07-07T12:58:39.538952Z",
     "start_time": "2020-07-07T12:58:39.110312Z"
    }
   },
   "outputs": [],
   "source": [
    "imagePDF = image.convert('RGB')\n",
    "imagePDF.save('Certificate for Gryffindor.pdf')"
   ]
  },
  {
   "cell_type": "markdown",
   "metadata": {},
   "source": [
    "## Sending Email"
   ]
  },
  {
   "cell_type": "code",
   "execution_count": 21,
   "metadata": {
    "ExecuteTime": {
     "end_time": "2020-07-07T13:02:07.464790Z",
     "start_time": "2020-07-07T13:01:58.033155Z"
    }
   },
   "outputs": [
    {
     "name": "stdout",
     "output_type": "stream",
     "text": [
      "Type your password and press enter:xxxxxxxxxxxxxxxx\n"
     ]
    }
   ],
   "source": [
    "sender_email = 'school@hogwarts.com'\n",
    "receiver_email = 'harry_potter@hogwarts.com'\n",
    "password = input('Type your password and press enter:')"
   ]
  },
  {
   "cell_type": "markdown",
   "metadata": {},
   "source": [
    "**Configure subject of email**"
   ]
  },
  {
   "cell_type": "code",
   "execution_count": 9,
   "metadata": {
    "ExecuteTime": {
     "end_time": "2020-07-07T13:00:38.494424Z",
     "start_time": "2020-07-07T13:00:38.488980Z"
    }
   },
   "outputs": [],
   "source": [
    "subject = 'Certificate for Gryffindor Student - {receiver}'.format(receiver = text)"
   ]
  },
  {
   "cell_type": "code",
   "execution_count": 10,
   "metadata": {
    "ExecuteTime": {
     "end_time": "2020-07-07T13:00:43.974752Z",
     "start_time": "2020-07-07T13:00:43.967727Z"
    }
   },
   "outputs": [],
   "source": [
    "# Create a multipart message and set headers\n",
    "message = MIMEMultipart()\n",
    "message['From'] = sender_email\n",
    "message['To'] = receiver_email\n",
    "message['Subject'] = subject\n",
    "# message['Bcc'] = receiver_email # Recommended for mass emails "
   ]
  },
  {
   "cell_type": "markdown",
   "metadata": {},
   "source": [
    "**Configure body of email**"
   ]
  },
  {
   "cell_type": "code",
   "execution_count": 11,
   "metadata": {
    "ExecuteTime": {
     "end_time": "2020-07-07T13:00:47.429210Z",
     "start_time": "2020-07-07T13:00:47.343350Z"
    }
   },
   "outputs": [],
   "source": [
    "f = open('markdown/body.md','r')\n",
    "htmlmarkdown = markdown.markdown(f.read())"
   ]
  },
  {
   "cell_type": "code",
   "execution_count": 12,
   "metadata": {
    "ExecuteTime": {
     "end_time": "2020-07-07T13:00:49.435788Z",
     "start_time": "2020-07-07T13:00:49.428077Z"
    }
   },
   "outputs": [
    {
     "name": "stdout",
     "output_type": "stream",
     "text": [
      "<p>HOGWARTS SCHOOL of WITCHCRAFT and WIZARDRY  </p>\n",
      "<p>Headmaster: Albus Dumbledore<br />\n",
      "(Order of Merlin, First Class, Grand Sorc., Chf. Warlock,<br />\n",
      "Supreme Mugwump, International Confed. of Wizards)  </p>\n",
      "<p>Dear Mr/Ms. {receiver_name},<br />\n",
      "We are pleased to inform you that you have been accepted at Hogwarts School of Witchcraft and Wizardry. Please find enclosed a list of all necessary books and equipment.<br />\n",
      "Term begins on 1 September. We await your owl by no later than 31 July.</p>\n",
      "<p>Yours sincerely,  </p>\n",
      "<p>Minerva McGonagall<br />\n",
      "Deputy Headmistress</p>\n"
     ]
    }
   ],
   "source": [
    "print(htmlmarkdown)"
   ]
  },
  {
   "cell_type": "code",
   "execution_count": 13,
   "metadata": {
    "ExecuteTime": {
     "end_time": "2020-07-07T13:00:58.352340Z",
     "start_time": "2020-07-07T13:00:58.346597Z"
    }
   },
   "outputs": [],
   "source": [
    "body = htmlmarkdown.format(receiver_name = text)"
   ]
  },
  {
   "cell_type": "code",
   "execution_count": 14,
   "metadata": {
    "ExecuteTime": {
     "end_time": "2020-07-07T13:01:01.292250Z",
     "start_time": "2020-07-07T13:01:01.286700Z"
    }
   },
   "outputs": [],
   "source": [
    "# Turn these into plain/html MIMEText objects\n",
    "body = MIMEText(body,'html')"
   ]
  },
  {
   "cell_type": "code",
   "execution_count": 15,
   "metadata": {
    "ExecuteTime": {
     "end_time": "2020-07-07T13:01:03.352087Z",
     "start_time": "2020-07-07T13:01:03.344143Z"
    }
   },
   "outputs": [],
   "source": [
    "# Add HTML/plain-text parts to MIMEMultipart message\n",
    "# The email client will try to render the last part first\n",
    "message.attach(body)"
   ]
  },
  {
   "cell_type": "markdown",
   "metadata": {},
   "source": [
    "**Configure attachment file**"
   ]
  },
  {
   "cell_type": "code",
   "execution_count": 16,
   "metadata": {
    "ExecuteTime": {
     "end_time": "2020-07-07T13:01:18.249947Z",
     "start_time": "2020-07-07T13:01:18.239439Z"
    }
   },
   "outputs": [],
   "source": [
    "filename = 'Certificate for Gryffindor.pdf'\n",
    "# Open PDF file in binary mode\n",
    "with open(filename, 'rb') as attachment:\n",
    "    # Add file as application/octet-stream\n",
    "    # Email client can usually download this automatically as attachment\n",
    "    part = MIMEBase('application','octet-stream')\n",
    "    part.set_payload(attachment.read())"
   ]
  },
  {
   "cell_type": "code",
   "execution_count": 17,
   "metadata": {
    "ExecuteTime": {
     "end_time": "2020-07-07T13:01:19.907314Z",
     "start_time": "2020-07-07T13:01:19.894725Z"
    }
   },
   "outputs": [],
   "source": [
    "# Encode file in ASCII characters to send by email    \n",
    "encoders.encode_base64(part)"
   ]
  },
  {
   "cell_type": "code",
   "execution_count": 18,
   "metadata": {
    "ExecuteTime": {
     "end_time": "2020-07-07T13:01:21.147497Z",
     "start_time": "2020-07-07T13:01:21.142048Z"
    }
   },
   "outputs": [],
   "source": [
    "# Add header as key/value pair to attachment part\n",
    "part.add_header(\n",
    "    'Content-Disposition',\n",
    "    f'attachment; filename= {filename}'\n",
    ")"
   ]
  },
  {
   "cell_type": "code",
   "execution_count": 19,
   "metadata": {
    "ExecuteTime": {
     "end_time": "2020-07-07T13:01:23.190267Z",
     "start_time": "2020-07-07T13:01:23.164252Z"
    }
   },
   "outputs": [],
   "source": [
    "# Add attachment to message and convert message to string\n",
    "message.attach(part)\n",
    "text = message.as_string()"
   ]
  },
  {
   "cell_type": "markdown",
   "metadata": {},
   "source": [
    "**Send email**"
   ]
  },
  {
   "cell_type": "code",
   "execution_count": 20,
   "metadata": {
    "ExecuteTime": {
     "end_time": "2020-07-07T13:01:35.316996Z",
     "start_time": "2020-07-07T13:01:25.980070Z"
    },
    "scrolled": false
   },
   "outputs": [],
   "source": [
    "# Create secure connection with server and send email\n",
    "context = ssl.create_default_context()\n",
    "with smtplib.SMTP_SSL('smtp.gmail.com',465,context=context) as server:\n",
    "    server.login(sender_email, password)\n",
    "    server.sendmail(\n",
    "        sender_email, receiver_email,text\n",
    "    )"
   ]
  }
 ],
 "metadata": {
  "kernelspec": {
   "display_name": "Python 3",
   "language": "python",
   "name": "python3"
  },
  "language_info": {
   "codemirror_mode": {
    "name": "ipython",
    "version": 3
   },
   "file_extension": ".py",
   "mimetype": "text/x-python",
   "name": "python",
   "nbconvert_exporter": "python",
   "pygments_lexer": "ipython3",
   "version": "3.6.9"
  }
 },
 "nbformat": 4,
 "nbformat_minor": 2
}
