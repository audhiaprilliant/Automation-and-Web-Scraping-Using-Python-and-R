{
 "cells": [
  {
   "cell_type": "markdown",
   "id": "precious-mexican",
   "metadata": {},
   "source": [
    "# Terminal"
   ]
  },
  {
   "cell_type": "markdown",
   "id": "prescribed-helmet",
   "metadata": {},
   "source": [
    "---"
   ]
  },
  {
   "cell_type": "markdown",
   "id": "anonymous-eight",
   "metadata": {},
   "source": [
    "## Get data from tables"
   ]
  },
  {
   "cell_type": "code",
   "execution_count": null,
   "id": "statistical-cheat",
   "metadata": {},
   "outputs": [],
   "source": [
    "%run table-main-dev.py"
   ]
  },
  {
   "cell_type": "markdown",
   "id": "limited-visitor",
   "metadata": {},
   "source": [
    "## Get detailed data"
   ]
  },
  {
   "cell_type": "code",
   "execution_count": null,
   "id": "connected-italy",
   "metadata": {
    "scrolled": true
   },
   "outputs": [],
   "source": [
    "%run table-detail-dev.py"
   ]
  }
 ],
 "metadata": {
  "kernelspec": {
   "display_name": "Python 3",
   "language": "python",
   "name": "python3"
  },
  "language_info": {
   "codemirror_mode": {
    "name": "ipython",
    "version": 3
   },
   "file_extension": ".py",
   "mimetype": "text/x-python",
   "name": "python",
   "nbconvert_exporter": "python",
   "pygments_lexer": "ipython3",
   "version": "3.8.3"
  }
 },
 "nbformat": 4,
 "nbformat_minor": 5
}
