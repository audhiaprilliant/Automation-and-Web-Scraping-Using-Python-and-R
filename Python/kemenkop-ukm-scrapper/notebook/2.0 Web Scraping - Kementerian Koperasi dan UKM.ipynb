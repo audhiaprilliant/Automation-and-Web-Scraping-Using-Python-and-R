{
 "cells": [
  {
   "cell_type": "markdown",
   "id": "optional-elder",
   "metadata": {},
   "source": [
    "# Web Scraping - Kementerian Koperasi dan UKM"
   ]
  },
  {
   "cell_type": "markdown",
   "id": "equal-tattoo",
   "metadata": {},
   "source": [
    "---"
   ]
  },
  {
   "cell_type": "markdown",
   "id": "dynamic-feeding",
   "metadata": {},
   "source": [
    "For introduction of Selenium, please be kind to open [**this site**](https://www.scrapingbee.com/blog/selenium-python/)"
   ]
  },
  {
   "cell_type": "markdown",
   "id": "indirect-islam",
   "metadata": {},
   "source": [
    "## Import modules"
   ]
  },
  {
   "cell_type": "markdown",
   "id": "functioning-voluntary",
   "metadata": {
    "scrolled": true
   },
   "source": [
    "`%pip freeze > requirements.txt`"
   ]
  },
  {
   "cell_type": "code",
   "execution_count": 13,
   "id": "acceptable-denial",
   "metadata": {
    "ExecuteTime": {
     "end_time": "2020-06-19T23:39:06.502572Z",
     "start_time": "2020-06-19T23:39:06.497076Z"
    }
   },
   "outputs": [],
   "source": [
    "# Module for web scraping\n",
    "from selenium import webdriver\n",
    "from selenium.webdriver.support.ui import Select\n",
    "from selenium.webdriver.chrome.options import Options\n",
    "from selenium.common.exceptions import NoSuchElementException\n",
    "# Module for data manipulation\n",
    "import pandas as pd\n",
    "# Module for regular expression\n",
    "import re"
   ]
  },
  {
   "cell_type": "markdown",
   "id": "congressional-textbook",
   "metadata": {},
   "source": [
    "## Load the Chromedriver"
   ]
  },
  {
   "cell_type": "markdown",
   "id": "supposed-progressive",
   "metadata": {},
   "source": [
    "Read how to download webdriver for Chrome [**here**]('https://chromedriver.chromium.org/downloads')"
   ]
  },
  {
   "cell_type": "code",
   "execution_count": 14,
   "id": "useful-aquarium",
   "metadata": {},
   "outputs": [],
   "source": [
    "# Main link\n",
    "main_link = 'http://nik.depkop.go.id/Detail.aspx?KoperasiId=1201060060001'"
   ]
  },
  {
   "cell_type": "code",
   "execution_count": 15,
   "id": "universal-knight",
   "metadata": {
    "ExecuteTime": {
     "end_time": "2020-06-19T23:29:33.659375Z",
     "start_time": "2020-06-19T23:29:18.312261Z"
    },
    "scrolled": true
   },
   "outputs": [],
   "source": [
    "# Access to main link\n",
    "DRIVER_PATH = '../bin/chromedriver'\n",
    "driver = webdriver.Chrome(executable_path = DRIVER_PATH)\n",
    "driver.get(main_link)"
   ]
  },
  {
   "cell_type": "markdown",
   "id": "psychological-reply",
   "metadata": {},
   "source": [
    "## Core Procedure"
   ]
  },
  {
   "cell_type": "markdown",
   "id": "signal-house",
   "metadata": {},
   "source": [
    "### 1 Get the table"
   ]
  },
  {
   "cell_type": "code",
   "execution_count": 16,
   "id": "standard-gospel",
   "metadata": {},
   "outputs": [],
   "source": [
    "# Get the table elements\n",
    "tableObj = driver.find_element_by_tag_name('tbody').find_elements_by_tag_name('tr')"
   ]
  },
  {
   "cell_type": "code",
   "execution_count": 48,
   "id": "cardiovascular-korea",
   "metadata": {},
   "outputs": [],
   "source": [
    "# Column names\n",
    "listVal = {}\n",
    "\n",
    "# Get the column names\n",
    "for elem in tableObj:\n",
    "    val = elem.find_elements_by_tag_name('td')\n",
    "    \n",
    "    # Get the key and value\n",
    "    if val[0].text not in ['DATA KOPERASI', 'DATA PENGURUS', 'DATA KELEMBAGAAN', 'DATA LAINNYA']:\n",
    "        key = val[0].text\n",
    "        value = val[1].text\n",
    "        # Update the dictionary\n",
    "        listVal.update(\n",
    "            {\n",
    "                key: value\n",
    "            }\n",
    "        )\n",
    "    else:\n",
    "        pass"
   ]
  },
  {
   "cell_type": "code",
   "execution_count": 49,
   "id": "prospective-webcam",
   "metadata": {},
   "outputs": [
    {
     "data": {
      "text/plain": [
       "{'Koperasi': 'Koperasi Perikanan Camar Laut Putih',\n",
       " 'Nomor Badan Hukum Pendirian': '004113/BH/M.KUKM.2/V/2017',\n",
       " 'Tanggal Badan Hukum Pendirian': '02/05/2017',\n",
       " 'Nomor Perubahan Anggaran Dasar (Terbaru)': ' ',\n",
       " 'Tanggal Perubahan Anggaran Dasar (Terbaru)': ' ',\n",
       " 'Tanggal RAT Terakhir': '04/05/2018',\n",
       " 'Alamat': 'Bozihona',\n",
       " 'Kelurahan / Desa': 'Desa Bozihona',\n",
       " 'Kecamatan': 'Idano Gawo',\n",
       " 'Kabupaten': 'Kab. Nias',\n",
       " 'Provinsi': 'Sumatera Utara',\n",
       " 'Bentuk Koperasi': 'Primer Kabupaten/Kota',\n",
       " 'Jenis Koperasi': 'Produsen',\n",
       " 'Kelompok Koperasi': 'Kop. Nelayan',\n",
       " 'Sektor Usaha': 'Jasa Lainnya',\n",
       " 'Nama Ketua': 'IRWANSYAH HURA',\n",
       " 'Nama Sekretaris': 'SAFRIL HALAWA',\n",
       " 'Nama Bendahara': ' ',\n",
       " 'Nama Pengawas': ' ',\n",
       " 'Nama Manager': ' ',\n",
       " 'Jumlah Anggota Pria': '20',\n",
       " 'Jumlah Anggota Wanita': '0',\n",
       " 'Total Anggota': '20',\n",
       " 'Total Manajer': '0',\n",
       " 'Total Karyawan': '0',\n",
       " 'Nomor Induk Koperasi (NIK)': '1201060060001',\n",
       " 'Status NIK': 'Belum Bersertifikat',\n",
       " 'Tanggal Berlaku Sertifikat': ' ',\n",
       " 'Status Grade': 'D'}"
      ]
     },
     "execution_count": 49,
     "metadata": {},
     "output_type": "execute_result"
    }
   ],
   "source": [
    "listVal"
   ]
  },
  {
   "cell_type": "markdown",
   "id": "appointed-education",
   "metadata": {},
   "source": [
    "### 2 Concate the data"
   ]
  },
  {
   "cell_type": "code",
   "execution_count": 50,
   "id": "presidential-belle",
   "metadata": {},
   "outputs": [],
   "source": [
    "# NIK\n",
    "ids = re.findall(pattern = '(\\d+)', string = main_link)\n",
    "\n",
    "# The data\n",
    "df = {\n",
    "    str(ids[0]): listVal\n",
    "}"
   ]
  },
  {
   "cell_type": "code",
   "execution_count": 51,
   "id": "peaceful-export",
   "metadata": {
    "scrolled": false
   },
   "outputs": [
    {
     "data": {
      "text/plain": [
       "{'1201060060001': {'Koperasi': 'Koperasi Perikanan Camar Laut Putih',\n",
       "  'Nomor Badan Hukum Pendirian': '004113/BH/M.KUKM.2/V/2017',\n",
       "  'Tanggal Badan Hukum Pendirian': '02/05/2017',\n",
       "  'Nomor Perubahan Anggaran Dasar (Terbaru)': ' ',\n",
       "  'Tanggal Perubahan Anggaran Dasar (Terbaru)': ' ',\n",
       "  'Tanggal RAT Terakhir': '04/05/2018',\n",
       "  'Alamat': 'Bozihona',\n",
       "  'Kelurahan / Desa': 'Desa Bozihona',\n",
       "  'Kecamatan': 'Idano Gawo',\n",
       "  'Kabupaten': 'Kab. Nias',\n",
       "  'Provinsi': 'Sumatera Utara',\n",
       "  'Bentuk Koperasi': 'Primer Kabupaten/Kota',\n",
       "  'Jenis Koperasi': 'Produsen',\n",
       "  'Kelompok Koperasi': 'Kop. Nelayan',\n",
       "  'Sektor Usaha': 'Jasa Lainnya',\n",
       "  'Nama Ketua': 'IRWANSYAH HURA',\n",
       "  'Nama Sekretaris': 'SAFRIL HALAWA',\n",
       "  'Nama Bendahara': ' ',\n",
       "  'Nama Pengawas': ' ',\n",
       "  'Nama Manager': ' ',\n",
       "  'Jumlah Anggota Pria': '20',\n",
       "  'Jumlah Anggota Wanita': '0',\n",
       "  'Total Anggota': '20',\n",
       "  'Total Manajer': '0',\n",
       "  'Total Karyawan': '0',\n",
       "  'Nomor Induk Koperasi (NIK)': '1201060060001',\n",
       "  'Status NIK': 'Belum Bersertifikat',\n",
       "  'Tanggal Berlaku Sertifikat': ' ',\n",
       "  'Status Grade': 'D'}}"
      ]
     },
     "execution_count": 51,
     "metadata": {},
     "output_type": "execute_result"
    }
   ],
   "source": [
    "df"
   ]
  }
 ],
 "metadata": {
  "kernelspec": {
   "display_name": "Python 3",
   "language": "python",
   "name": "python3"
  },
  "language_info": {
   "codemirror_mode": {
    "name": "ipython",
    "version": 3
   },
   "file_extension": ".py",
   "mimetype": "text/x-python",
   "name": "python",
   "nbconvert_exporter": "python",
   "pygments_lexer": "ipython3",
   "version": "3.8.3"
  }
 },
 "nbformat": 4,
 "nbformat_minor": 5
}
