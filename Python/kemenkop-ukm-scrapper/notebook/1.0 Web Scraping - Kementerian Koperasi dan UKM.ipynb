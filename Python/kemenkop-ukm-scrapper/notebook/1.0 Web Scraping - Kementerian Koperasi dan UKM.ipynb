{
 "cells": [
  {
   "cell_type": "markdown",
   "id": "optional-elder",
   "metadata": {},
   "source": [
    "# Web Scraping - Kementerian Koperasi dan UKM"
   ]
  },
  {
   "cell_type": "markdown",
   "id": "equal-tattoo",
   "metadata": {},
   "source": [
    "---"
   ]
  },
  {
   "cell_type": "markdown",
   "id": "dynamic-feeding",
   "metadata": {},
   "source": [
    "For introduction of Selenium, please be kind to open [**this site**](https://www.scrapingbee.com/blog/selenium-python/)"
   ]
  },
  {
   "cell_type": "markdown",
   "id": "indirect-islam",
   "metadata": {},
   "source": [
    "## Import modules"
   ]
  },
  {
   "cell_type": "markdown",
   "id": "functioning-voluntary",
   "metadata": {
    "scrolled": true
   },
   "source": [
    "`%pip freeze > requirements.txt`"
   ]
  },
  {
   "cell_type": "code",
   "execution_count": 3,
   "id": "acceptable-denial",
   "metadata": {
    "ExecuteTime": {
     "end_time": "2020-06-19T23:39:06.502572Z",
     "start_time": "2020-06-19T23:39:06.497076Z"
    }
   },
   "outputs": [],
   "source": [
    "# Module for web scraping\n",
    "from selenium import webdriver\n",
    "from selenium.webdriver.support.ui import Select\n",
    "from selenium.webdriver.chrome.options import Options\n",
    "from selenium.common.exceptions import NoSuchElementException\n",
    "# Module for data manipulation\n",
    "import pandas as pd"
   ]
  },
  {
   "cell_type": "markdown",
   "id": "congressional-textbook",
   "metadata": {},
   "source": [
    "## Load the Chromedriver"
   ]
  },
  {
   "cell_type": "markdown",
   "id": "supposed-progressive",
   "metadata": {},
   "source": [
    "Read how to download webdriver for Chrome [**here**]('https://chromedriver.chromium.org/downloads')"
   ]
  },
  {
   "cell_type": "code",
   "execution_count": 109,
   "id": "useful-aquarium",
   "metadata": {},
   "outputs": [],
   "source": [
    "# Main link\n",
    "main_link = 'http://nik.depkop.go.id/'"
   ]
  },
  {
   "cell_type": "code",
   "execution_count": 110,
   "id": "universal-knight",
   "metadata": {
    "ExecuteTime": {
     "end_time": "2020-06-19T23:29:33.659375Z",
     "start_time": "2020-06-19T23:29:18.312261Z"
    },
    "scrolled": true
   },
   "outputs": [],
   "source": [
    "# Access to main link\n",
    "DRIVER_PATH = '../bin/chromedriver'\n",
    "driver = webdriver.Chrome(executable_path = DRIVER_PATH)\n",
    "driver.get(main_link)"
   ]
  },
  {
   "cell_type": "markdown",
   "id": "psychological-reply",
   "metadata": {},
   "source": [
    "## Core Procedure"
   ]
  },
  {
   "cell_type": "markdown",
   "id": "signal-house",
   "metadata": {},
   "source": [
    "### 1 Get main dropdown"
   ]
  },
  {
   "cell_type": "code",
   "execution_count": 111,
   "id": "informational-romance",
   "metadata": {},
   "outputs": [],
   "source": [
    "# Get the dropdown object\n",
    "dropdownMain = driver.find_element_by_id('MainContent_DropDownList1')"
   ]
  },
  {
   "cell_type": "code",
   "execution_count": 112,
   "id": "usual-emperor",
   "metadata": {},
   "outputs": [],
   "source": [
    "# Select the dropdown object\n",
    "selectorMain = Select(dropdownMain)\n",
    "\n",
    "# List of dropdown list\n",
    "listDropdownMain = []\n",
    "\n",
    "# Get elements in dropdown\n",
    "optionsMain = selectorMain.options\n",
    "for index in range(len(optionsMain)):\n",
    "    listDropdownMain.append(optionsMain[index].text)"
   ]
  },
  {
   "cell_type": "code",
   "execution_count": 113,
   "id": "solid-balloon",
   "metadata": {
    "scrolled": true
   },
   "outputs": [
    {
     "data": {
      "text/plain": [
       "['Aceh',\n",
       " 'Sumatera Utara',\n",
       " 'Sumatera Barat',\n",
       " 'Riau',\n",
       " 'Jambi',\n",
       " 'Sumatera Selatan',\n",
       " 'Bengkulu',\n",
       " 'Lampung',\n",
       " 'Kepulauan Bangka Belitung',\n",
       " 'Kepulauan Riau',\n",
       " 'DKI Jakarta',\n",
       " 'Jawa Barat',\n",
       " 'Jawa Tengah',\n",
       " 'D.I. Yogyakarta',\n",
       " 'Jawa Timur',\n",
       " 'Banten',\n",
       " 'Bali',\n",
       " 'Nusa Tenggara Barat',\n",
       " 'Nusa Tenggara Timur',\n",
       " 'Kalimantan Barat',\n",
       " 'Kalimantan Tengah',\n",
       " 'Kalimantan Selatan',\n",
       " 'Kalimantan Timur',\n",
       " 'Kalimantan Utara',\n",
       " 'Sulawesi Utara',\n",
       " 'Sulawesi Tengah',\n",
       " 'Sulawesi Selatan',\n",
       " 'Sulawesi Tenggara',\n",
       " 'Gorontalo',\n",
       " 'Sulawesi Barat',\n",
       " 'Maluku',\n",
       " 'Maluku Utara',\n",
       " 'Papua',\n",
       " 'Papua Barat']"
      ]
     },
     "execution_count": 113,
     "metadata": {},
     "output_type": "execute_result"
    }
   ],
   "source": [
    "# Elements in dropdown\n",
    "listDropdownMain"
   ]
  },
  {
   "cell_type": "code",
   "execution_count": 114,
   "id": "frozen-series",
   "metadata": {},
   "outputs": [],
   "source": [
    "# Select the one element in dropdown\n",
    "selectorMain.select_by_visible_text('Jawa Timur')"
   ]
  },
  {
   "cell_type": "markdown",
   "id": "written-globe",
   "metadata": {},
   "source": [
    "### 2 Get sub-main dropdown"
   ]
  },
  {
   "cell_type": "code",
   "execution_count": 115,
   "id": "alien-spanish",
   "metadata": {},
   "outputs": [],
   "source": [
    "# Get the dropdown object\n",
    "dropdownSubmain = driver.find_element_by_id('MainContent_DropDownList2')"
   ]
  },
  {
   "cell_type": "code",
   "execution_count": 116,
   "id": "criminal-camcorder",
   "metadata": {},
   "outputs": [],
   "source": [
    "# Select the dropdown object\n",
    "selectorSubmain = Select(dropdownSubmain)\n",
    "\n",
    "# List of dropdown list\n",
    "listDropdownSubmain = []\n",
    "\n",
    "# Get elements in dropdown\n",
    "optionsSubmain = selectorSubmain.options\n",
    "for index in range(len(optionsSubmain)):\n",
    "    listDropdownSubmain.append(optionsSubmain[index].text)"
   ]
  },
  {
   "cell_type": "code",
   "execution_count": 117,
   "id": "distinct-adventure",
   "metadata": {
    "scrolled": true
   },
   "outputs": [
    {
     "data": {
      "text/plain": [
       "['Kab. Pacitan',\n",
       " 'Kab. Ponorogo',\n",
       " 'Kab. Trenggalek',\n",
       " 'Kab. Tulungagung',\n",
       " 'Kab. Blitar',\n",
       " 'Kab. Kediri',\n",
       " 'Kab. Malang',\n",
       " 'Kab. Lumajang',\n",
       " 'Kab. Jember',\n",
       " 'Kab. Banyuwangi',\n",
       " 'Kab. Bondowoso',\n",
       " 'Kab. Situbondo',\n",
       " 'Kab. Probolinggo',\n",
       " 'Kab. Pasuruan',\n",
       " 'Kab. Sidoarjo',\n",
       " 'Kab. Mojokerto',\n",
       " 'Kab. Jombang',\n",
       " 'Kab. Nganjuk',\n",
       " 'Kab. Madiun',\n",
       " 'Kab. Magetan',\n",
       " 'Kab. Ngawi',\n",
       " 'Kab. Bojonegoro',\n",
       " 'Kab. Tuban',\n",
       " 'Kab. Lamongan',\n",
       " 'Kab. Gresik',\n",
       " 'Kab. Bangkalan',\n",
       " 'Kab. Sampang',\n",
       " 'Kab. Pamekasan',\n",
       " 'Kab. Sumenep',\n",
       " 'Kota Kediri',\n",
       " 'Kota Blitar',\n",
       " 'Kota Malang',\n",
       " 'Kota Probolinggo',\n",
       " 'Kota Pasuruan',\n",
       " 'Kota Mojokerto',\n",
       " 'Kota Madiun',\n",
       " 'Kota Surabaya',\n",
       " 'Kota Batu']"
      ]
     },
     "execution_count": 117,
     "metadata": {},
     "output_type": "execute_result"
    }
   ],
   "source": [
    "# Elements in dropdown\n",
    "listDropdownSubmain"
   ]
  },
  {
   "cell_type": "code",
   "execution_count": 118,
   "id": "appropriate-budapest",
   "metadata": {
    "scrolled": true
   },
   "outputs": [],
   "source": [
    "# Select the one element in dropdown\n",
    "selectorSubmain.select_by_visible_text('Kab. Tuban')"
   ]
  },
  {
   "cell_type": "markdown",
   "id": "adequate-whale",
   "metadata": {},
   "source": [
    "### 4 Pagination"
   ]
  },
  {
   "cell_type": "code",
   "execution_count": 119,
   "id": "oriental-semester",
   "metadata": {},
   "outputs": [],
   "source": [
    "# Object of pagination\n",
    "tableObj = driver.find_element_by_id('MainContent_GridView1')\n",
    "pageObj = tableObj.find_element_by_tag_name('tbody').find_elements_by_tag_name('tr')[0]"
   ]
  },
  {
   "cell_type": "code",
   "execution_count": 120,
   "id": "young-ireland",
   "metadata": {},
   "outputs": [],
   "source": [
    "# Pagination\n",
    "pages = pageObj.find_elements_by_tag_name('a')\n",
    "# Active pages\n",
    "activePages = pages[0:]"
   ]
  },
  {
   "cell_type": "code",
   "execution_count": 121,
   "id": "another-wound",
   "metadata": {},
   "outputs": [
    {
     "name": "stdout",
     "output_type": "stream",
     "text": [
      "['2', '3', '4', '5', '6', '7', '8', '9', '10', '...']\n",
      "...\n"
     ]
    }
   ],
   "source": [
    "l = []\n",
    "for i in activePages:\n",
    "    l.append(i.text)\n",
    "print(l)\n",
    "print(l[len(l) - 1])"
   ]
  },
  {
   "cell_type": "code",
   "execution_count": 122,
   "id": "impaired-acrylic",
   "metadata": {},
   "outputs": [
    {
     "name": "stdout",
     "output_type": "stream",
     "text": [
      "...\n",
      "...\n"
     ]
    }
   ],
   "source": [
    "for i in driver.find_elements_by_link_text(l[len(l) - 1]):\n",
    "    print(i.text)"
   ]
  },
  {
   "cell_type": "code",
   "execution_count": 707,
   "id": "interstate-grill",
   "metadata": {},
   "outputs": [
    {
     "data": {
      "text/plain": [
       "['11', '12', '13', '14', '15', '16', '17', '18', '19', '20', '...']"
      ]
     },
     "execution_count": 707,
     "metadata": {},
     "output_type": "execute_result"
    }
   ],
   "source": [
    "l = ['2', '3', '4', '5', '6', '7', '8', '9', '10', '...']\n",
    "k = ['...', '11', '12', '13', '14', '15', '16', '17', '18', '19', '20', '...']\n",
    "m = sorted(list(set(k[:len(k) - 1]) - set(l))) + [k[len(k) - 1]]\n",
    "m"
   ]
  },
  {
   "cell_type": "code",
   "execution_count": 676,
   "id": "allied-works",
   "metadata": {},
   "outputs": [],
   "source": [
    "# Last index\n",
    "l = ['2', '3', '4', '5', '6', '7', '8', '9', '10', '...']\n",
    "try:\n",
    "    driver.find_elements_by_link_text(l[len(l) - 1])[1].click()\n",
    "except:\n",
    "    driver.find_elements_by_link_text(l[len(l) - 1])[0].click()"
   ]
  },
  {
   "cell_type": "code",
   "execution_count": 677,
   "id": "varied-reality",
   "metadata": {},
   "outputs": [],
   "source": [
    "tableObj = driver.find_element_by_id('MainContent_GridView1')\n",
    "pageObj = tableObj.find_element_by_tag_name('tbody').find_elements_by_tag_name('tr')[0]\n",
    "# Pagination\n",
    "pages = pageObj.find_elements_by_tag_name('a')"
   ]
  },
  {
   "cell_type": "code",
   "execution_count": 678,
   "id": "considerable-earth",
   "metadata": {},
   "outputs": [],
   "source": [
    "activePages = pages[0:]\n",
    "k = []\n",
    "for i in activePages:\n",
    "    k.append(i.text)"
   ]
  },
  {
   "cell_type": "code",
   "execution_count": 686,
   "id": "weighted-livestock",
   "metadata": {},
   "outputs": [
    {
     "data": {
      "text/plain": [
       "['11', '12', '13']"
      ]
     },
     "execution_count": 686,
     "metadata": {},
     "output_type": "execute_result"
    }
   ],
   "source": [
    "l = ['2', '3', '4', '5', '6', '7', '8', '9', '10', '...']\n",
    "k = ['...', '3', '4', '5', '6', '7', '8', '9', '10', '11', '12', '13']\n",
    "m = sorted(list(set(k[:len(k) - 1]) - set(l))) + [k[len(k) - 1]]\n",
    "m"
   ]
  },
  {
   "cell_type": "code",
   "execution_count": 679,
   "id": "formed-continuity",
   "metadata": {},
   "outputs": [
    {
     "data": {
      "text/plain": [
       "['...', '2', '3', '4', '5', '6', '7', '8', '9', '10']"
      ]
     },
     "execution_count": 679,
     "metadata": {},
     "output_type": "execute_result"
    }
   ],
   "source": [
    "k"
   ]
  },
  {
   "cell_type": "code",
   "execution_count": 689,
   "id": "announced-entrance",
   "metadata": {},
   "outputs": [
    {
     "data": {
      "text/plain": [
       "['13']"
      ]
     },
     "execution_count": 689,
     "metadata": {},
     "output_type": "execute_result"
    }
   ],
   "source": [
    "[k[len(k) - 1]]"
   ]
  },
  {
   "cell_type": "code",
   "execution_count": 688,
   "id": "greenhouse-perception",
   "metadata": {},
   "outputs": [
    {
     "data": {
      "text/plain": [
       "['11', '12', '13']"
      ]
     },
     "execution_count": 688,
     "metadata": {},
     "output_type": "execute_result"
    }
   ],
   "source": [
    "# Complement of two lists\n",
    "m = sorted(list(set(k[:len(k) - 1]) - set(l))) + [k[len(k) - 1]]\n",
    "m"
   ]
  },
  {
   "cell_type": "code",
   "execution_count": 691,
   "id": "decent-spotlight",
   "metadata": {},
   "outputs": [],
   "source": [
    "m = ['13']\n",
    "m[0] = str(int(m[0]) + 1)"
   ]
  },
  {
   "cell_type": "code",
   "execution_count": 692,
   "id": "strategic-circuit",
   "metadata": {},
   "outputs": [
    {
     "data": {
      "text/plain": [
       "['14']"
      ]
     },
     "execution_count": 692,
     "metadata": {},
     "output_type": "execute_result"
    }
   ],
   "source": [
    "m"
   ]
  },
  {
   "cell_type": "code",
   "execution_count": 124,
   "id": "reverse-lawsuit",
   "metadata": {
    "code_folding": [],
    "scrolled": true
   },
   "outputs": [
    {
     "name": "stdout",
     "output_type": "stream",
     "text": [
      "1 0\n",
      "Up! ['2', '3', '4', '5', '6', '7', '8', '9', '10', '...']\n",
      "Up!!! ['21', '22', '24', '25', '26', '27', '28', '29', '30', '...']\n",
      "... 0\n",
      "Up 21\n",
      "Up 22\n",
      "Up 23\n",
      "Up 24\n",
      "Up 25\n",
      "Up 26\n",
      "Up 27\n",
      "Up 28\n",
      "Up 29\n",
      "Up 30\n",
      "Up! ['21', '22', '24', '25', '26', '27', '28', '29', '30', '...']\n",
      "Up!!! ['32', '33']\n",
      "33 0\n",
      "Bottom 32\n",
      "Bottom 33\n"
     ]
    }
   ],
   "source": [
    "l = ['2', '3', '4', '5', '6', '7', '8', '9', '10', '...']\n",
    "lastPage = 1\n",
    "last = 0\n",
    "while lastPage != last:\n",
    "    print(lastPage, last)\n",
    "    if l[len(l) - 1] == '...':\n",
    "        pageCount = int(l[0])\n",
    "        while pageCount <= int(l[len(l) - 2]):\n",
    "            # Do what you need to do on each page\n",
    "            # Code goes here\n",
    "            try:\n",
    "                # Clicking on \"2\" on pagination on first iteration, \"3\" on second...\n",
    "                driver.find_element_by_link_text(str(pageCount)).click()\n",
    "                print('Up', str(pageCount))\n",
    "            except NoSuchElementException:\n",
    "                # Stop loop if no more page available\n",
    "                break\n",
    "            # Increase page_count value on each iteration on +1\n",
    "            pageCount += 1\n",
    "        \n",
    "        # Last index\n",
    "        try:\n",
    "            driver.find_elements_by_link_text(l[len(l) - 1])[1].click()\n",
    "        except:\n",
    "            driver.find_elements_by_link_text(l[len(l) - 1])[0].click()\n",
    "        \n",
    "        # Object of pagination\n",
    "        tableObj = driver.find_element_by_id('MainContent_GridView1')\n",
    "        pageObj = tableObj.find_element_by_tag_name('tbody').find_elements_by_tag_name('tr')[0]\n",
    "        # Pagination\n",
    "        pages = pageObj.find_elements_by_tag_name('a')\n",
    "        \n",
    "        # Active pages\n",
    "        print('Up!', l)\n",
    "        activePages = pages[0:]\n",
    "        k = []\n",
    "        for i in activePages:\n",
    "            k.append(i.text)\n",
    "        \n",
    "        # Complement of two lists\n",
    "        k = sorted(list(set(k[:len(k) - 1]) - set(l))) + [k[len(k) - 1]]\n",
    "        if len(k) == 1:\n",
    "            k[0] = str(int(k[0]) + 1)\n",
    "        l = k\n",
    "        print('Up!!!', k)\n",
    "        lastPage = l[len(l) - 1]\n",
    "    \n",
    "    else:\n",
    "        lastPage = l[len(l) - 1]\n",
    "        pageCount = int(l[0])\n",
    "        while True:\n",
    "            # Do what you need to do on each page\n",
    "            # Code goes here\n",
    "            try:\n",
    "                # Clicking on \"2\" on pagination on first iteration, \"3\" on second...\n",
    "                driver.find_element_by_link_text(str(pageCount)).click()\n",
    "                print('Bottom', str(pageCount))\n",
    "            except NoSuchElementException:\n",
    "                # Stop loop if no more page available\n",
    "                break\n",
    "            \n",
    "            # Increase page_count value on each iteration on +1\n",
    "            pageCount += 1\n",
    "            \n",
    "        # Last index\n",
    "        last = l[len(l) - 1]"
   ]
  },
  {
   "cell_type": "code",
   "execution_count": 145,
   "id": "educational-defense",
   "metadata": {},
   "outputs": [],
   "source": [
    "driver.find_element_by_link_text(l[len(l) - 1]).click()"
   ]
  },
  {
   "cell_type": "code",
   "execution_count": 95,
   "id": "english-design",
   "metadata": {},
   "outputs": [],
   "source": [
    "# Active page to click\n",
    "driver.execute_script(activePages[len(l) - 5].get_attribute('href'))"
   ]
  },
  {
   "cell_type": "code",
   "execution_count": 576,
   "id": "advised-falls",
   "metadata": {},
   "outputs": [],
   "source": [
    "# Loop the pagination\n",
    "\n",
    "# Source: https://stackoverflow.com/questions/44514090/python-with-selenium-pagination-issue?rq=1\n",
    "pageCount = 1\n",
    "while True:\n",
    "    # Increase page_count value on each iteration on +1\n",
    "    pageCount += 1\n",
    "    # Do what you need to do on each page\n",
    "    # Code goes here\n",
    "    try:\n",
    "        # Clicking on \"2\" on pagination on first iteration, \"3\" on second...\n",
    "        driver.find_element_by_link_text(str(pageCount)).click()\n",
    "    except NoSuchElementException:\n",
    "        # Stop loop if no more page available\n",
    "        break"
   ]
  },
  {
   "cell_type": "markdown",
   "id": "complex-demand",
   "metadata": {},
   "source": [
    "### 3 Get the column names"
   ]
  },
  {
   "cell_type": "code",
   "execution_count": 25,
   "id": "controlled-culture",
   "metadata": {},
   "outputs": [],
   "source": [
    "# Get the table object\n",
    "tableObj = driver.find_element_by_id('MainContent_GridView1')"
   ]
  },
  {
   "cell_type": "code",
   "execution_count": 37,
   "id": "traditional-lawsuit",
   "metadata": {},
   "outputs": [],
   "source": [
    "# Object for column names\n",
    "colNames = tableObj.find_elements_by_tag_name('tr')[0].find_elements_by_tag_name('th')"
   ]
  },
  {
   "cell_type": "code",
   "execution_count": 39,
   "id": "invisible-canvas",
   "metadata": {
    "scrolled": true
   },
   "outputs": [],
   "source": [
    "# Column names\n",
    "listCols = []\n",
    "\n",
    "# Get the column names\n",
    "for elem in colNames:\n",
    "    col_raw = elem.text\n",
    "    listCols.append(col_raw)"
   ]
  },
  {
   "cell_type": "code",
   "execution_count": 40,
   "id": "beautiful-bandwidth",
   "metadata": {},
   "outputs": [
    {
     "data": {
      "text/plain": [
       "['Links',\n",
       " 'Koperasi',\n",
       " 'Nomor Badan Hukum',\n",
       " 'Tanggal Badan Hukum',\n",
       " 'Alamat',\n",
       " 'Kecamatan',\n",
       " 'NIK',\n",
       " 'Sertifikat']"
      ]
     },
     "execution_count": 40,
     "metadata": {},
     "output_type": "execute_result"
    }
   ],
   "source": [
    "# Column names\n",
    "listCols = [i.replace('\\n', ' ') for i in listCols]\n",
    "\n",
    "# Rename the first element\n",
    "listCols[0] = 'Links'\n",
    "\n",
    "# Print the column names\n",
    "listCols"
   ]
  },
  {
   "cell_type": "markdown",
   "id": "known-hacker",
   "metadata": {},
   "source": [
    "### 5 Get the data from table"
   ]
  },
  {
   "cell_type": "code",
   "execution_count": 713,
   "id": "right-booth",
   "metadata": {},
   "outputs": [
    {
     "name": "stdout",
     "output_type": "stream",
     "text": [
      "Length of data in one page: 23 rows\n"
     ]
    }
   ],
   "source": [
    "# Data collections\n",
    "dataCollection = tableObj.find_element_by_tag_name('tbody').find_elements_by_tag_name('tr')\n",
    "print('Length of data in one page: {} rows'.format(len(dataCollection)))"
   ]
  },
  {
   "cell_type": "code",
   "execution_count": 714,
   "id": "grave-growth",
   "metadata": {},
   "outputs": [
    {
     "data": {
      "text/plain": [
       "{'Links': [],\n",
       " 'Koperasi': [],\n",
       " 'Nomor Badan Hukum': [],\n",
       " 'Tanggal Badan Hukum': [],\n",
       " 'Alamat': [],\n",
       " 'Kecamatan': [],\n",
       " 'NIK': [],\n",
       " 'Sertifikat': []}"
      ]
     },
     "execution_count": 714,
     "metadata": {},
     "output_type": "execute_result"
    }
   ],
   "source": [
    "# Dictionary with blank list\n",
    "dict_init = {key: [] for key in listCols}\n",
    "dict_init"
   ]
  },
  {
   "cell_type": "code",
   "execution_count": 715,
   "id": "laden-arthur",
   "metadata": {},
   "outputs": [],
   "source": [
    "# Filter the data\n",
    "dataColFilter = dataCollection[3:len(dataCollection) - 2]\n",
    "\n",
    "# Get the data\n",
    "for idx, elem in enumerate(dataColFilter):\n",
    "    # Get values with href\n",
    "    elemHref = elem.find_element_by_tag_name('a')\n",
    "    href = elemHref.get_attribute('href')\n",
    "    # Append values\n",
    "    dict_init[list(dict_init.keys())[0]].append(href)\n",
    "    \n",
    "    # Get values without href\n",
    "    elemValues = elem.find_elements_by_tag_name('td')\n",
    "    for col in range(1, len(elemValues)):\n",
    "        value = elemValues[col].text\n",
    "        # Append values\n",
    "        dict_init[list(dict_init.keys())[col]].append(value)"
   ]
  },
  {
   "cell_type": "code",
   "execution_count": 716,
   "id": "defensive-encoding",
   "metadata": {
    "scrolled": true
   },
   "outputs": [
    {
     "data": {
      "text/plain": [
       "{'Links': ['http://nik.depkop.go.id/Detail.aspx?KoperasiId=1110010010033',\n",
       "  'http://nik.depkop.go.id/Detail.aspx?KoperasiId=1110010010034',\n",
       "  'http://nik.depkop.go.id/Detail.aspx?KoperasiId=1110010150020',\n",
       "  'http://nik.depkop.go.id/Detail.aspx?KoperasiId=1110020010001',\n",
       "  'http://nik.depkop.go.id/Detail.aspx?KoperasiId=1110020010002',\n",
       "  'http://nik.depkop.go.id/Detail.aspx?KoperasiId=1110020010003',\n",
       "  'http://nik.depkop.go.id/Detail.aspx?KoperasiId=1110020010004',\n",
       "  'http://nik.depkop.go.id/Detail.aspx?KoperasiId=1110020010005',\n",
       "  'http://nik.depkop.go.id/Detail.aspx?KoperasiId=1110020010007',\n",
       "  'http://nik.depkop.go.id/Detail.aspx?KoperasiId=1110030010001',\n",
       "  'http://nik.depkop.go.id/Detail.aspx?KoperasiId=1110030010005',\n",
       "  'http://nik.depkop.go.id/Detail.aspx?KoperasiId=1110030010006',\n",
       "  'http://nik.depkop.go.id/Detail.aspx?KoperasiId=1110030010009',\n",
       "  'http://nik.depkop.go.id/Detail.aspx?KoperasiId=1110030010012',\n",
       "  'http://nik.depkop.go.id/Detail.aspx?KoperasiId=1110030010019',\n",
       "  'http://nik.depkop.go.id/Detail.aspx?KoperasiId=1110030010020',\n",
       "  'http://nik.depkop.go.id/Detail.aspx?KoperasiId=1110030060001',\n",
       "  'http://nik.depkop.go.id/Detail.aspx?KoperasiId=1110030160001'],\n",
       " 'Koperasi': ['Koperasi Syariah Alfalah Anak Syuhada',\n",
       "  'Koperasi Perikanan Kuala Sukon Jaya',\n",
       "  'Koperasi Wanita Cut Mutia',\n",
       "  'Koperasi Pondok Pesantren Jamaah Amaliah',\n",
       "  'Koperasi Pondok Pesantren Miftahul Fallah',\n",
       "  'Koperasi Pondok Pesantren Tabina Naj Mussalam',\n",
       "  'Koperasi Pegawai Negeri Karya Nyata',\n",
       "  'Koperasi Pegawai Negeri SMU Negeri Jeunieb',\n",
       "  'Koperasi Konsumsi Bijeh Malaya',\n",
       "  'Koperasi Unit Desa Tufah',\n",
       "  'Koperasi Pondok Pesantren Darul Falah',\n",
       "  'Koperasi Pondok Pesantren Al-Atiq',\n",
       "  'Koperasi Pegawai Negeri SMP Negeri Jeunieb',\n",
       "  'Koperasi Simpan Pinjam Baru Mekar',\n",
       "  'Koperasi Wanita Le Mata Liei Di Guha Rimueng',\n",
       "  'Koperasi Peternakan Tuah Mandiri Sejahtera',\n",
       "  'Koperasi Konsumsi Ilham Jaya',\n",
       "  'KOPERASI PRODUSEN BIREUEN RAYA SEJAHTERA'],\n",
       " 'Nomor Badan Hukum': ['014943/BH/M.KUKM.2/IX/2019',\n",
       "  '013170/BH/M.KUKM.2/IV/2019',\n",
       "  '0164/BH/I.9/XI/2008',\n",
       "  '93/BH/KWK.1/I/1996',\n",
       "  '01/BH/KWK.1/I/1998',\n",
       "  '02/BH/KWK.1/I/1998',\n",
       "  '188/BH/PAD/KWK.1/VI/1996',\n",
       "  '97/BH/PAD/Kwk.1/III/1997',\n",
       "  '061/BH/KDK.1.12/IV/2006',\n",
       "  '22/BH/PAD/Kwk.1/X/1995',\n",
       "  '0185/BH/I.9/I/2010',\n",
       "  '0188/BH/I.9/II/2010',\n",
       "  '552/BH/PAD/KWK.1/VI/1996',\n",
       "  '058/BH/KDK.1.12/III/2006',\n",
       "  '0210/BH/1.9/VII/2011',\n",
       "  '009557/BH/M.KUKM.2/IX/2018',\n",
       "  '0168/BH/1.9/I/2009',\n",
       "  'AHU-0007876.AH.01.26.TAHUN 2021'],\n",
       " 'Tanggal Badan Hukum': ['18/09/2019',\n",
       "  '23/04/2019',\n",
       "  '27/11/2008',\n",
       "  '02/01/1996',\n",
       "  '09/01/1998',\n",
       "  '09/01/1998',\n",
       "  '06/06/1996',\n",
       "  '26/03/1997',\n",
       "  '27/04/2006',\n",
       "  '31/10/1995',\n",
       "  '19/01/2010',\n",
       "  '08/02/2010',\n",
       "  '26/06/1996',\n",
       "  '23/03/2006',\n",
       "  '27/07/2011',\n",
       "  '10/09/2018',\n",
       "  '15/01/2009',\n",
       "  '12/01/2021'],\n",
       " 'Alamat': ['Gampong Curee Baroh',\n",
       "  'Angkieng Barat',\n",
       "  'Jl. Banda Aceh- Medan',\n",
       "  'Pandrah',\n",
       "  'Cot Batee Geulungku',\n",
       "  'Pandrah',\n",
       "  'SLTP Neg. Pandrah',\n",
       "  'SMU Neg. Jeunieb',\n",
       "  'Desa Pandrah Kandeh',\n",
       "  'Desa Blang Me Timu',\n",
       "  'Lheue',\n",
       "  'Dayah Darul Atiq Putri',\n",
       "  'SLTP Neg. Jeunieb',\n",
       "  'Keude Jeunieb',\n",
       "  'Blang Me Timu',\n",
       "  'Blang Me Timu',\n",
       "  'Desa Blang Me Timu',\n",
       "  'KEUDE JEUNIEB'],\n",
       " 'Kecamatan': ['Samalanga',\n",
       "  'Samalanga',\n",
       "  'Samalanga',\n",
       "  'Pandrah',\n",
       "  'Pandrah',\n",
       "  'Pandrah',\n",
       "  'Pandrah',\n",
       "  'Pandrah',\n",
       "  'Pandrah',\n",
       "  'Jeunieb',\n",
       "  'Jeunieb',\n",
       "  'Jeunieb',\n",
       "  'Jeunieb',\n",
       "  'Jeunieb',\n",
       "  'Jeunieb',\n",
       "  'Jeunieb',\n",
       "  'Jeunieb',\n",
       "  'Jeunieb'],\n",
       " 'NIK': ['1110010010033',\n",
       "  '1110010010034',\n",
       "  '1110010150020',\n",
       "  '1110020010001',\n",
       "  '1110020010002',\n",
       "  '1110020010003',\n",
       "  '1110020010004',\n",
       "  '1110020010005',\n",
       "  '1110020010007',\n",
       "  '1110030010001',\n",
       "  '1110030010005',\n",
       "  '1110030010006',\n",
       "  '1110030010009',\n",
       "  '1110030010012',\n",
       "  '1110030010019',\n",
       "  '1110030010020',\n",
       "  '1110030060001',\n",
       "  '1110030160001'],\n",
       " 'Sertifikat': ['Belum Bersertifikat',\n",
       "  'Belum Bersertifikat',\n",
       "  'Belum Bersertifikat',\n",
       "  'Belum Bersertifikat',\n",
       "  'Belum Bersertifikat',\n",
       "  'Belum Bersertifikat',\n",
       "  'Belum Bersertifikat',\n",
       "  'Belum Bersertifikat',\n",
       "  'Belum Bersertifikat',\n",
       "  'Belum Bersertifikat',\n",
       "  'Belum Bersertifikat',\n",
       "  'Belum Bersertifikat',\n",
       "  'Belum Bersertifikat',\n",
       "  'Belum Bersertifikat',\n",
       "  'Belum Bersertifikat',\n",
       "  'Belum Bersertifikat',\n",
       "  'Belum Bersertifikat',\n",
       "  'Belum Bersertifikat']}"
      ]
     },
     "execution_count": 716,
     "metadata": {},
     "output_type": "execute_result"
    }
   ],
   "source": [
    "# The data collection\n",
    "dict_init"
   ]
  },
  {
   "cell_type": "markdown",
   "id": "micro-patch",
   "metadata": {},
   "source": [
    "### 6 Convert into data frame"
   ]
  },
  {
   "cell_type": "code",
   "execution_count": 24,
   "id": "cheap-integral",
   "metadata": {},
   "outputs": [],
   "source": [
    "# Convert into data frame\n",
    "df = pd.DataFrame(data = dict_init)"
   ]
  },
  {
   "cell_type": "code",
   "execution_count": 25,
   "id": "worth-meter",
   "metadata": {
    "scrolled": true
   },
   "outputs": [
    {
     "data": {
      "text/html": [
       "<div>\n",
       "<style scoped>\n",
       "    .dataframe tbody tr th:only-of-type {\n",
       "        vertical-align: middle;\n",
       "    }\n",
       "\n",
       "    .dataframe tbody tr th {\n",
       "        vertical-align: top;\n",
       "    }\n",
       "\n",
       "    .dataframe thead th {\n",
       "        text-align: right;\n",
       "    }\n",
       "</style>\n",
       "<table border=\"1\" class=\"dataframe\">\n",
       "  <thead>\n",
       "    <tr style=\"text-align: right;\">\n",
       "      <th></th>\n",
       "      <th>Links</th>\n",
       "      <th>Koperasi</th>\n",
       "      <th>Nomor Badan Hukum</th>\n",
       "      <th>Tanggal Badan Hukum</th>\n",
       "      <th>Alamat</th>\n",
       "      <th>Kecamatan</th>\n",
       "      <th>NIK</th>\n",
       "      <th>Sertifikat</th>\n",
       "    </tr>\n",
       "  </thead>\n",
       "  <tbody>\n",
       "    <tr>\n",
       "      <th>0</th>\n",
       "      <td>http://nik.depkop.go.id/Detail.aspx?KoperasiId...</td>\n",
       "      <td>KOPERASI PRODUSEN NELAYAN DELOG SIBAO</td>\n",
       "      <td>AHU-0005913.AH.01.26.TAHUN 2020</td>\n",
       "      <td>16/10/2020</td>\n",
       "      <td>DUSUN SIABO</td>\n",
       "      <td>Simeulue Timur</td>\n",
       "      <td>1101020550001</td>\n",
       "      <td>Belum Bersertifikat</td>\n",
       "    </tr>\n",
       "    <tr>\n",
       "      <th>1</th>\n",
       "      <td>http://nik.depkop.go.id/Detail.aspx?KoperasiId...</td>\n",
       "      <td>Koperasi Serba Usaha Karya Safakat</td>\n",
       "      <td>04/BH/DK 1-12/I/2003</td>\n",
       "      <td>21/01/2003</td>\n",
       "      <td>Dihit</td>\n",
       "      <td>Simeulue Tengah</td>\n",
       "      <td>1101030010006</td>\n",
       "      <td>Belum Bersertifikat</td>\n",
       "    </tr>\n",
       "    <tr>\n",
       "      <th>2</th>\n",
       "      <td>http://nik.depkop.go.id/Detail.aspx?KoperasiId...</td>\n",
       "      <td>KOPERASI PERIKANANMAJU BERSAMA</td>\n",
       "      <td>56/BH/I.II/V/2016</td>\n",
       "      <td>09/08/2016</td>\n",
       "      <td></td>\n",
       "      <td>Simeulue Tengah</td>\n",
       "      <td>1101030040001</td>\n",
       "      <td>Belum Bersertifikat</td>\n",
       "    </tr>\n",
       "    <tr>\n",
       "      <th>3</th>\n",
       "      <td>http://nik.depkop.go.id/Detail.aspx?KoperasiId...</td>\n",
       "      <td>Koperasi Unit Desa Karya Muda</td>\n",
       "      <td>84/BH/PAD/KWK.1/IX/1999</td>\n",
       "      <td>09/09/1999</td>\n",
       "      <td>Nasreuhe</td>\n",
       "      <td>Salang</td>\n",
       "      <td>1101040010001</td>\n",
       "      <td>Belum Bersertifikat</td>\n",
       "    </tr>\n",
       "    <tr>\n",
       "      <th>4</th>\n",
       "      <td>http://nik.depkop.go.id/Detail.aspx?KoperasiId...</td>\n",
       "      <td>Koperasi Serba Usaha Gerakan Massa</td>\n",
       "      <td>181/BH/KDK/1.6/XII/2000</td>\n",
       "      <td>25/12/2000</td>\n",
       "      <td>Nasreuhe</td>\n",
       "      <td>Salang</td>\n",
       "      <td>1101040010003</td>\n",
       "      <td>Belum Bersertifikat</td>\n",
       "    </tr>\n",
       "    <tr>\n",
       "      <th>5</th>\n",
       "      <td>http://nik.depkop.go.id/Detail.aspx?KoperasiId...</td>\n",
       "      <td>KOPERASI SERBA USAHA NELAYAN SEHATI</td>\n",
       "      <td>52/BH/I.II/VI/2015</td>\n",
       "      <td>13/06/2015</td>\n",
       "      <td>Jln. Camar Laut Komplek Pajak Inpres Sinabang</td>\n",
       "      <td>Simeulue Timur</td>\n",
       "      <td>1101020030002</td>\n",
       "      <td>Belum Bersertifikat</td>\n",
       "    </tr>\n",
       "    <tr>\n",
       "      <th>6</th>\n",
       "      <td>http://nik.depkop.go.id/Detail.aspx?KoperasiId...</td>\n",
       "      <td>Koperasi Bangkit Bersama Ibu - ibu</td>\n",
       "      <td>009063/BH/M.KUKM.2/VII/2018</td>\n",
       "      <td>20/07/2018</td>\n",
       "      <td>Jln. Camar Laut</td>\n",
       "      <td>Simeulue Timur</td>\n",
       "      <td>1101020030003</td>\n",
       "      <td>Belum Bersertifikat</td>\n",
       "    </tr>\n",
       "    <tr>\n",
       "      <th>7</th>\n",
       "      <td>http://nik.depkop.go.id/Detail.aspx?KoperasiId...</td>\n",
       "      <td>Koperasi Ikatan becak Lojing</td>\n",
       "      <td>009073/BH/M.KUKM.2/VII/2018</td>\n",
       "      <td>23/07/2018</td>\n",
       "      <td>Jln. Tengku Diujung Dsn. Langetnget</td>\n",
       "      <td>Simeulue Timur</td>\n",
       "      <td>1101020030004</td>\n",
       "      <td>Belum Bersertifikat</td>\n",
       "    </tr>\n",
       "    <tr>\n",
       "      <th>8</th>\n",
       "      <td>http://nik.depkop.go.id/Detail.aspx?KoperasiId...</td>\n",
       "      <td>Kop Produksen Alumni Seahtera Bersama</td>\n",
       "      <td>014415/BH/M.KUKM.2/VIII/2019</td>\n",
       "      <td>14/08/2019</td>\n",
       "      <td>Jln. Gagak Hitam Dusun Karya Baru</td>\n",
       "      <td>Simeulue Timur</td>\n",
       "      <td>1101020030005</td>\n",
       "      <td>Belum Bersertifikat</td>\n",
       "    </tr>\n",
       "    <tr>\n",
       "      <th>9</th>\n",
       "      <td>http://nik.depkop.go.id/Detail.aspx?KoperasiId...</td>\n",
       "      <td>Koperasi Pegawai Negeri Al-Amanah Gerakan</td>\n",
       "      <td>07/BH/DK.1-12/III/2003</td>\n",
       "      <td>03/10/2003</td>\n",
       "      <td>Air Dingin</td>\n",
       "      <td>Simeulue Timur</td>\n",
       "      <td>1101020010010</td>\n",
       "      <td>Belum Bersertifikat</td>\n",
       "    </tr>\n",
       "    <tr>\n",
       "      <th>10</th>\n",
       "      <td>http://nik.depkop.go.id/Detail.aspx?KoperasiId...</td>\n",
       "      <td>Koperasi Nelayan Surya Bahari</td>\n",
       "      <td>37/BH/DK.1-12/II/2007</td>\n",
       "      <td>02/02/2007</td>\n",
       "      <td>Suka Maju</td>\n",
       "      <td>Simeulue Timur</td>\n",
       "      <td>1101020010051</td>\n",
       "      <td>Belum Bersertifikat</td>\n",
       "    </tr>\n",
       "  </tbody>\n",
       "</table>\n",
       "</div>"
      ],
      "text/plain": [
       "                                                Links  \\\n",
       "0   http://nik.depkop.go.id/Detail.aspx?KoperasiId...   \n",
       "1   http://nik.depkop.go.id/Detail.aspx?KoperasiId...   \n",
       "2   http://nik.depkop.go.id/Detail.aspx?KoperasiId...   \n",
       "3   http://nik.depkop.go.id/Detail.aspx?KoperasiId...   \n",
       "4   http://nik.depkop.go.id/Detail.aspx?KoperasiId...   \n",
       "5   http://nik.depkop.go.id/Detail.aspx?KoperasiId...   \n",
       "6   http://nik.depkop.go.id/Detail.aspx?KoperasiId...   \n",
       "7   http://nik.depkop.go.id/Detail.aspx?KoperasiId...   \n",
       "8   http://nik.depkop.go.id/Detail.aspx?KoperasiId...   \n",
       "9   http://nik.depkop.go.id/Detail.aspx?KoperasiId...   \n",
       "10  http://nik.depkop.go.id/Detail.aspx?KoperasiId...   \n",
       "\n",
       "                                     Koperasi  \\\n",
       "0       KOPERASI PRODUSEN NELAYAN DELOG SIBAO   \n",
       "1          Koperasi Serba Usaha Karya Safakat   \n",
       "2              KOPERASI PERIKANANMAJU BERSAMA   \n",
       "3               Koperasi Unit Desa Karya Muda   \n",
       "4          Koperasi Serba Usaha Gerakan Massa   \n",
       "5         KOPERASI SERBA USAHA NELAYAN SEHATI   \n",
       "6          Koperasi Bangkit Bersama Ibu - ibu   \n",
       "7                Koperasi Ikatan becak Lojing   \n",
       "8       Kop Produksen Alumni Seahtera Bersama   \n",
       "9   Koperasi Pegawai Negeri Al-Amanah Gerakan   \n",
       "10              Koperasi Nelayan Surya Bahari   \n",
       "\n",
       "                  Nomor Badan Hukum Tanggal Badan Hukum  \\\n",
       "0   AHU-0005913.AH.01.26.TAHUN 2020          16/10/2020   \n",
       "1              04/BH/DK 1-12/I/2003          21/01/2003   \n",
       "2                 56/BH/I.II/V/2016          09/08/2016   \n",
       "3           84/BH/PAD/KWK.1/IX/1999          09/09/1999   \n",
       "4           181/BH/KDK/1.6/XII/2000          25/12/2000   \n",
       "5                52/BH/I.II/VI/2015          13/06/2015   \n",
       "6       009063/BH/M.KUKM.2/VII/2018          20/07/2018   \n",
       "7       009073/BH/M.KUKM.2/VII/2018          23/07/2018   \n",
       "8      014415/BH/M.KUKM.2/VIII/2019          14/08/2019   \n",
       "9            07/BH/DK.1-12/III/2003          03/10/2003   \n",
       "10            37/BH/DK.1-12/II/2007          02/02/2007   \n",
       "\n",
       "                                           Alamat        Kecamatan  \\\n",
       "0                                     DUSUN SIABO   Simeulue Timur   \n",
       "1                                           Dihit  Simeulue Tengah   \n",
       "2                                                  Simeulue Tengah   \n",
       "3                                        Nasreuhe           Salang   \n",
       "4                                        Nasreuhe           Salang   \n",
       "5   Jln. Camar Laut Komplek Pajak Inpres Sinabang   Simeulue Timur   \n",
       "6                                 Jln. Camar Laut   Simeulue Timur   \n",
       "7             Jln. Tengku Diujung Dsn. Langetnget   Simeulue Timur   \n",
       "8               Jln. Gagak Hitam Dusun Karya Baru   Simeulue Timur   \n",
       "9                                      Air Dingin   Simeulue Timur   \n",
       "10                                      Suka Maju   Simeulue Timur   \n",
       "\n",
       "              NIK           Sertifikat  \n",
       "0   1101020550001  Belum Bersertifikat  \n",
       "1   1101030010006  Belum Bersertifikat  \n",
       "2   1101030040001  Belum Bersertifikat  \n",
       "3   1101040010001  Belum Bersertifikat  \n",
       "4   1101040010003  Belum Bersertifikat  \n",
       "5   1101020030002  Belum Bersertifikat  \n",
       "6   1101020030003  Belum Bersertifikat  \n",
       "7   1101020030004  Belum Bersertifikat  \n",
       "8   1101020030005  Belum Bersertifikat  \n",
       "9   1101020010010  Belum Bersertifikat  \n",
       "10  1101020010051  Belum Bersertifikat  "
      ]
     },
     "execution_count": 25,
     "metadata": {},
     "output_type": "execute_result"
    }
   ],
   "source": [
    "# Show the data\n",
    "df"
   ]
  }
 ],
 "metadata": {
  "kernelspec": {
   "display_name": "Python 3",
   "language": "python",
   "name": "python3"
  },
  "language_info": {
   "codemirror_mode": {
    "name": "ipython",
    "version": 3
   },
   "file_extension": ".py",
   "mimetype": "text/x-python",
   "name": "python",
   "nbconvert_exporter": "python",
   "pygments_lexer": "ipython3",
   "version": "3.8.3"
  }
 },
 "nbformat": 4,
 "nbformat_minor": 5
}
