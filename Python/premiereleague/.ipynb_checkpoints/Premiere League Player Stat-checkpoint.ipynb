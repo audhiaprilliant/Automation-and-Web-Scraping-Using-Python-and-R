{
 "cells": [
  {
   "cell_type": "markdown",
   "metadata": {},
   "source": [
    "# Import Modules"
   ]
  },
  {
   "cell_type": "code",
   "execution_count": null,
   "metadata": {
    "ExecuteTime": {
     "end_time": "2020-06-26T21:01:57.033968Z",
     "start_time": "2020-06-26T21:01:37.658Z"
    }
   },
   "outputs": [],
   "source": [
    "# Modules for web scraping\n",
    "import requests\n",
    "from bs4 import BeautifulSoup\n",
    "# Module for data manipulation\n",
    "import pandas as pd\n",
    "# Module for regular expression\n",
    "import re\n",
    "# Module for file management\n",
    "import os"
   ]
  },
  {
   "cell_type": "markdown",
   "metadata": {},
   "source": [
    "# Web Scraping"
   ]
  },
  {
   "cell_type": "markdown",
   "metadata": {},
   "source": [
    "**Current directory and URL**"
   ]
  },
  {
   "cell_type": "code",
   "execution_count": 19,
   "metadata": {
    "ExecuteTime": {
     "end_time": "2020-06-26T20:39:35.020269Z",
     "start_time": "2020-06-26T20:39:35.008407Z"
    }
   },
   "outputs": [],
   "source": [
    "url = 'https://www.premierleague.com/stats/top/players/goals'\n",
    "main_url = 'https://www.premierleague.com/stats/top/players/'\n",
    "dir_path = os.getcwd()"
   ]
  },
  {
   "cell_type": "markdown",
   "metadata": {},
   "source": [
    "**Wrangling HTML with BeautifulSoup**"
   ]
  },
  {
   "cell_type": "code",
   "execution_count": 49,
   "metadata": {
    "ExecuteTime": {
     "end_time": "2020-06-26T21:04:42.105615Z",
     "start_time": "2020-06-26T21:04:37.390610Z"
    }
   },
   "outputs": [],
   "source": [
    "page = requests.get(url)\n",
    "soup = BeautifulSoup(page.content,'html.parser')"
   ]
  },
  {
   "cell_type": "markdown",
   "metadata": {},
   "source": [
    "**Get all dropdown list**"
   ]
  },
  {
   "cell_type": "code",
   "execution_count": 51,
   "metadata": {
    "ExecuteTime": {
     "end_time": "2020-06-26T21:04:52.200674Z",
     "start_time": "2020-06-26T21:04:52.148022Z"
    },
    "scrolled": false
   },
   "outputs": [],
   "source": [
    "dropdown_list = soup.find_all('a',class_='topStatsLink',href=True)"
   ]
  },
  {
   "cell_type": "code",
   "execution_count": 52,
   "metadata": {
    "ExecuteTime": {
     "end_time": "2020-06-26T21:04:52.811801Z",
     "start_time": "2020-06-26T21:04:52.801048Z"
    }
   },
   "outputs": [],
   "source": [
    "sub_url = []\n",
    "for elem in dropdown_list:\n",
    "    sub_url.append(elem['href'])"
   ]
  },
  {
   "cell_type": "code",
   "execution_count": 53,
   "metadata": {
    "ExecuteTime": {
     "end_time": "2020-06-26T21:04:54.317063Z",
     "start_time": "2020-06-26T21:04:54.310005Z"
    }
   },
   "outputs": [
    {
     "name": "stdout",
     "output_type": "stream",
     "text": [
      "['goals', 'goal_assist', 'clean_sheet', 'appearances', 'mins_played', 'yellow_card', 'red_card', 'total_pass', 'touches', 'total_scoring_att', 'hit_woodwork', 'big_chance_missed', 'total_offside', 'total_tackle', 'fouls', 'dispossessed', 'own_goals', 'total_clearance', 'clearance_off_line', 'saves', 'penalty_save', 'total_high_claim', 'punches']\n"
     ]
    }
   ],
   "source": [
    "print(sub_url)"
   ]
  },
  {
   "cell_type": "markdown",
   "metadata": {},
   "source": [
    "**Sample URL**"
   ]
  },
  {
   "cell_type": "code",
   "execution_count": 54,
   "metadata": {
    "ExecuteTime": {
     "end_time": "2020-06-26T21:04:56.066721Z",
     "start_time": "2020-06-26T21:04:56.057737Z"
    }
   },
   "outputs": [
    {
     "name": "stdout",
     "output_type": "stream",
     "text": [
      "https://www.premierleague.com/stats/top/players/goals\n"
     ]
    }
   ],
   "source": [
    "current_url = main_url + sub_url[0]\n",
    "print(current_url)"
   ]
  },
  {
   "cell_type": "code",
   "execution_count": 55,
   "metadata": {
    "ExecuteTime": {
     "end_time": "2020-06-26T21:05:02.669259Z",
     "start_time": "2020-06-26T21:04:59.950962Z"
    }
   },
   "outputs": [],
   "source": [
    "current_page = requests.get(current_url)\n",
    "current_soup = BeautifulSoup(current_page.content,'html.parser')"
   ]
  },
  {
   "cell_type": "code",
   "execution_count": 156,
   "metadata": {
    "ExecuteTime": {
     "end_time": "2020-06-26T21:54:27.967758Z",
     "start_time": "2020-06-26T21:54:27.907712Z"
    }
   },
   "outputs": [
    {
     "data": {
      "text/plain": [
       "<ul class=\"dropdownList\" role=\"listbox\">\n",
       "<li>\n",
       "<a class=\"topStatsLink\" href=\"goals\" role=\"option\">\n",
       "\t\t\t\t\t\tGoals\n",
       "\t\t\t\t\t</a>\n",
       "</li>\n",
       "<li>\n",
       "<a class=\"topStatsLink\" href=\"goal_assist\" role=\"option\">\n",
       "\t\t\t\t\t\tAssists\n",
       "\t\t\t\t\t</a>\n",
       "</li>\n",
       "<li>\n",
       "<a class=\"topStatsLink\" href=\"clean_sheet\" role=\"option\">\n",
       "\t\t\t\t\t\tClean sheets\n",
       "\t\t\t\t\t</a>\n",
       "</li>\n",
       "<li>\n",
       "<a class=\"topStatsLink\" href=\"appearances\" role=\"option\">\n",
       "\t\t\t\t\t\tAppearances\n",
       "\t\t\t\t\t</a>\n",
       "</li>\n",
       "<li>\n",
       "<a class=\"topStatsLink\" href=\"mins_played\" role=\"option\">\n",
       "\t\t\t\t\t\tMinutes played\n",
       "\t\t\t\t\t</a>\n",
       "</li>\n",
       "<li>\n",
       "<a class=\"topStatsLink\" href=\"yellow_card\" role=\"option\">\n",
       "\t\t\t\t\t\tYellow cards\n",
       "\t\t\t\t\t</a>\n",
       "</li>\n",
       "<li>\n",
       "<a class=\"topStatsLink\" href=\"red_card\" role=\"option\">\n",
       "\t\t\t\t\t\tRed cards\n",
       "\t\t\t\t\t</a>\n",
       "</li>\n",
       "<li>\n",
       "<a class=\"topStatsLink\" href=\"total_pass\" role=\"option\">\n",
       "\t\t\t\t\t\tPasses\n",
       "\t\t\t\t\t</a>\n",
       "</li>\n",
       "<li>\n",
       "<a class=\"topStatsLink\" href=\"touches\" role=\"option\">\n",
       "\t\t\t\t\t\tTouches\n",
       "\t\t\t\t\t</a>\n",
       "</li>\n",
       "<li>\n",
       "<a class=\"topStatsLink\" href=\"total_scoring_att\" role=\"option\">\n",
       "\t\t\t\t\t\tShots\n",
       "\t\t\t\t\t</a>\n",
       "</li>\n",
       "<li>\n",
       "<a class=\"topStatsLink\" href=\"hit_woodwork\" role=\"option\">\n",
       "\t\t\t\t\t\tHit woodwork\n",
       "\t\t\t\t\t</a>\n",
       "</li>\n",
       "<li>\n",
       "<a class=\"topStatsLink\" href=\"big_chance_missed\" role=\"option\">\n",
       "\t\t\t\t\t\tBig chances missed\n",
       "\t\t\t\t\t</a>\n",
       "</li>\n",
       "<li>\n",
       "<a class=\"topStatsLink\" href=\"total_offside\" role=\"option\">\n",
       "\t\t\t\t\t\tOffsides\n",
       "\t\t\t\t\t</a>\n",
       "</li>\n",
       "<li>\n",
       "<a class=\"topStatsLink\" href=\"total_tackle\" role=\"option\">\n",
       "\t\t\t\t\t\tTackles\n",
       "\t\t\t\t\t</a>\n",
       "</li>\n",
       "<li>\n",
       "<a class=\"topStatsLink\" href=\"fouls\" role=\"option\">\n",
       "\t\t\t\t\t\tFouls\n",
       "\t\t\t\t\t</a>\n",
       "</li>\n",
       "<li>\n",
       "<a class=\"topStatsLink\" href=\"dispossessed\" role=\"option\">\n",
       "\t\t\t\t\t\tDispossessed\n",
       "\t\t\t\t\t</a>\n",
       "</li>\n",
       "<li>\n",
       "<a class=\"topStatsLink\" href=\"own_goals\" role=\"option\">\n",
       "\t\t\t\t\t\tOwn goals\n",
       "\t\t\t\t\t</a>\n",
       "</li>\n",
       "<li>\n",
       "<a class=\"topStatsLink\" href=\"total_clearance\" role=\"option\">\n",
       "\t\t\t\t\t\tClearances\n",
       "\t\t\t\t\t</a>\n",
       "</li>\n",
       "<li>\n",
       "<a class=\"topStatsLink\" href=\"clearance_off_line\" role=\"option\">\n",
       "\t\t\t\t\t\tClearances off line\n",
       "\t\t\t\t\t</a>\n",
       "</li>\n",
       "<li>\n",
       "<a class=\"topStatsLink\" href=\"saves\" role=\"option\">\n",
       "\t\t\t\t\t\tSaves\n",
       "\t\t\t\t\t</a>\n",
       "</li>\n",
       "<li>\n",
       "<a class=\"topStatsLink\" href=\"penalty_save\" role=\"option\">\n",
       "\t\t\t\t\t\tPenalties saved\n",
       "\t\t\t\t\t</a>\n",
       "</li>\n",
       "<li>\n",
       "<a class=\"topStatsLink\" href=\"total_high_claim\" role=\"option\">\n",
       "\t\t\t\t\t\tHigh claims\n",
       "\t\t\t\t\t</a>\n",
       "</li>\n",
       "<li>\n",
       "<a class=\"topStatsLink\" href=\"punches\" role=\"option\">\n",
       "\t\t\t\t\t\tPunches\n",
       "\t\t\t\t\t</a>\n",
       "</li>\n",
       "</ul>"
      ]
     },
     "execution_count": 156,
     "metadata": {},
     "output_type": "execute_result"
    }
   ],
   "source": [
    "current_soup.find('ul',class_='dropdownList')"
   ]
  },
  {
   "cell_type": "code",
   "execution_count": 153,
   "metadata": {
    "ExecuteTime": {
     "end_time": "2020-06-26T21:53:05.926928Z",
     "start_time": "2020-06-26T21:53:05.875589Z"
    }
   },
   "outputs": [
    {
     "data": {
      "text/plain": [
       "[]"
      ]
     },
     "execution_count": 153,
     "metadata": {},
     "output_type": "execute_result"
    }
   ],
   "source": [
    "current_soup.find_all('div',class_='dropDown noLabel topStatsFilterDropdown')"
   ]
  },
  {
   "cell_type": "code",
   "execution_count": null,
   "metadata": {},
   "outputs": [],
   "source": [
    ",attrs={'data-dropdown-list':'FOOTBALL_COMPSEASON'} ,class_='dd-FOOTBALL_COMPSEASON'"
   ]
  }
 ],
 "metadata": {
  "kernelspec": {
   "display_name": "Python 3",
   "language": "python",
   "name": "python3"
  },
  "language_info": {
   "codemirror_mode": {
    "name": "ipython",
    "version": 3
   },
   "file_extension": ".py",
   "mimetype": "text/x-python",
   "name": "python",
   "nbconvert_exporter": "python",
   "pygments_lexer": "ipython3",
   "version": "3.6.9"
  }
 },
 "nbformat": 4,
 "nbformat_minor": 2
}
