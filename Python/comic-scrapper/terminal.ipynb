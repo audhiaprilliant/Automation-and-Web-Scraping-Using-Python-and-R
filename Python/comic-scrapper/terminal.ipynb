{
 "cells": [
  {
   "cell_type": "code",
   "execution_count": 1,
   "id": "b81f23aa",
   "metadata": {
    "scrolled": true
   },
   "outputs": [
    {
     "name": "stdout",
     "output_type": "stream",
     "text": [
      "Comic page is opened successfully\n",
      "Get comic title\n",
      "Get list of comic chapters\n",
      "Comic chapter 101 Ways to End the Clone Saga Full is opened successfully\n",
      "Start scrolling down the comic page\n",
      "Finish scrolling down the comic page\n",
      "Start downloading the images\n",
      "Download is completed\n",
      "\n"
     ]
    }
   ],
   "source": [
    "%run main.py"
   ]
  },
  {
   "cell_type": "code",
   "execution_count": 18,
   "id": "42c7406d",
   "metadata": {},
   "outputs": [],
   "source": [
    "%run main-convert.py"
   ]
  }
 ],
 "metadata": {
  "kernelspec": {
   "display_name": "Python 3 (ipykernel)",
   "language": "python",
   "name": "python3"
  },
  "language_info": {
   "codemirror_mode": {
    "name": "ipython",
    "version": 3
   },
   "file_extension": ".py",
   "mimetype": "text/x-python",
   "name": "python",
   "nbconvert_exporter": "python",
   "pygments_lexer": "ipython3",
   "version": "3.9.12"
  }
 },
 "nbformat": 4,
 "nbformat_minor": 5
}
