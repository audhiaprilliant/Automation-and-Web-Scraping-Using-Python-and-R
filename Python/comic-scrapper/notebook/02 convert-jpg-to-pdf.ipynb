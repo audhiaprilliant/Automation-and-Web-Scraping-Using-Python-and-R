{
 "cells": [
  {
   "cell_type": "markdown",
   "id": "7c19e585",
   "metadata": {},
   "source": [
    "# Convert images into pdf file"
   ]
  },
  {
   "cell_type": "markdown",
   "id": "b63bbb7d",
   "metadata": {},
   "source": [
    "---"
   ]
  },
  {
   "cell_type": "markdown",
   "id": "institutional-channel",
   "metadata": {},
   "source": [
    "## Import modules"
   ]
  },
  {
   "cell_type": "markdown",
   "id": "trying-transsexual",
   "metadata": {
    "scrolled": true
   },
   "source": [
    "`%pip freeze > requirements.txt`"
   ]
  },
  {
   "cell_type": "code",
   "execution_count": 54,
   "id": "dense-sense",
   "metadata": {
    "ExecuteTime": {
     "end_time": "2020-06-19T23:39:06.502572Z",
     "start_time": "2020-06-19T23:39:06.497076Z"
    }
   },
   "outputs": [],
   "source": [
    "# Image manipulation\n",
    "from PIL import Image\n",
    "\n",
    "# Directory management\n",
    "import os\n",
    "\n",
    "# Regular expression\n",
    "import re\n",
    "\n",
    "# Ceiling\n",
    "import math"
   ]
  },
  {
   "cell_type": "markdown",
   "id": "e6112284",
   "metadata": {},
   "source": [
    "## Parameter(s)"
   ]
  },
  {
   "cell_type": "code",
   "execution_count": 55,
   "id": "c27f83e2",
   "metadata": {},
   "outputs": [],
   "source": [
    "# Main directory\n",
    "main_dir = '../data/101 Ways to End the Clone Saga/101 Ways to End the Clone Saga Full'\n",
    "# List of directory\n",
    "all_directory = [x[0] for x in os.walk(main_dir)]\n",
    "# Select one directory\n",
    "main_subdir = all_directory[0]"
   ]
  },
  {
   "cell_type": "markdown",
   "id": "78769b0a",
   "metadata": {},
   "source": [
    "## Custom function(s)"
   ]
  },
  {
   "cell_type": "code",
   "execution_count": 56,
   "id": "8e9e5c6c",
   "metadata": {},
   "outputs": [
    {
     "name": "stdout",
     "output_type": "stream",
     "text": [
      "['something1', 'something1.0', 'something1.105', 'something1.25', 'something2']\n"
     ]
    }
   ],
   "source": [
    "# Order string based on number (https://stackoverflow.com/questions/5967500/how-to-correctly-sort-a-string-with-a-number-inside)\n",
    "\n",
    "def atof(text):\n",
    "    try:\n",
    "        retval = float(text)\n",
    "    except ValueError:\n",
    "        retval = text\n",
    "    return retval\n",
    "\n",
    "def natural_keys(text):\n",
    "    '''\n",
    "    alist.sort(key=natural_keys) sorts in human order\n",
    "    http://nedbatchelder.com/blog/200712/human_sorting.html\n",
    "    (See Toothy's implementation in the comments)\n",
    "    float regex comes from https://stackoverflow.com/a/12643073/190597\n",
    "    '''\n",
    "    return [ atof(c) for c in re.split(r'[+-]?([0-9]+(?:[.][0-9]*)?|[.][0-9]+)', text) ]\n",
    "\n",
    "alist = [\n",
    "    'something1',\n",
    "    'something2',\n",
    "    'something1.0',\n",
    "    'something1.25',\n",
    "    'something1.105'\n",
    "]\n",
    "\n",
    "alist.sort(key = natural_keys)\n",
    "print(alist)"
   ]
  },
  {
   "cell_type": "code",
   "execution_count": 57,
   "id": "136f869c",
   "metadata": {},
   "outputs": [],
   "source": [
    "# Function to compress a PDF file\n",
    "def compress_pdf(input_pdf, output_pdf):\n",
    "    try:\n",
    "        pdf_file = open(input_pdf, 'rb')\n",
    "        pdf_reader = PyPDF2.PdfReader(pdf_file)\n",
    "        \n",
    "        pdf_writer = PyPDF2.PdfFileWriter()\n",
    "        \n",
    "        for page_num in range(pdf_reader.numPages):\n",
    "            page = pdf_reader.getPage(page_num)\n",
    "            page.compressContentStreams()\n",
    "            pdf_writer.addPage(page)\n",
    "        \n",
    "        with open(output_pdf, 'wb') as output_file:\n",
    "            pdf_writer.write(output_file)\n",
    "        \n",
    "        print(f'PDF compression complete. Saved as \"{output_pdf}\"')\n",
    "\n",
    "    except Exception as e:\n",
    "        print(f'An error occurred: {str(e)}')"
   ]
  },
  {
   "cell_type": "code",
   "execution_count": 58,
   "id": "0f92d2b0",
   "metadata": {},
   "outputs": [],
   "source": [
    "# Output PDF file name\n",
    "pdf_file = main_dir + '/' + os.path.split(main_subdir)[-1] + '.pdf'"
   ]
  },
  {
   "cell_type": "markdown",
   "id": "defensive-broadway",
   "metadata": {},
   "source": [
    "## List of images"
   ]
  },
  {
   "cell_type": "code",
   "execution_count": 59,
   "id": "29b7de6c",
   "metadata": {},
   "outputs": [],
   "source": [
    "# List of images\n",
    "list_images = os.listdir(path = main_subdir)"
   ]
  },
  {
   "cell_type": "code",
   "execution_count": 60,
   "id": "9d3eae8b",
   "metadata": {},
   "outputs": [],
   "source": [
    "# Sort filename\n",
    "list_images.sort(key = natural_keys)"
   ]
  },
  {
   "cell_type": "code",
   "execution_count": 61,
   "id": "9c0ddf1f",
   "metadata": {
    "scrolled": true
   },
   "outputs": [
    {
     "data": {
      "text/plain": [
       "['1WtEtCS-0-0.jpg',\n",
       " '1WtEtCS-0-1.jpg',\n",
       " '1WtEtCS-0-2.jpg',\n",
       " '1WtEtCS-0-3.jpg',\n",
       " '1WtEtCS-0-4.jpg',\n",
       " '1WtEtCS-0-5.jpg',\n",
       " '1WtEtCS-0-6.jpg',\n",
       " '1WtEtCS-0-7.jpg',\n",
       " '1WtEtCS-0-8.jpg',\n",
       " '1WtEtCS-0-9.jpg',\n",
       " '1WtEtCS-0-10.jpg',\n",
       " '1WtEtCS-0-11.jpg',\n",
       " '1WtEtCS-0-12.jpg',\n",
       " '1WtEtCS-0-13.jpg',\n",
       " '1WtEtCS-0-14.jpg',\n",
       " '1WtEtCS-0-15.jpg',\n",
       " '1WtEtCS-0-16.jpg',\n",
       " '1WtEtCS-0-17.jpg',\n",
       " '1WtEtCS-0-18.jpg',\n",
       " '1WtEtCS-0-19.jpg',\n",
       " '1WtEtCS-0-20.jpg',\n",
       " '1WtEtCS-0-21.jpg',\n",
       " '1WtEtCS-0-22.jpg',\n",
       " '1WtEtCS-0-23.jpg',\n",
       " '1WtEtCS-0-24.jpg',\n",
       " '1WtEtCS-0-25.jpg',\n",
       " '1WtEtCS-0-26.jpg',\n",
       " '1WtEtCS-0-27.jpg',\n",
       " '1WtEtCS-0-28.jpg',\n",
       " '1WtEtCS-0-29.jpg',\n",
       " '1WtEtCS-0-30.jpg',\n",
       " '1WtEtCS-0-31.jpg',\n",
       " '1WtEtCS-0-32.jpg',\n",
       " '1WtEtCS-0-33.jpg']"
      ]
     },
     "execution_count": 61,
     "metadata": {},
     "output_type": "execute_result"
    }
   ],
   "source": [
    "# List of images\n",
    "list_images"
   ]
  },
  {
   "cell_type": "markdown",
   "id": "2043503f",
   "metadata": {},
   "source": [
    "## Open and resize images"
   ]
  },
  {
   "cell_type": "code",
   "execution_count": 62,
   "id": "f5461f47",
   "metadata": {},
   "outputs": [],
   "source": [
    "# Height and width\n",
    "l_height = []\n",
    "l_width = []\n",
    "\n",
    "# Loop\n",
    "for image_path in list_images:\n",
    "    # Open image\n",
    "    img = Image.open(os.path.join(main_subdir, image_path))\n",
    "    l_height.append(img.height)\n",
    "    l_width.append(img.width)"
   ]
  },
  {
   "cell_type": "code",
   "execution_count": 63,
   "id": "04d8dce0",
   "metadata": {
    "scrolled": true
   },
   "outputs": [
    {
     "name": "stdout",
     "output_type": "stream",
     "text": [
      "Minimum width: 962\n",
      "Minimum weight: 1464\n"
     ]
    }
   ],
   "source": [
    "# Minimum width and weight\n",
    "print('Minimum width:', min(l_width))\n",
    "print('Minimum weight:', min(l_height))"
   ]
  },
  {
   "cell_type": "code",
   "execution_count": 64,
   "id": "efdd0bbb",
   "metadata": {},
   "outputs": [],
   "source": [
    "# Optimal size\n",
    "opt_size = (l_height[0], l_width[0])\n",
    "# opt_size = (1600, 1250)"
   ]
  },
  {
   "cell_type": "code",
   "execution_count": 65,
   "id": "06743904",
   "metadata": {},
   "outputs": [],
   "source": [
    "# Images\n",
    "images = []\n",
    "\n",
    "# Loop\n",
    "for image_path in list_images:\n",
    "    # Open image\n",
    "    img = Image.open(os.path.join(main_subdir, image_path))#.convert('L')\n",
    "    # Image size\n",
    "    h, w = img.height, img.width\n",
    "    # Resize image\n",
    "    if (h == opt_size[0]):\n",
    "        if (w >= opt_size[1]):\n",
    "            resize_img = img\n",
    "        elif (w < opt_size[1]):\n",
    "            resize_img = img.resize((opt_size[1], math.ceil(h * (opt_size[1]/w))))\n",
    "    elif (h > opt_size[0]):\n",
    "        resize_img = img.resize((math.ceil(w * (opt_size[0]/h)), opt_size[0]))\n",
    "    else:\n",
    "        resize_img = img.resize((math.ceil(w * (opt_size[0]/h)), opt_size[0]))\n",
    "        if resize_img.width < opt_size[1]:\n",
    "            t = opt_size[1] * (opt_size[0]/h) / resize_img.height\n",
    "            resize_img = resize_img.resize((opt_size[1], math.ceil(h * (opt_size[1]/w))))\n",
    "    # Crop image\n",
    "    crop_img = resize_img.crop((0, 0, opt_size[1], opt_size[0]))\n",
    "    # Add image into list\n",
    "    images.append(crop_img)"
   ]
  },
  {
   "cell_type": "markdown",
   "id": "166acb6b",
   "metadata": {},
   "source": [
    "## Convert JPG to PDF"
   ]
  },
  {
   "cell_type": "code",
   "execution_count": 66,
   "id": "94734fb3",
   "metadata": {},
   "outputs": [],
   "source": [
    "# Save the images as a PDF\n",
    "images[0].save(\n",
    "    'cimildudu.pdf',\n",
    "    save_all = True,\n",
    "    append_images = images[1:],\n",
    "    resolution = 100,\n",
    "    quality = 95\n",
    ")"
   ]
  }
 ],
 "metadata": {
  "kernelspec": {
   "display_name": "Python 3 (ipykernel)",
   "language": "python",
   "name": "python3"
  },
  "language_info": {
   "codemirror_mode": {
    "name": "ipython",
    "version": 3
   },
   "file_extension": ".py",
   "mimetype": "text/x-python",
   "name": "python",
   "nbconvert_exporter": "python",
   "pygments_lexer": "ipython3",
   "version": "3.9.12"
  }
 },
 "nbformat": 4,
 "nbformat_minor": 5
}
