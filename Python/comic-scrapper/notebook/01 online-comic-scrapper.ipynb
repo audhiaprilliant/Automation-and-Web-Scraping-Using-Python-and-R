{
 "cells": [
  {
   "cell_type": "markdown",
   "id": "22a50cac",
   "metadata": {},
   "source": [
    "# Online comic scrapper"
   ]
  },
  {
   "cell_type": "markdown",
   "id": "b059d86c",
   "metadata": {},
   "source": [
    "---"
   ]
  },
  {
   "cell_type": "markdown",
   "id": "moral-details",
   "metadata": {},
   "source": [
    "For introduction of Selenium, please be kind to open [**this site**](https://www.scrapingbee.com/blog/selenium-python/)"
   ]
  },
  {
   "cell_type": "markdown",
   "id": "institutional-channel",
   "metadata": {},
   "source": [
    "## Import modules"
   ]
  },
  {
   "cell_type": "markdown",
   "id": "trying-transsexual",
   "metadata": {
    "scrolled": true
   },
   "source": [
    "`%pip freeze > requirements.txt`"
   ]
  },
  {
   "cell_type": "code",
   "execution_count": 1,
   "id": "dense-sense",
   "metadata": {
    "ExecuteTime": {
     "end_time": "2020-06-19T23:39:06.502572Z",
     "start_time": "2020-06-19T23:39:06.497076Z"
    }
   },
   "outputs": [],
   "source": [
    "# Web scraping\n",
    "from selenium import webdriver\n",
    "from selenium.webdriver.common.by import By\n",
    "# Module for dropdown selector\n",
    "from selenium.webdriver.support.ui import Select\n",
    "# Access website\n",
    "import urllib\n",
    "\n",
    "# Data manipulation\n",
    "import pandas as pd\n",
    "\n",
    "# Regular expression\n",
    "import re\n",
    "import string\n",
    "\n",
    "# File management\n",
    "from pathlib import Path\n",
    "\n",
    "# Parse JSON\n",
    "import json\n",
    "\n",
    "# Timing\n",
    "import time"
   ]
  },
  {
   "cell_type": "markdown",
   "id": "defensive-broadway",
   "metadata": {},
   "source": [
    "## Load the Edge webdriver"
   ]
  },
  {
   "cell_type": "markdown",
   "id": "confidential-boulder",
   "metadata": {},
   "source": [
    "we don't need to download Edge webdriver since Selenium 4.6.0 [**Read more about selenium 4.6.0**]('https://www.selenium.dev/blog/2022/selenium-4-6-0-released/')"
   ]
  },
  {
   "cell_type": "code",
   "execution_count": 2,
   "id": "coordinate-reading",
   "metadata": {
    "ExecuteTime": {
     "end_time": "2020-06-19T23:29:33.659375Z",
     "start_time": "2020-06-19T23:29:18.312261Z"
    }
   },
   "outputs": [],
   "source": [
    "# Declare webdriver\n",
    "driver = webdriver.Edge()"
   ]
  },
  {
   "cell_type": "markdown",
   "id": "persistent-contract",
   "metadata": {},
   "source": [
    "## Access the url"
   ]
  },
  {
   "cell_type": "code",
   "execution_count": 3,
   "id": "fourth-character",
   "metadata": {},
   "outputs": [],
   "source": [
    "# Main url\n",
    "url = 'https://readcomiconline.li/Comic/Curses'"
   ]
  },
  {
   "cell_type": "code",
   "execution_count": 4,
   "id": "palestinian-measure",
   "metadata": {},
   "outputs": [],
   "source": [
    "# Access to main url\n",
    "driver.get(url)"
   ]
  },
  {
   "cell_type": "markdown",
   "id": "congressional-prague",
   "metadata": {},
   "source": [
    "## Core Procedure"
   ]
  },
  {
   "cell_type": "markdown",
   "id": "da1c6683",
   "metadata": {},
   "source": [
    "### 1 Get comic title"
   ]
  },
  {
   "cell_type": "code",
   "execution_count": 141,
   "id": "9f41361a",
   "metadata": {},
   "outputs": [],
   "source": [
    "# Get comic title and its abbreviation\n",
    "comic_title = driver.find_element(By.CLASS_NAME, 'bigChar').text\n",
    "comic_abbrv = ''.join(e[0] for e in comic_title.split())"
   ]
  },
  {
   "cell_type": "code",
   "execution_count": 142,
   "id": "635a54f0",
   "metadata": {},
   "outputs": [
    {
     "data": {
      "text/plain": [
       "'A Game Of Thrones'"
      ]
     },
     "execution_count": 142,
     "metadata": {},
     "output_type": "execute_result"
    }
   ],
   "source": [
    "# Title\n",
    "comic_title"
   ]
  },
  {
   "cell_type": "code",
   "execution_count": 143,
   "id": "e4893274",
   "metadata": {},
   "outputs": [
    {
     "data": {
      "text/plain": [
       "'AGOT'"
      ]
     },
     "execution_count": 143,
     "metadata": {},
     "output_type": "execute_result"
    }
   ],
   "source": [
    "# Abbreviation\n",
    "comic_abbrv"
   ]
  },
  {
   "cell_type": "markdown",
   "id": "listed-missile",
   "metadata": {},
   "source": [
    "### 2 Get URLs for each chapter"
   ]
  },
  {
   "cell_type": "code",
   "execution_count": 144,
   "id": "892cfab9",
   "metadata": {
    "scrolled": true
   },
   "outputs": [],
   "source": [
    "# Element of table\n",
    "table_chapter = driver.find_element(By.TAG_NAME, 'table')"
   ]
  },
  {
   "cell_type": "code",
   "execution_count": 145,
   "id": "pursuant-charity",
   "metadata": {},
   "outputs": [],
   "source": [
    "# List of chapter name\n",
    "list_chapter = reversed([{element.text: element.get_property('href')} for element in table_chapter.find_elements(By.TAG_NAME, 'a')])"
   ]
  },
  {
   "cell_type": "code",
   "execution_count": 146,
   "id": "944f482c",
   "metadata": {
    "scrolled": true
   },
   "outputs": [
    {
     "data": {
      "text/plain": [
       "[{'A Game Of Thrones Issue #24': 'https://readcomiconline.li/Comic/A-Game-Of-Thrones/Issue-24?id=24952'},\n",
       " {'A Game Of Thrones Issue #23': 'https://readcomiconline.li/Comic/A-Game-Of-Thrones/Issue-23?id=24951'},\n",
       " {'A Game Of Thrones Issue #22': 'https://readcomiconline.li/Comic/A-Game-Of-Thrones/Issue-22?id=24950'},\n",
       " {'A Game Of Thrones Issue #21': 'https://readcomiconline.li/Comic/A-Game-Of-Thrones/Issue-21?id=24949'},\n",
       " {'A Game Of Thrones Issue #20': 'https://readcomiconline.li/Comic/A-Game-Of-Thrones/Issue-20?id=24948'},\n",
       " {'A Game Of Thrones Issue #19': 'https://readcomiconline.li/Comic/A-Game-Of-Thrones/Issue-19?id=24947'},\n",
       " {'A Game Of Thrones Issue #18': 'https://readcomiconline.li/Comic/A-Game-Of-Thrones/Issue-18?id=24946'},\n",
       " {'A Game Of Thrones Issue #17': 'https://readcomiconline.li/Comic/A-Game-Of-Thrones/Issue-17?id=24945'},\n",
       " {'A Game Of Thrones Issue #16': 'https://readcomiconline.li/Comic/A-Game-Of-Thrones/Issue-16?id=24944'},\n",
       " {'A Game Of Thrones Issue #15': 'https://readcomiconline.li/Comic/A-Game-Of-Thrones/Issue-15?id=24943'},\n",
       " {'A Game Of Thrones Issue #14': 'https://readcomiconline.li/Comic/A-Game-Of-Thrones/Issue-14?id=24942'},\n",
       " {'A Game Of Thrones Issue #13': 'https://readcomiconline.li/Comic/A-Game-Of-Thrones/Issue-13?id=24941'},\n",
       " {'A Game Of Thrones Issue #12': 'https://readcomiconline.li/Comic/A-Game-Of-Thrones/Issue-12?id=24940'},\n",
       " {'A Game Of Thrones Issue #11': 'https://readcomiconline.li/Comic/A-Game-Of-Thrones/Issue-11?id=24939'},\n",
       " {'A Game Of Thrones Issue #10': 'https://readcomiconline.li/Comic/A-Game-Of-Thrones/Issue-10?id=24938'},\n",
       " {'A Game Of Thrones Issue #9': 'https://readcomiconline.li/Comic/A-Game-Of-Thrones/Issue-9?id=24935'},\n",
       " {'A Game Of Thrones Issue #8': 'https://readcomiconline.li/Comic/A-Game-Of-Thrones/Issue-8?id=24937'},\n",
       " {'A Game Of Thrones Issue #7': 'https://readcomiconline.li/Comic/A-Game-Of-Thrones/Issue-7?id=24934'},\n",
       " {'A Game Of Thrones Issue #6': 'https://readcomiconline.li/Comic/A-Game-Of-Thrones/Issue-6?id=24933'},\n",
       " {'A Game Of Thrones Issue #5': 'https://readcomiconline.li/Comic/A-Game-Of-Thrones/Issue-5?id=24932'},\n",
       " {'A Game Of Thrones Issue #4': 'https://readcomiconline.li/Comic/A-Game-Of-Thrones/Issue-4?id=24931'},\n",
       " {'A Game Of Thrones Issue #3': 'https://readcomiconline.li/Comic/A-Game-Of-Thrones/Issue-3?id=24930'},\n",
       " {'A Game Of Thrones Issue #2': 'https://readcomiconline.li/Comic/A-Game-Of-Thrones/Issue-2?id=25576'},\n",
       " {'A Game Of Thrones Issue #1': 'https://readcomiconline.li/Comic/A-Game-Of-Thrones/Issue-1?id=24929'}]"
      ]
     },
     "execution_count": 146,
     "metadata": {},
     "output_type": "execute_result"
    }
   ],
   "source": [
    "# Show list of chapter\n",
    "list_chapter"
   ]
  },
  {
   "cell_type": "markdown",
   "id": "833f6d10",
   "metadata": {},
   "source": [
    "### 3 Open each URL"
   ]
  },
  {
   "cell_type": "code",
   "execution_count": 147,
   "id": "7377b28d",
   "metadata": {
    "scrolled": true
   },
   "outputs": [],
   "source": [
    "# Access chapter page\n",
    "driver.get(list(list_chapter[0].values())[0])"
   ]
  },
  {
   "cell_type": "markdown",
   "id": "74d0329e",
   "metadata": {},
   "source": [
    "### 4 Switch read mode to full page"
   ]
  },
  {
   "cell_type": "code",
   "execution_count": 148,
   "id": "f43d1db7",
   "metadata": {},
   "outputs": [],
   "source": [
    "# Dropdown object\n",
    "dropdown_obj = Select(driver.find_element(By.ID, 'selectReadType'))"
   ]
  },
  {
   "cell_type": "code",
   "execution_count": 149,
   "id": "c03934f2",
   "metadata": {},
   "outputs": [],
   "source": [
    "# List of dropdown list\n",
    "dropdown_values = []\n",
    "options = dropdown_obj.options\n",
    "for index in range(len(options)):\n",
    "    dropdown_values.append(options[index].text)"
   ]
  },
  {
   "cell_type": "code",
   "execution_count": 150,
   "id": "e33d6c65",
   "metadata": {},
   "outputs": [
    {
     "data": {
      "text/plain": [
       "['One page', 'All pages']"
      ]
     },
     "execution_count": 150,
     "metadata": {},
     "output_type": "execute_result"
    }
   ],
   "source": [
    "# Dropdown values\n",
    "dropdown_values"
   ]
  },
  {
   "cell_type": "code",
   "execution_count": 151,
   "id": "eba8ffcd",
   "metadata": {},
   "outputs": [],
   "source": [
    "# Select by visible text\n",
    "dropdown_obj.select_by_visible_text(dropdown_values[len(dropdown_values) - 1])"
   ]
  },
  {
   "cell_type": "markdown",
   "id": "749c0fb2",
   "metadata": {},
   "source": [
    "### 5 Scroll down page"
   ]
  },
  {
   "cell_type": "code",
   "execution_count": 152,
   "id": "e59699f7",
   "metadata": {},
   "outputs": [],
   "source": [
    "# Document scrollHeight\n",
    "scroll_height = driver.execute_script('return document.documentElement.scrollHeight;')"
   ]
  },
  {
   "cell_type": "code",
   "execution_count": 153,
   "id": "91fab034",
   "metadata": {},
   "outputs": [
    {
     "data": {
      "text/plain": [
       "48719"
      ]
     },
     "execution_count": 153,
     "metadata": {},
     "output_type": "execute_result"
    }
   ],
   "source": [
    "# Show page height\n",
    "scroll_height"
   ]
  },
  {
   "cell_type": "code",
   "execution_count": 154,
   "id": "53484b26",
   "metadata": {},
   "outputs": [],
   "source": [
    "# Scroll down slowly\n",
    "scroll_height = driver.execute_script('return document.documentElement.scrollHeight;')\n",
    "for iters in range(0, scroll_height, 1000):\n",
    "    driver.execute_script('window.scrollTo(0, {});'.format(iters))\n",
    "    time.sleep(1)"
   ]
  },
  {
   "cell_type": "markdown",
   "id": "fc6199c6",
   "metadata": {},
   "source": [
    "### 6 Download the images"
   ]
  },
  {
   "cell_type": "code",
   "execution_count": 155,
   "id": "1c509489",
   "metadata": {},
   "outputs": [],
   "source": [
    "# Image section object\n",
    "image_obj = driver.find_element(By.ID, 'divImage')"
   ]
  },
  {
   "cell_type": "code",
   "execution_count": 158,
   "id": "13078c42",
   "metadata": {
    "scrolled": true
   },
   "outputs": [],
   "source": [
    "# List of images\n",
    "list_images = [{comic_abbrv+str(i): j.get_attribute('src')} for i, j in enumerate(image_obj.find_elements(By.TAG_NAME, 'img'))]"
   ]
  },
  {
   "cell_type": "code",
   "execution_count": 159,
   "id": "3f3c130c",
   "metadata": {
    "scrolled": true
   },
   "outputs": [
    {
     "data": {
      "text/plain": [
       "[{'AGOT0': 'https://2.bp.blogspot.com/-Yk0pkOjO8is/Vt1BsyH56FI/AAAAAAAALHA/0nYbsDiWYZE/s1600-Ic42/RCO001.jpg'},\n",
       " {'AGOT1': 'https://2.bp.blogspot.com/-Fk6A275d-gU/Vt1Bs2JcdNI/AAAAAAAALHA/VsnW5phktnU/s1600-Ic42/RCO002.jpg'},\n",
       " {'AGOT2': 'https://2.bp.blogspot.com/-S9JJ1KXIKz4/Vt1BswQ6a3I/AAAAAAAALHA/WJRM3y1WwjE/s1600-Ic42/RCO003.jpg'},\n",
       " {'AGOT3': 'https://2.bp.blogspot.com/-qFv7fQtKB5A/Vt1BtVo2xUI/AAAAAAAALHA/lTWdCMjd4AM/s1600-Ic42/RCO004.jpg'},\n",
       " {'AGOT4': 'https://2.bp.blogspot.com/-5LDnXJbbCE0/Vt1BtTVOBMI/AAAAAAAALHA/gfZ1odaQkkk/s1600-Ic42/RCO005.jpg'},\n",
       " {'AGOT5': 'https://2.bp.blogspot.com/-gS-a9OcX23s/Vt1BtrmHO6I/AAAAAAAALHA/G6J-cOLBolM/s1600-Ic42/RCO006_w.jpg'},\n",
       " {'AGOT6': 'https://2.bp.blogspot.com/-yicLMM2yR3M/Vt1BtkHmFzI/AAAAAAAALHA/ifPPEWMVOBo/s1600-Ic42/RCO007.jpg'},\n",
       " {'AGOT7': 'https://2.bp.blogspot.com/-khMNRG1BWu8/Vt1Bt4Jx76I/AAAAAAAALHA/d1xh5kzV4QQ/s1600-Ic42/RCO008.jpg'},\n",
       " {'AGOT8': 'https://2.bp.blogspot.com/-OH3khkzMxxk/Vt1BtzLTvVI/AAAAAAAALHA/KYtHy3rh3wA/s1600-Ic42/RCO009.jpg'},\n",
       " {'AGOT9': 'https://2.bp.blogspot.com/-LbuYAbJRINU/Vt1BuLJ_qwI/AAAAAAAALHA/MnRa7TSPQ8k/s1600-Ic42/RCO010.jpg'},\n",
       " {'AGOT10': 'https://2.bp.blogspot.com/-o_YlNA5ACQ4/Vt1BuZZ8ZmI/AAAAAAAALHA/uKUpp4JSX_A/s1600-Ic42/RCO011.jpg'},\n",
       " {'AGOT11': 'https://2.bp.blogspot.com/-NLQQcJoTSF4/Vt1BuqRNPWI/AAAAAAAALHA/x6nXRNPgDXE/s1600-Ic42/RCO012.jpg'},\n",
       " {'AGOT12': 'https://2.bp.blogspot.com/-57t4zc1Qf0o/Vt1Bu2s1WvI/AAAAAAAALHA/4iqcim8E0xs/s1600-Ic42/RCO013.jpg'},\n",
       " {'AGOT13': 'https://2.bp.blogspot.com/-VD26vgMcjBI/Vt1BvBqfA9I/AAAAAAAALHA/S5KwCqY6Iz4/s1600-Ic42/RCO014.jpg'},\n",
       " {'AGOT14': 'https://2.bp.blogspot.com/-FMYYFPkLhN4/Vt1BvFoaf6I/AAAAAAAALHA/BkQhXyjIy48/s1600-Ic42/RCO015.jpg'},\n",
       " {'AGOT15': 'https://2.bp.blogspot.com/-sedfrq_Xvlo/Vt1BvXWPdKI/AAAAAAAALHA/eG7Wnf8PM2g/s1600-Ic42/RCO016.jpg'},\n",
       " {'AGOT16': 'https://2.bp.blogspot.com/-Nwrh7wNPAdQ/Vt1BvmauNLI/AAAAAAAALHA/IlOV4yiOu3s/s1600-Ic42/RCO017.jpg'},\n",
       " {'AGOT17': 'https://2.bp.blogspot.com/-Wk6IqwDOzQE/Vt1BvnVI5JI/AAAAAAAALHA/qszJRlrksv4/s1600-Ic42/RCO018.jpg'},\n",
       " {'AGOT18': 'https://2.bp.blogspot.com/-uvd61dSdjAQ/Vt1Bvx9pm3I/AAAAAAAALHA/mEr19GaHiFA/s1600-Ic42/RCO019.jpg'},\n",
       " {'AGOT19': 'https://2.bp.blogspot.com/-SCkkgmadqO8/Vt1BwDWK09I/AAAAAAAALHA/29qui4CMOVk/s1600-Ic42/RCO020.jpg'},\n",
       " {'AGOT20': 'https://2.bp.blogspot.com/-5AgLoIF4Z9Q/Vt1BwqIt5lI/AAAAAAAALHA/vh_S8dzWaFY/s1600-Ic42/RCO021.jpg'},\n",
       " {'AGOT21': 'https://2.bp.blogspot.com/-_j6fL2wWWbs/Vt1Bw-zDNHI/AAAAAAAALHA/Fx1WuIrb-G8/s1600-Ic42/RCO022.jpg'},\n",
       " {'AGOT22': 'https://2.bp.blogspot.com/-R9j7-k6a_IU/Vt1Bw9KzIfI/AAAAAAAALHA/6xbo9k04FdM/s1600-Ic42/RCO023.jpg'},\n",
       " {'AGOT23': 'https://2.bp.blogspot.com/-ocj43EGHJH0/Vt1BxBi73YI/AAAAAAAALHA/rVd6__Q9iew/s1600-Ic42/RCO024.jpg'},\n",
       " {'AGOT24': 'https://2.bp.blogspot.com/-Yt_0qYiMOwY/Vt1Bxdx3eOI/AAAAAAAALHA/EicUsgTFLjU/s1600-Ic42/RCO025.jpg'},\n",
       " {'AGOT25': 'https://2.bp.blogspot.com/-j9VC2mdDS3s/Vt1BxkWzFOI/AAAAAAAALHA/vbLmJstn0k8/s1600-Ic42/RCO026.jpg'},\n",
       " {'AGOT26': 'https://2.bp.blogspot.com/-qO-nVD-J8c0/Vt1Bxg_LSKI/AAAAAAAALHA/oAg5B1Zb24g/s1600-Ic42/RCO027.jpg'},\n",
       " {'AGOT27': 'https://2.bp.blogspot.com/-SmIYw49dG5Y/Vt1Bx3qqSmI/AAAAAAAALHA/i49L5mesBMo/s1600-Ic42/RCO028.jpg'},\n",
       " {'AGOT28': 'https://2.bp.blogspot.com/-IDnAfYLDy4k/Vt1ByHvdKXI/AAAAAAAALHA/t9iRm9LSl38/s1600-Ic42/RCO029_w.jpg'},\n",
       " {'AGOT29': 'https://2.bp.blogspot.com/-nvztphL8oCw/Vt1ByT5qmoI/AAAAAAAALHA/HH6MiZFb53g/s1600-Ic42/RCO030_w.jpg'},\n",
       " {'AGOT30': 'https://2.bp.blogspot.com/-7yqrLy__R-k/Vt1BybaxrHI/AAAAAAAALHA/MwFTb26XyD0/s1600-Ic42/RCO031_w.jpg'},\n",
       " {'AGOT31': 'https://2.bp.blogspot.com/-j9_xx0hIPYQ/Vt1BymqjYeI/AAAAAAAALHA/lHmpHfTVBGI/s1600-Ic42/RCO032_w.jpg'},\n",
       " {'AGOT32': 'https://2.bp.blogspot.com/-UuEDLGKw034/Vt1Bznz4_aI/AAAAAAAALHA/jUFBaXbAvek/s1600-Ic42/RCO033.jpg'},\n",
       " {'AGOT33': 'https://2.bp.blogspot.com/-zETUa-BeYh4/Vt1Bz5_A3-I/AAAAAAAALHA/d8LX7Qw9JhA/s1600-Ic42/RCO034.jpg'},\n",
       " {'AGOT34': 'https://2.bp.blogspot.com/-KLA9HEt0kG4/Vt1B0Le7yGI/AAAAAAAALHA/9QsbRsIQaPY/s1600-Ic42/RCO035.jpg'},\n",
       " {'AGOT35': 'https://2.bp.blogspot.com/-fwjQeI2DHFA/Vt1B0WePZEI/AAAAAAAALHA/ULoMdNqmkCg/s1600-Ic42/RCO036.jpg'}]"
      ]
     },
     "execution_count": 159,
     "metadata": {},
     "output_type": "execute_result"
    }
   ],
   "source": [
    "# Show list of images\n",
    "list_images"
   ]
  },
  {
   "cell_type": "code",
   "execution_count": 209,
   "id": "a5c5920c",
   "metadata": {},
   "outputs": [],
   "source": [
    "# URL\n",
    "image_url = list_images[0][list(list_images[0].keys())[0]]\n",
    "\n",
    "# Object name\n",
    "image_name = list(list_images[0].keys())[0] + os.path.splitext(image_url)[1]"
   ]
  },
  {
   "cell_type": "code",
   "execution_count": 213,
   "id": "c2c89078",
   "metadata": {},
   "outputs": [
    {
     "data": {
      "text/plain": [
       "('AGOT0.jpg', <http.client.HTTPMessage at 0x24d6dad2250>)"
      ]
     },
     "execution_count": 213,
     "metadata": {},
     "output_type": "execute_result"
    }
   ],
   "source": [
    "# Download the image\n",
    "urllib.request.urlretrieve(url = image_url, filename = image_name)"
   ]
  }
 ],
 "metadata": {
  "kernelspec": {
   "display_name": "Python 3 (ipykernel)",
   "language": "python",
   "name": "python3"
  },
  "language_info": {
   "codemirror_mode": {
    "name": "ipython",
    "version": 3
   },
   "file_extension": ".py",
   "mimetype": "text/x-python",
   "name": "python",
   "nbconvert_exporter": "python",
   "pygments_lexer": "ipython3",
   "version": "3.9.12"
  }
 },
 "nbformat": 4,
 "nbformat_minor": 5
}
