{
 "cells": [
  {
   "cell_type": "markdown",
   "id": "affiliated-phoenix",
   "metadata": {},
   "source": [
    "# Dewan Pers - Geocode"
   ]
  },
  {
   "cell_type": "markdown",
   "id": "convertible-vegetable",
   "metadata": {},
   "source": [
    "---"
   ]
  },
  {
   "cell_type": "markdown",
   "id": "charged-rebel",
   "metadata": {},
   "source": [
    "## Import modules"
   ]
  },
  {
   "cell_type": "code",
   "execution_count": 1,
   "id": "meaningful-japan",
   "metadata": {
    "ExecuteTime": {
     "end_time": "2020-06-19T23:39:06.502572Z",
     "start_time": "2020-06-19T23:39:06.497076Z"
    }
   },
   "outputs": [],
   "source": [
    "# Module for data manipulation\n",
    "import pandas as pd\n",
    "# Module for linear algebra\n",
    "import numpy as np\n",
    "# Module for reverse geocode - OpenstreetMap API\n",
    "import geopy\n",
    "from geopy.geocoders import Nominatim\n",
    "# Module for reverse geocode - limit\n",
    "from geopy.extra.rate_limiter import RateLimiter\n",
    "from geopy.exc import GeocoderTimedOut\n",
    "# Module for time calculation\n",
    "import time"
   ]
  },
  {
   "cell_type": "markdown",
   "id": "consolidated-battery",
   "metadata": {},
   "source": [
    "## Geocode"
   ]
  },
  {
   "cell_type": "markdown",
   "id": "robust-hammer",
   "metadata": {},
   "source": [
    "**Load the data**"
   ]
  },
  {
   "cell_type": "code",
   "execution_count": 2,
   "id": "incorporated-sympathy",
   "metadata": {},
   "outputs": [
    {
     "name": "stdout",
     "output_type": "stream",
     "text": [
      "Dimension of data: 1621 rows and 13 columns\n"
     ]
    },
    {
     "data": {
      "text/html": [
       "<div>\n",
       "<style scoped>\n",
       "    .dataframe tbody tr th:only-of-type {\n",
       "        vertical-align: middle;\n",
       "    }\n",
       "\n",
       "    .dataframe tbody tr th {\n",
       "        vertical-align: top;\n",
       "    }\n",
       "\n",
       "    .dataframe thead th {\n",
       "        text-align: right;\n",
       "    }\n",
       "</style>\n",
       "<table border=\"1\" class=\"dataframe\">\n",
       "  <thead>\n",
       "    <tr style=\"text-align: right;\">\n",
       "      <th></th>\n",
       "      <th>Number</th>\n",
       "      <th>Nama Media</th>\n",
       "      <th>Jenis Media</th>\n",
       "      <th>Penanggung Jawab</th>\n",
       "      <th>Pemimpin Redaksi</th>\n",
       "      <th>Badan Hukum</th>\n",
       "      <th>Provinsi</th>\n",
       "      <th>Alamat</th>\n",
       "      <th>Telp</th>\n",
       "      <th>Email</th>\n",
       "      <th>Website</th>\n",
       "      <th>Status</th>\n",
       "      <th>Tgl Approve</th>\n",
       "    </tr>\n",
       "  </thead>\n",
       "  <tbody>\n",
       "    <tr>\n",
       "      <th>0</th>\n",
       "      <td>1</td>\n",
       "      <td>kaltimtoday.co</td>\n",
       "      <td>Siber</td>\n",
       "      <td>Maturidi</td>\n",
       "      <td>Maturidi</td>\n",
       "      <td>Media mandiri perkasa</td>\n",
       "      <td>Kalimantan Timur</td>\n",
       "      <td>Jalan a wahab syahrani gang walet 1 No 2, sama...</td>\n",
       "      <td>082216557666</td>\n",
       "      <td>kaltimtoday99@gmail.com</td>\n",
       "      <td>www.kaltimtoday.co</td>\n",
       "      <td>Terverifikasi Administratif</td>\n",
       "      <td>2021-07-05</td>\n",
       "    </tr>\n",
       "    <tr>\n",
       "      <th>1</th>\n",
       "      <td>2</td>\n",
       "      <td>Tekape.co</td>\n",
       "      <td>Siber</td>\n",
       "      <td>Indar Ismail Jamaluddin</td>\n",
       "      <td>Indar Ismail Jamaluddin</td>\n",
       "      <td>Tempat Kreatifitas Anak Muda Pore</td>\n",
       "      <td>Sulawesi Selatan</td>\n",
       "      <td>Perumahan New Graha Jannah Zarindah, Blok B3/3...</td>\n",
       "      <td>0853 9696 8189</td>\n",
       "      <td>redaksi@tekape.co | redaksitekape@gmail.com</td>\n",
       "      <td>https://tekape.co/</td>\n",
       "      <td>Terverifikasi Administratif</td>\n",
       "      <td>2021-07-05</td>\n",
       "    </tr>\n",
       "    <tr>\n",
       "      <th>2</th>\n",
       "      <td>3</td>\n",
       "      <td>digtara.com</td>\n",
       "      <td>Siber</td>\n",
       "      <td>Irwansyah Putra Nasution</td>\n",
       "      <td>Irwansyah Putra Nasution</td>\n",
       "      <td>MEDIA IBE NUSANTARA</td>\n",
       "      <td>Sumatera Utara</td>\n",
       "      <td>Komplek Taman Setia Budi Indah Blok JJ 10</td>\n",
       "      <td>0821-6648-2003/0852-6109-5279</td>\n",
       "      <td>redaksidigtara@gmail.com</td>\n",
       "      <td>digtara.com</td>\n",
       "      <td>Terverifikasi Administratif dan Faktual</td>\n",
       "      <td>2021-06-30</td>\n",
       "    </tr>\n",
       "    <tr>\n",
       "      <th>3</th>\n",
       "      <td>4</td>\n",
       "      <td>CNBC Indonesia</td>\n",
       "      <td>Televisi</td>\n",
       "      <td>Wahyu Daniel Panjaitan</td>\n",
       "      <td>Wahyu Daniel Panjaitan</td>\n",
       "      <td>Trans Berita Bisnis</td>\n",
       "      <td>DKI Jakarta</td>\n",
       "      <td>Gedung Transmedia Lantai 3A, Jl. Kapten P. Ten...</td>\n",
       "      <td>021-79177000</td>\n",
       "      <td>legaltbb@gmail.com</td>\n",
       "      <td>www.cnbcindonesia.com</td>\n",
       "      <td>Terverifikasi Administratif dan Faktual</td>\n",
       "      <td>2021-06-30</td>\n",
       "    </tr>\n",
       "    <tr>\n",
       "      <th>4</th>\n",
       "      <td>5</td>\n",
       "      <td>Swara Kaltim</td>\n",
       "      <td>Cetak</td>\n",
       "      <td>Muhammad Syafranuddin</td>\n",
       "      <td>Mohammad Abdun Kuddu</td>\n",
       "      <td>Media Swara Kaltim</td>\n",
       "      <td>Kalimantan Timur</td>\n",
       "      <td>JL. Gerilya Gg. Keluarga Rt. 102 No. 027 Kelur...</td>\n",
       "      <td>0541 731240</td>\n",
       "      <td>mediaswarakaltim@yahoo.com</td>\n",
       "      <td>https://swarakaltim.com</td>\n",
       "      <td>Terverifikasi Administratif dan Faktual</td>\n",
       "      <td>2021-06-30</td>\n",
       "    </tr>\n",
       "  </tbody>\n",
       "</table>\n",
       "</div>"
      ],
      "text/plain": [
       "   Number      Nama Media Jenis Media          Penanggung Jawab  \\\n",
       "0       1  kaltimtoday.co       Siber                  Maturidi   \n",
       "1       2       Tekape.co       Siber   Indar Ismail Jamaluddin   \n",
       "2       3     digtara.com       Siber  Irwansyah Putra Nasution   \n",
       "3       4  CNBC Indonesia    Televisi    Wahyu Daniel Panjaitan   \n",
       "4       5    Swara Kaltim       Cetak     Muhammad Syafranuddin   \n",
       "\n",
       "           Pemimpin Redaksi                        Badan Hukum  \\\n",
       "0                  Maturidi              Media mandiri perkasa   \n",
       "1   Indar Ismail Jamaluddin  Tempat Kreatifitas Anak Muda Pore   \n",
       "2  Irwansyah Putra Nasution                MEDIA IBE NUSANTARA   \n",
       "3    Wahyu Daniel Panjaitan                Trans Berita Bisnis   \n",
       "4      Mohammad Abdun Kuddu                 Media Swara Kaltim   \n",
       "\n",
       "           Provinsi                                             Alamat  \\\n",
       "0  Kalimantan Timur  Jalan a wahab syahrani gang walet 1 No 2, sama...   \n",
       "1  Sulawesi Selatan  Perumahan New Graha Jannah Zarindah, Blok B3/3...   \n",
       "2    Sumatera Utara          Komplek Taman Setia Budi Indah Blok JJ 10   \n",
       "3       DKI Jakarta  Gedung Transmedia Lantai 3A, Jl. Kapten P. Ten...   \n",
       "4  Kalimantan Timur  JL. Gerilya Gg. Keluarga Rt. 102 No. 027 Kelur...   \n",
       "\n",
       "                            Telp                                        Email  \\\n",
       "0                   082216557666                      kaltimtoday99@gmail.com   \n",
       "1                 0853 9696 8189  redaksi@tekape.co | redaksitekape@gmail.com   \n",
       "2  0821-6648-2003/0852-6109-5279                     redaksidigtara@gmail.com   \n",
       "3                   021-79177000                           legaltbb@gmail.com   \n",
       "4                    0541 731240                   mediaswarakaltim@yahoo.com   \n",
       "\n",
       "                   Website                                   Status  \\\n",
       "0       www.kaltimtoday.co              Terverifikasi Administratif   \n",
       "1       https://tekape.co/              Terverifikasi Administratif   \n",
       "2              digtara.com  Terverifikasi Administratif dan Faktual   \n",
       "3    www.cnbcindonesia.com  Terverifikasi Administratif dan Faktual   \n",
       "4  https://swarakaltim.com  Terverifikasi Administratif dan Faktual   \n",
       "\n",
       "  Tgl Approve  \n",
       "0  2021-07-05  \n",
       "1  2021-07-05  \n",
       "2  2021-06-30  \n",
       "3  2021-06-30  \n",
       "4  2021-06-30  "
      ]
     },
     "execution_count": 2,
     "metadata": {},
     "output_type": "execute_result"
    }
   ],
   "source": [
    "df = pd.read_csv('../data/raw/raw_dewan_pers.csv', sep = ';')\n",
    "print('Dimension of data: {rows} rows and {cols} columns'.format(rows = len(df), cols = len(df.columns)))\n",
    "df.head()"
   ]
  },
  {
   "cell_type": "markdown",
   "id": "stunning-storage",
   "metadata": {},
   "source": [
    "**Create a geocode function**"
   ]
  },
  {
   "cell_type": "code",
   "execution_count": 3,
   "id": "printable-tuesday",
   "metadata": {},
   "outputs": [],
   "source": [
    "def geocoder(\n",
    "    area_admin: str\n",
    "    ):\n",
    "    # Create vectorizer\n",
    "    time.sleep(1)\n",
    "    geolocator = Nominatim(user_agent = 'myGeocoder')\n",
    "    geocode = RateLimiter(geolocator.geocode, min_delay_seconds = 1.5)\n",
    "    # Create a list\n",
    "    list_split = list(area_admin.split(' '))\n",
    "    try:\n",
    "        status = True\n",
    "        index = len(list_split)\n",
    "        while status:\n",
    "            location = geocode(' '.join(list_split[::-1][0:index]), timeout = 10000)\n",
    "            status = (location == None)\n",
    "            index -= 1\n",
    "    except GeocoderTimedOut as e:\n",
    "        print('Error: geocode failed on input {} with message {}'.format(area_admin, e.message))\n",
    "    try:\n",
    "        json_result = {\n",
    "            'latitude': location.latitude,\n",
    "            'longitude': location.longitude,\n",
    "            'address': location.address\n",
    "            }\n",
    "    except:\n",
    "        json_result = {\n",
    "            'latitude': None,\n",
    "            'longitude': None,\n",
    "            'address': None\n",
    "            }\n",
    "    return json_result['address'], json_result['latitude'], json_result['longitude']"
   ]
  },
  {
   "cell_type": "markdown",
   "id": "emotional-right",
   "metadata": {},
   "source": [
    "**Trial and error**"
   ]
  },
  {
   "cell_type": "code",
   "execution_count": 4,
   "id": "voluntary-publisher",
   "metadata": {
    "scrolled": true
   },
   "outputs": [
    {
     "name": "stdout",
     "output_type": "stream",
     "text": [
      "Griya Nusa Pesona Blok I No 4 Kelurahan Talang Kelapa Kecamatan Alang-Alang Lebar\n"
     ]
    }
   ],
   "source": [
    "location = 'Griya Nusa Pesona Blok I No 4 Kelurahan Talang Kelapa Kecamatan Alang-Alang Lebar'\n",
    "print(location)"
   ]
  },
  {
   "cell_type": "code",
   "execution_count": 5,
   "id": "electrical-broadway",
   "metadata": {
    "scrolled": true
   },
   "outputs": [
    {
     "name": "stdout",
     "output_type": "stream",
     "text": [
      "Location from OSM API: Alang Alang Lebar, Palembang, Sumatera Selatan, 30154, Indonesia\n",
      "Latitude             : -2.9165496\n",
      "Longitude            : 104.6814308\n"
     ]
    }
   ],
   "source": [
    "loc, lat, long = geocoder(area_admin = location)\n",
    "print('Location from OSM API: {loc}'.format(loc = loc))\n",
    "print('Latitude             : {lat}'.format(lat = lat))\n",
    "print('Longitude            : {long}'.format(long = long))"
   ]
  },
  {
   "cell_type": "markdown",
   "id": "artistic-utility",
   "metadata": {},
   "source": [
    "**Implement to data frame**"
   ]
  },
  {
   "cell_type": "code",
   "execution_count": null,
   "id": "incorporated-limitation",
   "metadata": {
    "scrolled": true
   },
   "outputs": [],
   "source": [
    "df[['Address Geocoder', 'Latitude', 'Longitude']] = df.apply(\n",
    "    lambda x: geocoder(x['Alamat']),\n",
    "    axis = 1,\n",
    "    result_type = 'expand'\n",
    ")"
   ]
  },
  {
   "cell_type": "code",
   "execution_count": null,
   "id": "different-greensboro",
   "metadata": {
    "scrolled": true
   },
   "outputs": [],
   "source": [
    "loc_idx = []\n",
    "lat_idx = []\n",
    "long_idx = []\n",
    "time_idx = []\n",
    "elem_idx = []\n",
    "for idx in range(len(df)):\n",
    "    location = df.loc[idx,'Alamat']\n",
    "    # Time\n",
    "    start_time = time.time()\n",
    "    loc, lat, long = geocoder(area_admin = location)\n",
    "    # Time\n",
    "    end_time = time.time()\n",
    "    # Append the value\n",
    "    elem_idx.append(idx)\n",
    "    time_idx.append(round(end_time - start_time, ndigits = 2))\n",
    "    loc_idx.append(loc)\n",
    "    lat_idx.append(lat)\n",
    "    long_idx.append(long)\n",
    "    # Print the index\n",
    "    print(idx, '->', loc)"
   ]
  },
  {
   "cell_type": "code",
   "execution_count": null,
   "id": "above-enforcement",
   "metadata": {},
   "outputs": [],
   "source": [
    "df.head()"
   ]
  }
 ],
 "metadata": {
  "kernelspec": {
   "display_name": "Python 3",
   "language": "python",
   "name": "python3"
  },
  "language_info": {
   "codemirror_mode": {
    "name": "ipython",
    "version": 3
   },
   "file_extension": ".py",
   "mimetype": "text/x-python",
   "name": "python",
   "nbconvert_exporter": "python",
   "pygments_lexer": "ipython3",
   "version": "3.8.3"
  }
 },
 "nbformat": 4,
 "nbformat_minor": 5
}
