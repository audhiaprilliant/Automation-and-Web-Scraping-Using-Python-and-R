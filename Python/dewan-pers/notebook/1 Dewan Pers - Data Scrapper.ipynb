{
 "cells": [
  {
   "cell_type": "markdown",
   "id": "affiliated-phoenix",
   "metadata": {},
   "source": [
    "# Dewan Pers - Data Scrapper"
   ]
  },
  {
   "cell_type": "markdown",
   "id": "convertible-vegetable",
   "metadata": {},
   "source": [
    "---"
   ]
  },
  {
   "cell_type": "markdown",
   "id": "stock-credits",
   "metadata": {},
   "source": [
    "For introduction of Selenium, please be kind to open [**this site**](https://www.scrapingbee.com/blog/selenium-python/)"
   ]
  },
  {
   "cell_type": "markdown",
   "id": "charged-rebel",
   "metadata": {},
   "source": [
    "## Import modules"
   ]
  },
  {
   "cell_type": "code",
   "execution_count": null,
   "id": "noted-pollution",
   "metadata": {
    "scrolled": true
   },
   "outputs": [],
   "source": [
    "%pip freeze > requirements.txt"
   ]
  },
  {
   "cell_type": "code",
   "execution_count": 1,
   "id": "meaningful-japan",
   "metadata": {
    "ExecuteTime": {
     "end_time": "2020-06-19T23:39:06.502572Z",
     "start_time": "2020-06-19T23:39:06.497076Z"
    }
   },
   "outputs": [],
   "source": [
    "# Modules for web scraping\n",
    "from selenium import webdriver\n",
    "# URL encoding\n",
    "from requests.utils import requote_uri\n",
    "# Module for data manipulation\n",
    "import pandas as pd\n",
    "# Module for regular expression\n",
    "import re\n",
    "# Module for file management\n",
    "import os\n",
    "# Module for timing\n",
    "import time"
   ]
  },
  {
   "cell_type": "markdown",
   "id": "consolidated-battery",
   "metadata": {},
   "source": [
    "## Load the Chromedriver"
   ]
  },
  {
   "cell_type": "markdown",
   "id": "placed-yield",
   "metadata": {},
   "source": [
    "Read how to download webdriver for Chrome [**here**]('https://chromedriver.chromium.org/downloads')"
   ]
  },
  {
   "cell_type": "markdown",
   "id": "historical-necklace",
   "metadata": {},
   "source": [
    "**Options**"
   ]
  },
  {
   "cell_type": "code",
   "execution_count": 2,
   "id": "willing-binding",
   "metadata": {
    "ExecuteTime": {
     "end_time": "2020-07-06T10:12:15.101837Z",
     "start_time": "2020-07-06T10:12:15.095448Z"
    }
   },
   "outputs": [],
   "source": [
    "# Options for Chrome windows\n",
    "options = webdriver.ChromeOptions()\n",
    "options.add_argument('--start-maximized')\n",
    "options.add_argument('window-size=2560,1440')"
   ]
  },
  {
   "cell_type": "markdown",
   "id": "british-voice",
   "metadata": {},
   "source": [
    "**Chromedriver path**"
   ]
  },
  {
   "cell_type": "code",
   "execution_count": 22,
   "id": "narrow-cooper",
   "metadata": {
    "ExecuteTime": {
     "end_time": "2020-06-19T23:29:33.659375Z",
     "start_time": "2020-06-19T23:29:18.312261Z"
    }
   },
   "outputs": [],
   "source": [
    "DRIVER_PATH = '../bin/chromedriver'\n",
    "driver = webdriver.Chrome(executable_path = DRIVER_PATH, options = options)"
   ]
  },
  {
   "cell_type": "markdown",
   "id": "aerial-delivery",
   "metadata": {},
   "source": [
    "## Core Procedure"
   ]
  },
  {
   "cell_type": "markdown",
   "id": "federal-heading",
   "metadata": {},
   "source": [
    "**URL and Query**"
   ]
  },
  {
   "cell_type": "code",
   "execution_count": 42,
   "id": "median-finger",
   "metadata": {
    "ExecuteTime": {
     "end_time": "2020-07-06T10:12:30.969241Z",
     "start_time": "2020-07-06T10:12:30.951492Z"
    }
   },
   "outputs": [
    {
     "data": {
      "text/plain": [
       "'https://dewanpers.or.id/data/perusahaanpers'"
      ]
     },
     "execution_count": 42,
     "metadata": {},
     "output_type": "execute_result"
    }
   ],
   "source": [
    "# Main URL\n",
    "url_query = 'https://dewanpers.or.id/data/perusahaanpers'\n",
    "url_query"
   ]
  },
  {
   "cell_type": "code",
   "execution_count": 24,
   "id": "frank-poster",
   "metadata": {},
   "outputs": [
    {
     "data": {
      "text/plain": [
       "'E:\\\\AUDHI\\\\PROJECT\\\\DEWAN PERS\\\\notebook'"
      ]
     },
     "execution_count": 24,
     "metadata": {},
     "output_type": "execute_result"
    }
   ],
   "source": [
    "# Root directory\n",
    "dir_path = os.getcwd()\n",
    "dir_path"
   ]
  },
  {
   "cell_type": "markdown",
   "id": "complicated-macintosh",
   "metadata": {},
   "source": [
    "**Access website**"
   ]
  },
  {
   "cell_type": "code",
   "execution_count": 43,
   "id": "enhanced-amber",
   "metadata": {
    "ExecuteTime": {
     "end_time": "2020-07-06T10:12:51.755321Z",
     "start_time": "2020-07-06T10:12:36.696375Z"
    }
   },
   "outputs": [],
   "source": [
    "driver.get(url_query)\n",
    "driver.implicitly_wait(20)"
   ]
  },
  {
   "cell_type": "markdown",
   "id": "comic-jackson",
   "metadata": {},
   "source": [
    "**Switch to iframe**"
   ]
  },
  {
   "cell_type": "code",
   "execution_count": 54,
   "id": "standard-olympus",
   "metadata": {},
   "outputs": [],
   "source": [
    "driver.switch_to.frame(driver.find_element_by_tag_name('iframe'))"
   ]
  },
  {
   "cell_type": "markdown",
   "id": "consecutive-rouge",
   "metadata": {},
   "source": [
    "**List all product and its characteristics**"
   ]
  },
  {
   "cell_type": "code",
   "execution_count": 57,
   "id": "english-bargain",
   "metadata": {},
   "outputs": [
    {
     "data": {
      "text/plain": [
       "<selenium.webdriver.chrome.webdriver.WebDriver (session=\"e5285be4628951cba5b16cc9f3bc8fad\")>"
      ]
     },
     "execution_count": 57,
     "metadata": {},
     "output_type": "execute_result"
    }
   ],
   "source": [
    "driver"
   ]
  },
  {
   "cell_type": "code",
   "execution_count": 87,
   "id": "capital-afternoon",
   "metadata": {},
   "outputs": [
    {
     "data": {
      "text/plain": [
       "<selenium.webdriver.remote.webelement.WebElement (session=\"e5285be4628951cba5b16cc9f3bc8fad\", element=\"e395457e-c547-450f-afb0-db5bb09167dc\")>"
      ]
     },
     "execution_count": 87,
     "metadata": {},
     "output_type": "execute_result"
    }
   ],
   "source": [
    "looping_index = driver.find_elements_by_class_name('kv-panel-pager')[0]\n",
    "looping_index"
   ]
  },
  {
   "cell_type": "code",
   "execution_count": 92,
   "id": "every-truck",
   "metadata": {},
   "outputs": [],
   "source": [
    "# url\n",
    "url_idx = {}\n",
    "index = looping_index.find_elements_by_tag_name('a')\n",
    "for elem in index:\n",
    "    url_elem = elem.get_attribute('href')\n",
    "    index_elem = elem.get_attribute('text')\n",
    "    # Update\n",
    "    url_idx.update({url_elem: index_elem})"
   ]
  },
  {
   "cell_type": "code",
   "execution_count": 93,
   "id": "radical-adoption",
   "metadata": {},
   "outputs": [
    {
     "data": {
      "text/plain": [
       "{'https://datapers.dewanpers.or.id/site/iframe-verified?page=1&per-page=10': '1',\n",
       " 'https://datapers.dewanpers.or.id/site/iframe-verified?page=2&per-page=10': '»',\n",
       " 'https://datapers.dewanpers.or.id/site/iframe-verified?page=3&per-page=10': '3',\n",
       " 'https://datapers.dewanpers.or.id/site/iframe-verified?page=4&per-page=10': '4',\n",
       " 'https://datapers.dewanpers.or.id/site/iframe-verified?page=5&per-page=10': '5',\n",
       " 'https://datapers.dewanpers.or.id/site/iframe-verified?page=6&per-page=10': '6',\n",
       " 'https://datapers.dewanpers.or.id/site/iframe-verified?page=7&per-page=10': '7',\n",
       " 'https://datapers.dewanpers.or.id/site/iframe-verified?page=8&per-page=10': '8',\n",
       " 'https://datapers.dewanpers.or.id/site/iframe-verified?page=9&per-page=10': '9',\n",
       " 'https://datapers.dewanpers.or.id/site/iframe-verified?page=10&per-page=10': '10'}"
      ]
     },
     "execution_count": 93,
     "metadata": {},
     "output_type": "execute_result"
    }
   ],
   "source": [
    "url_idx"
   ]
  },
  {
   "cell_type": "markdown",
   "id": "straight-rhythm",
   "metadata": {},
   "source": [
    "**Access each website**"
   ]
  },
  {
   "cell_type": "code",
   "execution_count": 100,
   "id": "proud-ordinary",
   "metadata": {},
   "outputs": [
    {
     "data": {
      "text/plain": [
       "'https://datapers.dewanpers.or.id/site/iframe-verified?page=1&per-page=10'"
      ]
     },
     "execution_count": 100,
     "metadata": {},
     "output_type": "execute_result"
    }
   ],
   "source": [
    "url_selected = list(url_idx)[0]\n",
    "url_selected"
   ]
  },
  {
   "cell_type": "code",
   "execution_count": 101,
   "id": "national-serial",
   "metadata": {},
   "outputs": [],
   "source": [
    "driver.get(url_selected)\n",
    "driver.implicitly_wait(20)"
   ]
  },
  {
   "cell_type": "markdown",
   "id": "given-choice",
   "metadata": {},
   "source": [
    "**Get the tables**"
   ]
  },
  {
   "cell_type": "code",
   "execution_count": 118,
   "id": "raised-robert",
   "metadata": {},
   "outputs": [
    {
     "name": "stdout",
     "output_type": "stream",
     "text": [
      "Nama Media\n",
      "Jenis Media\n",
      "Penanggung Jawab\n",
      "Pemimpin Redaksi\n",
      "Badan Hukum\n",
      "Provinsi\n",
      "Alamat\n",
      "Telp\n",
      "Email\n",
      "Website\n",
      "Status\n",
      "Tgl Approve\n",
      "\n",
      "Column length is about 12\n"
     ]
    }
   ],
   "source": [
    "# Column length\n",
    "cols = []\n",
    "for elem in driver.find_elements_by_tag_name('tr')[0].find_elements_by_tag_name('a'):\n",
    "    col = elem.get_attribute('text')\n",
    "    cols.append(col)\n",
    "    print(col)\n",
    "\n",
    "print('\\nColumn length is about {len_col}'.format(len_col = len(cols)))"
   ]
  },
  {
   "cell_type": "code",
   "execution_count": 140,
   "id": "caroline-clearance",
   "metadata": {},
   "outputs": [
    {
     "data": {
      "text/plain": [
       "10"
      ]
     },
     "execution_count": 140,
     "metadata": {},
     "output_type": "execute_result"
    }
   ],
   "source": [
    "# Number of rows\n",
    "rows = driver.find_elements_by_tag_name('tbody')[0].find_elements_by_tag_name('tr')\n",
    "len(rows)"
   ]
  },
  {
   "cell_type": "code",
   "execution_count": 144,
   "id": "varied-mainstream",
   "metadata": {},
   "outputs": [
    {
     "data": {
      "text/plain": [
       "13"
      ]
     },
     "execution_count": 144,
     "metadata": {},
     "output_type": "execute_result"
    }
   ],
   "source": [
    "# Elements\n",
    "first_row = rows[0].find_elements_by_tag_name('td')\n",
    "len(first_row)"
   ]
  },
  {
   "cell_type": "code",
   "execution_count": 181,
   "id": "extended-heating",
   "metadata": {},
   "outputs": [],
   "source": [
    "# Dictionary for saving the data\n",
    "dic = {\n",
    "    'number': [],\n",
    "    'nama_media': [],\n",
    "    'jenis_media': [],\n",
    "    'penanggung_jawab': [],\n",
    "    'pemimpin_redaksi': [],\n",
    "    'badan_hukum': [],\n",
    "    'provinsi': [],\n",
    "    'alamat': [],\n",
    "    'telp': [],\n",
    "    'email': [],\n",
    "    'website': [],\n",
    "    'status': [],\n",
    "    'tgl_approve': []\n",
    "}"
   ]
  },
  {
   "cell_type": "code",
   "execution_count": 182,
   "id": "federal-sight",
   "metadata": {},
   "outputs": [],
   "source": [
    "for elem in rows:\n",
    "    values = elem.find_elements_by_tag_name('td')\n",
    "    for i in range(len(values)):\n",
    "        dic[list(dic)[i]].append(values[i].text)"
   ]
  },
  {
   "cell_type": "code",
   "execution_count": 183,
   "id": "compatible-ticket",
   "metadata": {
    "scrolled": true
   },
   "outputs": [
    {
     "data": {
      "text/plain": [
       "{'number': ['1', '2', '3', '4', '5', '6', '7', '8', '9', '10'],\n",
       " 'nama_media': ['kaltimtoday.co',\n",
       "  'Tekape.co',\n",
       "  'digtara.com',\n",
       "  'CNBC Indonesia',\n",
       "  'Swara Kaltim',\n",
       "  'viralsumsel.com',\n",
       "  'Wideazone.com',\n",
       "  'Pedoman Media',\n",
       "  'mediaadvokasi.com',\n",
       "  'metrobali.com'],\n",
       " 'jenis_media': ['Siber',\n",
       "  'Siber',\n",
       "  'Siber',\n",
       "  'Televisi',\n",
       "  'Cetak',\n",
       "  'Siber',\n",
       "  'Siber',\n",
       "  'Cetak',\n",
       "  'Siber',\n",
       "  'Siber'],\n",
       " 'penanggung_jawab': ['Maturidi',\n",
       "  'Indar Ismail Jamaluddin',\n",
       "  'Irwansyah Putra Nasution',\n",
       "  'Wahyu Daniel Panjaitan',\n",
       "  'Muhammad Syafranuddin',\n",
       "  'Darwin Syarkowi',\n",
       "  'Oktap Riyadi',\n",
       "  'Marselius Gusti Palumpun',\n",
       "  'Saidiono',\n",
       "  'I Wayan Suana'],\n",
       " 'pemimpin_redaksi': ['Maturidi',\n",
       "  'Indar Ismail Jamaluddin',\n",
       "  'Irwansyah Putra Nasution',\n",
       "  'Wahyu Daniel Panjaitan',\n",
       "  'Mohammad Abdun Kuddu',\n",
       "  'Darwin Syarkowi',\n",
       "  'Oktap Riyadi',\n",
       "  'Marselius Gusti Palumpun',\n",
       "  'Saidiono',\n",
       "  'I Wayan Suarna'],\n",
       " 'badan_hukum': ['Media mandiri perkasa',\n",
       "  'Tempat Kreatifitas Anak Muda Pore',\n",
       "  'MEDIA IBE NUSANTARA',\n",
       "  'Trans Berita Bisnis',\n",
       "  'Media Swara Kaltim',\n",
       "  'Musi Media Indonesia',\n",
       "  'Intermedia Wahana Mandiri',\n",
       "  'Media Rakyat Publik',\n",
       "  'Pahri Bersaudara Bersatu',\n",
       "  'Metrobali.com'],\n",
       " 'provinsi': ['Kalimantan Timur',\n",
       "  'Sulawesi Selatan',\n",
       "  'Sumatera Utara',\n",
       "  'DKI Jakarta',\n",
       "  'Kalimantan Timur',\n",
       "  'Sumatera Selatan',\n",
       "  'Sumatera Selatan',\n",
       "  'Sulawesi Selatan',\n",
       "  'Sumatera Selatan',\n",
       "  'Bali'],\n",
       " 'alamat': ['Jalan a wahab syahrani gang walet 1 No 2, samarinda utara, samarinda',\n",
       "  'Perumahan New Graha Jannah Zarindah, Blok B3/3, RT03/RW03, Kelurahan Songka, Kecamatan Wara Selatan, Kota Palopo, Provinsi Sulawesi Selatan',\n",
       "  'Komplek Taman Setia Budi Indah Blok JJ 10',\n",
       "  'Gedung Transmedia Lantai 3A, Jl. Kapten P. Tendean Kav 12-14 A Kelurahan Mampang Prapatan, Kecamatan Mampang Prapatan, Jakarta Selatan, DKI Jakarta',\n",
       "  'JL. Gerilya Gg. Keluarga Rt. 102 No. 027 Kelurahan: Sungai Pinang Dalam, Kecamatan : Sungai Pinang, Kota: Samarinda',\n",
       "  'Griya Nusa Pesona Blok I No 4 Kelurahan Talang Kelapa Kecamatan Alang-Alang Lebar',\n",
       "  'Jalan Veteran No. 907 RT 14 RW. 04 Kel. 20 Ilir D.I Kec. Ilir Timur 1 Palembang',\n",
       "  'Jalan Perratani, Ruko New Zamrud C/18',\n",
       "  'Jl. Pipa Lebong Siareng No.3832',\n",
       "  'Jl. Gunung Sari V No. 100X, Denpasar Barat'],\n",
       " 'telp': ['082216557666',\n",
       "  '0853 9696 8189',\n",
       "  '0821-6648-2003/0852-6109-5279',\n",
       "  '021-79177000',\n",
       "  '0541 731240',\n",
       "  '081373805533',\n",
       "  '081212444644',\n",
       "  '085299379841',\n",
       "  '08117870039',\n",
       "  '(0361) 482852'],\n",
       " 'email': ['kaltimtoday99@gmail.com',\n",
       "  'redaksi@tekape.co | redaksitekape@gmail.com',\n",
       "  'redaksidigtara@gmail.com',\n",
       "  'legaltbb@gmail.com',\n",
       "  'mediaswarakaltim@yahoo.com',\n",
       "  'viralsumsel@yahoo.com',\n",
       "  'redaksi.wideazone@gmail.com',\n",
       "  'redaksi.pedomanmedia@gmail.com',\n",
       "  'anshor280190@gmail.com',\n",
       "  'metrobali@ymail.com'],\n",
       " 'website': ['www.kaltimtoday.co',\n",
       "  'https://tekape.co/',\n",
       "  'digtara.com',\n",
       "  'www.cnbcindonesia.com',\n",
       "  'https://swarakaltim.com',\n",
       "  'http://www.viralsumsel.com/',\n",
       "  'https://wideazone.com/',\n",
       "  'https://pedoman.media/',\n",
       "  'https://www.mediaadvokasi.com/',\n",
       "  'metrobali.com'],\n",
       " 'status': ['Terverifikasi Administratif',\n",
       "  'Terverifikasi Administratif',\n",
       "  'Terverifikasi Administratif dan Faktual',\n",
       "  'Terverifikasi Administratif dan Faktual',\n",
       "  'Terverifikasi Administratif dan Faktual',\n",
       "  'Terverifikasi Administratif dan Faktual',\n",
       "  'Terverifikasi Administratif dan Faktual',\n",
       "  'Terverifikasi Administratif dan Faktual',\n",
       "  'Terverifikasi Administratif dan Faktual',\n",
       "  'Terverifikasi Administratif dan Faktual'],\n",
       " 'tgl_approve': ['2021-07-05',\n",
       "  '2021-07-05',\n",
       "  '2021-06-30',\n",
       "  '2021-06-30',\n",
       "  '2021-06-30',\n",
       "  '2021-06-30',\n",
       "  '2021-06-30',\n",
       "  '2021-06-30',\n",
       "  '2021-06-30',\n",
       "  '2021-06-30']}"
      ]
     },
     "execution_count": 183,
     "metadata": {},
     "output_type": "execute_result"
    }
   ],
   "source": [
    "dic"
   ]
  },
  {
   "cell_type": "markdown",
   "id": "computational-dress",
   "metadata": {},
   "source": [
    "**Create a dataframe**"
   ]
  },
  {
   "cell_type": "code",
   "execution_count": 193,
   "id": "under-behavior",
   "metadata": {},
   "outputs": [
    {
     "data": {
      "text/html": [
       "<div>\n",
       "<style scoped>\n",
       "    .dataframe tbody tr th:only-of-type {\n",
       "        vertical-align: middle;\n",
       "    }\n",
       "\n",
       "    .dataframe tbody tr th {\n",
       "        vertical-align: top;\n",
       "    }\n",
       "\n",
       "    .dataframe thead th {\n",
       "        text-align: right;\n",
       "    }\n",
       "</style>\n",
       "<table border=\"1\" class=\"dataframe\">\n",
       "  <thead>\n",
       "    <tr style=\"text-align: right;\">\n",
       "      <th></th>\n",
       "      <th>Number</th>\n",
       "      <th>Nama Media</th>\n",
       "      <th>Jenis Media</th>\n",
       "      <th>Penanggung Jawab</th>\n",
       "      <th>Pemimpin Redaksi</th>\n",
       "      <th>Badan Hukum</th>\n",
       "      <th>Provinsi</th>\n",
       "      <th>Alamat</th>\n",
       "      <th>Telp</th>\n",
       "      <th>Email</th>\n",
       "      <th>Website</th>\n",
       "      <th>Status</th>\n",
       "      <th>Tgl Approve</th>\n",
       "    </tr>\n",
       "  </thead>\n",
       "  <tbody>\n",
       "    <tr>\n",
       "      <th>0</th>\n",
       "      <td>1</td>\n",
       "      <td>kaltimtoday.co</td>\n",
       "      <td>Siber</td>\n",
       "      <td>Maturidi</td>\n",
       "      <td>Maturidi</td>\n",
       "      <td>Media mandiri perkasa</td>\n",
       "      <td>Kalimantan Timur</td>\n",
       "      <td>Jalan a wahab syahrani gang walet 1 No 2, sama...</td>\n",
       "      <td>082216557666</td>\n",
       "      <td>kaltimtoday99@gmail.com</td>\n",
       "      <td>www.kaltimtoday.co</td>\n",
       "      <td>Terverifikasi Administratif</td>\n",
       "      <td>2021-07-05</td>\n",
       "    </tr>\n",
       "    <tr>\n",
       "      <th>1</th>\n",
       "      <td>2</td>\n",
       "      <td>Tekape.co</td>\n",
       "      <td>Siber</td>\n",
       "      <td>Indar Ismail Jamaluddin</td>\n",
       "      <td>Indar Ismail Jamaluddin</td>\n",
       "      <td>Tempat Kreatifitas Anak Muda Pore</td>\n",
       "      <td>Sulawesi Selatan</td>\n",
       "      <td>Perumahan New Graha Jannah Zarindah, Blok B3/3...</td>\n",
       "      <td>0853 9696 8189</td>\n",
       "      <td>redaksi@tekape.co | redaksitekape@gmail.com</td>\n",
       "      <td>https://tekape.co/</td>\n",
       "      <td>Terverifikasi Administratif</td>\n",
       "      <td>2021-07-05</td>\n",
       "    </tr>\n",
       "    <tr>\n",
       "      <th>2</th>\n",
       "      <td>3</td>\n",
       "      <td>digtara.com</td>\n",
       "      <td>Siber</td>\n",
       "      <td>Irwansyah Putra Nasution</td>\n",
       "      <td>Irwansyah Putra Nasution</td>\n",
       "      <td>MEDIA IBE NUSANTARA</td>\n",
       "      <td>Sumatera Utara</td>\n",
       "      <td>Komplek Taman Setia Budi Indah Blok JJ 10</td>\n",
       "      <td>0821-6648-2003/0852-6109-5279</td>\n",
       "      <td>redaksidigtara@gmail.com</td>\n",
       "      <td>digtara.com</td>\n",
       "      <td>Terverifikasi Administratif dan Faktual</td>\n",
       "      <td>2021-06-30</td>\n",
       "    </tr>\n",
       "    <tr>\n",
       "      <th>3</th>\n",
       "      <td>4</td>\n",
       "      <td>CNBC Indonesia</td>\n",
       "      <td>Televisi</td>\n",
       "      <td>Wahyu Daniel Panjaitan</td>\n",
       "      <td>Wahyu Daniel Panjaitan</td>\n",
       "      <td>Trans Berita Bisnis</td>\n",
       "      <td>DKI Jakarta</td>\n",
       "      <td>Gedung Transmedia Lantai 3A, Jl. Kapten P. Ten...</td>\n",
       "      <td>021-79177000</td>\n",
       "      <td>legaltbb@gmail.com</td>\n",
       "      <td>www.cnbcindonesia.com</td>\n",
       "      <td>Terverifikasi Administratif dan Faktual</td>\n",
       "      <td>2021-06-30</td>\n",
       "    </tr>\n",
       "    <tr>\n",
       "      <th>4</th>\n",
       "      <td>5</td>\n",
       "      <td>Swara Kaltim</td>\n",
       "      <td>Cetak</td>\n",
       "      <td>Muhammad Syafranuddin</td>\n",
       "      <td>Mohammad Abdun Kuddu</td>\n",
       "      <td>Media Swara Kaltim</td>\n",
       "      <td>Kalimantan Timur</td>\n",
       "      <td>JL. Gerilya Gg. Keluarga Rt. 102 No. 027 Kelur...</td>\n",
       "      <td>0541 731240</td>\n",
       "      <td>mediaswarakaltim@yahoo.com</td>\n",
       "      <td>https://swarakaltim.com</td>\n",
       "      <td>Terverifikasi Administratif dan Faktual</td>\n",
       "      <td>2021-06-30</td>\n",
       "    </tr>\n",
       "  </tbody>\n",
       "</table>\n",
       "</div>"
      ],
      "text/plain": [
       "  Number      Nama Media Jenis Media          Penanggung Jawab  \\\n",
       "0      1  kaltimtoday.co       Siber                  Maturidi   \n",
       "1      2       Tekape.co       Siber   Indar Ismail Jamaluddin   \n",
       "2      3     digtara.com       Siber  Irwansyah Putra Nasution   \n",
       "3      4  CNBC Indonesia    Televisi    Wahyu Daniel Panjaitan   \n",
       "4      5    Swara Kaltim       Cetak     Muhammad Syafranuddin   \n",
       "\n",
       "           Pemimpin Redaksi                        Badan Hukum  \\\n",
       "0                  Maturidi              Media mandiri perkasa   \n",
       "1   Indar Ismail Jamaluddin  Tempat Kreatifitas Anak Muda Pore   \n",
       "2  Irwansyah Putra Nasution                MEDIA IBE NUSANTARA   \n",
       "3    Wahyu Daniel Panjaitan                Trans Berita Bisnis   \n",
       "4      Mohammad Abdun Kuddu                 Media Swara Kaltim   \n",
       "\n",
       "           Provinsi                                             Alamat  \\\n",
       "0  Kalimantan Timur  Jalan a wahab syahrani gang walet 1 No 2, sama...   \n",
       "1  Sulawesi Selatan  Perumahan New Graha Jannah Zarindah, Blok B3/3...   \n",
       "2    Sumatera Utara          Komplek Taman Setia Budi Indah Blok JJ 10   \n",
       "3       DKI Jakarta  Gedung Transmedia Lantai 3A, Jl. Kapten P. Ten...   \n",
       "4  Kalimantan Timur  JL. Gerilya Gg. Keluarga Rt. 102 No. 027 Kelur...   \n",
       "\n",
       "                            Telp                                        Email  \\\n",
       "0                   082216557666                      kaltimtoday99@gmail.com   \n",
       "1                 0853 9696 8189  redaksi@tekape.co | redaksitekape@gmail.com   \n",
       "2  0821-6648-2003/0852-6109-5279                     redaksidigtara@gmail.com   \n",
       "3                   021-79177000                           legaltbb@gmail.com   \n",
       "4                    0541 731240                   mediaswarakaltim@yahoo.com   \n",
       "\n",
       "                   Website                                   Status  \\\n",
       "0       www.kaltimtoday.co              Terverifikasi Administratif   \n",
       "1       https://tekape.co/              Terverifikasi Administratif   \n",
       "2              digtara.com  Terverifikasi Administratif dan Faktual   \n",
       "3    www.cnbcindonesia.com  Terverifikasi Administratif dan Faktual   \n",
       "4  https://swarakaltim.com  Terverifikasi Administratif dan Faktual   \n",
       "\n",
       "  Tgl Approve  \n",
       "0  2021-07-05  \n",
       "1  2021-07-05  \n",
       "2  2021-06-30  \n",
       "3  2021-06-30  \n",
       "4  2021-06-30  "
      ]
     },
     "execution_count": 193,
     "metadata": {},
     "output_type": "execute_result"
    }
   ],
   "source": [
    "# Create a dataframe\n",
    "df = pd.DataFrame.from_dict(\n",
    "    data = dic\n",
    ")\n",
    "# Rename columns\n",
    "df.columns = ['Number'] + cols\n",
    "df.head()"
   ]
  },
  {
   "cell_type": "markdown",
   "id": "visible-bulgarian",
   "metadata": {},
   "source": [
    "---"
   ]
  },
  {
   "cell_type": "markdown",
   "id": "nuclear-rescue",
   "metadata": {},
   "source": [
    "## Full version"
   ]
  },
  {
   "cell_type": "code",
   "execution_count": 2,
   "id": "willing-binding",
   "metadata": {
    "ExecuteTime": {
     "end_time": "2020-07-06T10:12:15.101837Z",
     "start_time": "2020-07-06T10:12:15.095448Z"
    }
   },
   "outputs": [],
   "source": [
    "# Options for Chrome windows\n",
    "options = webdriver.ChromeOptions()\n",
    "options.add_argument('--start-maximized')\n",
    "options.add_argument('window-size=2560,1440')"
   ]
  },
  {
   "cell_type": "code",
   "execution_count": 3,
   "id": "narrow-cooper",
   "metadata": {
    "ExecuteTime": {
     "end_time": "2020-06-19T23:29:33.659375Z",
     "start_time": "2020-06-19T23:29:18.312261Z"
    }
   },
   "outputs": [],
   "source": [
    "DRIVER_PATH = '../bin/chromedriver'\n",
    "driver = webdriver.Chrome(executable_path = DRIVER_PATH, options = options)"
   ]
  },
  {
   "cell_type": "code",
   "execution_count": 4,
   "id": "raising-iraqi",
   "metadata": {},
   "outputs": [
    {
     "data": {
      "text/plain": [
       "'https://dewanpers.or.id/data/perusahaanpers'"
      ]
     },
     "execution_count": 4,
     "metadata": {},
     "output_type": "execute_result"
    }
   ],
   "source": [
    "# Main URL\n",
    "url_query = 'https://dewanpers.or.id/data/perusahaanpers'\n",
    "url_query"
   ]
  },
  {
   "cell_type": "code",
   "execution_count": 5,
   "id": "liked-advisory",
   "metadata": {},
   "outputs": [],
   "source": [
    "driver.get(url_query)\n",
    "driver.implicitly_wait(20)"
   ]
  },
  {
   "cell_type": "code",
   "execution_count": 6,
   "id": "absent-brush",
   "metadata": {},
   "outputs": [],
   "source": [
    "# irframe\n",
    "driver.switch_to.frame(driver.find_element_by_tag_name('iframe'))"
   ]
  },
  {
   "cell_type": "code",
   "execution_count": 7,
   "id": "modern-variable",
   "metadata": {},
   "outputs": [],
   "source": [
    "# Loop url\n",
    "looping_index = driver.find_elements_by_class_name('kv-panel-pager')[0]"
   ]
  },
  {
   "cell_type": "code",
   "execution_count": 8,
   "id": "furnished-scoop",
   "metadata": {},
   "outputs": [],
   "source": [
    "# url\n",
    "url_idx = {}\n",
    "index = looping_index.find_elements_by_tag_name('a')\n",
    "for elem in index:\n",
    "    url_elem = elem.get_attribute('href')\n",
    "    index_elem = elem.get_attribute('text')\n",
    "    # Update\n",
    "    url_idx.update({url_elem: index_elem})"
   ]
  },
  {
   "cell_type": "code",
   "execution_count": 9,
   "id": "bulgarian-klein",
   "metadata": {},
   "outputs": [
    {
     "data": {
      "text/plain": [
       "{'https://datapers.dewanpers.or.id/site/iframe-verified?page=1&per-page=10': '1',\n",
       " 'https://datapers.dewanpers.or.id/site/iframe-verified?page=2&per-page=10': '»',\n",
       " 'https://datapers.dewanpers.or.id/site/iframe-verified?page=3&per-page=10': '3',\n",
       " 'https://datapers.dewanpers.or.id/site/iframe-verified?page=4&per-page=10': '4',\n",
       " 'https://datapers.dewanpers.or.id/site/iframe-verified?page=5&per-page=10': '5',\n",
       " 'https://datapers.dewanpers.or.id/site/iframe-verified?page=6&per-page=10': '6',\n",
       " 'https://datapers.dewanpers.or.id/site/iframe-verified?page=7&per-page=10': '7',\n",
       " 'https://datapers.dewanpers.or.id/site/iframe-verified?page=8&per-page=10': '8',\n",
       " 'https://datapers.dewanpers.or.id/site/iframe-verified?page=9&per-page=10': '9',\n",
       " 'https://datapers.dewanpers.or.id/site/iframe-verified?page=10&per-page=10': '10'}"
      ]
     },
     "execution_count": 9,
     "metadata": {},
     "output_type": "execute_result"
    }
   ],
   "source": [
    "url_idx"
   ]
  },
  {
   "cell_type": "code",
   "execution_count": 10,
   "id": "thick-browser",
   "metadata": {},
   "outputs": [],
   "source": [
    "# Dictionary for saving the data\n",
    "dic = {\n",
    "    'number': [],\n",
    "    'nama_media': [],\n",
    "    'jenis_media': [],\n",
    "    'penanggung_jawab': [],\n",
    "    'pemimpin_redaksi': [],\n",
    "    'badan_hukum': [],\n",
    "    'provinsi': [],\n",
    "    'alamat': [],\n",
    "    'telp': [],\n",
    "    'email': [],\n",
    "    'website': [],\n",
    "    'status': [],\n",
    "    'tgl_approve': []\n",
    "}"
   ]
  },
  {
   "cell_type": "code",
   "execution_count": 11,
   "id": "suspended-strip",
   "metadata": {},
   "outputs": [],
   "source": [
    "loop = 1\n",
    "len_rows = 10\n",
    "while len_rows == 10:\n",
    "    url_selected = 'https://datapers.dewanpers.or.id/site/iframe-verified?page={}&per-page=10'.format(loop)\n",
    "    # Access the website\n",
    "    driver.get(url_selected)\n",
    "    driver.implicitly_wait(20)    \n",
    "    # Get the rows\n",
    "    rows = driver.find_elements_by_tag_name('tbody')[0].find_elements_by_tag_name('tr')\n",
    "    for elem in rows:\n",
    "        values = elem.find_elements_by_tag_name('td')\n",
    "        for i in range(len(values)):\n",
    "            dic[list(dic)[i]].append(values[i].text)\n",
    "    # Save the column name\n",
    "    if loop == 1:\n",
    "        cols = []\n",
    "        for elem in driver.find_elements_by_tag_name('tr')[0].find_elements_by_tag_name('a'):\n",
    "            col = elem.get_attribute('text')\n",
    "            cols.append(col)\n",
    "    else:\n",
    "        pass\n",
    "    loop += 1\n",
    "    len_rows = len(rows)"
   ]
  },
  {
   "cell_type": "code",
   "execution_count": 12,
   "id": "inside-culture",
   "metadata": {},
   "outputs": [
    {
     "data": {
      "text/plain": [
       "1621"
      ]
     },
     "execution_count": 12,
     "metadata": {},
     "output_type": "execute_result"
    }
   ],
   "source": [
    "len(dic['number'])"
   ]
  },
  {
   "cell_type": "code",
   "execution_count": 13,
   "id": "straight-complement",
   "metadata": {},
   "outputs": [
    {
     "data": {
      "text/html": [
       "<div>\n",
       "<style scoped>\n",
       "    .dataframe tbody tr th:only-of-type {\n",
       "        vertical-align: middle;\n",
       "    }\n",
       "\n",
       "    .dataframe tbody tr th {\n",
       "        vertical-align: top;\n",
       "    }\n",
       "\n",
       "    .dataframe thead th {\n",
       "        text-align: right;\n",
       "    }\n",
       "</style>\n",
       "<table border=\"1\" class=\"dataframe\">\n",
       "  <thead>\n",
       "    <tr style=\"text-align: right;\">\n",
       "      <th></th>\n",
       "      <th>Number</th>\n",
       "      <th>Nama Media</th>\n",
       "      <th>Jenis Media</th>\n",
       "      <th>Penanggung Jawab</th>\n",
       "      <th>Pemimpin Redaksi</th>\n",
       "      <th>Badan Hukum</th>\n",
       "      <th>Provinsi</th>\n",
       "      <th>Alamat</th>\n",
       "      <th>Telp</th>\n",
       "      <th>Email</th>\n",
       "      <th>Website</th>\n",
       "      <th>Status</th>\n",
       "      <th>Tgl Approve</th>\n",
       "    </tr>\n",
       "  </thead>\n",
       "  <tbody>\n",
       "    <tr>\n",
       "      <th>0</th>\n",
       "      <td>1</td>\n",
       "      <td>kaltimtoday.co</td>\n",
       "      <td>Siber</td>\n",
       "      <td>Maturidi</td>\n",
       "      <td>Maturidi</td>\n",
       "      <td>Media mandiri perkasa</td>\n",
       "      <td>Kalimantan Timur</td>\n",
       "      <td>Jalan a wahab syahrani gang walet 1 No 2, sama...</td>\n",
       "      <td>082216557666</td>\n",
       "      <td>kaltimtoday99@gmail.com</td>\n",
       "      <td>www.kaltimtoday.co</td>\n",
       "      <td>Terverifikasi Administratif</td>\n",
       "      <td>2021-07-05</td>\n",
       "    </tr>\n",
       "    <tr>\n",
       "      <th>1</th>\n",
       "      <td>2</td>\n",
       "      <td>Tekape.co</td>\n",
       "      <td>Siber</td>\n",
       "      <td>Indar Ismail Jamaluddin</td>\n",
       "      <td>Indar Ismail Jamaluddin</td>\n",
       "      <td>Tempat Kreatifitas Anak Muda Pore</td>\n",
       "      <td>Sulawesi Selatan</td>\n",
       "      <td>Perumahan New Graha Jannah Zarindah, Blok B3/3...</td>\n",
       "      <td>0853 9696 8189</td>\n",
       "      <td>redaksi@tekape.co | redaksitekape@gmail.com</td>\n",
       "      <td>https://tekape.co/</td>\n",
       "      <td>Terverifikasi Administratif</td>\n",
       "      <td>2021-07-05</td>\n",
       "    </tr>\n",
       "    <tr>\n",
       "      <th>2</th>\n",
       "      <td>3</td>\n",
       "      <td>digtara.com</td>\n",
       "      <td>Siber</td>\n",
       "      <td>Irwansyah Putra Nasution</td>\n",
       "      <td>Irwansyah Putra Nasution</td>\n",
       "      <td>MEDIA IBE NUSANTARA</td>\n",
       "      <td>Sumatera Utara</td>\n",
       "      <td>Komplek Taman Setia Budi Indah Blok JJ 10</td>\n",
       "      <td>0821-6648-2003/0852-6109-5279</td>\n",
       "      <td>redaksidigtara@gmail.com</td>\n",
       "      <td>digtara.com</td>\n",
       "      <td>Terverifikasi Administratif dan Faktual</td>\n",
       "      <td>2021-06-30</td>\n",
       "    </tr>\n",
       "    <tr>\n",
       "      <th>3</th>\n",
       "      <td>4</td>\n",
       "      <td>CNBC Indonesia</td>\n",
       "      <td>Televisi</td>\n",
       "      <td>Wahyu Daniel Panjaitan</td>\n",
       "      <td>Wahyu Daniel Panjaitan</td>\n",
       "      <td>Trans Berita Bisnis</td>\n",
       "      <td>DKI Jakarta</td>\n",
       "      <td>Gedung Transmedia Lantai 3A, Jl. Kapten P. Ten...</td>\n",
       "      <td>021-79177000</td>\n",
       "      <td>legaltbb@gmail.com</td>\n",
       "      <td>www.cnbcindonesia.com</td>\n",
       "      <td>Terverifikasi Administratif dan Faktual</td>\n",
       "      <td>2021-06-30</td>\n",
       "    </tr>\n",
       "    <tr>\n",
       "      <th>4</th>\n",
       "      <td>5</td>\n",
       "      <td>Swara Kaltim</td>\n",
       "      <td>Cetak</td>\n",
       "      <td>Muhammad Syafranuddin</td>\n",
       "      <td>Mohammad Abdun Kuddu</td>\n",
       "      <td>Media Swara Kaltim</td>\n",
       "      <td>Kalimantan Timur</td>\n",
       "      <td>JL. Gerilya Gg. Keluarga Rt. 102 No. 027 Kelur...</td>\n",
       "      <td>0541 731240</td>\n",
       "      <td>mediaswarakaltim@yahoo.com</td>\n",
       "      <td>https://swarakaltim.com</td>\n",
       "      <td>Terverifikasi Administratif dan Faktual</td>\n",
       "      <td>2021-06-30</td>\n",
       "    </tr>\n",
       "  </tbody>\n",
       "</table>\n",
       "</div>"
      ],
      "text/plain": [
       "  Number      Nama Media Jenis Media          Penanggung Jawab  \\\n",
       "0      1  kaltimtoday.co       Siber                  Maturidi   \n",
       "1      2       Tekape.co       Siber   Indar Ismail Jamaluddin   \n",
       "2      3     digtara.com       Siber  Irwansyah Putra Nasution   \n",
       "3      4  CNBC Indonesia    Televisi    Wahyu Daniel Panjaitan   \n",
       "4      5    Swara Kaltim       Cetak     Muhammad Syafranuddin   \n",
       "\n",
       "           Pemimpin Redaksi                        Badan Hukum  \\\n",
       "0                  Maturidi              Media mandiri perkasa   \n",
       "1   Indar Ismail Jamaluddin  Tempat Kreatifitas Anak Muda Pore   \n",
       "2  Irwansyah Putra Nasution                MEDIA IBE NUSANTARA   \n",
       "3    Wahyu Daniel Panjaitan                Trans Berita Bisnis   \n",
       "4      Mohammad Abdun Kuddu                 Media Swara Kaltim   \n",
       "\n",
       "           Provinsi                                             Alamat  \\\n",
       "0  Kalimantan Timur  Jalan a wahab syahrani gang walet 1 No 2, sama...   \n",
       "1  Sulawesi Selatan  Perumahan New Graha Jannah Zarindah, Blok B3/3...   \n",
       "2    Sumatera Utara          Komplek Taman Setia Budi Indah Blok JJ 10   \n",
       "3       DKI Jakarta  Gedung Transmedia Lantai 3A, Jl. Kapten P. Ten...   \n",
       "4  Kalimantan Timur  JL. Gerilya Gg. Keluarga Rt. 102 No. 027 Kelur...   \n",
       "\n",
       "                            Telp                                        Email  \\\n",
       "0                   082216557666                      kaltimtoday99@gmail.com   \n",
       "1                 0853 9696 8189  redaksi@tekape.co | redaksitekape@gmail.com   \n",
       "2  0821-6648-2003/0852-6109-5279                     redaksidigtara@gmail.com   \n",
       "3                   021-79177000                           legaltbb@gmail.com   \n",
       "4                    0541 731240                   mediaswarakaltim@yahoo.com   \n",
       "\n",
       "                   Website                                   Status  \\\n",
       "0       www.kaltimtoday.co              Terverifikasi Administratif   \n",
       "1       https://tekape.co/              Terverifikasi Administratif   \n",
       "2              digtara.com  Terverifikasi Administratif dan Faktual   \n",
       "3    www.cnbcindonesia.com  Terverifikasi Administratif dan Faktual   \n",
       "4  https://swarakaltim.com  Terverifikasi Administratif dan Faktual   \n",
       "\n",
       "  Tgl Approve  \n",
       "0  2021-07-05  \n",
       "1  2021-07-05  \n",
       "2  2021-06-30  \n",
       "3  2021-06-30  \n",
       "4  2021-06-30  "
      ]
     },
     "execution_count": 13,
     "metadata": {},
     "output_type": "execute_result"
    }
   ],
   "source": [
    "# Save to csv\n",
    "# Create a dataframe\n",
    "df = pd.DataFrame.from_dict(\n",
    "    data = dic\n",
    ")\n",
    "# Rename columns\n",
    "df.columns = ['Number'] + cols\n",
    "df.head()"
   ]
  },
  {
   "cell_type": "code",
   "execution_count": 15,
   "id": "brazilian-acrobat",
   "metadata": {},
   "outputs": [],
   "source": [
    "# Save into local computer\n",
    "df.to_csv('../data/raw/raw_dewan_pers.csv', sep = ';', index = False)"
   ]
  }
 ],
 "metadata": {
  "kernelspec": {
   "display_name": "Python 3",
   "language": "python",
   "name": "python3"
  },
  "language_info": {
   "codemirror_mode": {
    "name": "ipython",
    "version": 3
   },
   "file_extension": ".py",
   "mimetype": "text/x-python",
   "name": "python",
   "nbconvert_exporter": "python",
   "pygments_lexer": "ipython3",
   "version": "3.8.3"
  }
 },
 "nbformat": 4,
 "nbformat_minor": 5
}
